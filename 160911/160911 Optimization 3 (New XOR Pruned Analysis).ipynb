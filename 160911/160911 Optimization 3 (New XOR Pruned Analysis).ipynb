{
 "cells": [
  {
   "cell_type": "code",
   "execution_count": 1,
   "metadata": {
    "collapsed": false
   },
   "outputs": [
    {
     "name": "stdout",
     "output_type": "stream",
     "text": [
      "Populating the interactive namespace from numpy and matplotlib\n"
     ]
    }
   ],
   "source": [
    "%pylab inline\n",
    "from __future__ import division\n",
    "import scipy as sp\n",
    "from scipy import stats\n",
    "from scipy.signal import argrelextrema\n",
    "from scipy.interpolate import interp1d\n",
    "import operator as op\n",
    "from decimal import *\n",
    "# import pickle\n",
    "from mpl_toolkits.mplot3d import Axes3D\n",
    "import mpld3\n",
    "# mpld3.enable_notebook()"
   ]
  },
  {
   "cell_type": "code",
   "execution_count": 93,
   "metadata": {
    "collapsed": true
   },
   "outputs": [],
   "source": [
    "%run ../cow.py\n",
    "%run ../optimize_pkg_2.py"
   ]
  },
  {
   "cell_type": "code",
   "execution_count": 3,
   "metadata": {
    "collapsed": true
   },
   "outputs": [],
   "source": [
    "filepath_down = \"../data_tables/hs_rs_downlink/n\"\n",
    "filepath_up = \"../data_tables/hs_rs_uplink/n\"\n",
    "protocolbit = 4*10**4\n",
    "protocol_target = 10**(-9)"
   ]
  },
  {
   "cell_type": "code",
   "execution_count": 29,
   "metadata": {
    "collapsed": false
   },
   "outputs": [],
   "source": [
    "# [ 47.33  33.68  26.86  22.77  20.08  18.12  16.8   15.71  14.97  14.33\n",
    "#   13.87  13.37  13.01  13.01  12.53  12.46  12.46  12.59  12.26  12.57\n",
    "#   12.33  12.87  12.64  13.64  13.57  13.5   15.26  15.44  15.58  18.38\n",
    "#   18.48  18.62  18.77  18.82]\n",
    "\n",
    "tSNR_start = {\n",
    "    2 : 47.1,\n",
    "    3 : 33,\n",
    "    4 : 26,\n",
    "    5 : 22.5,\n",
    "    6 : 19,\n",
    "    7 : 17,\n",
    "    8 : 16,\n",
    "    9 : 15,\n",
    "    10 : 14,\n",
    "    11 : 13,\n",
    "    12 : 13,\n",
    "    13 : 12,\n",
    "    14 : 12,\n",
    "    15 : 12,\n",
    "    16 : 11,\n",
    "    17 : 11,\n",
    "    18 : 11,\n",
    "    19 : 11,\n",
    "    20 : 11,\n",
    "    21 : 11,\n",
    "    22 : 11,\n",
    "    23 : 11,\n",
    "    24 : 11,\n",
    "    25 : 13,\n",
    "    26 : 13,\n",
    "    27 : 13,\n",
    "    28 : 14,\n",
    "    29 : 14,\n",
    "    30 : 15,\n",
    "    31 : 17,\n",
    "    32 : 17,\n",
    "    33 : 18,\n",
    "    34 : 18,\n",
    "    35 : 18\n",
    "}\n",
    "\n",
    "# [ -0.06   0.34   0.71   1.03   1.33   1.55   1.9    2.11   2.44   2.68\n",
    "#    2.98   3.11   3.3    3.8    3.73   4.05   4.39   4.83   4.77   5.31\n",
    "#    5.28   5.97   5.95   6.91   6.89   6.87   8.31   8.29   8.27  10.93\n",
    "#   10.92  10.92  10.92  10.91]\n",
    "\n",
    "rSNRdu_start = {\n",
    "    2 : -0.5,\n",
    "    3 : -0.3,\n",
    "    4 : -0.5,\n",
    "    5 : 0.0,\n",
    "    6 : 1,\n",
    "    7 : 1,\n",
    "    8 : 1,\n",
    "    9 : 2,\n",
    "    10 : 2,\n",
    "    11 : 2,\n",
    "    12 : 2,\n",
    "    13 : 3,\n",
    "    14 : 3,\n",
    "    15 : 3,\n",
    "    16 : 3,\n",
    "    17 : 4,\n",
    "    18 : 4,\n",
    "    19 : 4,\n",
    "    20 : 4,\n",
    "    21 : 5,\n",
    "    22 : 5,\n",
    "    23 : 5,\n",
    "    24 : 5,\n",
    "    25 : 6,\n",
    "    26 : 6,\n",
    "    27 : 6,\n",
    "    28 : 8,\n",
    "    29 : 8,\n",
    "    30 : 8,\n",
    "    31 : 10,\n",
    "    32 : 10,\n",
    "    33 : 10,\n",
    "    34 : 10,\n",
    "    35 : 10\n",
    "}\n",
    "\n",
    "rSNR3_start = {\n",
    "    2 : -0.5,\n",
    "    3 : 0,\n",
    "    4 : 0,\n",
    "    5 : 0.8,\n",
    "    6 : 1,\n",
    "    7 : 1,\n",
    "    8 : 1,\n",
    "    9 : 2,\n",
    "    10 : 2,\n",
    "    11 : 2,\n",
    "    12 : 2,\n",
    "    13 : 3,\n",
    "    14 : 3,\n",
    "    15 : 3,\n",
    "    16 : 3,\n",
    "    17 : 4,\n",
    "    18 : 4,\n",
    "    19 : 4,\n",
    "    20 : 4,\n",
    "    21 : 5,\n",
    "    22 : 5,\n",
    "    23 : 5,\n",
    "    24 : 5,\n",
    "    25 : 6,\n",
    "    26 : 6,\n",
    "    27 : 6,\n",
    "    28 : 8,\n",
    "    29 : 8,\n",
    "    30 : 8,\n",
    "    31 : 10,\n",
    "    32 : 10,\n",
    "    33 : 10,\n",
    "    34 : 10,\n",
    "    35 : 10\n",
    "}"
   ]
  },
  {
   "cell_type": "code",
   "execution_count": 17,
   "metadata": {
    "collapsed": false
   },
   "outputs": [],
   "source": [
    "optimize_3_data = zeros((len(range(2, 36)), 6))\n",
    "start_node = 2"
   ]
  },
  {
   "cell_type": "code",
   "execution_count": 32,
   "metadata": {
    "collapsed": false
   },
   "outputs": [
    {
     "name": "stdout",
     "output_type": "stream",
     "text": [
      "[  4.70900000e+01  -3.50000000e-01  -3.40000000e-01   7.37241127e-13\n",
      "   2.32360047e-07   1.82485903e-07]\n",
      "CPU times: user 18min 21s, sys: 9.61 s, total: 18min 31s\n",
      "Wall time: 19min 28s\n"
     ]
    }
   ],
   "source": [
    "%%time\n",
    "# redo if time (new pruning)\n",
    "%run ../optimize_3_dct.py\n",
    "N = 2\n",
    "d_rSNR = 0.01\n",
    "d_tSNR = 0.01\n",
    "tx_SNR_range = np.arange(tSNR_start[N], 50, d_tSNR)\n",
    "optimize_3_data[N-start_node] = optimize_3(N, rSNRdu_start[N], rSNR3_start[N], tx_SNR_range, filepath_down, filepath_up, protocolbit, d_rSNR)\n",
    "print optimize_3_data[N-start_node]"
   ]
  },
  {
   "cell_type": "code",
   "execution_count": 38,
   "metadata": {
    "collapsed": false
   },
   "outputs": [
    {
     "name": "stdout",
     "output_type": "stream",
     "text": [
      "[  3.34400000e+01  -1.80000000e-01   1.20000000e-01   1.21318230e-14\n",
      "   5.53183833e-06   1.53729820e-08]\n",
      "CPU times: user 9min 18s, sys: 3.01 s, total: 9min 21s\n",
      "Wall time: 9min 35s\n"
     ]
    }
   ],
   "source": [
    "%%time\n",
    "%run ../optimize_3_dct.py\n",
    "N = 3\n",
    "d_rSNR = 0.01\n",
    "d_tSNR = 0.01\n",
    "tx_SNR_range = np.arange(tSNR_start[N], 50, d_tSNR)\n",
    "optimize_3_data[N-start_node] = optimize_3(N, rSNRdu_start[N], rSNR3_start[N], tx_SNR_range, filepath_down, filepath_up, protocolbit, d_rSNR)\n",
    "print optimize_3_data[N-start_node]"
   ]
  },
  {
   "cell_type": "code",
   "execution_count": 21,
   "metadata": {
    "collapsed": false
   },
   "outputs": [
    {
     "name": "stdout",
     "output_type": "stream",
     "text": [
      "[  2.67000000e+01   0.00000000e+00   5.00000000e-01   1.83405023e-16\n",
      "   2.99952070e-05   6.70889758e-09]\n",
      "CPU times: user 3min 16s, sys: 1.6 s, total: 3min 18s\n",
      "Wall time: 3min 25s\n"
     ]
    }
   ],
   "source": [
    "%%time\n",
    "%run ../optimize_3_dct.py\n",
    "N = 4\n",
    "d_rSNR = 0.1\n",
    "d_tSNR = 0.1\n",
    "tx_SNR_range = np.arange(tSNR_start[N], 50, d_tSNR)\n",
    "optimize_3_data[N-start_node] = optimize_3(N, rSNRdu_start[N], rSNR3_start[N], tx_SNR_range, filepath_down, filepath_up, protocolbit, d_rSNR)\n",
    "print optimize_3_data[N-start_node]"
   ]
  },
  {
   "cell_type": "code",
   "execution_count": 5,
   "metadata": {
    "collapsed": false
   },
   "outputs": [
    {
     "name": "stdout",
     "output_type": "stream",
     "text": [
      "(22.510000000000002, 0.1099999999999999, 0.90000000000000013, array(1.1087336607542678e-16), array(0.000151523847246746), array(1.0873919099203445e-09))\n",
      "CPU times: user 15min 24s, sys: 6.01 s, total: 15min 30s\n",
      "Wall time: 29min 31s\n"
     ]
    },
    {
     "name": "stderr",
     "output_type": "stream",
     "text": [
      "<string>:181: RuntimeWarning: divide by zero encountered in log10\n"
     ]
    }
   ],
   "source": [
    "%%time\n",
    "%run ../optimize_3_dct.py\n",
    "# new version with early break\n",
    "# maybe redo if time\n",
    "N = 5\n",
    "d_rSNR = 0.01\n",
    "d_tSNR = 0.01\n",
    "tx_SNR_range = np.arange(tSNR_start[N], 50, d_tSNR)\n",
    "optimize_3_data[N-start_node] = optimize_3(N, rSNRdu_start[N], rSNR3_start[N], tx_SNR_range, filepath_down, filepath_up, protocolbit, d_rSNR)\n",
    "print optimize_3_data[N-start_node]"
   ]
  },
  {
   "cell_type": "code",
   "execution_count": 99,
   "metadata": {
    "collapsed": false
   },
   "outputs": [
    {
     "name": "stdout",
     "output_type": "stream",
     "text": [
      "[  1.97800000e+01   3.00000000e-01   1.24000000e+00   3.00465671e-19\n",
      "   2.05553462e-04   4.64963349e-10]\n",
      "CPU times: user 27min 36s, sys: 25.2 s, total: 28min 1s\n",
      "Wall time: 30min 37s\n"
     ]
    }
   ],
   "source": [
    "%%time\n",
    "%run ../optimize_3_dct.py\n",
    "N = 6\n",
    "d_rSNR = 0.01\n",
    "d_tSNR = 0.01\n",
    "tx_SNR_range = np.arange(tSNR_start[N], 50, d_tSNR)\n",
    "optimize_3_data[N-start_node] = optimize_3(N, rSNRdu_start[N], rSNR3_start[N], tx_SNR_range, filepath_down, filepath_up, protocolbit, d_rSNR)\n",
    "print optimize_3_data[N-start_node]"
   ]
  },
  {
   "cell_type": "code",
   "execution_count": 104,
   "metadata": {
    "collapsed": false
   },
   "outputs": [
    {
     "name": "stdout",
     "output_type": "stream",
     "text": [
      "[  1.77900000e+01   4.00000000e-01   1.48000000e+00   3.43558863e-19\n",
      "   3.24315937e-04   3.21070937e-10]\n",
      "CPU times: user 1h 50min 25s, sys: 36.8 s, total: 1h 51min 1s\n",
      "Wall time: 1h 54min 48s\n"
     ]
    }
   ],
   "source": [
    "%%time\n",
    "%run ../optimize_3_dct.py\n",
    "N = 7\n",
    "d_rSNR = 0.01\n",
    "d_tSNR = 0.01\n",
    "tx_SNR_range = np.arange(tSNR_start[N], 50, d_tSNR)\n",
    "optimize_3_data[N-start_node] = optimize_3(N, rSNRdu_start[N], rSNR3_start[N], tx_SNR_range, filepath_down, filepath_up, protocolbit, d_rSNR)\n",
    "print optimize_3_data[N-start_node]"
   ]
  },
  {
   "cell_type": "code",
   "execution_count": 105,
   "metadata": {
    "collapsed": false
   },
   "outputs": [
    {
     "name": "stdout",
     "output_type": "stream",
     "text": [
      "[  1.64200000e+01   5.40000000e-01   1.87000000e+00   3.75522424e-20\n",
      "   8.74856199e-04   1.44556479e-10]\n",
      "CPU times: user 38min 24s, sys: 20.5 s, total: 38min 45s\n",
      "Wall time: 43min 56s\n"
     ]
    }
   ],
   "source": [
    "%%time\n",
    "%run ../optimize_3_dct.py\n",
    "N = 8\n",
    "d_rSNR = 0.01\n",
    "d_tSNR = 0.01\n",
    "tx_SNR_range = np.arange(tSNR_start[N], 50, d_tSNR)\n",
    "optimize_3_data[N-start_node] = optimize_3(N, rSNRdu_start[N], rSNR3_start[N], tx_SNR_range, filepath_down, filepath_up, protocolbit, d_rSNR)\n",
    "print optimize_3_data[N-start_node]"
   ]
  },
  {
   "cell_type": "code",
   "execution_count": 133,
   "metadata": {
    "collapsed": false
   },
   "outputs": [
    {
     "name": "stdout",
     "output_type": "stream",
     "text": [
      "xn, yn (5, 12) size of matrix 60\n",
      "[[  9.33659372e-10   9.32670496e-10   9.32243616e-10   9.32344868e-10\n",
      "    9.32904642e-10   9.33872091e-10   9.35179822e-10   9.36781097e-10\n",
      "    9.38969791e-10   9.41313916e-10   9.43985667e-10   9.46977274e-10]\n",
      " [  9.30548638e-10   9.29550548e-10   9.29118116e-10   9.29221144e-10\n",
      "    9.29784916e-10   9.30758914e-10   9.32076971e-10   9.33689348e-10\n",
      "    9.35847178e-10   9.38263134e-10   9.40957090e-10   9.43930267e-10]\n",
      " [  9.29268884e-10   9.28218280e-10   9.27827148e-10   9.27883437e-10\n",
      "    9.28459976e-10   9.29485600e-10   9.30816535e-10   9.32442568e-10\n",
      "    9.34572197e-10   9.37063094e-10   9.39781808e-10   9.42731004e-10]\n",
      " [  9.29595623e-10   9.28536581e-10   9.28144894e-10   9.28153998e-10\n",
      "    9.28789268e-10   9.29775590e-10   9.31122290e-10   9.32813826e-10\n",
      "    9.34966771e-10   9.37434352e-10   9.40232781e-10   9.43209733e-10]\n",
      " [  9.31333233e-10   9.30266530e-10   9.29831656e-10   9.29888833e-10\n",
      "    9.30534538e-10   9.31532962e-10   9.32895761e-10   9.34607058e-10\n",
      "    9.36784761e-10   9.39281430e-10   9.42061540e-10   9.45119427e-10]]\n",
      "CPU times: user 43.6 s, sys: 174 ms, total: 43.8 s\n",
      "Wall time: 44.9 s\n"
     ]
    },
    {
     "name": "stderr",
     "output_type": "stream",
     "text": [
      "<string>:182: RuntimeWarning: divide by zero encountered in log10\n"
     ]
    }
   ],
   "source": [
    "%%time\n",
    "%run ../optimize_pkg_2.py\n",
    "N = 9\n",
    "tSNR_range = np.arange(15.3, 15.4, 0.1)\n",
    "rSNR3_range = np.arange(2.08, 2.12, 0.01)\n",
    "rSNRdu_range = np.arange(0.6, 0.72, 0.01)\n",
    "# rSNRdu_guess = 2.1\n",
    "# rSNRdu_range = np.arange(rSNRdu_guess-0.5, rSNRdu_guess+0.5+0.1, 0.1)\n",
    "\n",
    "result = optimize_3_graphical(N, rSNRdu_range, rSNR3_range, tSNR_range, filepath_down, filepath_up, protocolbit, True)\n",
    "\n",
    "print result"
   ]
  },
  {
   "cell_type": "code",
   "execution_count": 134,
   "metadata": {
    "collapsed": false
   },
   "outputs": [
    {
     "name": "stdout",
     "output_type": "stream",
     "text": [
      "0.62\n",
      "0.62\n",
      "0.62\n",
      "0.62\n",
      "0.62\n"
     ]
    },
    {
     "data": {
      "text/html": [
       "\n",
       "\n",
       "<style>\n",
       "\n",
       "</style>\n",
       "\n",
       "<div id=\"fig_el772845531929769343165136\"></div>\n",
       "<script>\n",
       "function mpld3_load_lib(url, callback){\n",
       "  var s = document.createElement('script');\n",
       "  s.src = url;\n",
       "  s.async = true;\n",
       "  s.onreadystatechange = s.onload = callback;\n",
       "  s.onerror = function(){console.warn(\"failed to load library \" + url);};\n",
       "  document.getElementsByTagName(\"head\")[0].appendChild(s);\n",
       "}\n",
       "\n",
       "if(typeof(mpld3) !== \"undefined\" && mpld3._mpld3IsLoaded){\n",
       "   // already loaded: just create the figure\n",
       "   !function(mpld3){\n",
       "       \n",
       "       mpld3.draw_figure(\"fig_el772845531929769343165136\", {\"axes\": [{\"xlim\": [0.59999999999999998, 0.71999999999999997], \"yscale\": \"linear\", \"axesbg\": \"#FFFFFF\", \"texts\": [{\"v_baseline\": \"hanging\", \"h_anchor\": \"middle\", \"color\": \"#000000\", \"text\": \"rSNRdu\", \"coordinates\": \"axes\", \"zorder\": 3, \"alpha\": 1, \"fontsize\": 20.0, \"position\": [0.5, -0.080645161290322578], \"rotation\": -0.0, \"id\": \"el77284557226064\"}, {\"v_baseline\": \"auto\", \"h_anchor\": \"middle\", \"color\": \"#000000\", \"text\": \"P(fail)\", \"coordinates\": \"axes\", \"zorder\": 3, \"alpha\": 1, \"fontsize\": 20.0, \"position\": [-0.089885752688172033, 0.5], \"rotation\": -90.0, \"id\": \"el77284553810640\"}, {\"v_baseline\": \"auto\", \"h_anchor\": \"middle\", \"color\": \"#000000\", \"text\": \"N=9\", \"coordinates\": \"axes\", \"zorder\": 3, \"alpha\": 1, \"fontsize\": 20.0, \"position\": [0.5, 1.0224014336917562], \"rotation\": -0.0, \"id\": \"el77284556724624\"}, {\"v_baseline\": \"auto\", \"h_anchor\": \"start\", \"color\": \"#000000\", \"text\": \"None\", \"coordinates\": \"axes\", \"zorder\": 1000003.0, \"alpha\": 1, \"fontsize\": 10.0, \"position\": [-0.16129032258064516, -0.16129032258064516], \"rotation\": -0.0, \"id\": \"el77284503602576\"}, {\"v_baseline\": \"auto\", \"h_anchor\": \"start\", \"color\": \"#000000\", \"text\": \"2.08\", \"coordinates\": \"axes\", \"zorder\": 1000003.0, \"alpha\": 1, \"fontsize\": 12.0, \"position\": [0.13261648745519719, 0.91129032258064513], \"rotation\": -0.0, \"id\": \"el77284565003792\"}, {\"v_baseline\": \"auto\", \"h_anchor\": \"start\", \"color\": \"#000000\", \"text\": \"2.09\", \"coordinates\": \"axes\", \"zorder\": 1000003.0, \"alpha\": 1, \"fontsize\": 12.0, \"position\": [0.13261648745519719, 0.83198924731182788], \"rotation\": -0.0, \"id\": \"el77284557522896\"}, {\"v_baseline\": \"auto\", \"h_anchor\": \"start\", \"color\": \"#000000\", \"text\": \"2.1\", \"coordinates\": \"axes\", \"zorder\": 1000003.0, \"alpha\": 1, \"fontsize\": 12.0, \"position\": [0.13261648745519719, 0.75268817204301075], \"rotation\": -0.0, \"id\": \"el77284556656912\"}, {\"v_baseline\": \"auto\", \"h_anchor\": \"start\", \"color\": \"#000000\", \"text\": \"2.11\", \"coordinates\": \"axes\", \"zorder\": 1000003.0, \"alpha\": 1, \"fontsize\": 12.0, \"position\": [0.13261648745519719, 0.67338709677419351], \"rotation\": -0.0, \"id\": \"el77284556660112\"}, {\"v_baseline\": \"auto\", \"h_anchor\": \"start\", \"color\": \"#000000\", \"text\": \"2.12\", \"coordinates\": \"axes\", \"zorder\": 1000003.0, \"alpha\": 1, \"fontsize\": 12.0, \"position\": [0.13261648745519719, 0.59408602150537626], \"rotation\": -0.0, \"id\": \"el77284503604560\"}], \"zoomable\": true, \"images\": [], \"xdomain\": [0.59999999999999998, 0.71999999999999997], \"ylim\": [9.2499999999999991e-10, 9.4999999999999982e-10], \"paths\": [{\"edgecolor\": \"#000000\", \"facecolor\": \"#FFFFFF\", \"edgewidth\": 1.0, \"pathcodes\": [\"M\", \"L\", \"L\", \"L\", \"Z\"], \"yindex\": 1, \"coordinates\": \"axes\", \"dasharray\": \"10,0\", \"zorder\": 1000001.0, \"alpha\": 1, \"xindex\": 0, \"data\": \"data03\", \"id\": \"el77284503031376\"}], \"sharey\": [], \"sharex\": [], \"axesbgalpha\": null, \"axes\": [{\"scale\": \"linear\", \"tickformat\": null, \"grid\": {\"gridOn\": false}, \"fontsize\": 10.0, \"position\": \"bottom\", \"nticks\": 7, \"tickvalues\": null}, {\"scale\": \"linear\", \"tickformat\": null, \"grid\": {\"gridOn\": false}, \"fontsize\": 10.0, \"position\": \"left\", \"nticks\": 6, \"tickvalues\": null}], \"lines\": [{\"color\": \"#0000FF\", \"yindex\": 1, \"coordinates\": \"data\", \"dasharray\": \"10,0\", \"zorder\": 2, \"alpha\": 1, \"xindex\": 0, \"linewidth\": 2.0, \"data\": \"data01\", \"id\": \"el77284504214352\"}, {\"color\": \"#007F00\", \"yindex\": 2, \"coordinates\": \"data\", \"dasharray\": \"10,0\", \"zorder\": 2, \"alpha\": 1, \"xindex\": 0, \"linewidth\": 2.0, \"data\": \"data01\", \"id\": \"el77284504212432\"}, {\"color\": \"#FF0000\", \"yindex\": 3, \"coordinates\": \"data\", \"dasharray\": \"10,0\", \"zorder\": 2, \"alpha\": 1, \"xindex\": 0, \"linewidth\": 2.0, \"data\": \"data01\", \"id\": \"el77284547827280\"}, {\"color\": \"#00BFBF\", \"yindex\": 4, \"coordinates\": \"data\", \"dasharray\": \"10,0\", \"zorder\": 2, \"alpha\": 1, \"xindex\": 0, \"linewidth\": 2.0, \"data\": \"data01\", \"id\": \"el77284557012624\"}, {\"color\": \"#BF00BF\", \"yindex\": 5, \"coordinates\": \"data\", \"dasharray\": \"10,0\", \"zorder\": 2, \"alpha\": 1, \"xindex\": 0, \"linewidth\": 2.0, \"data\": \"data01\", \"id\": \"el77284557011664\"}, {\"color\": \"#0000FF\", \"yindex\": 1, \"coordinates\": \"axes\", \"dasharray\": \"10,0\", \"zorder\": 1000002.0, \"alpha\": 1, \"xindex\": 0, \"linewidth\": 2.0, \"data\": \"data02\", \"id\": \"el77284553194768\"}, {\"color\": \"#007F00\", \"yindex\": 2, \"coordinates\": \"axes\", \"dasharray\": \"10,0\", \"zorder\": 1000002.0, \"alpha\": 1, \"xindex\": 0, \"linewidth\": 2.0, \"data\": \"data02\", \"id\": \"el77284557524176\"}, {\"color\": \"#FF0000\", \"yindex\": 3, \"coordinates\": \"axes\", \"dasharray\": \"10,0\", \"zorder\": 1000002.0, \"alpha\": 1, \"xindex\": 0, \"linewidth\": 2.0, \"data\": \"data02\", \"id\": \"el77284557521424\"}, {\"color\": \"#00BFBF\", \"yindex\": 4, \"coordinates\": \"axes\", \"dasharray\": \"10,0\", \"zorder\": 1000002.0, \"alpha\": 1, \"xindex\": 0, \"linewidth\": 2.0, \"data\": \"data02\", \"id\": \"el77284556658064\"}, {\"color\": \"#BF00BF\", \"yindex\": 5, \"coordinates\": \"axes\", \"dasharray\": \"10,0\", \"zorder\": 1000002.0, \"alpha\": 1, \"xindex\": 0, \"linewidth\": 2.0, \"data\": \"data02\", \"id\": \"el77284503603344\"}], \"markers\": [], \"id\": \"el77284504050000\", \"ydomain\": [9.2499999999999991e-10, 9.4999999999999982e-10], \"collections\": [], \"xscale\": \"linear\", \"bbox\": [0.125, 0.125, 0.77500000000000002, 0.77500000000000002]}], \"height\": 320.0, \"width\": 480.0, \"plugins\": [{\"type\": \"reset\"}, {\"enabled\": false, \"button\": true, \"type\": \"zoom\"}, {\"enabled\": false, \"button\": true, \"type\": \"boxzoom\"}], \"data\": {\"data02\": [[0.043010752688172074, 0.9301075268817204, 0.8508064516129031, 0.771505376344086, 0.6922043010752688, 0.6129032258064515], [0.09318996415770613, 0.9301075268817204, 0.8508064516129031, 0.771505376344086, 0.6922043010752688, 0.6129032258064515]], \"data03\": [[0.017921146953405048, 0.560483870967742], [0.22188620071684598, 0.560483870967742], [0.22188620071684598, 0.9731182795698926], [0.017921146953405048, 0.9731182795698926]], \"data01\": [[0.6, 9.336593720377095e-10, 9.305486381450123e-10, 9.292688840645269e-10, 9.295956227006741e-10, 9.31333232756515e-10], [0.61, 9.32670496389676e-10, 9.295505476458743e-10, 9.282182800163241e-10, 9.285365809574841e-10, 9.302665304744551e-10], [0.62, 9.322436156367075e-10, 9.291181157777828e-10, 9.278271484447487e-10, 9.281448942743964e-10, 9.298316561157094e-10], [0.63, 9.323448679765534e-10, 9.29221144474468e-10, 9.278834367520972e-10, 9.281539981031983e-10, 9.298888326014776e-10], [0.64, 9.329046424255694e-10, 9.297849157263727e-10, 9.28459975568785e-10, 9.287892677178888e-10, 9.305345383125996e-10], [0.65, 9.338720907692277e-10, 9.307589143858763e-10, 9.294855995989337e-10, 9.297755898529658e-10, 9.31532961878645e-10], [0.66, 9.351798224699337e-10, 9.320769711607113e-10, 9.308165349608544e-10, 9.311222903818361e-10, 9.328957606413724e-10], [0.67, 9.367810971383506e-10, 9.336893480593744e-10, 9.324425676027204e-10, 9.32813826182155e-10, 9.346070584115296e-10], [0.68, 9.389697908090966e-10, 9.358471775300359e-10, 9.345721974085563e-10, 9.349667706715081e-10, 9.367847608743318e-10], [0.6900000000000001, 9.413139157032901e-10, 9.382631338539227e-10, 9.370630937866054e-10, 9.3743435236604e-10, 9.392814304121089e-10], [0.7000000000000001, 9.439856674120506e-10, 9.409570900231756e-10, 9.397818079293074e-10, 9.402327805219102e-10, 9.420615398880727e-10], [0.7100000000000001, 9.469772743742055e-10, 9.439302672831218e-10, 9.427310043719217e-10, 9.4320973254014e-10, 9.451194271647978e-10]]}, \"id\": \"el77284553192976\"});\n",
       "   }(mpld3);\n",
       "}else if(typeof define === \"function\" && define.amd){\n",
       "   // require.js is available: use it to load d3/mpld3\n",
       "   require.config({paths: {d3: \"https://mpld3.github.io/js/d3.v3.min\"}});\n",
       "   require([\"d3\"], function(d3){\n",
       "      window.d3 = d3;\n",
       "      mpld3_load_lib(\"https://mpld3.github.io/js/mpld3.v0.2.js\", function(){\n",
       "         \n",
       "         mpld3.draw_figure(\"fig_el772845531929769343165136\", {\"axes\": [{\"xlim\": [0.59999999999999998, 0.71999999999999997], \"yscale\": \"linear\", \"axesbg\": \"#FFFFFF\", \"texts\": [{\"v_baseline\": \"hanging\", \"h_anchor\": \"middle\", \"color\": \"#000000\", \"text\": \"rSNRdu\", \"coordinates\": \"axes\", \"zorder\": 3, \"alpha\": 1, \"fontsize\": 20.0, \"position\": [0.5, -0.080645161290322578], \"rotation\": -0.0, \"id\": \"el77284557226064\"}, {\"v_baseline\": \"auto\", \"h_anchor\": \"middle\", \"color\": \"#000000\", \"text\": \"P(fail)\", \"coordinates\": \"axes\", \"zorder\": 3, \"alpha\": 1, \"fontsize\": 20.0, \"position\": [-0.089885752688172033, 0.5], \"rotation\": -90.0, \"id\": \"el77284553810640\"}, {\"v_baseline\": \"auto\", \"h_anchor\": \"middle\", \"color\": \"#000000\", \"text\": \"N=9\", \"coordinates\": \"axes\", \"zorder\": 3, \"alpha\": 1, \"fontsize\": 20.0, \"position\": [0.5, 1.0224014336917562], \"rotation\": -0.0, \"id\": \"el77284556724624\"}, {\"v_baseline\": \"auto\", \"h_anchor\": \"start\", \"color\": \"#000000\", \"text\": \"None\", \"coordinates\": \"axes\", \"zorder\": 1000003.0, \"alpha\": 1, \"fontsize\": 10.0, \"position\": [-0.16129032258064516, -0.16129032258064516], \"rotation\": -0.0, \"id\": \"el77284503602576\"}, {\"v_baseline\": \"auto\", \"h_anchor\": \"start\", \"color\": \"#000000\", \"text\": \"2.08\", \"coordinates\": \"axes\", \"zorder\": 1000003.0, \"alpha\": 1, \"fontsize\": 12.0, \"position\": [0.13261648745519719, 0.91129032258064513], \"rotation\": -0.0, \"id\": \"el77284565003792\"}, {\"v_baseline\": \"auto\", \"h_anchor\": \"start\", \"color\": \"#000000\", \"text\": \"2.09\", \"coordinates\": \"axes\", \"zorder\": 1000003.0, \"alpha\": 1, \"fontsize\": 12.0, \"position\": [0.13261648745519719, 0.83198924731182788], \"rotation\": -0.0, \"id\": \"el77284557522896\"}, {\"v_baseline\": \"auto\", \"h_anchor\": \"start\", \"color\": \"#000000\", \"text\": \"2.1\", \"coordinates\": \"axes\", \"zorder\": 1000003.0, \"alpha\": 1, \"fontsize\": 12.0, \"position\": [0.13261648745519719, 0.75268817204301075], \"rotation\": -0.0, \"id\": \"el77284556656912\"}, {\"v_baseline\": \"auto\", \"h_anchor\": \"start\", \"color\": \"#000000\", \"text\": \"2.11\", \"coordinates\": \"axes\", \"zorder\": 1000003.0, \"alpha\": 1, \"fontsize\": 12.0, \"position\": [0.13261648745519719, 0.67338709677419351], \"rotation\": -0.0, \"id\": \"el77284556660112\"}, {\"v_baseline\": \"auto\", \"h_anchor\": \"start\", \"color\": \"#000000\", \"text\": \"2.12\", \"coordinates\": \"axes\", \"zorder\": 1000003.0, \"alpha\": 1, \"fontsize\": 12.0, \"position\": [0.13261648745519719, 0.59408602150537626], \"rotation\": -0.0, \"id\": \"el77284503604560\"}], \"zoomable\": true, \"images\": [], \"xdomain\": [0.59999999999999998, 0.71999999999999997], \"ylim\": [9.2499999999999991e-10, 9.4999999999999982e-10], \"paths\": [{\"edgecolor\": \"#000000\", \"facecolor\": \"#FFFFFF\", \"edgewidth\": 1.0, \"pathcodes\": [\"M\", \"L\", \"L\", \"L\", \"Z\"], \"yindex\": 1, \"coordinates\": \"axes\", \"dasharray\": \"10,0\", \"zorder\": 1000001.0, \"alpha\": 1, \"xindex\": 0, \"data\": \"data03\", \"id\": \"el77284503031376\"}], \"sharey\": [], \"sharex\": [], \"axesbgalpha\": null, \"axes\": [{\"scale\": \"linear\", \"tickformat\": null, \"grid\": {\"gridOn\": false}, \"fontsize\": 10.0, \"position\": \"bottom\", \"nticks\": 7, \"tickvalues\": null}, {\"scale\": \"linear\", \"tickformat\": null, \"grid\": {\"gridOn\": false}, \"fontsize\": 10.0, \"position\": \"left\", \"nticks\": 6, \"tickvalues\": null}], \"lines\": [{\"color\": \"#0000FF\", \"yindex\": 1, \"coordinates\": \"data\", \"dasharray\": \"10,0\", \"zorder\": 2, \"alpha\": 1, \"xindex\": 0, \"linewidth\": 2.0, \"data\": \"data01\", \"id\": \"el77284504214352\"}, {\"color\": \"#007F00\", \"yindex\": 2, \"coordinates\": \"data\", \"dasharray\": \"10,0\", \"zorder\": 2, \"alpha\": 1, \"xindex\": 0, \"linewidth\": 2.0, \"data\": \"data01\", \"id\": \"el77284504212432\"}, {\"color\": \"#FF0000\", \"yindex\": 3, \"coordinates\": \"data\", \"dasharray\": \"10,0\", \"zorder\": 2, \"alpha\": 1, \"xindex\": 0, \"linewidth\": 2.0, \"data\": \"data01\", \"id\": \"el77284547827280\"}, {\"color\": \"#00BFBF\", \"yindex\": 4, \"coordinates\": \"data\", \"dasharray\": \"10,0\", \"zorder\": 2, \"alpha\": 1, \"xindex\": 0, \"linewidth\": 2.0, \"data\": \"data01\", \"id\": \"el77284557012624\"}, {\"color\": \"#BF00BF\", \"yindex\": 5, \"coordinates\": \"data\", \"dasharray\": \"10,0\", \"zorder\": 2, \"alpha\": 1, \"xindex\": 0, \"linewidth\": 2.0, \"data\": \"data01\", \"id\": \"el77284557011664\"}, {\"color\": \"#0000FF\", \"yindex\": 1, \"coordinates\": \"axes\", \"dasharray\": \"10,0\", \"zorder\": 1000002.0, \"alpha\": 1, \"xindex\": 0, \"linewidth\": 2.0, \"data\": \"data02\", \"id\": \"el77284553194768\"}, {\"color\": \"#007F00\", \"yindex\": 2, \"coordinates\": \"axes\", \"dasharray\": \"10,0\", \"zorder\": 1000002.0, \"alpha\": 1, \"xindex\": 0, \"linewidth\": 2.0, \"data\": \"data02\", \"id\": \"el77284557524176\"}, {\"color\": \"#FF0000\", \"yindex\": 3, \"coordinates\": \"axes\", \"dasharray\": \"10,0\", \"zorder\": 1000002.0, \"alpha\": 1, \"xindex\": 0, \"linewidth\": 2.0, \"data\": \"data02\", \"id\": \"el77284557521424\"}, {\"color\": \"#00BFBF\", \"yindex\": 4, \"coordinates\": \"axes\", \"dasharray\": \"10,0\", \"zorder\": 1000002.0, \"alpha\": 1, \"xindex\": 0, \"linewidth\": 2.0, \"data\": \"data02\", \"id\": \"el77284556658064\"}, {\"color\": \"#BF00BF\", \"yindex\": 5, \"coordinates\": \"axes\", \"dasharray\": \"10,0\", \"zorder\": 1000002.0, \"alpha\": 1, \"xindex\": 0, \"linewidth\": 2.0, \"data\": \"data02\", \"id\": \"el77284503603344\"}], \"markers\": [], \"id\": \"el77284504050000\", \"ydomain\": [9.2499999999999991e-10, 9.4999999999999982e-10], \"collections\": [], \"xscale\": \"linear\", \"bbox\": [0.125, 0.125, 0.77500000000000002, 0.77500000000000002]}], \"height\": 320.0, \"width\": 480.0, \"plugins\": [{\"type\": \"reset\"}, {\"enabled\": false, \"button\": true, \"type\": \"zoom\"}, {\"enabled\": false, \"button\": true, \"type\": \"boxzoom\"}], \"data\": {\"data02\": [[0.043010752688172074, 0.9301075268817204, 0.8508064516129031, 0.771505376344086, 0.6922043010752688, 0.6129032258064515], [0.09318996415770613, 0.9301075268817204, 0.8508064516129031, 0.771505376344086, 0.6922043010752688, 0.6129032258064515]], \"data03\": [[0.017921146953405048, 0.560483870967742], [0.22188620071684598, 0.560483870967742], [0.22188620071684598, 0.9731182795698926], [0.017921146953405048, 0.9731182795698926]], \"data01\": [[0.6, 9.336593720377095e-10, 9.305486381450123e-10, 9.292688840645269e-10, 9.295956227006741e-10, 9.31333232756515e-10], [0.61, 9.32670496389676e-10, 9.295505476458743e-10, 9.282182800163241e-10, 9.285365809574841e-10, 9.302665304744551e-10], [0.62, 9.322436156367075e-10, 9.291181157777828e-10, 9.278271484447487e-10, 9.281448942743964e-10, 9.298316561157094e-10], [0.63, 9.323448679765534e-10, 9.29221144474468e-10, 9.278834367520972e-10, 9.281539981031983e-10, 9.298888326014776e-10], [0.64, 9.329046424255694e-10, 9.297849157263727e-10, 9.28459975568785e-10, 9.287892677178888e-10, 9.305345383125996e-10], [0.65, 9.338720907692277e-10, 9.307589143858763e-10, 9.294855995989337e-10, 9.297755898529658e-10, 9.31532961878645e-10], [0.66, 9.351798224699337e-10, 9.320769711607113e-10, 9.308165349608544e-10, 9.311222903818361e-10, 9.328957606413724e-10], [0.67, 9.367810971383506e-10, 9.336893480593744e-10, 9.324425676027204e-10, 9.32813826182155e-10, 9.346070584115296e-10], [0.68, 9.389697908090966e-10, 9.358471775300359e-10, 9.345721974085563e-10, 9.349667706715081e-10, 9.367847608743318e-10], [0.6900000000000001, 9.413139157032901e-10, 9.382631338539227e-10, 9.370630937866054e-10, 9.3743435236604e-10, 9.392814304121089e-10], [0.7000000000000001, 9.439856674120506e-10, 9.409570900231756e-10, 9.397818079293074e-10, 9.402327805219102e-10, 9.420615398880727e-10], [0.7100000000000001, 9.469772743742055e-10, 9.439302672831218e-10, 9.427310043719217e-10, 9.4320973254014e-10, 9.451194271647978e-10]]}, \"id\": \"el77284553192976\"});\n",
       "      });\n",
       "    });\n",
       "}else{\n",
       "    // require.js not available: dynamically load d3 & mpld3\n",
       "    mpld3_load_lib(\"https://mpld3.github.io/js/d3.v3.min.js\", function(){\n",
       "         mpld3_load_lib(\"https://mpld3.github.io/js/mpld3.v0.2.js\", function(){\n",
       "                 \n",
       "                 mpld3.draw_figure(\"fig_el772845531929769343165136\", {\"axes\": [{\"xlim\": [0.59999999999999998, 0.71999999999999997], \"yscale\": \"linear\", \"axesbg\": \"#FFFFFF\", \"texts\": [{\"v_baseline\": \"hanging\", \"h_anchor\": \"middle\", \"color\": \"#000000\", \"text\": \"rSNRdu\", \"coordinates\": \"axes\", \"zorder\": 3, \"alpha\": 1, \"fontsize\": 20.0, \"position\": [0.5, -0.080645161290322578], \"rotation\": -0.0, \"id\": \"el77284557226064\"}, {\"v_baseline\": \"auto\", \"h_anchor\": \"middle\", \"color\": \"#000000\", \"text\": \"P(fail)\", \"coordinates\": \"axes\", \"zorder\": 3, \"alpha\": 1, \"fontsize\": 20.0, \"position\": [-0.089885752688172033, 0.5], \"rotation\": -90.0, \"id\": \"el77284553810640\"}, {\"v_baseline\": \"auto\", \"h_anchor\": \"middle\", \"color\": \"#000000\", \"text\": \"N=9\", \"coordinates\": \"axes\", \"zorder\": 3, \"alpha\": 1, \"fontsize\": 20.0, \"position\": [0.5, 1.0224014336917562], \"rotation\": -0.0, \"id\": \"el77284556724624\"}, {\"v_baseline\": \"auto\", \"h_anchor\": \"start\", \"color\": \"#000000\", \"text\": \"None\", \"coordinates\": \"axes\", \"zorder\": 1000003.0, \"alpha\": 1, \"fontsize\": 10.0, \"position\": [-0.16129032258064516, -0.16129032258064516], \"rotation\": -0.0, \"id\": \"el77284503602576\"}, {\"v_baseline\": \"auto\", \"h_anchor\": \"start\", \"color\": \"#000000\", \"text\": \"2.08\", \"coordinates\": \"axes\", \"zorder\": 1000003.0, \"alpha\": 1, \"fontsize\": 12.0, \"position\": [0.13261648745519719, 0.91129032258064513], \"rotation\": -0.0, \"id\": \"el77284565003792\"}, {\"v_baseline\": \"auto\", \"h_anchor\": \"start\", \"color\": \"#000000\", \"text\": \"2.09\", \"coordinates\": \"axes\", \"zorder\": 1000003.0, \"alpha\": 1, \"fontsize\": 12.0, \"position\": [0.13261648745519719, 0.83198924731182788], \"rotation\": -0.0, \"id\": \"el77284557522896\"}, {\"v_baseline\": \"auto\", \"h_anchor\": \"start\", \"color\": \"#000000\", \"text\": \"2.1\", \"coordinates\": \"axes\", \"zorder\": 1000003.0, \"alpha\": 1, \"fontsize\": 12.0, \"position\": [0.13261648745519719, 0.75268817204301075], \"rotation\": -0.0, \"id\": \"el77284556656912\"}, {\"v_baseline\": \"auto\", \"h_anchor\": \"start\", \"color\": \"#000000\", \"text\": \"2.11\", \"coordinates\": \"axes\", \"zorder\": 1000003.0, \"alpha\": 1, \"fontsize\": 12.0, \"position\": [0.13261648745519719, 0.67338709677419351], \"rotation\": -0.0, \"id\": \"el77284556660112\"}, {\"v_baseline\": \"auto\", \"h_anchor\": \"start\", \"color\": \"#000000\", \"text\": \"2.12\", \"coordinates\": \"axes\", \"zorder\": 1000003.0, \"alpha\": 1, \"fontsize\": 12.0, \"position\": [0.13261648745519719, 0.59408602150537626], \"rotation\": -0.0, \"id\": \"el77284503604560\"}], \"zoomable\": true, \"images\": [], \"xdomain\": [0.59999999999999998, 0.71999999999999997], \"ylim\": [9.2499999999999991e-10, 9.4999999999999982e-10], \"paths\": [{\"edgecolor\": \"#000000\", \"facecolor\": \"#FFFFFF\", \"edgewidth\": 1.0, \"pathcodes\": [\"M\", \"L\", \"L\", \"L\", \"Z\"], \"yindex\": 1, \"coordinates\": \"axes\", \"dasharray\": \"10,0\", \"zorder\": 1000001.0, \"alpha\": 1, \"xindex\": 0, \"data\": \"data03\", \"id\": \"el77284503031376\"}], \"sharey\": [], \"sharex\": [], \"axesbgalpha\": null, \"axes\": [{\"scale\": \"linear\", \"tickformat\": null, \"grid\": {\"gridOn\": false}, \"fontsize\": 10.0, \"position\": \"bottom\", \"nticks\": 7, \"tickvalues\": null}, {\"scale\": \"linear\", \"tickformat\": null, \"grid\": {\"gridOn\": false}, \"fontsize\": 10.0, \"position\": \"left\", \"nticks\": 6, \"tickvalues\": null}], \"lines\": [{\"color\": \"#0000FF\", \"yindex\": 1, \"coordinates\": \"data\", \"dasharray\": \"10,0\", \"zorder\": 2, \"alpha\": 1, \"xindex\": 0, \"linewidth\": 2.0, \"data\": \"data01\", \"id\": \"el77284504214352\"}, {\"color\": \"#007F00\", \"yindex\": 2, \"coordinates\": \"data\", \"dasharray\": \"10,0\", \"zorder\": 2, \"alpha\": 1, \"xindex\": 0, \"linewidth\": 2.0, \"data\": \"data01\", \"id\": \"el77284504212432\"}, {\"color\": \"#FF0000\", \"yindex\": 3, \"coordinates\": \"data\", \"dasharray\": \"10,0\", \"zorder\": 2, \"alpha\": 1, \"xindex\": 0, \"linewidth\": 2.0, \"data\": \"data01\", \"id\": \"el77284547827280\"}, {\"color\": \"#00BFBF\", \"yindex\": 4, \"coordinates\": \"data\", \"dasharray\": \"10,0\", \"zorder\": 2, \"alpha\": 1, \"xindex\": 0, \"linewidth\": 2.0, \"data\": \"data01\", \"id\": \"el77284557012624\"}, {\"color\": \"#BF00BF\", \"yindex\": 5, \"coordinates\": \"data\", \"dasharray\": \"10,0\", \"zorder\": 2, \"alpha\": 1, \"xindex\": 0, \"linewidth\": 2.0, \"data\": \"data01\", \"id\": \"el77284557011664\"}, {\"color\": \"#0000FF\", \"yindex\": 1, \"coordinates\": \"axes\", \"dasharray\": \"10,0\", \"zorder\": 1000002.0, \"alpha\": 1, \"xindex\": 0, \"linewidth\": 2.0, \"data\": \"data02\", \"id\": \"el77284553194768\"}, {\"color\": \"#007F00\", \"yindex\": 2, \"coordinates\": \"axes\", \"dasharray\": \"10,0\", \"zorder\": 1000002.0, \"alpha\": 1, \"xindex\": 0, \"linewidth\": 2.0, \"data\": \"data02\", \"id\": \"el77284557524176\"}, {\"color\": \"#FF0000\", \"yindex\": 3, \"coordinates\": \"axes\", \"dasharray\": \"10,0\", \"zorder\": 1000002.0, \"alpha\": 1, \"xindex\": 0, \"linewidth\": 2.0, \"data\": \"data02\", \"id\": \"el77284557521424\"}, {\"color\": \"#00BFBF\", \"yindex\": 4, \"coordinates\": \"axes\", \"dasharray\": \"10,0\", \"zorder\": 1000002.0, \"alpha\": 1, \"xindex\": 0, \"linewidth\": 2.0, \"data\": \"data02\", \"id\": \"el77284556658064\"}, {\"color\": \"#BF00BF\", \"yindex\": 5, \"coordinates\": \"axes\", \"dasharray\": \"10,0\", \"zorder\": 1000002.0, \"alpha\": 1, \"xindex\": 0, \"linewidth\": 2.0, \"data\": \"data02\", \"id\": \"el77284503603344\"}], \"markers\": [], \"id\": \"el77284504050000\", \"ydomain\": [9.2499999999999991e-10, 9.4999999999999982e-10], \"collections\": [], \"xscale\": \"linear\", \"bbox\": [0.125, 0.125, 0.77500000000000002, 0.77500000000000002]}], \"height\": 320.0, \"width\": 480.0, \"plugins\": [{\"type\": \"reset\"}, {\"enabled\": false, \"button\": true, \"type\": \"zoom\"}, {\"enabled\": false, \"button\": true, \"type\": \"boxzoom\"}], \"data\": {\"data02\": [[0.043010752688172074, 0.9301075268817204, 0.8508064516129031, 0.771505376344086, 0.6922043010752688, 0.6129032258064515], [0.09318996415770613, 0.9301075268817204, 0.8508064516129031, 0.771505376344086, 0.6922043010752688, 0.6129032258064515]], \"data03\": [[0.017921146953405048, 0.560483870967742], [0.22188620071684598, 0.560483870967742], [0.22188620071684598, 0.9731182795698926], [0.017921146953405048, 0.9731182795698926]], \"data01\": [[0.6, 9.336593720377095e-10, 9.305486381450123e-10, 9.292688840645269e-10, 9.295956227006741e-10, 9.31333232756515e-10], [0.61, 9.32670496389676e-10, 9.295505476458743e-10, 9.282182800163241e-10, 9.285365809574841e-10, 9.302665304744551e-10], [0.62, 9.322436156367075e-10, 9.291181157777828e-10, 9.278271484447487e-10, 9.281448942743964e-10, 9.298316561157094e-10], [0.63, 9.323448679765534e-10, 9.29221144474468e-10, 9.278834367520972e-10, 9.281539981031983e-10, 9.298888326014776e-10], [0.64, 9.329046424255694e-10, 9.297849157263727e-10, 9.28459975568785e-10, 9.287892677178888e-10, 9.305345383125996e-10], [0.65, 9.338720907692277e-10, 9.307589143858763e-10, 9.294855995989337e-10, 9.297755898529658e-10, 9.31532961878645e-10], [0.66, 9.351798224699337e-10, 9.320769711607113e-10, 9.308165349608544e-10, 9.311222903818361e-10, 9.328957606413724e-10], [0.67, 9.367810971383506e-10, 9.336893480593744e-10, 9.324425676027204e-10, 9.32813826182155e-10, 9.346070584115296e-10], [0.68, 9.389697908090966e-10, 9.358471775300359e-10, 9.345721974085563e-10, 9.349667706715081e-10, 9.367847608743318e-10], [0.6900000000000001, 9.413139157032901e-10, 9.382631338539227e-10, 9.370630937866054e-10, 9.3743435236604e-10, 9.392814304121089e-10], [0.7000000000000001, 9.439856674120506e-10, 9.409570900231756e-10, 9.397818079293074e-10, 9.402327805219102e-10, 9.420615398880727e-10], [0.7100000000000001, 9.469772743742055e-10, 9.439302672831218e-10, 9.427310043719217e-10, 9.4320973254014e-10, 9.451194271647978e-10]]}, \"id\": \"el77284553192976\"});\n",
       "            })\n",
       "         });\n",
       "}\n",
       "</script>"
      ],
      "text/plain": [
       "<IPython.core.display.HTML object>"
      ]
     },
     "execution_count": 134,
     "metadata": {},
     "output_type": "execute_result"
    }
   ],
   "source": [
    "xn, yn = result.shape\n",
    "fig = figure()\n",
    "\n",
    "for xk in range(xn):\n",
    "    plot(rSNRdu_range, result[xk], lw=2.0, label='{0}'.format(rSNR3_range[xk]))\n",
    "    print rSNRdu_range[np.argmin(result[xk])]\n",
    "\n",
    "xlabel('rSNRdu', fontsize=20)\n",
    "ylabel('P(fail)', fontsize=20)\n",
    "title('N={0}'.format(N), fontsize=20)\n",
    "legend(loc=0)\n",
    "mpld3.display(fig)"
   ]
  },
  {
   "cell_type": "code",
   "execution_count": 139,
   "metadata": {
    "collapsed": false
   },
   "outputs": [
    {
     "name": "stdout",
     "output_type": "stream",
     "text": [
      "xn, yn (4, 5) size of matrix 20\n",
      "[[  1.03820619e-09   1.03607800e-09   1.03586140e-09   1.03728803e-09\n",
      "    1.04015885e-09]\n",
      " [  1.01968056e-09   1.01741249e-09   1.01696440e-09   1.01819542e-09\n",
      "    1.02086584e-09]\n",
      " [  1.00150988e-09   9.99062610e-10   9.98429894e-10   9.99470173e-10\n",
      "    1.00194442e-09]\n",
      " [  9.83687465e-10   9.81065229e-10   9.80294734e-10   9.81105086e-10\n",
      "    9.83386927e-10]]\n",
      "CPU times: user 15.8 s, sys: 81.2 ms, total: 15.9 s\n",
      "Wall time: 16.6 s\n"
     ]
    },
    {
     "name": "stderr",
     "output_type": "stream",
     "text": [
      "<string>:182: RuntimeWarning: divide by zero encountered in log10\n"
     ]
    }
   ],
   "source": [
    "%%time\n",
    "%run ../optimize_pkg_2.py\n",
    "N = 9\n",
    "tSNR_range = np.arange(15.24, 15.28, 0.01)\n",
    "rSNR3_range = np.arange(2.08, 2.12, 0.01)\n",
    "rSNRdu_range = [0.62]\n",
    "\n",
    "result = optimize_3_graphical(N, rSNRdu_range, rSNR3_range, tSNR_range, filepath_down, filepath_up, protocolbit, False)\n",
    "\n",
    "print result"
   ]
  },
  {
   "cell_type": "code",
   "execution_count": 140,
   "metadata": {
    "collapsed": false
   },
   "outputs": [
    {
     "name": "stdout",
     "output_type": "stream",
     "text": [
      "2.1\n",
      "2.1\n",
      "2.1\n",
      "2.1\n"
     ]
    },
    {
     "data": {
      "text/html": [
       "\n",
       "\n",
       "<style>\n",
       "\n",
       "</style>\n",
       "\n",
       "<div id=\"fig_el772845578106409936251333\"></div>\n",
       "<script>\n",
       "function mpld3_load_lib(url, callback){\n",
       "  var s = document.createElement('script');\n",
       "  s.src = url;\n",
       "  s.async = true;\n",
       "  s.onreadystatechange = s.onload = callback;\n",
       "  s.onerror = function(){console.warn(\"failed to load library \" + url);};\n",
       "  document.getElementsByTagName(\"head\")[0].appendChild(s);\n",
       "}\n",
       "\n",
       "if(typeof(mpld3) !== \"undefined\" && mpld3._mpld3IsLoaded){\n",
       "   // already loaded: just create the figure\n",
       "   !function(mpld3){\n",
       "       \n",
       "       mpld3.draw_figure(\"fig_el772845578106409936251333\", {\"axes\": [{\"xlim\": [2.0800000000000001, 2.1200000000000001], \"yscale\": \"linear\", \"axesbg\": \"#FFFFFF\", \"texts\": [{\"v_baseline\": \"hanging\", \"h_anchor\": \"middle\", \"color\": \"#000000\", \"text\": \"rSNR3\", \"coordinates\": \"axes\", \"zorder\": 3, \"alpha\": 1, \"fontsize\": 20.0, \"position\": [0.5, -0.080645161290322578], \"rotation\": -0.0, \"id\": \"el77284504214160\"}, {\"v_baseline\": \"auto\", \"h_anchor\": \"middle\", \"color\": \"#000000\", \"text\": \"P(fail)\", \"coordinates\": \"axes\", \"zorder\": 3, \"alpha\": 1, \"fontsize\": 20.0, \"position\": [-0.090053763440860204, 0.5], \"rotation\": -90.0, \"id\": \"el77284552220816\"}, {\"v_baseline\": \"auto\", \"h_anchor\": \"middle\", \"color\": \"#000000\", \"text\": \"N=9\", \"coordinates\": \"axes\", \"zorder\": 3, \"alpha\": 1, \"fontsize\": 20.0, \"position\": [0.5, 1.0224014336917562], \"rotation\": -0.0, \"id\": \"el77284551934672\"}, {\"v_baseline\": \"auto\", \"h_anchor\": \"start\", \"color\": \"#000000\", \"text\": \"None\", \"coordinates\": \"axes\", \"zorder\": 1000003.0, \"alpha\": 1, \"fontsize\": 10.0, \"position\": [-0.16129032258064516, -0.16129032258064516], \"rotation\": -0.0, \"id\": \"el77284566433488\"}, {\"v_baseline\": \"auto\", \"h_anchor\": \"start\", \"color\": \"#000000\", \"text\": \"Protocol\", \"coordinates\": \"axes\", \"zorder\": 1000003.0, \"alpha\": 1, \"fontsize\": 12.0, \"position\": [0.48043374775985681, 0.91129032258064513], \"rotation\": -0.0, \"id\": \"el77284567151440\"}, {\"v_baseline\": \"auto\", \"h_anchor\": \"start\", \"color\": \"#000000\", \"text\": \"15.24\", \"coordinates\": \"axes\", \"zorder\": 1000003.0, \"alpha\": 1, \"fontsize\": 12.0, \"position\": [0.48043374775985681, 0.83198924731182788], \"rotation\": -0.0, \"id\": \"el77284567153616\"}, {\"v_baseline\": \"auto\", \"h_anchor\": \"start\", \"color\": \"#000000\", \"text\": \"15.25\", \"coordinates\": \"axes\", \"zorder\": 1000003.0, \"alpha\": 1, \"fontsize\": 12.0, \"position\": [0.48043374775985681, 0.75268817204301075], \"rotation\": -0.0, \"id\": \"el77284567180624\"}, {\"v_baseline\": \"auto\", \"h_anchor\": \"start\", \"color\": \"#000000\", \"text\": \"15.26\", \"coordinates\": \"axes\", \"zorder\": 1000003.0, \"alpha\": 1, \"fontsize\": 12.0, \"position\": [0.48043374775985681, 0.67338709677419351], \"rotation\": -0.0, \"id\": \"el77284567181968\"}, {\"v_baseline\": \"auto\", \"h_anchor\": \"start\", \"color\": \"#000000\", \"text\": \"15.27\", \"coordinates\": \"axes\", \"zorder\": 1000003.0, \"alpha\": 1, \"fontsize\": 12.0, \"position\": [0.48043374775985681, 0.59408602150537626], \"rotation\": -0.0, \"id\": \"el77284566430736\"}], \"zoomable\": true, \"images\": [], \"xdomain\": [2.0800000000000001, 2.1200000000000001], \"ylim\": [9.7999999999999992e-10, 1.0499999999999999e-09], \"paths\": [{\"edgecolor\": \"#000000\", \"facecolor\": \"#FFFFFF\", \"edgewidth\": 1.0, \"pathcodes\": [\"M\", \"L\", \"L\", \"L\", \"Z\"], \"yindex\": 1, \"coordinates\": \"axes\", \"dasharray\": \"10,0\", \"zorder\": 1000001.0, \"alpha\": 1, \"xindex\": 0, \"data\": \"data03\", \"id\": \"el77284547944080\"}], \"sharey\": [], \"sharex\": [], \"axesbgalpha\": null, \"axes\": [{\"scale\": \"linear\", \"tickformat\": null, \"grid\": {\"gridOn\": false}, \"fontsize\": 10.0, \"position\": \"bottom\", \"nticks\": 10, \"tickvalues\": null}, {\"scale\": \"linear\", \"tickformat\": null, \"grid\": {\"gridOn\": false}, \"fontsize\": 10.0, \"position\": \"left\", \"nticks\": 9, \"tickvalues\": null}], \"lines\": [{\"color\": \"#0000FF\", \"yindex\": 1, \"coordinates\": \"data\", \"dasharray\": \"10,0\", \"zorder\": 2, \"alpha\": 1, \"xindex\": 0, \"linewidth\": 2.0, \"data\": \"data01\", \"id\": \"el77284566966032\"}, {\"color\": \"#007F00\", \"yindex\": 2, \"coordinates\": \"data\", \"dasharray\": \"10,0\", \"zorder\": 2, \"alpha\": 1, \"xindex\": 0, \"linewidth\": 2.0, \"data\": \"data01\", \"id\": \"el77284567090960\"}, {\"color\": \"#FF0000\", \"yindex\": 3, \"coordinates\": \"data\", \"dasharray\": \"10,0\", \"zorder\": 2, \"alpha\": 1, \"xindex\": 0, \"linewidth\": 2.0, \"data\": \"data01\", \"id\": \"el77284567091472\"}, {\"color\": \"#00BFBF\", \"yindex\": 4, \"coordinates\": \"data\", \"dasharray\": \"10,0\", \"zorder\": 2, \"alpha\": 1, \"xindex\": 0, \"linewidth\": 2.0, \"data\": \"data01\", \"id\": \"el77284567093072\"}, {\"color\": \"#BF00BF\", \"yindex\": 5, \"coordinates\": \"data\", \"dasharray\": \"10,0\", \"zorder\": 2, \"alpha\": 1, \"xindex\": 0, \"linewidth\": 2.0, \"data\": \"data01\", \"id\": \"el77284567115216\"}, {\"color\": \"#0000FF\", \"yindex\": 1, \"coordinates\": \"axes\", \"dasharray\": \"10,0\", \"zorder\": 1000002.0, \"alpha\": 1, \"xindex\": 0, \"linewidth\": 2.0, \"data\": \"data02\", \"id\": \"el77284567089680\"}, {\"color\": \"#007F00\", \"yindex\": 2, \"coordinates\": \"axes\", \"dasharray\": \"10,0\", \"zorder\": 1000002.0, \"alpha\": 1, \"xindex\": 0, \"linewidth\": 2.0, \"data\": \"data02\", \"id\": \"el77284567154512\"}, {\"color\": \"#FF0000\", \"yindex\": 3, \"coordinates\": \"axes\", \"dasharray\": \"10,0\", \"zorder\": 1000002.0, \"alpha\": 1, \"xindex\": 0, \"linewidth\": 2.0, \"data\": \"data02\", \"id\": \"el77284567152912\"}, {\"color\": \"#00BFBF\", \"yindex\": 4, \"coordinates\": \"axes\", \"dasharray\": \"10,0\", \"zorder\": 1000002.0, \"alpha\": 1, \"xindex\": 0, \"linewidth\": 2.0, \"data\": \"data02\", \"id\": \"el77284567182864\"}, {\"color\": \"#BF00BF\", \"yindex\": 5, \"coordinates\": \"axes\", \"dasharray\": \"10,0\", \"zorder\": 1000002.0, \"alpha\": 1, \"xindex\": 0, \"linewidth\": 2.0, \"data\": \"data02\", \"id\": \"el77284566431632\"}], \"markers\": [], \"id\": \"el77284557809360\", \"ydomain\": [9.7999999999999992e-10, 1.0499999999999999e-09], \"collections\": [], \"xscale\": \"linear\", \"bbox\": [0.125, 0.125, 0.77500000000000002, 0.77500000000000002]}], \"height\": 320.0, \"width\": 480.0, \"plugins\": [{\"type\": \"reset\"}, {\"enabled\": false, \"button\": true, \"type\": \"zoom\"}, {\"enabled\": false, \"button\": true, \"type\": \"boxzoom\"}], \"data\": {\"data02\": [[0.39082801299283165, 0.9301075268817204, 0.8508064516129031, 0.771505376344086, 0.6922043010752688, 0.6129032258064515], [0.44100722446236573, 0.9301075268817204, 0.8508064516129031, 0.771505376344086, 0.6922043010752688, 0.6129032258064515]], \"data03\": [[0.3657384072580646, 0.560483870967742], [0.6342615927419356, 0.560483870967742], [0.6342615927419356, 0.9731182795698926], [0.3657384072580646, 0.9731182795698926]], \"data01\": [[2.08, 1e-09, 1.0382061876867965e-09, 1.0196805622086913e-09, 1.0015098750315587e-09, 9.836874648172511e-10], [2.09, 1e-09, 1.0360780011708925e-09, 1.0174124875916846e-09, 9.990626104183775e-10, 9.81065229055389e-10], [2.0999999999999996, 1e-09, 1.0358613966587882e-09, 1.0169644015789459e-09, 9.984298943166436e-10, 9.80294734276299e-10], [2.1099999999999994, 1e-09, 1.0372880332454315e-09, 1.0181954168686502e-09, 9.994701732907174e-10, 9.81105086061973e-10], [2.119999999999999, 1e-09, 1.0401588479425072e-09, 1.0208658363097811e-09, 1.001944416323397e-09, 9.83386927444485e-10]]}, \"id\": \"el77284557810640\"});\n",
       "   }(mpld3);\n",
       "}else if(typeof define === \"function\" && define.amd){\n",
       "   // require.js is available: use it to load d3/mpld3\n",
       "   require.config({paths: {d3: \"https://mpld3.github.io/js/d3.v3.min\"}});\n",
       "   require([\"d3\"], function(d3){\n",
       "      window.d3 = d3;\n",
       "      mpld3_load_lib(\"https://mpld3.github.io/js/mpld3.v0.2.js\", function(){\n",
       "         \n",
       "         mpld3.draw_figure(\"fig_el772845578106409936251333\", {\"axes\": [{\"xlim\": [2.0800000000000001, 2.1200000000000001], \"yscale\": \"linear\", \"axesbg\": \"#FFFFFF\", \"texts\": [{\"v_baseline\": \"hanging\", \"h_anchor\": \"middle\", \"color\": \"#000000\", \"text\": \"rSNR3\", \"coordinates\": \"axes\", \"zorder\": 3, \"alpha\": 1, \"fontsize\": 20.0, \"position\": [0.5, -0.080645161290322578], \"rotation\": -0.0, \"id\": \"el77284504214160\"}, {\"v_baseline\": \"auto\", \"h_anchor\": \"middle\", \"color\": \"#000000\", \"text\": \"P(fail)\", \"coordinates\": \"axes\", \"zorder\": 3, \"alpha\": 1, \"fontsize\": 20.0, \"position\": [-0.090053763440860204, 0.5], \"rotation\": -90.0, \"id\": \"el77284552220816\"}, {\"v_baseline\": \"auto\", \"h_anchor\": \"middle\", \"color\": \"#000000\", \"text\": \"N=9\", \"coordinates\": \"axes\", \"zorder\": 3, \"alpha\": 1, \"fontsize\": 20.0, \"position\": [0.5, 1.0224014336917562], \"rotation\": -0.0, \"id\": \"el77284551934672\"}, {\"v_baseline\": \"auto\", \"h_anchor\": \"start\", \"color\": \"#000000\", \"text\": \"None\", \"coordinates\": \"axes\", \"zorder\": 1000003.0, \"alpha\": 1, \"fontsize\": 10.0, \"position\": [-0.16129032258064516, -0.16129032258064516], \"rotation\": -0.0, \"id\": \"el77284566433488\"}, {\"v_baseline\": \"auto\", \"h_anchor\": \"start\", \"color\": \"#000000\", \"text\": \"Protocol\", \"coordinates\": \"axes\", \"zorder\": 1000003.0, \"alpha\": 1, \"fontsize\": 12.0, \"position\": [0.48043374775985681, 0.91129032258064513], \"rotation\": -0.0, \"id\": \"el77284567151440\"}, {\"v_baseline\": \"auto\", \"h_anchor\": \"start\", \"color\": \"#000000\", \"text\": \"15.24\", \"coordinates\": \"axes\", \"zorder\": 1000003.0, \"alpha\": 1, \"fontsize\": 12.0, \"position\": [0.48043374775985681, 0.83198924731182788], \"rotation\": -0.0, \"id\": \"el77284567153616\"}, {\"v_baseline\": \"auto\", \"h_anchor\": \"start\", \"color\": \"#000000\", \"text\": \"15.25\", \"coordinates\": \"axes\", \"zorder\": 1000003.0, \"alpha\": 1, \"fontsize\": 12.0, \"position\": [0.48043374775985681, 0.75268817204301075], \"rotation\": -0.0, \"id\": \"el77284567180624\"}, {\"v_baseline\": \"auto\", \"h_anchor\": \"start\", \"color\": \"#000000\", \"text\": \"15.26\", \"coordinates\": \"axes\", \"zorder\": 1000003.0, \"alpha\": 1, \"fontsize\": 12.0, \"position\": [0.48043374775985681, 0.67338709677419351], \"rotation\": -0.0, \"id\": \"el77284567181968\"}, {\"v_baseline\": \"auto\", \"h_anchor\": \"start\", \"color\": \"#000000\", \"text\": \"15.27\", \"coordinates\": \"axes\", \"zorder\": 1000003.0, \"alpha\": 1, \"fontsize\": 12.0, \"position\": [0.48043374775985681, 0.59408602150537626], \"rotation\": -0.0, \"id\": \"el77284566430736\"}], \"zoomable\": true, \"images\": [], \"xdomain\": [2.0800000000000001, 2.1200000000000001], \"ylim\": [9.7999999999999992e-10, 1.0499999999999999e-09], \"paths\": [{\"edgecolor\": \"#000000\", \"facecolor\": \"#FFFFFF\", \"edgewidth\": 1.0, \"pathcodes\": [\"M\", \"L\", \"L\", \"L\", \"Z\"], \"yindex\": 1, \"coordinates\": \"axes\", \"dasharray\": \"10,0\", \"zorder\": 1000001.0, \"alpha\": 1, \"xindex\": 0, \"data\": \"data03\", \"id\": \"el77284547944080\"}], \"sharey\": [], \"sharex\": [], \"axesbgalpha\": null, \"axes\": [{\"scale\": \"linear\", \"tickformat\": null, \"grid\": {\"gridOn\": false}, \"fontsize\": 10.0, \"position\": \"bottom\", \"nticks\": 10, \"tickvalues\": null}, {\"scale\": \"linear\", \"tickformat\": null, \"grid\": {\"gridOn\": false}, \"fontsize\": 10.0, \"position\": \"left\", \"nticks\": 9, \"tickvalues\": null}], \"lines\": [{\"color\": \"#0000FF\", \"yindex\": 1, \"coordinates\": \"data\", \"dasharray\": \"10,0\", \"zorder\": 2, \"alpha\": 1, \"xindex\": 0, \"linewidth\": 2.0, \"data\": \"data01\", \"id\": \"el77284566966032\"}, {\"color\": \"#007F00\", \"yindex\": 2, \"coordinates\": \"data\", \"dasharray\": \"10,0\", \"zorder\": 2, \"alpha\": 1, \"xindex\": 0, \"linewidth\": 2.0, \"data\": \"data01\", \"id\": \"el77284567090960\"}, {\"color\": \"#FF0000\", \"yindex\": 3, \"coordinates\": \"data\", \"dasharray\": \"10,0\", \"zorder\": 2, \"alpha\": 1, \"xindex\": 0, \"linewidth\": 2.0, \"data\": \"data01\", \"id\": \"el77284567091472\"}, {\"color\": \"#00BFBF\", \"yindex\": 4, \"coordinates\": \"data\", \"dasharray\": \"10,0\", \"zorder\": 2, \"alpha\": 1, \"xindex\": 0, \"linewidth\": 2.0, \"data\": \"data01\", \"id\": \"el77284567093072\"}, {\"color\": \"#BF00BF\", \"yindex\": 5, \"coordinates\": \"data\", \"dasharray\": \"10,0\", \"zorder\": 2, \"alpha\": 1, \"xindex\": 0, \"linewidth\": 2.0, \"data\": \"data01\", \"id\": \"el77284567115216\"}, {\"color\": \"#0000FF\", \"yindex\": 1, \"coordinates\": \"axes\", \"dasharray\": \"10,0\", \"zorder\": 1000002.0, \"alpha\": 1, \"xindex\": 0, \"linewidth\": 2.0, \"data\": \"data02\", \"id\": \"el77284567089680\"}, {\"color\": \"#007F00\", \"yindex\": 2, \"coordinates\": \"axes\", \"dasharray\": \"10,0\", \"zorder\": 1000002.0, \"alpha\": 1, \"xindex\": 0, \"linewidth\": 2.0, \"data\": \"data02\", \"id\": \"el77284567154512\"}, {\"color\": \"#FF0000\", \"yindex\": 3, \"coordinates\": \"axes\", \"dasharray\": \"10,0\", \"zorder\": 1000002.0, \"alpha\": 1, \"xindex\": 0, \"linewidth\": 2.0, \"data\": \"data02\", \"id\": \"el77284567152912\"}, {\"color\": \"#00BFBF\", \"yindex\": 4, \"coordinates\": \"axes\", \"dasharray\": \"10,0\", \"zorder\": 1000002.0, \"alpha\": 1, \"xindex\": 0, \"linewidth\": 2.0, \"data\": \"data02\", \"id\": \"el77284567182864\"}, {\"color\": \"#BF00BF\", \"yindex\": 5, \"coordinates\": \"axes\", \"dasharray\": \"10,0\", \"zorder\": 1000002.0, \"alpha\": 1, \"xindex\": 0, \"linewidth\": 2.0, \"data\": \"data02\", \"id\": \"el77284566431632\"}], \"markers\": [], \"id\": \"el77284557809360\", \"ydomain\": [9.7999999999999992e-10, 1.0499999999999999e-09], \"collections\": [], \"xscale\": \"linear\", \"bbox\": [0.125, 0.125, 0.77500000000000002, 0.77500000000000002]}], \"height\": 320.0, \"width\": 480.0, \"plugins\": [{\"type\": \"reset\"}, {\"enabled\": false, \"button\": true, \"type\": \"zoom\"}, {\"enabled\": false, \"button\": true, \"type\": \"boxzoom\"}], \"data\": {\"data02\": [[0.39082801299283165, 0.9301075268817204, 0.8508064516129031, 0.771505376344086, 0.6922043010752688, 0.6129032258064515], [0.44100722446236573, 0.9301075268817204, 0.8508064516129031, 0.771505376344086, 0.6922043010752688, 0.6129032258064515]], \"data03\": [[0.3657384072580646, 0.560483870967742], [0.6342615927419356, 0.560483870967742], [0.6342615927419356, 0.9731182795698926], [0.3657384072580646, 0.9731182795698926]], \"data01\": [[2.08, 1e-09, 1.0382061876867965e-09, 1.0196805622086913e-09, 1.0015098750315587e-09, 9.836874648172511e-10], [2.09, 1e-09, 1.0360780011708925e-09, 1.0174124875916846e-09, 9.990626104183775e-10, 9.81065229055389e-10], [2.0999999999999996, 1e-09, 1.0358613966587882e-09, 1.0169644015789459e-09, 9.984298943166436e-10, 9.80294734276299e-10], [2.1099999999999994, 1e-09, 1.0372880332454315e-09, 1.0181954168686502e-09, 9.994701732907174e-10, 9.81105086061973e-10], [2.119999999999999, 1e-09, 1.0401588479425072e-09, 1.0208658363097811e-09, 1.001944416323397e-09, 9.83386927444485e-10]]}, \"id\": \"el77284557810640\"});\n",
       "      });\n",
       "    });\n",
       "}else{\n",
       "    // require.js not available: dynamically load d3 & mpld3\n",
       "    mpld3_load_lib(\"https://mpld3.github.io/js/d3.v3.min.js\", function(){\n",
       "         mpld3_load_lib(\"https://mpld3.github.io/js/mpld3.v0.2.js\", function(){\n",
       "                 \n",
       "                 mpld3.draw_figure(\"fig_el772845578106409936251333\", {\"axes\": [{\"xlim\": [2.0800000000000001, 2.1200000000000001], \"yscale\": \"linear\", \"axesbg\": \"#FFFFFF\", \"texts\": [{\"v_baseline\": \"hanging\", \"h_anchor\": \"middle\", \"color\": \"#000000\", \"text\": \"rSNR3\", \"coordinates\": \"axes\", \"zorder\": 3, \"alpha\": 1, \"fontsize\": 20.0, \"position\": [0.5, -0.080645161290322578], \"rotation\": -0.0, \"id\": \"el77284504214160\"}, {\"v_baseline\": \"auto\", \"h_anchor\": \"middle\", \"color\": \"#000000\", \"text\": \"P(fail)\", \"coordinates\": \"axes\", \"zorder\": 3, \"alpha\": 1, \"fontsize\": 20.0, \"position\": [-0.090053763440860204, 0.5], \"rotation\": -90.0, \"id\": \"el77284552220816\"}, {\"v_baseline\": \"auto\", \"h_anchor\": \"middle\", \"color\": \"#000000\", \"text\": \"N=9\", \"coordinates\": \"axes\", \"zorder\": 3, \"alpha\": 1, \"fontsize\": 20.0, \"position\": [0.5, 1.0224014336917562], \"rotation\": -0.0, \"id\": \"el77284551934672\"}, {\"v_baseline\": \"auto\", \"h_anchor\": \"start\", \"color\": \"#000000\", \"text\": \"None\", \"coordinates\": \"axes\", \"zorder\": 1000003.0, \"alpha\": 1, \"fontsize\": 10.0, \"position\": [-0.16129032258064516, -0.16129032258064516], \"rotation\": -0.0, \"id\": \"el77284566433488\"}, {\"v_baseline\": \"auto\", \"h_anchor\": \"start\", \"color\": \"#000000\", \"text\": \"Protocol\", \"coordinates\": \"axes\", \"zorder\": 1000003.0, \"alpha\": 1, \"fontsize\": 12.0, \"position\": [0.48043374775985681, 0.91129032258064513], \"rotation\": -0.0, \"id\": \"el77284567151440\"}, {\"v_baseline\": \"auto\", \"h_anchor\": \"start\", \"color\": \"#000000\", \"text\": \"15.24\", \"coordinates\": \"axes\", \"zorder\": 1000003.0, \"alpha\": 1, \"fontsize\": 12.0, \"position\": [0.48043374775985681, 0.83198924731182788], \"rotation\": -0.0, \"id\": \"el77284567153616\"}, {\"v_baseline\": \"auto\", \"h_anchor\": \"start\", \"color\": \"#000000\", \"text\": \"15.25\", \"coordinates\": \"axes\", \"zorder\": 1000003.0, \"alpha\": 1, \"fontsize\": 12.0, \"position\": [0.48043374775985681, 0.75268817204301075], \"rotation\": -0.0, \"id\": \"el77284567180624\"}, {\"v_baseline\": \"auto\", \"h_anchor\": \"start\", \"color\": \"#000000\", \"text\": \"15.26\", \"coordinates\": \"axes\", \"zorder\": 1000003.0, \"alpha\": 1, \"fontsize\": 12.0, \"position\": [0.48043374775985681, 0.67338709677419351], \"rotation\": -0.0, \"id\": \"el77284567181968\"}, {\"v_baseline\": \"auto\", \"h_anchor\": \"start\", \"color\": \"#000000\", \"text\": \"15.27\", \"coordinates\": \"axes\", \"zorder\": 1000003.0, \"alpha\": 1, \"fontsize\": 12.0, \"position\": [0.48043374775985681, 0.59408602150537626], \"rotation\": -0.0, \"id\": \"el77284566430736\"}], \"zoomable\": true, \"images\": [], \"xdomain\": [2.0800000000000001, 2.1200000000000001], \"ylim\": [9.7999999999999992e-10, 1.0499999999999999e-09], \"paths\": [{\"edgecolor\": \"#000000\", \"facecolor\": \"#FFFFFF\", \"edgewidth\": 1.0, \"pathcodes\": [\"M\", \"L\", \"L\", \"L\", \"Z\"], \"yindex\": 1, \"coordinates\": \"axes\", \"dasharray\": \"10,0\", \"zorder\": 1000001.0, \"alpha\": 1, \"xindex\": 0, \"data\": \"data03\", \"id\": \"el77284547944080\"}], \"sharey\": [], \"sharex\": [], \"axesbgalpha\": null, \"axes\": [{\"scale\": \"linear\", \"tickformat\": null, \"grid\": {\"gridOn\": false}, \"fontsize\": 10.0, \"position\": \"bottom\", \"nticks\": 10, \"tickvalues\": null}, {\"scale\": \"linear\", \"tickformat\": null, \"grid\": {\"gridOn\": false}, \"fontsize\": 10.0, \"position\": \"left\", \"nticks\": 9, \"tickvalues\": null}], \"lines\": [{\"color\": \"#0000FF\", \"yindex\": 1, \"coordinates\": \"data\", \"dasharray\": \"10,0\", \"zorder\": 2, \"alpha\": 1, \"xindex\": 0, \"linewidth\": 2.0, \"data\": \"data01\", \"id\": \"el77284566966032\"}, {\"color\": \"#007F00\", \"yindex\": 2, \"coordinates\": \"data\", \"dasharray\": \"10,0\", \"zorder\": 2, \"alpha\": 1, \"xindex\": 0, \"linewidth\": 2.0, \"data\": \"data01\", \"id\": \"el77284567090960\"}, {\"color\": \"#FF0000\", \"yindex\": 3, \"coordinates\": \"data\", \"dasharray\": \"10,0\", \"zorder\": 2, \"alpha\": 1, \"xindex\": 0, \"linewidth\": 2.0, \"data\": \"data01\", \"id\": \"el77284567091472\"}, {\"color\": \"#00BFBF\", \"yindex\": 4, \"coordinates\": \"data\", \"dasharray\": \"10,0\", \"zorder\": 2, \"alpha\": 1, \"xindex\": 0, \"linewidth\": 2.0, \"data\": \"data01\", \"id\": \"el77284567093072\"}, {\"color\": \"#BF00BF\", \"yindex\": 5, \"coordinates\": \"data\", \"dasharray\": \"10,0\", \"zorder\": 2, \"alpha\": 1, \"xindex\": 0, \"linewidth\": 2.0, \"data\": \"data01\", \"id\": \"el77284567115216\"}, {\"color\": \"#0000FF\", \"yindex\": 1, \"coordinates\": \"axes\", \"dasharray\": \"10,0\", \"zorder\": 1000002.0, \"alpha\": 1, \"xindex\": 0, \"linewidth\": 2.0, \"data\": \"data02\", \"id\": \"el77284567089680\"}, {\"color\": \"#007F00\", \"yindex\": 2, \"coordinates\": \"axes\", \"dasharray\": \"10,0\", \"zorder\": 1000002.0, \"alpha\": 1, \"xindex\": 0, \"linewidth\": 2.0, \"data\": \"data02\", \"id\": \"el77284567154512\"}, {\"color\": \"#FF0000\", \"yindex\": 3, \"coordinates\": \"axes\", \"dasharray\": \"10,0\", \"zorder\": 1000002.0, \"alpha\": 1, \"xindex\": 0, \"linewidth\": 2.0, \"data\": \"data02\", \"id\": \"el77284567152912\"}, {\"color\": \"#00BFBF\", \"yindex\": 4, \"coordinates\": \"axes\", \"dasharray\": \"10,0\", \"zorder\": 1000002.0, \"alpha\": 1, \"xindex\": 0, \"linewidth\": 2.0, \"data\": \"data02\", \"id\": \"el77284567182864\"}, {\"color\": \"#BF00BF\", \"yindex\": 5, \"coordinates\": \"axes\", \"dasharray\": \"10,0\", \"zorder\": 1000002.0, \"alpha\": 1, \"xindex\": 0, \"linewidth\": 2.0, \"data\": \"data02\", \"id\": \"el77284566431632\"}], \"markers\": [], \"id\": \"el77284557809360\", \"ydomain\": [9.7999999999999992e-10, 1.0499999999999999e-09], \"collections\": [], \"xscale\": \"linear\", \"bbox\": [0.125, 0.125, 0.77500000000000002, 0.77500000000000002]}], \"height\": 320.0, \"width\": 480.0, \"plugins\": [{\"type\": \"reset\"}, {\"enabled\": false, \"button\": true, \"type\": \"zoom\"}, {\"enabled\": false, \"button\": true, \"type\": \"boxzoom\"}], \"data\": {\"data02\": [[0.39082801299283165, 0.9301075268817204, 0.8508064516129031, 0.771505376344086, 0.6922043010752688, 0.6129032258064515], [0.44100722446236573, 0.9301075268817204, 0.8508064516129031, 0.771505376344086, 0.6922043010752688, 0.6129032258064515]], \"data03\": [[0.3657384072580646, 0.560483870967742], [0.6342615927419356, 0.560483870967742], [0.6342615927419356, 0.9731182795698926], [0.3657384072580646, 0.9731182795698926]], \"data01\": [[2.08, 1e-09, 1.0382061876867965e-09, 1.0196805622086913e-09, 1.0015098750315587e-09, 9.836874648172511e-10], [2.09, 1e-09, 1.0360780011708925e-09, 1.0174124875916846e-09, 9.990626104183775e-10, 9.81065229055389e-10], [2.0999999999999996, 1e-09, 1.0358613966587882e-09, 1.0169644015789459e-09, 9.984298943166436e-10, 9.80294734276299e-10], [2.1099999999999994, 1e-09, 1.0372880332454315e-09, 1.0181954168686502e-09, 9.994701732907174e-10, 9.81105086061973e-10], [2.119999999999999, 1e-09, 1.0401588479425072e-09, 1.0208658363097811e-09, 1.001944416323397e-09, 9.83386927444485e-10]]}, \"id\": \"el77284557810640\"});\n",
       "            })\n",
       "         });\n",
       "}\n",
       "</script>"
      ],
      "text/plain": [
       "<IPython.core.display.HTML object>"
      ]
     },
     "execution_count": 140,
     "metadata": {},
     "output_type": "execute_result"
    }
   ],
   "source": [
    "xn, yn = result.shape\n",
    "fig = figure()\n",
    "plot(rSNR3_range, 10**(-9)*ones(len(rSNR3_range),), lw=2.0, label='Protocol')\n",
    "for xk in range(xn):\n",
    "    plot(rSNR3_range, result[xk], lw=2.0, label='{0}'.format(tSNR_range[xk]))\n",
    "    print rSNR3_range[np.argmin(result[xk])]\n",
    "\n",
    "xlabel('rSNR3', fontsize=20)\n",
    "ylabel('P(fail)', fontsize=20)\n",
    "title('N={0}'.format(N), fontsize=20)\n",
    "legend(loc=0)\n",
    "mpld3.display(fig)"
   ]
  },
  {
   "cell_type": "code",
   "execution_count": 141,
   "metadata": {
    "collapsed": false
   },
   "outputs": [
    {
     "name": "stdout",
     "output_type": "stream",
     "text": [
      "9.98429894317e-10\n",
      "[  1.52600000e+01   6.20000000e-01   2.10000000e+00   6.76438002e-20\n",
      "   1.27030828e-03   1.13997602e-10]\n",
      "CPU times: user 828 ms, sys: 27.9 ms, total: 856 ms\n",
      "Wall time: 907 ms\n"
     ]
    }
   ],
   "source": [
    "%%time\n",
    "%run ../optimize_3_dct.py\n",
    "N = 9\n",
    "d_rSNR = 0.1\n",
    "d_tSNR = 0.1\n",
    "tx_SNR_range = np.arange(tSNR_start[N], 50, d_tSNR)\n",
    "optimize_3_data[N-start_node] = optimize_3(N, rSNRdu_start[N], rSNR3_start[N], tx_SNR_range, filepath_down, filepath_up, protocolbit, d_rSNR)\n",
    "print optimize_3_data[N-start_node]"
   ]
  },
  {
   "cell_type": "code",
   "execution_count": 43,
   "metadata": {
    "collapsed": false
   },
   "outputs": [
    {
     "name": "stdout",
     "output_type": "stream",
     "text": [
      "[  1.49000000e+01   2.00000000e+00   2.40000000e+00   1.14233669e-69\n",
      "   2.85747890e-08   1.63213992e-10]\n",
      "CPU times: user 9min 19s, sys: 2.27 s, total: 9min 21s\n",
      "Wall time: 9min 31s\n"
     ]
    }
   ],
   "source": [
    "%%time\n",
    "%run ../optimize_3_dct.py\n",
    "N = 10\n",
    "d_rSNR = 0.1\n",
    "d_tSNR = 0.1\n",
    "tx_SNR_range = np.arange(tSNR_start[N], 50, d_tSNR)\n",
    "optimize_3_data[N-start_node] = optimize_3(N, rSNRdu_start[N], rSNR3_start[N], tx_SNR_range, filepath_down, filepath_up, protocolbit, d_rSNR)\n",
    "print optimize_3_data[N-start_node]"
   ]
  },
  {
   "cell_type": "code",
   "execution_count": 44,
   "metadata": {
    "collapsed": false
   },
   "outputs": [
    {
     "name": "stdout",
     "output_type": "stream",
     "text": [
      "[  1.42000000e+01   2.00000000e+00   2.70000000e+00   6.70281058e-64\n",
      "   3.21730552e-07   7.47000520e-11]\n",
      "CPU times: user 16min 45s, sys: 3.99 s, total: 16min 49s\n",
      "Wall time: 17min 5s\n"
     ]
    }
   ],
   "source": [
    "%%time\n",
    "%run ../optimize_3_dct.py\n",
    "N = 11\n",
    "d_rSNR = 0.1\n",
    "d_tSNR = 0.1\n",
    "tx_SNR_range = np.arange(tSNR_start[N], 50, d_tSNR)\n",
    "optimize_3_data[N-start_node] = optimize_3(N, rSNRdu_start[N], rSNR3_start[N], tx_SNR_range, filepath_down, filepath_up, protocolbit, d_rSNR)\n",
    "print optimize_3_data[N-start_node]"
   ]
  },
  {
   "cell_type": "code",
   "execution_count": 45,
   "metadata": {
    "collapsed": false
   },
   "outputs": [
    {
     "name": "stdout",
     "output_type": "stream",
     "text": [
      "[  1.36000000e+01   2.00000000e+00   3.00000000e+00   4.11569107e-59\n",
      "   3.52011798e-06   6.84675633e-11]\n",
      "CPU times: user 13min 31s, sys: 3.48 s, total: 13min 34s\n",
      "Wall time: 13min 48s\n"
     ]
    }
   ],
   "source": [
    "%%time\n",
    "%run ../optimize_3_dct.py\n",
    "N = 12\n",
    "d_rSNR = 0.1\n",
    "d_tSNR = 0.1\n",
    "tx_SNR_range = np.arange(tSNR_start[N], 50, d_tSNR)\n",
    "optimize_3_data[N-start_node] = optimize_3(N, rSNRdu_start[N], rSNR3_start[N], tx_SNR_range, filepath_down, filepath_up, protocolbit, d_rSNR)\n",
    "print optimize_3_data[N-start_node]"
   ]
  },
  {
   "cell_type": "code",
   "execution_count": 46,
   "metadata": {
    "collapsed": false
   },
   "outputs": [
    {
     "name": "stdout",
     "output_type": "stream",
     "text": [
      "[  1.34000000e+001   3.00000000e+000   3.10000000e+000   6.69315868e-108\n",
      "   3.70914022e-010   1.12618730e-010]\n",
      "CPU times: user 15min 41s, sys: 3.89 s, total: 15min 45s\n",
      "Wall time: 16min 1s\n"
     ]
    }
   ],
   "source": [
    "%%time\n",
    "%run ../optimize_3_dct.py\n",
    "N = 13\n",
    "d_rSNR = 0.1\n",
    "d_tSNR = 0.1\n",
    "tx_SNR_range = np.arange(tSNR_start[N], 50, d_tSNR)\n",
    "optimize_3_data[N-start_node] = optimize_3(N, rSNRdu_start[N], rSNR3_start[N], tx_SNR_range, filepath_down, filepath_up, protocolbit, d_rSNR)\n",
    "print optimize_3_data[N-start_node]"
   ]
  },
  {
   "cell_type": "code",
   "execution_count": 47,
   "metadata": {
    "collapsed": false
   },
   "outputs": [
    {
     "name": "stdout",
     "output_type": "stream",
     "text": [
      "[  1.30000000e+001   3.00000000e+000   3.30000000e+000   9.37141513e-100\n",
      "   2.89800421e-009   9.98123167e-011]\n",
      "CPU times: user 13min 6s, sys: 3.81 s, total: 13min 10s\n",
      "Wall time: 13min 29s\n"
     ]
    }
   ],
   "source": [
    "%%time\n",
    "%run ../optimize_3_dct.py\n",
    "N = 14\n",
    "d_rSNR = 0.1\n",
    "d_tSNR = 0.1\n",
    "tx_SNR_range = np.arange(tSNR_start[N], 50, d_tSNR)\n",
    "optimize_3_data[N-start_node] = optimize_3(N, rSNRdu_start[N], rSNR3_start[N], tx_SNR_range, filepath_down, filepath_up, protocolbit, d_rSNR)\n",
    "print optimize_3_data[N-start_node]"
   ]
  },
  {
   "cell_type": "code",
   "execution_count": 48,
   "metadata": {
    "collapsed": false
   },
   "outputs": [
    {
     "name": "stdout",
     "output_type": "stream",
     "text": [
      "[  1.28000000e+01   3.00000000e+00   3.80000000e+00   6.12481823e-93\n",
      "   2.32472777e-07   9.11741028e-11]\n",
      "CPU times: user 16min 8s, sys: 3.42 s, total: 16min 11s\n",
      "Wall time: 16min 29s\n"
     ]
    }
   ],
   "source": [
    "%%time\n",
    "%run ../optimize_3_dct.py\n",
    "N = 15\n",
    "d_rSNR = 0.1\n",
    "d_tSNR = 0.1\n",
    "tx_SNR_range = np.arange(tSNR_start[N], 50, d_tSNR)\n",
    "optimize_3_data[N-start_node] = optimize_3(N, rSNRdu_start[N], rSNR3_start[N], tx_SNR_range, filepath_down, filepath_up, protocolbit, d_rSNR)\n",
    "print optimize_3_data[N-start_node]"
   ]
  },
  {
   "cell_type": "code",
   "execution_count": 49,
   "metadata": {
    "collapsed": false
   },
   "outputs": [
    {
     "name": "stdout",
     "output_type": "stream",
     "text": [
      "[  1.23000000e+01   3.00000000e+00   3.80000000e+00   3.45121120e-85\n",
      "   1.21996725e-07   4.62973689e-11]\n",
      "CPU times: user 26min 3s, sys: 11.1 s, total: 26min 14s\n",
      "Wall time: 30min 33s\n"
     ]
    }
   ],
   "source": [
    "%%time\n",
    "%run ../optimize_3_dct.py\n",
    "N = 16\n",
    "d_rSNR = 0.1\n",
    "d_tSNR = 0.1\n",
    "tx_SNR_range = np.arange(tSNR_start[N], 50, d_tSNR)\n",
    "optimize_3_data[N-start_node] = optimize_3(N, rSNRdu_start[N], rSNR3_start[N], tx_SNR_range, filepath_down, filepath_up, protocolbit, d_rSNR)\n",
    "print optimize_3_data[N-start_node]"
   ]
  },
  {
   "cell_type": "code",
   "execution_count": 50,
   "metadata": {
    "collapsed": false
   },
   "outputs": [
    {
     "name": "stdout",
     "output_type": "stream",
     "text": [
      "[  1.25000000e+001   4.00000000e+000   4.10000000e+000   8.45459957e-138\n",
      "   1.61925300e-010   5.75744075e-011]\n",
      "CPU times: user 20min 54s, sys: 9.43 s, total: 21min 3s\n",
      "Wall time: 21min 49s\n"
     ]
    }
   ],
   "source": [
    "%%time\n",
    "%run ../optimize_3_dct.py\n",
    "N = 17\n",
    "d_rSNR = 0.1\n",
    "d_tSNR = 0.1\n",
    "tx_SNR_range = np.arange(tSNR_start[N], 50, d_tSNR)\n",
    "optimize_3_data[N-start_node] = optimize_3(N, rSNRdu_start[N], rSNR3_start[N], tx_SNR_range, filepath_down, filepath_up, protocolbit, d_rSNR)\n",
    "print optimize_3_data[N-start_node]"
   ]
  },
  {
   "cell_type": "code",
   "execution_count": 51,
   "metadata": {
    "collapsed": false
   },
   "outputs": [
    {
     "name": "stdout",
     "output_type": "stream",
     "text": [
      "[  1.23000000e+001   4.00000000e+000   4.50000000e+000   1.95818949e-128\n",
      "   3.68079835e-009   3.18981187e-011]\n",
      "CPU times: user 22min 4s, sys: 8.26 s, total: 22min 12s\n",
      "Wall time: 22min 53s\n"
     ]
    }
   ],
   "source": [
    "%%time\n",
    "%run ../optimize_3_dct.py\n",
    "N = 18\n",
    "d_rSNR = 0.1\n",
    "d_tSNR = 0.1\n",
    "tx_SNR_range = np.arange(tSNR_start[N], 50, d_tSNR)\n",
    "optimize_3_data[N-start_node] = optimize_3(N, rSNRdu_start[N], rSNR3_start[N], tx_SNR_range, filepath_down, filepath_up, protocolbit, d_rSNR)\n",
    "print optimize_3_data[N-start_node]"
   ]
  },
  {
   "cell_type": "code",
   "execution_count": 52,
   "metadata": {
    "collapsed": false
   },
   "outputs": [
    {
     "name": "stdout",
     "output_type": "stream",
     "text": [
      "[  1.23000000e+001   4.00000000e+000   4.90000000e+000   9.91725070e-118\n",
      "   1.05625993e-007   4.88463984e-011]\n",
      "CPU times: user 32min 36s, sys: 12.6 s, total: 32min 48s\n",
      "Wall time: 33min 52s\n"
     ]
    }
   ],
   "source": [
    "%%time\n",
    "%run ../optimize_3_dct.py\n",
    "N = 19\n",
    "d_rSNR = 0.1\n",
    "d_tSNR = 0.1\n",
    "tx_SNR_range = np.arange(tSNR_start[N], 50, d_tSNR)\n",
    "optimize_3_data[N-start_node] = optimize_3(N, rSNRdu_start[N], rSNR3_start[N], tx_SNR_range, filepath_down, filepath_up, protocolbit, d_rSNR)\n",
    "print optimize_3_data[N-start_node]"
   ]
  },
  {
   "cell_type": "code",
   "execution_count": 53,
   "metadata": {
    "collapsed": false
   },
   "outputs": [
    {
     "name": "stdout",
     "output_type": "stream",
     "text": [
      "[  1.19000000e+001   4.00000000e+000   4.90000000e+000   2.84055025e-107\n",
      "   6.11872158e-008   2.79653818e-011]\n",
      "CPU times: user 24min 5s, sys: 9.49 s, total: 24min 14s\n",
      "Wall time: 25min 13s\n"
     ]
    }
   ],
   "source": [
    "%%time\n",
    "%run ../optimize_3_dct.py\n",
    "N = 20\n",
    "d_rSNR = 0.1\n",
    "d_tSNR = 0.1\n",
    "tx_SNR_range = np.arange(tSNR_start[N], 50, d_tSNR)\n",
    "optimize_3_data[N-start_node] = optimize_3(N, rSNRdu_start[N], rSNR3_start[N], tx_SNR_range, filepath_down, filepath_up, protocolbit, d_rSNR)\n",
    "print optimize_3_data[N-start_node]"
   ]
  },
  {
   "cell_type": "code",
   "execution_count": 54,
   "metadata": {
    "collapsed": false
   },
   "outputs": [
    {
     "name": "stdout",
     "output_type": "stream",
     "text": [
      "[  1.24000000e+001   5.00000000e+000   5.40000000e+000   4.46807807e-160\n",
      "   1.27944396e-009   4.35678178e-011]\n",
      "CPU times: user 29min 13s, sys: 14.6 s, total: 29min 27s\n",
      "Wall time: 31min 33s\n"
     ]
    }
   ],
   "source": [
    "%%time\n",
    "%run ../optimize_3_dct.py\n",
    "N = 21\n",
    "d_rSNR = 0.1\n",
    "d_tSNR = 0.1\n",
    "tx_SNR_range = np.arange(tSNR_start[N], 50, d_tSNR)\n",
    "optimize_3_data[N-start_node] = optimize_3(N, rSNRdu_start[N], rSNR3_start[N], tx_SNR_range, filepath_down, filepath_up, protocolbit, d_rSNR)\n",
    "print optimize_3_data[N-start_node]"
   ]
  },
  {
   "cell_type": "code",
   "execution_count": 55,
   "metadata": {
    "collapsed": false
   },
   "outputs": [
    {
     "name": "stdout",
     "output_type": "stream",
     "text": [
      "[  1.21000000e+001   5.00000000e+000   5.40000000e+000   1.18209810e-145\n",
      "   9.90465461e-010   3.36971814e-011]\n",
      "CPU times: user 21min 38s, sys: 6.77 s, total: 21min 45s\n",
      "Wall time: 22min 17s\n"
     ]
    }
   ],
   "source": [
    "%%time\n",
    "%run ../optimize_3_dct.py\n",
    "N = 22\n",
    "d_rSNR = 0.1\n",
    "d_tSNR = 0.1\n",
    "tx_SNR_range = np.arange(tSNR_start[N], 50, d_tSNR)\n",
    "optimize_3_data[N-start_node] = optimize_3(N, rSNRdu_start[N], rSNR3_start[N], tx_SNR_range, filepath_down, filepath_up, protocolbit, d_rSNR)\n",
    "print optimize_3_data[N-start_node]"
   ]
  },
  {
   "cell_type": "code",
   "execution_count": 56,
   "metadata": {
    "collapsed": false
   },
   "outputs": [
    {
     "name": "stdout",
     "output_type": "stream",
     "text": [
      "[  1.23000000e+001   5.00000000e+000   6.10000000e+000   1.62038215e-131\n",
      "   1.07920804e-007   3.44680432e-011]\n",
      "CPU times: user 44min 13s, sys: 12.3 s, total: 44min 26s\n",
      "Wall time: 8h 19min 4s\n"
     ]
    }
   ],
   "source": [
    "%%time\n",
    "%run ../optimize_3_dct.py\n",
    "N = 23\n",
    "d_rSNR = 0.1\n",
    "d_tSNR = 0.1\n",
    "tx_SNR_range = np.arange(tSNR_start[N], 50, d_tSNR)\n",
    "optimize_3_data[N-start_node] = optimize_3(N, rSNRdu_start[N], rSNR3_start[N], tx_SNR_range, filepath_down, filepath_up, protocolbit, d_rSNR)\n",
    "print optimize_3_data[N-start_node]"
   ]
  },
  {
   "cell_type": "code",
   "execution_count": 57,
   "metadata": {
    "collapsed": false
   },
   "outputs": [
    {
     "name": "stdout",
     "output_type": "stream",
     "text": [
      "[  1.21000000e+001   5.00000000e+000   6.00000000e+000   1.21969935e-119\n",
      "   8.64878463e-008   6.23080619e-011]\n",
      "CPU times: user 40min 6s, sys: 9.99 s, total: 40min 16s\n",
      "Wall time: 40min 57s\n"
     ]
    }
   ],
   "source": [
    "%%time\n",
    "%run ../optimize_3_dct.py\n",
    "N = 24\n",
    "d_rSNR = 0.1\n",
    "d_tSNR = 0.1\n",
    "tx_SNR_range = np.arange(tSNR_start[N], 50, d_tSNR)\n",
    "optimize_3_data[N-start_node] = optimize_3(N, rSNRdu_start[N], rSNR3_start[N], tx_SNR_range, filepath_down, filepath_up, protocolbit, d_rSNR)\n",
    "print optimize_3_data[N-start_node]"
   ]
  },
  {
   "cell_type": "code",
   "execution_count": 58,
   "metadata": {
    "collapsed": false
   },
   "outputs": [
    {
     "name": "stdout",
     "output_type": "stream",
     "text": [
      "[  1.30000000e+001   6.00000000e+000   7.00000000e+000   1.67831041e-162\n",
      "   4.36998349e-008   5.11396847e-011]\n",
      "CPU times: user 1min 8s, sys: 283 ms, total: 1min 8s\n",
      "Wall time: 1min 10s\n"
     ]
    }
   ],
   "source": [
    "%%time\n",
    "%run ../optimize_3_dct.py\n",
    "N = 25\n",
    "d_rSNR = 0.1\n",
    "d_tSNR = 0.1\n",
    "tx_SNR_range = np.arange(tSNR_start[N], 50, d_tSNR)\n",
    "optimize_3_data[N-start_node] = optimize_3(N, rSNRdu_start[N], rSNR3_start[N], tx_SNR_range, filepath_down, filepath_up, protocolbit, d_rSNR)\n",
    "print optimize_3_data[N-start_node]"
   ]
  },
  {
   "cell_type": "code",
   "execution_count": 59,
   "metadata": {
    "collapsed": false
   },
   "outputs": [
    {
     "name": "stdout",
     "output_type": "stream",
     "text": [
      "[  1.30000000e+001   6.00000000e+000   6.90000000e+000   9.03535129e-144\n",
      "   3.68096991e-008   9.05097010e-011]\n",
      "CPU times: user 56.8 s, sys: 222 ms, total: 57 s\n",
      "Wall time: 58 s\n"
     ]
    }
   ],
   "source": [
    "%%time\n",
    "%run ../optimize_3_dct.py\n",
    "N = 26\n",
    "d_rSNR = 0.1\n",
    "d_tSNR = 0.1\n",
    "tx_SNR_range = np.arange(tSNR_start[N], 50, d_tSNR)\n",
    "optimize_3_data[N-start_node] = optimize_3(N, rSNRdu_start[N], rSNR3_start[N], tx_SNR_range, filepath_down, filepath_up, protocolbit, d_rSNR)\n",
    "print optimize_3_data[N-start_node]"
   ]
  },
  {
   "cell_type": "code",
   "execution_count": 60,
   "metadata": {
    "collapsed": false
   },
   "outputs": [
    {
     "name": "stdout",
     "output_type": "stream",
     "text": [
      "[  1.30000000e+001   6.00000000e+000   6.90000000e+000   5.15563762e-128\n",
      "   3.06829500e-008   7.54274693e-011]\n",
      "CPU times: user 58.9 s, sys: 238 ms, total: 59.1 s\n",
      "Wall time: 1min\n"
     ]
    }
   ],
   "source": [
    "%%time\n",
    "%run ../optimize_3_dct.py\n",
    "N = 27\n",
    "d_rSNR = 0.1\n",
    "d_tSNR = 0.1\n",
    "tx_SNR_range = np.arange(tSNR_start[N], 50, d_tSNR)\n",
    "optimize_3_data[N-start_node] = optimize_3(N, rSNRdu_start[N], rSNR3_start[N], tx_SNR_range, filepath_down, filepath_up, protocolbit, d_rSNR)\n",
    "print optimize_3_data[N-start_node]"
   ]
  },
  {
   "cell_type": "code",
   "execution_count": 61,
   "metadata": {
    "collapsed": false
   },
   "outputs": [
    {
     "name": "stdout",
     "output_type": "stream",
     "text": [
      "[  1.40000000e+001   8.00000000e+000   8.50000000e+000   6.75300532e-224\n",
      "   7.16062748e-010   2.68585371e-011]\n",
      "CPU times: user 16.9 s, sys: 66.9 ms, total: 17 s\n",
      "Wall time: 17.2 s\n"
     ]
    }
   ],
   "source": [
    "%%time\n",
    "%run ../optimize_3_dct.py\n",
    "N = 28\n",
    "d_rSNR = 0.1\n",
    "d_tSNR = 0.1\n",
    "tx_SNR_range = np.arange(tSNR_start[N], 50, d_tSNR)\n",
    "optimize_3_data[N-start_node] = optimize_3(N, rSNRdu_start[N], rSNR3_start[N], tx_SNR_range, filepath_down, filepath_up, protocolbit, d_rSNR)\n",
    "print optimize_3_data[N-start_node]"
   ]
  },
  {
   "cell_type": "code",
   "execution_count": 62,
   "metadata": {
    "collapsed": false
   },
   "outputs": [
    {
     "name": "stdout",
     "output_type": "stream",
     "text": [
      "[  1.40000000e+001   8.00000000e+000   8.40000000e+000   5.16746256e-191\n",
      "   6.31821038e-010   4.70384563e-011]\n",
      "CPU times: user 11.5 s, sys: 51 ms, total: 11.6 s\n",
      "Wall time: 11.8 s\n"
     ]
    }
   ],
   "source": [
    "%%time\n",
    "%run ../optimize_3_dct.py\n",
    "N = 29\n",
    "d_rSNR = 0.1\n",
    "d_tSNR = 0.1\n",
    "tx_SNR_range = np.arange(tSNR_start[N], 50, d_tSNR)\n",
    "optimize_3_data[N-start_node] = optimize_3(N, rSNRdu_start[N], rSNR3_start[N], tx_SNR_range, filepath_down, filepath_up, protocolbit, d_rSNR)\n",
    "print optimize_3_data[N-start_node]"
   ]
  },
  {
   "cell_type": "code",
   "execution_count": 63,
   "metadata": {
    "collapsed": false
   },
   "outputs": [
    {
     "name": "stdout",
     "output_type": "stream",
     "text": [
      "[  1.50000000e+001   8.00000000e+000   8.30000000e+000   3.08542309e-163\n",
      "   5.52844254e-010   8.04953203e-011]\n",
      "CPU times: user 6.32 s, sys: 26.1 ms, total: 6.35 s\n",
      "Wall time: 6.46 s\n"
     ]
    }
   ],
   "source": [
    "%%time\n",
    "%run ../optimize_3_dct.py\n",
    "N = 30\n",
    "d_rSNR = 0.1\n",
    "d_tSNR = 0.1\n",
    "tx_SNR_range = np.arange(tSNR_start[N], 50, d_tSNR)\n",
    "optimize_3_data[N-start_node] = optimize_3(N, rSNRdu_start[N], rSNR3_start[N], tx_SNR_range, filepath_down, filepath_up, protocolbit, d_rSNR)\n",
    "print optimize_3_data[N-start_node]"
   ]
  },
  {
   "cell_type": "code",
   "execution_count": 64,
   "metadata": {
    "collapsed": false
   },
   "outputs": [
    {
     "name": "stdout",
     "output_type": "stream",
     "text": [
      "[  1.70000000e+01   1.00000000e+01   1.10000000e+01   0.00000000e+00\n",
      "   1.41684064e-08   6.45133946e-11]\n",
      "CPU times: user 1min 25s, sys: 408 ms, total: 1min 26s\n",
      "Wall time: 1min 27s\n"
     ]
    }
   ],
   "source": [
    "%%time\n",
    "%run ../optimize_3_dct.py\n",
    "N = 31\n",
    "d_rSNR = 0.1\n",
    "d_tSNR = 0.1\n",
    "tx_SNR_range = np.arange(tSNR_start[N], 50, d_tSNR)\n",
    "optimize_3_data[N-start_node] = optimize_3(N, rSNRdu_start[N], rSNR3_start[N], tx_SNR_range, filepath_down, filepath_up, protocolbit, d_rSNR)\n",
    "print optimize_3_data[N-start_node]"
   ]
  },
  {
   "cell_type": "code",
   "execution_count": 94,
   "metadata": {
    "collapsed": false
   },
   "outputs": [
    {
     "name": "stdout",
     "output_type": "stream",
     "text": [
      "[  1.42000000e+01   5.00000000e+00   1.10000000e+01   3.61982254e-26\n",
      "   3.01965021e-02   6.02125016e-11]\n",
      "CPU times: user 26min 32s, sys: 7.36 s, total: 26min 40s\n",
      "Wall time: 27min 33s\n"
     ]
    },
    {
     "name": "stderr",
     "output_type": "stream",
     "text": [
      "<string>:182: RuntimeWarning: divide by zero encountered in log10\n"
     ]
    }
   ],
   "source": [
    "%%time\n",
    "%run ../optimize_3_dct.py\n",
    "N = 32\n",
    "d_rSNR = 0.1\n",
    "d_tSNR = 0.1\n",
    "tx_SNR_range = np.arange(tSNR_start[N], 50, d_tSNR)\n",
    "optimize_3_data[N-start_node] = optimize_3(N, rSNRdu_start[N], rSNR3_start[N], tx_SNR_range, filepath_down, filepath_up, protocolbit, d_rSNR)\n",
    "print optimize_3_data[N-start_node]"
   ]
  },
  {
   "cell_type": "code",
   "execution_count": 92,
   "metadata": {
    "collapsed": false
   },
   "outputs": [
    {
     "name": "stdout",
     "output_type": "stream",
     "text": [
      "[  1.41000000e+01   5.00000000e+00   1.10000000e+01   4.77342963e-18\n",
      "   3.01965021e-02   6.02125016e-11]\n",
      "CPU times: user 47min 1s, sys: 28.4 s, total: 47min 30s\n",
      "Wall time: 57min 16s\n"
     ]
    }
   ],
   "source": [
    "%%time\n",
    "%run ../optimize_3_dct.py\n",
    "N = 33\n",
    "d_rSNR = 0.1\n",
    "d_tSNR = 0.1\n",
    "tx_SNR_range = np.arange(tSNR_start[N], 50, d_tSNR)\n",
    "optimize_3_data[N-start_node] = optimize_3(N, rSNRdu_start[N], rSNR3_start[N], tx_SNR_range, filepath_down, filepath_up, protocolbit, d_rSNR)\n",
    "print optimize_3_data[N-start_node]"
   ]
  },
  {
   "cell_type": "code",
   "execution_count": 91,
   "metadata": {
    "collapsed": false
   },
   "outputs": [
    {
     "name": "stdout",
     "output_type": "stream",
     "text": [
      "[  1.40000000e+01   5.00000000e+00   1.10000000e+01   1.15876574e-09\n",
      "   3.01965021e-02   6.02125016e-11]\n",
      "CPU times: user 59min 43s, sys: 37.9 s, total: 1h 21s\n",
      "Wall time: 1h 12min 17s\n"
     ]
    }
   ],
   "source": [
    "%%time\n",
    "%run ../optimize_3_dct.py\n",
    "N = 34\n",
    "d_rSNR = 0.1\n",
    "d_tSNR = 0.1\n",
    "tx_SNR_range = np.arange(tSNR_start[N], 50, d_tSNR)\n",
    "optimize_3_data[N-start_node] = optimize_3(N, rSNRdu_start[N], rSNR3_start[N], tx_SNR_range, filepath_down, filepath_up, protocolbit, d_rSNR)\n",
    "print optimize_3_data[N-start_node]"
   ]
  },
  {
   "cell_type": "code",
   "execution_count": 89,
   "metadata": {
    "collapsed": false
   },
   "outputs": [
    {
     "ename": "KeyboardInterrupt",
     "evalue": "",
     "output_type": "error",
     "traceback": [
      "\u001b[0;31m---------------------------------------------------------------------------\u001b[0m",
      "\u001b[0;31mKeyboardInterrupt\u001b[0m                         Traceback (most recent call last)",
      "\u001b[0;32m<ipython-input-89-daf335ab2327>\u001b[0m in \u001b[0;36m<module>\u001b[0;34m()\u001b[0m\n\u001b[0;32m----> 1\u001b[0;31m \u001b[0mget_ipython\u001b[0m\u001b[0;34m(\u001b[0m\u001b[0;34m)\u001b[0m\u001b[0;34m.\u001b[0m\u001b[0mrun_cell_magic\u001b[0m\u001b[0;34m(\u001b[0m\u001b[0;34mu'time'\u001b[0m\u001b[0;34m,\u001b[0m \u001b[0;34mu''\u001b[0m\u001b[0;34m,\u001b[0m \u001b[0;34mu'%run ../optimize_3_dct.py\\nN = 35\\nd_rSNR = 0.1\\nd_tSNR = 0.1\\ntx_SNR_range = np.arange(tSNR_start[N], 50, d_tSNR)\\noptimize_3_data[N-start_node] = optimize_3(N, rSNRdu_start[N], rSNR3_start[N], tx_SNR_range, filepath_down, filepath_up, protocolbit, d_rSNR)\\nprint optimize_3_data[N-start_node]'\u001b[0m\u001b[0;34m)\u001b[0m\u001b[0;34m\u001b[0m\u001b[0m\n\u001b[0m",
      "\u001b[0;32m/Users/leahdickstein/anaconda/lib/python2.7/site-packages/IPython/core/interactiveshell.pyc\u001b[0m in \u001b[0;36mrun_cell_magic\u001b[0;34m(self, magic_name, line, cell)\u001b[0m\n\u001b[1;32m   2291\u001b[0m             \u001b[0mmagic_arg_s\u001b[0m \u001b[0;34m=\u001b[0m \u001b[0mself\u001b[0m\u001b[0;34m.\u001b[0m\u001b[0mvar_expand\u001b[0m\u001b[0;34m(\u001b[0m\u001b[0mline\u001b[0m\u001b[0;34m,\u001b[0m \u001b[0mstack_depth\u001b[0m\u001b[0;34m)\u001b[0m\u001b[0;34m\u001b[0m\u001b[0m\n\u001b[1;32m   2292\u001b[0m             \u001b[0;32mwith\u001b[0m \u001b[0mself\u001b[0m\u001b[0;34m.\u001b[0m\u001b[0mbuiltin_trap\u001b[0m\u001b[0;34m:\u001b[0m\u001b[0;34m\u001b[0m\u001b[0m\n\u001b[0;32m-> 2293\u001b[0;31m                 \u001b[0mresult\u001b[0m \u001b[0;34m=\u001b[0m \u001b[0mfn\u001b[0m\u001b[0;34m(\u001b[0m\u001b[0mmagic_arg_s\u001b[0m\u001b[0;34m,\u001b[0m \u001b[0mcell\u001b[0m\u001b[0;34m)\u001b[0m\u001b[0;34m\u001b[0m\u001b[0m\n\u001b[0m\u001b[1;32m   2294\u001b[0m             \u001b[0;32mreturn\u001b[0m \u001b[0mresult\u001b[0m\u001b[0;34m\u001b[0m\u001b[0m\n\u001b[1;32m   2295\u001b[0m \u001b[0;34m\u001b[0m\u001b[0m\n",
      "\u001b[0;32m/Users/leahdickstein/anaconda/lib/python2.7/site-packages/IPython/core/magics/execution.pyc\u001b[0m in \u001b[0;36mtime\u001b[0;34m(self, line, cell, local_ns)\u001b[0m\n",
      "\u001b[0;32m/Users/leahdickstein/anaconda/lib/python2.7/site-packages/IPython/core/magic.pyc\u001b[0m in \u001b[0;36m<lambda>\u001b[0;34m(f, *a, **k)\u001b[0m\n\u001b[1;32m    191\u001b[0m     \u001b[0;31m# but it's overkill for just that one bit of state.\u001b[0m\u001b[0;34m\u001b[0m\u001b[0;34m\u001b[0m\u001b[0m\n\u001b[1;32m    192\u001b[0m     \u001b[0;32mdef\u001b[0m \u001b[0mmagic_deco\u001b[0m\u001b[0;34m(\u001b[0m\u001b[0marg\u001b[0m\u001b[0;34m)\u001b[0m\u001b[0;34m:\u001b[0m\u001b[0;34m\u001b[0m\u001b[0m\n\u001b[0;32m--> 193\u001b[0;31m         \u001b[0mcall\u001b[0m \u001b[0;34m=\u001b[0m \u001b[0;32mlambda\u001b[0m \u001b[0mf\u001b[0m\u001b[0;34m,\u001b[0m \u001b[0;34m*\u001b[0m\u001b[0ma\u001b[0m\u001b[0;34m,\u001b[0m \u001b[0;34m**\u001b[0m\u001b[0mk\u001b[0m\u001b[0;34m:\u001b[0m \u001b[0mf\u001b[0m\u001b[0;34m(\u001b[0m\u001b[0;34m*\u001b[0m\u001b[0ma\u001b[0m\u001b[0;34m,\u001b[0m \u001b[0;34m**\u001b[0m\u001b[0mk\u001b[0m\u001b[0;34m)\u001b[0m\u001b[0;34m\u001b[0m\u001b[0m\n\u001b[0m\u001b[1;32m    194\u001b[0m \u001b[0;34m\u001b[0m\u001b[0m\n\u001b[1;32m    195\u001b[0m         \u001b[0;32mif\u001b[0m \u001b[0mcallable\u001b[0m\u001b[0;34m(\u001b[0m\u001b[0marg\u001b[0m\u001b[0;34m)\u001b[0m\u001b[0;34m:\u001b[0m\u001b[0;34m\u001b[0m\u001b[0m\n",
      "\u001b[0;32m/Users/leahdickstein/anaconda/lib/python2.7/site-packages/IPython/core/magics/execution.pyc\u001b[0m in \u001b[0;36mtime\u001b[0;34m(self, line, cell, local_ns)\u001b[0m\n\u001b[1;32m   1165\u001b[0m         \u001b[0;32melse\u001b[0m\u001b[0;34m:\u001b[0m\u001b[0;34m\u001b[0m\u001b[0m\n\u001b[1;32m   1166\u001b[0m             \u001b[0mst\u001b[0m \u001b[0;34m=\u001b[0m \u001b[0mclock2\u001b[0m\u001b[0;34m(\u001b[0m\u001b[0;34m)\u001b[0m\u001b[0;34m\u001b[0m\u001b[0m\n\u001b[0;32m-> 1167\u001b[0;31m             \u001b[0;32mexec\u001b[0m\u001b[0;34m(\u001b[0m\u001b[0mcode\u001b[0m\u001b[0;34m,\u001b[0m \u001b[0mglob\u001b[0m\u001b[0;34m,\u001b[0m \u001b[0mlocal_ns\u001b[0m\u001b[0;34m)\u001b[0m\u001b[0;34m\u001b[0m\u001b[0m\n\u001b[0m\u001b[1;32m   1168\u001b[0m             \u001b[0mend\u001b[0m \u001b[0;34m=\u001b[0m \u001b[0mclock2\u001b[0m\u001b[0;34m(\u001b[0m\u001b[0;34m)\u001b[0m\u001b[0;34m\u001b[0m\u001b[0m\n\u001b[1;32m   1169\u001b[0m             \u001b[0mout\u001b[0m \u001b[0;34m=\u001b[0m \u001b[0mNone\u001b[0m\u001b[0;34m\u001b[0m\u001b[0m\n",
      "\u001b[0;32m<timed exec>\u001b[0m in \u001b[0;36m<module>\u001b[0;34m()\u001b[0m\n",
      "\u001b[0;32m/Users/leahdickstein/research-sahai/optimize_pkg_2.py\u001b[0m in \u001b[0;36moptimize_3\u001b[0;34m(N, rSNRdu_start, rSNR3_start, tx_SNR_range, filepath_down, filepath_up, protocol, d_rSNR, precision)\u001b[0m\n\u001b[1;32m    357\u001b[0m             \u001b[0mp_add_3\u001b[0m \u001b[0;34m=\u001b[0m \u001b[0mxor_func\u001b[0m\u001b[0;34m(\u001b[0m\u001b[0mrSNR3\u001b[0m\u001b[0;34m)\u001b[0m\u001b[0;34m\u001b[0m\u001b[0m\n\u001b[1;32m    358\u001b[0m             \u001b[0;32mfor\u001b[0m \u001b[0mrSNRdu\u001b[0m \u001b[0;32min\u001b[0m \u001b[0mnp\u001b[0m\u001b[0;34m.\u001b[0m\u001b[0marange\u001b[0m\u001b[0;34m(\u001b[0m\u001b[0mrSNRdu_start\u001b[0m\u001b[0;34m,\u001b[0m \u001b[0mrSNR3\u001b[0m\u001b[0;34m+\u001b[0m\u001b[0md_rSNR\u001b[0m\u001b[0;34m,\u001b[0m \u001b[0md_rSNR\u001b[0m\u001b[0;34m)\u001b[0m\u001b[0;34m:\u001b[0m\u001b[0;34m\u001b[0m\u001b[0m\n\u001b[0;32m--> 359\u001b[0;31m                 \u001b[0mxor_opt\u001b[0m \u001b[0;34m=\u001b[0m \u001b[0mxor_analysis_pruned\u001b[0m\u001b[0;34m(\u001b[0m\u001b[0mN\u001b[0m\u001b[0;34m,\u001b[0m \u001b[0mtSNR\u001b[0m\u001b[0;34m,\u001b[0m \u001b[0mrSNRdu\u001b[0m\u001b[0;34m,\u001b[0m \u001b[0mrSNR3\u001b[0m\u001b[0;34m,\u001b[0m \u001b[0mdownfunc\u001b[0m\u001b[0;34m(\u001b[0m\u001b[0mrSNRdu\u001b[0m\u001b[0;34m)\u001b[0m\u001b[0;34m,\u001b[0m \u001b[0mupfunc\u001b[0m\u001b[0;34m(\u001b[0m\u001b[0mrSNRdu\u001b[0m\u001b[0;34m)\u001b[0m\u001b[0;34m,\u001b[0m \u001b[0mxor_func\u001b[0m\u001b[0;34m(\u001b[0m\u001b[0mrSNR3\u001b[0m\u001b[0;34m)\u001b[0m\u001b[0;34m)\u001b[0m\u001b[0;34m\u001b[0m\u001b[0m\n\u001b[0m\u001b[1;32m    360\u001b[0m                 \u001b[0;32mif\u001b[0m \u001b[0mrSNRdu\u001b[0m \u001b[0;34m==\u001b[0m \u001b[0mrSNRdu_start\u001b[0m\u001b[0;34m:\u001b[0m\u001b[0;34m\u001b[0m\u001b[0m\n\u001b[1;32m    361\u001b[0m                     \u001b[0;32mif\u001b[0m \u001b[0;36m1\u001b[0m \u001b[0;34m-\u001b[0m \u001b[0mxor_opt\u001b[0m \u001b[0;34m>\u001b[0m \u001b[0mrSNRdu_test\u001b[0m\u001b[0;34m[\u001b[0m\u001b[0;34m-\u001b[0m\u001b[0;36m1\u001b[0m\u001b[0;34m]\u001b[0m\u001b[0;34m:\u001b[0m\u001b[0;34m\u001b[0m\u001b[0m\n",
      "\u001b[0;32m/Users/leahdickstein/research-sahai/optimize_pkg_2.py\u001b[0m in \u001b[0;36mxor_analysis_pruned\u001b[0;34m(N, tSNR, rSNRdu, rSNR3, p_a1, p_a2, p_a3)\u001b[0m\n\u001b[1;32m    211\u001b[0m                         \u001b[0mad_s\u001b[0m \u001b[0;34m=\u001b[0m \u001b[0mad_tilde_s\u001b[0m \u001b[0;34m+\u001b[0m \u001b[0mad_hat_s\u001b[0m\u001b[0;34m\u001b[0m\u001b[0m\n\u001b[1;32m    212\u001b[0m                         \u001b[0mad_i\u001b[0m \u001b[0;34m=\u001b[0m \u001b[0mad\u001b[0m \u001b[0;34m-\u001b[0m \u001b[0mad_tilde_s\u001b[0m \u001b[0;34m-\u001b[0m \u001b[0mad_hat_s\u001b[0m \u001b[0;31m# ad - ad_s\u001b[0m\u001b[0;34m\u001b[0m\u001b[0m\n\u001b[0;32m--> 213\u001b[0;31m                         \u001b[0mrv_ads\u001b[0m \u001b[0;34m=\u001b[0m \u001b[0mbinom\u001b[0m\u001b[0;34m(\u001b[0m\u001b[0mad_s\u001b[0m\u001b[0;34m,\u001b[0m \u001b[0;36m1\u001b[0m \u001b[0;34m-\u001b[0m \u001b[0mp_link_2\u001b[0m\u001b[0;34m)\u001b[0m\u001b[0;34m\u001b[0m\u001b[0m\n\u001b[0m\u001b[1;32m    214\u001b[0m                         \u001b[0mrv_adi\u001b[0m \u001b[0;34m=\u001b[0m \u001b[0mbinom\u001b[0m\u001b[0;34m(\u001b[0m\u001b[0mad_i\u001b[0m\u001b[0;34m,\u001b[0m \u001b[0;36m1\u001b[0m \u001b[0;34m-\u001b[0m \u001b[0mp_link_2\u001b[0m\u001b[0;34m)\u001b[0m\u001b[0;34m\u001b[0m\u001b[0m\n\u001b[1;32m    215\u001b[0m                         \u001b[0mq_ad_hat_s\u001b[0m \u001b[0;34m=\u001b[0m \u001b[0mp_a3\u001b[0m\u001b[0;34m\u001b[0m\u001b[0m\n",
      "\u001b[0;32m/Users/leahdickstein/anaconda/lib/python2.7/site-packages/scipy/stats/_distn_infrastructure.pyc\u001b[0m in \u001b[0;36m__call__\u001b[0;34m(self, *args, **kwds)\u001b[0m\n\u001b[1;32m    767\u001b[0m \u001b[0;34m\u001b[0m\u001b[0m\n\u001b[1;32m    768\u001b[0m     \u001b[0;32mdef\u001b[0m \u001b[0m__call__\u001b[0m\u001b[0;34m(\u001b[0m\u001b[0mself\u001b[0m\u001b[0;34m,\u001b[0m \u001b[0;34m*\u001b[0m\u001b[0margs\u001b[0m\u001b[0;34m,\u001b[0m \u001b[0;34m**\u001b[0m\u001b[0mkwds\u001b[0m\u001b[0;34m)\u001b[0m\u001b[0;34m:\u001b[0m\u001b[0;34m\u001b[0m\u001b[0m\n\u001b[0;32m--> 769\u001b[0;31m         \u001b[0;32mreturn\u001b[0m \u001b[0mself\u001b[0m\u001b[0;34m.\u001b[0m\u001b[0mfreeze\u001b[0m\u001b[0;34m(\u001b[0m\u001b[0;34m*\u001b[0m\u001b[0margs\u001b[0m\u001b[0;34m,\u001b[0m \u001b[0;34m**\u001b[0m\u001b[0mkwds\u001b[0m\u001b[0;34m)\u001b[0m\u001b[0;34m\u001b[0m\u001b[0m\n\u001b[0m\u001b[1;32m    770\u001b[0m     \u001b[0m__call__\u001b[0m\u001b[0;34m.\u001b[0m\u001b[0m__doc__\u001b[0m \u001b[0;34m=\u001b[0m \u001b[0mfreeze\u001b[0m\u001b[0;34m.\u001b[0m\u001b[0m__doc__\u001b[0m\u001b[0;34m\u001b[0m\u001b[0m\n\u001b[1;32m    771\u001b[0m \u001b[0;34m\u001b[0m\u001b[0m\n",
      "\u001b[0;32m/Users/leahdickstein/anaconda/lib/python2.7/site-packages/scipy/stats/_distn_infrastructure.pyc\u001b[0m in \u001b[0;36mfreeze\u001b[0;34m(self, *args, **kwds)\u001b[0m\n\u001b[1;32m    764\u001b[0m \u001b[0;34m\u001b[0m\u001b[0m\n\u001b[1;32m    765\u001b[0m         \"\"\"\n\u001b[0;32m--> 766\u001b[0;31m         \u001b[0;32mreturn\u001b[0m \u001b[0mrv_frozen\u001b[0m\u001b[0;34m(\u001b[0m\u001b[0mself\u001b[0m\u001b[0;34m,\u001b[0m \u001b[0;34m*\u001b[0m\u001b[0margs\u001b[0m\u001b[0;34m,\u001b[0m \u001b[0;34m**\u001b[0m\u001b[0mkwds\u001b[0m\u001b[0;34m)\u001b[0m\u001b[0;34m\u001b[0m\u001b[0m\n\u001b[0m\u001b[1;32m    767\u001b[0m \u001b[0;34m\u001b[0m\u001b[0m\n\u001b[1;32m    768\u001b[0m     \u001b[0;32mdef\u001b[0m \u001b[0m__call__\u001b[0m\u001b[0;34m(\u001b[0m\u001b[0mself\u001b[0m\u001b[0;34m,\u001b[0m \u001b[0;34m*\u001b[0m\u001b[0margs\u001b[0m\u001b[0;34m,\u001b[0m \u001b[0;34m**\u001b[0m\u001b[0mkwds\u001b[0m\u001b[0;34m)\u001b[0m\u001b[0;34m:\u001b[0m\u001b[0;34m\u001b[0m\u001b[0m\n",
      "\u001b[0;32m/Users/leahdickstein/anaconda/lib/python2.7/site-packages/scipy/stats/_distn_infrastructure.pyc\u001b[0m in \u001b[0;36m__init__\u001b[0;34m(self, dist, *args, **kwds)\u001b[0m\n\u001b[1;32m    429\u001b[0m \u001b[0;34m\u001b[0m\u001b[0m\n\u001b[1;32m    430\u001b[0m         \u001b[0;31m# create a new instance\u001b[0m\u001b[0;34m\u001b[0m\u001b[0;34m\u001b[0m\u001b[0m\n\u001b[0;32m--> 431\u001b[0;31m         \u001b[0mself\u001b[0m\u001b[0;34m.\u001b[0m\u001b[0mdist\u001b[0m \u001b[0;34m=\u001b[0m \u001b[0mdist\u001b[0m\u001b[0;34m.\u001b[0m\u001b[0m__class__\u001b[0m\u001b[0;34m(\u001b[0m\u001b[0;34m**\u001b[0m\u001b[0mdist\u001b[0m\u001b[0;34m.\u001b[0m\u001b[0m_updated_ctor_param\u001b[0m\u001b[0;34m(\u001b[0m\u001b[0;34m)\u001b[0m\u001b[0;34m)\u001b[0m\u001b[0;34m\u001b[0m\u001b[0m\n\u001b[0m\u001b[1;32m    432\u001b[0m \u001b[0;34m\u001b[0m\u001b[0m\n\u001b[1;32m    433\u001b[0m         \u001b[0;31m# a, b may be set in _argcheck, depending on *args, **kwds. Ouch.\u001b[0m\u001b[0;34m\u001b[0m\u001b[0;34m\u001b[0m\u001b[0m\n",
      "\u001b[0;32m/Users/leahdickstein/anaconda/lib/python2.7/site-packages/scipy/stats/_distn_infrastructure.pyc\u001b[0m in \u001b[0;36m__init__\u001b[0;34m(self, a, b, name, badvalue, moment_tol, values, inc, longname, shapes, extradoc, seed)\u001b[0m\n\u001b[1;32m   2741\u001b[0m             \u001b[0;32melse\u001b[0m\u001b[0;34m:\u001b[0m\u001b[0;34m\u001b[0m\u001b[0m\n\u001b[1;32m   2742\u001b[0m                 \u001b[0mdct\u001b[0m \u001b[0;34m=\u001b[0m \u001b[0mdict\u001b[0m\u001b[0;34m(\u001b[0m\u001b[0mdistdiscrete\u001b[0m\u001b[0;34m)\u001b[0m\u001b[0;34m\u001b[0m\u001b[0m\n\u001b[0;32m-> 2743\u001b[0;31m                 \u001b[0mself\u001b[0m\u001b[0;34m.\u001b[0m\u001b[0m_construct_doc\u001b[0m\u001b[0;34m(\u001b[0m\u001b[0mdocdict_discrete\u001b[0m\u001b[0;34m,\u001b[0m \u001b[0mdct\u001b[0m\u001b[0;34m.\u001b[0m\u001b[0mget\u001b[0m\u001b[0;34m(\u001b[0m\u001b[0mself\u001b[0m\u001b[0;34m.\u001b[0m\u001b[0mname\u001b[0m\u001b[0;34m)\u001b[0m\u001b[0;34m)\u001b[0m\u001b[0;34m\u001b[0m\u001b[0m\n\u001b[0m\u001b[1;32m   2744\u001b[0m \u001b[0;34m\u001b[0m\u001b[0m\n\u001b[1;32m   2745\u001b[0m             \u001b[0;31m#discrete RV do not have the scale parameter, remove it\u001b[0m\u001b[0;34m\u001b[0m\u001b[0;34m\u001b[0m\u001b[0m\n",
      "\u001b[0;32m/Users/leahdickstein/anaconda/lib/python2.7/site-packages/scipy/stats/_distn_infrastructure.pyc\u001b[0m in \u001b[0;36m_construct_doc\u001b[0;34m(self, docdict, shapes_vals)\u001b[0m\n\u001b[1;32m    730\u001b[0m                 \u001b[0;31m# necessary because we use %(shapes)s in two forms (w w/o \", \")\u001b[0m\u001b[0;34m\u001b[0m\u001b[0;34m\u001b[0m\u001b[0m\n\u001b[1;32m    731\u001b[0m                 \u001b[0mself\u001b[0m\u001b[0;34m.\u001b[0m\u001b[0m__doc__\u001b[0m \u001b[0;34m=\u001b[0m \u001b[0mself\u001b[0m\u001b[0;34m.\u001b[0m\u001b[0m__doc__\u001b[0m\u001b[0;34m.\u001b[0m\u001b[0mreplace\u001b[0m\u001b[0;34m(\u001b[0m\u001b[0;34m\"%(shapes)s, \"\u001b[0m\u001b[0;34m,\u001b[0m \u001b[0;34m\"\"\u001b[0m\u001b[0;34m)\u001b[0m\u001b[0;34m\u001b[0m\u001b[0m\n\u001b[0;32m--> 732\u001b[0;31m             \u001b[0mself\u001b[0m\u001b[0;34m.\u001b[0m\u001b[0m__doc__\u001b[0m \u001b[0;34m=\u001b[0m \u001b[0mdoccer\u001b[0m\u001b[0;34m.\u001b[0m\u001b[0mdocformat\u001b[0m\u001b[0;34m(\u001b[0m\u001b[0mself\u001b[0m\u001b[0;34m.\u001b[0m\u001b[0m__doc__\u001b[0m\u001b[0;34m,\u001b[0m \u001b[0mtempdict\u001b[0m\u001b[0;34m)\u001b[0m\u001b[0;34m\u001b[0m\u001b[0m\n\u001b[0m\u001b[1;32m    733\u001b[0m \u001b[0;34m\u001b[0m\u001b[0m\n\u001b[1;32m    734\u001b[0m         \u001b[0;31m# correct for empty shapes\u001b[0m\u001b[0;34m\u001b[0m\u001b[0;34m\u001b[0m\u001b[0m\n",
      "\u001b[0;32m/Users/leahdickstein/anaconda/lib/python2.7/site-packages/scipy/misc/doccer.pyc\u001b[0m in \u001b[0;36mdocformat\u001b[0;34m(docstring, docdict)\u001b[0m\n\u001b[1;32m     63\u001b[0m             \u001b[0;32mfor\u001b[0m \u001b[0mline\u001b[0m \u001b[0;32min\u001b[0m \u001b[0mlines\u001b[0m\u001b[0;34m[\u001b[0m\u001b[0;36m1\u001b[0m\u001b[0;34m:\u001b[0m\u001b[0;34m]\u001b[0m\u001b[0;34m:\u001b[0m\u001b[0;34m\u001b[0m\u001b[0m\n\u001b[1;32m     64\u001b[0m                 \u001b[0mnewlines\u001b[0m\u001b[0;34m.\u001b[0m\u001b[0mappend\u001b[0m\u001b[0;34m(\u001b[0m\u001b[0mindent\u001b[0m\u001b[0;34m+\u001b[0m\u001b[0mline\u001b[0m\u001b[0;34m)\u001b[0m\u001b[0;34m\u001b[0m\u001b[0m\n\u001b[0;32m---> 65\u001b[0;31m             \u001b[0mindented\u001b[0m\u001b[0;34m[\u001b[0m\u001b[0mname\u001b[0m\u001b[0;34m]\u001b[0m \u001b[0;34m=\u001b[0m \u001b[0;34m'\\n'\u001b[0m\u001b[0;34m.\u001b[0m\u001b[0mjoin\u001b[0m\u001b[0;34m(\u001b[0m\u001b[0mnewlines\u001b[0m\u001b[0;34m)\u001b[0m\u001b[0;34m\u001b[0m\u001b[0m\n\u001b[0m\u001b[1;32m     66\u001b[0m         \u001b[0;32mexcept\u001b[0m \u001b[0mIndexError\u001b[0m\u001b[0;34m:\u001b[0m\u001b[0;34m\u001b[0m\u001b[0m\n\u001b[1;32m     67\u001b[0m             \u001b[0mindented\u001b[0m\u001b[0;34m[\u001b[0m\u001b[0mname\u001b[0m\u001b[0;34m]\u001b[0m \u001b[0;34m=\u001b[0m \u001b[0mdstr\u001b[0m\u001b[0;34m\u001b[0m\u001b[0m\n",
      "\u001b[0;31mKeyboardInterrupt\u001b[0m: "
     ]
    }
   ],
   "source": [
    "%%time\n",
    "%run ../optimize_3_dct.py\n",
    "N = 35\n",
    "d_rSNR = 0.1\n",
    "d_tSNR = 0.1\n",
    "tx_SNR_range = np.arange(tSNR_start[N], 50, d_tSNR)\n",
    "optimize_3_data[N-start_node] = optimize_3(N, rSNRdu_start[N], rSNR3_start[N], tx_SNR_range, filepath_down, filepath_up, protocolbit, d_rSNR)\n",
    "print optimize_3_data[N-start_node]"
   ]
  },
  {
   "cell_type": "code",
   "execution_count": null,
   "metadata": {
    "collapsed": true
   },
   "outputs": [],
   "source": []
  }
 ],
 "metadata": {
  "kernelspec": {
   "display_name": "Python 2",
   "language": "python",
   "name": "python2"
  },
  "language_info": {
   "codemirror_mode": {
    "name": "ipython",
    "version": 2
   },
   "file_extension": ".py",
   "mimetype": "text/x-python",
   "name": "python",
   "nbconvert_exporter": "python",
   "pygments_lexer": "ipython2",
   "version": "2.7.11"
  }
 },
 "nbformat": 4,
 "nbformat_minor": 0
}
