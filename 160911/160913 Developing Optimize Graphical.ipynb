{
 "cells": [
  {
   "cell_type": "code",
   "execution_count": 1,
   "metadata": {
    "collapsed": false
   },
   "outputs": [
    {
     "name": "stdout",
     "output_type": "stream",
     "text": [
      "Populating the interactive namespace from numpy and matplotlib\n"
     ]
    }
   ],
   "source": [
    "%pylab inline\n",
    "from __future__ import division\n",
    "import scipy as sp\n",
    "from scipy import stats\n",
    "from scipy.signal import argrelextrema\n",
    "from scipy.interpolate import interp1d\n",
    "import operator as op\n",
    "from decimal import *\n",
    "# import pickle\n",
    "from mpl_toolkits.mplot3d import Axes3D\n",
    "import mpld3\n",
    "# mpld3.enable_notebook()"
   ]
  },
  {
   "cell_type": "code",
   "execution_count": 75,
   "metadata": {
    "collapsed": true
   },
   "outputs": [],
   "source": [
    "%run ../cow.py\n",
    "%run ../optimize_pkg_2.py"
   ]
  },
  {
   "cell_type": "code",
   "execution_count": 3,
   "metadata": {
    "collapsed": true
   },
   "outputs": [],
   "source": [
    "filepath_down = \"../data_tables/hs_rs_downlink/n\"\n",
    "filepath_up = \"../data_tables/hs_rs_uplink/n\"\n",
    "protocolbit = 4*10**4\n",
    "protocol_target = 10**(-9)"
   ]
  },
  {
   "cell_type": "code",
   "execution_count": 5,
   "metadata": {
    "collapsed": true
   },
   "outputs": [],
   "source": [
    "optimize_3_data = zeros((len(range(2, 36)), 6))\n",
    "start_node = 2"
   ]
  },
  {
   "cell_type": "code",
   "execution_count": 7,
   "metadata": {
    "collapsed": false
   },
   "outputs": [
    {
     "name": "stderr",
     "output_type": "stream",
     "text": [
      "<string>:182: RuntimeWarning: divide by zero encountered in log10\n",
      "<string>:193: RuntimeWarning: divide by zero encountered in log10\n"
     ]
    },
    {
     "name": "stdout",
     "output_type": "stream",
     "text": [
      "[  1.39000000e+01   5.50000000e+00   1.10000000e+01   9.52421850e-05\n",
      "   1.19899197e-02   5.59116087e-11]\n",
      "CPU times: user 1h 47min 45s, sys: 41.1 s, total: 1h 48min 26s\n",
      "Wall time: 1h 57min 58s\n"
     ]
    },
    {
     "name": "stderr",
     "output_type": "stream",
     "text": [
      "<string>:200: RuntimeWarning: divide by zero encountered in log10\n"
     ]
    }
   ],
   "source": [
    "%%time\n",
    "%run ../optimize_3_dct.py\n",
    "N = 35\n",
    "d_rSNR = 0.1\n",
    "d_tSNR = 0.1\n",
    "tx_SNR_range = np.arange(13.8, 50, d_tSNR)\n",
    "optimize_3_data[N-start_node] = optimize_3(N, rSNRdu_start[N], rSNR3_start[N], tx_SNR_range, filepath_down, filepath_up, protocolbit, d_rSNR)\n",
    "print optimize_3_data[N-start_node]"
   ]
  },
  {
   "cell_type": "code",
   "execution_count": 8,
   "metadata": {
    "collapsed": false
   },
   "outputs": [
    {
     "name": "stdout",
     "output_type": "stream",
     "text": [
      "[  1.39000000e+01   5.50000000e+00   1.10000000e+01   9.52421850e-05\n",
      "   1.19899197e-02   5.59116087e-11]\n",
      "CPU times: user 24min 35s, sys: 13 s, total: 24min 48s\n",
      "Wall time: 28min 24s\n"
     ]
    }
   ],
   "source": [
    "%%time\n",
    "%run ../optimize_3_dct.py\n",
    "N = 35\n",
    "d_rSNR = 0.1\n",
    "d_tSNR = 0.1\n",
    "tx_SNR_range = np.arange(13.9, 50, d_tSNR)\n",
    "optimize_3_data[N-start_node] = optimize_3(N, rSNRdu_start[N], rSNR3_start[N], tx_SNR_range, filepath_down, filepath_up, protocolbit, d_rSNR)\n",
    "print optimize_3_data[N-start_node]"
   ]
  },
  {
   "cell_type": "code",
   "execution_count": 9,
   "metadata": {
    "collapsed": false
   },
   "outputs": [
    {
     "name": "stdout",
     "output_type": "stream",
     "text": [
      "[  1.39000000e+01   5.50000000e+00   1.10000000e+01   9.52421850e-05\n",
      "   1.19899197e-02   5.59116087e-11]\n",
      "CPU times: user 6min 34s, sys: 3.04 s, total: 6min 37s\n",
      "Wall time: 6min 56s\n"
     ]
    }
   ],
   "source": [
    "%%time\n",
    "%run ../optimize_3_dct.py\n",
    "%run ../optimize_pkg_2.py\n",
    "N = 35\n",
    "d_rSNR = 0.1\n",
    "d_tSNR = 0.1\n",
    "tx_SNR_range = np.arange(13.9, 50, d_tSNR)\n",
    "optimize_3_data[N-start_node] = optimize_3(N, rSNRdu_start[N], rSNR3_start[N], tx_SNR_range, filepath_down, filepath_up, protocolbit, d_rSNR)\n",
    "print optimize_3_data[N-start_node]"
   ]
  },
  {
   "cell_type": "code",
   "execution_count": 13,
   "metadata": {
    "collapsed": false
   },
   "outputs": [
    {
     "name": "stdout",
     "output_type": "stream",
     "text": [
      "9.15956754888e-10\n",
      "[  1.42000000e+01   5.00000000e+00   1.10000000e+01   3.61982254e-26\n",
      "   3.01965021e-02   6.02125016e-11]\n",
      "CPU times: user 55.9 s, sys: 586 ms, total: 56.5 s\n",
      "Wall time: 1min 2s\n"
     ]
    },
    {
     "name": "stderr",
     "output_type": "stream",
     "text": [
      "<string>:182: RuntimeWarning: divide by zero encountered in log10\n"
     ]
    }
   ],
   "source": [
    "%%time\n",
    "%run ../optimize_3_dct.py\n",
    "N = 32\n",
    "d_rSNR = 0.1\n",
    "d_tSNR = 0.1\n",
    "tx_SNR_range = np.arange(14.2, 50, d_tSNR)\n",
    "optimize_3_data[N-start_node] = optimize_3(N, 5, 11, tx_SNR_range, filepath_down, filepath_up, protocolbit, d_rSNR)\n",
    "print optimize_3_data[N-start_node]"
   ]
  },
  {
   "cell_type": "code",
   "execution_count": 15,
   "metadata": {
    "collapsed": false
   },
   "outputs": [
    {
     "name": "stdout",
     "output_type": "stream",
     "text": [
      "9.46741685048e-10\n",
      "[  1.42000000e+01   4.90000000e+00   1.10000000e+01   1.70579888e-24\n",
      "   3.53743979e-02   6.02125016e-11]\n",
      "CPU times: user 57.3 s, sys: 434 ms, total: 57.8 s\n",
      "Wall time: 1min 1s\n"
     ]
    }
   ],
   "source": [
    "%%time\n",
    "%run ../optimize_3_dct.py\n",
    "N = 32\n",
    "d_rSNR = 0.1\n",
    "d_tSNR = 0.1\n",
    "tx_SNR_range = np.arange(14.2, 50, d_tSNR)\n",
    "optimize_3_data[N-start_node] = optimize_3(N, 4.9, 11, tx_SNR_range, filepath_down, filepath_up, protocolbit, d_rSNR)\n",
    "print optimize_3_data[N-start_node]"
   ]
  },
  {
   "cell_type": "code",
   "execution_count": 16,
   "metadata": {
    "collapsed": false
   },
   "outputs": [
    {
     "name": "stdout",
     "output_type": "stream",
     "text": [
      "8.89631035506e-10\n",
      "[  1.42000000e+01   5.10000000e+00   1.10000000e+01   6.88028427e-28\n",
      "   2.56772171e-02   6.02125016e-11]\n",
      "CPU times: user 50.3 s, sys: 453 ms, total: 50.8 s\n",
      "Wall time: 52.6 s\n"
     ]
    }
   ],
   "source": [
    "%%time\n",
    "%run ../optimize_3_dct.py\n",
    "N = 32\n",
    "d_rSNR = 0.1\n",
    "d_tSNR = 0.1\n",
    "tx_SNR_range = np.arange(14.2, 50, d_tSNR)\n",
    "optimize_3_data[N-start_node] = optimize_3(N, 5.1, 11, tx_SNR_range, filepath_down, filepath_up, protocolbit, d_rSNR)\n",
    "print optimize_3_data[N-start_node]"
   ]
  },
  {
   "cell_type": "code",
   "execution_count": 19,
   "metadata": {
    "collapsed": false
   },
   "outputs": [
    {
     "ename": "KeyboardInterrupt",
     "evalue": "",
     "output_type": "error",
     "traceback": [
      "\u001b[0;31m---------------------------------------------------------------------------\u001b[0m",
      "\u001b[0;31mKeyboardInterrupt\u001b[0m                         Traceback (most recent call last)",
      "\u001b[0;32m<ipython-input-19-8ccc49a080d9>\u001b[0m in \u001b[0;36m<module>\u001b[0;34m()\u001b[0m\n\u001b[0;32m----> 1\u001b[0;31m \u001b[0mget_ipython\u001b[0m\u001b[0;34m(\u001b[0m\u001b[0;34m)\u001b[0m\u001b[0;34m.\u001b[0m\u001b[0mrun_cell_magic\u001b[0m\u001b[0;34m(\u001b[0m\u001b[0;34mu'time'\u001b[0m\u001b[0;34m,\u001b[0m \u001b[0;34mu''\u001b[0m\u001b[0;34m,\u001b[0m \u001b[0;34mu\"# set tSNR, see shape of rSNRdu vs rSNR3\\nN = 32\\ntSNR = 14.2\\nrSNR3_range = [11]\\nrSNRdu_guess = 5\\nrSNRdu_range = np.arange(rSNRdu_guess-0.5, rSNRdu_guess+0.5+0.1, 0.1)\\n\\ndownbit = upbit = xorbit = 4*10**4/3\\ndownTable = load_table(filepath_down+str(N)+extension)\\ndownfunc = interp1d(downTable[0], downTable[1], kind='linear', bounds_error=False, fill_value=(1.0, 0.0))\\nupTable = load_table(filepath_up+str(N)+extension)\\nupfunc = interp1d(upTable[0], upTable[1], kind='linear', bounds_error=False, fill_value=(1.0, 0.0))\\n\\nxor_table = load_table(filepath_up+str(N)+extension)\\nxor_func = interp1d(xor_table[0], xor_table[1], kind='linear', bounds_error=False, fill_value=(1.0, 0.0))\\n\\nxn, yn = len(rSNR3_range), len(rSNRdu_range)\\n\\ntestleah = zeros((xn, yn))\\n    \\nfor xk in range(xn):\\n    p_add_3 = xor_func(rSNR3)\\n    for yk in range(yn):\\n        rSNRdu = rSNRdu_range[yk]\\n        xor_opt = xor_analysis_pruned(N, tSNR, rSNRdu, rSNR3, downfunc(rSNRdu), upfunc(rSNRdu), p_add_3)\\n        testleah[xk, yk] = 1 - xor_opt\\n#         Z[np.where(rSNR3_range==rSNR3)[0][0], np.where(rSNRdu_range==rSNRdu)[0][0]] = 1 - xor_opt\"\u001b[0m\u001b[0;34m)\u001b[0m\u001b[0;34m\u001b[0m\u001b[0m\n\u001b[0m",
      "\u001b[0;32m/Users/leahdickstein/anaconda/lib/python2.7/site-packages/IPython/core/interactiveshell.pyc\u001b[0m in \u001b[0;36mrun_cell_magic\u001b[0;34m(self, magic_name, line, cell)\u001b[0m\n\u001b[1;32m   2291\u001b[0m             \u001b[0mmagic_arg_s\u001b[0m \u001b[0;34m=\u001b[0m \u001b[0mself\u001b[0m\u001b[0;34m.\u001b[0m\u001b[0mvar_expand\u001b[0m\u001b[0;34m(\u001b[0m\u001b[0mline\u001b[0m\u001b[0;34m,\u001b[0m \u001b[0mstack_depth\u001b[0m\u001b[0;34m)\u001b[0m\u001b[0;34m\u001b[0m\u001b[0m\n\u001b[1;32m   2292\u001b[0m             \u001b[0;32mwith\u001b[0m \u001b[0mself\u001b[0m\u001b[0;34m.\u001b[0m\u001b[0mbuiltin_trap\u001b[0m\u001b[0;34m:\u001b[0m\u001b[0;34m\u001b[0m\u001b[0m\n\u001b[0;32m-> 2293\u001b[0;31m                 \u001b[0mresult\u001b[0m \u001b[0;34m=\u001b[0m \u001b[0mfn\u001b[0m\u001b[0;34m(\u001b[0m\u001b[0mmagic_arg_s\u001b[0m\u001b[0;34m,\u001b[0m \u001b[0mcell\u001b[0m\u001b[0;34m)\u001b[0m\u001b[0;34m\u001b[0m\u001b[0m\n\u001b[0m\u001b[1;32m   2294\u001b[0m             \u001b[0;32mreturn\u001b[0m \u001b[0mresult\u001b[0m\u001b[0;34m\u001b[0m\u001b[0m\n\u001b[1;32m   2295\u001b[0m \u001b[0;34m\u001b[0m\u001b[0m\n",
      "\u001b[0;32m/Users/leahdickstein/anaconda/lib/python2.7/site-packages/IPython/core/magics/execution.pyc\u001b[0m in \u001b[0;36mtime\u001b[0;34m(self, line, cell, local_ns)\u001b[0m\n",
      "\u001b[0;32m/Users/leahdickstein/anaconda/lib/python2.7/site-packages/IPython/core/magic.pyc\u001b[0m in \u001b[0;36m<lambda>\u001b[0;34m(f, *a, **k)\u001b[0m\n\u001b[1;32m    191\u001b[0m     \u001b[0;31m# but it's overkill for just that one bit of state.\u001b[0m\u001b[0;34m\u001b[0m\u001b[0;34m\u001b[0m\u001b[0m\n\u001b[1;32m    192\u001b[0m     \u001b[0;32mdef\u001b[0m \u001b[0mmagic_deco\u001b[0m\u001b[0;34m(\u001b[0m\u001b[0marg\u001b[0m\u001b[0;34m)\u001b[0m\u001b[0;34m:\u001b[0m\u001b[0;34m\u001b[0m\u001b[0m\n\u001b[0;32m--> 193\u001b[0;31m         \u001b[0mcall\u001b[0m \u001b[0;34m=\u001b[0m \u001b[0;32mlambda\u001b[0m \u001b[0mf\u001b[0m\u001b[0;34m,\u001b[0m \u001b[0;34m*\u001b[0m\u001b[0ma\u001b[0m\u001b[0;34m,\u001b[0m \u001b[0;34m**\u001b[0m\u001b[0mk\u001b[0m\u001b[0;34m:\u001b[0m \u001b[0mf\u001b[0m\u001b[0;34m(\u001b[0m\u001b[0;34m*\u001b[0m\u001b[0ma\u001b[0m\u001b[0;34m,\u001b[0m \u001b[0;34m**\u001b[0m\u001b[0mk\u001b[0m\u001b[0;34m)\u001b[0m\u001b[0;34m\u001b[0m\u001b[0m\n\u001b[0m\u001b[1;32m    194\u001b[0m \u001b[0;34m\u001b[0m\u001b[0m\n\u001b[1;32m    195\u001b[0m         \u001b[0;32mif\u001b[0m \u001b[0mcallable\u001b[0m\u001b[0;34m(\u001b[0m\u001b[0marg\u001b[0m\u001b[0;34m)\u001b[0m\u001b[0;34m:\u001b[0m\u001b[0;34m\u001b[0m\u001b[0m\n",
      "\u001b[0;32m/Users/leahdickstein/anaconda/lib/python2.7/site-packages/IPython/core/magics/execution.pyc\u001b[0m in \u001b[0;36mtime\u001b[0;34m(self, line, cell, local_ns)\u001b[0m\n\u001b[1;32m   1165\u001b[0m         \u001b[0;32melse\u001b[0m\u001b[0;34m:\u001b[0m\u001b[0;34m\u001b[0m\u001b[0m\n\u001b[1;32m   1166\u001b[0m             \u001b[0mst\u001b[0m \u001b[0;34m=\u001b[0m \u001b[0mclock2\u001b[0m\u001b[0;34m(\u001b[0m\u001b[0;34m)\u001b[0m\u001b[0;34m\u001b[0m\u001b[0m\n\u001b[0;32m-> 1167\u001b[0;31m             \u001b[0;32mexec\u001b[0m\u001b[0;34m(\u001b[0m\u001b[0mcode\u001b[0m\u001b[0;34m,\u001b[0m \u001b[0mglob\u001b[0m\u001b[0;34m,\u001b[0m \u001b[0mlocal_ns\u001b[0m\u001b[0;34m)\u001b[0m\u001b[0;34m\u001b[0m\u001b[0m\n\u001b[0m\u001b[1;32m   1168\u001b[0m             \u001b[0mend\u001b[0m \u001b[0;34m=\u001b[0m \u001b[0mclock2\u001b[0m\u001b[0;34m(\u001b[0m\u001b[0;34m)\u001b[0m\u001b[0;34m\u001b[0m\u001b[0m\n\u001b[1;32m   1169\u001b[0m             \u001b[0mout\u001b[0m \u001b[0;34m=\u001b[0m \u001b[0mNone\u001b[0m\u001b[0;34m\u001b[0m\u001b[0m\n",
      "\u001b[0;32m<timed exec>\u001b[0m in \u001b[0;36m<module>\u001b[0;34m()\u001b[0m\n",
      "\u001b[0;32m/Users/leahdickstein/research-sahai/optimize_pkg_2.py\u001b[0m in \u001b[0;36mxor_analysis_pruned\u001b[0;34m(N, tSNR, rSNRdu, rSNR3, p_a1, p_a2, p_a3)\u001b[0m\n\u001b[1;32m    195\u001b[0m                     \u001b[0;32mcontinue\u001b[0m\u001b[0;34m\u001b[0m\u001b[0m\n\u001b[1;32m    196\u001b[0m                 \u001b[0mrv_ad_tilde_s\u001b[0m \u001b[0;34m=\u001b[0m \u001b[0mbinom\u001b[0m\u001b[0;34m(\u001b[0m\u001b[0mad_tilde\u001b[0m\u001b[0;34m,\u001b[0m \u001b[0;36m1\u001b[0m \u001b[0;34m-\u001b[0m \u001b[0mp_f3\u001b[0m\u001b[0;34m)\u001b[0m\u001b[0;34m\u001b[0m\u001b[0m\n\u001b[0;32m--> 197\u001b[0;31m                 \u001b[0mrv_ad_hat_s\u001b[0m \u001b[0;34m=\u001b[0m \u001b[0mbinom\u001b[0m\u001b[0;34m(\u001b[0m\u001b[0mad\u001b[0m \u001b[0;34m-\u001b[0m \u001b[0mad_tilde\u001b[0m\u001b[0;34m,\u001b[0m \u001b[0;36m1\u001b[0m \u001b[0;34m-\u001b[0m \u001b[0mp_f3\u001b[0m\u001b[0;34m)\u001b[0m\u001b[0;34m\u001b[0m\u001b[0m\n\u001b[0m\u001b[1;32m    198\u001b[0m                 \u001b[0;31m# if p_f3 = 0 then ad_tilde_s should = ad_tilde because ad_tilde_i should be empty\u001b[0m\u001b[0;34m\u001b[0m\u001b[0;34m\u001b[0m\u001b[0m\n\u001b[1;32m    199\u001b[0m                 \u001b[0;32mfor\u001b[0m \u001b[0mad_tilde_s\u001b[0m \u001b[0;32min\u001b[0m \u001b[0mrange\u001b[0m\u001b[0;34m(\u001b[0m\u001b[0;36m0\u001b[0m \u001b[0;32mif\u001b[0m \u001b[0mp_f3\u001b[0m \u001b[0;32melse\u001b[0m \u001b[0mad_tilde\u001b[0m\u001b[0;34m,\u001b[0m \u001b[0mad_tilde\u001b[0m\u001b[0;34m+\u001b[0m\u001b[0;36m1\u001b[0m\u001b[0;34m)\u001b[0m\u001b[0;34m:\u001b[0m\u001b[0;34m\u001b[0m\u001b[0m\n",
      "\u001b[0;32m/Users/leahdickstein/anaconda/lib/python2.7/site-packages/scipy/stats/_distn_infrastructure.pyc\u001b[0m in \u001b[0;36m__call__\u001b[0;34m(self, *args, **kwds)\u001b[0m\n\u001b[1;32m    767\u001b[0m \u001b[0;34m\u001b[0m\u001b[0m\n\u001b[1;32m    768\u001b[0m     \u001b[0;32mdef\u001b[0m \u001b[0m__call__\u001b[0m\u001b[0;34m(\u001b[0m\u001b[0mself\u001b[0m\u001b[0;34m,\u001b[0m \u001b[0;34m*\u001b[0m\u001b[0margs\u001b[0m\u001b[0;34m,\u001b[0m \u001b[0;34m**\u001b[0m\u001b[0mkwds\u001b[0m\u001b[0;34m)\u001b[0m\u001b[0;34m:\u001b[0m\u001b[0;34m\u001b[0m\u001b[0m\n\u001b[0;32m--> 769\u001b[0;31m         \u001b[0;32mreturn\u001b[0m \u001b[0mself\u001b[0m\u001b[0;34m.\u001b[0m\u001b[0mfreeze\u001b[0m\u001b[0;34m(\u001b[0m\u001b[0;34m*\u001b[0m\u001b[0margs\u001b[0m\u001b[0;34m,\u001b[0m \u001b[0;34m**\u001b[0m\u001b[0mkwds\u001b[0m\u001b[0;34m)\u001b[0m\u001b[0;34m\u001b[0m\u001b[0m\n\u001b[0m\u001b[1;32m    770\u001b[0m     \u001b[0m__call__\u001b[0m\u001b[0;34m.\u001b[0m\u001b[0m__doc__\u001b[0m \u001b[0;34m=\u001b[0m \u001b[0mfreeze\u001b[0m\u001b[0;34m.\u001b[0m\u001b[0m__doc__\u001b[0m\u001b[0;34m\u001b[0m\u001b[0m\n\u001b[1;32m    771\u001b[0m \u001b[0;34m\u001b[0m\u001b[0m\n",
      "\u001b[0;32m/Users/leahdickstein/anaconda/lib/python2.7/site-packages/scipy/stats/_distn_infrastructure.pyc\u001b[0m in \u001b[0;36mfreeze\u001b[0;34m(self, *args, **kwds)\u001b[0m\n\u001b[1;32m    764\u001b[0m \u001b[0;34m\u001b[0m\u001b[0m\n\u001b[1;32m    765\u001b[0m         \"\"\"\n\u001b[0;32m--> 766\u001b[0;31m         \u001b[0;32mreturn\u001b[0m \u001b[0mrv_frozen\u001b[0m\u001b[0;34m(\u001b[0m\u001b[0mself\u001b[0m\u001b[0;34m,\u001b[0m \u001b[0;34m*\u001b[0m\u001b[0margs\u001b[0m\u001b[0;34m,\u001b[0m \u001b[0;34m**\u001b[0m\u001b[0mkwds\u001b[0m\u001b[0;34m)\u001b[0m\u001b[0;34m\u001b[0m\u001b[0m\n\u001b[0m\u001b[1;32m    767\u001b[0m \u001b[0;34m\u001b[0m\u001b[0m\n\u001b[1;32m    768\u001b[0m     \u001b[0;32mdef\u001b[0m \u001b[0m__call__\u001b[0m\u001b[0;34m(\u001b[0m\u001b[0mself\u001b[0m\u001b[0;34m,\u001b[0m \u001b[0;34m*\u001b[0m\u001b[0margs\u001b[0m\u001b[0;34m,\u001b[0m \u001b[0;34m**\u001b[0m\u001b[0mkwds\u001b[0m\u001b[0;34m)\u001b[0m\u001b[0;34m:\u001b[0m\u001b[0;34m\u001b[0m\u001b[0m\n",
      "\u001b[0;32m/Users/leahdickstein/anaconda/lib/python2.7/site-packages/scipy/stats/_distn_infrastructure.pyc\u001b[0m in \u001b[0;36m__init__\u001b[0;34m(self, dist, *args, **kwds)\u001b[0m\n\u001b[1;32m    429\u001b[0m \u001b[0;34m\u001b[0m\u001b[0m\n\u001b[1;32m    430\u001b[0m         \u001b[0;31m# create a new instance\u001b[0m\u001b[0;34m\u001b[0m\u001b[0;34m\u001b[0m\u001b[0m\n\u001b[0;32m--> 431\u001b[0;31m         \u001b[0mself\u001b[0m\u001b[0;34m.\u001b[0m\u001b[0mdist\u001b[0m \u001b[0;34m=\u001b[0m \u001b[0mdist\u001b[0m\u001b[0;34m.\u001b[0m\u001b[0m__class__\u001b[0m\u001b[0;34m(\u001b[0m\u001b[0;34m**\u001b[0m\u001b[0mdist\u001b[0m\u001b[0;34m.\u001b[0m\u001b[0m_updated_ctor_param\u001b[0m\u001b[0;34m(\u001b[0m\u001b[0;34m)\u001b[0m\u001b[0;34m)\u001b[0m\u001b[0;34m\u001b[0m\u001b[0m\n\u001b[0m\u001b[1;32m    432\u001b[0m \u001b[0;34m\u001b[0m\u001b[0m\n\u001b[1;32m    433\u001b[0m         \u001b[0;31m# a, b may be set in _argcheck, depending on *args, **kwds. Ouch.\u001b[0m\u001b[0;34m\u001b[0m\u001b[0;34m\u001b[0m\u001b[0m\n",
      "\u001b[0;32m/Users/leahdickstein/anaconda/lib/python2.7/site-packages/scipy/stats/_distn_infrastructure.pyc\u001b[0m in \u001b[0;36m__init__\u001b[0;34m(self, a, b, name, badvalue, moment_tol, values, inc, longname, shapes, extradoc, seed)\u001b[0m\n\u001b[1;32m   2741\u001b[0m             \u001b[0;32melse\u001b[0m\u001b[0;34m:\u001b[0m\u001b[0;34m\u001b[0m\u001b[0m\n\u001b[1;32m   2742\u001b[0m                 \u001b[0mdct\u001b[0m \u001b[0;34m=\u001b[0m \u001b[0mdict\u001b[0m\u001b[0;34m(\u001b[0m\u001b[0mdistdiscrete\u001b[0m\u001b[0;34m)\u001b[0m\u001b[0;34m\u001b[0m\u001b[0m\n\u001b[0;32m-> 2743\u001b[0;31m                 \u001b[0mself\u001b[0m\u001b[0;34m.\u001b[0m\u001b[0m_construct_doc\u001b[0m\u001b[0;34m(\u001b[0m\u001b[0mdocdict_discrete\u001b[0m\u001b[0;34m,\u001b[0m \u001b[0mdct\u001b[0m\u001b[0;34m.\u001b[0m\u001b[0mget\u001b[0m\u001b[0;34m(\u001b[0m\u001b[0mself\u001b[0m\u001b[0;34m.\u001b[0m\u001b[0mname\u001b[0m\u001b[0;34m)\u001b[0m\u001b[0;34m)\u001b[0m\u001b[0;34m\u001b[0m\u001b[0m\n\u001b[0m\u001b[1;32m   2744\u001b[0m \u001b[0;34m\u001b[0m\u001b[0m\n\u001b[1;32m   2745\u001b[0m             \u001b[0;31m#discrete RV do not have the scale parameter, remove it\u001b[0m\u001b[0;34m\u001b[0m\u001b[0;34m\u001b[0m\u001b[0m\n",
      "\u001b[0;32m/Users/leahdickstein/anaconda/lib/python2.7/site-packages/scipy/stats/_distn_infrastructure.pyc\u001b[0m in \u001b[0;36m_construct_doc\u001b[0;34m(self, docdict, shapes_vals)\u001b[0m\n\u001b[1;32m    730\u001b[0m                 \u001b[0;31m# necessary because we use %(shapes)s in two forms (w w/o \", \")\u001b[0m\u001b[0;34m\u001b[0m\u001b[0;34m\u001b[0m\u001b[0m\n\u001b[1;32m    731\u001b[0m                 \u001b[0mself\u001b[0m\u001b[0;34m.\u001b[0m\u001b[0m__doc__\u001b[0m \u001b[0;34m=\u001b[0m \u001b[0mself\u001b[0m\u001b[0;34m.\u001b[0m\u001b[0m__doc__\u001b[0m\u001b[0;34m.\u001b[0m\u001b[0mreplace\u001b[0m\u001b[0;34m(\u001b[0m\u001b[0;34m\"%(shapes)s, \"\u001b[0m\u001b[0;34m,\u001b[0m \u001b[0;34m\"\"\u001b[0m\u001b[0;34m)\u001b[0m\u001b[0;34m\u001b[0m\u001b[0m\n\u001b[0;32m--> 732\u001b[0;31m             \u001b[0mself\u001b[0m\u001b[0;34m.\u001b[0m\u001b[0m__doc__\u001b[0m \u001b[0;34m=\u001b[0m \u001b[0mdoccer\u001b[0m\u001b[0;34m.\u001b[0m\u001b[0mdocformat\u001b[0m\u001b[0;34m(\u001b[0m\u001b[0mself\u001b[0m\u001b[0;34m.\u001b[0m\u001b[0m__doc__\u001b[0m\u001b[0;34m,\u001b[0m \u001b[0mtempdict\u001b[0m\u001b[0;34m)\u001b[0m\u001b[0;34m\u001b[0m\u001b[0m\n\u001b[0m\u001b[1;32m    733\u001b[0m \u001b[0;34m\u001b[0m\u001b[0m\n\u001b[1;32m    734\u001b[0m         \u001b[0;31m# correct for empty shapes\u001b[0m\u001b[0;34m\u001b[0m\u001b[0;34m\u001b[0m\u001b[0m\n",
      "\u001b[0;32m/Users/leahdickstein/anaconda/lib/python2.7/site-packages/scipy/misc/doccer.pyc\u001b[0m in \u001b[0;36mdocformat\u001b[0;34m(docstring, docdict)\u001b[0m\n\u001b[1;32m     59\u001b[0m     \u001b[0;32mfor\u001b[0m \u001b[0mname\u001b[0m\u001b[0;34m,\u001b[0m \u001b[0mdstr\u001b[0m \u001b[0;32min\u001b[0m \u001b[0mdocdict\u001b[0m\u001b[0;34m.\u001b[0m\u001b[0mitems\u001b[0m\u001b[0;34m(\u001b[0m\u001b[0;34m)\u001b[0m\u001b[0;34m:\u001b[0m\u001b[0;34m\u001b[0m\u001b[0m\n\u001b[1;32m     60\u001b[0m         \u001b[0mlines\u001b[0m \u001b[0;34m=\u001b[0m \u001b[0mdstr\u001b[0m\u001b[0;34m.\u001b[0m\u001b[0mexpandtabs\u001b[0m\u001b[0;34m(\u001b[0m\u001b[0;34m)\u001b[0m\u001b[0;34m.\u001b[0m\u001b[0msplitlines\u001b[0m\u001b[0;34m(\u001b[0m\u001b[0;34m)\u001b[0m\u001b[0;34m\u001b[0m\u001b[0m\n\u001b[0;32m---> 61\u001b[0;31m         \u001b[0;32mtry\u001b[0m\u001b[0;34m:\u001b[0m\u001b[0;34m\u001b[0m\u001b[0m\n\u001b[0m\u001b[1;32m     62\u001b[0m             \u001b[0mnewlines\u001b[0m \u001b[0;34m=\u001b[0m \u001b[0;34m[\u001b[0m\u001b[0mlines\u001b[0m\u001b[0;34m[\u001b[0m\u001b[0;36m0\u001b[0m\u001b[0;34m]\u001b[0m\u001b[0;34m]\u001b[0m\u001b[0;34m\u001b[0m\u001b[0m\n\u001b[1;32m     63\u001b[0m             \u001b[0;32mfor\u001b[0m \u001b[0mline\u001b[0m \u001b[0;32min\u001b[0m \u001b[0mlines\u001b[0m\u001b[0;34m[\u001b[0m\u001b[0;36m1\u001b[0m\u001b[0;34m:\u001b[0m\u001b[0;34m]\u001b[0m\u001b[0;34m:\u001b[0m\u001b[0;34m\u001b[0m\u001b[0m\n",
      "\u001b[0;31mKeyboardInterrupt\u001b[0m: "
     ]
    }
   ],
   "source": [
    "%%time\n",
    "# set tSNR, see shape of rSNRdu vs rSNR3\n",
    "N = 32\n",
    "tSNR = 14.2\n",
    "rSNR3_range = [11]\n",
    "rSNRdu_guess = 5\n",
    "rSNRdu_range = np.arange(rSNRdu_guess-0.5, rSNRdu_guess+0.5+0.1, 0.1)\n",
    "\n",
    "downbit = upbit = xorbit = 4*10**4/3\n",
    "downTable = load_table(filepath_down+str(N)+extension)\n",
    "downfunc = interp1d(downTable[0], downTable[1], kind='linear', bounds_error=False, fill_value=(1.0, 0.0))\n",
    "upTable = load_table(filepath_up+str(N)+extension)\n",
    "upfunc = interp1d(upTable[0], upTable[1], kind='linear', bounds_error=False, fill_value=(1.0, 0.0))\n",
    "\n",
    "xor_table = load_table(filepath_up+str(N)+extension)\n",
    "xor_func = interp1d(xor_table[0], xor_table[1], kind='linear', bounds_error=False, fill_value=(1.0, 0.0))\n",
    "\n",
    "xn, yn = len(rSNR3_range), len(rSNRdu_range)\n",
    "\n",
    "testleah = zeros((xn, yn))\n",
    "    \n",
    "for xk in range(xn):\n",
    "    rSNR3 = rSNR3_range[xk]\n",
    "    p_add_3 = xor_func(rSNR3)\n",
    "    for yk in range(yn):\n",
    "        rSNRdu = rSNRdu_range[yk]\n",
    "        xor_opt = xor_analysis_pruned(N, tSNR, rSNRdu, rSNR3, downfunc(rSNRdu), upfunc(rSNRdu), p_add_3)\n",
    "        testleah[xk, yk] = 1 - xor_opt\n",
    "#         Z[np.where(rSNR3_range==rSNR3)[0][0], np.where(rSNRdu_range==rSNRdu)[0][0]] = 1 - xor_opt"
   ]
  },
  {
   "cell_type": "code",
   "execution_count": 47,
   "metadata": {
    "collapsed": false
   },
   "outputs": [
    {
     "name": "stdout",
     "output_type": "stream",
     "text": [
      "CPU times: user 13.8 s, sys: 89.1 ms, total: 13.9 s\n",
      "Wall time: 15.4 s\n"
     ]
    }
   ],
   "source": [
    "%%time\n",
    "# set tSNR, see shape of rSNRdu vs rSNR3\n",
    "N = 8\n",
    "tSNR = 16.6\n",
    "rSNR3_range = np.arange(1.9, 2, 0.1)\n",
    "rSNRdu_guess = 0.6\n",
    "rSNRdu_range = np.arange(rSNRdu_guess-0.5, rSNRdu_guess+0.5+0.1, 0.1)\n",
    "# rSNRdu_range = [0.3]\n",
    "\n",
    "downbit = upbit = xorbit = 4*10**4/3\n",
    "downTable = load_table(filepath_down+str(N)+extension)\n",
    "downfunc = interp1d(downTable[0], downTable[1], kind='linear', bounds_error=False, fill_value=(1.0, 0.0))\n",
    "upTable = load_table(filepath_up+str(N)+extension)\n",
    "upfunc = interp1d(upTable[0], upTable[1], kind='linear', bounds_error=False, fill_value=(1.0, 0.0))\n",
    "\n",
    "xor_table = load_table(filepath_up+str(N)+extension)\n",
    "xor_func = interp1d(xor_table[0], xor_table[1], kind='linear', bounds_error=False, fill_value=(1.0, 0.0))\n",
    "\n",
    "xn, yn = len(rSNR3_range), len(rSNRdu_range)\n",
    "\n",
    "testleah = zeros((xn, yn))\n",
    "    \n",
    "for xk in range(xn):\n",
    "    rSNR3 = rSNR3_range[xk]\n",
    "    p_add_3 = xor_func(rSNR3)\n",
    "    for yk in range(yn):\n",
    "        rSNRdu = rSNRdu_range[yk]\n",
    "        xor_opt = xor_analysis_pruned(N, tSNR, rSNRdu, rSNR3, downfunc(rSNRdu), upfunc(rSNRdu), p_add_3)\n",
    "        testleah[xk, yk] = 1 - xor_opt\n",
    "#         Z[np.where(rSNR3_range==rSNR3)[0][0], np.where(rSNRdu_range==rSNRdu)[0][0]] = 1 - xor_opt"
   ]
  },
  {
   "cell_type": "code",
   "execution_count": null,
   "metadata": {
    "collapsed": true
   },
   "outputs": [],
   "source": [
    "%%time\n",
    "%run ../optimize_pkg_2.py\n",
    "N = 8\n",
    "tSNR_range = np.arange(16.6, 16.7, 0.1)\n",
    "rSNR3_range = np.arange(1.9, 2, 0.1)\n",
    "rSNRdu_guess = 0.6\n",
    "rSNRdu_range = np.arange(rSNRdu_guess-0.5, rSNRdu_guess+0.5+0.1, 0.1)\n",
    "\n",
    "result = optimize_3_graphical(N, rSNRdu_range, rSNR3_range, tSNR_range, filepath_down, filepath_up, protocolbit, True)\n",
    "\n",
    "print result"
   ]
  },
  {
   "cell_type": "code",
   "execution_count": 90,
   "metadata": {
    "collapsed": false
   },
   "outputs": [
    {
     "name": "stdout",
     "output_type": "stream",
     "text": [
      "[[  2.83184431e-09   1.44483270e-09   9.69793579e-10   7.94438404e-10\n",
      "    7.37519157e-10   7.35799643e-10   7.62190977e-10   8.03411004e-10\n",
      "    8.53465409e-10   9.08583986e-10   9.67132818e-10]\n",
      " [  3.04189696e-09   1.54954494e-09   1.03661679e-09   8.46769099e-10\n",
      "    7.86143595e-10   7.85068344e-10   8.14710521e-10   8.61253735e-10\n",
      "    9.17542597e-10   9.79864301e-10   1.04633524e-09]]\n",
      "0.6\n",
      "0.6\n"
     ]
    },
    {
     "data": {
      "text/html": [
       "\n",
       "\n",
       "<style>\n",
       "\n",
       "</style>\n",
       "\n",
       "<div id=\"fig_el6226545656139042647452800\"></div>\n",
       "<script>\n",
       "function mpld3_load_lib(url, callback){\n",
       "  var s = document.createElement('script');\n",
       "  s.src = url;\n",
       "  s.async = true;\n",
       "  s.onreadystatechange = s.onload = callback;\n",
       "  s.onerror = function(){console.warn(\"failed to load library \" + url);};\n",
       "  document.getElementsByTagName(\"head\")[0].appendChild(s);\n",
       "}\n",
       "\n",
       "if(typeof(mpld3) !== \"undefined\" && mpld3._mpld3IsLoaded){\n",
       "   // already loaded: just create the figure\n",
       "   !function(mpld3){\n",
       "       \n",
       "       mpld3.draw_figure(\"fig_el6226545656139042647452800\", {\"axes\": [{\"xlim\": [0.0, 1.2000000000000002], \"yscale\": \"linear\", \"axesbg\": \"#FFFFFF\", \"texts\": [{\"v_baseline\": \"hanging\", \"h_anchor\": \"middle\", \"color\": \"#000000\", \"text\": \"rSNRdu\", \"coordinates\": \"axes\", \"zorder\": 3, \"alpha\": 1, \"fontsize\": 20.0, \"position\": [0.5, -0.080645161290322578], \"rotation\": -0.0, \"id\": \"el622654566287568\"}, {\"v_baseline\": \"auto\", \"h_anchor\": \"middle\", \"color\": \"#000000\", \"text\": \"P(fail)\", \"coordinates\": \"axes\", \"zorder\": 3, \"alpha\": 1, \"fontsize\": 20.0, \"position\": [-0.070564516129032251, 0.5], \"rotation\": -90.0, \"id\": \"el622654505255184\"}, {\"v_baseline\": \"auto\", \"h_anchor\": \"middle\", \"color\": \"#000000\", \"text\": \"N=8\", \"coordinates\": \"axes\", \"zorder\": 3, \"alpha\": 1, \"fontsize\": 20.0, \"position\": [0.5, 1.0224014336917562], \"rotation\": -0.0, \"id\": \"el622654568542736\"}, {\"v_baseline\": \"auto\", \"h_anchor\": \"start\", \"color\": \"#000000\", \"text\": \"None\", \"coordinates\": \"axes\", \"zorder\": 1000003.0, \"alpha\": 1, \"fontsize\": 10.0, \"position\": [-0.16129032258064516, -0.16129032258064516], \"rotation\": -0.0, \"id\": \"el622654546118288\"}, {\"v_baseline\": \"auto\", \"h_anchor\": \"start\", \"color\": \"#000000\", \"text\": \"1.9\", \"coordinates\": \"axes\", \"zorder\": 1000003.0, \"alpha\": 1, \"fontsize\": 12.0, \"position\": [0.91565860215053763, 0.91129032258064513], \"rotation\": -0.0, \"id\": \"el622654566341392\"}, {\"v_baseline\": \"auto\", \"h_anchor\": \"start\", \"color\": \"#000000\", \"text\": \"2.0\", \"coordinates\": \"axes\", \"zorder\": 1000003.0, \"alpha\": 1, \"fontsize\": 12.0, \"position\": [0.91565860215053763, 0.831989247311828], \"rotation\": -0.0, \"id\": \"el622654566343632\"}], \"zoomable\": true, \"images\": [], \"xdomain\": [0.0, 1.2000000000000002], \"ylim\": [5.0000000000000003e-10, 3.5000000000000003e-09], \"paths\": [{\"edgecolor\": \"#000000\", \"facecolor\": \"#FFFFFF\", \"edgewidth\": 1.0, \"pathcodes\": [\"M\", \"L\", \"L\", \"L\", \"Z\"], \"yindex\": 1, \"coordinates\": \"axes\", \"dasharray\": \"10,0\", \"zorder\": 1000001.0, \"alpha\": 1, \"xindex\": 0, \"data\": \"data03\", \"id\": \"el622654543889168\"}], \"sharey\": [], \"sharex\": [], \"axesbgalpha\": null, \"axes\": [{\"scale\": \"linear\", \"tickformat\": null, \"grid\": {\"gridOn\": false}, \"fontsize\": 10.0, \"position\": \"bottom\", \"nticks\": 8, \"tickvalues\": null}, {\"scale\": \"linear\", \"tickformat\": null, \"grid\": {\"gridOn\": false}, \"fontsize\": 10.0, \"position\": \"left\", \"nticks\": 7, \"tickvalues\": null}], \"lines\": [{\"color\": \"#0000FF\", \"yindex\": 1, \"coordinates\": \"data\", \"dasharray\": \"10,0\", \"zorder\": 2, \"alpha\": 1, \"xindex\": 0, \"linewidth\": 2.0, \"data\": \"data01\", \"id\": \"el622654544324560\"}, {\"color\": \"#007F00\", \"yindex\": 2, \"coordinates\": \"data\", \"dasharray\": \"10,0\", \"zorder\": 2, \"alpha\": 1, \"xindex\": 0, \"linewidth\": 2.0, \"data\": \"data01\", \"id\": \"el622654544325712\"}, {\"color\": \"#0000FF\", \"yindex\": 1, \"coordinates\": \"axes\", \"dasharray\": \"10,0\", \"zorder\": 1000002.0, \"alpha\": 1, \"xindex\": 0, \"linewidth\": 2.0, \"data\": \"data02\", \"id\": \"el622654563921232\"}, {\"color\": \"#007F00\", \"yindex\": 2, \"coordinates\": \"axes\", \"dasharray\": \"10,0\", \"zorder\": 1000002.0, \"alpha\": 1, \"xindex\": 0, \"linewidth\": 2.0, \"data\": \"data02\", \"id\": \"el622654546118416\"}], \"markers\": [], \"id\": \"el622654563922640\", \"ydomain\": [5.0000000000000003e-10, 3.5000000000000003e-09], \"collections\": [], \"xscale\": \"linear\", \"bbox\": [0.125, 0.125, 0.77500000000000002, 0.77500000000000002]}], \"height\": 320.0, \"width\": 480.0, \"plugins\": [{\"type\": \"reset\"}, {\"enabled\": false, \"button\": true, \"type\": \"zoom\"}, {\"enabled\": false, \"button\": true, \"type\": \"boxzoom\"}], \"data\": {\"data02\": [[0.8260528673835126, 0.9301075268817204, 0.8508064516129032], [0.8762320788530467, 0.9301075268817204, 0.8508064516129032]], \"data03\": [[0.8009632616487455, 0.7983870967741935], [0.982078853046595, 0.7983870967741935], [0.982078853046595, 0.9731182795698926], [0.8009632616487455, 0.9731182795698926]], \"data01\": [[0.09999999999999998, 2.8318443145991523e-09, 3.0418969565459975e-09], [0.19999999999999998, 1.4448326979277226e-09, 1.5495449368074787e-09], [0.3, 9.697935787755796e-10, 1.0366167924047431e-09], [0.4, 7.944384039504371e-10, 8.467690992830512e-10], [0.5, 7.375191568570472e-10, 7.861435946665551e-10], [0.6, 7.357996434365077e-10, 7.850683436672057e-10], [0.7000000000000001, 7.621909769994772e-10, 8.147105212685801e-10], [0.8, 8.034110043908527e-10, 8.612537349961258e-10], [0.9, 8.534654094560779e-10, 9.175425974561335e-10], [1.0, 9.085839858258282e-10, 9.79864300809652e-10], [1.1, 9.67132818274763e-10, 1.046335240673102e-09]]}, \"id\": \"el622654565613904\"});\n",
       "   }(mpld3);\n",
       "}else if(typeof define === \"function\" && define.amd){\n",
       "   // require.js is available: use it to load d3/mpld3\n",
       "   require.config({paths: {d3: \"https://mpld3.github.io/js/d3.v3.min\"}});\n",
       "   require([\"d3\"], function(d3){\n",
       "      window.d3 = d3;\n",
       "      mpld3_load_lib(\"https://mpld3.github.io/js/mpld3.v0.2.js\", function(){\n",
       "         \n",
       "         mpld3.draw_figure(\"fig_el6226545656139042647452800\", {\"axes\": [{\"xlim\": [0.0, 1.2000000000000002], \"yscale\": \"linear\", \"axesbg\": \"#FFFFFF\", \"texts\": [{\"v_baseline\": \"hanging\", \"h_anchor\": \"middle\", \"color\": \"#000000\", \"text\": \"rSNRdu\", \"coordinates\": \"axes\", \"zorder\": 3, \"alpha\": 1, \"fontsize\": 20.0, \"position\": [0.5, -0.080645161290322578], \"rotation\": -0.0, \"id\": \"el622654566287568\"}, {\"v_baseline\": \"auto\", \"h_anchor\": \"middle\", \"color\": \"#000000\", \"text\": \"P(fail)\", \"coordinates\": \"axes\", \"zorder\": 3, \"alpha\": 1, \"fontsize\": 20.0, \"position\": [-0.070564516129032251, 0.5], \"rotation\": -90.0, \"id\": \"el622654505255184\"}, {\"v_baseline\": \"auto\", \"h_anchor\": \"middle\", \"color\": \"#000000\", \"text\": \"N=8\", \"coordinates\": \"axes\", \"zorder\": 3, \"alpha\": 1, \"fontsize\": 20.0, \"position\": [0.5, 1.0224014336917562], \"rotation\": -0.0, \"id\": \"el622654568542736\"}, {\"v_baseline\": \"auto\", \"h_anchor\": \"start\", \"color\": \"#000000\", \"text\": \"None\", \"coordinates\": \"axes\", \"zorder\": 1000003.0, \"alpha\": 1, \"fontsize\": 10.0, \"position\": [-0.16129032258064516, -0.16129032258064516], \"rotation\": -0.0, \"id\": \"el622654546118288\"}, {\"v_baseline\": \"auto\", \"h_anchor\": \"start\", \"color\": \"#000000\", \"text\": \"1.9\", \"coordinates\": \"axes\", \"zorder\": 1000003.0, \"alpha\": 1, \"fontsize\": 12.0, \"position\": [0.91565860215053763, 0.91129032258064513], \"rotation\": -0.0, \"id\": \"el622654566341392\"}, {\"v_baseline\": \"auto\", \"h_anchor\": \"start\", \"color\": \"#000000\", \"text\": \"2.0\", \"coordinates\": \"axes\", \"zorder\": 1000003.0, \"alpha\": 1, \"fontsize\": 12.0, \"position\": [0.91565860215053763, 0.831989247311828], \"rotation\": -0.0, \"id\": \"el622654566343632\"}], \"zoomable\": true, \"images\": [], \"xdomain\": [0.0, 1.2000000000000002], \"ylim\": [5.0000000000000003e-10, 3.5000000000000003e-09], \"paths\": [{\"edgecolor\": \"#000000\", \"facecolor\": \"#FFFFFF\", \"edgewidth\": 1.0, \"pathcodes\": [\"M\", \"L\", \"L\", \"L\", \"Z\"], \"yindex\": 1, \"coordinates\": \"axes\", \"dasharray\": \"10,0\", \"zorder\": 1000001.0, \"alpha\": 1, \"xindex\": 0, \"data\": \"data03\", \"id\": \"el622654543889168\"}], \"sharey\": [], \"sharex\": [], \"axesbgalpha\": null, \"axes\": [{\"scale\": \"linear\", \"tickformat\": null, \"grid\": {\"gridOn\": false}, \"fontsize\": 10.0, \"position\": \"bottom\", \"nticks\": 8, \"tickvalues\": null}, {\"scale\": \"linear\", \"tickformat\": null, \"grid\": {\"gridOn\": false}, \"fontsize\": 10.0, \"position\": \"left\", \"nticks\": 7, \"tickvalues\": null}], \"lines\": [{\"color\": \"#0000FF\", \"yindex\": 1, \"coordinates\": \"data\", \"dasharray\": \"10,0\", \"zorder\": 2, \"alpha\": 1, \"xindex\": 0, \"linewidth\": 2.0, \"data\": \"data01\", \"id\": \"el622654544324560\"}, {\"color\": \"#007F00\", \"yindex\": 2, \"coordinates\": \"data\", \"dasharray\": \"10,0\", \"zorder\": 2, \"alpha\": 1, \"xindex\": 0, \"linewidth\": 2.0, \"data\": \"data01\", \"id\": \"el622654544325712\"}, {\"color\": \"#0000FF\", \"yindex\": 1, \"coordinates\": \"axes\", \"dasharray\": \"10,0\", \"zorder\": 1000002.0, \"alpha\": 1, \"xindex\": 0, \"linewidth\": 2.0, \"data\": \"data02\", \"id\": \"el622654563921232\"}, {\"color\": \"#007F00\", \"yindex\": 2, \"coordinates\": \"axes\", \"dasharray\": \"10,0\", \"zorder\": 1000002.0, \"alpha\": 1, \"xindex\": 0, \"linewidth\": 2.0, \"data\": \"data02\", \"id\": \"el622654546118416\"}], \"markers\": [], \"id\": \"el622654563922640\", \"ydomain\": [5.0000000000000003e-10, 3.5000000000000003e-09], \"collections\": [], \"xscale\": \"linear\", \"bbox\": [0.125, 0.125, 0.77500000000000002, 0.77500000000000002]}], \"height\": 320.0, \"width\": 480.0, \"plugins\": [{\"type\": \"reset\"}, {\"enabled\": false, \"button\": true, \"type\": \"zoom\"}, {\"enabled\": false, \"button\": true, \"type\": \"boxzoom\"}], \"data\": {\"data02\": [[0.8260528673835126, 0.9301075268817204, 0.8508064516129032], [0.8762320788530467, 0.9301075268817204, 0.8508064516129032]], \"data03\": [[0.8009632616487455, 0.7983870967741935], [0.982078853046595, 0.7983870967741935], [0.982078853046595, 0.9731182795698926], [0.8009632616487455, 0.9731182795698926]], \"data01\": [[0.09999999999999998, 2.8318443145991523e-09, 3.0418969565459975e-09], [0.19999999999999998, 1.4448326979277226e-09, 1.5495449368074787e-09], [0.3, 9.697935787755796e-10, 1.0366167924047431e-09], [0.4, 7.944384039504371e-10, 8.467690992830512e-10], [0.5, 7.375191568570472e-10, 7.861435946665551e-10], [0.6, 7.357996434365077e-10, 7.850683436672057e-10], [0.7000000000000001, 7.621909769994772e-10, 8.147105212685801e-10], [0.8, 8.034110043908527e-10, 8.612537349961258e-10], [0.9, 8.534654094560779e-10, 9.175425974561335e-10], [1.0, 9.085839858258282e-10, 9.79864300809652e-10], [1.1, 9.67132818274763e-10, 1.046335240673102e-09]]}, \"id\": \"el622654565613904\"});\n",
       "      });\n",
       "    });\n",
       "}else{\n",
       "    // require.js not available: dynamically load d3 & mpld3\n",
       "    mpld3_load_lib(\"https://mpld3.github.io/js/d3.v3.min.js\", function(){\n",
       "         mpld3_load_lib(\"https://mpld3.github.io/js/mpld3.v0.2.js\", function(){\n",
       "                 \n",
       "                 mpld3.draw_figure(\"fig_el6226545656139042647452800\", {\"axes\": [{\"xlim\": [0.0, 1.2000000000000002], \"yscale\": \"linear\", \"axesbg\": \"#FFFFFF\", \"texts\": [{\"v_baseline\": \"hanging\", \"h_anchor\": \"middle\", \"color\": \"#000000\", \"text\": \"rSNRdu\", \"coordinates\": \"axes\", \"zorder\": 3, \"alpha\": 1, \"fontsize\": 20.0, \"position\": [0.5, -0.080645161290322578], \"rotation\": -0.0, \"id\": \"el622654566287568\"}, {\"v_baseline\": \"auto\", \"h_anchor\": \"middle\", \"color\": \"#000000\", \"text\": \"P(fail)\", \"coordinates\": \"axes\", \"zorder\": 3, \"alpha\": 1, \"fontsize\": 20.0, \"position\": [-0.070564516129032251, 0.5], \"rotation\": -90.0, \"id\": \"el622654505255184\"}, {\"v_baseline\": \"auto\", \"h_anchor\": \"middle\", \"color\": \"#000000\", \"text\": \"N=8\", \"coordinates\": \"axes\", \"zorder\": 3, \"alpha\": 1, \"fontsize\": 20.0, \"position\": [0.5, 1.0224014336917562], \"rotation\": -0.0, \"id\": \"el622654568542736\"}, {\"v_baseline\": \"auto\", \"h_anchor\": \"start\", \"color\": \"#000000\", \"text\": \"None\", \"coordinates\": \"axes\", \"zorder\": 1000003.0, \"alpha\": 1, \"fontsize\": 10.0, \"position\": [-0.16129032258064516, -0.16129032258064516], \"rotation\": -0.0, \"id\": \"el622654546118288\"}, {\"v_baseline\": \"auto\", \"h_anchor\": \"start\", \"color\": \"#000000\", \"text\": \"1.9\", \"coordinates\": \"axes\", \"zorder\": 1000003.0, \"alpha\": 1, \"fontsize\": 12.0, \"position\": [0.91565860215053763, 0.91129032258064513], \"rotation\": -0.0, \"id\": \"el622654566341392\"}, {\"v_baseline\": \"auto\", \"h_anchor\": \"start\", \"color\": \"#000000\", \"text\": \"2.0\", \"coordinates\": \"axes\", \"zorder\": 1000003.0, \"alpha\": 1, \"fontsize\": 12.0, \"position\": [0.91565860215053763, 0.831989247311828], \"rotation\": -0.0, \"id\": \"el622654566343632\"}], \"zoomable\": true, \"images\": [], \"xdomain\": [0.0, 1.2000000000000002], \"ylim\": [5.0000000000000003e-10, 3.5000000000000003e-09], \"paths\": [{\"edgecolor\": \"#000000\", \"facecolor\": \"#FFFFFF\", \"edgewidth\": 1.0, \"pathcodes\": [\"M\", \"L\", \"L\", \"L\", \"Z\"], \"yindex\": 1, \"coordinates\": \"axes\", \"dasharray\": \"10,0\", \"zorder\": 1000001.0, \"alpha\": 1, \"xindex\": 0, \"data\": \"data03\", \"id\": \"el622654543889168\"}], \"sharey\": [], \"sharex\": [], \"axesbgalpha\": null, \"axes\": [{\"scale\": \"linear\", \"tickformat\": null, \"grid\": {\"gridOn\": false}, \"fontsize\": 10.0, \"position\": \"bottom\", \"nticks\": 8, \"tickvalues\": null}, {\"scale\": \"linear\", \"tickformat\": null, \"grid\": {\"gridOn\": false}, \"fontsize\": 10.0, \"position\": \"left\", \"nticks\": 7, \"tickvalues\": null}], \"lines\": [{\"color\": \"#0000FF\", \"yindex\": 1, \"coordinates\": \"data\", \"dasharray\": \"10,0\", \"zorder\": 2, \"alpha\": 1, \"xindex\": 0, \"linewidth\": 2.0, \"data\": \"data01\", \"id\": \"el622654544324560\"}, {\"color\": \"#007F00\", \"yindex\": 2, \"coordinates\": \"data\", \"dasharray\": \"10,0\", \"zorder\": 2, \"alpha\": 1, \"xindex\": 0, \"linewidth\": 2.0, \"data\": \"data01\", \"id\": \"el622654544325712\"}, {\"color\": \"#0000FF\", \"yindex\": 1, \"coordinates\": \"axes\", \"dasharray\": \"10,0\", \"zorder\": 1000002.0, \"alpha\": 1, \"xindex\": 0, \"linewidth\": 2.0, \"data\": \"data02\", \"id\": \"el622654563921232\"}, {\"color\": \"#007F00\", \"yindex\": 2, \"coordinates\": \"axes\", \"dasharray\": \"10,0\", \"zorder\": 1000002.0, \"alpha\": 1, \"xindex\": 0, \"linewidth\": 2.0, \"data\": \"data02\", \"id\": \"el622654546118416\"}], \"markers\": [], \"id\": \"el622654563922640\", \"ydomain\": [5.0000000000000003e-10, 3.5000000000000003e-09], \"collections\": [], \"xscale\": \"linear\", \"bbox\": [0.125, 0.125, 0.77500000000000002, 0.77500000000000002]}], \"height\": 320.0, \"width\": 480.0, \"plugins\": [{\"type\": \"reset\"}, {\"enabled\": false, \"button\": true, \"type\": \"zoom\"}, {\"enabled\": false, \"button\": true, \"type\": \"boxzoom\"}], \"data\": {\"data02\": [[0.8260528673835126, 0.9301075268817204, 0.8508064516129032], [0.8762320788530467, 0.9301075268817204, 0.8508064516129032]], \"data03\": [[0.8009632616487455, 0.7983870967741935], [0.982078853046595, 0.7983870967741935], [0.982078853046595, 0.9731182795698926], [0.8009632616487455, 0.9731182795698926]], \"data01\": [[0.09999999999999998, 2.8318443145991523e-09, 3.0418969565459975e-09], [0.19999999999999998, 1.4448326979277226e-09, 1.5495449368074787e-09], [0.3, 9.697935787755796e-10, 1.0366167924047431e-09], [0.4, 7.944384039504371e-10, 8.467690992830512e-10], [0.5, 7.375191568570472e-10, 7.861435946665551e-10], [0.6, 7.357996434365077e-10, 7.850683436672057e-10], [0.7000000000000001, 7.621909769994772e-10, 8.147105212685801e-10], [0.8, 8.034110043908527e-10, 8.612537349961258e-10], [0.9, 8.534654094560779e-10, 9.175425974561335e-10], [1.0, 9.085839858258282e-10, 9.79864300809652e-10], [1.1, 9.67132818274763e-10, 1.046335240673102e-09]]}, \"id\": \"el622654565613904\"});\n",
       "            })\n",
       "         });\n",
       "}\n",
       "</script>"
      ],
      "text/plain": [
       "<IPython.core.display.HTML object>"
      ]
     },
     "execution_count": 90,
     "metadata": {},
     "output_type": "execute_result"
    }
   ],
   "source": [
    "xn, yn = result.shape\n",
    "fig = figure()\n",
    "\n",
    "for xk in range(xn):\n",
    "    plot(rSNRdu_range, result[xk], lw=2.0, label='{0}'.format(rSNR3_range[xk]))\n",
    "    print rSNRdu_range[np.argmin(result[xk])]\n",
    "\n",
    "xlabel('rSNRdu', fontsize=20)\n",
    "ylabel('P(fail)', fontsize=20)\n",
    "title('N={0}'.format(N), fontsize=20)\n",
    "legend(loc=0)\n",
    "mpld3.display(fig)"
   ]
  },
  {
   "cell_type": "code",
   "execution_count": null,
   "metadata": {
    "collapsed": true
   },
   "outputs": [],
   "source": [
    "%%time\n",
    "%run ../optimize_pkg_2.py\n",
    "N = 8\n",
    "tSNR_range = np.arange(16.4, 16.6, 0.1)\n",
    "rSNR3_range = np.arange(1.8, 1.92, 0.01)\n",
    "rSNRdu_range = [0.54]\n",
    "\n",
    "result = optimize_3_graphical(N, rSNRdu_range, rSNR3_range, tSNR_range, filepath_down, filepath_up, protocolbit, False)\n",
    "\n",
    "print result"
   ]
  },
  {
   "cell_type": "code",
   "execution_count": 95,
   "metadata": {
    "collapsed": false
   },
   "outputs": [
    {
     "name": "stdout",
     "output_type": "stream",
     "text": [
      "xn, yn (3, 12) size of matrix 36\n",
      "[[  1.06888942e-09   1.05321152e-09   1.04118292e-09   1.03225806e-09\n",
      "    1.02602993e-09   1.02214504e-09   1.02029718e-09   1.02022124e-09\n",
      "    1.02168740e-09   1.02441600e-09   1.02832143e-09   1.03332032e-09]\n",
      " [  9.20840515e-10   9.04259778e-10   8.91160368e-10   8.81083428e-10\n",
      "    8.73479289e-10   8.68298988e-10   8.65097438e-10   8.63614957e-10\n",
      "    8.63626837e-10   8.64938343e-10   8.67382055e-10   8.70733707e-10]\n",
      " [  7.96091415e-10   7.78762055e-10   7.64825980e-10   7.53834994e-10\n",
      "    7.45398410e-10   7.39178718e-10   7.34882599e-10   7.32256367e-10\n",
      "    7.30927541e-10   7.31005478e-10   7.32178318e-10   7.34304284e-10]]\n",
      "1.87\n",
      "1.87\n",
      "1.88\n"
     ]
    },
    {
     "name": "stderr",
     "output_type": "stream",
     "text": [
      "<string>:182: RuntimeWarning: divide by zero encountered in log10\n"
     ]
    },
    {
     "data": {
      "text/html": [
       "\n",
       "\n",
       "<style>\n",
       "\n",
       "</style>\n",
       "\n",
       "<div id=\"fig_el6226545460542247773581426\"></div>\n",
       "<script>\n",
       "function mpld3_load_lib(url, callback){\n",
       "  var s = document.createElement('script');\n",
       "  s.src = url;\n",
       "  s.async = true;\n",
       "  s.onreadystatechange = s.onload = callback;\n",
       "  s.onerror = function(){console.warn(\"failed to load library \" + url);};\n",
       "  document.getElementsByTagName(\"head\")[0].appendChild(s);\n",
       "}\n",
       "\n",
       "if(typeof(mpld3) !== \"undefined\" && mpld3._mpld3IsLoaded){\n",
       "   // already loaded: just create the figure\n",
       "   !function(mpld3){\n",
       "       \n",
       "       mpld3.draw_figure(\"fig_el6226545460542247773581426\", {\"axes\": [{\"xlim\": [1.8, 1.9199999999999999], \"yscale\": \"linear\", \"axesbg\": \"#FFFFFF\", \"texts\": [{\"v_baseline\": \"hanging\", \"h_anchor\": \"middle\", \"color\": \"#000000\", \"text\": \"rSNR3\", \"coordinates\": \"axes\", \"zorder\": 3, \"alpha\": 1, \"fontsize\": 20.0, \"position\": [0.5, -0.080645161290322578], \"rotation\": -0.0, \"id\": \"el622654545424592\"}, {\"v_baseline\": \"auto\", \"h_anchor\": \"middle\", \"color\": \"#000000\", \"text\": \"P(fail)\", \"coordinates\": \"axes\", \"zorder\": 3, \"alpha\": 1, \"fontsize\": 20.0, \"position\": [-0.089885752688172033, 0.5], \"rotation\": -90.0, \"id\": \"el622654568876624\"}, {\"v_baseline\": \"auto\", \"h_anchor\": \"middle\", \"color\": \"#000000\", \"text\": \"N=8\", \"coordinates\": \"axes\", \"zorder\": 3, \"alpha\": 1, \"fontsize\": 20.0, \"position\": [0.5, 1.0224014336917562], \"rotation\": -0.0, \"id\": \"el622654566111824\"}, {\"v_baseline\": \"auto\", \"h_anchor\": \"start\", \"color\": \"#000000\", \"text\": \"None\", \"coordinates\": \"axes\", \"zorder\": 1000003.0, \"alpha\": 1, \"fontsize\": 10.0, \"position\": [-0.16129032258064516, -0.16129032258064516], \"rotation\": -0.0, \"id\": \"el622654546120464\"}, {\"v_baseline\": \"auto\", \"h_anchor\": \"start\", \"color\": \"#000000\", \"text\": \"Protocol\", \"coordinates\": \"axes\", \"zorder\": 1000003.0, \"alpha\": 1, \"fontsize\": 12.0, \"position\": [0.13261648745519719, 0.29838709677419351], \"rotation\": -0.0, \"id\": \"el622654565510864\"}, {\"v_baseline\": \"auto\", \"h_anchor\": \"start\", \"color\": \"#000000\", \"text\": \"16.4\", \"coordinates\": \"axes\", \"zorder\": 1000003.0, \"alpha\": 1, \"fontsize\": 12.0, \"position\": [0.13261648745519719, 0.21908602150537634], \"rotation\": -0.0, \"id\": \"el622654569120720\"}, {\"v_baseline\": \"auto\", \"h_anchor\": \"start\", \"color\": \"#000000\", \"text\": \"16.5\", \"coordinates\": \"axes\", \"zorder\": 1000003.0, \"alpha\": 1, \"fontsize\": 12.0, \"position\": [0.13261648745519719, 0.1397849462365591], \"rotation\": -0.0, \"id\": \"el622654563406480\"}, {\"v_baseline\": \"auto\", \"h_anchor\": \"start\", \"color\": \"#000000\", \"text\": \"16.6\", \"coordinates\": \"axes\", \"zorder\": 1000003.0, \"alpha\": 1, \"fontsize\": 12.0, \"position\": [0.13261648745519719, 0.060483870967741937], \"rotation\": -0.0, \"id\": \"el622654546055888\"}], \"zoomable\": true, \"images\": [], \"xdomain\": [1.8, 1.9199999999999999], \"ylim\": [6.9999999999999996e-10, 1.0999999999999999e-09], \"paths\": [{\"edgecolor\": \"#000000\", \"facecolor\": \"#FFFFFF\", \"edgewidth\": 1.0, \"pathcodes\": [\"M\", \"L\", \"L\", \"L\", \"Z\"], \"yindex\": 1, \"coordinates\": \"axes\", \"dasharray\": \"10,0\", \"zorder\": 1000001.0, \"alpha\": 1, \"xindex\": 0, \"data\": \"data03\", \"id\": \"el622654545010512\"}], \"sharey\": [], \"sharex\": [], \"axesbgalpha\": null, \"axes\": [{\"scale\": \"linear\", \"tickformat\": null, \"grid\": {\"gridOn\": false}, \"fontsize\": 10.0, \"position\": \"bottom\", \"nticks\": 7, \"tickvalues\": null}, {\"scale\": \"linear\", \"tickformat\": null, \"grid\": {\"gridOn\": false}, \"fontsize\": 10.0, \"position\": \"left\", \"nticks\": 9, \"tickvalues\": null}], \"lines\": [{\"color\": \"#0000FF\", \"yindex\": 1, \"coordinates\": \"data\", \"dasharray\": \"10,0\", \"zorder\": 2, \"alpha\": 1, \"xindex\": 0, \"linewidth\": 2.0, \"data\": \"data01\", \"id\": \"el622654504473552\"}, {\"color\": \"#007F00\", \"yindex\": 2, \"coordinates\": \"data\", \"dasharray\": \"10,0\", \"zorder\": 2, \"alpha\": 1, \"xindex\": 0, \"linewidth\": 2.0, \"data\": \"data01\", \"id\": \"el622654541905104\"}, {\"color\": \"#FF0000\", \"yindex\": 3, \"coordinates\": \"data\", \"dasharray\": \"10,0\", \"zorder\": 2, \"alpha\": 1, \"xindex\": 0, \"linewidth\": 2.0, \"data\": \"data01\", \"id\": \"el622654568926416\"}, {\"color\": \"#00BFBF\", \"yindex\": 4, \"coordinates\": \"data\", \"dasharray\": \"10,0\", \"zorder\": 2, \"alpha\": 1, \"xindex\": 0, \"linewidth\": 2.0, \"data\": \"data01\", \"id\": \"el622654505253840\"}, {\"color\": \"#0000FF\", \"yindex\": 1, \"coordinates\": \"axes\", \"dasharray\": \"10,0\", \"zorder\": 1000002.0, \"alpha\": 1, \"xindex\": 0, \"linewidth\": 2.0, \"data\": \"data02\", \"id\": \"el622654352126608\"}, {\"color\": \"#007F00\", \"yindex\": 2, \"coordinates\": \"axes\", \"dasharray\": \"10,0\", \"zorder\": 1000002.0, \"alpha\": 1, \"xindex\": 0, \"linewidth\": 2.0, \"data\": \"data02\", \"id\": \"el622654569120656\"}, {\"color\": \"#FF0000\", \"yindex\": 3, \"coordinates\": \"axes\", \"dasharray\": \"10,0\", \"zorder\": 1000002.0, \"alpha\": 1, \"xindex\": 0, \"linewidth\": 2.0, \"data\": \"data02\", \"id\": \"el622654563403408\"}, {\"color\": \"#00BFBF\", \"yindex\": 4, \"coordinates\": \"axes\", \"dasharray\": \"10,0\", \"zorder\": 1000002.0, \"alpha\": 1, \"xindex\": 0, \"linewidth\": 2.0, \"data\": \"data02\", \"id\": \"el622654554683280\"}], \"markers\": [], \"id\": \"el622654541504080\", \"ydomain\": [6.9999999999999996e-10, 1.0999999999999999e-09], \"collections\": [], \"xscale\": \"linear\", \"bbox\": [0.125, 0.125, 0.77500000000000002, 0.77500000000000002]}], \"height\": 320.0, \"width\": 480.0, \"plugins\": [{\"type\": \"reset\"}, {\"enabled\": false, \"button\": true, \"type\": \"zoom\"}, {\"enabled\": false, \"button\": true, \"type\": \"boxzoom\"}], \"data\": {\"data02\": [[0.043010752688172074, 0.31720430107526876, 0.23790322580645162, 0.15860215053763438, 0.0793010752688172], [0.09318996415770613, 0.31720430107526876, 0.23790322580645162, 0.15860215053763438, 0.0793010752688172]], \"data03\": [[0.017921146953405048, 0.02688172043010756], [0.2864443324372761, 0.02688172043010756], [0.2864443324372761, 0.3602150537634409], [0.017921146953405048, 0.3602150537634409]], \"data01\": [[1.8, 1e-09, 1.068889421418362e-09, 9.208405149507826e-10, 7.960914150118015e-10], [1.81, 1e-09, 1.0532115179984203e-09, 9.042597781672157e-10, 7.787620548427299e-10], [1.82, 1e-09, 1.0411829176604215e-09, 8.911603677219659e-10, 7.648259803261226e-10], [1.83, 1e-09, 1.0322580568100648e-09, 8.810834284389557e-10, 7.538349944269385e-10], [1.84, 1e-09, 1.0260299276865226e-09, 8.734792888986931e-10, 7.453984096628119e-10], [1.85, 1e-09, 1.0221450352787542e-09, 8.682989882657921e-10, 7.391787182342568e-10], [1.86, 1e-09, 1.0202971800765681e-09, 8.650974381296805e-10, 7.348825992181673e-10], [1.87, 1e-09, 1.0202212408216838e-09, 8.636149573248986e-10, 7.322563666534165e-10], [1.8800000000000001, 1e-09, 1.0216874013480037e-09, 8.636268367112621e-10, 7.309275407152427e-10], [1.8900000000000001, 1e-09, 1.024415996475625e-09, 8.649383431702518e-10, 7.310054783715714e-10], [1.9000000000000001, 1e-09, 1.0283214280093489e-09, 8.673820550697542e-10, 7.321783179747854e-10], [1.9100000000000001, 1e-09, 1.0333203182000261e-09, 8.707337073587951e-10, 7.343042840446401e-10]]}, \"id\": \"el622654546054224\"});\n",
       "   }(mpld3);\n",
       "}else if(typeof define === \"function\" && define.amd){\n",
       "   // require.js is available: use it to load d3/mpld3\n",
       "   require.config({paths: {d3: \"https://mpld3.github.io/js/d3.v3.min\"}});\n",
       "   require([\"d3\"], function(d3){\n",
       "      window.d3 = d3;\n",
       "      mpld3_load_lib(\"https://mpld3.github.io/js/mpld3.v0.2.js\", function(){\n",
       "         \n",
       "         mpld3.draw_figure(\"fig_el6226545460542247773581426\", {\"axes\": [{\"xlim\": [1.8, 1.9199999999999999], \"yscale\": \"linear\", \"axesbg\": \"#FFFFFF\", \"texts\": [{\"v_baseline\": \"hanging\", \"h_anchor\": \"middle\", \"color\": \"#000000\", \"text\": \"rSNR3\", \"coordinates\": \"axes\", \"zorder\": 3, \"alpha\": 1, \"fontsize\": 20.0, \"position\": [0.5, -0.080645161290322578], \"rotation\": -0.0, \"id\": \"el622654545424592\"}, {\"v_baseline\": \"auto\", \"h_anchor\": \"middle\", \"color\": \"#000000\", \"text\": \"P(fail)\", \"coordinates\": \"axes\", \"zorder\": 3, \"alpha\": 1, \"fontsize\": 20.0, \"position\": [-0.089885752688172033, 0.5], \"rotation\": -90.0, \"id\": \"el622654568876624\"}, {\"v_baseline\": \"auto\", \"h_anchor\": \"middle\", \"color\": \"#000000\", \"text\": \"N=8\", \"coordinates\": \"axes\", \"zorder\": 3, \"alpha\": 1, \"fontsize\": 20.0, \"position\": [0.5, 1.0224014336917562], \"rotation\": -0.0, \"id\": \"el622654566111824\"}, {\"v_baseline\": \"auto\", \"h_anchor\": \"start\", \"color\": \"#000000\", \"text\": \"None\", \"coordinates\": \"axes\", \"zorder\": 1000003.0, \"alpha\": 1, \"fontsize\": 10.0, \"position\": [-0.16129032258064516, -0.16129032258064516], \"rotation\": -0.0, \"id\": \"el622654546120464\"}, {\"v_baseline\": \"auto\", \"h_anchor\": \"start\", \"color\": \"#000000\", \"text\": \"Protocol\", \"coordinates\": \"axes\", \"zorder\": 1000003.0, \"alpha\": 1, \"fontsize\": 12.0, \"position\": [0.13261648745519719, 0.29838709677419351], \"rotation\": -0.0, \"id\": \"el622654565510864\"}, {\"v_baseline\": \"auto\", \"h_anchor\": \"start\", \"color\": \"#000000\", \"text\": \"16.4\", \"coordinates\": \"axes\", \"zorder\": 1000003.0, \"alpha\": 1, \"fontsize\": 12.0, \"position\": [0.13261648745519719, 0.21908602150537634], \"rotation\": -0.0, \"id\": \"el622654569120720\"}, {\"v_baseline\": \"auto\", \"h_anchor\": \"start\", \"color\": \"#000000\", \"text\": \"16.5\", \"coordinates\": \"axes\", \"zorder\": 1000003.0, \"alpha\": 1, \"fontsize\": 12.0, \"position\": [0.13261648745519719, 0.1397849462365591], \"rotation\": -0.0, \"id\": \"el622654563406480\"}, {\"v_baseline\": \"auto\", \"h_anchor\": \"start\", \"color\": \"#000000\", \"text\": \"16.6\", \"coordinates\": \"axes\", \"zorder\": 1000003.0, \"alpha\": 1, \"fontsize\": 12.0, \"position\": [0.13261648745519719, 0.060483870967741937], \"rotation\": -0.0, \"id\": \"el622654546055888\"}], \"zoomable\": true, \"images\": [], \"xdomain\": [1.8, 1.9199999999999999], \"ylim\": [6.9999999999999996e-10, 1.0999999999999999e-09], \"paths\": [{\"edgecolor\": \"#000000\", \"facecolor\": \"#FFFFFF\", \"edgewidth\": 1.0, \"pathcodes\": [\"M\", \"L\", \"L\", \"L\", \"Z\"], \"yindex\": 1, \"coordinates\": \"axes\", \"dasharray\": \"10,0\", \"zorder\": 1000001.0, \"alpha\": 1, \"xindex\": 0, \"data\": \"data03\", \"id\": \"el622654545010512\"}], \"sharey\": [], \"sharex\": [], \"axesbgalpha\": null, \"axes\": [{\"scale\": \"linear\", \"tickformat\": null, \"grid\": {\"gridOn\": false}, \"fontsize\": 10.0, \"position\": \"bottom\", \"nticks\": 7, \"tickvalues\": null}, {\"scale\": \"linear\", \"tickformat\": null, \"grid\": {\"gridOn\": false}, \"fontsize\": 10.0, \"position\": \"left\", \"nticks\": 9, \"tickvalues\": null}], \"lines\": [{\"color\": \"#0000FF\", \"yindex\": 1, \"coordinates\": \"data\", \"dasharray\": \"10,0\", \"zorder\": 2, \"alpha\": 1, \"xindex\": 0, \"linewidth\": 2.0, \"data\": \"data01\", \"id\": \"el622654504473552\"}, {\"color\": \"#007F00\", \"yindex\": 2, \"coordinates\": \"data\", \"dasharray\": \"10,0\", \"zorder\": 2, \"alpha\": 1, \"xindex\": 0, \"linewidth\": 2.0, \"data\": \"data01\", \"id\": \"el622654541905104\"}, {\"color\": \"#FF0000\", \"yindex\": 3, \"coordinates\": \"data\", \"dasharray\": \"10,0\", \"zorder\": 2, \"alpha\": 1, \"xindex\": 0, \"linewidth\": 2.0, \"data\": \"data01\", \"id\": \"el622654568926416\"}, {\"color\": \"#00BFBF\", \"yindex\": 4, \"coordinates\": \"data\", \"dasharray\": \"10,0\", \"zorder\": 2, \"alpha\": 1, \"xindex\": 0, \"linewidth\": 2.0, \"data\": \"data01\", \"id\": \"el622654505253840\"}, {\"color\": \"#0000FF\", \"yindex\": 1, \"coordinates\": \"axes\", \"dasharray\": \"10,0\", \"zorder\": 1000002.0, \"alpha\": 1, \"xindex\": 0, \"linewidth\": 2.0, \"data\": \"data02\", \"id\": \"el622654352126608\"}, {\"color\": \"#007F00\", \"yindex\": 2, \"coordinates\": \"axes\", \"dasharray\": \"10,0\", \"zorder\": 1000002.0, \"alpha\": 1, \"xindex\": 0, \"linewidth\": 2.0, \"data\": \"data02\", \"id\": \"el622654569120656\"}, {\"color\": \"#FF0000\", \"yindex\": 3, \"coordinates\": \"axes\", \"dasharray\": \"10,0\", \"zorder\": 1000002.0, \"alpha\": 1, \"xindex\": 0, \"linewidth\": 2.0, \"data\": \"data02\", \"id\": \"el622654563403408\"}, {\"color\": \"#00BFBF\", \"yindex\": 4, \"coordinates\": \"axes\", \"dasharray\": \"10,0\", \"zorder\": 1000002.0, \"alpha\": 1, \"xindex\": 0, \"linewidth\": 2.0, \"data\": \"data02\", \"id\": \"el622654554683280\"}], \"markers\": [], \"id\": \"el622654541504080\", \"ydomain\": [6.9999999999999996e-10, 1.0999999999999999e-09], \"collections\": [], \"xscale\": \"linear\", \"bbox\": [0.125, 0.125, 0.77500000000000002, 0.77500000000000002]}], \"height\": 320.0, \"width\": 480.0, \"plugins\": [{\"type\": \"reset\"}, {\"enabled\": false, \"button\": true, \"type\": \"zoom\"}, {\"enabled\": false, \"button\": true, \"type\": \"boxzoom\"}], \"data\": {\"data02\": [[0.043010752688172074, 0.31720430107526876, 0.23790322580645162, 0.15860215053763438, 0.0793010752688172], [0.09318996415770613, 0.31720430107526876, 0.23790322580645162, 0.15860215053763438, 0.0793010752688172]], \"data03\": [[0.017921146953405048, 0.02688172043010756], [0.2864443324372761, 0.02688172043010756], [0.2864443324372761, 0.3602150537634409], [0.017921146953405048, 0.3602150537634409]], \"data01\": [[1.8, 1e-09, 1.068889421418362e-09, 9.208405149507826e-10, 7.960914150118015e-10], [1.81, 1e-09, 1.0532115179984203e-09, 9.042597781672157e-10, 7.787620548427299e-10], [1.82, 1e-09, 1.0411829176604215e-09, 8.911603677219659e-10, 7.648259803261226e-10], [1.83, 1e-09, 1.0322580568100648e-09, 8.810834284389557e-10, 7.538349944269385e-10], [1.84, 1e-09, 1.0260299276865226e-09, 8.734792888986931e-10, 7.453984096628119e-10], [1.85, 1e-09, 1.0221450352787542e-09, 8.682989882657921e-10, 7.391787182342568e-10], [1.86, 1e-09, 1.0202971800765681e-09, 8.650974381296805e-10, 7.348825992181673e-10], [1.87, 1e-09, 1.0202212408216838e-09, 8.636149573248986e-10, 7.322563666534165e-10], [1.8800000000000001, 1e-09, 1.0216874013480037e-09, 8.636268367112621e-10, 7.309275407152427e-10], [1.8900000000000001, 1e-09, 1.024415996475625e-09, 8.649383431702518e-10, 7.310054783715714e-10], [1.9000000000000001, 1e-09, 1.0283214280093489e-09, 8.673820550697542e-10, 7.321783179747854e-10], [1.9100000000000001, 1e-09, 1.0333203182000261e-09, 8.707337073587951e-10, 7.343042840446401e-10]]}, \"id\": \"el622654546054224\"});\n",
       "      });\n",
       "    });\n",
       "}else{\n",
       "    // require.js not available: dynamically load d3 & mpld3\n",
       "    mpld3_load_lib(\"https://mpld3.github.io/js/d3.v3.min.js\", function(){\n",
       "         mpld3_load_lib(\"https://mpld3.github.io/js/mpld3.v0.2.js\", function(){\n",
       "                 \n",
       "                 mpld3.draw_figure(\"fig_el6226545460542247773581426\", {\"axes\": [{\"xlim\": [1.8, 1.9199999999999999], \"yscale\": \"linear\", \"axesbg\": \"#FFFFFF\", \"texts\": [{\"v_baseline\": \"hanging\", \"h_anchor\": \"middle\", \"color\": \"#000000\", \"text\": \"rSNR3\", \"coordinates\": \"axes\", \"zorder\": 3, \"alpha\": 1, \"fontsize\": 20.0, \"position\": [0.5, -0.080645161290322578], \"rotation\": -0.0, \"id\": \"el622654545424592\"}, {\"v_baseline\": \"auto\", \"h_anchor\": \"middle\", \"color\": \"#000000\", \"text\": \"P(fail)\", \"coordinates\": \"axes\", \"zorder\": 3, \"alpha\": 1, \"fontsize\": 20.0, \"position\": [-0.089885752688172033, 0.5], \"rotation\": -90.0, \"id\": \"el622654568876624\"}, {\"v_baseline\": \"auto\", \"h_anchor\": \"middle\", \"color\": \"#000000\", \"text\": \"N=8\", \"coordinates\": \"axes\", \"zorder\": 3, \"alpha\": 1, \"fontsize\": 20.0, \"position\": [0.5, 1.0224014336917562], \"rotation\": -0.0, \"id\": \"el622654566111824\"}, {\"v_baseline\": \"auto\", \"h_anchor\": \"start\", \"color\": \"#000000\", \"text\": \"None\", \"coordinates\": \"axes\", \"zorder\": 1000003.0, \"alpha\": 1, \"fontsize\": 10.0, \"position\": [-0.16129032258064516, -0.16129032258064516], \"rotation\": -0.0, \"id\": \"el622654546120464\"}, {\"v_baseline\": \"auto\", \"h_anchor\": \"start\", \"color\": \"#000000\", \"text\": \"Protocol\", \"coordinates\": \"axes\", \"zorder\": 1000003.0, \"alpha\": 1, \"fontsize\": 12.0, \"position\": [0.13261648745519719, 0.29838709677419351], \"rotation\": -0.0, \"id\": \"el622654565510864\"}, {\"v_baseline\": \"auto\", \"h_anchor\": \"start\", \"color\": \"#000000\", \"text\": \"16.4\", \"coordinates\": \"axes\", \"zorder\": 1000003.0, \"alpha\": 1, \"fontsize\": 12.0, \"position\": [0.13261648745519719, 0.21908602150537634], \"rotation\": -0.0, \"id\": \"el622654569120720\"}, {\"v_baseline\": \"auto\", \"h_anchor\": \"start\", \"color\": \"#000000\", \"text\": \"16.5\", \"coordinates\": \"axes\", \"zorder\": 1000003.0, \"alpha\": 1, \"fontsize\": 12.0, \"position\": [0.13261648745519719, 0.1397849462365591], \"rotation\": -0.0, \"id\": \"el622654563406480\"}, {\"v_baseline\": \"auto\", \"h_anchor\": \"start\", \"color\": \"#000000\", \"text\": \"16.6\", \"coordinates\": \"axes\", \"zorder\": 1000003.0, \"alpha\": 1, \"fontsize\": 12.0, \"position\": [0.13261648745519719, 0.060483870967741937], \"rotation\": -0.0, \"id\": \"el622654546055888\"}], \"zoomable\": true, \"images\": [], \"xdomain\": [1.8, 1.9199999999999999], \"ylim\": [6.9999999999999996e-10, 1.0999999999999999e-09], \"paths\": [{\"edgecolor\": \"#000000\", \"facecolor\": \"#FFFFFF\", \"edgewidth\": 1.0, \"pathcodes\": [\"M\", \"L\", \"L\", \"L\", \"Z\"], \"yindex\": 1, \"coordinates\": \"axes\", \"dasharray\": \"10,0\", \"zorder\": 1000001.0, \"alpha\": 1, \"xindex\": 0, \"data\": \"data03\", \"id\": \"el622654545010512\"}], \"sharey\": [], \"sharex\": [], \"axesbgalpha\": null, \"axes\": [{\"scale\": \"linear\", \"tickformat\": null, \"grid\": {\"gridOn\": false}, \"fontsize\": 10.0, \"position\": \"bottom\", \"nticks\": 7, \"tickvalues\": null}, {\"scale\": \"linear\", \"tickformat\": null, \"grid\": {\"gridOn\": false}, \"fontsize\": 10.0, \"position\": \"left\", \"nticks\": 9, \"tickvalues\": null}], \"lines\": [{\"color\": \"#0000FF\", \"yindex\": 1, \"coordinates\": \"data\", \"dasharray\": \"10,0\", \"zorder\": 2, \"alpha\": 1, \"xindex\": 0, \"linewidth\": 2.0, \"data\": \"data01\", \"id\": \"el622654504473552\"}, {\"color\": \"#007F00\", \"yindex\": 2, \"coordinates\": \"data\", \"dasharray\": \"10,0\", \"zorder\": 2, \"alpha\": 1, \"xindex\": 0, \"linewidth\": 2.0, \"data\": \"data01\", \"id\": \"el622654541905104\"}, {\"color\": \"#FF0000\", \"yindex\": 3, \"coordinates\": \"data\", \"dasharray\": \"10,0\", \"zorder\": 2, \"alpha\": 1, \"xindex\": 0, \"linewidth\": 2.0, \"data\": \"data01\", \"id\": \"el622654568926416\"}, {\"color\": \"#00BFBF\", \"yindex\": 4, \"coordinates\": \"data\", \"dasharray\": \"10,0\", \"zorder\": 2, \"alpha\": 1, \"xindex\": 0, \"linewidth\": 2.0, \"data\": \"data01\", \"id\": \"el622654505253840\"}, {\"color\": \"#0000FF\", \"yindex\": 1, \"coordinates\": \"axes\", \"dasharray\": \"10,0\", \"zorder\": 1000002.0, \"alpha\": 1, \"xindex\": 0, \"linewidth\": 2.0, \"data\": \"data02\", \"id\": \"el622654352126608\"}, {\"color\": \"#007F00\", \"yindex\": 2, \"coordinates\": \"axes\", \"dasharray\": \"10,0\", \"zorder\": 1000002.0, \"alpha\": 1, \"xindex\": 0, \"linewidth\": 2.0, \"data\": \"data02\", \"id\": \"el622654569120656\"}, {\"color\": \"#FF0000\", \"yindex\": 3, \"coordinates\": \"axes\", \"dasharray\": \"10,0\", \"zorder\": 1000002.0, \"alpha\": 1, \"xindex\": 0, \"linewidth\": 2.0, \"data\": \"data02\", \"id\": \"el622654563403408\"}, {\"color\": \"#00BFBF\", \"yindex\": 4, \"coordinates\": \"axes\", \"dasharray\": \"10,0\", \"zorder\": 1000002.0, \"alpha\": 1, \"xindex\": 0, \"linewidth\": 2.0, \"data\": \"data02\", \"id\": \"el622654554683280\"}], \"markers\": [], \"id\": \"el622654541504080\", \"ydomain\": [6.9999999999999996e-10, 1.0999999999999999e-09], \"collections\": [], \"xscale\": \"linear\", \"bbox\": [0.125, 0.125, 0.77500000000000002, 0.77500000000000002]}], \"height\": 320.0, \"width\": 480.0, \"plugins\": [{\"type\": \"reset\"}, {\"enabled\": false, \"button\": true, \"type\": \"zoom\"}, {\"enabled\": false, \"button\": true, \"type\": \"boxzoom\"}], \"data\": {\"data02\": [[0.043010752688172074, 0.31720430107526876, 0.23790322580645162, 0.15860215053763438, 0.0793010752688172], [0.09318996415770613, 0.31720430107526876, 0.23790322580645162, 0.15860215053763438, 0.0793010752688172]], \"data03\": [[0.017921146953405048, 0.02688172043010756], [0.2864443324372761, 0.02688172043010756], [0.2864443324372761, 0.3602150537634409], [0.017921146953405048, 0.3602150537634409]], \"data01\": [[1.8, 1e-09, 1.068889421418362e-09, 9.208405149507826e-10, 7.960914150118015e-10], [1.81, 1e-09, 1.0532115179984203e-09, 9.042597781672157e-10, 7.787620548427299e-10], [1.82, 1e-09, 1.0411829176604215e-09, 8.911603677219659e-10, 7.648259803261226e-10], [1.83, 1e-09, 1.0322580568100648e-09, 8.810834284389557e-10, 7.538349944269385e-10], [1.84, 1e-09, 1.0260299276865226e-09, 8.734792888986931e-10, 7.453984096628119e-10], [1.85, 1e-09, 1.0221450352787542e-09, 8.682989882657921e-10, 7.391787182342568e-10], [1.86, 1e-09, 1.0202971800765681e-09, 8.650974381296805e-10, 7.348825992181673e-10], [1.87, 1e-09, 1.0202212408216838e-09, 8.636149573248986e-10, 7.322563666534165e-10], [1.8800000000000001, 1e-09, 1.0216874013480037e-09, 8.636268367112621e-10, 7.309275407152427e-10], [1.8900000000000001, 1e-09, 1.024415996475625e-09, 8.649383431702518e-10, 7.310054783715714e-10], [1.9000000000000001, 1e-09, 1.0283214280093489e-09, 8.673820550697542e-10, 7.321783179747854e-10], [1.9100000000000001, 1e-09, 1.0333203182000261e-09, 8.707337073587951e-10, 7.343042840446401e-10]]}, \"id\": \"el622654546054224\"});\n",
       "            })\n",
       "         });\n",
       "}\n",
       "</script>"
      ],
      "text/plain": [
       "<IPython.core.display.HTML object>"
      ]
     },
     "execution_count": 95,
     "metadata": {},
     "output_type": "execute_result"
    }
   ],
   "source": [
    "xn, yn = result.shape\n",
    "fig = figure()\n",
    "plot(rSNR3_range, 10**(-9)*ones(len(rSNR3_range),), lw=2.0, label='Protocol')\n",
    "for xk in range(xn):\n",
    "    plot(rSNR3_range, result[xk], lw=2.0, label='{0}'.format(tSNR_range[xk]))\n",
    "    print rSNR3_range[np.argmin(result[xk])]\n",
    "\n",
    "xlabel('rSNR3', fontsize=20)\n",
    "ylabel('P(fail)', fontsize=20)\n",
    "title('N={0}'.format(N), fontsize=20)\n",
    "legend(loc=0)\n",
    "mpld3.display(fig)"
   ]
  },
  {
   "cell_type": "code",
   "execution_count": 48,
   "metadata": {
    "collapsed": false
   },
   "outputs": [
    {
     "name": "stdout",
     "output_type": "stream",
     "text": [
      "[ 0.1  0.2  0.3  0.4  0.5  0.6  0.7  0.8  0.9  1.   1.1]\n",
      "[[  2.77118550e-09   1.46758428e-09   1.02038911e-09   8.54754378e-10\n",
      "    8.01092859e-10   7.99619038e-10   8.24637358e-10   8.63428329e-10\n",
      "    9.10448161e-10   9.61420055e-10   1.01524023e-09]\n",
      " [  2.83184431e-09   1.44483270e-09   9.69793579e-10   7.94438404e-10\n",
      "    7.37519157e-10   7.35799643e-10   7.62190977e-10   8.03411004e-10\n",
      "    8.53465409e-10   9.08583986e-10   9.67132818e-10]]\n",
      "0.6\n",
      "0.6\n"
     ]
    },
    {
     "data": {
      "text/html": [
       "\n",
       "\n",
       "<style>\n",
       "\n",
       "</style>\n",
       "\n",
       "<div id=\"fig_el622654546120976643457243\"></div>\n",
       "<script>\n",
       "function mpld3_load_lib(url, callback){\n",
       "  var s = document.createElement('script');\n",
       "  s.src = url;\n",
       "  s.async = true;\n",
       "  s.onreadystatechange = s.onload = callback;\n",
       "  s.onerror = function(){console.warn(\"failed to load library \" + url);};\n",
       "  document.getElementsByTagName(\"head\")[0].appendChild(s);\n",
       "}\n",
       "\n",
       "if(typeof(mpld3) !== \"undefined\" && mpld3._mpld3IsLoaded){\n",
       "   // already loaded: just create the figure\n",
       "   !function(mpld3){\n",
       "       \n",
       "       mpld3.draw_figure(\"fig_el622654546120976643457243\", {\"axes\": [{\"xlim\": [0.0, 1.2000000000000002], \"yscale\": \"linear\", \"axesbg\": \"#FFFFFF\", \"texts\": [{\"v_baseline\": \"hanging\", \"h_anchor\": \"middle\", \"color\": \"#000000\", \"text\": \"rSNRdu\", \"coordinates\": \"axes\", \"zorder\": 3, \"alpha\": 1, \"fontsize\": 20.0, \"position\": [0.5, -0.080645161290322578], \"rotation\": -0.0, \"id\": \"el622654546303568\"}, {\"v_baseline\": \"auto\", \"h_anchor\": \"middle\", \"color\": \"#000000\", \"text\": \"P(fail\", \"coordinates\": \"axes\", \"zorder\": 3, \"alpha\": 1, \"fontsize\": 20.0, \"position\": [-0.070564516129032251, 0.5], \"rotation\": -90.0, \"id\": \"el622654546212624\"}, {\"v_baseline\": \"auto\", \"h_anchor\": \"middle\", \"color\": \"#000000\", \"text\": \"N=8\", \"coordinates\": \"axes\", \"zorder\": 3, \"alpha\": 1, \"fontsize\": 20.0, \"position\": [0.5, 1.0224014336917562], \"rotation\": -0.0, \"id\": \"el622654554742992\"}, {\"v_baseline\": \"auto\", \"h_anchor\": \"start\", \"color\": \"#000000\", \"text\": \"None\", \"coordinates\": \"axes\", \"zorder\": 1000003.0, \"alpha\": 1, \"fontsize\": 10.0, \"position\": [-0.16129032258064516, -0.16129032258064516], \"rotation\": -0.0, \"id\": \"el622654541502288\"}, {\"v_baseline\": \"auto\", \"h_anchor\": \"start\", \"color\": \"#000000\", \"text\": \"1.8\", \"coordinates\": \"axes\", \"zorder\": 1000003.0, \"alpha\": 1, \"fontsize\": 12.0, \"position\": [0.91683467741935487, 0.91129032258064513], \"rotation\": -0.0, \"id\": \"el622654544946640\"}, {\"v_baseline\": \"auto\", \"h_anchor\": \"start\", \"color\": \"#000000\", \"text\": \"1.9\", \"coordinates\": \"axes\", \"zorder\": 1000003.0, \"alpha\": 1, \"fontsize\": 12.0, \"position\": [0.91683467741935487, 0.831989247311828], \"rotation\": -0.0, \"id\": \"el622654544946832\"}], \"zoomable\": true, \"images\": [], \"xdomain\": [0.0, 1.2000000000000002], \"ylim\": [5.0000000000000003e-10, 3e-09], \"paths\": [{\"edgecolor\": \"#000000\", \"facecolor\": \"#FFFFFF\", \"edgewidth\": 1.0, \"pathcodes\": [\"M\", \"L\", \"L\", \"L\", \"Z\"], \"yindex\": 1, \"coordinates\": \"axes\", \"dasharray\": \"10,0\", \"zorder\": 1000001.0, \"alpha\": 1, \"xindex\": 0, \"data\": \"data03\", \"id\": \"el622654352255952\"}], \"sharey\": [], \"sharex\": [], \"axesbgalpha\": null, \"axes\": [{\"scale\": \"linear\", \"tickformat\": null, \"grid\": {\"gridOn\": false}, \"fontsize\": 10.0, \"position\": \"bottom\", \"nticks\": 8, \"tickvalues\": null}, {\"scale\": \"linear\", \"tickformat\": null, \"grid\": {\"gridOn\": false}, \"fontsize\": 10.0, \"position\": \"left\", \"nticks\": 6, \"tickvalues\": null}], \"lines\": [{\"color\": \"#0000FF\", \"yindex\": 1, \"coordinates\": \"data\", \"dasharray\": \"10,0\", \"zorder\": 2, \"alpha\": 1, \"xindex\": 0, \"linewidth\": 2.0, \"data\": \"data01\", \"id\": \"el622654566105168\"}, {\"color\": \"#007F00\", \"yindex\": 2, \"coordinates\": \"data\", \"dasharray\": \"10,0\", \"zorder\": 2, \"alpha\": 1, \"xindex\": 0, \"linewidth\": 2.0, \"data\": \"data01\", \"id\": \"el622654566104080\"}, {\"color\": \"#0000FF\", \"yindex\": 1, \"coordinates\": \"axes\", \"dasharray\": \"10,0\", \"zorder\": 1000002.0, \"alpha\": 1, \"xindex\": 0, \"linewidth\": 2.0, \"data\": \"data02\", \"id\": \"el622654565461648\"}, {\"color\": \"#007F00\", \"yindex\": 2, \"coordinates\": \"axes\", \"dasharray\": \"10,0\", \"zorder\": 1000002.0, \"alpha\": 1, \"xindex\": 0, \"linewidth\": 2.0, \"data\": \"data02\", \"id\": \"el622654544947984\"}], \"markers\": [], \"id\": \"el622654565462608\", \"ydomain\": [5.0000000000000003e-10, 3e-09], \"collections\": [], \"xscale\": \"linear\", \"bbox\": [0.125, 0.125, 0.77500000000000002, 0.77500000000000002]}], \"height\": 320.0, \"width\": 480.0, \"plugins\": [{\"type\": \"reset\"}, {\"enabled\": false, \"button\": true, \"type\": \"zoom\"}, {\"enabled\": false, \"button\": true, \"type\": \"boxzoom\"}], \"data\": {\"data02\": [[0.8272289426523297, 0.9301075268817204, 0.8508064516129032], [0.8774081541218638, 0.9301075268817204, 0.8508064516129032]], \"data03\": [[0.8021393369175628, 0.7983870967741935], [0.982078853046595, 0.7983870967741935], [0.982078853046595, 0.9731182795698926], [0.8021393369175628, 0.9731182795698926]], \"data01\": [[0.09999999999999998, 2.7711855032919175e-09, 2.8318443145991523e-09], [0.19999999999999998, 1.467584276326761e-09, 1.4448326979277226e-09], [0.3, 1.020389106543007e-09, 9.697935787755796e-10], [0.4, 8.547543783876677e-10, 7.944384039504371e-10], [0.5, 8.010928587154353e-10, 7.375191568570472e-10], [0.6, 7.996190376502454e-10, 7.357996434365077e-10], [0.7000000000000001, 8.24637358398661e-10, 7.621909769994772e-10], [0.8, 8.634283288344591e-10, 8.034110043908527e-10], [0.9, 9.104481613064763e-10, 8.534654094560779e-10], [1.0, 9.614200546792517e-10, 9.085839858258282e-10], [1.1, 1.015240225221703e-09, 9.67132818274763e-10]]}, \"id\": \"el622654546120976\"});\n",
       "   }(mpld3);\n",
       "}else if(typeof define === \"function\" && define.amd){\n",
       "   // require.js is available: use it to load d3/mpld3\n",
       "   require.config({paths: {d3: \"https://mpld3.github.io/js/d3.v3.min\"}});\n",
       "   require([\"d3\"], function(d3){\n",
       "      window.d3 = d3;\n",
       "      mpld3_load_lib(\"https://mpld3.github.io/js/mpld3.v0.2.js\", function(){\n",
       "         \n",
       "         mpld3.draw_figure(\"fig_el622654546120976643457243\", {\"axes\": [{\"xlim\": [0.0, 1.2000000000000002], \"yscale\": \"linear\", \"axesbg\": \"#FFFFFF\", \"texts\": [{\"v_baseline\": \"hanging\", \"h_anchor\": \"middle\", \"color\": \"#000000\", \"text\": \"rSNRdu\", \"coordinates\": \"axes\", \"zorder\": 3, \"alpha\": 1, \"fontsize\": 20.0, \"position\": [0.5, -0.080645161290322578], \"rotation\": -0.0, \"id\": \"el622654546303568\"}, {\"v_baseline\": \"auto\", \"h_anchor\": \"middle\", \"color\": \"#000000\", \"text\": \"P(fail\", \"coordinates\": \"axes\", \"zorder\": 3, \"alpha\": 1, \"fontsize\": 20.0, \"position\": [-0.070564516129032251, 0.5], \"rotation\": -90.0, \"id\": \"el622654546212624\"}, {\"v_baseline\": \"auto\", \"h_anchor\": \"middle\", \"color\": \"#000000\", \"text\": \"N=8\", \"coordinates\": \"axes\", \"zorder\": 3, \"alpha\": 1, \"fontsize\": 20.0, \"position\": [0.5, 1.0224014336917562], \"rotation\": -0.0, \"id\": \"el622654554742992\"}, {\"v_baseline\": \"auto\", \"h_anchor\": \"start\", \"color\": \"#000000\", \"text\": \"None\", \"coordinates\": \"axes\", \"zorder\": 1000003.0, \"alpha\": 1, \"fontsize\": 10.0, \"position\": [-0.16129032258064516, -0.16129032258064516], \"rotation\": -0.0, \"id\": \"el622654541502288\"}, {\"v_baseline\": \"auto\", \"h_anchor\": \"start\", \"color\": \"#000000\", \"text\": \"1.8\", \"coordinates\": \"axes\", \"zorder\": 1000003.0, \"alpha\": 1, \"fontsize\": 12.0, \"position\": [0.91683467741935487, 0.91129032258064513], \"rotation\": -0.0, \"id\": \"el622654544946640\"}, {\"v_baseline\": \"auto\", \"h_anchor\": \"start\", \"color\": \"#000000\", \"text\": \"1.9\", \"coordinates\": \"axes\", \"zorder\": 1000003.0, \"alpha\": 1, \"fontsize\": 12.0, \"position\": [0.91683467741935487, 0.831989247311828], \"rotation\": -0.0, \"id\": \"el622654544946832\"}], \"zoomable\": true, \"images\": [], \"xdomain\": [0.0, 1.2000000000000002], \"ylim\": [5.0000000000000003e-10, 3e-09], \"paths\": [{\"edgecolor\": \"#000000\", \"facecolor\": \"#FFFFFF\", \"edgewidth\": 1.0, \"pathcodes\": [\"M\", \"L\", \"L\", \"L\", \"Z\"], \"yindex\": 1, \"coordinates\": \"axes\", \"dasharray\": \"10,0\", \"zorder\": 1000001.0, \"alpha\": 1, \"xindex\": 0, \"data\": \"data03\", \"id\": \"el622654352255952\"}], \"sharey\": [], \"sharex\": [], \"axesbgalpha\": null, \"axes\": [{\"scale\": \"linear\", \"tickformat\": null, \"grid\": {\"gridOn\": false}, \"fontsize\": 10.0, \"position\": \"bottom\", \"nticks\": 8, \"tickvalues\": null}, {\"scale\": \"linear\", \"tickformat\": null, \"grid\": {\"gridOn\": false}, \"fontsize\": 10.0, \"position\": \"left\", \"nticks\": 6, \"tickvalues\": null}], \"lines\": [{\"color\": \"#0000FF\", \"yindex\": 1, \"coordinates\": \"data\", \"dasharray\": \"10,0\", \"zorder\": 2, \"alpha\": 1, \"xindex\": 0, \"linewidth\": 2.0, \"data\": \"data01\", \"id\": \"el622654566105168\"}, {\"color\": \"#007F00\", \"yindex\": 2, \"coordinates\": \"data\", \"dasharray\": \"10,0\", \"zorder\": 2, \"alpha\": 1, \"xindex\": 0, \"linewidth\": 2.0, \"data\": \"data01\", \"id\": \"el622654566104080\"}, {\"color\": \"#0000FF\", \"yindex\": 1, \"coordinates\": \"axes\", \"dasharray\": \"10,0\", \"zorder\": 1000002.0, \"alpha\": 1, \"xindex\": 0, \"linewidth\": 2.0, \"data\": \"data02\", \"id\": \"el622654565461648\"}, {\"color\": \"#007F00\", \"yindex\": 2, \"coordinates\": \"axes\", \"dasharray\": \"10,0\", \"zorder\": 1000002.0, \"alpha\": 1, \"xindex\": 0, \"linewidth\": 2.0, \"data\": \"data02\", \"id\": \"el622654544947984\"}], \"markers\": [], \"id\": \"el622654565462608\", \"ydomain\": [5.0000000000000003e-10, 3e-09], \"collections\": [], \"xscale\": \"linear\", \"bbox\": [0.125, 0.125, 0.77500000000000002, 0.77500000000000002]}], \"height\": 320.0, \"width\": 480.0, \"plugins\": [{\"type\": \"reset\"}, {\"enabled\": false, \"button\": true, \"type\": \"zoom\"}, {\"enabled\": false, \"button\": true, \"type\": \"boxzoom\"}], \"data\": {\"data02\": [[0.8272289426523297, 0.9301075268817204, 0.8508064516129032], [0.8774081541218638, 0.9301075268817204, 0.8508064516129032]], \"data03\": [[0.8021393369175628, 0.7983870967741935], [0.982078853046595, 0.7983870967741935], [0.982078853046595, 0.9731182795698926], [0.8021393369175628, 0.9731182795698926]], \"data01\": [[0.09999999999999998, 2.7711855032919175e-09, 2.8318443145991523e-09], [0.19999999999999998, 1.467584276326761e-09, 1.4448326979277226e-09], [0.3, 1.020389106543007e-09, 9.697935787755796e-10], [0.4, 8.547543783876677e-10, 7.944384039504371e-10], [0.5, 8.010928587154353e-10, 7.375191568570472e-10], [0.6, 7.996190376502454e-10, 7.357996434365077e-10], [0.7000000000000001, 8.24637358398661e-10, 7.621909769994772e-10], [0.8, 8.634283288344591e-10, 8.034110043908527e-10], [0.9, 9.104481613064763e-10, 8.534654094560779e-10], [1.0, 9.614200546792517e-10, 9.085839858258282e-10], [1.1, 1.015240225221703e-09, 9.67132818274763e-10]]}, \"id\": \"el622654546120976\"});\n",
       "      });\n",
       "    });\n",
       "}else{\n",
       "    // require.js not available: dynamically load d3 & mpld3\n",
       "    mpld3_load_lib(\"https://mpld3.github.io/js/d3.v3.min.js\", function(){\n",
       "         mpld3_load_lib(\"https://mpld3.github.io/js/mpld3.v0.2.js\", function(){\n",
       "                 \n",
       "                 mpld3.draw_figure(\"fig_el622654546120976643457243\", {\"axes\": [{\"xlim\": [0.0, 1.2000000000000002], \"yscale\": \"linear\", \"axesbg\": \"#FFFFFF\", \"texts\": [{\"v_baseline\": \"hanging\", \"h_anchor\": \"middle\", \"color\": \"#000000\", \"text\": \"rSNRdu\", \"coordinates\": \"axes\", \"zorder\": 3, \"alpha\": 1, \"fontsize\": 20.0, \"position\": [0.5, -0.080645161290322578], \"rotation\": -0.0, \"id\": \"el622654546303568\"}, {\"v_baseline\": \"auto\", \"h_anchor\": \"middle\", \"color\": \"#000000\", \"text\": \"P(fail\", \"coordinates\": \"axes\", \"zorder\": 3, \"alpha\": 1, \"fontsize\": 20.0, \"position\": [-0.070564516129032251, 0.5], \"rotation\": -90.0, \"id\": \"el622654546212624\"}, {\"v_baseline\": \"auto\", \"h_anchor\": \"middle\", \"color\": \"#000000\", \"text\": \"N=8\", \"coordinates\": \"axes\", \"zorder\": 3, \"alpha\": 1, \"fontsize\": 20.0, \"position\": [0.5, 1.0224014336917562], \"rotation\": -0.0, \"id\": \"el622654554742992\"}, {\"v_baseline\": \"auto\", \"h_anchor\": \"start\", \"color\": \"#000000\", \"text\": \"None\", \"coordinates\": \"axes\", \"zorder\": 1000003.0, \"alpha\": 1, \"fontsize\": 10.0, \"position\": [-0.16129032258064516, -0.16129032258064516], \"rotation\": -0.0, \"id\": \"el622654541502288\"}, {\"v_baseline\": \"auto\", \"h_anchor\": \"start\", \"color\": \"#000000\", \"text\": \"1.8\", \"coordinates\": \"axes\", \"zorder\": 1000003.0, \"alpha\": 1, \"fontsize\": 12.0, \"position\": [0.91683467741935487, 0.91129032258064513], \"rotation\": -0.0, \"id\": \"el622654544946640\"}, {\"v_baseline\": \"auto\", \"h_anchor\": \"start\", \"color\": \"#000000\", \"text\": \"1.9\", \"coordinates\": \"axes\", \"zorder\": 1000003.0, \"alpha\": 1, \"fontsize\": 12.0, \"position\": [0.91683467741935487, 0.831989247311828], \"rotation\": -0.0, \"id\": \"el622654544946832\"}], \"zoomable\": true, \"images\": [], \"xdomain\": [0.0, 1.2000000000000002], \"ylim\": [5.0000000000000003e-10, 3e-09], \"paths\": [{\"edgecolor\": \"#000000\", \"facecolor\": \"#FFFFFF\", \"edgewidth\": 1.0, \"pathcodes\": [\"M\", \"L\", \"L\", \"L\", \"Z\"], \"yindex\": 1, \"coordinates\": \"axes\", \"dasharray\": \"10,0\", \"zorder\": 1000001.0, \"alpha\": 1, \"xindex\": 0, \"data\": \"data03\", \"id\": \"el622654352255952\"}], \"sharey\": [], \"sharex\": [], \"axesbgalpha\": null, \"axes\": [{\"scale\": \"linear\", \"tickformat\": null, \"grid\": {\"gridOn\": false}, \"fontsize\": 10.0, \"position\": \"bottom\", \"nticks\": 8, \"tickvalues\": null}, {\"scale\": \"linear\", \"tickformat\": null, \"grid\": {\"gridOn\": false}, \"fontsize\": 10.0, \"position\": \"left\", \"nticks\": 6, \"tickvalues\": null}], \"lines\": [{\"color\": \"#0000FF\", \"yindex\": 1, \"coordinates\": \"data\", \"dasharray\": \"10,0\", \"zorder\": 2, \"alpha\": 1, \"xindex\": 0, \"linewidth\": 2.0, \"data\": \"data01\", \"id\": \"el622654566105168\"}, {\"color\": \"#007F00\", \"yindex\": 2, \"coordinates\": \"data\", \"dasharray\": \"10,0\", \"zorder\": 2, \"alpha\": 1, \"xindex\": 0, \"linewidth\": 2.0, \"data\": \"data01\", \"id\": \"el622654566104080\"}, {\"color\": \"#0000FF\", \"yindex\": 1, \"coordinates\": \"axes\", \"dasharray\": \"10,0\", \"zorder\": 1000002.0, \"alpha\": 1, \"xindex\": 0, \"linewidth\": 2.0, \"data\": \"data02\", \"id\": \"el622654565461648\"}, {\"color\": \"#007F00\", \"yindex\": 2, \"coordinates\": \"axes\", \"dasharray\": \"10,0\", \"zorder\": 1000002.0, \"alpha\": 1, \"xindex\": 0, \"linewidth\": 2.0, \"data\": \"data02\", \"id\": \"el622654544947984\"}], \"markers\": [], \"id\": \"el622654565462608\", \"ydomain\": [5.0000000000000003e-10, 3e-09], \"collections\": [], \"xscale\": \"linear\", \"bbox\": [0.125, 0.125, 0.77500000000000002, 0.77500000000000002]}], \"height\": 320.0, \"width\": 480.0, \"plugins\": [{\"type\": \"reset\"}, {\"enabled\": false, \"button\": true, \"type\": \"zoom\"}, {\"enabled\": false, \"button\": true, \"type\": \"boxzoom\"}], \"data\": {\"data02\": [[0.8272289426523297, 0.9301075268817204, 0.8508064516129032], [0.8774081541218638, 0.9301075268817204, 0.8508064516129032]], \"data03\": [[0.8021393369175628, 0.7983870967741935], [0.982078853046595, 0.7983870967741935], [0.982078853046595, 0.9731182795698926], [0.8021393369175628, 0.9731182795698926]], \"data01\": [[0.09999999999999998, 2.7711855032919175e-09, 2.8318443145991523e-09], [0.19999999999999998, 1.467584276326761e-09, 1.4448326979277226e-09], [0.3, 1.020389106543007e-09, 9.697935787755796e-10], [0.4, 8.547543783876677e-10, 7.944384039504371e-10], [0.5, 8.010928587154353e-10, 7.375191568570472e-10], [0.6, 7.996190376502454e-10, 7.357996434365077e-10], [0.7000000000000001, 8.24637358398661e-10, 7.621909769994772e-10], [0.8, 8.634283288344591e-10, 8.034110043908527e-10], [0.9, 9.104481613064763e-10, 8.534654094560779e-10], [1.0, 9.614200546792517e-10, 9.085839858258282e-10], [1.1, 1.015240225221703e-09, 9.67132818274763e-10]]}, \"id\": \"el622654546120976\"});\n",
       "            })\n",
       "         });\n",
       "}\n",
       "</script>"
      ],
      "text/plain": [
       "<IPython.core.display.HTML object>"
      ]
     },
     "execution_count": 48,
     "metadata": {},
     "output_type": "execute_result"
    }
   ],
   "source": [
    "print rSNRdu_range\n",
    "print testleah\n",
    "\n",
    "# print rSNRdu_range[np.argmin(testleah[1])]\n",
    "# print rSNRdu_range[np.argmin(testleah[2])]\n",
    "\n",
    "# label represents rSNR3\n",
    "fig = figure()\n",
    "for xk in range(xn):\n",
    "    plot(rSNRdu_range, testleah[xk], lw=2.0, label='{0}'.format(rSNR3_range[xk]))\n",
    "    print rSNRdu_range[np.argmin(testleah[xk])]\n",
    "# plot(rSNRdu_range, testleah[1], lw=2.0, label='1.2')\n",
    "# plot(rSNRdu_range, testleah[2], lw=2.0, label='1.3')\n",
    "# plot(rSNRdu_range, testleah[3], lw=2.0, label='1.6')\n",
    "xlabel('rSNRdu', fontsize=20)\n",
    "ylabel('P(fail', fontsize=20)\n",
    "title('N={0}'.format(N), fontsize=20)\n",
    "legend(loc=0)\n",
    "mpld3.display(fig)"
   ]
  },
  {
   "cell_type": "code",
   "execution_count": 33,
   "metadata": {
    "collapsed": false
   },
   "outputs": [
    {
     "name": "stdout",
     "output_type": "stream",
     "text": [
      "[ 1.   1.1  1.2  1.3  1.4  1.5  1.6  1.7  1.8  1.9]\n",
      "[[  3.77032372e-09]\n",
      " [  1.26191357e-09]\n",
      " [  7.92230392e-10]\n",
      " [  7.53072937e-10]\n",
      " [  8.00473465e-10]\n",
      " [  8.67715122e-10]\n",
      " [  9.42856238e-10]\n",
      " [  1.02362130e-09]\n",
      " [  1.11105836e-09]\n",
      " [  1.20474941e-09]]\n"
     ]
    },
    {
     "data": {
      "text/html": [
       "\n",
       "\n",
       "<style>\n",
       "\n",
       "</style>\n",
       "\n",
       "<div id=\"fig_el6226545418128169162250814\"></div>\n",
       "<script>\n",
       "function mpld3_load_lib(url, callback){\n",
       "  var s = document.createElement('script');\n",
       "  s.src = url;\n",
       "  s.async = true;\n",
       "  s.onreadystatechange = s.onload = callback;\n",
       "  s.onerror = function(){console.warn(\"failed to load library \" + url);};\n",
       "  document.getElementsByTagName(\"head\")[0].appendChild(s);\n",
       "}\n",
       "\n",
       "if(typeof(mpld3) !== \"undefined\" && mpld3._mpld3IsLoaded){\n",
       "   // already loaded: just create the figure\n",
       "   !function(mpld3){\n",
       "       \n",
       "       mpld3.draw_figure(\"fig_el6226545418128169162250814\", {\"axes\": [{\"xlim\": [1.0, 2.0], \"yscale\": \"linear\", \"axesbg\": \"#FFFFFF\", \"texts\": [{\"v_baseline\": \"hanging\", \"h_anchor\": \"middle\", \"color\": \"#000000\", \"text\": \"rSNR3\", \"coordinates\": \"axes\", \"zorder\": 3, \"alpha\": 1, \"fontsize\": 20.0, \"position\": [0.5, -0.080645161290322578], \"rotation\": -0.0, \"id\": \"el622654565599888\"}, {\"v_baseline\": \"auto\", \"h_anchor\": \"middle\", \"color\": \"#000000\", \"text\": \"P(fail)\", \"coordinates\": \"axes\", \"zorder\": 3, \"alpha\": 1, \"fontsize\": 20.0, \"position\": [-0.071236559139784938, 0.5], \"rotation\": -90.0, \"id\": \"el622654544802512\"}, {\"v_baseline\": \"auto\", \"h_anchor\": \"middle\", \"color\": \"#000000\", \"text\": \"N=6\", \"coordinates\": \"axes\", \"zorder\": 3, \"alpha\": 1, \"fontsize\": 20.0, \"position\": [0.5, 1.0224014336917562], \"rotation\": -0.0, \"id\": \"el622654544900368\"}, {\"v_baseline\": \"auto\", \"h_anchor\": \"start\", \"color\": \"#000000\", \"text\": \"None\", \"coordinates\": \"axes\", \"zorder\": 1000003.0, \"alpha\": 1, \"fontsize\": 10.0, \"position\": [-0.16129032258064516, -0.16129032258064516], \"rotation\": -0.0, \"id\": \"el622654565536400\"}, {\"v_baseline\": \"auto\", \"h_anchor\": \"start\", \"color\": \"#000000\", \"text\": \"0.3\", \"coordinates\": \"axes\", \"zorder\": 1000003.0, \"alpha\": 1, \"fontsize\": 12.0, \"position\": [0.91595262096774188, 0.91129032258064513], \"rotation\": -0.0, \"id\": \"el622654505001744\"}], \"zoomable\": true, \"images\": [], \"xdomain\": [1.0, 2.0], \"ylim\": [5.0000000000000003e-10, 4.0000000000000002e-09], \"paths\": [{\"edgecolor\": \"#000000\", \"facecolor\": \"#FFFFFF\", \"edgewidth\": 1.0, \"pathcodes\": [\"M\", \"L\", \"L\", \"L\", \"Z\"], \"yindex\": 1, \"coordinates\": \"axes\", \"dasharray\": \"10,0\", \"zorder\": 1000001.0, \"alpha\": 1, \"xindex\": 0, \"data\": \"data03\", \"id\": \"el622654563521296\"}], \"sharey\": [], \"sharex\": [], \"axesbgalpha\": null, \"axes\": [{\"scale\": \"linear\", \"tickformat\": null, \"grid\": {\"gridOn\": false}, \"fontsize\": 10.0, \"position\": \"bottom\", \"nticks\": 7, \"tickvalues\": null}, {\"scale\": \"linear\", \"tickformat\": null, \"grid\": {\"gridOn\": false}, \"fontsize\": 10.0, \"position\": \"left\", \"nticks\": 8, \"tickvalues\": null}], \"lines\": [{\"color\": \"#0000FF\", \"yindex\": 1, \"coordinates\": \"data\", \"dasharray\": \"10,0\", \"zorder\": 2, \"alpha\": 1, \"xindex\": 0, \"linewidth\": 2.0, \"data\": \"data01\", \"id\": \"el622654563508240\"}, {\"color\": \"#0000FF\", \"yindex\": 1, \"coordinates\": \"axes\", \"dasharray\": \"10,0\", \"zorder\": 1000002.0, \"alpha\": 1, \"xindex\": 0, \"linewidth\": 2.0, \"data\": \"data02\", \"id\": \"el622654505000976\"}], \"markers\": [], \"id\": \"el622654541816336\", \"ydomain\": [5.0000000000000003e-10, 4.0000000000000002e-09], \"collections\": [], \"xscale\": \"linear\", \"bbox\": [0.125, 0.125, 0.77500000000000002, 0.77500000000000002]}], \"height\": 320.0, \"width\": 480.0, \"plugins\": [{\"type\": \"reset\"}, {\"enabled\": false, \"button\": true, \"type\": \"zoom\"}, {\"enabled\": false, \"button\": true, \"type\": \"boxzoom\"}], \"data\": {\"data02\": [[0.8263468862007168, 0.9301075268817204], [0.8765260976702509, 0.9301075268817204]], \"data03\": [[0.8012572804659499, 0.8776881720430109], [0.982078853046595, 0.8776881720430109], [0.982078853046595, 0.9731182795698926], [0.8012572804659499, 0.9731182795698926]], \"data01\": [[1.0, 3.770323719898272e-09], [1.1, 1.261913573635809e-09], [1.2000000000000002, 7.922303923990626e-10], [1.3000000000000003, 7.530729373428358e-10], [1.4000000000000004, 8.00473465289997e-10], [1.5000000000000004, 8.677151219771417e-10], [1.6000000000000005, 9.428562375290994e-10], [1.7000000000000006, 1.0236212988345983e-09], [1.8000000000000007, 1.1110583564288845e-09], [1.9000000000000008, 1.2047494113431867e-09]]}, \"id\": \"el622654541812816\"});\n",
       "   }(mpld3);\n",
       "}else if(typeof define === \"function\" && define.amd){\n",
       "   // require.js is available: use it to load d3/mpld3\n",
       "   require.config({paths: {d3: \"https://mpld3.github.io/js/d3.v3.min\"}});\n",
       "   require([\"d3\"], function(d3){\n",
       "      window.d3 = d3;\n",
       "      mpld3_load_lib(\"https://mpld3.github.io/js/mpld3.v0.2.js\", function(){\n",
       "         \n",
       "         mpld3.draw_figure(\"fig_el6226545418128169162250814\", {\"axes\": [{\"xlim\": [1.0, 2.0], \"yscale\": \"linear\", \"axesbg\": \"#FFFFFF\", \"texts\": [{\"v_baseline\": \"hanging\", \"h_anchor\": \"middle\", \"color\": \"#000000\", \"text\": \"rSNR3\", \"coordinates\": \"axes\", \"zorder\": 3, \"alpha\": 1, \"fontsize\": 20.0, \"position\": [0.5, -0.080645161290322578], \"rotation\": -0.0, \"id\": \"el622654565599888\"}, {\"v_baseline\": \"auto\", \"h_anchor\": \"middle\", \"color\": \"#000000\", \"text\": \"P(fail)\", \"coordinates\": \"axes\", \"zorder\": 3, \"alpha\": 1, \"fontsize\": 20.0, \"position\": [-0.071236559139784938, 0.5], \"rotation\": -90.0, \"id\": \"el622654544802512\"}, {\"v_baseline\": \"auto\", \"h_anchor\": \"middle\", \"color\": \"#000000\", \"text\": \"N=6\", \"coordinates\": \"axes\", \"zorder\": 3, \"alpha\": 1, \"fontsize\": 20.0, \"position\": [0.5, 1.0224014336917562], \"rotation\": -0.0, \"id\": \"el622654544900368\"}, {\"v_baseline\": \"auto\", \"h_anchor\": \"start\", \"color\": \"#000000\", \"text\": \"None\", \"coordinates\": \"axes\", \"zorder\": 1000003.0, \"alpha\": 1, \"fontsize\": 10.0, \"position\": [-0.16129032258064516, -0.16129032258064516], \"rotation\": -0.0, \"id\": \"el622654565536400\"}, {\"v_baseline\": \"auto\", \"h_anchor\": \"start\", \"color\": \"#000000\", \"text\": \"0.3\", \"coordinates\": \"axes\", \"zorder\": 1000003.0, \"alpha\": 1, \"fontsize\": 12.0, \"position\": [0.91595262096774188, 0.91129032258064513], \"rotation\": -0.0, \"id\": \"el622654505001744\"}], \"zoomable\": true, \"images\": [], \"xdomain\": [1.0, 2.0], \"ylim\": [5.0000000000000003e-10, 4.0000000000000002e-09], \"paths\": [{\"edgecolor\": \"#000000\", \"facecolor\": \"#FFFFFF\", \"edgewidth\": 1.0, \"pathcodes\": [\"M\", \"L\", \"L\", \"L\", \"Z\"], \"yindex\": 1, \"coordinates\": \"axes\", \"dasharray\": \"10,0\", \"zorder\": 1000001.0, \"alpha\": 1, \"xindex\": 0, \"data\": \"data03\", \"id\": \"el622654563521296\"}], \"sharey\": [], \"sharex\": [], \"axesbgalpha\": null, \"axes\": [{\"scale\": \"linear\", \"tickformat\": null, \"grid\": {\"gridOn\": false}, \"fontsize\": 10.0, \"position\": \"bottom\", \"nticks\": 7, \"tickvalues\": null}, {\"scale\": \"linear\", \"tickformat\": null, \"grid\": {\"gridOn\": false}, \"fontsize\": 10.0, \"position\": \"left\", \"nticks\": 8, \"tickvalues\": null}], \"lines\": [{\"color\": \"#0000FF\", \"yindex\": 1, \"coordinates\": \"data\", \"dasharray\": \"10,0\", \"zorder\": 2, \"alpha\": 1, \"xindex\": 0, \"linewidth\": 2.0, \"data\": \"data01\", \"id\": \"el622654563508240\"}, {\"color\": \"#0000FF\", \"yindex\": 1, \"coordinates\": \"axes\", \"dasharray\": \"10,0\", \"zorder\": 1000002.0, \"alpha\": 1, \"xindex\": 0, \"linewidth\": 2.0, \"data\": \"data02\", \"id\": \"el622654505000976\"}], \"markers\": [], \"id\": \"el622654541816336\", \"ydomain\": [5.0000000000000003e-10, 4.0000000000000002e-09], \"collections\": [], \"xscale\": \"linear\", \"bbox\": [0.125, 0.125, 0.77500000000000002, 0.77500000000000002]}], \"height\": 320.0, \"width\": 480.0, \"plugins\": [{\"type\": \"reset\"}, {\"enabled\": false, \"button\": true, \"type\": \"zoom\"}, {\"enabled\": false, \"button\": true, \"type\": \"boxzoom\"}], \"data\": {\"data02\": [[0.8263468862007168, 0.9301075268817204], [0.8765260976702509, 0.9301075268817204]], \"data03\": [[0.8012572804659499, 0.8776881720430109], [0.982078853046595, 0.8776881720430109], [0.982078853046595, 0.9731182795698926], [0.8012572804659499, 0.9731182795698926]], \"data01\": [[1.0, 3.770323719898272e-09], [1.1, 1.261913573635809e-09], [1.2000000000000002, 7.922303923990626e-10], [1.3000000000000003, 7.530729373428358e-10], [1.4000000000000004, 8.00473465289997e-10], [1.5000000000000004, 8.677151219771417e-10], [1.6000000000000005, 9.428562375290994e-10], [1.7000000000000006, 1.0236212988345983e-09], [1.8000000000000007, 1.1110583564288845e-09], [1.9000000000000008, 1.2047494113431867e-09]]}, \"id\": \"el622654541812816\"});\n",
       "      });\n",
       "    });\n",
       "}else{\n",
       "    // require.js not available: dynamically load d3 & mpld3\n",
       "    mpld3_load_lib(\"https://mpld3.github.io/js/d3.v3.min.js\", function(){\n",
       "         mpld3_load_lib(\"https://mpld3.github.io/js/mpld3.v0.2.js\", function(){\n",
       "                 \n",
       "                 mpld3.draw_figure(\"fig_el6226545418128169162250814\", {\"axes\": [{\"xlim\": [1.0, 2.0], \"yscale\": \"linear\", \"axesbg\": \"#FFFFFF\", \"texts\": [{\"v_baseline\": \"hanging\", \"h_anchor\": \"middle\", \"color\": \"#000000\", \"text\": \"rSNR3\", \"coordinates\": \"axes\", \"zorder\": 3, \"alpha\": 1, \"fontsize\": 20.0, \"position\": [0.5, -0.080645161290322578], \"rotation\": -0.0, \"id\": \"el622654565599888\"}, {\"v_baseline\": \"auto\", \"h_anchor\": \"middle\", \"color\": \"#000000\", \"text\": \"P(fail)\", \"coordinates\": \"axes\", \"zorder\": 3, \"alpha\": 1, \"fontsize\": 20.0, \"position\": [-0.071236559139784938, 0.5], \"rotation\": -90.0, \"id\": \"el622654544802512\"}, {\"v_baseline\": \"auto\", \"h_anchor\": \"middle\", \"color\": \"#000000\", \"text\": \"N=6\", \"coordinates\": \"axes\", \"zorder\": 3, \"alpha\": 1, \"fontsize\": 20.0, \"position\": [0.5, 1.0224014336917562], \"rotation\": -0.0, \"id\": \"el622654544900368\"}, {\"v_baseline\": \"auto\", \"h_anchor\": \"start\", \"color\": \"#000000\", \"text\": \"None\", \"coordinates\": \"axes\", \"zorder\": 1000003.0, \"alpha\": 1, \"fontsize\": 10.0, \"position\": [-0.16129032258064516, -0.16129032258064516], \"rotation\": -0.0, \"id\": \"el622654565536400\"}, {\"v_baseline\": \"auto\", \"h_anchor\": \"start\", \"color\": \"#000000\", \"text\": \"0.3\", \"coordinates\": \"axes\", \"zorder\": 1000003.0, \"alpha\": 1, \"fontsize\": 12.0, \"position\": [0.91595262096774188, 0.91129032258064513], \"rotation\": -0.0, \"id\": \"el622654505001744\"}], \"zoomable\": true, \"images\": [], \"xdomain\": [1.0, 2.0], \"ylim\": [5.0000000000000003e-10, 4.0000000000000002e-09], \"paths\": [{\"edgecolor\": \"#000000\", \"facecolor\": \"#FFFFFF\", \"edgewidth\": 1.0, \"pathcodes\": [\"M\", \"L\", \"L\", \"L\", \"Z\"], \"yindex\": 1, \"coordinates\": \"axes\", \"dasharray\": \"10,0\", \"zorder\": 1000001.0, \"alpha\": 1, \"xindex\": 0, \"data\": \"data03\", \"id\": \"el622654563521296\"}], \"sharey\": [], \"sharex\": [], \"axesbgalpha\": null, \"axes\": [{\"scale\": \"linear\", \"tickformat\": null, \"grid\": {\"gridOn\": false}, \"fontsize\": 10.0, \"position\": \"bottom\", \"nticks\": 7, \"tickvalues\": null}, {\"scale\": \"linear\", \"tickformat\": null, \"grid\": {\"gridOn\": false}, \"fontsize\": 10.0, \"position\": \"left\", \"nticks\": 8, \"tickvalues\": null}], \"lines\": [{\"color\": \"#0000FF\", \"yindex\": 1, \"coordinates\": \"data\", \"dasharray\": \"10,0\", \"zorder\": 2, \"alpha\": 1, \"xindex\": 0, \"linewidth\": 2.0, \"data\": \"data01\", \"id\": \"el622654563508240\"}, {\"color\": \"#0000FF\", \"yindex\": 1, \"coordinates\": \"axes\", \"dasharray\": \"10,0\", \"zorder\": 1000002.0, \"alpha\": 1, \"xindex\": 0, \"linewidth\": 2.0, \"data\": \"data02\", \"id\": \"el622654505000976\"}], \"markers\": [], \"id\": \"el622654541816336\", \"ydomain\": [5.0000000000000003e-10, 4.0000000000000002e-09], \"collections\": [], \"xscale\": \"linear\", \"bbox\": [0.125, 0.125, 0.77500000000000002, 0.77500000000000002]}], \"height\": 320.0, \"width\": 480.0, \"plugins\": [{\"type\": \"reset\"}, {\"enabled\": false, \"button\": true, \"type\": \"zoom\"}, {\"enabled\": false, \"button\": true, \"type\": \"boxzoom\"}], \"data\": {\"data02\": [[0.8263468862007168, 0.9301075268817204], [0.8765260976702509, 0.9301075268817204]], \"data03\": [[0.8012572804659499, 0.8776881720430109], [0.982078853046595, 0.8776881720430109], [0.982078853046595, 0.9731182795698926], [0.8012572804659499, 0.9731182795698926]], \"data01\": [[1.0, 3.770323719898272e-09], [1.1, 1.261913573635809e-09], [1.2000000000000002, 7.922303923990626e-10], [1.3000000000000003, 7.530729373428358e-10], [1.4000000000000004, 8.00473465289997e-10], [1.5000000000000004, 8.677151219771417e-10], [1.6000000000000005, 9.428562375290994e-10], [1.7000000000000006, 1.0236212988345983e-09], [1.8000000000000007, 1.1110583564288845e-09], [1.9000000000000008, 1.2047494113431867e-09]]}, \"id\": \"el622654541812816\"});\n",
       "            })\n",
       "         });\n",
       "}\n",
       "</script>"
      ],
      "text/plain": [
       "<IPython.core.display.HTML object>"
      ]
     },
     "execution_count": 33,
     "metadata": {},
     "output_type": "execute_result"
    }
   ],
   "source": [
    "print rSNR3_range\n",
    "print testleah\n",
    "\n",
    "# print rSNRdu_range[np.argmin(testleah[0])]\n",
    "# print rSNRdu_range[np.argmin(testleah[1])]\n",
    "# print rSNRdu_range[np.argmin(testleah[2])]\n",
    "\n",
    "# label represents rSNR3\n",
    "fig = figure()\n",
    "plot(rSNR3_range, testleah[:,0], lw=2.0, label='0.3')\n",
    "# plot(rSNR3_range, testleah[1], lw=2.0, label='1.2')\n",
    "# plot(rSNR3_range, testleah[2], lw=2.0, label='1.3')\n",
    "# plot(rSNRdu_range, testleah[3], lw=2.0, label='1.6')\n",
    "xlabel('rSNR3', fontsize=20)\n",
    "ylabel('P(fail)', fontsize=20)\n",
    "title('N={0}'.format(N), fontsize=20)\n",
    "legend(loc=0)\n",
    "mpld3.display(fig)"
   ]
  },
  {
   "cell_type": "code",
   "execution_count": 71,
   "metadata": {
    "collapsed": false
   },
   "outputs": [
    {
     "name": "stdout",
     "output_type": "stream",
     "text": [
      "CPU times: user 20.3 s, sys: 128 ms, total: 20.5 s\n",
      "Wall time: 21.2 s\n"
     ]
    }
   ],
   "source": [
    "%%time\n",
    "# set tSNR, see shape of rSNRdu vs rSNR3\n",
    "N = 8\n",
    "tSNR_range = np.arange(16.4, 16.6, 0.1)\n",
    "rSNR3_range = np.arange(1.8, 1.92, 0.01)\n",
    "# rSNRdu_guess = 0.5\n",
    "# rSNRdu_range = np.arange(rSNRdu_guess-0.5, rSNRdu_guess+0.5+0.1, 0.1)\n",
    "rSNRdu = 0.54\n",
    "\n",
    "downbit = upbit = xorbit = 4*10**4/3\n",
    "downTable = load_table(filepath_down+str(N)+extension)\n",
    "downfunc = interp1d(downTable[0], downTable[1], kind='linear', bounds_error=False, fill_value=(1.0, 0.0))\n",
    "upTable = load_table(filepath_up+str(N)+extension)\n",
    "upfunc = interp1d(upTable[0], upTable[1], kind='linear', bounds_error=False, fill_value=(1.0, 0.0))\n",
    "\n",
    "xor_table = load_table(filepath_up+str(N)+extension)\n",
    "xor_func = interp1d(xor_table[0], xor_table[1], kind='linear', bounds_error=False, fill_value=(1.0, 0.0))\n",
    "\n",
    "p_a1, p_a2 = downfunc(rSNRdu), upfunc(rSNRdu)\n",
    "\n",
    "xn, yn = len(tSNR_range), len(rSNR3_range)\n",
    "\n",
    "testleah = zeros((xn, yn))\n",
    "    \n",
    "for xk in range(xn):\n",
    "    tSNR = tSNR_range[xk]\n",
    "    for yk in range(yn):\n",
    "        rSNR3 = rSNR3_range[yk]\n",
    "        p_add_3 = xor_func(rSNR3)\n",
    "        xor_opt = xor_analysis_pruned(N, tSNR, rSNRdu, rSNR3, p_a1, p_a2, p_add_3)\n",
    "        testleah[xk, yk] = 1 - xor_opt\n",
    "#         Z[np.where(rSNR3_range==rSNR3)[0][0], np.where(rSNRdu_range==rSNRdu)[0][0]] = 1 - xor_opt"
   ]
  },
  {
   "cell_type": "code",
   "execution_count": 72,
   "metadata": {
    "collapsed": false
   },
   "outputs": [
    {
     "name": "stdout",
     "output_type": "stream",
     "text": [
      "[[  1.06888942e-09   1.05321152e-09   1.04118292e-09   1.03225806e-09\n",
      "    1.02602993e-09   1.02214504e-09   1.02029718e-09   1.02022124e-09\n",
      "    1.02168740e-09   1.02441600e-09   1.02832143e-09   1.03332032e-09]\n",
      " [  9.20840515e-10   9.04259778e-10   8.91160368e-10   8.81083428e-10\n",
      "    8.73479289e-10   8.68298988e-10   8.65097438e-10   8.63614957e-10\n",
      "    8.63626837e-10   8.64938343e-10   8.67382055e-10   8.70733707e-10]\n",
      " [  7.96091415e-10   7.78762055e-10   7.64825980e-10   7.53834994e-10\n",
      "    7.45398410e-10   7.39178718e-10   7.34882599e-10   7.32256367e-10\n",
      "    7.30927541e-10   7.31005478e-10   7.32178318e-10   7.34304284e-10]]\n",
      "1.87\n",
      "1.87\n",
      "1.88\n"
     ]
    },
    {
     "data": {
      "text/html": [
       "\n",
       "\n",
       "<style>\n",
       "\n",
       "</style>\n",
       "\n",
       "<div id=\"fig_el6226545676352168883353814\"></div>\n",
       "<script>\n",
       "function mpld3_load_lib(url, callback){\n",
       "  var s = document.createElement('script');\n",
       "  s.src = url;\n",
       "  s.async = true;\n",
       "  s.onreadystatechange = s.onload = callback;\n",
       "  s.onerror = function(){console.warn(\"failed to load library \" + url);};\n",
       "  document.getElementsByTagName(\"head\")[0].appendChild(s);\n",
       "}\n",
       "\n",
       "if(typeof(mpld3) !== \"undefined\" && mpld3._mpld3IsLoaded){\n",
       "   // already loaded: just create the figure\n",
       "   !function(mpld3){\n",
       "       \n",
       "       mpld3.draw_figure(\"fig_el6226545676352168883353814\", {\"axes\": [{\"xlim\": [1.8, 1.9199999999999999], \"yscale\": \"linear\", \"axesbg\": \"#FFFFFF\", \"texts\": [{\"v_baseline\": \"hanging\", \"h_anchor\": \"middle\", \"color\": \"#000000\", \"text\": \"rSNR3\", \"coordinates\": \"axes\", \"zorder\": 3, \"alpha\": 1, \"fontsize\": 20.0, \"position\": [0.5, -0.080645161290322578], \"rotation\": -0.0, \"id\": \"el622654541582992\"}, {\"v_baseline\": \"auto\", \"h_anchor\": \"middle\", \"color\": \"#000000\", \"text\": \"P(fail)\", \"coordinates\": \"axes\", \"zorder\": 3, \"alpha\": 1, \"fontsize\": 20.0, \"position\": [-0.089885752688172033, 0.5], \"rotation\": -90.0, \"id\": \"el622654545008976\"}, {\"v_baseline\": \"auto\", \"h_anchor\": \"middle\", \"color\": \"#000000\", \"text\": \"N=8\", \"coordinates\": \"axes\", \"zorder\": 3, \"alpha\": 1, \"fontsize\": 20.0, \"position\": [0.5, 1.0224014336917562], \"rotation\": -0.0, \"id\": \"el622654569682384\"}, {\"v_baseline\": \"auto\", \"h_anchor\": \"start\", \"color\": \"#000000\", \"text\": \"None\", \"coordinates\": \"axes\", \"zorder\": 1000003.0, \"alpha\": 1, \"fontsize\": 10.0, \"position\": [-0.16129032258064516, -0.16129032258064516], \"rotation\": -0.0, \"id\": \"el622654545486672\"}, {\"v_baseline\": \"auto\", \"h_anchor\": \"start\", \"color\": \"#000000\", \"text\": \"16.4\", \"coordinates\": \"axes\", \"zorder\": 1000003.0, \"alpha\": 1, \"fontsize\": 12.0, \"position\": [0.13261648745519719, 0.2190860215053764], \"rotation\": -0.0, \"id\": \"el622654545391248\"}, {\"v_baseline\": \"auto\", \"h_anchor\": \"start\", \"color\": \"#000000\", \"text\": \"16.5\", \"coordinates\": \"axes\", \"zorder\": 1000003.0, \"alpha\": 1, \"fontsize\": 12.0, \"position\": [0.13261648745519719, 0.13978494623655915], \"rotation\": -0.0, \"id\": \"el622654505411792\"}, {\"v_baseline\": \"auto\", \"h_anchor\": \"start\", \"color\": \"#000000\", \"text\": \"16.6\", \"coordinates\": \"axes\", \"zorder\": 1000003.0, \"alpha\": 1, \"fontsize\": 12.0, \"position\": [0.13261648745519719, 0.060483870967741965], \"rotation\": -0.0, \"id\": \"el622654554685392\"}], \"zoomable\": true, \"images\": [], \"xdomain\": [1.8, 1.9199999999999999], \"ylim\": [6.9999999999999996e-10, 1.0999999999999999e-09], \"paths\": [{\"edgecolor\": \"#000000\", \"facecolor\": \"#FFFFFF\", \"edgewidth\": 1.0, \"pathcodes\": [\"M\", \"L\", \"L\", \"L\", \"Z\"], \"yindex\": 1, \"coordinates\": \"axes\", \"dasharray\": \"10,0\", \"zorder\": 1000001.0, \"alpha\": 1, \"xindex\": 0, \"data\": \"data03\", \"id\": \"el622654568692432\"}], \"sharey\": [], \"sharex\": [], \"axesbgalpha\": null, \"axes\": [{\"scale\": \"linear\", \"tickformat\": null, \"grid\": {\"gridOn\": false}, \"fontsize\": 10.0, \"position\": \"bottom\", \"nticks\": 7, \"tickvalues\": null}, {\"scale\": \"linear\", \"tickformat\": null, \"grid\": {\"gridOn\": false}, \"fontsize\": 10.0, \"position\": \"left\", \"nticks\": 9, \"tickvalues\": null}], \"lines\": [{\"color\": \"#0000FF\", \"yindex\": 1, \"coordinates\": \"data\", \"dasharray\": \"10,0\", \"zorder\": 2, \"alpha\": 1, \"xindex\": 0, \"linewidth\": 2.0, \"data\": \"data01\", \"id\": \"el622654546055440\"}, {\"color\": \"#007F00\", \"yindex\": 2, \"coordinates\": \"data\", \"dasharray\": \"10,0\", \"zorder\": 2, \"alpha\": 1, \"xindex\": 0, \"linewidth\": 2.0, \"data\": \"data01\", \"id\": \"el622654546053520\"}, {\"color\": \"#FF0000\", \"yindex\": 3, \"coordinates\": \"data\", \"dasharray\": \"10,0\", \"zorder\": 2, \"alpha\": 1, \"xindex\": 0, \"linewidth\": 2.0, \"data\": \"data01\", \"id\": \"el622654544041040\"}, {\"color\": \"#00BFBF\", \"yindex\": 4, \"coordinates\": \"data\", \"dasharray\": \"10,0\", \"zorder\": 2, \"alpha\": 1, \"xindex\": 0, \"linewidth\": 1.0, \"data\": \"data01\", \"id\": \"el622654569366224\"}, {\"color\": \"#0000FF\", \"yindex\": 1, \"coordinates\": \"axes\", \"dasharray\": \"10,0\", \"zorder\": 1000002.0, \"alpha\": 1, \"xindex\": 0, \"linewidth\": 2.0, \"data\": \"data02\", \"id\": \"el622654544756368\"}, {\"color\": \"#007F00\", \"yindex\": 2, \"coordinates\": \"axes\", \"dasharray\": \"10,0\", \"zorder\": 1000002.0, \"alpha\": 1, \"xindex\": 0, \"linewidth\": 2.0, \"data\": \"data02\", \"id\": \"el622654554682896\"}, {\"color\": \"#FF0000\", \"yindex\": 3, \"coordinates\": \"axes\", \"dasharray\": \"10,0\", \"zorder\": 1000002.0, \"alpha\": 1, \"xindex\": 0, \"linewidth\": 2.0, \"data\": \"data02\", \"id\": \"el622654545484176\"}], \"markers\": [], \"id\": \"el622654569363600\", \"ydomain\": [6.9999999999999996e-10, 1.0999999999999999e-09], \"collections\": [], \"xscale\": \"linear\", \"bbox\": [0.125, 0.125, 0.77500000000000002, 0.77500000000000002]}], \"height\": 320.0, \"width\": 480.0, \"plugins\": [{\"type\": \"reset\"}, {\"enabled\": false, \"button\": true, \"type\": \"zoom\"}, {\"enabled\": false, \"button\": true, \"type\": \"boxzoom\"}], \"data\": {\"data02\": [[0.043010752688172074, 0.23790322580645168, 0.15860215053763443, 0.07930107526881723], [0.09318996415770613, 0.23790322580645168, 0.15860215053763443, 0.07930107526881723]], \"data03\": [[0.017921146953405048, 0.02688172043010756], [0.22079413082437285, 0.02688172043010756], [0.22079413082437285, 0.28091397849462363], [0.017921146953405048, 0.28091397849462363]], \"data01\": [[1.8, 1.068889421418362e-09, 9.208405149507826e-10, 7.960914150118015e-10, 1e-09], [1.81, 1.0532115179984203e-09, 9.042597781672157e-10, 7.787620548427299e-10, 1e-09], [1.82, 1.0411829176604215e-09, 8.911603677219659e-10, 7.648259803261226e-10, 1e-09], [1.83, 1.0322580568100648e-09, 8.810834284389557e-10, 7.538349944269385e-10, 1e-09], [1.84, 1.0260299276865226e-09, 8.734792888986931e-10, 7.453984096628119e-10, 1e-09], [1.85, 1.0221450352787542e-09, 8.682989882657921e-10, 7.391787182342568e-10, 1e-09], [1.86, 1.0202971800765681e-09, 8.650974381296805e-10, 7.348825992181673e-10, 1e-09], [1.87, 1.0202212408216838e-09, 8.636149573248986e-10, 7.322563666534165e-10, 1e-09], [1.8800000000000001, 1.0216874013480037e-09, 8.636268367112621e-10, 7.309275407152427e-10, 1e-09], [1.8900000000000001, 1.024415996475625e-09, 8.649383431702518e-10, 7.310054783715714e-10, 1e-09], [1.9000000000000001, 1.0283214280093489e-09, 8.673820550697542e-10, 7.321783179747854e-10, 1e-09], [1.9100000000000001, 1.0333203182000261e-09, 8.707337073587951e-10, 7.343042840446401e-10, 1e-09]]}, \"id\": \"el622654567635216\"});\n",
       "   }(mpld3);\n",
       "}else if(typeof define === \"function\" && define.amd){\n",
       "   // require.js is available: use it to load d3/mpld3\n",
       "   require.config({paths: {d3: \"https://mpld3.github.io/js/d3.v3.min\"}});\n",
       "   require([\"d3\"], function(d3){\n",
       "      window.d3 = d3;\n",
       "      mpld3_load_lib(\"https://mpld3.github.io/js/mpld3.v0.2.js\", function(){\n",
       "         \n",
       "         mpld3.draw_figure(\"fig_el6226545676352168883353814\", {\"axes\": [{\"xlim\": [1.8, 1.9199999999999999], \"yscale\": \"linear\", \"axesbg\": \"#FFFFFF\", \"texts\": [{\"v_baseline\": \"hanging\", \"h_anchor\": \"middle\", \"color\": \"#000000\", \"text\": \"rSNR3\", \"coordinates\": \"axes\", \"zorder\": 3, \"alpha\": 1, \"fontsize\": 20.0, \"position\": [0.5, -0.080645161290322578], \"rotation\": -0.0, \"id\": \"el622654541582992\"}, {\"v_baseline\": \"auto\", \"h_anchor\": \"middle\", \"color\": \"#000000\", \"text\": \"P(fail)\", \"coordinates\": \"axes\", \"zorder\": 3, \"alpha\": 1, \"fontsize\": 20.0, \"position\": [-0.089885752688172033, 0.5], \"rotation\": -90.0, \"id\": \"el622654545008976\"}, {\"v_baseline\": \"auto\", \"h_anchor\": \"middle\", \"color\": \"#000000\", \"text\": \"N=8\", \"coordinates\": \"axes\", \"zorder\": 3, \"alpha\": 1, \"fontsize\": 20.0, \"position\": [0.5, 1.0224014336917562], \"rotation\": -0.0, \"id\": \"el622654569682384\"}, {\"v_baseline\": \"auto\", \"h_anchor\": \"start\", \"color\": \"#000000\", \"text\": \"None\", \"coordinates\": \"axes\", \"zorder\": 1000003.0, \"alpha\": 1, \"fontsize\": 10.0, \"position\": [-0.16129032258064516, -0.16129032258064516], \"rotation\": -0.0, \"id\": \"el622654545486672\"}, {\"v_baseline\": \"auto\", \"h_anchor\": \"start\", \"color\": \"#000000\", \"text\": \"16.4\", \"coordinates\": \"axes\", \"zorder\": 1000003.0, \"alpha\": 1, \"fontsize\": 12.0, \"position\": [0.13261648745519719, 0.2190860215053764], \"rotation\": -0.0, \"id\": \"el622654545391248\"}, {\"v_baseline\": \"auto\", \"h_anchor\": \"start\", \"color\": \"#000000\", \"text\": \"16.5\", \"coordinates\": \"axes\", \"zorder\": 1000003.0, \"alpha\": 1, \"fontsize\": 12.0, \"position\": [0.13261648745519719, 0.13978494623655915], \"rotation\": -0.0, \"id\": \"el622654505411792\"}, {\"v_baseline\": \"auto\", \"h_anchor\": \"start\", \"color\": \"#000000\", \"text\": \"16.6\", \"coordinates\": \"axes\", \"zorder\": 1000003.0, \"alpha\": 1, \"fontsize\": 12.0, \"position\": [0.13261648745519719, 0.060483870967741965], \"rotation\": -0.0, \"id\": \"el622654554685392\"}], \"zoomable\": true, \"images\": [], \"xdomain\": [1.8, 1.9199999999999999], \"ylim\": [6.9999999999999996e-10, 1.0999999999999999e-09], \"paths\": [{\"edgecolor\": \"#000000\", \"facecolor\": \"#FFFFFF\", \"edgewidth\": 1.0, \"pathcodes\": [\"M\", \"L\", \"L\", \"L\", \"Z\"], \"yindex\": 1, \"coordinates\": \"axes\", \"dasharray\": \"10,0\", \"zorder\": 1000001.0, \"alpha\": 1, \"xindex\": 0, \"data\": \"data03\", \"id\": \"el622654568692432\"}], \"sharey\": [], \"sharex\": [], \"axesbgalpha\": null, \"axes\": [{\"scale\": \"linear\", \"tickformat\": null, \"grid\": {\"gridOn\": false}, \"fontsize\": 10.0, \"position\": \"bottom\", \"nticks\": 7, \"tickvalues\": null}, {\"scale\": \"linear\", \"tickformat\": null, \"grid\": {\"gridOn\": false}, \"fontsize\": 10.0, \"position\": \"left\", \"nticks\": 9, \"tickvalues\": null}], \"lines\": [{\"color\": \"#0000FF\", \"yindex\": 1, \"coordinates\": \"data\", \"dasharray\": \"10,0\", \"zorder\": 2, \"alpha\": 1, \"xindex\": 0, \"linewidth\": 2.0, \"data\": \"data01\", \"id\": \"el622654546055440\"}, {\"color\": \"#007F00\", \"yindex\": 2, \"coordinates\": \"data\", \"dasharray\": \"10,0\", \"zorder\": 2, \"alpha\": 1, \"xindex\": 0, \"linewidth\": 2.0, \"data\": \"data01\", \"id\": \"el622654546053520\"}, {\"color\": \"#FF0000\", \"yindex\": 3, \"coordinates\": \"data\", \"dasharray\": \"10,0\", \"zorder\": 2, \"alpha\": 1, \"xindex\": 0, \"linewidth\": 2.0, \"data\": \"data01\", \"id\": \"el622654544041040\"}, {\"color\": \"#00BFBF\", \"yindex\": 4, \"coordinates\": \"data\", \"dasharray\": \"10,0\", \"zorder\": 2, \"alpha\": 1, \"xindex\": 0, \"linewidth\": 1.0, \"data\": \"data01\", \"id\": \"el622654569366224\"}, {\"color\": \"#0000FF\", \"yindex\": 1, \"coordinates\": \"axes\", \"dasharray\": \"10,0\", \"zorder\": 1000002.0, \"alpha\": 1, \"xindex\": 0, \"linewidth\": 2.0, \"data\": \"data02\", \"id\": \"el622654544756368\"}, {\"color\": \"#007F00\", \"yindex\": 2, \"coordinates\": \"axes\", \"dasharray\": \"10,0\", \"zorder\": 1000002.0, \"alpha\": 1, \"xindex\": 0, \"linewidth\": 2.0, \"data\": \"data02\", \"id\": \"el622654554682896\"}, {\"color\": \"#FF0000\", \"yindex\": 3, \"coordinates\": \"axes\", \"dasharray\": \"10,0\", \"zorder\": 1000002.0, \"alpha\": 1, \"xindex\": 0, \"linewidth\": 2.0, \"data\": \"data02\", \"id\": \"el622654545484176\"}], \"markers\": [], \"id\": \"el622654569363600\", \"ydomain\": [6.9999999999999996e-10, 1.0999999999999999e-09], \"collections\": [], \"xscale\": \"linear\", \"bbox\": [0.125, 0.125, 0.77500000000000002, 0.77500000000000002]}], \"height\": 320.0, \"width\": 480.0, \"plugins\": [{\"type\": \"reset\"}, {\"enabled\": false, \"button\": true, \"type\": \"zoom\"}, {\"enabled\": false, \"button\": true, \"type\": \"boxzoom\"}], \"data\": {\"data02\": [[0.043010752688172074, 0.23790322580645168, 0.15860215053763443, 0.07930107526881723], [0.09318996415770613, 0.23790322580645168, 0.15860215053763443, 0.07930107526881723]], \"data03\": [[0.017921146953405048, 0.02688172043010756], [0.22079413082437285, 0.02688172043010756], [0.22079413082437285, 0.28091397849462363], [0.017921146953405048, 0.28091397849462363]], \"data01\": [[1.8, 1.068889421418362e-09, 9.208405149507826e-10, 7.960914150118015e-10, 1e-09], [1.81, 1.0532115179984203e-09, 9.042597781672157e-10, 7.787620548427299e-10, 1e-09], [1.82, 1.0411829176604215e-09, 8.911603677219659e-10, 7.648259803261226e-10, 1e-09], [1.83, 1.0322580568100648e-09, 8.810834284389557e-10, 7.538349944269385e-10, 1e-09], [1.84, 1.0260299276865226e-09, 8.734792888986931e-10, 7.453984096628119e-10, 1e-09], [1.85, 1.0221450352787542e-09, 8.682989882657921e-10, 7.391787182342568e-10, 1e-09], [1.86, 1.0202971800765681e-09, 8.650974381296805e-10, 7.348825992181673e-10, 1e-09], [1.87, 1.0202212408216838e-09, 8.636149573248986e-10, 7.322563666534165e-10, 1e-09], [1.8800000000000001, 1.0216874013480037e-09, 8.636268367112621e-10, 7.309275407152427e-10, 1e-09], [1.8900000000000001, 1.024415996475625e-09, 8.649383431702518e-10, 7.310054783715714e-10, 1e-09], [1.9000000000000001, 1.0283214280093489e-09, 8.673820550697542e-10, 7.321783179747854e-10, 1e-09], [1.9100000000000001, 1.0333203182000261e-09, 8.707337073587951e-10, 7.343042840446401e-10, 1e-09]]}, \"id\": \"el622654567635216\"});\n",
       "      });\n",
       "    });\n",
       "}else{\n",
       "    // require.js not available: dynamically load d3 & mpld3\n",
       "    mpld3_load_lib(\"https://mpld3.github.io/js/d3.v3.min.js\", function(){\n",
       "         mpld3_load_lib(\"https://mpld3.github.io/js/mpld3.v0.2.js\", function(){\n",
       "                 \n",
       "                 mpld3.draw_figure(\"fig_el6226545676352168883353814\", {\"axes\": [{\"xlim\": [1.8, 1.9199999999999999], \"yscale\": \"linear\", \"axesbg\": \"#FFFFFF\", \"texts\": [{\"v_baseline\": \"hanging\", \"h_anchor\": \"middle\", \"color\": \"#000000\", \"text\": \"rSNR3\", \"coordinates\": \"axes\", \"zorder\": 3, \"alpha\": 1, \"fontsize\": 20.0, \"position\": [0.5, -0.080645161290322578], \"rotation\": -0.0, \"id\": \"el622654541582992\"}, {\"v_baseline\": \"auto\", \"h_anchor\": \"middle\", \"color\": \"#000000\", \"text\": \"P(fail)\", \"coordinates\": \"axes\", \"zorder\": 3, \"alpha\": 1, \"fontsize\": 20.0, \"position\": [-0.089885752688172033, 0.5], \"rotation\": -90.0, \"id\": \"el622654545008976\"}, {\"v_baseline\": \"auto\", \"h_anchor\": \"middle\", \"color\": \"#000000\", \"text\": \"N=8\", \"coordinates\": \"axes\", \"zorder\": 3, \"alpha\": 1, \"fontsize\": 20.0, \"position\": [0.5, 1.0224014336917562], \"rotation\": -0.0, \"id\": \"el622654569682384\"}, {\"v_baseline\": \"auto\", \"h_anchor\": \"start\", \"color\": \"#000000\", \"text\": \"None\", \"coordinates\": \"axes\", \"zorder\": 1000003.0, \"alpha\": 1, \"fontsize\": 10.0, \"position\": [-0.16129032258064516, -0.16129032258064516], \"rotation\": -0.0, \"id\": \"el622654545486672\"}, {\"v_baseline\": \"auto\", \"h_anchor\": \"start\", \"color\": \"#000000\", \"text\": \"16.4\", \"coordinates\": \"axes\", \"zorder\": 1000003.0, \"alpha\": 1, \"fontsize\": 12.0, \"position\": [0.13261648745519719, 0.2190860215053764], \"rotation\": -0.0, \"id\": \"el622654545391248\"}, {\"v_baseline\": \"auto\", \"h_anchor\": \"start\", \"color\": \"#000000\", \"text\": \"16.5\", \"coordinates\": \"axes\", \"zorder\": 1000003.0, \"alpha\": 1, \"fontsize\": 12.0, \"position\": [0.13261648745519719, 0.13978494623655915], \"rotation\": -0.0, \"id\": \"el622654505411792\"}, {\"v_baseline\": \"auto\", \"h_anchor\": \"start\", \"color\": \"#000000\", \"text\": \"16.6\", \"coordinates\": \"axes\", \"zorder\": 1000003.0, \"alpha\": 1, \"fontsize\": 12.0, \"position\": [0.13261648745519719, 0.060483870967741965], \"rotation\": -0.0, \"id\": \"el622654554685392\"}], \"zoomable\": true, \"images\": [], \"xdomain\": [1.8, 1.9199999999999999], \"ylim\": [6.9999999999999996e-10, 1.0999999999999999e-09], \"paths\": [{\"edgecolor\": \"#000000\", \"facecolor\": \"#FFFFFF\", \"edgewidth\": 1.0, \"pathcodes\": [\"M\", \"L\", \"L\", \"L\", \"Z\"], \"yindex\": 1, \"coordinates\": \"axes\", \"dasharray\": \"10,0\", \"zorder\": 1000001.0, \"alpha\": 1, \"xindex\": 0, \"data\": \"data03\", \"id\": \"el622654568692432\"}], \"sharey\": [], \"sharex\": [], \"axesbgalpha\": null, \"axes\": [{\"scale\": \"linear\", \"tickformat\": null, \"grid\": {\"gridOn\": false}, \"fontsize\": 10.0, \"position\": \"bottom\", \"nticks\": 7, \"tickvalues\": null}, {\"scale\": \"linear\", \"tickformat\": null, \"grid\": {\"gridOn\": false}, \"fontsize\": 10.0, \"position\": \"left\", \"nticks\": 9, \"tickvalues\": null}], \"lines\": [{\"color\": \"#0000FF\", \"yindex\": 1, \"coordinates\": \"data\", \"dasharray\": \"10,0\", \"zorder\": 2, \"alpha\": 1, \"xindex\": 0, \"linewidth\": 2.0, \"data\": \"data01\", \"id\": \"el622654546055440\"}, {\"color\": \"#007F00\", \"yindex\": 2, \"coordinates\": \"data\", \"dasharray\": \"10,0\", \"zorder\": 2, \"alpha\": 1, \"xindex\": 0, \"linewidth\": 2.0, \"data\": \"data01\", \"id\": \"el622654546053520\"}, {\"color\": \"#FF0000\", \"yindex\": 3, \"coordinates\": \"data\", \"dasharray\": \"10,0\", \"zorder\": 2, \"alpha\": 1, \"xindex\": 0, \"linewidth\": 2.0, \"data\": \"data01\", \"id\": \"el622654544041040\"}, {\"color\": \"#00BFBF\", \"yindex\": 4, \"coordinates\": \"data\", \"dasharray\": \"10,0\", \"zorder\": 2, \"alpha\": 1, \"xindex\": 0, \"linewidth\": 1.0, \"data\": \"data01\", \"id\": \"el622654569366224\"}, {\"color\": \"#0000FF\", \"yindex\": 1, \"coordinates\": \"axes\", \"dasharray\": \"10,0\", \"zorder\": 1000002.0, \"alpha\": 1, \"xindex\": 0, \"linewidth\": 2.0, \"data\": \"data02\", \"id\": \"el622654544756368\"}, {\"color\": \"#007F00\", \"yindex\": 2, \"coordinates\": \"axes\", \"dasharray\": \"10,0\", \"zorder\": 1000002.0, \"alpha\": 1, \"xindex\": 0, \"linewidth\": 2.0, \"data\": \"data02\", \"id\": \"el622654554682896\"}, {\"color\": \"#FF0000\", \"yindex\": 3, \"coordinates\": \"axes\", \"dasharray\": \"10,0\", \"zorder\": 1000002.0, \"alpha\": 1, \"xindex\": 0, \"linewidth\": 2.0, \"data\": \"data02\", \"id\": \"el622654545484176\"}], \"markers\": [], \"id\": \"el622654569363600\", \"ydomain\": [6.9999999999999996e-10, 1.0999999999999999e-09], \"collections\": [], \"xscale\": \"linear\", \"bbox\": [0.125, 0.125, 0.77500000000000002, 0.77500000000000002]}], \"height\": 320.0, \"width\": 480.0, \"plugins\": [{\"type\": \"reset\"}, {\"enabled\": false, \"button\": true, \"type\": \"zoom\"}, {\"enabled\": false, \"button\": true, \"type\": \"boxzoom\"}], \"data\": {\"data02\": [[0.043010752688172074, 0.23790322580645168, 0.15860215053763443, 0.07930107526881723], [0.09318996415770613, 0.23790322580645168, 0.15860215053763443, 0.07930107526881723]], \"data03\": [[0.017921146953405048, 0.02688172043010756], [0.22079413082437285, 0.02688172043010756], [0.22079413082437285, 0.28091397849462363], [0.017921146953405048, 0.28091397849462363]], \"data01\": [[1.8, 1.068889421418362e-09, 9.208405149507826e-10, 7.960914150118015e-10, 1e-09], [1.81, 1.0532115179984203e-09, 9.042597781672157e-10, 7.787620548427299e-10, 1e-09], [1.82, 1.0411829176604215e-09, 8.911603677219659e-10, 7.648259803261226e-10, 1e-09], [1.83, 1.0322580568100648e-09, 8.810834284389557e-10, 7.538349944269385e-10, 1e-09], [1.84, 1.0260299276865226e-09, 8.734792888986931e-10, 7.453984096628119e-10, 1e-09], [1.85, 1.0221450352787542e-09, 8.682989882657921e-10, 7.391787182342568e-10, 1e-09], [1.86, 1.0202971800765681e-09, 8.650974381296805e-10, 7.348825992181673e-10, 1e-09], [1.87, 1.0202212408216838e-09, 8.636149573248986e-10, 7.322563666534165e-10, 1e-09], [1.8800000000000001, 1.0216874013480037e-09, 8.636268367112621e-10, 7.309275407152427e-10, 1e-09], [1.8900000000000001, 1.024415996475625e-09, 8.649383431702518e-10, 7.310054783715714e-10, 1e-09], [1.9000000000000001, 1.0283214280093489e-09, 8.673820550697542e-10, 7.321783179747854e-10, 1e-09], [1.9100000000000001, 1.0333203182000261e-09, 8.707337073587951e-10, 7.343042840446401e-10, 1e-09]]}, \"id\": \"el622654567635216\"});\n",
       "            })\n",
       "         });\n",
       "}\n",
       "</script>"
      ],
      "text/plain": [
       "<IPython.core.display.HTML object>"
      ]
     },
     "execution_count": 72,
     "metadata": {},
     "output_type": "execute_result"
    }
   ],
   "source": [
    "# 1.03503972e-09, 1.03282849e-09, 1.03103415e-09, 1.02982589e-09, 1.02891895e-09, 1.02832143e-09\n",
    "# print rSNR3_range\n",
    "print testleah\n",
    "\n",
    "# print rSNRdu_range[np.argmin(testleah[0])]\n",
    "# print rSNRdu_range[np.argmin(testleah[1])]\n",
    "# print rSNRdu_range[np.argmin(testleah[2])]\n",
    "\n",
    "# label represents rSNR3\n",
    "fig = figure()\n",
    "for idx in range(xn):\n",
    "    plot(rSNR3_range, testleah[idx], lw=2.0, label='{0}'.format(tSNR_range[idx]))\n",
    "    print rSNR3_range[np.argmin(testleah[idx])]\n",
    "# plot(rSNR3_range, testleah[1], lw=2.0, label='1.2')\n",
    "# plot(rSNR3_range, testleah[2], lw=2.0, label='1.3')\n",
    "# plot(rSNRdu_range, testleah[3], lw=2.0, label='1.6')\n",
    "plot(rSNR3_range, 10**(-9)*ones(len(rSNR3_range),))\n",
    "xlabel('rSNR3', fontsize=20)\n",
    "ylabel('P(fail)', fontsize=20)\n",
    "title('N={0}'.format(N), fontsize=20)\n",
    "legend(loc=0)\n",
    "mpld3.display(fig)"
   ]
  },
  {
   "cell_type": "code",
   "execution_count": 49,
   "metadata": {
    "collapsed": false
   },
   "outputs": [
    {
     "name": "stdout",
     "output_type": "stream",
     "text": [
      "7.35799643437e-10\n",
      "[  1.66000000e+01   6.00000000e-01   1.90000000e+00   8.77638952e-22\n",
      "   5.37001034e-04   9.01178423e-11]\n",
      "CPU times: user 668 ms, sys: 28.8 ms, total: 697 ms\n",
      "Wall time: 878 ms\n"
     ]
    }
   ],
   "source": [
    "%%time\n",
    "%run ../optimize_3_dct.py\n",
    "N = 8\n",
    "d_rSNR = 0.1\n",
    "d_tSNR = 0.1\n",
    "tx_SNR_range = np.arange(tSNR_start[N], 50, d_tSNR)\n",
    "optimize_3_data[N-start_node] = optimize_3(N, rSNRdu_start[N], rSNR3_start[N], tx_SNR_range, filepath_down, filepath_up, protocolbit, d_rSNR)\n",
    "print optimize_3_data[N-start_node]"
   ]
  },
  {
   "cell_type": "code",
   "execution_count": null,
   "metadata": {
    "collapsed": true
   },
   "outputs": [],
   "source": []
  }
 ],
 "metadata": {
  "kernelspec": {
   "display_name": "Python 2",
   "language": "python",
   "name": "python2"
  },
  "language_info": {
   "codemirror_mode": {
    "name": "ipython",
    "version": 2
   },
   "file_extension": ".py",
   "mimetype": "text/x-python",
   "name": "python",
   "nbconvert_exporter": "python",
   "pygments_lexer": "ipython2",
   "version": "2.7.11"
  }
 },
 "nbformat": 4,
 "nbformat_minor": 0
}
