{
 "cells": [
  {
   "cell_type": "code",
   "execution_count": 1,
   "metadata": {
    "collapsed": false
   },
   "outputs": [
    {
     "name": "stdout",
     "output_type": "stream",
     "text": [
      "Populating the interactive namespace from numpy and matplotlib\n"
     ]
    }
   ],
   "source": [
    "%pylab inline\n",
    "from __future__ import division\n",
    "import scipy as sp\n",
    "from scipy import stats\n",
    "from scipy.signal import argrelextrema\n",
    "from scipy.interpolate import interp1d\n",
    "import operator as op\n",
    "from decimal import *\n",
    "# import mpmath as mp\n",
    "import pickle\n",
    "from scipy.stats import binom\n",
    "import mpld3\n",
    "mpld3.enable_notebook()"
   ]
  },
  {
   "cell_type": "code",
   "execution_count": 21,
   "metadata": {
    "collapsed": true
   },
   "outputs": [],
   "source": [
    "%run ../cow.py"
   ]
  },
  {
   "cell_type": "code",
   "execution_count": 22,
   "metadata": {
    "collapsed": false
   },
   "outputs": [
    {
     "name": "stderr",
     "output_type": "stream",
     "text": [
      "/Users/leahdickstein/anaconda/lib/python2.7/site-packages/ipykernel/__main__.py:18: RuntimeWarning: divide by zero encountered in log10\n",
      "/Users/leahdickstein/anaconda/lib/python2.7/site-packages/ipykernel/__main__.py:27: RuntimeWarning: divide by zero encountered in log10\n"
     ]
    },
    {
     "name": "stdout",
     "output_type": "stream",
     "text": [
      "0.000463873274945\n"
     ]
    }
   ],
   "source": [
    "N = 3\n",
    "endpoint = 2\n",
    "\n",
    "shannon_scheme = '../data_tables/shannon_tables'\n",
    "filename = shannon_scheme + '/n' + str(N) + '.in'\n",
    "codetable = load_table(filename)\n",
    "codetable = interp1d(codetable[0], codetable[1], kind='linear', bounds_error=False, fill_value=(1.0, 0.0))\n",
    "op_SNR = 18.63\n",
    "dfade = [10**(-3), 10**(-11), 10**(-3)]\n",
    "# dfade_range = np.arange(-6, -3)\n",
    "\n",
    "\n",
    "fadexp = sp.stats.expon()\n",
    "fade = np.arange(0, endpoint, 10**(-3)) # Magic\n",
    "psingle = 0\n",
    "#     snrlookup = codetable(op_SNR+log10(fade))\n",
    "#     fadepr = fadexp.pdf(fade)\n",
    "optimize = codetable(op_SNR+10*np.log10(fade)) * fadexp.pdf(fade)\n",
    "\n",
    "endpts = adaptive_endpoints(optimize, fade)\n",
    "fade = np.arange(0, endpts[0], dfade[0])\n",
    "fadepr = fadexp.pdf(fade)\n",
    "snrlookup = codetable(op_SNR+10*np.log10(fade))\n",
    "psingle += dfade[0]*np.dot(snrlookup, fadepr)\n",
    "for idx in range(1, len(endpts)):\n",
    "    fade = np.arange(endpts[idx-1], endpts[idx], dfade[idx])\n",
    "    snrlookup = codetable(op_SNR+10*np.log10(fade))\n",
    "    fadepr = fadexp.pdf(fade)\n",
    "    psingle += dfade[idx]*np.dot(snrlookup, fadepr)\n",
    "\n",
    "print psingle"
   ]
  },
  {
   "cell_type": "code",
   "execution_count": 18,
   "metadata": {
    "collapsed": false
   },
   "outputs": [
    {
     "name": "stderr",
     "output_type": "stream",
     "text": [
      "/Users/leahdickstein/anaconda/lib/python2.7/site-packages/ipykernel/__main__.py:16: RuntimeWarning: divide by zero encountered in log10\n",
      "/Users/leahdickstein/anaconda/lib/python2.7/site-packages/ipykernel/__main__.py:25: RuntimeWarning: divide by zero encountered in log10\n"
     ]
    },
    {
     "name": "stdout",
     "output_type": "stream",
     "text": [
      "0.000463873319945\n"
     ]
    }
   ],
   "source": [
    "N = 3\n",
    "endpoint = 2\n",
    "\n",
    "shannon_scheme = '../data_tables/shannon_tables'\n",
    "filename = shannon_scheme + '/n' + str(N) + '.in'\n",
    "codetable = load_table(filename)\n",
    "codetable = interp1d(codetable[0], codetable[1], kind='linear', bounds_error=False, fill_value=(1.0, 0.0))\n",
    "op_SNR = 18.63\n",
    "dfade = [10**(-4), 10**(-10), 10**(-3)]\n",
    "\n",
    "fadexp = sp.stats.expon()\n",
    "fade = np.arange(0, endpoint, 10**(-3)) # Magic\n",
    "psingle = 0\n",
    "#     snrlookup = codetable(op_SNR+log10(fade))\n",
    "#     fadepr = fadexp.pdf(fade)\n",
    "optimize = codetable(op_SNR+10*np.log10(fade)) * fadexp.pdf(fade)\n",
    "\n",
    "endpts = adaptive_endpoints(optimize, fade)\n",
    "fade = np.arange(0, endpts[0], dfade[0])\n",
    "fadepr = fadexp.pdf(fade)\n",
    "snrlookup = codetable(op_SNR+10*np.log10(fade))\n",
    "psingle += dfade[0]*np.dot(snrlookup, fadepr)\n",
    "for idx in range(1, len(endpts)):\n",
    "    fade = np.arange(endpts[idx-1], endpts[idx], dfade[idx])\n",
    "    snrlookup = codetable(op_SNR+10*np.log10(fade))\n",
    "    fadepr = fadexp.pdf(fade)\n",
    "    psingle += dfade[idx]*np.dot(snrlookup, fadepr)\n",
    "\n",
    "print psingle"
   ]
  },
  {
   "cell_type": "code",
   "execution_count": 12,
   "metadata": {
    "collapsed": false
   },
   "outputs": [
    {
     "data": {
      "text/plain": [
       "4.49999999828192e-11"
      ]
     },
     "execution_count": 12,
     "metadata": {},
     "output_type": "execute_result"
    }
   ],
   "source": [
    "print 0.000463873319945 - 0.000463873274945\n",
    "print sorted([0.000463873319945, 0.000463873274945])"
   ]
  },
  {
   "cell_type": "code",
   "execution_count": null,
   "metadata": {
    "collapsed": true
   },
   "outputs": [],
   "source": []
  }
 ],
 "metadata": {
  "kernelspec": {
   "display_name": "Python 2",
   "language": "python",
   "name": "python2"
  },
  "language_info": {
   "codemirror_mode": {
    "name": "ipython",
    "version": 2
   },
   "file_extension": ".py",
   "mimetype": "text/x-python",
   "name": "python",
   "nbconvert_exporter": "python",
   "pygments_lexer": "ipython2",
   "version": "2.7.11"
  }
 },
 "nbformat": 4,
 "nbformat_minor": 0
}
