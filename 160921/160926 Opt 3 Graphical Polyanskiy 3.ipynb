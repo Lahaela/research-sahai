{
 "cells": [
  {
   "cell_type": "code",
   "execution_count": 1,
   "metadata": {
    "collapsed": false
   },
   "outputs": [
    {
     "name": "stdout",
     "output_type": "stream",
     "text": [
      "Populating the interactive namespace from numpy and matplotlib\n"
     ]
    }
   ],
   "source": [
    "%pylab inline\n",
    "from __future__ import division\n",
    "import scipy as sp\n",
    "from scipy import stats\n",
    "from scipy.signal import argrelextrema\n",
    "from scipy.interpolate import interp1d\n",
    "import operator as op\n",
    "from decimal import *\n",
    "# import pickle\n",
    "# from mpl_toolkits.mplot3d import Axes3D\n",
    "import mpld3\n",
    "mpld3.enable_notebook()"
   ]
  },
  {
   "cell_type": "code",
   "execution_count": 2,
   "metadata": {
    "collapsed": true
   },
   "outputs": [],
   "source": [
    "%run ../cow.py\n",
    "%run ../optimize_pkg_2.py"
   ]
  },
  {
   "cell_type": "code",
   "execution_count": 3,
   "metadata": {
    "collapsed": true
   },
   "outputs": [],
   "source": [
    "filepath_down = \"../data_tables/polyanskiy_down/n\"\n",
    "filepath_up = \"../data_tables/polyanskiy_up/n\"\n",
    "protocolbit = 4*10**4\n",
    "protocol_target = 10**(-9)"
   ]
  },
  {
   "cell_type": "markdown",
   "metadata": {},
   "source": [
    "## N = 15\n",
    "[4.56, -5.94, -3.87]"
   ]
  },
  {
   "cell_type": "code",
   "execution_count": 19,
   "metadata": {
    "collapsed": false
   },
   "outputs": [
    {
     "name": "stdout",
     "output_type": "stream",
     "text": [
      "xn, yn (4, 11) size of matrix 44\n",
      "[[  1.04469011e-09   1.03773123e-09   1.03335640e-09   1.03139808e-09\n",
      "    1.03171183e-09   1.03407605e-09   1.03837527e-09   1.04444597e-09\n",
      "    1.05222209e-09   1.06160325e-09   1.07254872e-09]\n",
      " [  1.04022391e-09   1.03314812e-09   1.02869979e-09   1.02667796e-09\n",
      "    1.02695552e-09   1.02932862e-09   1.03366071e-09   1.03980713e-09\n",
      "    1.04766251e-09   1.05712417e-09   1.06821296e-09]\n",
      " [  1.03848419e-09   1.03127573e-09   1.02674724e-09   1.02464726e-09\n",
      "    1.02492159e-09   1.02731745e-09   1.03169018e-09   1.03789000e-09\n",
      "    1.04583942e-09   1.05541853e-09   1.06663045e-09]\n",
      " [  1.03917330e-09   1.03183073e-09   1.02720654e-09   1.02507081e-09\n",
      "    1.02530995e-09   1.02773012e-09   1.03216169e-09   1.03842546e-09\n",
      "    1.04647457e-09   1.05618603e-09   1.06754505e-09]]\n",
      "CPU times: user 2min 49s, sys: 1.02 s, total: 2min 50s\n",
      "Wall time: 2min 54s\n"
     ]
    }
   ],
   "source": [
    "%%time\n",
    "N = 15\n",
    "tSNR_range = [4.55]\n",
    "rSNR3_range = np.arange(-3.9, -3.87+0.001, 0.01)\n",
    "rSNRdu_range = np.arange(-6, -5.8+0.001, 0.02)\n",
    "\n",
    "result = optimize_3_graphical(N, rSNRdu_range, rSNR3_range, tSNR_range, filepath_down, filepath_up, protocolbit, True)\n",
    "\n",
    "print result"
   ]
  },
  {
   "cell_type": "code",
   "execution_count": 20,
   "metadata": {
    "collapsed": false
   },
   "outputs": [
    {
     "name": "stdout",
     "output_type": "stream",
     "text": [
      "-5.94\n",
      "-5.94\n",
      "-5.94\n",
      "-5.94\n"
     ]
    },
    {
     "data": {
      "text/html": [
       "\n",
       "\n",
       "<style>\n",
       "\n",
       "</style>\n",
       "\n",
       "<div id=\"fig_el2605645622290722342720133\"></div>\n",
       "<script>\n",
       "function mpld3_load_lib(url, callback){\n",
       "  var s = document.createElement('script');\n",
       "  s.src = url;\n",
       "  s.async = true;\n",
       "  s.onreadystatechange = s.onload = callback;\n",
       "  s.onerror = function(){console.warn(\"failed to load library \" + url);};\n",
       "  document.getElementsByTagName(\"head\")[0].appendChild(s);\n",
       "}\n",
       "\n",
       "if(typeof(mpld3) !== \"undefined\" && mpld3._mpld3IsLoaded){\n",
       "   // already loaded: just create the figure\n",
       "   !function(mpld3){\n",
       "       \n",
       "       mpld3.draw_figure(\"fig_el2605645622290722342720133\", {\"axes\": [{\"xlim\": [-6.0, -5.7999999999999998], \"yscale\": \"linear\", \"axesbg\": \"#FFFFFF\", \"texts\": [{\"v_baseline\": \"hanging\", \"h_anchor\": \"middle\", \"color\": \"#000000\", \"text\": \"rSNRdu\", \"coordinates\": \"axes\", \"zorder\": 3, \"alpha\": 1, \"fontsize\": 20.0, \"position\": [0.5, -0.080645161290322578], \"rotation\": -0.0, \"id\": \"el260564562231376\"}, {\"v_baseline\": \"auto\", \"h_anchor\": \"middle\", \"color\": \"#000000\", \"text\": \"P(fail)\", \"coordinates\": \"axes\", \"zorder\": 3, \"alpha\": 1, \"fontsize\": 20.0, \"position\": [-0.089171706989247299, 0.5], \"rotation\": -90.0, \"id\": \"el260564554480720\"}, {\"v_baseline\": \"auto\", \"h_anchor\": \"middle\", \"color\": \"#000000\", \"text\": \"N=15\", \"coordinates\": \"axes\", \"zorder\": 3, \"alpha\": 1, \"fontsize\": 20.0, \"position\": [0.5, 1.0224014336917562], \"rotation\": -0.0, \"id\": \"el260564562666512\"}, {\"v_baseline\": \"auto\", \"h_anchor\": \"start\", \"color\": \"#000000\", \"text\": \"None\", \"coordinates\": \"axes\", \"zorder\": 1000003.0, \"alpha\": 1, \"fontsize\": 10.0, \"position\": [-0.16129032258064516, -0.16129032258064516], \"rotation\": -0.0, \"id\": \"el260564549876176\"}, {\"v_baseline\": \"auto\", \"h_anchor\": \"start\", \"color\": \"#000000\", \"text\": \"-3.9\", \"coordinates\": \"axes\", \"zorder\": 1000003.0, \"alpha\": 1, \"fontsize\": 12.0, \"position\": [0.13261648745519719, 0.91129032258064513], \"rotation\": -0.0, \"id\": \"el260564549953040\"}, {\"v_baseline\": \"auto\", \"h_anchor\": \"start\", \"color\": \"#000000\", \"text\": \"-3.89\", \"coordinates\": \"axes\", \"zorder\": 1000003.0, \"alpha\": 1, \"fontsize\": 12.0, \"position\": [0.13261648745519719, 0.83198924731182788], \"rotation\": -0.0, \"id\": \"el260564550515728\"}, {\"v_baseline\": \"auto\", \"h_anchor\": \"start\", \"color\": \"#000000\", \"text\": \"-3.88\", \"coordinates\": \"axes\", \"zorder\": 1000003.0, \"alpha\": 1, \"fontsize\": 12.0, \"position\": [0.13261648745519719, 0.75268817204301075], \"rotation\": -0.0, \"id\": \"el260564550514640\"}, {\"v_baseline\": \"auto\", \"h_anchor\": \"start\", \"color\": \"#000000\", \"text\": \"-3.87\", \"coordinates\": \"axes\", \"zorder\": 1000003.0, \"alpha\": 1, \"fontsize\": 12.0, \"position\": [0.13261648745519719, 0.67338709677419351], \"rotation\": -0.0, \"id\": \"el260564549875280\"}], \"zoomable\": true, \"images\": [], \"xdomain\": [-6.0, -5.7999999999999998], \"ylim\": [1.02e-09, 1.08e-09], \"paths\": [{\"edgecolor\": \"#000000\", \"facecolor\": \"#FFFFFF\", \"edgewidth\": 1.0, \"pathcodes\": [\"M\", \"L\", \"L\", \"L\", \"Z\"], \"yindex\": 1, \"coordinates\": \"axes\", \"dasharray\": \"10,0\", \"zorder\": 1000001.0, \"alpha\": 1, \"xindex\": 0, \"data\": \"data03\", \"id\": \"el260564562998352\"}], \"sharey\": [], \"sharex\": [], \"axesbgalpha\": null, \"axes\": [{\"scale\": \"linear\", \"tickformat\": null, \"grid\": {\"gridOn\": false}, \"fontsize\": 10.0, \"position\": \"bottom\", \"nticks\": 5, \"tickvalues\": null}, {\"scale\": \"linear\", \"tickformat\": null, \"grid\": {\"gridOn\": false}, \"fontsize\": 10.0, \"position\": \"left\", \"nticks\": 7, \"tickvalues\": null}], \"lines\": [{\"color\": \"#0000FF\", \"yindex\": 1, \"coordinates\": \"data\", \"dasharray\": \"10,0\", \"zorder\": 2, \"alpha\": 1, \"xindex\": 0, \"linewidth\": 2.0, \"data\": \"data01\", \"id\": \"el260564513341904\"}, {\"color\": \"#007F00\", \"yindex\": 2, \"coordinates\": \"data\", \"dasharray\": \"10,0\", \"zorder\": 2, \"alpha\": 1, \"xindex\": 0, \"linewidth\": 2.0, \"data\": \"data01\", \"id\": \"el260564550312336\"}, {\"color\": \"#FF0000\", \"yindex\": 3, \"coordinates\": \"data\", \"dasharray\": \"10,0\", \"zorder\": 2, \"alpha\": 1, \"xindex\": 0, \"linewidth\": 2.0, \"data\": \"data01\", \"id\": \"el260564504384528\"}, {\"color\": \"#00BFBF\", \"yindex\": 4, \"coordinates\": \"data\", \"dasharray\": \"10,0\", \"zorder\": 2, \"alpha\": 1, \"xindex\": 0, \"linewidth\": 2.0, \"data\": \"data01\", \"id\": \"el260564513637200\"}, {\"color\": \"#0000FF\", \"yindex\": 1, \"coordinates\": \"axes\", \"dasharray\": \"10,0\", \"zorder\": 1000002.0, \"alpha\": 1, \"xindex\": 0, \"linewidth\": 2.0, \"data\": \"data02\", \"id\": \"el260564549951888\"}, {\"color\": \"#007F00\", \"yindex\": 2, \"coordinates\": \"axes\", \"dasharray\": \"10,0\", \"zorder\": 1000002.0, \"alpha\": 1, \"xindex\": 0, \"linewidth\": 2.0, \"data\": \"data02\", \"id\": \"el260564550514960\"}, {\"color\": \"#FF0000\", \"yindex\": 3, \"coordinates\": \"axes\", \"dasharray\": \"10,0\", \"zorder\": 1000002.0, \"alpha\": 1, \"xindex\": 0, \"linewidth\": 2.0, \"data\": \"data02\", \"id\": \"el260564550516304\"}, {\"color\": \"#00BFBF\", \"yindex\": 4, \"coordinates\": \"axes\", \"dasharray\": \"10,0\", \"zorder\": 1000002.0, \"alpha\": 1, \"xindex\": 0, \"linewidth\": 2.0, \"data\": \"data02\", \"id\": \"el260564550513680\"}], \"markers\": [], \"id\": \"el260564503910160\", \"ydomain\": [1.02e-09, 1.08e-09], \"collections\": [], \"xscale\": \"linear\", \"bbox\": [0.125, 0.125, 0.77500000000000002, 0.77500000000000002]}], \"height\": 320.0, \"width\": 480.0, \"plugins\": [{\"type\": \"reset\"}, {\"enabled\": false, \"button\": true, \"type\": \"zoom\"}, {\"enabled\": false, \"button\": true, \"type\": \"boxzoom\"}], \"data\": {\"data02\": [[0.043010752688172074, 0.9301075268817204, 0.8508064516129031, 0.771505376344086, 0.6922043010752688], [0.09318996415770613, 0.9301075268817204, 0.8508064516129031, 0.771505376344086, 0.6922043010752688]], \"data03\": [[0.017921146953405048, 0.6397849462365592], [0.2356630824372761, 0.6397849462365592], [0.2356630824372761, 0.9731182795698926], [0.017921146953405048, 0.9731182795698926]], \"data01\": [[-6.0, 1.0446901121952124e-09, 1.0402239070117503e-09, 1.0384841875321627e-09, 1.0391733029635475e-09], [-5.98, 1.0377312342768619e-09, 1.0331481226089068e-09, 1.0312757314778764e-09, 1.0318307319678865e-09], [-5.960000000000001, 1.0333564004483264e-09, 1.0286997920161411e-09, 1.0267472427827329e-09, 1.0272065420480203e-09], [-5.940000000000001, 1.0313980780551901e-09, 1.0266779648659963e-09, 1.0246472559316544e-09, 1.0250708060155489e-09], [-5.920000000000002, 1.0317118270819492e-09, 1.0269555206221526e-09, 1.0249215920410393e-09, 1.0253099480550532e-09], [-5.900000000000002, 1.0340760470128885e-09, 1.0293286223372888e-09, 1.0273174533281804e-09, 1.0277301232264335e-09], [-5.880000000000003, 1.038375274653447e-09, 1.0336607125793762e-09, 1.031690177732969e-09, 1.0321616894515273e-09], [-5.860000000000003, 1.0444459741520973e-09, 1.039807129288306e-09, 1.0378899961693833e-09, 1.03842545673416e-09], [-5.840000000000003, 1.0522220872388743e-09, 1.0476625122990413e-09, 1.0458394150703043e-09, 1.0464745736626924e-09], [-5.820000000000004, 1.061603249752352e-09, 1.0571241659818043e-09, 1.0554185303490726e-09, 1.056186027525996e-09], [-5.800000000000004, 1.0725487165075265e-09, 1.0682129625294579e-09, 1.0666304506301572e-09, 1.0675450523578434e-09]]}, \"id\": \"el260564562229072\"});\n",
       "   }(mpld3);\n",
       "}else if(typeof define === \"function\" && define.amd){\n",
       "   // require.js is available: use it to load d3/mpld3\n",
       "   require.config({paths: {d3: \"https://mpld3.github.io/js/d3.v3.min\"}});\n",
       "   require([\"d3\"], function(d3){\n",
       "      window.d3 = d3;\n",
       "      mpld3_load_lib(\"https://mpld3.github.io/js/mpld3.v0.2.js\", function(){\n",
       "         \n",
       "         mpld3.draw_figure(\"fig_el2605645622290722342720133\", {\"axes\": [{\"xlim\": [-6.0, -5.7999999999999998], \"yscale\": \"linear\", \"axesbg\": \"#FFFFFF\", \"texts\": [{\"v_baseline\": \"hanging\", \"h_anchor\": \"middle\", \"color\": \"#000000\", \"text\": \"rSNRdu\", \"coordinates\": \"axes\", \"zorder\": 3, \"alpha\": 1, \"fontsize\": 20.0, \"position\": [0.5, -0.080645161290322578], \"rotation\": -0.0, \"id\": \"el260564562231376\"}, {\"v_baseline\": \"auto\", \"h_anchor\": \"middle\", \"color\": \"#000000\", \"text\": \"P(fail)\", \"coordinates\": \"axes\", \"zorder\": 3, \"alpha\": 1, \"fontsize\": 20.0, \"position\": [-0.089171706989247299, 0.5], \"rotation\": -90.0, \"id\": \"el260564554480720\"}, {\"v_baseline\": \"auto\", \"h_anchor\": \"middle\", \"color\": \"#000000\", \"text\": \"N=15\", \"coordinates\": \"axes\", \"zorder\": 3, \"alpha\": 1, \"fontsize\": 20.0, \"position\": [0.5, 1.0224014336917562], \"rotation\": -0.0, \"id\": \"el260564562666512\"}, {\"v_baseline\": \"auto\", \"h_anchor\": \"start\", \"color\": \"#000000\", \"text\": \"None\", \"coordinates\": \"axes\", \"zorder\": 1000003.0, \"alpha\": 1, \"fontsize\": 10.0, \"position\": [-0.16129032258064516, -0.16129032258064516], \"rotation\": -0.0, \"id\": \"el260564549876176\"}, {\"v_baseline\": \"auto\", \"h_anchor\": \"start\", \"color\": \"#000000\", \"text\": \"-3.9\", \"coordinates\": \"axes\", \"zorder\": 1000003.0, \"alpha\": 1, \"fontsize\": 12.0, \"position\": [0.13261648745519719, 0.91129032258064513], \"rotation\": -0.0, \"id\": \"el260564549953040\"}, {\"v_baseline\": \"auto\", \"h_anchor\": \"start\", \"color\": \"#000000\", \"text\": \"-3.89\", \"coordinates\": \"axes\", \"zorder\": 1000003.0, \"alpha\": 1, \"fontsize\": 12.0, \"position\": [0.13261648745519719, 0.83198924731182788], \"rotation\": -0.0, \"id\": \"el260564550515728\"}, {\"v_baseline\": \"auto\", \"h_anchor\": \"start\", \"color\": \"#000000\", \"text\": \"-3.88\", \"coordinates\": \"axes\", \"zorder\": 1000003.0, \"alpha\": 1, \"fontsize\": 12.0, \"position\": [0.13261648745519719, 0.75268817204301075], \"rotation\": -0.0, \"id\": \"el260564550514640\"}, {\"v_baseline\": \"auto\", \"h_anchor\": \"start\", \"color\": \"#000000\", \"text\": \"-3.87\", \"coordinates\": \"axes\", \"zorder\": 1000003.0, \"alpha\": 1, \"fontsize\": 12.0, \"position\": [0.13261648745519719, 0.67338709677419351], \"rotation\": -0.0, \"id\": \"el260564549875280\"}], \"zoomable\": true, \"images\": [], \"xdomain\": [-6.0, -5.7999999999999998], \"ylim\": [1.02e-09, 1.08e-09], \"paths\": [{\"edgecolor\": \"#000000\", \"facecolor\": \"#FFFFFF\", \"edgewidth\": 1.0, \"pathcodes\": [\"M\", \"L\", \"L\", \"L\", \"Z\"], \"yindex\": 1, \"coordinates\": \"axes\", \"dasharray\": \"10,0\", \"zorder\": 1000001.0, \"alpha\": 1, \"xindex\": 0, \"data\": \"data03\", \"id\": \"el260564562998352\"}], \"sharey\": [], \"sharex\": [], \"axesbgalpha\": null, \"axes\": [{\"scale\": \"linear\", \"tickformat\": null, \"grid\": {\"gridOn\": false}, \"fontsize\": 10.0, \"position\": \"bottom\", \"nticks\": 5, \"tickvalues\": null}, {\"scale\": \"linear\", \"tickformat\": null, \"grid\": {\"gridOn\": false}, \"fontsize\": 10.0, \"position\": \"left\", \"nticks\": 7, \"tickvalues\": null}], \"lines\": [{\"color\": \"#0000FF\", \"yindex\": 1, \"coordinates\": \"data\", \"dasharray\": \"10,0\", \"zorder\": 2, \"alpha\": 1, \"xindex\": 0, \"linewidth\": 2.0, \"data\": \"data01\", \"id\": \"el260564513341904\"}, {\"color\": \"#007F00\", \"yindex\": 2, \"coordinates\": \"data\", \"dasharray\": \"10,0\", \"zorder\": 2, \"alpha\": 1, \"xindex\": 0, \"linewidth\": 2.0, \"data\": \"data01\", \"id\": \"el260564550312336\"}, {\"color\": \"#FF0000\", \"yindex\": 3, \"coordinates\": \"data\", \"dasharray\": \"10,0\", \"zorder\": 2, \"alpha\": 1, \"xindex\": 0, \"linewidth\": 2.0, \"data\": \"data01\", \"id\": \"el260564504384528\"}, {\"color\": \"#00BFBF\", \"yindex\": 4, \"coordinates\": \"data\", \"dasharray\": \"10,0\", \"zorder\": 2, \"alpha\": 1, \"xindex\": 0, \"linewidth\": 2.0, \"data\": \"data01\", \"id\": \"el260564513637200\"}, {\"color\": \"#0000FF\", \"yindex\": 1, \"coordinates\": \"axes\", \"dasharray\": \"10,0\", \"zorder\": 1000002.0, \"alpha\": 1, \"xindex\": 0, \"linewidth\": 2.0, \"data\": \"data02\", \"id\": \"el260564549951888\"}, {\"color\": \"#007F00\", \"yindex\": 2, \"coordinates\": \"axes\", \"dasharray\": \"10,0\", \"zorder\": 1000002.0, \"alpha\": 1, \"xindex\": 0, \"linewidth\": 2.0, \"data\": \"data02\", \"id\": \"el260564550514960\"}, {\"color\": \"#FF0000\", \"yindex\": 3, \"coordinates\": \"axes\", \"dasharray\": \"10,0\", \"zorder\": 1000002.0, \"alpha\": 1, \"xindex\": 0, \"linewidth\": 2.0, \"data\": \"data02\", \"id\": \"el260564550516304\"}, {\"color\": \"#00BFBF\", \"yindex\": 4, \"coordinates\": \"axes\", \"dasharray\": \"10,0\", \"zorder\": 1000002.0, \"alpha\": 1, \"xindex\": 0, \"linewidth\": 2.0, \"data\": \"data02\", \"id\": \"el260564550513680\"}], \"markers\": [], \"id\": \"el260564503910160\", \"ydomain\": [1.02e-09, 1.08e-09], \"collections\": [], \"xscale\": \"linear\", \"bbox\": [0.125, 0.125, 0.77500000000000002, 0.77500000000000002]}], \"height\": 320.0, \"width\": 480.0, \"plugins\": [{\"type\": \"reset\"}, {\"enabled\": false, \"button\": true, \"type\": \"zoom\"}, {\"enabled\": false, \"button\": true, \"type\": \"boxzoom\"}], \"data\": {\"data02\": [[0.043010752688172074, 0.9301075268817204, 0.8508064516129031, 0.771505376344086, 0.6922043010752688], [0.09318996415770613, 0.9301075268817204, 0.8508064516129031, 0.771505376344086, 0.6922043010752688]], \"data03\": [[0.017921146953405048, 0.6397849462365592], [0.2356630824372761, 0.6397849462365592], [0.2356630824372761, 0.9731182795698926], [0.017921146953405048, 0.9731182795698926]], \"data01\": [[-6.0, 1.0446901121952124e-09, 1.0402239070117503e-09, 1.0384841875321627e-09, 1.0391733029635475e-09], [-5.98, 1.0377312342768619e-09, 1.0331481226089068e-09, 1.0312757314778764e-09, 1.0318307319678865e-09], [-5.960000000000001, 1.0333564004483264e-09, 1.0286997920161411e-09, 1.0267472427827329e-09, 1.0272065420480203e-09], [-5.940000000000001, 1.0313980780551901e-09, 1.0266779648659963e-09, 1.0246472559316544e-09, 1.0250708060155489e-09], [-5.920000000000002, 1.0317118270819492e-09, 1.0269555206221526e-09, 1.0249215920410393e-09, 1.0253099480550532e-09], [-5.900000000000002, 1.0340760470128885e-09, 1.0293286223372888e-09, 1.0273174533281804e-09, 1.0277301232264335e-09], [-5.880000000000003, 1.038375274653447e-09, 1.0336607125793762e-09, 1.031690177732969e-09, 1.0321616894515273e-09], [-5.860000000000003, 1.0444459741520973e-09, 1.039807129288306e-09, 1.0378899961693833e-09, 1.03842545673416e-09], [-5.840000000000003, 1.0522220872388743e-09, 1.0476625122990413e-09, 1.0458394150703043e-09, 1.0464745736626924e-09], [-5.820000000000004, 1.061603249752352e-09, 1.0571241659818043e-09, 1.0554185303490726e-09, 1.056186027525996e-09], [-5.800000000000004, 1.0725487165075265e-09, 1.0682129625294579e-09, 1.0666304506301572e-09, 1.0675450523578434e-09]]}, \"id\": \"el260564562229072\"});\n",
       "      });\n",
       "    });\n",
       "}else{\n",
       "    // require.js not available: dynamically load d3 & mpld3\n",
       "    mpld3_load_lib(\"https://mpld3.github.io/js/d3.v3.min.js\", function(){\n",
       "         mpld3_load_lib(\"https://mpld3.github.io/js/mpld3.v0.2.js\", function(){\n",
       "                 \n",
       "                 mpld3.draw_figure(\"fig_el2605645622290722342720133\", {\"axes\": [{\"xlim\": [-6.0, -5.7999999999999998], \"yscale\": \"linear\", \"axesbg\": \"#FFFFFF\", \"texts\": [{\"v_baseline\": \"hanging\", \"h_anchor\": \"middle\", \"color\": \"#000000\", \"text\": \"rSNRdu\", \"coordinates\": \"axes\", \"zorder\": 3, \"alpha\": 1, \"fontsize\": 20.0, \"position\": [0.5, -0.080645161290322578], \"rotation\": -0.0, \"id\": \"el260564562231376\"}, {\"v_baseline\": \"auto\", \"h_anchor\": \"middle\", \"color\": \"#000000\", \"text\": \"P(fail)\", \"coordinates\": \"axes\", \"zorder\": 3, \"alpha\": 1, \"fontsize\": 20.0, \"position\": [-0.089171706989247299, 0.5], \"rotation\": -90.0, \"id\": \"el260564554480720\"}, {\"v_baseline\": \"auto\", \"h_anchor\": \"middle\", \"color\": \"#000000\", \"text\": \"N=15\", \"coordinates\": \"axes\", \"zorder\": 3, \"alpha\": 1, \"fontsize\": 20.0, \"position\": [0.5, 1.0224014336917562], \"rotation\": -0.0, \"id\": \"el260564562666512\"}, {\"v_baseline\": \"auto\", \"h_anchor\": \"start\", \"color\": \"#000000\", \"text\": \"None\", \"coordinates\": \"axes\", \"zorder\": 1000003.0, \"alpha\": 1, \"fontsize\": 10.0, \"position\": [-0.16129032258064516, -0.16129032258064516], \"rotation\": -0.0, \"id\": \"el260564549876176\"}, {\"v_baseline\": \"auto\", \"h_anchor\": \"start\", \"color\": \"#000000\", \"text\": \"-3.9\", \"coordinates\": \"axes\", \"zorder\": 1000003.0, \"alpha\": 1, \"fontsize\": 12.0, \"position\": [0.13261648745519719, 0.91129032258064513], \"rotation\": -0.0, \"id\": \"el260564549953040\"}, {\"v_baseline\": \"auto\", \"h_anchor\": \"start\", \"color\": \"#000000\", \"text\": \"-3.89\", \"coordinates\": \"axes\", \"zorder\": 1000003.0, \"alpha\": 1, \"fontsize\": 12.0, \"position\": [0.13261648745519719, 0.83198924731182788], \"rotation\": -0.0, \"id\": \"el260564550515728\"}, {\"v_baseline\": \"auto\", \"h_anchor\": \"start\", \"color\": \"#000000\", \"text\": \"-3.88\", \"coordinates\": \"axes\", \"zorder\": 1000003.0, \"alpha\": 1, \"fontsize\": 12.0, \"position\": [0.13261648745519719, 0.75268817204301075], \"rotation\": -0.0, \"id\": \"el260564550514640\"}, {\"v_baseline\": \"auto\", \"h_anchor\": \"start\", \"color\": \"#000000\", \"text\": \"-3.87\", \"coordinates\": \"axes\", \"zorder\": 1000003.0, \"alpha\": 1, \"fontsize\": 12.0, \"position\": [0.13261648745519719, 0.67338709677419351], \"rotation\": -0.0, \"id\": \"el260564549875280\"}], \"zoomable\": true, \"images\": [], \"xdomain\": [-6.0, -5.7999999999999998], \"ylim\": [1.02e-09, 1.08e-09], \"paths\": [{\"edgecolor\": \"#000000\", \"facecolor\": \"#FFFFFF\", \"edgewidth\": 1.0, \"pathcodes\": [\"M\", \"L\", \"L\", \"L\", \"Z\"], \"yindex\": 1, \"coordinates\": \"axes\", \"dasharray\": \"10,0\", \"zorder\": 1000001.0, \"alpha\": 1, \"xindex\": 0, \"data\": \"data03\", \"id\": \"el260564562998352\"}], \"sharey\": [], \"sharex\": [], \"axesbgalpha\": null, \"axes\": [{\"scale\": \"linear\", \"tickformat\": null, \"grid\": {\"gridOn\": false}, \"fontsize\": 10.0, \"position\": \"bottom\", \"nticks\": 5, \"tickvalues\": null}, {\"scale\": \"linear\", \"tickformat\": null, \"grid\": {\"gridOn\": false}, \"fontsize\": 10.0, \"position\": \"left\", \"nticks\": 7, \"tickvalues\": null}], \"lines\": [{\"color\": \"#0000FF\", \"yindex\": 1, \"coordinates\": \"data\", \"dasharray\": \"10,0\", \"zorder\": 2, \"alpha\": 1, \"xindex\": 0, \"linewidth\": 2.0, \"data\": \"data01\", \"id\": \"el260564513341904\"}, {\"color\": \"#007F00\", \"yindex\": 2, \"coordinates\": \"data\", \"dasharray\": \"10,0\", \"zorder\": 2, \"alpha\": 1, \"xindex\": 0, \"linewidth\": 2.0, \"data\": \"data01\", \"id\": \"el260564550312336\"}, {\"color\": \"#FF0000\", \"yindex\": 3, \"coordinates\": \"data\", \"dasharray\": \"10,0\", \"zorder\": 2, \"alpha\": 1, \"xindex\": 0, \"linewidth\": 2.0, \"data\": \"data01\", \"id\": \"el260564504384528\"}, {\"color\": \"#00BFBF\", \"yindex\": 4, \"coordinates\": \"data\", \"dasharray\": \"10,0\", \"zorder\": 2, \"alpha\": 1, \"xindex\": 0, \"linewidth\": 2.0, \"data\": \"data01\", \"id\": \"el260564513637200\"}, {\"color\": \"#0000FF\", \"yindex\": 1, \"coordinates\": \"axes\", \"dasharray\": \"10,0\", \"zorder\": 1000002.0, \"alpha\": 1, \"xindex\": 0, \"linewidth\": 2.0, \"data\": \"data02\", \"id\": \"el260564549951888\"}, {\"color\": \"#007F00\", \"yindex\": 2, \"coordinates\": \"axes\", \"dasharray\": \"10,0\", \"zorder\": 1000002.0, \"alpha\": 1, \"xindex\": 0, \"linewidth\": 2.0, \"data\": \"data02\", \"id\": \"el260564550514960\"}, {\"color\": \"#FF0000\", \"yindex\": 3, \"coordinates\": \"axes\", \"dasharray\": \"10,0\", \"zorder\": 1000002.0, \"alpha\": 1, \"xindex\": 0, \"linewidth\": 2.0, \"data\": \"data02\", \"id\": \"el260564550516304\"}, {\"color\": \"#00BFBF\", \"yindex\": 4, \"coordinates\": \"axes\", \"dasharray\": \"10,0\", \"zorder\": 1000002.0, \"alpha\": 1, \"xindex\": 0, \"linewidth\": 2.0, \"data\": \"data02\", \"id\": \"el260564550513680\"}], \"markers\": [], \"id\": \"el260564503910160\", \"ydomain\": [1.02e-09, 1.08e-09], \"collections\": [], \"xscale\": \"linear\", \"bbox\": [0.125, 0.125, 0.77500000000000002, 0.77500000000000002]}], \"height\": 320.0, \"width\": 480.0, \"plugins\": [{\"type\": \"reset\"}, {\"enabled\": false, \"button\": true, \"type\": \"zoom\"}, {\"enabled\": false, \"button\": true, \"type\": \"boxzoom\"}], \"data\": {\"data02\": [[0.043010752688172074, 0.9301075268817204, 0.8508064516129031, 0.771505376344086, 0.6922043010752688], [0.09318996415770613, 0.9301075268817204, 0.8508064516129031, 0.771505376344086, 0.6922043010752688]], \"data03\": [[0.017921146953405048, 0.6397849462365592], [0.2356630824372761, 0.6397849462365592], [0.2356630824372761, 0.9731182795698926], [0.017921146953405048, 0.9731182795698926]], \"data01\": [[-6.0, 1.0446901121952124e-09, 1.0402239070117503e-09, 1.0384841875321627e-09, 1.0391733029635475e-09], [-5.98, 1.0377312342768619e-09, 1.0331481226089068e-09, 1.0312757314778764e-09, 1.0318307319678865e-09], [-5.960000000000001, 1.0333564004483264e-09, 1.0286997920161411e-09, 1.0267472427827329e-09, 1.0272065420480203e-09], [-5.940000000000001, 1.0313980780551901e-09, 1.0266779648659963e-09, 1.0246472559316544e-09, 1.0250708060155489e-09], [-5.920000000000002, 1.0317118270819492e-09, 1.0269555206221526e-09, 1.0249215920410393e-09, 1.0253099480550532e-09], [-5.900000000000002, 1.0340760470128885e-09, 1.0293286223372888e-09, 1.0273174533281804e-09, 1.0277301232264335e-09], [-5.880000000000003, 1.038375274653447e-09, 1.0336607125793762e-09, 1.031690177732969e-09, 1.0321616894515273e-09], [-5.860000000000003, 1.0444459741520973e-09, 1.039807129288306e-09, 1.0378899961693833e-09, 1.03842545673416e-09], [-5.840000000000003, 1.0522220872388743e-09, 1.0476625122990413e-09, 1.0458394150703043e-09, 1.0464745736626924e-09], [-5.820000000000004, 1.061603249752352e-09, 1.0571241659818043e-09, 1.0554185303490726e-09, 1.056186027525996e-09], [-5.800000000000004, 1.0725487165075265e-09, 1.0682129625294579e-09, 1.0666304506301572e-09, 1.0675450523578434e-09]]}, \"id\": \"el260564562229072\"});\n",
       "            })\n",
       "         });\n",
       "}\n",
       "</script>"
      ],
      "text/plain": [
       "<IPython.core.display.HTML object>"
      ]
     },
     "execution_count": 20,
     "metadata": {},
     "output_type": "execute_result"
    }
   ],
   "source": [
    "xn, yn = result.shape\n",
    "fig = figure()\n",
    "\n",
    "for xk in range(xn):\n",
    "    plot(rSNRdu_range, result[xk], lw=2.0, label='{0}'.format(rSNR3_range[xk]))\n",
    "    print rSNRdu_range[np.argmin(result[xk])]\n",
    "\n",
    "xlabel('rSNRdu', fontsize=20)\n",
    "ylabel('P(fail)', fontsize=20)\n",
    "title('N={0}'.format(N), fontsize=20)\n",
    "legend(loc=0)\n",
    "mpld3.display(fig)"
   ]
  },
  {
   "cell_type": "code",
   "execution_count": 21,
   "metadata": {
    "collapsed": false
   },
   "outputs": [
    {
     "name": "stdout",
     "output_type": "stream",
     "text": [
      "xn, yn (11, 4) size of matrix 44\n",
      "[[  1.17437260e-09   1.17190757e-09   1.17224175e-09   1.17508270e-09]\n",
      " [  1.14406684e-09   1.14112642e-09   1.14094145e-09   1.14327015e-09]\n",
      " [  1.11463228e-09   1.11122123e-09   1.11056164e-09   1.11238729e-09]\n",
      " [  1.08606757e-09   1.08219889e-09   1.08107556e-09   1.08240805e-09]\n",
      " [  1.05832532e-09   1.05401976e-09   1.05244791e-09   1.05330511e-09]\n",
      " [  1.03139786e-09   1.02667808e-09   1.02464726e-09   1.02507103e-09]\n",
      " [  1.00525077e-09   1.00011799e-09   9.97678162e-10   9.97654515e-10]\n",
      " [  9.79863080e-10   9.74329173e-10   9.71487779e-10   9.71031922e-10]\n",
      " [  9.55216128e-10   9.49296419e-10   9.46060119e-10   9.45216794e-10]\n",
      " [  9.31285049e-10   9.25002297e-10   9.21372312e-10   9.20124088e-10]\n",
      " [  9.08044528e-10   9.01406727e-10   8.97407371e-10   8.95788888e-10]]\n",
      "CPU times: user 3min, sys: 1.47 s, total: 3min 1s\n",
      "Wall time: 3min 7s\n"
     ]
    },
    {
     "name": "stderr",
     "output_type": "stream",
     "text": [
      "<string>:182: RuntimeWarning: divide by zero encountered in log10\n"
     ]
    }
   ],
   "source": [
    "%%time\n",
    "%run ../optimize_pkg_2.py\n",
    "N = 15\n",
    "tSNR_range = np.arange(4.5, 4.6+0.001, 0.01)\n",
    "rSNR3_range = np.arange(-3.9, -3.87+0.001, 0.01)\n",
    "rSNRdu_range = [-5.94]\n",
    "\n",
    "result = optimize_3_graphical(N, rSNRdu_range, rSNR3_range, tSNR_range, filepath_down, filepath_up, protocolbit, False)\n",
    "\n",
    "print result"
   ]
  },
  {
   "cell_type": "code",
   "execution_count": 22,
   "metadata": {
    "collapsed": false
   },
   "outputs": [
    {
     "name": "stdout",
     "output_type": "stream",
     "text": [
      "-3.89\n",
      "-3.88\n",
      "-3.88\n",
      "-3.88\n",
      "-3.88\n",
      "-3.88\n",
      "-3.87\n",
      "-3.87\n",
      "-3.87\n",
      "-3.87\n",
      "-3.87\n"
     ]
    },
    {
     "data": {
      "text/html": [
       "\n",
       "\n",
       "<style>\n",
       "\n",
       "</style>\n",
       "\n",
       "<div id=\"fig_el2605645613531047468318625\"></div>\n",
       "<script>\n",
       "function mpld3_load_lib(url, callback){\n",
       "  var s = document.createElement('script');\n",
       "  s.src = url;\n",
       "  s.async = true;\n",
       "  s.onreadystatechange = s.onload = callback;\n",
       "  s.onerror = function(){console.warn(\"failed to load library \" + url);};\n",
       "  document.getElementsByTagName(\"head\")[0].appendChild(s);\n",
       "}\n",
       "\n",
       "if(typeof(mpld3) !== \"undefined\" && mpld3._mpld3IsLoaded){\n",
       "   // already loaded: just create the figure\n",
       "   !function(mpld3){\n",
       "       \n",
       "       mpld3.draw_figure(\"fig_el2605645613531047468318625\", {\"axes\": [{\"xlim\": [-3.8999999999999999, -3.8700000000000001], \"yscale\": \"linear\", \"axesbg\": \"#FFFFFF\", \"texts\": [{\"v_baseline\": \"hanging\", \"h_anchor\": \"middle\", \"color\": \"#000000\", \"text\": \"rSNR3\", \"coordinates\": \"axes\", \"zorder\": 3, \"alpha\": 1, \"fontsize\": 20.0, \"position\": [0.5, -0.080645161290322578], \"rotation\": -0.0, \"id\": \"el260564550315600\"}, {\"v_baseline\": \"auto\", \"h_anchor\": \"middle\", \"color\": \"#000000\", \"text\": \"P(fail)\", \"coordinates\": \"axes\", \"zorder\": 3, \"alpha\": 1, \"fontsize\": 20.0, \"position\": [-0.089885752688172033, 0.5], \"rotation\": -90.0, \"id\": \"el260564562101968\"}, {\"v_baseline\": \"auto\", \"h_anchor\": \"middle\", \"color\": \"#000000\", \"text\": \"N=15\", \"coordinates\": \"axes\", \"zorder\": 3, \"alpha\": 1, \"fontsize\": 20.0, \"position\": [0.5, 1.0224014336917562], \"rotation\": -0.0, \"id\": \"el260564549955152\"}, {\"v_baseline\": \"auto\", \"h_anchor\": \"start\", \"color\": \"#000000\", \"text\": \"None\", \"coordinates\": \"axes\", \"zorder\": 1000003.0, \"alpha\": 1, \"fontsize\": 10.0, \"position\": [-0.16129032258064516, -0.16129032258064516], \"rotation\": -0.0, \"id\": \"el260564562187664\"}, {\"v_baseline\": \"auto\", \"h_anchor\": \"start\", \"color\": \"#000000\", \"text\": \"Protocol\", \"coordinates\": \"axes\", \"zorder\": 1000003.0, \"alpha\": 1, \"fontsize\": 12.0, \"position\": [0.82825100806451613, 0.91129032258064513], \"rotation\": -0.0, \"id\": \"el260564552884624\"}, {\"v_baseline\": \"auto\", \"h_anchor\": \"start\", \"color\": \"#000000\", \"text\": \"4.5\", \"coordinates\": \"axes\", \"zorder\": 1000003.0, \"alpha\": 1, \"fontsize\": 12.0, \"position\": [0.82825100806451613, 0.831989247311828], \"rotation\": -0.0, \"id\": \"el260564561737232\"}, {\"v_baseline\": \"auto\", \"h_anchor\": \"start\", \"color\": \"#000000\", \"text\": \"4.51\", \"coordinates\": \"axes\", \"zorder\": 1000003.0, \"alpha\": 1, \"fontsize\": 12.0, \"position\": [0.82825100806451613, 0.75268817204301075], \"rotation\": -0.0, \"id\": \"el260564550420240\"}, {\"v_baseline\": \"auto\", \"h_anchor\": \"start\", \"color\": \"#000000\", \"text\": \"4.52\", \"coordinates\": \"axes\", \"zorder\": 1000003.0, \"alpha\": 1, \"fontsize\": 12.0, \"position\": [0.82825100806451613, 0.67338709677419351], \"rotation\": -0.0, \"id\": \"el260564562371152\"}, {\"v_baseline\": \"auto\", \"h_anchor\": \"start\", \"color\": \"#000000\", \"text\": \"4.53\", \"coordinates\": \"axes\", \"zorder\": 1000003.0, \"alpha\": 1, \"fontsize\": 12.0, \"position\": [0.82825100806451613, 0.59408602150537626], \"rotation\": -0.0, \"id\": \"el260564562373328\"}, {\"v_baseline\": \"auto\", \"h_anchor\": \"start\", \"color\": \"#000000\", \"text\": \"4.54\", \"coordinates\": \"axes\", \"zorder\": 1000003.0, \"alpha\": 1, \"fontsize\": 12.0, \"position\": [0.82825100806451613, 0.51478494623655913], \"rotation\": -0.0, \"id\": \"el260564562422096\"}, {\"v_baseline\": \"auto\", \"h_anchor\": \"start\", \"color\": \"#000000\", \"text\": \"4.55\", \"coordinates\": \"axes\", \"zorder\": 1000003.0, \"alpha\": 1, \"fontsize\": 12.0, \"position\": [0.82825100806451613, 0.43548387096774199], \"rotation\": -0.0, \"id\": \"el260564554281424\"}, {\"v_baseline\": \"auto\", \"h_anchor\": \"start\", \"color\": \"#000000\", \"text\": \"4.56\", \"coordinates\": \"axes\", \"zorder\": 1000003.0, \"alpha\": 1, \"fontsize\": 12.0, \"position\": [0.82825100806451613, 0.35618279569892464], \"rotation\": -0.0, \"id\": \"el260564562227920\"}, {\"v_baseline\": \"auto\", \"h_anchor\": \"start\", \"color\": \"#000000\", \"text\": \"4.57\", \"coordinates\": \"axes\", \"zorder\": 1000003.0, \"alpha\": 1, \"fontsize\": 12.0, \"position\": [0.82825100806451613, 0.2768817204301075], \"rotation\": -0.0, \"id\": \"el260564562420560\"}, {\"v_baseline\": \"auto\", \"h_anchor\": \"start\", \"color\": \"#000000\", \"text\": \"4.58\", \"coordinates\": \"axes\", \"zorder\": 1000003.0, \"alpha\": 1, \"fontsize\": 12.0, \"position\": [0.82825100806451613, 0.19758064516129034], \"rotation\": -0.0, \"id\": \"el260564562229968\"}, {\"v_baseline\": \"auto\", \"h_anchor\": \"start\", \"color\": \"#000000\", \"text\": \"4.59\", \"coordinates\": \"axes\", \"zorder\": 1000003.0, \"alpha\": 1, \"fontsize\": 12.0, \"position\": [0.82825100806451613, 0.11827956989247315], \"rotation\": -0.0, \"id\": \"el260564549843024\"}, {\"v_baseline\": \"auto\", \"h_anchor\": \"start\", \"color\": \"#000000\", \"text\": \"4.6\", \"coordinates\": \"axes\", \"zorder\": 1000003.0, \"alpha\": 1, \"fontsize\": 12.0, \"position\": [0.82825100806451613, 0.03897849462365599], \"rotation\": -0.0, \"id\": \"el260564549821136\"}], \"zoomable\": true, \"images\": [], \"xdomain\": [-3.8999999999999999, -3.8700000000000001], \"ylim\": [8.4999999999999996e-10, 1.2e-09], \"paths\": [{\"edgecolor\": \"#000000\", \"facecolor\": \"#FFFFFF\", \"edgewidth\": 1.0, \"pathcodes\": [\"M\", \"L\", \"L\", \"L\", \"Z\"], \"yindex\": 1, \"coordinates\": \"axes\", \"dasharray\": \"10,0\", \"zorder\": 1000001.0, \"alpha\": 1, \"xindex\": 0, \"data\": \"data03\", \"id\": \"el260564552887696\"}], \"sharey\": [], \"sharex\": [], \"axesbgalpha\": null, \"axes\": [{\"scale\": \"linear\", \"tickformat\": null, \"grid\": {\"gridOn\": false}, \"fontsize\": 10.0, \"position\": \"bottom\", \"nticks\": 7, \"tickvalues\": null}, {\"scale\": \"linear\", \"tickformat\": null, \"grid\": {\"gridOn\": false}, \"fontsize\": 10.0, \"position\": \"left\", \"nticks\": 9, \"tickvalues\": null}], \"lines\": [{\"color\": \"#0000FF\", \"yindex\": 1, \"coordinates\": \"data\", \"dasharray\": \"10,0\", \"zorder\": 2, \"alpha\": 1, \"xindex\": 0, \"linewidth\": 2.0, \"data\": \"data01\", \"id\": \"el260564562667280\"}, {\"color\": \"#007F00\", \"yindex\": 2, \"coordinates\": \"data\", \"dasharray\": \"10,0\", \"zorder\": 2, \"alpha\": 1, \"xindex\": 0, \"linewidth\": 2.0, \"data\": \"data01\", \"id\": \"el260564554045904\"}, {\"color\": \"#FF0000\", \"yindex\": 3, \"coordinates\": \"data\", \"dasharray\": \"10,0\", \"zorder\": 2, \"alpha\": 1, \"xindex\": 0, \"linewidth\": 2.0, \"data\": \"data01\", \"id\": \"el260564554044368\"}, {\"color\": \"#00BFBF\", \"yindex\": 4, \"coordinates\": \"data\", \"dasharray\": \"10,0\", \"zorder\": 2, \"alpha\": 1, \"xindex\": 0, \"linewidth\": 2.0, \"data\": \"data01\", \"id\": \"el260564554044048\"}, {\"color\": \"#BF00BF\", \"yindex\": 5, \"coordinates\": \"data\", \"dasharray\": \"10,0\", \"zorder\": 2, \"alpha\": 1, \"xindex\": 0, \"linewidth\": 2.0, \"data\": \"data01\", \"id\": \"el260564552193872\"}, {\"color\": \"#BFBF00\", \"yindex\": 6, \"coordinates\": \"data\", \"dasharray\": \"10,0\", \"zorder\": 2, \"alpha\": 1, \"xindex\": 0, \"linewidth\": 2.0, \"data\": \"data01\", \"id\": \"el260564552192464\"}, {\"color\": \"#000000\", \"yindex\": 7, \"coordinates\": \"data\", \"dasharray\": \"10,0\", \"zorder\": 2, \"alpha\": 1, \"xindex\": 0, \"linewidth\": 2.0, \"data\": \"data01\", \"id\": \"el260564550323536\"}, {\"color\": \"#0000FF\", \"yindex\": 8, \"coordinates\": \"data\", \"dasharray\": \"10,0\", \"zorder\": 2, \"alpha\": 1, \"xindex\": 0, \"linewidth\": 2.0, \"data\": \"data01\", \"id\": \"el260564562633744\"}, {\"color\": \"#007F00\", \"yindex\": 9, \"coordinates\": \"data\", \"dasharray\": \"10,0\", \"zorder\": 2, \"alpha\": 1, \"xindex\": 0, \"linewidth\": 2.0, \"data\": \"data01\", \"id\": \"el260564561400272\"}, {\"color\": \"#FF0000\", \"yindex\": 10, \"coordinates\": \"data\", \"dasharray\": \"10,0\", \"zorder\": 2, \"alpha\": 1, \"xindex\": 0, \"linewidth\": 2.0, \"data\": \"data01\", \"id\": \"el260564561403856\"}, {\"color\": \"#00BFBF\", \"yindex\": 11, \"coordinates\": \"data\", \"dasharray\": \"10,0\", \"zorder\": 2, \"alpha\": 1, \"xindex\": 0, \"linewidth\": 2.0, \"data\": \"data01\", \"id\": \"el260564552275344\"}, {\"color\": \"#BF00BF\", \"yindex\": 12, \"coordinates\": \"data\", \"dasharray\": \"10,0\", \"zorder\": 2, \"alpha\": 1, \"xindex\": 0, \"linewidth\": 2.0, \"data\": \"data01\", \"id\": \"el260564552274896\"}, {\"color\": \"#0000FF\", \"yindex\": 1, \"coordinates\": \"axes\", \"dasharray\": \"10,0\", \"zorder\": 1000002.0, \"alpha\": 1, \"xindex\": 0, \"linewidth\": 2.0, \"data\": \"data02\", \"id\": \"el260564561736464\"}, {\"color\": \"#007F00\", \"yindex\": 2, \"coordinates\": \"axes\", \"dasharray\": \"10,0\", \"zorder\": 1000002.0, \"alpha\": 1, \"xindex\": 0, \"linewidth\": 2.0, \"data\": \"data02\", \"id\": \"el260564561737872\"}, {\"color\": \"#FF0000\", \"yindex\": 3, \"coordinates\": \"axes\", \"dasharray\": \"10,0\", \"zorder\": 1000002.0, \"alpha\": 1, \"xindex\": 0, \"linewidth\": 2.0, \"data\": \"data02\", \"id\": \"el260564550419600\"}, {\"color\": \"#00BFBF\", \"yindex\": 4, \"coordinates\": \"axes\", \"dasharray\": \"10,0\", \"zorder\": 1000002.0, \"alpha\": 1, \"xindex\": 0, \"linewidth\": 2.0, \"data\": \"data02\", \"id\": \"el260564562371088\"}, {\"color\": \"#BF00BF\", \"yindex\": 5, \"coordinates\": \"axes\", \"dasharray\": \"10,0\", \"zorder\": 1000002.0, \"alpha\": 1, \"xindex\": 0, \"linewidth\": 2.0, \"data\": \"data02\", \"id\": \"el260564562421072\"}, {\"color\": \"#BFBF00\", \"yindex\": 6, \"coordinates\": \"axes\", \"dasharray\": \"10,0\", \"zorder\": 1000002.0, \"alpha\": 1, \"xindex\": 0, \"linewidth\": 2.0, \"data\": \"data02\", \"id\": \"el260564562422288\"}, {\"color\": \"#000000\", \"yindex\": 7, \"coordinates\": \"axes\", \"dasharray\": \"10,0\", \"zorder\": 1000002.0, \"alpha\": 1, \"xindex\": 0, \"linewidth\": 2.0, \"data\": \"data02\", \"id\": \"el260564554282000\"}, {\"color\": \"#0000FF\", \"yindex\": 8, \"coordinates\": \"axes\", \"dasharray\": \"10,0\", \"zorder\": 1000002.0, \"alpha\": 1, \"xindex\": 0, \"linewidth\": 2.0, \"data\": \"data02\", \"id\": \"el260564562229136\"}, {\"color\": \"#007F00\", \"yindex\": 9, \"coordinates\": \"axes\", \"dasharray\": \"10,0\", \"zorder\": 1000002.0, \"alpha\": 1, \"xindex\": 0, \"linewidth\": 2.0, \"data\": \"data02\", \"id\": \"el260564562371472\"}, {\"color\": \"#FF0000\", \"yindex\": 10, \"coordinates\": \"axes\", \"dasharray\": \"10,0\", \"zorder\": 1000002.0, \"alpha\": 1, \"xindex\": 0, \"linewidth\": 2.0, \"data\": \"data02\", \"id\": \"el260564549842064\"}, {\"color\": \"#00BFBF\", \"yindex\": 11, \"coordinates\": \"axes\", \"dasharray\": \"10,0\", \"zorder\": 1000002.0, \"alpha\": 1, \"xindex\": 0, \"linewidth\": 2.0, \"data\": \"data02\", \"id\": \"el260564549844496\"}, {\"color\": \"#BF00BF\", \"yindex\": 12, \"coordinates\": \"axes\", \"dasharray\": \"10,0\", \"zorder\": 1000002.0, \"alpha\": 1, \"xindex\": 0, \"linewidth\": 2.0, \"data\": \"data02\", \"id\": \"el260564549822480\"}], \"markers\": [], \"id\": \"el260564561352208\", \"ydomain\": [8.4999999999999996e-10, 1.2e-09], \"collections\": [], \"xscale\": \"linear\", \"bbox\": [0.125, 0.125, 0.77500000000000002, 0.77500000000000002]}], \"height\": 320.0, \"width\": 480.0, \"plugins\": [{\"type\": \"reset\"}, {\"enabled\": false, \"button\": true, \"type\": \"zoom\"}, {\"enabled\": false, \"button\": true, \"type\": \"boxzoom\"}], \"data\": {\"data02\": [[0.7386452732974911, 0.9301075268817204, 0.8508064516129032, 0.771505376344086, 0.6922043010752688, 0.6129032258064515, 0.5336021505376344, 0.45430107526881724, 0.3749999999999999, 0.29569892473118276, 0.21639784946236562, 0.13709677419354843, 0.057795698924731256], [0.7888244847670252, 0.9301075268817204, 0.8508064516129032, 0.771505376344086, 0.6922043010752688, 0.6129032258064515, 0.5336021505376344, 0.45430107526881724, 0.3749999999999999, 0.29569892473118276, 0.21639784946236562, 0.13709677419354843, 0.057795698924731256]], \"data03\": [[0.713555667562724, 0.005376344086021556], [0.982078853046595, 0.005376344086021556], [0.982078853046595, 0.9731182795698924], [0.713555667562724, 0.9731182795698924]], \"data01\": [[-3.9, 1e-09, 1.1743725991664178e-09, 1.1440668412632249e-09, 1.1146322753674553e-09, 1.0860675692114796e-09, 1.0583253162721462e-09, 1.0313978560105852e-09, 1.0052507715130332e-09, 9.798630795643248e-10, 9.552161284176464e-10, 9.312850490772462e-10, 9.080445284581629e-10], [-3.89, 1e-09, 1.1719075709848426e-09, 1.1411264155825052e-09, 1.111221226146597e-09, 1.0821988860598708e-09, 1.0540197603603474e-09, 1.0266780758882987e-09, 1.0001179884255862e-09, 9.743291728980807e-10, 9.49296419250345e-10, 9.250022969808924e-10, 9.01406727038534e-10], [-3.8800000000000003, 1e-09, 1.1722417481152547e-09, 1.1409414524266026e-09, 1.1105616426476672e-09, 1.081075562403555e-09, 1.052447906602083e-09, 1.0246472559316544e-09, 9.9767816230667e-10, 9.714877791111576e-10, 9.460601191335627e-10, 9.21372311779578e-10, 8.974073706369268e-10], [-3.8700000000000006, 1e-09, 1.175082697812968e-09, 1.1432701452207539e-09, 1.1123872933893608e-09, 1.0824080520777102e-09, 1.0533051097993962e-09, 1.0250710280601538e-09, 9.976545145562454e-10, 9.710319215372465e-10, 9.452167937240574e-10, 9.20124088032992e-10, 8.957888875116282e-10]]}, \"id\": \"el260564561353104\"});\n",
       "   }(mpld3);\n",
       "}else if(typeof define === \"function\" && define.amd){\n",
       "   // require.js is available: use it to load d3/mpld3\n",
       "   require.config({paths: {d3: \"https://mpld3.github.io/js/d3.v3.min\"}});\n",
       "   require([\"d3\"], function(d3){\n",
       "      window.d3 = d3;\n",
       "      mpld3_load_lib(\"https://mpld3.github.io/js/mpld3.v0.2.js\", function(){\n",
       "         \n",
       "         mpld3.draw_figure(\"fig_el2605645613531047468318625\", {\"axes\": [{\"xlim\": [-3.8999999999999999, -3.8700000000000001], \"yscale\": \"linear\", \"axesbg\": \"#FFFFFF\", \"texts\": [{\"v_baseline\": \"hanging\", \"h_anchor\": \"middle\", \"color\": \"#000000\", \"text\": \"rSNR3\", \"coordinates\": \"axes\", \"zorder\": 3, \"alpha\": 1, \"fontsize\": 20.0, \"position\": [0.5, -0.080645161290322578], \"rotation\": -0.0, \"id\": \"el260564550315600\"}, {\"v_baseline\": \"auto\", \"h_anchor\": \"middle\", \"color\": \"#000000\", \"text\": \"P(fail)\", \"coordinates\": \"axes\", \"zorder\": 3, \"alpha\": 1, \"fontsize\": 20.0, \"position\": [-0.089885752688172033, 0.5], \"rotation\": -90.0, \"id\": \"el260564562101968\"}, {\"v_baseline\": \"auto\", \"h_anchor\": \"middle\", \"color\": \"#000000\", \"text\": \"N=15\", \"coordinates\": \"axes\", \"zorder\": 3, \"alpha\": 1, \"fontsize\": 20.0, \"position\": [0.5, 1.0224014336917562], \"rotation\": -0.0, \"id\": \"el260564549955152\"}, {\"v_baseline\": \"auto\", \"h_anchor\": \"start\", \"color\": \"#000000\", \"text\": \"None\", \"coordinates\": \"axes\", \"zorder\": 1000003.0, \"alpha\": 1, \"fontsize\": 10.0, \"position\": [-0.16129032258064516, -0.16129032258064516], \"rotation\": -0.0, \"id\": \"el260564562187664\"}, {\"v_baseline\": \"auto\", \"h_anchor\": \"start\", \"color\": \"#000000\", \"text\": \"Protocol\", \"coordinates\": \"axes\", \"zorder\": 1000003.0, \"alpha\": 1, \"fontsize\": 12.0, \"position\": [0.82825100806451613, 0.91129032258064513], \"rotation\": -0.0, \"id\": \"el260564552884624\"}, {\"v_baseline\": \"auto\", \"h_anchor\": \"start\", \"color\": \"#000000\", \"text\": \"4.5\", \"coordinates\": \"axes\", \"zorder\": 1000003.0, \"alpha\": 1, \"fontsize\": 12.0, \"position\": [0.82825100806451613, 0.831989247311828], \"rotation\": -0.0, \"id\": \"el260564561737232\"}, {\"v_baseline\": \"auto\", \"h_anchor\": \"start\", \"color\": \"#000000\", \"text\": \"4.51\", \"coordinates\": \"axes\", \"zorder\": 1000003.0, \"alpha\": 1, \"fontsize\": 12.0, \"position\": [0.82825100806451613, 0.75268817204301075], \"rotation\": -0.0, \"id\": \"el260564550420240\"}, {\"v_baseline\": \"auto\", \"h_anchor\": \"start\", \"color\": \"#000000\", \"text\": \"4.52\", \"coordinates\": \"axes\", \"zorder\": 1000003.0, \"alpha\": 1, \"fontsize\": 12.0, \"position\": [0.82825100806451613, 0.67338709677419351], \"rotation\": -0.0, \"id\": \"el260564562371152\"}, {\"v_baseline\": \"auto\", \"h_anchor\": \"start\", \"color\": \"#000000\", \"text\": \"4.53\", \"coordinates\": \"axes\", \"zorder\": 1000003.0, \"alpha\": 1, \"fontsize\": 12.0, \"position\": [0.82825100806451613, 0.59408602150537626], \"rotation\": -0.0, \"id\": \"el260564562373328\"}, {\"v_baseline\": \"auto\", \"h_anchor\": \"start\", \"color\": \"#000000\", \"text\": \"4.54\", \"coordinates\": \"axes\", \"zorder\": 1000003.0, \"alpha\": 1, \"fontsize\": 12.0, \"position\": [0.82825100806451613, 0.51478494623655913], \"rotation\": -0.0, \"id\": \"el260564562422096\"}, {\"v_baseline\": \"auto\", \"h_anchor\": \"start\", \"color\": \"#000000\", \"text\": \"4.55\", \"coordinates\": \"axes\", \"zorder\": 1000003.0, \"alpha\": 1, \"fontsize\": 12.0, \"position\": [0.82825100806451613, 0.43548387096774199], \"rotation\": -0.0, \"id\": \"el260564554281424\"}, {\"v_baseline\": \"auto\", \"h_anchor\": \"start\", \"color\": \"#000000\", \"text\": \"4.56\", \"coordinates\": \"axes\", \"zorder\": 1000003.0, \"alpha\": 1, \"fontsize\": 12.0, \"position\": [0.82825100806451613, 0.35618279569892464], \"rotation\": -0.0, \"id\": \"el260564562227920\"}, {\"v_baseline\": \"auto\", \"h_anchor\": \"start\", \"color\": \"#000000\", \"text\": \"4.57\", \"coordinates\": \"axes\", \"zorder\": 1000003.0, \"alpha\": 1, \"fontsize\": 12.0, \"position\": [0.82825100806451613, 0.2768817204301075], \"rotation\": -0.0, \"id\": \"el260564562420560\"}, {\"v_baseline\": \"auto\", \"h_anchor\": \"start\", \"color\": \"#000000\", \"text\": \"4.58\", \"coordinates\": \"axes\", \"zorder\": 1000003.0, \"alpha\": 1, \"fontsize\": 12.0, \"position\": [0.82825100806451613, 0.19758064516129034], \"rotation\": -0.0, \"id\": \"el260564562229968\"}, {\"v_baseline\": \"auto\", \"h_anchor\": \"start\", \"color\": \"#000000\", \"text\": \"4.59\", \"coordinates\": \"axes\", \"zorder\": 1000003.0, \"alpha\": 1, \"fontsize\": 12.0, \"position\": [0.82825100806451613, 0.11827956989247315], \"rotation\": -0.0, \"id\": \"el260564549843024\"}, {\"v_baseline\": \"auto\", \"h_anchor\": \"start\", \"color\": \"#000000\", \"text\": \"4.6\", \"coordinates\": \"axes\", \"zorder\": 1000003.0, \"alpha\": 1, \"fontsize\": 12.0, \"position\": [0.82825100806451613, 0.03897849462365599], \"rotation\": -0.0, \"id\": \"el260564549821136\"}], \"zoomable\": true, \"images\": [], \"xdomain\": [-3.8999999999999999, -3.8700000000000001], \"ylim\": [8.4999999999999996e-10, 1.2e-09], \"paths\": [{\"edgecolor\": \"#000000\", \"facecolor\": \"#FFFFFF\", \"edgewidth\": 1.0, \"pathcodes\": [\"M\", \"L\", \"L\", \"L\", \"Z\"], \"yindex\": 1, \"coordinates\": \"axes\", \"dasharray\": \"10,0\", \"zorder\": 1000001.0, \"alpha\": 1, \"xindex\": 0, \"data\": \"data03\", \"id\": \"el260564552887696\"}], \"sharey\": [], \"sharex\": [], \"axesbgalpha\": null, \"axes\": [{\"scale\": \"linear\", \"tickformat\": null, \"grid\": {\"gridOn\": false}, \"fontsize\": 10.0, \"position\": \"bottom\", \"nticks\": 7, \"tickvalues\": null}, {\"scale\": \"linear\", \"tickformat\": null, \"grid\": {\"gridOn\": false}, \"fontsize\": 10.0, \"position\": \"left\", \"nticks\": 9, \"tickvalues\": null}], \"lines\": [{\"color\": \"#0000FF\", \"yindex\": 1, \"coordinates\": \"data\", \"dasharray\": \"10,0\", \"zorder\": 2, \"alpha\": 1, \"xindex\": 0, \"linewidth\": 2.0, \"data\": \"data01\", \"id\": \"el260564562667280\"}, {\"color\": \"#007F00\", \"yindex\": 2, \"coordinates\": \"data\", \"dasharray\": \"10,0\", \"zorder\": 2, \"alpha\": 1, \"xindex\": 0, \"linewidth\": 2.0, \"data\": \"data01\", \"id\": \"el260564554045904\"}, {\"color\": \"#FF0000\", \"yindex\": 3, \"coordinates\": \"data\", \"dasharray\": \"10,0\", \"zorder\": 2, \"alpha\": 1, \"xindex\": 0, \"linewidth\": 2.0, \"data\": \"data01\", \"id\": \"el260564554044368\"}, {\"color\": \"#00BFBF\", \"yindex\": 4, \"coordinates\": \"data\", \"dasharray\": \"10,0\", \"zorder\": 2, \"alpha\": 1, \"xindex\": 0, \"linewidth\": 2.0, \"data\": \"data01\", \"id\": \"el260564554044048\"}, {\"color\": \"#BF00BF\", \"yindex\": 5, \"coordinates\": \"data\", \"dasharray\": \"10,0\", \"zorder\": 2, \"alpha\": 1, \"xindex\": 0, \"linewidth\": 2.0, \"data\": \"data01\", \"id\": \"el260564552193872\"}, {\"color\": \"#BFBF00\", \"yindex\": 6, \"coordinates\": \"data\", \"dasharray\": \"10,0\", \"zorder\": 2, \"alpha\": 1, \"xindex\": 0, \"linewidth\": 2.0, \"data\": \"data01\", \"id\": \"el260564552192464\"}, {\"color\": \"#000000\", \"yindex\": 7, \"coordinates\": \"data\", \"dasharray\": \"10,0\", \"zorder\": 2, \"alpha\": 1, \"xindex\": 0, \"linewidth\": 2.0, \"data\": \"data01\", \"id\": \"el260564550323536\"}, {\"color\": \"#0000FF\", \"yindex\": 8, \"coordinates\": \"data\", \"dasharray\": \"10,0\", \"zorder\": 2, \"alpha\": 1, \"xindex\": 0, \"linewidth\": 2.0, \"data\": \"data01\", \"id\": \"el260564562633744\"}, {\"color\": \"#007F00\", \"yindex\": 9, \"coordinates\": \"data\", \"dasharray\": \"10,0\", \"zorder\": 2, \"alpha\": 1, \"xindex\": 0, \"linewidth\": 2.0, \"data\": \"data01\", \"id\": \"el260564561400272\"}, {\"color\": \"#FF0000\", \"yindex\": 10, \"coordinates\": \"data\", \"dasharray\": \"10,0\", \"zorder\": 2, \"alpha\": 1, \"xindex\": 0, \"linewidth\": 2.0, \"data\": \"data01\", \"id\": \"el260564561403856\"}, {\"color\": \"#00BFBF\", \"yindex\": 11, \"coordinates\": \"data\", \"dasharray\": \"10,0\", \"zorder\": 2, \"alpha\": 1, \"xindex\": 0, \"linewidth\": 2.0, \"data\": \"data01\", \"id\": \"el260564552275344\"}, {\"color\": \"#BF00BF\", \"yindex\": 12, \"coordinates\": \"data\", \"dasharray\": \"10,0\", \"zorder\": 2, \"alpha\": 1, \"xindex\": 0, \"linewidth\": 2.0, \"data\": \"data01\", \"id\": \"el260564552274896\"}, {\"color\": \"#0000FF\", \"yindex\": 1, \"coordinates\": \"axes\", \"dasharray\": \"10,0\", \"zorder\": 1000002.0, \"alpha\": 1, \"xindex\": 0, \"linewidth\": 2.0, \"data\": \"data02\", \"id\": \"el260564561736464\"}, {\"color\": \"#007F00\", \"yindex\": 2, \"coordinates\": \"axes\", \"dasharray\": \"10,0\", \"zorder\": 1000002.0, \"alpha\": 1, \"xindex\": 0, \"linewidth\": 2.0, \"data\": \"data02\", \"id\": \"el260564561737872\"}, {\"color\": \"#FF0000\", \"yindex\": 3, \"coordinates\": \"axes\", \"dasharray\": \"10,0\", \"zorder\": 1000002.0, \"alpha\": 1, \"xindex\": 0, \"linewidth\": 2.0, \"data\": \"data02\", \"id\": \"el260564550419600\"}, {\"color\": \"#00BFBF\", \"yindex\": 4, \"coordinates\": \"axes\", \"dasharray\": \"10,0\", \"zorder\": 1000002.0, \"alpha\": 1, \"xindex\": 0, \"linewidth\": 2.0, \"data\": \"data02\", \"id\": \"el260564562371088\"}, {\"color\": \"#BF00BF\", \"yindex\": 5, \"coordinates\": \"axes\", \"dasharray\": \"10,0\", \"zorder\": 1000002.0, \"alpha\": 1, \"xindex\": 0, \"linewidth\": 2.0, \"data\": \"data02\", \"id\": \"el260564562421072\"}, {\"color\": \"#BFBF00\", \"yindex\": 6, \"coordinates\": \"axes\", \"dasharray\": \"10,0\", \"zorder\": 1000002.0, \"alpha\": 1, \"xindex\": 0, \"linewidth\": 2.0, \"data\": \"data02\", \"id\": \"el260564562422288\"}, {\"color\": \"#000000\", \"yindex\": 7, \"coordinates\": \"axes\", \"dasharray\": \"10,0\", \"zorder\": 1000002.0, \"alpha\": 1, \"xindex\": 0, \"linewidth\": 2.0, \"data\": \"data02\", \"id\": \"el260564554282000\"}, {\"color\": \"#0000FF\", \"yindex\": 8, \"coordinates\": \"axes\", \"dasharray\": \"10,0\", \"zorder\": 1000002.0, \"alpha\": 1, \"xindex\": 0, \"linewidth\": 2.0, \"data\": \"data02\", \"id\": \"el260564562229136\"}, {\"color\": \"#007F00\", \"yindex\": 9, \"coordinates\": \"axes\", \"dasharray\": \"10,0\", \"zorder\": 1000002.0, \"alpha\": 1, \"xindex\": 0, \"linewidth\": 2.0, \"data\": \"data02\", \"id\": \"el260564562371472\"}, {\"color\": \"#FF0000\", \"yindex\": 10, \"coordinates\": \"axes\", \"dasharray\": \"10,0\", \"zorder\": 1000002.0, \"alpha\": 1, \"xindex\": 0, \"linewidth\": 2.0, \"data\": \"data02\", \"id\": \"el260564549842064\"}, {\"color\": \"#00BFBF\", \"yindex\": 11, \"coordinates\": \"axes\", \"dasharray\": \"10,0\", \"zorder\": 1000002.0, \"alpha\": 1, \"xindex\": 0, \"linewidth\": 2.0, \"data\": \"data02\", \"id\": \"el260564549844496\"}, {\"color\": \"#BF00BF\", \"yindex\": 12, \"coordinates\": \"axes\", \"dasharray\": \"10,0\", \"zorder\": 1000002.0, \"alpha\": 1, \"xindex\": 0, \"linewidth\": 2.0, \"data\": \"data02\", \"id\": \"el260564549822480\"}], \"markers\": [], \"id\": \"el260564561352208\", \"ydomain\": [8.4999999999999996e-10, 1.2e-09], \"collections\": [], \"xscale\": \"linear\", \"bbox\": [0.125, 0.125, 0.77500000000000002, 0.77500000000000002]}], \"height\": 320.0, \"width\": 480.0, \"plugins\": [{\"type\": \"reset\"}, {\"enabled\": false, \"button\": true, \"type\": \"zoom\"}, {\"enabled\": false, \"button\": true, \"type\": \"boxzoom\"}], \"data\": {\"data02\": [[0.7386452732974911, 0.9301075268817204, 0.8508064516129032, 0.771505376344086, 0.6922043010752688, 0.6129032258064515, 0.5336021505376344, 0.45430107526881724, 0.3749999999999999, 0.29569892473118276, 0.21639784946236562, 0.13709677419354843, 0.057795698924731256], [0.7888244847670252, 0.9301075268817204, 0.8508064516129032, 0.771505376344086, 0.6922043010752688, 0.6129032258064515, 0.5336021505376344, 0.45430107526881724, 0.3749999999999999, 0.29569892473118276, 0.21639784946236562, 0.13709677419354843, 0.057795698924731256]], \"data03\": [[0.713555667562724, 0.005376344086021556], [0.982078853046595, 0.005376344086021556], [0.982078853046595, 0.9731182795698924], [0.713555667562724, 0.9731182795698924]], \"data01\": [[-3.9, 1e-09, 1.1743725991664178e-09, 1.1440668412632249e-09, 1.1146322753674553e-09, 1.0860675692114796e-09, 1.0583253162721462e-09, 1.0313978560105852e-09, 1.0052507715130332e-09, 9.798630795643248e-10, 9.552161284176464e-10, 9.312850490772462e-10, 9.080445284581629e-10], [-3.89, 1e-09, 1.1719075709848426e-09, 1.1411264155825052e-09, 1.111221226146597e-09, 1.0821988860598708e-09, 1.0540197603603474e-09, 1.0266780758882987e-09, 1.0001179884255862e-09, 9.743291728980807e-10, 9.49296419250345e-10, 9.250022969808924e-10, 9.01406727038534e-10], [-3.8800000000000003, 1e-09, 1.1722417481152547e-09, 1.1409414524266026e-09, 1.1105616426476672e-09, 1.081075562403555e-09, 1.052447906602083e-09, 1.0246472559316544e-09, 9.9767816230667e-10, 9.714877791111576e-10, 9.460601191335627e-10, 9.21372311779578e-10, 8.974073706369268e-10], [-3.8700000000000006, 1e-09, 1.175082697812968e-09, 1.1432701452207539e-09, 1.1123872933893608e-09, 1.0824080520777102e-09, 1.0533051097993962e-09, 1.0250710280601538e-09, 9.976545145562454e-10, 9.710319215372465e-10, 9.452167937240574e-10, 9.20124088032992e-10, 8.957888875116282e-10]]}, \"id\": \"el260564561353104\"});\n",
       "      });\n",
       "    });\n",
       "}else{\n",
       "    // require.js not available: dynamically load d3 & mpld3\n",
       "    mpld3_load_lib(\"https://mpld3.github.io/js/d3.v3.min.js\", function(){\n",
       "         mpld3_load_lib(\"https://mpld3.github.io/js/mpld3.v0.2.js\", function(){\n",
       "                 \n",
       "                 mpld3.draw_figure(\"fig_el2605645613531047468318625\", {\"axes\": [{\"xlim\": [-3.8999999999999999, -3.8700000000000001], \"yscale\": \"linear\", \"axesbg\": \"#FFFFFF\", \"texts\": [{\"v_baseline\": \"hanging\", \"h_anchor\": \"middle\", \"color\": \"#000000\", \"text\": \"rSNR3\", \"coordinates\": \"axes\", \"zorder\": 3, \"alpha\": 1, \"fontsize\": 20.0, \"position\": [0.5, -0.080645161290322578], \"rotation\": -0.0, \"id\": \"el260564550315600\"}, {\"v_baseline\": \"auto\", \"h_anchor\": \"middle\", \"color\": \"#000000\", \"text\": \"P(fail)\", \"coordinates\": \"axes\", \"zorder\": 3, \"alpha\": 1, \"fontsize\": 20.0, \"position\": [-0.089885752688172033, 0.5], \"rotation\": -90.0, \"id\": \"el260564562101968\"}, {\"v_baseline\": \"auto\", \"h_anchor\": \"middle\", \"color\": \"#000000\", \"text\": \"N=15\", \"coordinates\": \"axes\", \"zorder\": 3, \"alpha\": 1, \"fontsize\": 20.0, \"position\": [0.5, 1.0224014336917562], \"rotation\": -0.0, \"id\": \"el260564549955152\"}, {\"v_baseline\": \"auto\", \"h_anchor\": \"start\", \"color\": \"#000000\", \"text\": \"None\", \"coordinates\": \"axes\", \"zorder\": 1000003.0, \"alpha\": 1, \"fontsize\": 10.0, \"position\": [-0.16129032258064516, -0.16129032258064516], \"rotation\": -0.0, \"id\": \"el260564562187664\"}, {\"v_baseline\": \"auto\", \"h_anchor\": \"start\", \"color\": \"#000000\", \"text\": \"Protocol\", \"coordinates\": \"axes\", \"zorder\": 1000003.0, \"alpha\": 1, \"fontsize\": 12.0, \"position\": [0.82825100806451613, 0.91129032258064513], \"rotation\": -0.0, \"id\": \"el260564552884624\"}, {\"v_baseline\": \"auto\", \"h_anchor\": \"start\", \"color\": \"#000000\", \"text\": \"4.5\", \"coordinates\": \"axes\", \"zorder\": 1000003.0, \"alpha\": 1, \"fontsize\": 12.0, \"position\": [0.82825100806451613, 0.831989247311828], \"rotation\": -0.0, \"id\": \"el260564561737232\"}, {\"v_baseline\": \"auto\", \"h_anchor\": \"start\", \"color\": \"#000000\", \"text\": \"4.51\", \"coordinates\": \"axes\", \"zorder\": 1000003.0, \"alpha\": 1, \"fontsize\": 12.0, \"position\": [0.82825100806451613, 0.75268817204301075], \"rotation\": -0.0, \"id\": \"el260564550420240\"}, {\"v_baseline\": \"auto\", \"h_anchor\": \"start\", \"color\": \"#000000\", \"text\": \"4.52\", \"coordinates\": \"axes\", \"zorder\": 1000003.0, \"alpha\": 1, \"fontsize\": 12.0, \"position\": [0.82825100806451613, 0.67338709677419351], \"rotation\": -0.0, \"id\": \"el260564562371152\"}, {\"v_baseline\": \"auto\", \"h_anchor\": \"start\", \"color\": \"#000000\", \"text\": \"4.53\", \"coordinates\": \"axes\", \"zorder\": 1000003.0, \"alpha\": 1, \"fontsize\": 12.0, \"position\": [0.82825100806451613, 0.59408602150537626], \"rotation\": -0.0, \"id\": \"el260564562373328\"}, {\"v_baseline\": \"auto\", \"h_anchor\": \"start\", \"color\": \"#000000\", \"text\": \"4.54\", \"coordinates\": \"axes\", \"zorder\": 1000003.0, \"alpha\": 1, \"fontsize\": 12.0, \"position\": [0.82825100806451613, 0.51478494623655913], \"rotation\": -0.0, \"id\": \"el260564562422096\"}, {\"v_baseline\": \"auto\", \"h_anchor\": \"start\", \"color\": \"#000000\", \"text\": \"4.55\", \"coordinates\": \"axes\", \"zorder\": 1000003.0, \"alpha\": 1, \"fontsize\": 12.0, \"position\": [0.82825100806451613, 0.43548387096774199], \"rotation\": -0.0, \"id\": \"el260564554281424\"}, {\"v_baseline\": \"auto\", \"h_anchor\": \"start\", \"color\": \"#000000\", \"text\": \"4.56\", \"coordinates\": \"axes\", \"zorder\": 1000003.0, \"alpha\": 1, \"fontsize\": 12.0, \"position\": [0.82825100806451613, 0.35618279569892464], \"rotation\": -0.0, \"id\": \"el260564562227920\"}, {\"v_baseline\": \"auto\", \"h_anchor\": \"start\", \"color\": \"#000000\", \"text\": \"4.57\", \"coordinates\": \"axes\", \"zorder\": 1000003.0, \"alpha\": 1, \"fontsize\": 12.0, \"position\": [0.82825100806451613, 0.2768817204301075], \"rotation\": -0.0, \"id\": \"el260564562420560\"}, {\"v_baseline\": \"auto\", \"h_anchor\": \"start\", \"color\": \"#000000\", \"text\": \"4.58\", \"coordinates\": \"axes\", \"zorder\": 1000003.0, \"alpha\": 1, \"fontsize\": 12.0, \"position\": [0.82825100806451613, 0.19758064516129034], \"rotation\": -0.0, \"id\": \"el260564562229968\"}, {\"v_baseline\": \"auto\", \"h_anchor\": \"start\", \"color\": \"#000000\", \"text\": \"4.59\", \"coordinates\": \"axes\", \"zorder\": 1000003.0, \"alpha\": 1, \"fontsize\": 12.0, \"position\": [0.82825100806451613, 0.11827956989247315], \"rotation\": -0.0, \"id\": \"el260564549843024\"}, {\"v_baseline\": \"auto\", \"h_anchor\": \"start\", \"color\": \"#000000\", \"text\": \"4.6\", \"coordinates\": \"axes\", \"zorder\": 1000003.0, \"alpha\": 1, \"fontsize\": 12.0, \"position\": [0.82825100806451613, 0.03897849462365599], \"rotation\": -0.0, \"id\": \"el260564549821136\"}], \"zoomable\": true, \"images\": [], \"xdomain\": [-3.8999999999999999, -3.8700000000000001], \"ylim\": [8.4999999999999996e-10, 1.2e-09], \"paths\": [{\"edgecolor\": \"#000000\", \"facecolor\": \"#FFFFFF\", \"edgewidth\": 1.0, \"pathcodes\": [\"M\", \"L\", \"L\", \"L\", \"Z\"], \"yindex\": 1, \"coordinates\": \"axes\", \"dasharray\": \"10,0\", \"zorder\": 1000001.0, \"alpha\": 1, \"xindex\": 0, \"data\": \"data03\", \"id\": \"el260564552887696\"}], \"sharey\": [], \"sharex\": [], \"axesbgalpha\": null, \"axes\": [{\"scale\": \"linear\", \"tickformat\": null, \"grid\": {\"gridOn\": false}, \"fontsize\": 10.0, \"position\": \"bottom\", \"nticks\": 7, \"tickvalues\": null}, {\"scale\": \"linear\", \"tickformat\": null, \"grid\": {\"gridOn\": false}, \"fontsize\": 10.0, \"position\": \"left\", \"nticks\": 9, \"tickvalues\": null}], \"lines\": [{\"color\": \"#0000FF\", \"yindex\": 1, \"coordinates\": \"data\", \"dasharray\": \"10,0\", \"zorder\": 2, \"alpha\": 1, \"xindex\": 0, \"linewidth\": 2.0, \"data\": \"data01\", \"id\": \"el260564562667280\"}, {\"color\": \"#007F00\", \"yindex\": 2, \"coordinates\": \"data\", \"dasharray\": \"10,0\", \"zorder\": 2, \"alpha\": 1, \"xindex\": 0, \"linewidth\": 2.0, \"data\": \"data01\", \"id\": \"el260564554045904\"}, {\"color\": \"#FF0000\", \"yindex\": 3, \"coordinates\": \"data\", \"dasharray\": \"10,0\", \"zorder\": 2, \"alpha\": 1, \"xindex\": 0, \"linewidth\": 2.0, \"data\": \"data01\", \"id\": \"el260564554044368\"}, {\"color\": \"#00BFBF\", \"yindex\": 4, \"coordinates\": \"data\", \"dasharray\": \"10,0\", \"zorder\": 2, \"alpha\": 1, \"xindex\": 0, \"linewidth\": 2.0, \"data\": \"data01\", \"id\": \"el260564554044048\"}, {\"color\": \"#BF00BF\", \"yindex\": 5, \"coordinates\": \"data\", \"dasharray\": \"10,0\", \"zorder\": 2, \"alpha\": 1, \"xindex\": 0, \"linewidth\": 2.0, \"data\": \"data01\", \"id\": \"el260564552193872\"}, {\"color\": \"#BFBF00\", \"yindex\": 6, \"coordinates\": \"data\", \"dasharray\": \"10,0\", \"zorder\": 2, \"alpha\": 1, \"xindex\": 0, \"linewidth\": 2.0, \"data\": \"data01\", \"id\": \"el260564552192464\"}, {\"color\": \"#000000\", \"yindex\": 7, \"coordinates\": \"data\", \"dasharray\": \"10,0\", \"zorder\": 2, \"alpha\": 1, \"xindex\": 0, \"linewidth\": 2.0, \"data\": \"data01\", \"id\": \"el260564550323536\"}, {\"color\": \"#0000FF\", \"yindex\": 8, \"coordinates\": \"data\", \"dasharray\": \"10,0\", \"zorder\": 2, \"alpha\": 1, \"xindex\": 0, \"linewidth\": 2.0, \"data\": \"data01\", \"id\": \"el260564562633744\"}, {\"color\": \"#007F00\", \"yindex\": 9, \"coordinates\": \"data\", \"dasharray\": \"10,0\", \"zorder\": 2, \"alpha\": 1, \"xindex\": 0, \"linewidth\": 2.0, \"data\": \"data01\", \"id\": \"el260564561400272\"}, {\"color\": \"#FF0000\", \"yindex\": 10, \"coordinates\": \"data\", \"dasharray\": \"10,0\", \"zorder\": 2, \"alpha\": 1, \"xindex\": 0, \"linewidth\": 2.0, \"data\": \"data01\", \"id\": \"el260564561403856\"}, {\"color\": \"#00BFBF\", \"yindex\": 11, \"coordinates\": \"data\", \"dasharray\": \"10,0\", \"zorder\": 2, \"alpha\": 1, \"xindex\": 0, \"linewidth\": 2.0, \"data\": \"data01\", \"id\": \"el260564552275344\"}, {\"color\": \"#BF00BF\", \"yindex\": 12, \"coordinates\": \"data\", \"dasharray\": \"10,0\", \"zorder\": 2, \"alpha\": 1, \"xindex\": 0, \"linewidth\": 2.0, \"data\": \"data01\", \"id\": \"el260564552274896\"}, {\"color\": \"#0000FF\", \"yindex\": 1, \"coordinates\": \"axes\", \"dasharray\": \"10,0\", \"zorder\": 1000002.0, \"alpha\": 1, \"xindex\": 0, \"linewidth\": 2.0, \"data\": \"data02\", \"id\": \"el260564561736464\"}, {\"color\": \"#007F00\", \"yindex\": 2, \"coordinates\": \"axes\", \"dasharray\": \"10,0\", \"zorder\": 1000002.0, \"alpha\": 1, \"xindex\": 0, \"linewidth\": 2.0, \"data\": \"data02\", \"id\": \"el260564561737872\"}, {\"color\": \"#FF0000\", \"yindex\": 3, \"coordinates\": \"axes\", \"dasharray\": \"10,0\", \"zorder\": 1000002.0, \"alpha\": 1, \"xindex\": 0, \"linewidth\": 2.0, \"data\": \"data02\", \"id\": \"el260564550419600\"}, {\"color\": \"#00BFBF\", \"yindex\": 4, \"coordinates\": \"axes\", \"dasharray\": \"10,0\", \"zorder\": 1000002.0, \"alpha\": 1, \"xindex\": 0, \"linewidth\": 2.0, \"data\": \"data02\", \"id\": \"el260564562371088\"}, {\"color\": \"#BF00BF\", \"yindex\": 5, \"coordinates\": \"axes\", \"dasharray\": \"10,0\", \"zorder\": 1000002.0, \"alpha\": 1, \"xindex\": 0, \"linewidth\": 2.0, \"data\": \"data02\", \"id\": \"el260564562421072\"}, {\"color\": \"#BFBF00\", \"yindex\": 6, \"coordinates\": \"axes\", \"dasharray\": \"10,0\", \"zorder\": 1000002.0, \"alpha\": 1, \"xindex\": 0, \"linewidth\": 2.0, \"data\": \"data02\", \"id\": \"el260564562422288\"}, {\"color\": \"#000000\", \"yindex\": 7, \"coordinates\": \"axes\", \"dasharray\": \"10,0\", \"zorder\": 1000002.0, \"alpha\": 1, \"xindex\": 0, \"linewidth\": 2.0, \"data\": \"data02\", \"id\": \"el260564554282000\"}, {\"color\": \"#0000FF\", \"yindex\": 8, \"coordinates\": \"axes\", \"dasharray\": \"10,0\", \"zorder\": 1000002.0, \"alpha\": 1, \"xindex\": 0, \"linewidth\": 2.0, \"data\": \"data02\", \"id\": \"el260564562229136\"}, {\"color\": \"#007F00\", \"yindex\": 9, \"coordinates\": \"axes\", \"dasharray\": \"10,0\", \"zorder\": 1000002.0, \"alpha\": 1, \"xindex\": 0, \"linewidth\": 2.0, \"data\": \"data02\", \"id\": \"el260564562371472\"}, {\"color\": \"#FF0000\", \"yindex\": 10, \"coordinates\": \"axes\", \"dasharray\": \"10,0\", \"zorder\": 1000002.0, \"alpha\": 1, \"xindex\": 0, \"linewidth\": 2.0, \"data\": \"data02\", \"id\": \"el260564549842064\"}, {\"color\": \"#00BFBF\", \"yindex\": 11, \"coordinates\": \"axes\", \"dasharray\": \"10,0\", \"zorder\": 1000002.0, \"alpha\": 1, \"xindex\": 0, \"linewidth\": 2.0, \"data\": \"data02\", \"id\": \"el260564549844496\"}, {\"color\": \"#BF00BF\", \"yindex\": 12, \"coordinates\": \"axes\", \"dasharray\": \"10,0\", \"zorder\": 1000002.0, \"alpha\": 1, \"xindex\": 0, \"linewidth\": 2.0, \"data\": \"data02\", \"id\": \"el260564549822480\"}], \"markers\": [], \"id\": \"el260564561352208\", \"ydomain\": [8.4999999999999996e-10, 1.2e-09], \"collections\": [], \"xscale\": \"linear\", \"bbox\": [0.125, 0.125, 0.77500000000000002, 0.77500000000000002]}], \"height\": 320.0, \"width\": 480.0, \"plugins\": [{\"type\": \"reset\"}, {\"enabled\": false, \"button\": true, \"type\": \"zoom\"}, {\"enabled\": false, \"button\": true, \"type\": \"boxzoom\"}], \"data\": {\"data02\": [[0.7386452732974911, 0.9301075268817204, 0.8508064516129032, 0.771505376344086, 0.6922043010752688, 0.6129032258064515, 0.5336021505376344, 0.45430107526881724, 0.3749999999999999, 0.29569892473118276, 0.21639784946236562, 0.13709677419354843, 0.057795698924731256], [0.7888244847670252, 0.9301075268817204, 0.8508064516129032, 0.771505376344086, 0.6922043010752688, 0.6129032258064515, 0.5336021505376344, 0.45430107526881724, 0.3749999999999999, 0.29569892473118276, 0.21639784946236562, 0.13709677419354843, 0.057795698924731256]], \"data03\": [[0.713555667562724, 0.005376344086021556], [0.982078853046595, 0.005376344086021556], [0.982078853046595, 0.9731182795698924], [0.713555667562724, 0.9731182795698924]], \"data01\": [[-3.9, 1e-09, 1.1743725991664178e-09, 1.1440668412632249e-09, 1.1146322753674553e-09, 1.0860675692114796e-09, 1.0583253162721462e-09, 1.0313978560105852e-09, 1.0052507715130332e-09, 9.798630795643248e-10, 9.552161284176464e-10, 9.312850490772462e-10, 9.080445284581629e-10], [-3.89, 1e-09, 1.1719075709848426e-09, 1.1411264155825052e-09, 1.111221226146597e-09, 1.0821988860598708e-09, 1.0540197603603474e-09, 1.0266780758882987e-09, 1.0001179884255862e-09, 9.743291728980807e-10, 9.49296419250345e-10, 9.250022969808924e-10, 9.01406727038534e-10], [-3.8800000000000003, 1e-09, 1.1722417481152547e-09, 1.1409414524266026e-09, 1.1105616426476672e-09, 1.081075562403555e-09, 1.052447906602083e-09, 1.0246472559316544e-09, 9.9767816230667e-10, 9.714877791111576e-10, 9.460601191335627e-10, 9.21372311779578e-10, 8.974073706369268e-10], [-3.8700000000000006, 1e-09, 1.175082697812968e-09, 1.1432701452207539e-09, 1.1123872933893608e-09, 1.0824080520777102e-09, 1.0533051097993962e-09, 1.0250710280601538e-09, 9.976545145562454e-10, 9.710319215372465e-10, 9.452167937240574e-10, 9.20124088032992e-10, 8.957888875116282e-10]]}, \"id\": \"el260564561353104\"});\n",
       "            })\n",
       "         });\n",
       "}\n",
       "</script>"
      ],
      "text/plain": [
       "<IPython.core.display.HTML object>"
      ]
     },
     "execution_count": 22,
     "metadata": {},
     "output_type": "execute_result"
    }
   ],
   "source": [
    "xn, yn = result.shape\n",
    "fig = figure()\n",
    "plot(rSNR3_range, 10**(-9)*ones(len(rSNR3_range),), lw=2.0, label='Protocol')\n",
    "for xk in range(xn):\n",
    "    plot(rSNR3_range, result[xk], lw=2.0, label='{0}'.format(tSNR_range[xk]))\n",
    "    print rSNR3_range[np.argmin(result[xk])]\n",
    "\n",
    "xlabel('rSNR3', fontsize=20)\n",
    "ylabel('P(fail)', fontsize=20)\n",
    "title('N={0}'.format(N), fontsize=20)\n",
    "legend(loc=0)\n",
    "mpld3.display(fig)"
   ]
  },
  {
   "cell_type": "markdown",
   "metadata": {},
   "source": [
    "## N = 16\n",
    "[4.41, -5.65, -3.56]"
   ]
  },
  {
   "cell_type": "code",
   "execution_count": 27,
   "metadata": {
    "collapsed": false
   },
   "outputs": [
    {
     "name": "stdout",
     "output_type": "stream",
     "text": [
      "xn, yn (2, 21) size of matrix 42\n",
      "[[  1.15484933e-09   1.14824772e-09   1.14225895e-09   1.13693588e-09\n",
      "    1.13217513e-09   1.12798304e-09   1.12430509e-09   1.12110021e-09\n",
      "    1.11838583e-09   1.11610376e-09   1.11430398e-09   1.11285836e-09\n",
      "    1.11181975e-09   1.11114495e-09   1.11083032e-09   1.11089471e-09\n",
      "    1.11131104e-09   1.11197729e-09   1.11300513e-09   1.11430831e-09\n",
      "    1.11586995e-09]\n",
      " [  7.57178320e-10   7.49658224e-10   7.42766182e-10   7.36586792e-10\n",
      "    7.31024574e-10   7.26067206e-10   7.21681825e-10   7.17808812e-10\n",
      "    7.14487025e-10   7.11588011e-10   7.09167169e-10   7.07173209e-10\n",
      "    7.05617342e-10   7.04455050e-10   7.03661351e-10   7.03244019e-10\n",
      "    7.03197500e-10   7.03527236e-10   7.04158398e-10   7.05117076e-10\n",
      "    7.06363967e-10]]\n",
      "CPU times: user 3min 30s, sys: 1.05 s, total: 3min 31s\n",
      "Wall time: 3min 36s\n"
     ]
    }
   ],
   "source": [
    "%%time\n",
    "N = 16\n",
    "tSNR_range = [4.55]\n",
    "rSNR3_range = np.arange(-3.7, -3.6+0.001, 0.1)\n",
    "rSNRdu_range = np.arange(-5.8, -5.6+0.001, 0.01)\n",
    "\n",
    "result = optimize_3_graphical(N, rSNRdu_range, rSNR3_range, tSNR_range, filepath_down, filepath_up, protocolbit, True)\n",
    "\n",
    "print result"
   ]
  },
  {
   "cell_type": "code",
   "execution_count": 28,
   "metadata": {
    "collapsed": false
   },
   "outputs": [
    {
     "name": "stdout",
     "output_type": "stream",
     "text": [
      "-5.66\n",
      "-5.64\n"
     ]
    },
    {
     "data": {
      "text/html": [
       "\n",
       "\n",
       "<style>\n",
       "\n",
       "</style>\n",
       "\n",
       "<div id=\"fig_el2605645541470242643115919\"></div>\n",
       "<script>\n",
       "function mpld3_load_lib(url, callback){\n",
       "  var s = document.createElement('script');\n",
       "  s.src = url;\n",
       "  s.async = true;\n",
       "  s.onreadystatechange = s.onload = callback;\n",
       "  s.onerror = function(){console.warn(\"failed to load library \" + url);};\n",
       "  document.getElementsByTagName(\"head\")[0].appendChild(s);\n",
       "}\n",
       "\n",
       "if(typeof(mpld3) !== \"undefined\" && mpld3._mpld3IsLoaded){\n",
       "   // already loaded: just create the figure\n",
       "   !function(mpld3){\n",
       "       \n",
       "       mpld3.draw_figure(\"fig_el2605645541470242643115919\", {\"axes\": [{\"xlim\": [-5.8000000000000007, -5.6000000000000005], \"yscale\": \"linear\", \"axesbg\": \"#FFFFFF\", \"texts\": [{\"v_baseline\": \"hanging\", \"h_anchor\": \"middle\", \"color\": \"#000000\", \"text\": \"rSNRdu\", \"coordinates\": \"axes\", \"zorder\": 3, \"alpha\": 1, \"fontsize\": 20.0, \"position\": [0.5, -0.080645161290322578], \"rotation\": -0.0, \"id\": \"el260564553990992\"}, {\"v_baseline\": \"auto\", \"h_anchor\": \"middle\", \"color\": \"#000000\", \"text\": \"P(fail)\", \"coordinates\": \"axes\", \"zorder\": 3, \"alpha\": 1, \"fontsize\": 20.0, \"position\": [-0.070900537634408595, 0.5], \"rotation\": -90.0, \"id\": \"el260564552663760\"}, {\"v_baseline\": \"auto\", \"h_anchor\": \"middle\", \"color\": \"#000000\", \"text\": \"N=16\", \"coordinates\": \"axes\", \"zorder\": 3, \"alpha\": 1, \"fontsize\": 20.0, \"position\": [0.5, 1.0224014336917562], \"rotation\": -0.0, \"id\": \"el260564549801872\"}, {\"v_baseline\": \"auto\", \"h_anchor\": \"start\", \"color\": \"#000000\", \"text\": \"None\", \"coordinates\": \"axes\", \"zorder\": 1000003.0, \"alpha\": 1, \"fontsize\": 10.0, \"position\": [-0.16129032258064516, -0.16129032258064516], \"rotation\": -0.0, \"id\": \"el260564562198160\"}, {\"v_baseline\": \"auto\", \"h_anchor\": \"start\", \"color\": \"#000000\", \"text\": \"-3.7\", \"coordinates\": \"axes\", \"zorder\": 1000003.0, \"alpha\": 1, \"fontsize\": 12.0, \"position\": [0.90188172043010739, 0.13978494623655915], \"rotation\": -0.0, \"id\": \"el260564513428496\"}, {\"v_baseline\": \"auto\", \"h_anchor\": \"start\", \"color\": \"#000000\", \"text\": \"-3.6\", \"coordinates\": \"axes\", \"zorder\": 1000003.0, \"alpha\": 1, \"fontsize\": 12.0, \"position\": [0.90188172043010739, 0.060483870967741937], \"rotation\": -0.0, \"id\": \"el260564549841488\"}], \"zoomable\": true, \"images\": [], \"xdomain\": [-5.8000000000000007, -5.6000000000000005], \"ylim\": [6.9999999999999996e-10, 1.2e-09], \"paths\": [{\"edgecolor\": \"#000000\", \"facecolor\": \"#FFFFFF\", \"edgewidth\": 1.0, \"pathcodes\": [\"M\", \"L\", \"L\", \"L\", \"Z\"], \"yindex\": 1, \"coordinates\": \"axes\", \"dasharray\": \"10,0\", \"zorder\": 1000001.0, \"alpha\": 1, \"xindex\": 0, \"data\": \"data03\", \"id\": \"el260564513431120\"}], \"sharey\": [], \"sharex\": [], \"axesbgalpha\": null, \"axes\": [{\"scale\": \"linear\", \"tickformat\": null, \"grid\": {\"gridOn\": false}, \"fontsize\": 10.0, \"position\": \"bottom\", \"nticks\": 6, \"tickvalues\": null}, {\"scale\": \"linear\", \"tickformat\": null, \"grid\": {\"gridOn\": false}, \"fontsize\": 10.0, \"position\": \"left\", \"nticks\": 7, \"tickvalues\": null}], \"lines\": [{\"color\": \"#0000FF\", \"yindex\": 1, \"coordinates\": \"data\", \"dasharray\": \"10,0\", \"zorder\": 2, \"alpha\": 1, \"xindex\": 0, \"linewidth\": 2.0, \"data\": \"data01\", \"id\": \"el260564552181648\"}, {\"color\": \"#007F00\", \"yindex\": 2, \"coordinates\": \"data\", \"dasharray\": \"10,0\", \"zorder\": 2, \"alpha\": 1, \"xindex\": 0, \"linewidth\": 2.0, \"data\": \"data01\", \"id\": \"el260564552180048\"}, {\"color\": \"#0000FF\", \"yindex\": 1, \"coordinates\": \"axes\", \"dasharray\": \"10,0\", \"zorder\": 1000002.0, \"alpha\": 1, \"xindex\": 0, \"linewidth\": 2.0, \"data\": \"data02\", \"id\": \"el260564513431056\"}, {\"color\": \"#007F00\", \"yindex\": 2, \"coordinates\": \"axes\", \"dasharray\": \"10,0\", \"zorder\": 1000002.0, \"alpha\": 1, \"xindex\": 0, \"linewidth\": 2.0, \"data\": \"data02\", \"id\": \"el260564549843792\"}], \"markers\": [], \"id\": \"el260564562047504\", \"ydomain\": [6.9999999999999996e-10, 1.2e-09], \"collections\": [], \"xscale\": \"linear\", \"bbox\": [0.125, 0.125, 0.77500000000000002, 0.77500000000000002]}], \"height\": 320.0, \"width\": 480.0, \"plugins\": [{\"type\": \"reset\"}, {\"enabled\": false, \"button\": true, \"type\": \"zoom\"}, {\"enabled\": false, \"button\": true, \"type\": \"boxzoom\"}], \"data\": {\"data02\": [[0.8122759856630825, 0.15860215053763443, 0.0793010752688172], [0.8624551971326165, 0.15860215053763443, 0.0793010752688172]], \"data03\": [[0.7871863799283154, 0.026881720430107503], [0.982078853046595, 0.026881720430107503], [0.982078853046595, 0.20161290322580647], [0.7871863799283154, 0.20161290322580647]], \"data01\": [[-5.8, 1.1548493272783844e-09, 7.571783200432947e-10], [-5.79, 1.1482477191293583e-09, 7.496582243859962e-10], [-5.78, 1.1422589540899253e-09, 7.427661818937281e-10], [-5.7700000000000005, 1.1369358787760575e-09, 7.36586791560967e-10], [-5.760000000000001, 1.1321751314241624e-09, 7.310245742075949e-10], [-5.750000000000001, 1.1279830403054802e-09, 7.260672063580387e-10], [-5.740000000000001, 1.124305093469502e-09, 7.216818254107693e-10], [-5.730000000000001, 1.1211002126643166e-09, 7.178088123893644e-10], [-5.7200000000000015, 1.1183858283914105e-09, 7.14487025099686e-10], [-5.710000000000002, 1.1161037649642935e-09, 7.115880107377848e-10], [-5.700000000000002, 1.1143039824190737e-09, 7.091671694325896e-10], [-5.690000000000002, 1.1128583610187093e-09, 7.071732088803628e-10], [-5.680000000000002, 1.1118197473791724e-09, 7.056173423336531e-10], [-5.670000000000003, 1.1111449538248053e-09, 7.044550498491731e-10], [-5.660000000000003, 1.1108303166196265e-09, 7.036613514088685e-10], [-5.650000000000003, 1.1108947095550548e-09, 7.032440185739119e-10], [-5.640000000000003, 1.1113110431892892e-09, 7.031975002291802e-10], [-5.6300000000000034, 1.1119772880263668e-09, 7.035272364674938e-10], [-5.620000000000004, 1.1130051325025647e-09, 7.041583982569932e-10], [-5.610000000000004, 1.1143083122888697e-09, 7.05117075838757e-10], [-5.600000000000004, 1.1158699519953075e-09, 7.063639673177136e-10]]}, \"id\": \"el260564554147024\"});\n",
       "   }(mpld3);\n",
       "}else if(typeof define === \"function\" && define.amd){\n",
       "   // require.js is available: use it to load d3/mpld3\n",
       "   require.config({paths: {d3: \"https://mpld3.github.io/js/d3.v3.min\"}});\n",
       "   require([\"d3\"], function(d3){\n",
       "      window.d3 = d3;\n",
       "      mpld3_load_lib(\"https://mpld3.github.io/js/mpld3.v0.2.js\", function(){\n",
       "         \n",
       "         mpld3.draw_figure(\"fig_el2605645541470242643115919\", {\"axes\": [{\"xlim\": [-5.8000000000000007, -5.6000000000000005], \"yscale\": \"linear\", \"axesbg\": \"#FFFFFF\", \"texts\": [{\"v_baseline\": \"hanging\", \"h_anchor\": \"middle\", \"color\": \"#000000\", \"text\": \"rSNRdu\", \"coordinates\": \"axes\", \"zorder\": 3, \"alpha\": 1, \"fontsize\": 20.0, \"position\": [0.5, -0.080645161290322578], \"rotation\": -0.0, \"id\": \"el260564553990992\"}, {\"v_baseline\": \"auto\", \"h_anchor\": \"middle\", \"color\": \"#000000\", \"text\": \"P(fail)\", \"coordinates\": \"axes\", \"zorder\": 3, \"alpha\": 1, \"fontsize\": 20.0, \"position\": [-0.070900537634408595, 0.5], \"rotation\": -90.0, \"id\": \"el260564552663760\"}, {\"v_baseline\": \"auto\", \"h_anchor\": \"middle\", \"color\": \"#000000\", \"text\": \"N=16\", \"coordinates\": \"axes\", \"zorder\": 3, \"alpha\": 1, \"fontsize\": 20.0, \"position\": [0.5, 1.0224014336917562], \"rotation\": -0.0, \"id\": \"el260564549801872\"}, {\"v_baseline\": \"auto\", \"h_anchor\": \"start\", \"color\": \"#000000\", \"text\": \"None\", \"coordinates\": \"axes\", \"zorder\": 1000003.0, \"alpha\": 1, \"fontsize\": 10.0, \"position\": [-0.16129032258064516, -0.16129032258064516], \"rotation\": -0.0, \"id\": \"el260564562198160\"}, {\"v_baseline\": \"auto\", \"h_anchor\": \"start\", \"color\": \"#000000\", \"text\": \"-3.7\", \"coordinates\": \"axes\", \"zorder\": 1000003.0, \"alpha\": 1, \"fontsize\": 12.0, \"position\": [0.90188172043010739, 0.13978494623655915], \"rotation\": -0.0, \"id\": \"el260564513428496\"}, {\"v_baseline\": \"auto\", \"h_anchor\": \"start\", \"color\": \"#000000\", \"text\": \"-3.6\", \"coordinates\": \"axes\", \"zorder\": 1000003.0, \"alpha\": 1, \"fontsize\": 12.0, \"position\": [0.90188172043010739, 0.060483870967741937], \"rotation\": -0.0, \"id\": \"el260564549841488\"}], \"zoomable\": true, \"images\": [], \"xdomain\": [-5.8000000000000007, -5.6000000000000005], \"ylim\": [6.9999999999999996e-10, 1.2e-09], \"paths\": [{\"edgecolor\": \"#000000\", \"facecolor\": \"#FFFFFF\", \"edgewidth\": 1.0, \"pathcodes\": [\"M\", \"L\", \"L\", \"L\", \"Z\"], \"yindex\": 1, \"coordinates\": \"axes\", \"dasharray\": \"10,0\", \"zorder\": 1000001.0, \"alpha\": 1, \"xindex\": 0, \"data\": \"data03\", \"id\": \"el260564513431120\"}], \"sharey\": [], \"sharex\": [], \"axesbgalpha\": null, \"axes\": [{\"scale\": \"linear\", \"tickformat\": null, \"grid\": {\"gridOn\": false}, \"fontsize\": 10.0, \"position\": \"bottom\", \"nticks\": 6, \"tickvalues\": null}, {\"scale\": \"linear\", \"tickformat\": null, \"grid\": {\"gridOn\": false}, \"fontsize\": 10.0, \"position\": \"left\", \"nticks\": 7, \"tickvalues\": null}], \"lines\": [{\"color\": \"#0000FF\", \"yindex\": 1, \"coordinates\": \"data\", \"dasharray\": \"10,0\", \"zorder\": 2, \"alpha\": 1, \"xindex\": 0, \"linewidth\": 2.0, \"data\": \"data01\", \"id\": \"el260564552181648\"}, {\"color\": \"#007F00\", \"yindex\": 2, \"coordinates\": \"data\", \"dasharray\": \"10,0\", \"zorder\": 2, \"alpha\": 1, \"xindex\": 0, \"linewidth\": 2.0, \"data\": \"data01\", \"id\": \"el260564552180048\"}, {\"color\": \"#0000FF\", \"yindex\": 1, \"coordinates\": \"axes\", \"dasharray\": \"10,0\", \"zorder\": 1000002.0, \"alpha\": 1, \"xindex\": 0, \"linewidth\": 2.0, \"data\": \"data02\", \"id\": \"el260564513431056\"}, {\"color\": \"#007F00\", \"yindex\": 2, \"coordinates\": \"axes\", \"dasharray\": \"10,0\", \"zorder\": 1000002.0, \"alpha\": 1, \"xindex\": 0, \"linewidth\": 2.0, \"data\": \"data02\", \"id\": \"el260564549843792\"}], \"markers\": [], \"id\": \"el260564562047504\", \"ydomain\": [6.9999999999999996e-10, 1.2e-09], \"collections\": [], \"xscale\": \"linear\", \"bbox\": [0.125, 0.125, 0.77500000000000002, 0.77500000000000002]}], \"height\": 320.0, \"width\": 480.0, \"plugins\": [{\"type\": \"reset\"}, {\"enabled\": false, \"button\": true, \"type\": \"zoom\"}, {\"enabled\": false, \"button\": true, \"type\": \"boxzoom\"}], \"data\": {\"data02\": [[0.8122759856630825, 0.15860215053763443, 0.0793010752688172], [0.8624551971326165, 0.15860215053763443, 0.0793010752688172]], \"data03\": [[0.7871863799283154, 0.026881720430107503], [0.982078853046595, 0.026881720430107503], [0.982078853046595, 0.20161290322580647], [0.7871863799283154, 0.20161290322580647]], \"data01\": [[-5.8, 1.1548493272783844e-09, 7.571783200432947e-10], [-5.79, 1.1482477191293583e-09, 7.496582243859962e-10], [-5.78, 1.1422589540899253e-09, 7.427661818937281e-10], [-5.7700000000000005, 1.1369358787760575e-09, 7.36586791560967e-10], [-5.760000000000001, 1.1321751314241624e-09, 7.310245742075949e-10], [-5.750000000000001, 1.1279830403054802e-09, 7.260672063580387e-10], [-5.740000000000001, 1.124305093469502e-09, 7.216818254107693e-10], [-5.730000000000001, 1.1211002126643166e-09, 7.178088123893644e-10], [-5.7200000000000015, 1.1183858283914105e-09, 7.14487025099686e-10], [-5.710000000000002, 1.1161037649642935e-09, 7.115880107377848e-10], [-5.700000000000002, 1.1143039824190737e-09, 7.091671694325896e-10], [-5.690000000000002, 1.1128583610187093e-09, 7.071732088803628e-10], [-5.680000000000002, 1.1118197473791724e-09, 7.056173423336531e-10], [-5.670000000000003, 1.1111449538248053e-09, 7.044550498491731e-10], [-5.660000000000003, 1.1108303166196265e-09, 7.036613514088685e-10], [-5.650000000000003, 1.1108947095550548e-09, 7.032440185739119e-10], [-5.640000000000003, 1.1113110431892892e-09, 7.031975002291802e-10], [-5.6300000000000034, 1.1119772880263668e-09, 7.035272364674938e-10], [-5.620000000000004, 1.1130051325025647e-09, 7.041583982569932e-10], [-5.610000000000004, 1.1143083122888697e-09, 7.05117075838757e-10], [-5.600000000000004, 1.1158699519953075e-09, 7.063639673177136e-10]]}, \"id\": \"el260564554147024\"});\n",
       "      });\n",
       "    });\n",
       "}else{\n",
       "    // require.js not available: dynamically load d3 & mpld3\n",
       "    mpld3_load_lib(\"https://mpld3.github.io/js/d3.v3.min.js\", function(){\n",
       "         mpld3_load_lib(\"https://mpld3.github.io/js/mpld3.v0.2.js\", function(){\n",
       "                 \n",
       "                 mpld3.draw_figure(\"fig_el2605645541470242643115919\", {\"axes\": [{\"xlim\": [-5.8000000000000007, -5.6000000000000005], \"yscale\": \"linear\", \"axesbg\": \"#FFFFFF\", \"texts\": [{\"v_baseline\": \"hanging\", \"h_anchor\": \"middle\", \"color\": \"#000000\", \"text\": \"rSNRdu\", \"coordinates\": \"axes\", \"zorder\": 3, \"alpha\": 1, \"fontsize\": 20.0, \"position\": [0.5, -0.080645161290322578], \"rotation\": -0.0, \"id\": \"el260564553990992\"}, {\"v_baseline\": \"auto\", \"h_anchor\": \"middle\", \"color\": \"#000000\", \"text\": \"P(fail)\", \"coordinates\": \"axes\", \"zorder\": 3, \"alpha\": 1, \"fontsize\": 20.0, \"position\": [-0.070900537634408595, 0.5], \"rotation\": -90.0, \"id\": \"el260564552663760\"}, {\"v_baseline\": \"auto\", \"h_anchor\": \"middle\", \"color\": \"#000000\", \"text\": \"N=16\", \"coordinates\": \"axes\", \"zorder\": 3, \"alpha\": 1, \"fontsize\": 20.0, \"position\": [0.5, 1.0224014336917562], \"rotation\": -0.0, \"id\": \"el260564549801872\"}, {\"v_baseline\": \"auto\", \"h_anchor\": \"start\", \"color\": \"#000000\", \"text\": \"None\", \"coordinates\": \"axes\", \"zorder\": 1000003.0, \"alpha\": 1, \"fontsize\": 10.0, \"position\": [-0.16129032258064516, -0.16129032258064516], \"rotation\": -0.0, \"id\": \"el260564562198160\"}, {\"v_baseline\": \"auto\", \"h_anchor\": \"start\", \"color\": \"#000000\", \"text\": \"-3.7\", \"coordinates\": \"axes\", \"zorder\": 1000003.0, \"alpha\": 1, \"fontsize\": 12.0, \"position\": [0.90188172043010739, 0.13978494623655915], \"rotation\": -0.0, \"id\": \"el260564513428496\"}, {\"v_baseline\": \"auto\", \"h_anchor\": \"start\", \"color\": \"#000000\", \"text\": \"-3.6\", \"coordinates\": \"axes\", \"zorder\": 1000003.0, \"alpha\": 1, \"fontsize\": 12.0, \"position\": [0.90188172043010739, 0.060483870967741937], \"rotation\": -0.0, \"id\": \"el260564549841488\"}], \"zoomable\": true, \"images\": [], \"xdomain\": [-5.8000000000000007, -5.6000000000000005], \"ylim\": [6.9999999999999996e-10, 1.2e-09], \"paths\": [{\"edgecolor\": \"#000000\", \"facecolor\": \"#FFFFFF\", \"edgewidth\": 1.0, \"pathcodes\": [\"M\", \"L\", \"L\", \"L\", \"Z\"], \"yindex\": 1, \"coordinates\": \"axes\", \"dasharray\": \"10,0\", \"zorder\": 1000001.0, \"alpha\": 1, \"xindex\": 0, \"data\": \"data03\", \"id\": \"el260564513431120\"}], \"sharey\": [], \"sharex\": [], \"axesbgalpha\": null, \"axes\": [{\"scale\": \"linear\", \"tickformat\": null, \"grid\": {\"gridOn\": false}, \"fontsize\": 10.0, \"position\": \"bottom\", \"nticks\": 6, \"tickvalues\": null}, {\"scale\": \"linear\", \"tickformat\": null, \"grid\": {\"gridOn\": false}, \"fontsize\": 10.0, \"position\": \"left\", \"nticks\": 7, \"tickvalues\": null}], \"lines\": [{\"color\": \"#0000FF\", \"yindex\": 1, \"coordinates\": \"data\", \"dasharray\": \"10,0\", \"zorder\": 2, \"alpha\": 1, \"xindex\": 0, \"linewidth\": 2.0, \"data\": \"data01\", \"id\": \"el260564552181648\"}, {\"color\": \"#007F00\", \"yindex\": 2, \"coordinates\": \"data\", \"dasharray\": \"10,0\", \"zorder\": 2, \"alpha\": 1, \"xindex\": 0, \"linewidth\": 2.0, \"data\": \"data01\", \"id\": \"el260564552180048\"}, {\"color\": \"#0000FF\", \"yindex\": 1, \"coordinates\": \"axes\", \"dasharray\": \"10,0\", \"zorder\": 1000002.0, \"alpha\": 1, \"xindex\": 0, \"linewidth\": 2.0, \"data\": \"data02\", \"id\": \"el260564513431056\"}, {\"color\": \"#007F00\", \"yindex\": 2, \"coordinates\": \"axes\", \"dasharray\": \"10,0\", \"zorder\": 1000002.0, \"alpha\": 1, \"xindex\": 0, \"linewidth\": 2.0, \"data\": \"data02\", \"id\": \"el260564549843792\"}], \"markers\": [], \"id\": \"el260564562047504\", \"ydomain\": [6.9999999999999996e-10, 1.2e-09], \"collections\": [], \"xscale\": \"linear\", \"bbox\": [0.125, 0.125, 0.77500000000000002, 0.77500000000000002]}], \"height\": 320.0, \"width\": 480.0, \"plugins\": [{\"type\": \"reset\"}, {\"enabled\": false, \"button\": true, \"type\": \"zoom\"}, {\"enabled\": false, \"button\": true, \"type\": \"boxzoom\"}], \"data\": {\"data02\": [[0.8122759856630825, 0.15860215053763443, 0.0793010752688172], [0.8624551971326165, 0.15860215053763443, 0.0793010752688172]], \"data03\": [[0.7871863799283154, 0.026881720430107503], [0.982078853046595, 0.026881720430107503], [0.982078853046595, 0.20161290322580647], [0.7871863799283154, 0.20161290322580647]], \"data01\": [[-5.8, 1.1548493272783844e-09, 7.571783200432947e-10], [-5.79, 1.1482477191293583e-09, 7.496582243859962e-10], [-5.78, 1.1422589540899253e-09, 7.427661818937281e-10], [-5.7700000000000005, 1.1369358787760575e-09, 7.36586791560967e-10], [-5.760000000000001, 1.1321751314241624e-09, 7.310245742075949e-10], [-5.750000000000001, 1.1279830403054802e-09, 7.260672063580387e-10], [-5.740000000000001, 1.124305093469502e-09, 7.216818254107693e-10], [-5.730000000000001, 1.1211002126643166e-09, 7.178088123893644e-10], [-5.7200000000000015, 1.1183858283914105e-09, 7.14487025099686e-10], [-5.710000000000002, 1.1161037649642935e-09, 7.115880107377848e-10], [-5.700000000000002, 1.1143039824190737e-09, 7.091671694325896e-10], [-5.690000000000002, 1.1128583610187093e-09, 7.071732088803628e-10], [-5.680000000000002, 1.1118197473791724e-09, 7.056173423336531e-10], [-5.670000000000003, 1.1111449538248053e-09, 7.044550498491731e-10], [-5.660000000000003, 1.1108303166196265e-09, 7.036613514088685e-10], [-5.650000000000003, 1.1108947095550548e-09, 7.032440185739119e-10], [-5.640000000000003, 1.1113110431892892e-09, 7.031975002291802e-10], [-5.6300000000000034, 1.1119772880263668e-09, 7.035272364674938e-10], [-5.620000000000004, 1.1130051325025647e-09, 7.041583982569932e-10], [-5.610000000000004, 1.1143083122888697e-09, 7.05117075838757e-10], [-5.600000000000004, 1.1158699519953075e-09, 7.063639673177136e-10]]}, \"id\": \"el260564554147024\"});\n",
       "            })\n",
       "         });\n",
       "}\n",
       "</script>"
      ],
      "text/plain": [
       "<IPython.core.display.HTML object>"
      ]
     },
     "execution_count": 28,
     "metadata": {},
     "output_type": "execute_result"
    }
   ],
   "source": [
    "xn, yn = result.shape\n",
    "fig = figure()\n",
    "\n",
    "for xk in range(xn):\n",
    "    plot(rSNRdu_range, result[xk], lw=2.0, label='{0}'.format(rSNR3_range[xk]))\n",
    "    print rSNRdu_range[np.argmin(result[xk])]\n",
    "\n",
    "xlabel('rSNRdu', fontsize=20)\n",
    "ylabel('P(fail)', fontsize=20)\n",
    "title('N={0}'.format(N), fontsize=20)\n",
    "legend(loc=0)\n",
    "mpld3.display(fig)"
   ]
  },
  {
   "cell_type": "code",
   "execution_count": 35,
   "metadata": {
    "collapsed": false
   },
   "outputs": [
    {
     "name": "stdout",
     "output_type": "stream",
     "text": [
      "xn, yn (6, 5) size of matrix 30\n",
      "[[  1.01765540e-09   1.01266107e-09   1.01050246e-09   1.01090158e-09\n",
      "    1.01359809e-09]\n",
      " [  9.90734383e-10   9.85291182e-10   9.82683046e-10   9.82600112e-10\n",
      "    9.84805792e-10]\n",
      " [  9.64647140e-10   9.58760071e-10   9.55708512e-10   9.55168500e-10\n",
      "    9.56888235e-10]\n",
      " [  9.39349820e-10   9.33048860e-10   9.29559874e-10   9.28582100e-10\n",
      "    9.29841315e-10]\n",
      " [  9.14835541e-10   9.08139897e-10   9.04213260e-10   9.02802166e-10\n",
      "    9.03631614e-10]\n",
      " [  8.91068108e-10   8.83976004e-10   8.79657902e-10   8.77831141e-10\n",
      "    8.78219164e-10]]\n",
      "CPU times: user 2min 21s, sys: 706 ms, total: 2min 22s\n",
      "Wall time: 2min 25s\n"
     ]
    },
    {
     "name": "stderr",
     "output_type": "stream",
     "text": [
      "<string>:182: RuntimeWarning: divide by zero encountered in log10\n"
     ]
    }
   ],
   "source": [
    "%%time\n",
    "%run ../optimize_pkg_2.py\n",
    "N = 16\n",
    "tSNR_range = np.arange(4.4, 4.45+0.001, 0.01)\n",
    "rSNR3_range = np.arange(-3.59, -3.55+0.001, 0.01)\n",
    "rSNRdu_range = [-5.65]\n",
    "\n",
    "result = optimize_3_graphical(N, rSNRdu_range, rSNR3_range, tSNR_range, filepath_down, filepath_up, protocolbit, False)\n",
    "\n",
    "print result"
   ]
  },
  {
   "cell_type": "code",
   "execution_count": 36,
   "metadata": {
    "collapsed": false
   },
   "outputs": [
    {
     "name": "stdout",
     "output_type": "stream",
     "text": [
      "-3.57\n",
      "-3.56\n",
      "-3.56\n",
      "-3.56\n",
      "-3.56\n",
      "-3.56\n"
     ]
    },
    {
     "data": {
      "text/html": [
       "\n",
       "\n",
       "<style>\n",
       "\n",
       "</style>\n",
       "\n",
       "<div id=\"fig_el2605645617380642840418355\"></div>\n",
       "<script>\n",
       "function mpld3_load_lib(url, callback){\n",
       "  var s = document.createElement('script');\n",
       "  s.src = url;\n",
       "  s.async = true;\n",
       "  s.onreadystatechange = s.onload = callback;\n",
       "  s.onerror = function(){console.warn(\"failed to load library \" + url);};\n",
       "  document.getElementsByTagName(\"head\")[0].appendChild(s);\n",
       "}\n",
       "\n",
       "if(typeof(mpld3) !== \"undefined\" && mpld3._mpld3IsLoaded){\n",
       "   // already loaded: just create the figure\n",
       "   !function(mpld3){\n",
       "       \n",
       "       mpld3.draw_figure(\"fig_el2605645617380642840418355\", {\"axes\": [{\"xlim\": [-3.5899999999999999, -3.5499999999999998], \"yscale\": \"linear\", \"axesbg\": \"#FFFFFF\", \"texts\": [{\"v_baseline\": \"hanging\", \"h_anchor\": \"middle\", \"color\": \"#000000\", \"text\": \"rSNR3\", \"coordinates\": \"axes\", \"zorder\": 3, \"alpha\": 1, \"fontsize\": 20.0, \"position\": [0.5, -0.080645161290322578], \"rotation\": -0.0, \"id\": \"el260564552293520\"}, {\"v_baseline\": \"auto\", \"h_anchor\": \"middle\", \"color\": \"#000000\", \"text\": \"P(fail)\", \"coordinates\": \"axes\", \"zorder\": 3, \"alpha\": 1, \"fontsize\": 20.0, \"position\": [-0.090305779569892469, 0.5], \"rotation\": -90.0, \"id\": \"el260564513716688\"}, {\"v_baseline\": \"auto\", \"h_anchor\": \"middle\", \"color\": \"#000000\", \"text\": \"N=16\", \"coordinates\": \"axes\", \"zorder\": 3, \"alpha\": 1, \"fontsize\": 20.0, \"position\": [0.5, 1.0224014336917562], \"rotation\": -0.0, \"id\": \"el260564504309712\"}, {\"v_baseline\": \"auto\", \"h_anchor\": \"start\", \"color\": \"#000000\", \"text\": \"None\", \"coordinates\": \"axes\", \"zorder\": 1000003.0, \"alpha\": 1, \"fontsize\": 10.0, \"position\": [-0.16129032258064516, -0.16129032258064516], \"rotation\": -0.0, \"id\": \"el260564562315984\"}, {\"v_baseline\": \"auto\", \"h_anchor\": \"start\", \"color\": \"#000000\", \"text\": \"Protocol\", \"coordinates\": \"axes\", \"zorder\": 1000003.0, \"alpha\": 1, \"fontsize\": 12.0, \"position\": [0.13261648745519719, 0.53629032258064524], \"rotation\": -0.0, \"id\": \"el260564552050512\"}, {\"v_baseline\": \"auto\", \"h_anchor\": \"start\", \"color\": \"#000000\", \"text\": \"4.4\", \"coordinates\": \"axes\", \"zorder\": 1000003.0, \"alpha\": 1, \"fontsize\": 12.0, \"position\": [0.13261648745519719, 0.45698924731182811], \"rotation\": -0.0, \"id\": \"el260564552010448\"}, {\"v_baseline\": \"auto\", \"h_anchor\": \"start\", \"color\": \"#000000\", \"text\": \"4.41\", \"coordinates\": \"axes\", \"zorder\": 1000003.0, \"alpha\": 1, \"fontsize\": 12.0, \"position\": [0.13261648745519719, 0.37768817204301086], \"rotation\": -0.0, \"id\": \"el260564504387280\"}, {\"v_baseline\": \"auto\", \"h_anchor\": \"start\", \"color\": \"#000000\", \"text\": \"4.42\", \"coordinates\": \"axes\", \"zorder\": 1000003.0, \"alpha\": 1, \"fontsize\": 12.0, \"position\": [0.13261648745519719, 0.29838709677419362], \"rotation\": -0.0, \"id\": \"el260564504387088\"}, {\"v_baseline\": \"auto\", \"h_anchor\": \"start\", \"color\": \"#000000\", \"text\": \"4.43\", \"coordinates\": \"axes\", \"zorder\": 1000003.0, \"alpha\": 1, \"fontsize\": 12.0, \"position\": [0.13261648745519719, 0.21908602150537645], \"rotation\": -0.0, \"id\": \"el260564562887440\"}, {\"v_baseline\": \"auto\", \"h_anchor\": \"start\", \"color\": \"#000000\", \"text\": \"4.44\", \"coordinates\": \"axes\", \"zorder\": 1000003.0, \"alpha\": 1, \"fontsize\": 12.0, \"position\": [0.13261648745519719, 0.13978494623655921], \"rotation\": -0.0, \"id\": \"el260564554259216\"}, {\"v_baseline\": \"auto\", \"h_anchor\": \"start\", \"color\": \"#000000\", \"text\": \"4.45\", \"coordinates\": \"axes\", \"zorder\": 1000003.0, \"alpha\": 1, \"fontsize\": 12.0, \"position\": [0.13261648745519719, 0.060483870967742048], \"rotation\": -0.0, \"id\": \"el260564504384848\"}], \"zoomable\": true, \"images\": [], \"xdomain\": [-3.5899999999999999, -3.5499999999999998], \"ylim\": [8.5999999999999993e-10, 1.02e-09], \"paths\": [{\"edgecolor\": \"#000000\", \"facecolor\": \"#FFFFFF\", \"edgewidth\": 1.0, \"pathcodes\": [\"M\", \"L\", \"L\", \"L\", \"Z\"], \"yindex\": 1, \"coordinates\": \"axes\", \"dasharray\": \"10,0\", \"zorder\": 1000001.0, \"alpha\": 1, \"xindex\": 0, \"data\": \"data03\", \"id\": \"el260564552050320\"}], \"sharey\": [], \"sharex\": [], \"axesbgalpha\": null, \"axes\": [{\"scale\": \"linear\", \"tickformat\": null, \"grid\": {\"gridOn\": false}, \"fontsize\": 10.0, \"position\": \"bottom\", \"nticks\": 10, \"tickvalues\": null}, {\"scale\": \"linear\", \"tickformat\": null, \"grid\": {\"gridOn\": false}, \"fontsize\": 10.0, \"position\": \"left\", \"nticks\": 10, \"tickvalues\": null}], \"lines\": [{\"color\": \"#0000FF\", \"yindex\": 1, \"coordinates\": \"data\", \"dasharray\": \"10,0\", \"zorder\": 2, \"alpha\": 1, \"xindex\": 0, \"linewidth\": 2.0, \"data\": \"data01\", \"id\": \"el260564561887440\"}, {\"color\": \"#007F00\", \"yindex\": 2, \"coordinates\": \"data\", \"dasharray\": \"10,0\", \"zorder\": 2, \"alpha\": 1, \"xindex\": 0, \"linewidth\": 2.0, \"data\": \"data01\", \"id\": \"el260564552228240\"}, {\"color\": \"#FF0000\", \"yindex\": 3, \"coordinates\": \"data\", \"dasharray\": \"10,0\", \"zorder\": 2, \"alpha\": 1, \"xindex\": 0, \"linewidth\": 2.0, \"data\": \"data01\", \"id\": \"el260564549843024\"}, {\"color\": \"#00BFBF\", \"yindex\": 4, \"coordinates\": \"data\", \"dasharray\": \"10,0\", \"zorder\": 2, \"alpha\": 1, \"xindex\": 0, \"linewidth\": 2.0, \"data\": \"data01\", \"id\": \"el260564549843216\"}, {\"color\": \"#BF00BF\", \"yindex\": 5, \"coordinates\": \"data\", \"dasharray\": \"10,0\", \"zorder\": 2, \"alpha\": 1, \"xindex\": 0, \"linewidth\": 2.0, \"data\": \"data01\", \"id\": \"el260564554373136\"}, {\"color\": \"#BFBF00\", \"yindex\": 6, \"coordinates\": \"data\", \"dasharray\": \"10,0\", \"zorder\": 2, \"alpha\": 1, \"xindex\": 0, \"linewidth\": 2.0, \"data\": \"data01\", \"id\": \"el260564554374096\"}, {\"color\": \"#000000\", \"yindex\": 7, \"coordinates\": \"data\", \"dasharray\": \"10,0\", \"zorder\": 2, \"alpha\": 1, \"xindex\": 0, \"linewidth\": 2.0, \"data\": \"data01\", \"id\": \"el260564552050192\"}, {\"color\": \"#0000FF\", \"yindex\": 1, \"coordinates\": \"axes\", \"dasharray\": \"10,0\", \"zorder\": 1000002.0, \"alpha\": 1, \"xindex\": 0, \"linewidth\": 2.0, \"data\": \"data02\", \"id\": \"el260564552010704\"}, {\"color\": \"#007F00\", \"yindex\": 2, \"coordinates\": \"axes\", \"dasharray\": \"10,0\", \"zorder\": 1000002.0, \"alpha\": 1, \"xindex\": 0, \"linewidth\": 2.0, \"data\": \"data02\", \"id\": \"el260564552009616\"}, {\"color\": \"#FF0000\", \"yindex\": 3, \"coordinates\": \"axes\", \"dasharray\": \"10,0\", \"zorder\": 1000002.0, \"alpha\": 1, \"xindex\": 0, \"linewidth\": 2.0, \"data\": \"data02\", \"id\": \"el260564504384144\"}, {\"color\": \"#00BFBF\", \"yindex\": 4, \"coordinates\": \"axes\", \"dasharray\": \"10,0\", \"zorder\": 1000002.0, \"alpha\": 1, \"xindex\": 0, \"linewidth\": 2.0, \"data\": \"data02\", \"id\": \"el260564504385360\"}, {\"color\": \"#BF00BF\", \"yindex\": 5, \"coordinates\": \"axes\", \"dasharray\": \"10,0\", \"zorder\": 1000002.0, \"alpha\": 1, \"xindex\": 0, \"linewidth\": 2.0, \"data\": \"data02\", \"id\": \"el260564562889808\"}, {\"color\": \"#BFBF00\", \"yindex\": 6, \"coordinates\": \"axes\", \"dasharray\": \"10,0\", \"zorder\": 1000002.0, \"alpha\": 1, \"xindex\": 0, \"linewidth\": 2.0, \"data\": \"data02\", \"id\": \"el260564554258384\"}, {\"color\": \"#000000\", \"yindex\": 7, \"coordinates\": \"axes\", \"dasharray\": \"10,0\", \"zorder\": 1000002.0, \"alpha\": 1, \"xindex\": 0, \"linewidth\": 2.0, \"data\": \"data02\", \"id\": \"el260564552009296\"}], \"markers\": [], \"id\": \"el260564561739600\", \"ydomain\": [8.5999999999999993e-10, 1.02e-09], \"collections\": [], \"xscale\": \"linear\", \"bbox\": [0.125, 0.125, 0.77500000000000002, 0.77500000000000002]}], \"height\": 320.0, \"width\": 480.0, \"plugins\": [{\"type\": \"reset\"}, {\"enabled\": false, \"button\": true, \"type\": \"zoom\"}, {\"enabled\": false, \"button\": true, \"type\": \"boxzoom\"}], \"data\": {\"data02\": [[0.043010752688172074, 0.5551075268817205, 0.47580645161290336, 0.3965053763440861, 0.31720430107526887, 0.23790322580645173, 0.1586021505376345, 0.07930107526881731], [0.09318996415770613, 0.5551075268817205, 0.47580645161290336, 0.3965053763440861, 0.31720430107526887, 0.23790322580645173, 0.1586021505376345, 0.07930107526881731]], \"data03\": [[0.017921146953405048, 0.02688172043010756], [0.2864443324372761, 0.02688172043010756], [0.2864443324372761, 0.5981182795698926], [0.017921146953405048, 0.5981182795698926]], \"data01\": [[-3.59, 1e-09, 1.0176554043894726e-09, 9.907343834214544e-10, 9.646471399449297e-10, 9.393498201504258e-10, 9.1483554065519e-10, 8.910681081886196e-10], [-3.58, 1e-09, 1.0126610661131963e-09, 9.852911819763222e-10, 9.587600713345523e-10, 9.330488603964682e-10, 9.081398966159782e-10, 8.839760035073141e-10], [-3.5700000000000003, 1e-09, 1.0105024594864176e-09, 9.826830460468727e-10, 9.557085123290676e-10, 9.295598735192812e-10, 9.042132598224839e-10, 8.79657902075337e-10], [-3.5600000000000005, 1e-09, 1.0109015846637703e-09, 9.826001123869332e-10, 9.5516849984989e-10, 9.285821001014938e-10, 9.028021663581853e-10, 8.778311411106188e-10], [-3.5500000000000007, 1e-09, 1.01359809434598e-09, 9.84805792469956e-10, 9.568882353150343e-10, 9.298413150560236e-10, 9.036316139798828e-10, 8.782191640577253e-10]]}, \"id\": \"el260564561738064\"});\n",
       "   }(mpld3);\n",
       "}else if(typeof define === \"function\" && define.amd){\n",
       "   // require.js is available: use it to load d3/mpld3\n",
       "   require.config({paths: {d3: \"https://mpld3.github.io/js/d3.v3.min\"}});\n",
       "   require([\"d3\"], function(d3){\n",
       "      window.d3 = d3;\n",
       "      mpld3_load_lib(\"https://mpld3.github.io/js/mpld3.v0.2.js\", function(){\n",
       "         \n",
       "         mpld3.draw_figure(\"fig_el2605645617380642840418355\", {\"axes\": [{\"xlim\": [-3.5899999999999999, -3.5499999999999998], \"yscale\": \"linear\", \"axesbg\": \"#FFFFFF\", \"texts\": [{\"v_baseline\": \"hanging\", \"h_anchor\": \"middle\", \"color\": \"#000000\", \"text\": \"rSNR3\", \"coordinates\": \"axes\", \"zorder\": 3, \"alpha\": 1, \"fontsize\": 20.0, \"position\": [0.5, -0.080645161290322578], \"rotation\": -0.0, \"id\": \"el260564552293520\"}, {\"v_baseline\": \"auto\", \"h_anchor\": \"middle\", \"color\": \"#000000\", \"text\": \"P(fail)\", \"coordinates\": \"axes\", \"zorder\": 3, \"alpha\": 1, \"fontsize\": 20.0, \"position\": [-0.090305779569892469, 0.5], \"rotation\": -90.0, \"id\": \"el260564513716688\"}, {\"v_baseline\": \"auto\", \"h_anchor\": \"middle\", \"color\": \"#000000\", \"text\": \"N=16\", \"coordinates\": \"axes\", \"zorder\": 3, \"alpha\": 1, \"fontsize\": 20.0, \"position\": [0.5, 1.0224014336917562], \"rotation\": -0.0, \"id\": \"el260564504309712\"}, {\"v_baseline\": \"auto\", \"h_anchor\": \"start\", \"color\": \"#000000\", \"text\": \"None\", \"coordinates\": \"axes\", \"zorder\": 1000003.0, \"alpha\": 1, \"fontsize\": 10.0, \"position\": [-0.16129032258064516, -0.16129032258064516], \"rotation\": -0.0, \"id\": \"el260564562315984\"}, {\"v_baseline\": \"auto\", \"h_anchor\": \"start\", \"color\": \"#000000\", \"text\": \"Protocol\", \"coordinates\": \"axes\", \"zorder\": 1000003.0, \"alpha\": 1, \"fontsize\": 12.0, \"position\": [0.13261648745519719, 0.53629032258064524], \"rotation\": -0.0, \"id\": \"el260564552050512\"}, {\"v_baseline\": \"auto\", \"h_anchor\": \"start\", \"color\": \"#000000\", \"text\": \"4.4\", \"coordinates\": \"axes\", \"zorder\": 1000003.0, \"alpha\": 1, \"fontsize\": 12.0, \"position\": [0.13261648745519719, 0.45698924731182811], \"rotation\": -0.0, \"id\": \"el260564552010448\"}, {\"v_baseline\": \"auto\", \"h_anchor\": \"start\", \"color\": \"#000000\", \"text\": \"4.41\", \"coordinates\": \"axes\", \"zorder\": 1000003.0, \"alpha\": 1, \"fontsize\": 12.0, \"position\": [0.13261648745519719, 0.37768817204301086], \"rotation\": -0.0, \"id\": \"el260564504387280\"}, {\"v_baseline\": \"auto\", \"h_anchor\": \"start\", \"color\": \"#000000\", \"text\": \"4.42\", \"coordinates\": \"axes\", \"zorder\": 1000003.0, \"alpha\": 1, \"fontsize\": 12.0, \"position\": [0.13261648745519719, 0.29838709677419362], \"rotation\": -0.0, \"id\": \"el260564504387088\"}, {\"v_baseline\": \"auto\", \"h_anchor\": \"start\", \"color\": \"#000000\", \"text\": \"4.43\", \"coordinates\": \"axes\", \"zorder\": 1000003.0, \"alpha\": 1, \"fontsize\": 12.0, \"position\": [0.13261648745519719, 0.21908602150537645], \"rotation\": -0.0, \"id\": \"el260564562887440\"}, {\"v_baseline\": \"auto\", \"h_anchor\": \"start\", \"color\": \"#000000\", \"text\": \"4.44\", \"coordinates\": \"axes\", \"zorder\": 1000003.0, \"alpha\": 1, \"fontsize\": 12.0, \"position\": [0.13261648745519719, 0.13978494623655921], \"rotation\": -0.0, \"id\": \"el260564554259216\"}, {\"v_baseline\": \"auto\", \"h_anchor\": \"start\", \"color\": \"#000000\", \"text\": \"4.45\", \"coordinates\": \"axes\", \"zorder\": 1000003.0, \"alpha\": 1, \"fontsize\": 12.0, \"position\": [0.13261648745519719, 0.060483870967742048], \"rotation\": -0.0, \"id\": \"el260564504384848\"}], \"zoomable\": true, \"images\": [], \"xdomain\": [-3.5899999999999999, -3.5499999999999998], \"ylim\": [8.5999999999999993e-10, 1.02e-09], \"paths\": [{\"edgecolor\": \"#000000\", \"facecolor\": \"#FFFFFF\", \"edgewidth\": 1.0, \"pathcodes\": [\"M\", \"L\", \"L\", \"L\", \"Z\"], \"yindex\": 1, \"coordinates\": \"axes\", \"dasharray\": \"10,0\", \"zorder\": 1000001.0, \"alpha\": 1, \"xindex\": 0, \"data\": \"data03\", \"id\": \"el260564552050320\"}], \"sharey\": [], \"sharex\": [], \"axesbgalpha\": null, \"axes\": [{\"scale\": \"linear\", \"tickformat\": null, \"grid\": {\"gridOn\": false}, \"fontsize\": 10.0, \"position\": \"bottom\", \"nticks\": 10, \"tickvalues\": null}, {\"scale\": \"linear\", \"tickformat\": null, \"grid\": {\"gridOn\": false}, \"fontsize\": 10.0, \"position\": \"left\", \"nticks\": 10, \"tickvalues\": null}], \"lines\": [{\"color\": \"#0000FF\", \"yindex\": 1, \"coordinates\": \"data\", \"dasharray\": \"10,0\", \"zorder\": 2, \"alpha\": 1, \"xindex\": 0, \"linewidth\": 2.0, \"data\": \"data01\", \"id\": \"el260564561887440\"}, {\"color\": \"#007F00\", \"yindex\": 2, \"coordinates\": \"data\", \"dasharray\": \"10,0\", \"zorder\": 2, \"alpha\": 1, \"xindex\": 0, \"linewidth\": 2.0, \"data\": \"data01\", \"id\": \"el260564552228240\"}, {\"color\": \"#FF0000\", \"yindex\": 3, \"coordinates\": \"data\", \"dasharray\": \"10,0\", \"zorder\": 2, \"alpha\": 1, \"xindex\": 0, \"linewidth\": 2.0, \"data\": \"data01\", \"id\": \"el260564549843024\"}, {\"color\": \"#00BFBF\", \"yindex\": 4, \"coordinates\": \"data\", \"dasharray\": \"10,0\", \"zorder\": 2, \"alpha\": 1, \"xindex\": 0, \"linewidth\": 2.0, \"data\": \"data01\", \"id\": \"el260564549843216\"}, {\"color\": \"#BF00BF\", \"yindex\": 5, \"coordinates\": \"data\", \"dasharray\": \"10,0\", \"zorder\": 2, \"alpha\": 1, \"xindex\": 0, \"linewidth\": 2.0, \"data\": \"data01\", \"id\": \"el260564554373136\"}, {\"color\": \"#BFBF00\", \"yindex\": 6, \"coordinates\": \"data\", \"dasharray\": \"10,0\", \"zorder\": 2, \"alpha\": 1, \"xindex\": 0, \"linewidth\": 2.0, \"data\": \"data01\", \"id\": \"el260564554374096\"}, {\"color\": \"#000000\", \"yindex\": 7, \"coordinates\": \"data\", \"dasharray\": \"10,0\", \"zorder\": 2, \"alpha\": 1, \"xindex\": 0, \"linewidth\": 2.0, \"data\": \"data01\", \"id\": \"el260564552050192\"}, {\"color\": \"#0000FF\", \"yindex\": 1, \"coordinates\": \"axes\", \"dasharray\": \"10,0\", \"zorder\": 1000002.0, \"alpha\": 1, \"xindex\": 0, \"linewidth\": 2.0, \"data\": \"data02\", \"id\": \"el260564552010704\"}, {\"color\": \"#007F00\", \"yindex\": 2, \"coordinates\": \"axes\", \"dasharray\": \"10,0\", \"zorder\": 1000002.0, \"alpha\": 1, \"xindex\": 0, \"linewidth\": 2.0, \"data\": \"data02\", \"id\": \"el260564552009616\"}, {\"color\": \"#FF0000\", \"yindex\": 3, \"coordinates\": \"axes\", \"dasharray\": \"10,0\", \"zorder\": 1000002.0, \"alpha\": 1, \"xindex\": 0, \"linewidth\": 2.0, \"data\": \"data02\", \"id\": \"el260564504384144\"}, {\"color\": \"#00BFBF\", \"yindex\": 4, \"coordinates\": \"axes\", \"dasharray\": \"10,0\", \"zorder\": 1000002.0, \"alpha\": 1, \"xindex\": 0, \"linewidth\": 2.0, \"data\": \"data02\", \"id\": \"el260564504385360\"}, {\"color\": \"#BF00BF\", \"yindex\": 5, \"coordinates\": \"axes\", \"dasharray\": \"10,0\", \"zorder\": 1000002.0, \"alpha\": 1, \"xindex\": 0, \"linewidth\": 2.0, \"data\": \"data02\", \"id\": \"el260564562889808\"}, {\"color\": \"#BFBF00\", \"yindex\": 6, \"coordinates\": \"axes\", \"dasharray\": \"10,0\", \"zorder\": 1000002.0, \"alpha\": 1, \"xindex\": 0, \"linewidth\": 2.0, \"data\": \"data02\", \"id\": \"el260564554258384\"}, {\"color\": \"#000000\", \"yindex\": 7, \"coordinates\": \"axes\", \"dasharray\": \"10,0\", \"zorder\": 1000002.0, \"alpha\": 1, \"xindex\": 0, \"linewidth\": 2.0, \"data\": \"data02\", \"id\": \"el260564552009296\"}], \"markers\": [], \"id\": \"el260564561739600\", \"ydomain\": [8.5999999999999993e-10, 1.02e-09], \"collections\": [], \"xscale\": \"linear\", \"bbox\": [0.125, 0.125, 0.77500000000000002, 0.77500000000000002]}], \"height\": 320.0, \"width\": 480.0, \"plugins\": [{\"type\": \"reset\"}, {\"enabled\": false, \"button\": true, \"type\": \"zoom\"}, {\"enabled\": false, \"button\": true, \"type\": \"boxzoom\"}], \"data\": {\"data02\": [[0.043010752688172074, 0.5551075268817205, 0.47580645161290336, 0.3965053763440861, 0.31720430107526887, 0.23790322580645173, 0.1586021505376345, 0.07930107526881731], [0.09318996415770613, 0.5551075268817205, 0.47580645161290336, 0.3965053763440861, 0.31720430107526887, 0.23790322580645173, 0.1586021505376345, 0.07930107526881731]], \"data03\": [[0.017921146953405048, 0.02688172043010756], [0.2864443324372761, 0.02688172043010756], [0.2864443324372761, 0.5981182795698926], [0.017921146953405048, 0.5981182795698926]], \"data01\": [[-3.59, 1e-09, 1.0176554043894726e-09, 9.907343834214544e-10, 9.646471399449297e-10, 9.393498201504258e-10, 9.1483554065519e-10, 8.910681081886196e-10], [-3.58, 1e-09, 1.0126610661131963e-09, 9.852911819763222e-10, 9.587600713345523e-10, 9.330488603964682e-10, 9.081398966159782e-10, 8.839760035073141e-10], [-3.5700000000000003, 1e-09, 1.0105024594864176e-09, 9.826830460468727e-10, 9.557085123290676e-10, 9.295598735192812e-10, 9.042132598224839e-10, 8.79657902075337e-10], [-3.5600000000000005, 1e-09, 1.0109015846637703e-09, 9.826001123869332e-10, 9.5516849984989e-10, 9.285821001014938e-10, 9.028021663581853e-10, 8.778311411106188e-10], [-3.5500000000000007, 1e-09, 1.01359809434598e-09, 9.84805792469956e-10, 9.568882353150343e-10, 9.298413150560236e-10, 9.036316139798828e-10, 8.782191640577253e-10]]}, \"id\": \"el260564561738064\"});\n",
       "      });\n",
       "    });\n",
       "}else{\n",
       "    // require.js not available: dynamically load d3 & mpld3\n",
       "    mpld3_load_lib(\"https://mpld3.github.io/js/d3.v3.min.js\", function(){\n",
       "         mpld3_load_lib(\"https://mpld3.github.io/js/mpld3.v0.2.js\", function(){\n",
       "                 \n",
       "                 mpld3.draw_figure(\"fig_el2605645617380642840418355\", {\"axes\": [{\"xlim\": [-3.5899999999999999, -3.5499999999999998], \"yscale\": \"linear\", \"axesbg\": \"#FFFFFF\", \"texts\": [{\"v_baseline\": \"hanging\", \"h_anchor\": \"middle\", \"color\": \"#000000\", \"text\": \"rSNR3\", \"coordinates\": \"axes\", \"zorder\": 3, \"alpha\": 1, \"fontsize\": 20.0, \"position\": [0.5, -0.080645161290322578], \"rotation\": -0.0, \"id\": \"el260564552293520\"}, {\"v_baseline\": \"auto\", \"h_anchor\": \"middle\", \"color\": \"#000000\", \"text\": \"P(fail)\", \"coordinates\": \"axes\", \"zorder\": 3, \"alpha\": 1, \"fontsize\": 20.0, \"position\": [-0.090305779569892469, 0.5], \"rotation\": -90.0, \"id\": \"el260564513716688\"}, {\"v_baseline\": \"auto\", \"h_anchor\": \"middle\", \"color\": \"#000000\", \"text\": \"N=16\", \"coordinates\": \"axes\", \"zorder\": 3, \"alpha\": 1, \"fontsize\": 20.0, \"position\": [0.5, 1.0224014336917562], \"rotation\": -0.0, \"id\": \"el260564504309712\"}, {\"v_baseline\": \"auto\", \"h_anchor\": \"start\", \"color\": \"#000000\", \"text\": \"None\", \"coordinates\": \"axes\", \"zorder\": 1000003.0, \"alpha\": 1, \"fontsize\": 10.0, \"position\": [-0.16129032258064516, -0.16129032258064516], \"rotation\": -0.0, \"id\": \"el260564562315984\"}, {\"v_baseline\": \"auto\", \"h_anchor\": \"start\", \"color\": \"#000000\", \"text\": \"Protocol\", \"coordinates\": \"axes\", \"zorder\": 1000003.0, \"alpha\": 1, \"fontsize\": 12.0, \"position\": [0.13261648745519719, 0.53629032258064524], \"rotation\": -0.0, \"id\": \"el260564552050512\"}, {\"v_baseline\": \"auto\", \"h_anchor\": \"start\", \"color\": \"#000000\", \"text\": \"4.4\", \"coordinates\": \"axes\", \"zorder\": 1000003.0, \"alpha\": 1, \"fontsize\": 12.0, \"position\": [0.13261648745519719, 0.45698924731182811], \"rotation\": -0.0, \"id\": \"el260564552010448\"}, {\"v_baseline\": \"auto\", \"h_anchor\": \"start\", \"color\": \"#000000\", \"text\": \"4.41\", \"coordinates\": \"axes\", \"zorder\": 1000003.0, \"alpha\": 1, \"fontsize\": 12.0, \"position\": [0.13261648745519719, 0.37768817204301086], \"rotation\": -0.0, \"id\": \"el260564504387280\"}, {\"v_baseline\": \"auto\", \"h_anchor\": \"start\", \"color\": \"#000000\", \"text\": \"4.42\", \"coordinates\": \"axes\", \"zorder\": 1000003.0, \"alpha\": 1, \"fontsize\": 12.0, \"position\": [0.13261648745519719, 0.29838709677419362], \"rotation\": -0.0, \"id\": \"el260564504387088\"}, {\"v_baseline\": \"auto\", \"h_anchor\": \"start\", \"color\": \"#000000\", \"text\": \"4.43\", \"coordinates\": \"axes\", \"zorder\": 1000003.0, \"alpha\": 1, \"fontsize\": 12.0, \"position\": [0.13261648745519719, 0.21908602150537645], \"rotation\": -0.0, \"id\": \"el260564562887440\"}, {\"v_baseline\": \"auto\", \"h_anchor\": \"start\", \"color\": \"#000000\", \"text\": \"4.44\", \"coordinates\": \"axes\", \"zorder\": 1000003.0, \"alpha\": 1, \"fontsize\": 12.0, \"position\": [0.13261648745519719, 0.13978494623655921], \"rotation\": -0.0, \"id\": \"el260564554259216\"}, {\"v_baseline\": \"auto\", \"h_anchor\": \"start\", \"color\": \"#000000\", \"text\": \"4.45\", \"coordinates\": \"axes\", \"zorder\": 1000003.0, \"alpha\": 1, \"fontsize\": 12.0, \"position\": [0.13261648745519719, 0.060483870967742048], \"rotation\": -0.0, \"id\": \"el260564504384848\"}], \"zoomable\": true, \"images\": [], \"xdomain\": [-3.5899999999999999, -3.5499999999999998], \"ylim\": [8.5999999999999993e-10, 1.02e-09], \"paths\": [{\"edgecolor\": \"#000000\", \"facecolor\": \"#FFFFFF\", \"edgewidth\": 1.0, \"pathcodes\": [\"M\", \"L\", \"L\", \"L\", \"Z\"], \"yindex\": 1, \"coordinates\": \"axes\", \"dasharray\": \"10,0\", \"zorder\": 1000001.0, \"alpha\": 1, \"xindex\": 0, \"data\": \"data03\", \"id\": \"el260564552050320\"}], \"sharey\": [], \"sharex\": [], \"axesbgalpha\": null, \"axes\": [{\"scale\": \"linear\", \"tickformat\": null, \"grid\": {\"gridOn\": false}, \"fontsize\": 10.0, \"position\": \"bottom\", \"nticks\": 10, \"tickvalues\": null}, {\"scale\": \"linear\", \"tickformat\": null, \"grid\": {\"gridOn\": false}, \"fontsize\": 10.0, \"position\": \"left\", \"nticks\": 10, \"tickvalues\": null}], \"lines\": [{\"color\": \"#0000FF\", \"yindex\": 1, \"coordinates\": \"data\", \"dasharray\": \"10,0\", \"zorder\": 2, \"alpha\": 1, \"xindex\": 0, \"linewidth\": 2.0, \"data\": \"data01\", \"id\": \"el260564561887440\"}, {\"color\": \"#007F00\", \"yindex\": 2, \"coordinates\": \"data\", \"dasharray\": \"10,0\", \"zorder\": 2, \"alpha\": 1, \"xindex\": 0, \"linewidth\": 2.0, \"data\": \"data01\", \"id\": \"el260564552228240\"}, {\"color\": \"#FF0000\", \"yindex\": 3, \"coordinates\": \"data\", \"dasharray\": \"10,0\", \"zorder\": 2, \"alpha\": 1, \"xindex\": 0, \"linewidth\": 2.0, \"data\": \"data01\", \"id\": \"el260564549843024\"}, {\"color\": \"#00BFBF\", \"yindex\": 4, \"coordinates\": \"data\", \"dasharray\": \"10,0\", \"zorder\": 2, \"alpha\": 1, \"xindex\": 0, \"linewidth\": 2.0, \"data\": \"data01\", \"id\": \"el260564549843216\"}, {\"color\": \"#BF00BF\", \"yindex\": 5, \"coordinates\": \"data\", \"dasharray\": \"10,0\", \"zorder\": 2, \"alpha\": 1, \"xindex\": 0, \"linewidth\": 2.0, \"data\": \"data01\", \"id\": \"el260564554373136\"}, {\"color\": \"#BFBF00\", \"yindex\": 6, \"coordinates\": \"data\", \"dasharray\": \"10,0\", \"zorder\": 2, \"alpha\": 1, \"xindex\": 0, \"linewidth\": 2.0, \"data\": \"data01\", \"id\": \"el260564554374096\"}, {\"color\": \"#000000\", \"yindex\": 7, \"coordinates\": \"data\", \"dasharray\": \"10,0\", \"zorder\": 2, \"alpha\": 1, \"xindex\": 0, \"linewidth\": 2.0, \"data\": \"data01\", \"id\": \"el260564552050192\"}, {\"color\": \"#0000FF\", \"yindex\": 1, \"coordinates\": \"axes\", \"dasharray\": \"10,0\", \"zorder\": 1000002.0, \"alpha\": 1, \"xindex\": 0, \"linewidth\": 2.0, \"data\": \"data02\", \"id\": \"el260564552010704\"}, {\"color\": \"#007F00\", \"yindex\": 2, \"coordinates\": \"axes\", \"dasharray\": \"10,0\", \"zorder\": 1000002.0, \"alpha\": 1, \"xindex\": 0, \"linewidth\": 2.0, \"data\": \"data02\", \"id\": \"el260564552009616\"}, {\"color\": \"#FF0000\", \"yindex\": 3, \"coordinates\": \"axes\", \"dasharray\": \"10,0\", \"zorder\": 1000002.0, \"alpha\": 1, \"xindex\": 0, \"linewidth\": 2.0, \"data\": \"data02\", \"id\": \"el260564504384144\"}, {\"color\": \"#00BFBF\", \"yindex\": 4, \"coordinates\": \"axes\", \"dasharray\": \"10,0\", \"zorder\": 1000002.0, \"alpha\": 1, \"xindex\": 0, \"linewidth\": 2.0, \"data\": \"data02\", \"id\": \"el260564504385360\"}, {\"color\": \"#BF00BF\", \"yindex\": 5, \"coordinates\": \"axes\", \"dasharray\": \"10,0\", \"zorder\": 1000002.0, \"alpha\": 1, \"xindex\": 0, \"linewidth\": 2.0, \"data\": \"data02\", \"id\": \"el260564562889808\"}, {\"color\": \"#BFBF00\", \"yindex\": 6, \"coordinates\": \"axes\", \"dasharray\": \"10,0\", \"zorder\": 1000002.0, \"alpha\": 1, \"xindex\": 0, \"linewidth\": 2.0, \"data\": \"data02\", \"id\": \"el260564554258384\"}, {\"color\": \"#000000\", \"yindex\": 7, \"coordinates\": \"axes\", \"dasharray\": \"10,0\", \"zorder\": 1000002.0, \"alpha\": 1, \"xindex\": 0, \"linewidth\": 2.0, \"data\": \"data02\", \"id\": \"el260564552009296\"}], \"markers\": [], \"id\": \"el260564561739600\", \"ydomain\": [8.5999999999999993e-10, 1.02e-09], \"collections\": [], \"xscale\": \"linear\", \"bbox\": [0.125, 0.125, 0.77500000000000002, 0.77500000000000002]}], \"height\": 320.0, \"width\": 480.0, \"plugins\": [{\"type\": \"reset\"}, {\"enabled\": false, \"button\": true, \"type\": \"zoom\"}, {\"enabled\": false, \"button\": true, \"type\": \"boxzoom\"}], \"data\": {\"data02\": [[0.043010752688172074, 0.5551075268817205, 0.47580645161290336, 0.3965053763440861, 0.31720430107526887, 0.23790322580645173, 0.1586021505376345, 0.07930107526881731], [0.09318996415770613, 0.5551075268817205, 0.47580645161290336, 0.3965053763440861, 0.31720430107526887, 0.23790322580645173, 0.1586021505376345, 0.07930107526881731]], \"data03\": [[0.017921146953405048, 0.02688172043010756], [0.2864443324372761, 0.02688172043010756], [0.2864443324372761, 0.5981182795698926], [0.017921146953405048, 0.5981182795698926]], \"data01\": [[-3.59, 1e-09, 1.0176554043894726e-09, 9.907343834214544e-10, 9.646471399449297e-10, 9.393498201504258e-10, 9.1483554065519e-10, 8.910681081886196e-10], [-3.58, 1e-09, 1.0126610661131963e-09, 9.852911819763222e-10, 9.587600713345523e-10, 9.330488603964682e-10, 9.081398966159782e-10, 8.839760035073141e-10], [-3.5700000000000003, 1e-09, 1.0105024594864176e-09, 9.826830460468727e-10, 9.557085123290676e-10, 9.295598735192812e-10, 9.042132598224839e-10, 8.79657902075337e-10], [-3.5600000000000005, 1e-09, 1.0109015846637703e-09, 9.826001123869332e-10, 9.5516849984989e-10, 9.285821001014938e-10, 9.028021663581853e-10, 8.778311411106188e-10], [-3.5500000000000007, 1e-09, 1.01359809434598e-09, 9.84805792469956e-10, 9.568882353150343e-10, 9.298413150560236e-10, 9.036316139798828e-10, 8.782191640577253e-10]]}, \"id\": \"el260564561738064\"});\n",
       "            })\n",
       "         });\n",
       "}\n",
       "</script>"
      ],
      "text/plain": [
       "<IPython.core.display.HTML object>"
      ]
     },
     "execution_count": 36,
     "metadata": {},
     "output_type": "execute_result"
    }
   ],
   "source": [
    "xn, yn = result.shape\n",
    "fig = figure()\n",
    "plot(rSNR3_range, 10**(-9)*ones(len(rSNR3_range),), lw=2.0, label='Protocol')\n",
    "for xk in range(xn):\n",
    "    plot(rSNR3_range, result[xk], lw=2.0, label='{0}'.format(tSNR_range[xk]))\n",
    "    print rSNR3_range[np.argmin(result[xk])]\n",
    "\n",
    "xlabel('rSNR3', fontsize=20)\n",
    "ylabel('P(fail)', fontsize=20)\n",
    "title('N={0}'.format(N), fontsize=20)\n",
    "legend(loc=0)\n",
    "mpld3.display(fig)"
   ]
  },
  {
   "cell_type": "markdown",
   "metadata": {},
   "source": [
    "## N = 17\n",
    "[4.28, -5.38, -3.27]"
   ]
  },
  {
   "cell_type": "code",
   "execution_count": 49,
   "metadata": {
    "collapsed": false
   },
   "outputs": [
    {
     "name": "stdout",
     "output_type": "stream",
     "text": [
      "xn, yn (2, 21) size of matrix 42\n",
      "[[  1.45843948e-09   1.45094603e-09   1.44430568e-09   1.43856593e-09\n",
      "    1.43358325e-09   1.42933876e-09   1.42584777e-09   1.42302314e-09\n",
      "    1.42084877e-09   1.41930701e-09   1.41834733e-09   1.41796541e-09\n",
      "    1.41815926e-09   1.41890666e-09   1.42013123e-09   1.42188783e-09\n",
      "    1.42415102e-09   1.42684531e-09   1.42998646e-09   1.43355416e-09\n",
      "    1.43760415e-09]\n",
      " [  1.14376786e-09   1.13483156e-09   1.12690235e-09   1.11990328e-09\n",
      "    1.11382781e-09   1.10862297e-09   1.10418752e-09   1.10052911e-09\n",
      "    1.09764597e-09   1.09543441e-09   1.09391551e-09   1.09304854e-09\n",
      "    1.09280129e-09   1.09315490e-09   1.09412235e-09   1.09564158e-09\n",
      "    1.09772036e-09   1.10032838e-09   1.10342779e-09   1.10701526e-09\n",
      "    1.11110776e-09]]\n",
      "CPU times: user 4min 13s, sys: 2.24 s, total: 4min 15s\n",
      "Wall time: 4min 27s\n"
     ]
    }
   ],
   "source": [
    "%%time\n",
    "N = 17\n",
    "tSNR_range = [4.25]\n",
    "rSNR3_range = np.arange(-3.4, -3.3+0.001, 0.1)\n",
    "rSNRdu_range = np.arange(-5.5, -5.3+0.001, 0.01)\n",
    "\n",
    "result = optimize_3_graphical(N, rSNRdu_range, rSNR3_range, tSNR_range, filepath_down, filepath_up, protocolbit, True)\n",
    "\n",
    "print result"
   ]
  },
  {
   "cell_type": "code",
   "execution_count": 50,
   "metadata": {
    "collapsed": false
   },
   "outputs": [
    {
     "name": "stdout",
     "output_type": "stream",
     "text": [
      "-5.39\n",
      "-5.38\n"
     ]
    },
    {
     "data": {
      "text/html": [
       "\n",
       "\n",
       "<style>\n",
       "\n",
       "</style>\n",
       "\n",
       "<div id=\"fig_el2605645626340003947058474\"></div>\n",
       "<script>\n",
       "function mpld3_load_lib(url, callback){\n",
       "  var s = document.createElement('script');\n",
       "  s.src = url;\n",
       "  s.async = true;\n",
       "  s.onreadystatechange = s.onload = callback;\n",
       "  s.onerror = function(){console.warn(\"failed to load library \" + url);};\n",
       "  document.getElementsByTagName(\"head\")[0].appendChild(s);\n",
       "}\n",
       "\n",
       "if(typeof(mpld3) !== \"undefined\" && mpld3._mpld3IsLoaded){\n",
       "   // already loaded: just create the figure\n",
       "   !function(mpld3){\n",
       "       \n",
       "       mpld3.draw_figure(\"fig_el2605645626340003947058474\", {\"axes\": [{\"xlim\": [-5.5, -5.2999999999999998], \"yscale\": \"linear\", \"axesbg\": \"#FFFFFF\", \"texts\": [{\"v_baseline\": \"hanging\", \"h_anchor\": \"middle\", \"color\": \"#000000\", \"text\": \"rSNRdu\", \"coordinates\": \"axes\", \"zorder\": 3, \"alpha\": 1, \"fontsize\": 20.0, \"position\": [0.5, -0.080645161290322578], \"rotation\": -0.0, \"id\": \"el260564561563408\"}, {\"v_baseline\": \"auto\", \"h_anchor\": \"middle\", \"color\": \"#000000\", \"text\": \"P(fail)\", \"coordinates\": \"axes\", \"zorder\": 3, \"alpha\": 1, \"fontsize\": 20.0, \"position\": [-0.088751680107526876, 0.5], \"rotation\": -90.0, \"id\": \"el260564550448528\"}, {\"v_baseline\": \"auto\", \"h_anchor\": \"middle\", \"color\": \"#000000\", \"text\": \"N=17\", \"coordinates\": \"axes\", \"zorder\": 3, \"alpha\": 1, \"fontsize\": 20.0, \"position\": [0.5, 1.0224014336917562], \"rotation\": -0.0, \"id\": \"el260564552663888\"}, {\"v_baseline\": \"auto\", \"h_anchor\": \"start\", \"color\": \"#000000\", \"text\": \"None\", \"coordinates\": \"axes\", \"zorder\": 1000003.0, \"alpha\": 1, \"fontsize\": 10.0, \"position\": [-0.16129032258064516, -0.16129032258064516], \"rotation\": -0.0, \"id\": \"el260564561939856\"}, {\"v_baseline\": \"auto\", \"h_anchor\": \"start\", \"color\": \"#000000\", \"text\": \"-3.4\", \"coordinates\": \"axes\", \"zorder\": 1000003.0, \"alpha\": 1, \"fontsize\": 12.0, \"position\": [0.90179771505376338, 0.52553763440860213], \"rotation\": -0.0, \"id\": \"el260564513832912\"}, {\"v_baseline\": \"auto\", \"h_anchor\": \"start\", \"color\": \"#000000\", \"text\": \"-3.3\", \"coordinates\": \"axes\", \"zorder\": 1000003.0, \"alpha\": 1, \"fontsize\": 12.0, \"position\": [0.90179771505376338, 0.44623655913978488], \"rotation\": -0.0, \"id\": \"el260564513831504\"}], \"zoomable\": true, \"images\": [], \"xdomain\": [-5.5, -5.2999999999999998], \"ylim\": [1.0499999999999999e-09, 1.4999999999999998e-09], \"paths\": [{\"edgecolor\": \"#000000\", \"facecolor\": \"#FFFFFF\", \"edgewidth\": 1.0, \"pathcodes\": [\"M\", \"L\", \"L\", \"L\", \"Z\"], \"yindex\": 1, \"coordinates\": \"axes\", \"dasharray\": \"10,0\", \"zorder\": 1000001.0, \"alpha\": 1, \"xindex\": 0, \"data\": \"data03\", \"id\": \"el260564552871632\"}], \"sharey\": [], \"sharex\": [], \"axesbgalpha\": null, \"axes\": [{\"scale\": \"linear\", \"tickformat\": null, \"grid\": {\"gridOn\": false}, \"fontsize\": 10.0, \"position\": \"bottom\", \"nticks\": 5, \"tickvalues\": null}, {\"scale\": \"linear\", \"tickformat\": null, \"grid\": {\"gridOn\": false}, \"fontsize\": 10.0, \"position\": \"left\", \"nticks\": 10, \"tickvalues\": null}], \"lines\": [{\"color\": \"#0000FF\", \"yindex\": 1, \"coordinates\": \"data\", \"dasharray\": \"10,0\", \"zorder\": 2, \"alpha\": 1, \"xindex\": 0, \"linewidth\": 2.0, \"data\": \"data01\", \"id\": \"el260564562560400\"}, {\"color\": \"#007F00\", \"yindex\": 2, \"coordinates\": \"data\", \"dasharray\": \"10,0\", \"zorder\": 2, \"alpha\": 1, \"xindex\": 0, \"linewidth\": 2.0, \"data\": \"data01\", \"id\": \"el260564562560720\"}, {\"color\": \"#0000FF\", \"yindex\": 1, \"coordinates\": \"axes\", \"dasharray\": \"10,0\", \"zorder\": 1000002.0, \"alpha\": 1, \"xindex\": 0, \"linewidth\": 2.0, \"data\": \"data02\", \"id\": \"el260564513831312\"}, {\"color\": \"#007F00\", \"yindex\": 2, \"coordinates\": \"axes\", \"dasharray\": \"10,0\", \"zorder\": 1000002.0, \"alpha\": 1, \"xindex\": 0, \"linewidth\": 2.0, \"data\": \"data02\", \"id\": \"el260564513830544\"}], \"markers\": [], \"id\": \"el260564552275344\", \"ydomain\": [1.0499999999999999e-09, 1.4999999999999998e-09], \"collections\": [], \"xscale\": \"linear\", \"bbox\": [0.125, 0.125, 0.77500000000000002, 0.77500000000000002]}], \"height\": 320.0, \"width\": 480.0, \"plugins\": [{\"type\": \"reset\"}, {\"enabled\": false, \"button\": true, \"type\": \"zoom\"}, {\"enabled\": false, \"button\": true, \"type\": \"boxzoom\"}], \"data\": {\"data02\": [[0.8121919802867383, 0.5443548387096774, 0.46505376344086014], [0.8623711917562724, 0.5443548387096774, 0.46505376344086014]], \"data03\": [[0.7871023745519714, 0.4126344086021505], [0.982078853046595, 0.4126344086021505], [0.982078853046595, 0.5873655913978494], [0.7871023745519714, 0.5873655913978494]], \"data01\": [[-5.5, 1.458439480295226e-09, 1.1437678582026933e-09], [-5.49, 1.4509460299905186e-09, 1.134831562055183e-09], [-5.48, 1.444305675057933e-09, 1.1269023492133101e-09], [-5.470000000000001, 1.4385659330429235e-09, 1.1199032812214682e-09], [-5.460000000000001, 1.4335832521084058e-09, 1.113827807763812e-09], [-5.450000000000001, 1.4293387584629613e-09, 1.1086229712020668e-09], [-5.440000000000001, 1.42584777318433e-09, 1.1041875191963868e-09], [-5.4300000000000015, 1.4230231437650787e-09, 1.100529112285642e-09], [-5.420000000000002, 1.4208487719713503e-09, 1.097645974112993e-09], [-5.410000000000002, 1.4193070052570533e-09, 1.0954344098479396e-09], [-5.400000000000002, 1.4183473284745673e-09, 1.09391551372795e-09], [-5.390000000000002, 1.4179654117540963e-09, 1.0930485405680201e-09], [-5.380000000000003, 1.4181592566941958e-09, 1.0928012939004361e-09], [-5.370000000000003, 1.4189066588343735e-09, 1.0931548999337792e-09], [-5.360000000000003, 1.420131234830535e-09, 1.0941223482774376e-09], [-5.350000000000003, 1.421887829700097e-09, 1.0956415774643347e-09], [-5.340000000000003, 1.4241510193357954e-09, 1.0977203590556428e-09], [-5.330000000000004, 1.4268453085719557e-09, 1.1003283839627898e-09], [-5.320000000000004, 1.4299864625755276e-09, 1.1034277935806358e-09], [-5.310000000000004, 1.4335541642651606e-09, 1.107015257240107e-09], [-5.300000000000004, 1.4376041468366907e-09, 1.1111077613534803e-09]]}, \"id\": \"el260564562634000\"});\n",
       "   }(mpld3);\n",
       "}else if(typeof define === \"function\" && define.amd){\n",
       "   // require.js is available: use it to load d3/mpld3\n",
       "   require.config({paths: {d3: \"https://mpld3.github.io/js/d3.v3.min\"}});\n",
       "   require([\"d3\"], function(d3){\n",
       "      window.d3 = d3;\n",
       "      mpld3_load_lib(\"https://mpld3.github.io/js/mpld3.v0.2.js\", function(){\n",
       "         \n",
       "         mpld3.draw_figure(\"fig_el2605645626340003947058474\", {\"axes\": [{\"xlim\": [-5.5, -5.2999999999999998], \"yscale\": \"linear\", \"axesbg\": \"#FFFFFF\", \"texts\": [{\"v_baseline\": \"hanging\", \"h_anchor\": \"middle\", \"color\": \"#000000\", \"text\": \"rSNRdu\", \"coordinates\": \"axes\", \"zorder\": 3, \"alpha\": 1, \"fontsize\": 20.0, \"position\": [0.5, -0.080645161290322578], \"rotation\": -0.0, \"id\": \"el260564561563408\"}, {\"v_baseline\": \"auto\", \"h_anchor\": \"middle\", \"color\": \"#000000\", \"text\": \"P(fail)\", \"coordinates\": \"axes\", \"zorder\": 3, \"alpha\": 1, \"fontsize\": 20.0, \"position\": [-0.088751680107526876, 0.5], \"rotation\": -90.0, \"id\": \"el260564550448528\"}, {\"v_baseline\": \"auto\", \"h_anchor\": \"middle\", \"color\": \"#000000\", \"text\": \"N=17\", \"coordinates\": \"axes\", \"zorder\": 3, \"alpha\": 1, \"fontsize\": 20.0, \"position\": [0.5, 1.0224014336917562], \"rotation\": -0.0, \"id\": \"el260564552663888\"}, {\"v_baseline\": \"auto\", \"h_anchor\": \"start\", \"color\": \"#000000\", \"text\": \"None\", \"coordinates\": \"axes\", \"zorder\": 1000003.0, \"alpha\": 1, \"fontsize\": 10.0, \"position\": [-0.16129032258064516, -0.16129032258064516], \"rotation\": -0.0, \"id\": \"el260564561939856\"}, {\"v_baseline\": \"auto\", \"h_anchor\": \"start\", \"color\": \"#000000\", \"text\": \"-3.4\", \"coordinates\": \"axes\", \"zorder\": 1000003.0, \"alpha\": 1, \"fontsize\": 12.0, \"position\": [0.90179771505376338, 0.52553763440860213], \"rotation\": -0.0, \"id\": \"el260564513832912\"}, {\"v_baseline\": \"auto\", \"h_anchor\": \"start\", \"color\": \"#000000\", \"text\": \"-3.3\", \"coordinates\": \"axes\", \"zorder\": 1000003.0, \"alpha\": 1, \"fontsize\": 12.0, \"position\": [0.90179771505376338, 0.44623655913978488], \"rotation\": -0.0, \"id\": \"el260564513831504\"}], \"zoomable\": true, \"images\": [], \"xdomain\": [-5.5, -5.2999999999999998], \"ylim\": [1.0499999999999999e-09, 1.4999999999999998e-09], \"paths\": [{\"edgecolor\": \"#000000\", \"facecolor\": \"#FFFFFF\", \"edgewidth\": 1.0, \"pathcodes\": [\"M\", \"L\", \"L\", \"L\", \"Z\"], \"yindex\": 1, \"coordinates\": \"axes\", \"dasharray\": \"10,0\", \"zorder\": 1000001.0, \"alpha\": 1, \"xindex\": 0, \"data\": \"data03\", \"id\": \"el260564552871632\"}], \"sharey\": [], \"sharex\": [], \"axesbgalpha\": null, \"axes\": [{\"scale\": \"linear\", \"tickformat\": null, \"grid\": {\"gridOn\": false}, \"fontsize\": 10.0, \"position\": \"bottom\", \"nticks\": 5, \"tickvalues\": null}, {\"scale\": \"linear\", \"tickformat\": null, \"grid\": {\"gridOn\": false}, \"fontsize\": 10.0, \"position\": \"left\", \"nticks\": 10, \"tickvalues\": null}], \"lines\": [{\"color\": \"#0000FF\", \"yindex\": 1, \"coordinates\": \"data\", \"dasharray\": \"10,0\", \"zorder\": 2, \"alpha\": 1, \"xindex\": 0, \"linewidth\": 2.0, \"data\": \"data01\", \"id\": \"el260564562560400\"}, {\"color\": \"#007F00\", \"yindex\": 2, \"coordinates\": \"data\", \"dasharray\": \"10,0\", \"zorder\": 2, \"alpha\": 1, \"xindex\": 0, \"linewidth\": 2.0, \"data\": \"data01\", \"id\": \"el260564562560720\"}, {\"color\": \"#0000FF\", \"yindex\": 1, \"coordinates\": \"axes\", \"dasharray\": \"10,0\", \"zorder\": 1000002.0, \"alpha\": 1, \"xindex\": 0, \"linewidth\": 2.0, \"data\": \"data02\", \"id\": \"el260564513831312\"}, {\"color\": \"#007F00\", \"yindex\": 2, \"coordinates\": \"axes\", \"dasharray\": \"10,0\", \"zorder\": 1000002.0, \"alpha\": 1, \"xindex\": 0, \"linewidth\": 2.0, \"data\": \"data02\", \"id\": \"el260564513830544\"}], \"markers\": [], \"id\": \"el260564552275344\", \"ydomain\": [1.0499999999999999e-09, 1.4999999999999998e-09], \"collections\": [], \"xscale\": \"linear\", \"bbox\": [0.125, 0.125, 0.77500000000000002, 0.77500000000000002]}], \"height\": 320.0, \"width\": 480.0, \"plugins\": [{\"type\": \"reset\"}, {\"enabled\": false, \"button\": true, \"type\": \"zoom\"}, {\"enabled\": false, \"button\": true, \"type\": \"boxzoom\"}], \"data\": {\"data02\": [[0.8121919802867383, 0.5443548387096774, 0.46505376344086014], [0.8623711917562724, 0.5443548387096774, 0.46505376344086014]], \"data03\": [[0.7871023745519714, 0.4126344086021505], [0.982078853046595, 0.4126344086021505], [0.982078853046595, 0.5873655913978494], [0.7871023745519714, 0.5873655913978494]], \"data01\": [[-5.5, 1.458439480295226e-09, 1.1437678582026933e-09], [-5.49, 1.4509460299905186e-09, 1.134831562055183e-09], [-5.48, 1.444305675057933e-09, 1.1269023492133101e-09], [-5.470000000000001, 1.4385659330429235e-09, 1.1199032812214682e-09], [-5.460000000000001, 1.4335832521084058e-09, 1.113827807763812e-09], [-5.450000000000001, 1.4293387584629613e-09, 1.1086229712020668e-09], [-5.440000000000001, 1.42584777318433e-09, 1.1041875191963868e-09], [-5.4300000000000015, 1.4230231437650787e-09, 1.100529112285642e-09], [-5.420000000000002, 1.4208487719713503e-09, 1.097645974112993e-09], [-5.410000000000002, 1.4193070052570533e-09, 1.0954344098479396e-09], [-5.400000000000002, 1.4183473284745673e-09, 1.09391551372795e-09], [-5.390000000000002, 1.4179654117540963e-09, 1.0930485405680201e-09], [-5.380000000000003, 1.4181592566941958e-09, 1.0928012939004361e-09], [-5.370000000000003, 1.4189066588343735e-09, 1.0931548999337792e-09], [-5.360000000000003, 1.420131234830535e-09, 1.0941223482774376e-09], [-5.350000000000003, 1.421887829700097e-09, 1.0956415774643347e-09], [-5.340000000000003, 1.4241510193357954e-09, 1.0977203590556428e-09], [-5.330000000000004, 1.4268453085719557e-09, 1.1003283839627898e-09], [-5.320000000000004, 1.4299864625755276e-09, 1.1034277935806358e-09], [-5.310000000000004, 1.4335541642651606e-09, 1.107015257240107e-09], [-5.300000000000004, 1.4376041468366907e-09, 1.1111077613534803e-09]]}, \"id\": \"el260564562634000\"});\n",
       "      });\n",
       "    });\n",
       "}else{\n",
       "    // require.js not available: dynamically load d3 & mpld3\n",
       "    mpld3_load_lib(\"https://mpld3.github.io/js/d3.v3.min.js\", function(){\n",
       "         mpld3_load_lib(\"https://mpld3.github.io/js/mpld3.v0.2.js\", function(){\n",
       "                 \n",
       "                 mpld3.draw_figure(\"fig_el2605645626340003947058474\", {\"axes\": [{\"xlim\": [-5.5, -5.2999999999999998], \"yscale\": \"linear\", \"axesbg\": \"#FFFFFF\", \"texts\": [{\"v_baseline\": \"hanging\", \"h_anchor\": \"middle\", \"color\": \"#000000\", \"text\": \"rSNRdu\", \"coordinates\": \"axes\", \"zorder\": 3, \"alpha\": 1, \"fontsize\": 20.0, \"position\": [0.5, -0.080645161290322578], \"rotation\": -0.0, \"id\": \"el260564561563408\"}, {\"v_baseline\": \"auto\", \"h_anchor\": \"middle\", \"color\": \"#000000\", \"text\": \"P(fail)\", \"coordinates\": \"axes\", \"zorder\": 3, \"alpha\": 1, \"fontsize\": 20.0, \"position\": [-0.088751680107526876, 0.5], \"rotation\": -90.0, \"id\": \"el260564550448528\"}, {\"v_baseline\": \"auto\", \"h_anchor\": \"middle\", \"color\": \"#000000\", \"text\": \"N=17\", \"coordinates\": \"axes\", \"zorder\": 3, \"alpha\": 1, \"fontsize\": 20.0, \"position\": [0.5, 1.0224014336917562], \"rotation\": -0.0, \"id\": \"el260564552663888\"}, {\"v_baseline\": \"auto\", \"h_anchor\": \"start\", \"color\": \"#000000\", \"text\": \"None\", \"coordinates\": \"axes\", \"zorder\": 1000003.0, \"alpha\": 1, \"fontsize\": 10.0, \"position\": [-0.16129032258064516, -0.16129032258064516], \"rotation\": -0.0, \"id\": \"el260564561939856\"}, {\"v_baseline\": \"auto\", \"h_anchor\": \"start\", \"color\": \"#000000\", \"text\": \"-3.4\", \"coordinates\": \"axes\", \"zorder\": 1000003.0, \"alpha\": 1, \"fontsize\": 12.0, \"position\": [0.90179771505376338, 0.52553763440860213], \"rotation\": -0.0, \"id\": \"el260564513832912\"}, {\"v_baseline\": \"auto\", \"h_anchor\": \"start\", \"color\": \"#000000\", \"text\": \"-3.3\", \"coordinates\": \"axes\", \"zorder\": 1000003.0, \"alpha\": 1, \"fontsize\": 12.0, \"position\": [0.90179771505376338, 0.44623655913978488], \"rotation\": -0.0, \"id\": \"el260564513831504\"}], \"zoomable\": true, \"images\": [], \"xdomain\": [-5.5, -5.2999999999999998], \"ylim\": [1.0499999999999999e-09, 1.4999999999999998e-09], \"paths\": [{\"edgecolor\": \"#000000\", \"facecolor\": \"#FFFFFF\", \"edgewidth\": 1.0, \"pathcodes\": [\"M\", \"L\", \"L\", \"L\", \"Z\"], \"yindex\": 1, \"coordinates\": \"axes\", \"dasharray\": \"10,0\", \"zorder\": 1000001.0, \"alpha\": 1, \"xindex\": 0, \"data\": \"data03\", \"id\": \"el260564552871632\"}], \"sharey\": [], \"sharex\": [], \"axesbgalpha\": null, \"axes\": [{\"scale\": \"linear\", \"tickformat\": null, \"grid\": {\"gridOn\": false}, \"fontsize\": 10.0, \"position\": \"bottom\", \"nticks\": 5, \"tickvalues\": null}, {\"scale\": \"linear\", \"tickformat\": null, \"grid\": {\"gridOn\": false}, \"fontsize\": 10.0, \"position\": \"left\", \"nticks\": 10, \"tickvalues\": null}], \"lines\": [{\"color\": \"#0000FF\", \"yindex\": 1, \"coordinates\": \"data\", \"dasharray\": \"10,0\", \"zorder\": 2, \"alpha\": 1, \"xindex\": 0, \"linewidth\": 2.0, \"data\": \"data01\", \"id\": \"el260564562560400\"}, {\"color\": \"#007F00\", \"yindex\": 2, \"coordinates\": \"data\", \"dasharray\": \"10,0\", \"zorder\": 2, \"alpha\": 1, \"xindex\": 0, \"linewidth\": 2.0, \"data\": \"data01\", \"id\": \"el260564562560720\"}, {\"color\": \"#0000FF\", \"yindex\": 1, \"coordinates\": \"axes\", \"dasharray\": \"10,0\", \"zorder\": 1000002.0, \"alpha\": 1, \"xindex\": 0, \"linewidth\": 2.0, \"data\": \"data02\", \"id\": \"el260564513831312\"}, {\"color\": \"#007F00\", \"yindex\": 2, \"coordinates\": \"axes\", \"dasharray\": \"10,0\", \"zorder\": 1000002.0, \"alpha\": 1, \"xindex\": 0, \"linewidth\": 2.0, \"data\": \"data02\", \"id\": \"el260564513830544\"}], \"markers\": [], \"id\": \"el260564552275344\", \"ydomain\": [1.0499999999999999e-09, 1.4999999999999998e-09], \"collections\": [], \"xscale\": \"linear\", \"bbox\": [0.125, 0.125, 0.77500000000000002, 0.77500000000000002]}], \"height\": 320.0, \"width\": 480.0, \"plugins\": [{\"type\": \"reset\"}, {\"enabled\": false, \"button\": true, \"type\": \"zoom\"}, {\"enabled\": false, \"button\": true, \"type\": \"boxzoom\"}], \"data\": {\"data02\": [[0.8121919802867383, 0.5443548387096774, 0.46505376344086014], [0.8623711917562724, 0.5443548387096774, 0.46505376344086014]], \"data03\": [[0.7871023745519714, 0.4126344086021505], [0.982078853046595, 0.4126344086021505], [0.982078853046595, 0.5873655913978494], [0.7871023745519714, 0.5873655913978494]], \"data01\": [[-5.5, 1.458439480295226e-09, 1.1437678582026933e-09], [-5.49, 1.4509460299905186e-09, 1.134831562055183e-09], [-5.48, 1.444305675057933e-09, 1.1269023492133101e-09], [-5.470000000000001, 1.4385659330429235e-09, 1.1199032812214682e-09], [-5.460000000000001, 1.4335832521084058e-09, 1.113827807763812e-09], [-5.450000000000001, 1.4293387584629613e-09, 1.1086229712020668e-09], [-5.440000000000001, 1.42584777318433e-09, 1.1041875191963868e-09], [-5.4300000000000015, 1.4230231437650787e-09, 1.100529112285642e-09], [-5.420000000000002, 1.4208487719713503e-09, 1.097645974112993e-09], [-5.410000000000002, 1.4193070052570533e-09, 1.0954344098479396e-09], [-5.400000000000002, 1.4183473284745673e-09, 1.09391551372795e-09], [-5.390000000000002, 1.4179654117540963e-09, 1.0930485405680201e-09], [-5.380000000000003, 1.4181592566941958e-09, 1.0928012939004361e-09], [-5.370000000000003, 1.4189066588343735e-09, 1.0931548999337792e-09], [-5.360000000000003, 1.420131234830535e-09, 1.0941223482774376e-09], [-5.350000000000003, 1.421887829700097e-09, 1.0956415774643347e-09], [-5.340000000000003, 1.4241510193357954e-09, 1.0977203590556428e-09], [-5.330000000000004, 1.4268453085719557e-09, 1.1003283839627898e-09], [-5.320000000000004, 1.4299864625755276e-09, 1.1034277935806358e-09], [-5.310000000000004, 1.4335541642651606e-09, 1.107015257240107e-09], [-5.300000000000004, 1.4376041468366907e-09, 1.1111077613534803e-09]]}, \"id\": \"el260564562634000\"});\n",
       "            })\n",
       "         });\n",
       "}\n",
       "</script>"
      ],
      "text/plain": [
       "<IPython.core.display.HTML object>"
      ]
     },
     "execution_count": 50,
     "metadata": {},
     "output_type": "execute_result"
    }
   ],
   "source": [
    "xn, yn = result.shape\n",
    "fig = figure()\n",
    "\n",
    "for xk in range(xn):\n",
    "    plot(rSNRdu_range, result[xk], lw=2.0, label='{0}'.format(rSNR3_range[xk]))\n",
    "    print rSNRdu_range[np.argmin(result[xk])]\n",
    "\n",
    "xlabel('rSNRdu', fontsize=20)\n",
    "ylabel('P(fail)', fontsize=20)\n",
    "title('N={0}'.format(N), fontsize=20)\n",
    "legend(loc=0)\n",
    "mpld3.display(fig)"
   ]
  },
  {
   "cell_type": "code",
   "execution_count": 55,
   "metadata": {
    "collapsed": false
   },
   "outputs": [
    {
     "name": "stdout",
     "output_type": "stream",
     "text": [
      "xn, yn (11, 4) size of matrix 44\n",
      "[[  1.25826938e-09   1.25994148e-09   1.26448552e-09   1.27163058e-09]\n",
      " [  1.22201727e-09   1.22302346e-09   1.22689336e-09   1.23334853e-09]\n",
      " [  1.18692967e-09   1.18729204e-09   1.19050858e-09   1.19629129e-09]\n",
      " [  1.15296650e-09   1.15271259e-09   1.15529153e-09   1.16042753e-09]\n",
      " [  1.12009224e-09   1.11925114e-09   1.12121856e-09   1.12571830e-09]\n",
      " [  1.08827258e-09   1.08686216e-09   1.08823328e-09   1.09212650e-09]\n",
      " [  1.05747999e-09   1.05551434e-09   1.05631370e-09   1.05961495e-09]\n",
      " [  1.02767561e-09   1.02517606e-09   1.02543074e-09   1.02816367e-09]\n",
      " [  9.98826577e-10   9.95817984e-10   9.95544536e-10   9.97718463e-10]\n",
      " [  9.70896918e-10   9.67397940e-10   9.66616232e-10   9.68274794e-10]\n",
      " [  9.43870648e-10   9.39883504e-10   9.38606970e-10   9.39758604e-10]]\n",
      "CPU times: user 4min 7s, sys: 985 ms, total: 4min 8s\n",
      "Wall time: 4min 12s\n"
     ]
    },
    {
     "name": "stderr",
     "output_type": "stream",
     "text": [
      "<string>:182: RuntimeWarning: divide by zero encountered in log10\n"
     ]
    }
   ],
   "source": [
    "%%time\n",
    "%run ../optimize_pkg_2.py\n",
    "N = 17\n",
    "tSNR_range = np.arange(4.2, 4.3+0.001, 0.01)\n",
    "rSNR3_range = np.arange(-3.29, -3.26+0.001, 0.01)\n",
    "rSNRdu_range = [-5.38]\n",
    "\n",
    "result = optimize_3_graphical(N, rSNRdu_range, rSNR3_range, tSNR_range, filepath_down, filepath_up, protocolbit, False)\n",
    "\n",
    "print result"
   ]
  },
  {
   "cell_type": "code",
   "execution_count": 56,
   "metadata": {
    "collapsed": false
   },
   "outputs": [
    {
     "name": "stdout",
     "output_type": "stream",
     "text": [
      "-3.29\n",
      "-3.29\n",
      "-3.29\n",
      "-3.28\n",
      "-3.28\n",
      "-3.28\n",
      "-3.28\n",
      "-3.28\n",
      "-3.27\n",
      "-3.27\n",
      "-3.27\n"
     ]
    },
    {
     "data": {
      "text/html": [
       "\n",
       "\n",
       "<style>\n",
       "\n",
       "</style>\n",
       "\n",
       "<div id=\"fig_el2605645528875046483304049\"></div>\n",
       "<script>\n",
       "function mpld3_load_lib(url, callback){\n",
       "  var s = document.createElement('script');\n",
       "  s.src = url;\n",
       "  s.async = true;\n",
       "  s.onreadystatechange = s.onload = callback;\n",
       "  s.onerror = function(){console.warn(\"failed to load library \" + url);};\n",
       "  document.getElementsByTagName(\"head\")[0].appendChild(s);\n",
       "}\n",
       "\n",
       "if(typeof(mpld3) !== \"undefined\" && mpld3._mpld3IsLoaded){\n",
       "   // already loaded: just create the figure\n",
       "   !function(mpld3){\n",
       "       \n",
       "       mpld3.draw_figure(\"fig_el2605645528875046483304049\", {\"axes\": [{\"xlim\": [-3.29, -3.2600000000000002], \"yscale\": \"linear\", \"axesbg\": \"#FFFFFF\", \"texts\": [{\"v_baseline\": \"hanging\", \"h_anchor\": \"middle\", \"color\": \"#000000\", \"text\": \"rSNR3\", \"coordinates\": \"axes\", \"zorder\": 3, \"alpha\": 1, \"fontsize\": 20.0, \"position\": [0.5, -0.080645161290322578], \"rotation\": -0.0, \"id\": \"el260564504405968\"}, {\"v_baseline\": \"auto\", \"h_anchor\": \"middle\", \"color\": \"#000000\", \"text\": \"P(fail)\", \"coordinates\": \"axes\", \"zorder\": 3, \"alpha\": 1, \"fontsize\": 20.0, \"position\": [-0.089885752688172033, 0.5], \"rotation\": -90.0, \"id\": \"el260564552869328\"}, {\"v_baseline\": \"auto\", \"h_anchor\": \"middle\", \"color\": \"#000000\", \"text\": \"N=17\", \"coordinates\": \"axes\", \"zorder\": 3, \"alpha\": 1, \"fontsize\": 20.0, \"position\": [0.5, 1.0224014336917562], \"rotation\": -0.0, \"id\": \"el260564552410768\"}, {\"v_baseline\": \"auto\", \"h_anchor\": \"start\", \"color\": \"#000000\", \"text\": \"None\", \"coordinates\": \"axes\", \"zorder\": 1000003.0, \"alpha\": 1, \"fontsize\": 10.0, \"position\": [-0.16129032258064516, -0.16129032258064516], \"rotation\": -0.0, \"id\": \"el260564550447440\"}, {\"v_baseline\": \"auto\", \"h_anchor\": \"start\", \"color\": \"#000000\", \"text\": \"Protocol\", \"coordinates\": \"axes\", \"zorder\": 1000003.0, \"alpha\": 1, \"fontsize\": 12.0, \"position\": [0.82825100806451613, 0.91129032258064513], \"rotation\": -0.0, \"id\": \"el260564561937488\"}, {\"v_baseline\": \"auto\", \"h_anchor\": \"start\", \"color\": \"#000000\", \"text\": \"4.2\", \"coordinates\": \"axes\", \"zorder\": 1000003.0, \"alpha\": 1, \"fontsize\": 12.0, \"position\": [0.82825100806451613, 0.831989247311828], \"rotation\": -0.0, \"id\": \"el260564552018576\"}, {\"v_baseline\": \"auto\", \"h_anchor\": \"start\", \"color\": \"#000000\", \"text\": \"4.21\", \"coordinates\": \"axes\", \"zorder\": 1000003.0, \"alpha\": 1, \"fontsize\": 12.0, \"position\": [0.82825100806451613, 0.75268817204301075], \"rotation\": -0.0, \"id\": \"el260564513475344\"}, {\"v_baseline\": \"auto\", \"h_anchor\": \"start\", \"color\": \"#000000\", \"text\": \"4.22\", \"coordinates\": \"axes\", \"zorder\": 1000003.0, \"alpha\": 1, \"fontsize\": 12.0, \"position\": [0.82825100806451613, 0.67338709677419351], \"rotation\": -0.0, \"id\": \"el260564513475472\"}, {\"v_baseline\": \"auto\", \"h_anchor\": \"start\", \"color\": \"#000000\", \"text\": \"4.23\", \"coordinates\": \"axes\", \"zorder\": 1000003.0, \"alpha\": 1, \"fontsize\": 12.0, \"position\": [0.82825100806451613, 0.59408602150537626], \"rotation\": -0.0, \"id\": \"el260564549960016\"}, {\"v_baseline\": \"auto\", \"h_anchor\": \"start\", \"color\": \"#000000\", \"text\": \"4.24\", \"coordinates\": \"axes\", \"zorder\": 1000003.0, \"alpha\": 1, \"fontsize\": 12.0, \"position\": [0.82825100806451613, 0.51478494623655913], \"rotation\": -0.0, \"id\": \"el260564561939472\"}, {\"v_baseline\": \"auto\", \"h_anchor\": \"start\", \"color\": \"#000000\", \"text\": \"4.25\", \"coordinates\": \"axes\", \"zorder\": 1000003.0, \"alpha\": 1, \"fontsize\": 12.0, \"position\": [0.82825100806451613, 0.43548387096774199], \"rotation\": -0.0, \"id\": \"el260564504323984\"}, {\"v_baseline\": \"auto\", \"h_anchor\": \"start\", \"color\": \"#000000\", \"text\": \"4.26\", \"coordinates\": \"axes\", \"zorder\": 1000003.0, \"alpha\": 1, \"fontsize\": 12.0, \"position\": [0.82825100806451613, 0.35618279569892464], \"rotation\": -0.0, \"id\": \"el260564561451280\"}, {\"v_baseline\": \"auto\", \"h_anchor\": \"start\", \"color\": \"#000000\", \"text\": \"4.27\", \"coordinates\": \"axes\", \"zorder\": 1000003.0, \"alpha\": 1, \"fontsize\": 12.0, \"position\": [0.82825100806451613, 0.2768817204301075], \"rotation\": -0.0, \"id\": \"el260564552183760\"}, {\"v_baseline\": \"auto\", \"h_anchor\": \"start\", \"color\": \"#000000\", \"text\": \"4.28\", \"coordinates\": \"axes\", \"zorder\": 1000003.0, \"alpha\": 1, \"fontsize\": 12.0, \"position\": [0.82825100806451613, 0.19758064516129034], \"rotation\": -0.0, \"id\": \"el260564513429200\"}, {\"v_baseline\": \"auto\", \"h_anchor\": \"start\", \"color\": \"#000000\", \"text\": \"4.29\", \"coordinates\": \"axes\", \"zorder\": 1000003.0, \"alpha\": 1, \"fontsize\": 12.0, \"position\": [0.82825100806451613, 0.11827956989247315], \"rotation\": -0.0, \"id\": \"el260564504324112\"}, {\"v_baseline\": \"auto\", \"h_anchor\": \"start\", \"color\": \"#000000\", \"text\": \"4.3\", \"coordinates\": \"axes\", \"zorder\": 1000003.0, \"alpha\": 1, \"fontsize\": 12.0, \"position\": [0.82825100806451613, 0.03897849462365599], \"rotation\": -0.0, \"id\": \"el260564513428688\"}], \"zoomable\": true, \"images\": [], \"xdomain\": [-3.29, -3.2600000000000002], \"ylim\": [8.9999999999999989e-10, 1.2999999999999999e-09], \"paths\": [{\"edgecolor\": \"#000000\", \"facecolor\": \"#FFFFFF\", \"edgewidth\": 1.0, \"pathcodes\": [\"M\", \"L\", \"L\", \"L\", \"Z\"], \"yindex\": 1, \"coordinates\": \"axes\", \"dasharray\": \"10,0\", \"zorder\": 1000001.0, \"alpha\": 1, \"xindex\": 0, \"data\": \"data03\", \"id\": \"el260564561937040\"}], \"sharey\": [], \"sharex\": [], \"axesbgalpha\": null, \"axes\": [{\"scale\": \"linear\", \"tickformat\": null, \"grid\": {\"gridOn\": false}, \"fontsize\": 10.0, \"position\": \"bottom\", \"nticks\": 7, \"tickvalues\": null}, {\"scale\": \"linear\", \"tickformat\": null, \"grid\": {\"gridOn\": false}, \"fontsize\": 10.0, \"position\": \"left\", \"nticks\": 9, \"tickvalues\": null}], \"lines\": [{\"color\": \"#0000FF\", \"yindex\": 1, \"coordinates\": \"data\", \"dasharray\": \"10,0\", \"zorder\": 2, \"alpha\": 1, \"xindex\": 0, \"linewidth\": 2.0, \"data\": \"data01\", \"id\": \"el260564552663888\"}, {\"color\": \"#007F00\", \"yindex\": 2, \"coordinates\": \"data\", \"dasharray\": \"10,0\", \"zorder\": 2, \"alpha\": 1, \"xindex\": 0, \"linewidth\": 2.0, \"data\": \"data01\", \"id\": \"el260564552870800\"}, {\"color\": \"#FF0000\", \"yindex\": 3, \"coordinates\": \"data\", \"dasharray\": \"10,0\", \"zorder\": 2, \"alpha\": 1, \"xindex\": 0, \"linewidth\": 2.0, \"data\": \"data01\", \"id\": \"el260564552869264\"}, {\"color\": \"#00BFBF\", \"yindex\": 4, \"coordinates\": \"data\", \"dasharray\": \"10,0\", \"zorder\": 2, \"alpha\": 1, \"xindex\": 0, \"linewidth\": 2.0, \"data\": \"data01\", \"id\": \"el260564554258576\"}, {\"color\": \"#BF00BF\", \"yindex\": 5, \"coordinates\": \"data\", \"dasharray\": \"10,0\", \"zorder\": 2, \"alpha\": 1, \"xindex\": 0, \"linewidth\": 2.0, \"data\": \"data01\", \"id\": \"el260564554259920\"}, {\"color\": \"#BFBF00\", \"yindex\": 6, \"coordinates\": \"data\", \"dasharray\": \"10,0\", \"zorder\": 2, \"alpha\": 1, \"xindex\": 0, \"linewidth\": 2.0, \"data\": \"data01\", \"id\": \"el260564552338320\"}, {\"color\": \"#000000\", \"yindex\": 7, \"coordinates\": \"data\", \"dasharray\": \"10,0\", \"zorder\": 2, \"alpha\": 1, \"xindex\": 0, \"linewidth\": 2.0, \"data\": \"data01\", \"id\": \"el260564561707408\"}, {\"color\": \"#0000FF\", \"yindex\": 8, \"coordinates\": \"data\", \"dasharray\": \"10,0\", \"zorder\": 2, \"alpha\": 1, \"xindex\": 0, \"linewidth\": 2.0, \"data\": \"data01\", \"id\": \"el260564552663120\"}, {\"color\": \"#007F00\", \"yindex\": 9, \"coordinates\": \"data\", \"dasharray\": \"10,0\", \"zorder\": 2, \"alpha\": 1, \"xindex\": 0, \"linewidth\": 2.0, \"data\": \"data01\", \"id\": \"el260564561552400\"}, {\"color\": \"#FF0000\", \"yindex\": 10, \"coordinates\": \"data\", \"dasharray\": \"10,0\", \"zorder\": 2, \"alpha\": 1, \"xindex\": 0, \"linewidth\": 2.0, \"data\": \"data01\", \"id\": \"el260564561560080\"}, {\"color\": \"#00BFBF\", \"yindex\": 11, \"coordinates\": \"data\", \"dasharray\": \"10,0\", \"zorder\": 2, \"alpha\": 1, \"xindex\": 0, \"linewidth\": 2.0, \"data\": \"data01\", \"id\": \"el260564561755344\"}, {\"color\": \"#BF00BF\", \"yindex\": 12, \"coordinates\": \"data\", \"dasharray\": \"10,0\", \"zorder\": 2, \"alpha\": 1, \"xindex\": 0, \"linewidth\": 2.0, \"data\": \"data01\", \"id\": \"el260564552223824\"}, {\"color\": \"#0000FF\", \"yindex\": 1, \"coordinates\": \"axes\", \"dasharray\": \"10,0\", \"zorder\": 1000002.0, \"alpha\": 1, \"xindex\": 0, \"linewidth\": 2.0, \"data\": \"data02\", \"id\": \"el260564561937232\"}, {\"color\": \"#007F00\", \"yindex\": 2, \"coordinates\": \"axes\", \"dasharray\": \"10,0\", \"zorder\": 1000002.0, \"alpha\": 1, \"xindex\": 0, \"linewidth\": 2.0, \"data\": \"data02\", \"id\": \"el260564552016144\"}, {\"color\": \"#FF0000\", \"yindex\": 3, \"coordinates\": \"axes\", \"dasharray\": \"10,0\", \"zorder\": 1000002.0, \"alpha\": 1, \"xindex\": 0, \"linewidth\": 2.0, \"data\": \"data02\", \"id\": \"el260564513473552\"}, {\"color\": \"#00BFBF\", \"yindex\": 4, \"coordinates\": \"axes\", \"dasharray\": \"10,0\", \"zorder\": 1000002.0, \"alpha\": 1, \"xindex\": 0, \"linewidth\": 2.0, \"data\": \"data02\", \"id\": \"el260564503911696\"}, {\"color\": \"#BF00BF\", \"yindex\": 5, \"coordinates\": \"axes\", \"dasharray\": \"10,0\", \"zorder\": 1000002.0, \"alpha\": 1, \"xindex\": 0, \"linewidth\": 2.0, \"data\": \"data02\", \"id\": \"el260564503909712\"}, {\"color\": \"#BFBF00\", \"yindex\": 6, \"coordinates\": \"axes\", \"dasharray\": \"10,0\", \"zorder\": 1000002.0, \"alpha\": 1, \"xindex\": 0, \"linewidth\": 2.0, \"data\": \"data02\", \"id\": \"el260564549960400\"}, {\"color\": \"#000000\", \"yindex\": 7, \"coordinates\": \"axes\", \"dasharray\": \"10,0\", \"zorder\": 1000002.0, \"alpha\": 1, \"xindex\": 0, \"linewidth\": 2.0, \"data\": \"data02\", \"id\": \"el260564504323664\"}, {\"color\": \"#0000FF\", \"yindex\": 8, \"coordinates\": \"axes\", \"dasharray\": \"10,0\", \"zorder\": 1000002.0, \"alpha\": 1, \"xindex\": 0, \"linewidth\": 2.0, \"data\": \"data02\", \"id\": \"el260564561452112\"}, {\"color\": \"#007F00\", \"yindex\": 9, \"coordinates\": \"axes\", \"dasharray\": \"10,0\", \"zorder\": 1000002.0, \"alpha\": 1, \"xindex\": 0, \"linewidth\": 2.0, \"data\": \"data02\", \"id\": \"el260564552180880\"}, {\"color\": \"#FF0000\", \"yindex\": 10, \"coordinates\": \"axes\", \"dasharray\": \"10,0\", \"zorder\": 1000002.0, \"alpha\": 1, \"xindex\": 0, \"linewidth\": 2.0, \"data\": \"data02\", \"id\": \"el260564513430992\"}, {\"color\": \"#00BFBF\", \"yindex\": 11, \"coordinates\": \"axes\", \"dasharray\": \"10,0\", \"zorder\": 1000002.0, \"alpha\": 1, \"xindex\": 0, \"linewidth\": 2.0, \"data\": \"data02\", \"id\": \"el260564503912080\"}, {\"color\": \"#BF00BF\", \"yindex\": 12, \"coordinates\": \"axes\", \"dasharray\": \"10,0\", \"zorder\": 1000002.0, \"alpha\": 1, \"xindex\": 0, \"linewidth\": 2.0, \"data\": \"data02\", \"id\": \"el260564550450896\"}], \"markers\": [], \"id\": \"el260564552884816\", \"ydomain\": [8.9999999999999989e-10, 1.2999999999999999e-09], \"collections\": [], \"xscale\": \"linear\", \"bbox\": [0.125, 0.125, 0.77500000000000002, 0.77500000000000002]}], \"height\": 320.0, \"width\": 480.0, \"plugins\": [{\"type\": \"reset\"}, {\"enabled\": false, \"button\": true, \"type\": \"zoom\"}, {\"enabled\": false, \"button\": true, \"type\": \"boxzoom\"}], \"data\": {\"data02\": [[0.7386452732974911, 0.9301075268817204, 0.8508064516129032, 0.771505376344086, 0.6922043010752688, 0.6129032258064515, 0.5336021505376344, 0.45430107526881724, 0.3749999999999999, 0.29569892473118276, 0.21639784946236562, 0.13709677419354843, 0.057795698924731256], [0.7888244847670252, 0.9301075268817204, 0.8508064516129032, 0.771505376344086, 0.6922043010752688, 0.6129032258064515, 0.5336021505376344, 0.45430107526881724, 0.3749999999999999, 0.29569892473118276, 0.21639784946236562, 0.13709677419354843, 0.057795698924731256]], \"data03\": [[0.713555667562724, 0.005376344086021556], [0.982078853046595, 0.005376344086021556], [0.982078853046595, 0.9731182795698924], [0.713555667562724, 0.9731182795698924]], \"data01\": [[-3.29, 1e-09, 1.2582693775797793e-09, 1.222017265156694e-09, 1.1869296656641382e-09, 1.1529665000509226e-09, 1.1200922411802594e-09, 1.0882725831606876e-09, 1.0574799924611966e-09, 1.0276756112759244e-09, 9.988265770033422e-10, 9.70896918417452e-10, 9.438706483066994e-10], [-3.2800000000000002, 1e-09, 1.2599414844771673e-09, 1.2230234602839118e-09, 1.1872920424593758e-09, 1.1527125920451908e-09, 1.1192511362168034e-09, 1.0868621558302038e-09, 1.0555143425960978e-09, 1.0251760551582834e-09, 9.958179836289105e-10, 9.673979395330434e-10, 9.39883504358363e-10], [-3.2700000000000005, 1e-09, 1.2644855162946556e-09, 1.2268933646808478e-09, 1.1905085806063198e-09, 1.1552915291090926e-09, 1.1212185624387416e-09, 1.088233281265616e-09, 1.0563137031738279e-09, 1.0254307403201324e-09, 9.955445356979453e-10, 9.666162315014049e-10, 9.38606969924649e-10], [-3.2600000000000007, 1e-09, 1.2716305786142357e-09, 1.2333485344129258e-09, 1.1962912882523824e-09, 1.160427531843311e-09, 1.1257182963575474e-09, 1.092126500346069e-09, 1.0596149513375508e-09, 1.0281636653175497e-09, 9.977184634024638e-10, 9.682747936778924e-10, 9.397586042680928e-10]]}, \"id\": \"el260564552887504\"});\n",
       "   }(mpld3);\n",
       "}else if(typeof define === \"function\" && define.amd){\n",
       "   // require.js is available: use it to load d3/mpld3\n",
       "   require.config({paths: {d3: \"https://mpld3.github.io/js/d3.v3.min\"}});\n",
       "   require([\"d3\"], function(d3){\n",
       "      window.d3 = d3;\n",
       "      mpld3_load_lib(\"https://mpld3.github.io/js/mpld3.v0.2.js\", function(){\n",
       "         \n",
       "         mpld3.draw_figure(\"fig_el2605645528875046483304049\", {\"axes\": [{\"xlim\": [-3.29, -3.2600000000000002], \"yscale\": \"linear\", \"axesbg\": \"#FFFFFF\", \"texts\": [{\"v_baseline\": \"hanging\", \"h_anchor\": \"middle\", \"color\": \"#000000\", \"text\": \"rSNR3\", \"coordinates\": \"axes\", \"zorder\": 3, \"alpha\": 1, \"fontsize\": 20.0, \"position\": [0.5, -0.080645161290322578], \"rotation\": -0.0, \"id\": \"el260564504405968\"}, {\"v_baseline\": \"auto\", \"h_anchor\": \"middle\", \"color\": \"#000000\", \"text\": \"P(fail)\", \"coordinates\": \"axes\", \"zorder\": 3, \"alpha\": 1, \"fontsize\": 20.0, \"position\": [-0.089885752688172033, 0.5], \"rotation\": -90.0, \"id\": \"el260564552869328\"}, {\"v_baseline\": \"auto\", \"h_anchor\": \"middle\", \"color\": \"#000000\", \"text\": \"N=17\", \"coordinates\": \"axes\", \"zorder\": 3, \"alpha\": 1, \"fontsize\": 20.0, \"position\": [0.5, 1.0224014336917562], \"rotation\": -0.0, \"id\": \"el260564552410768\"}, {\"v_baseline\": \"auto\", \"h_anchor\": \"start\", \"color\": \"#000000\", \"text\": \"None\", \"coordinates\": \"axes\", \"zorder\": 1000003.0, \"alpha\": 1, \"fontsize\": 10.0, \"position\": [-0.16129032258064516, -0.16129032258064516], \"rotation\": -0.0, \"id\": \"el260564550447440\"}, {\"v_baseline\": \"auto\", \"h_anchor\": \"start\", \"color\": \"#000000\", \"text\": \"Protocol\", \"coordinates\": \"axes\", \"zorder\": 1000003.0, \"alpha\": 1, \"fontsize\": 12.0, \"position\": [0.82825100806451613, 0.91129032258064513], \"rotation\": -0.0, \"id\": \"el260564561937488\"}, {\"v_baseline\": \"auto\", \"h_anchor\": \"start\", \"color\": \"#000000\", \"text\": \"4.2\", \"coordinates\": \"axes\", \"zorder\": 1000003.0, \"alpha\": 1, \"fontsize\": 12.0, \"position\": [0.82825100806451613, 0.831989247311828], \"rotation\": -0.0, \"id\": \"el260564552018576\"}, {\"v_baseline\": \"auto\", \"h_anchor\": \"start\", \"color\": \"#000000\", \"text\": \"4.21\", \"coordinates\": \"axes\", \"zorder\": 1000003.0, \"alpha\": 1, \"fontsize\": 12.0, \"position\": [0.82825100806451613, 0.75268817204301075], \"rotation\": -0.0, \"id\": \"el260564513475344\"}, {\"v_baseline\": \"auto\", \"h_anchor\": \"start\", \"color\": \"#000000\", \"text\": \"4.22\", \"coordinates\": \"axes\", \"zorder\": 1000003.0, \"alpha\": 1, \"fontsize\": 12.0, \"position\": [0.82825100806451613, 0.67338709677419351], \"rotation\": -0.0, \"id\": \"el260564513475472\"}, {\"v_baseline\": \"auto\", \"h_anchor\": \"start\", \"color\": \"#000000\", \"text\": \"4.23\", \"coordinates\": \"axes\", \"zorder\": 1000003.0, \"alpha\": 1, \"fontsize\": 12.0, \"position\": [0.82825100806451613, 0.59408602150537626], \"rotation\": -0.0, \"id\": \"el260564549960016\"}, {\"v_baseline\": \"auto\", \"h_anchor\": \"start\", \"color\": \"#000000\", \"text\": \"4.24\", \"coordinates\": \"axes\", \"zorder\": 1000003.0, \"alpha\": 1, \"fontsize\": 12.0, \"position\": [0.82825100806451613, 0.51478494623655913], \"rotation\": -0.0, \"id\": \"el260564561939472\"}, {\"v_baseline\": \"auto\", \"h_anchor\": \"start\", \"color\": \"#000000\", \"text\": \"4.25\", \"coordinates\": \"axes\", \"zorder\": 1000003.0, \"alpha\": 1, \"fontsize\": 12.0, \"position\": [0.82825100806451613, 0.43548387096774199], \"rotation\": -0.0, \"id\": \"el260564504323984\"}, {\"v_baseline\": \"auto\", \"h_anchor\": \"start\", \"color\": \"#000000\", \"text\": \"4.26\", \"coordinates\": \"axes\", \"zorder\": 1000003.0, \"alpha\": 1, \"fontsize\": 12.0, \"position\": [0.82825100806451613, 0.35618279569892464], \"rotation\": -0.0, \"id\": \"el260564561451280\"}, {\"v_baseline\": \"auto\", \"h_anchor\": \"start\", \"color\": \"#000000\", \"text\": \"4.27\", \"coordinates\": \"axes\", \"zorder\": 1000003.0, \"alpha\": 1, \"fontsize\": 12.0, \"position\": [0.82825100806451613, 0.2768817204301075], \"rotation\": -0.0, \"id\": \"el260564552183760\"}, {\"v_baseline\": \"auto\", \"h_anchor\": \"start\", \"color\": \"#000000\", \"text\": \"4.28\", \"coordinates\": \"axes\", \"zorder\": 1000003.0, \"alpha\": 1, \"fontsize\": 12.0, \"position\": [0.82825100806451613, 0.19758064516129034], \"rotation\": -0.0, \"id\": \"el260564513429200\"}, {\"v_baseline\": \"auto\", \"h_anchor\": \"start\", \"color\": \"#000000\", \"text\": \"4.29\", \"coordinates\": \"axes\", \"zorder\": 1000003.0, \"alpha\": 1, \"fontsize\": 12.0, \"position\": [0.82825100806451613, 0.11827956989247315], \"rotation\": -0.0, \"id\": \"el260564504324112\"}, {\"v_baseline\": \"auto\", \"h_anchor\": \"start\", \"color\": \"#000000\", \"text\": \"4.3\", \"coordinates\": \"axes\", \"zorder\": 1000003.0, \"alpha\": 1, \"fontsize\": 12.0, \"position\": [0.82825100806451613, 0.03897849462365599], \"rotation\": -0.0, \"id\": \"el260564513428688\"}], \"zoomable\": true, \"images\": [], \"xdomain\": [-3.29, -3.2600000000000002], \"ylim\": [8.9999999999999989e-10, 1.2999999999999999e-09], \"paths\": [{\"edgecolor\": \"#000000\", \"facecolor\": \"#FFFFFF\", \"edgewidth\": 1.0, \"pathcodes\": [\"M\", \"L\", \"L\", \"L\", \"Z\"], \"yindex\": 1, \"coordinates\": \"axes\", \"dasharray\": \"10,0\", \"zorder\": 1000001.0, \"alpha\": 1, \"xindex\": 0, \"data\": \"data03\", \"id\": \"el260564561937040\"}], \"sharey\": [], \"sharex\": [], \"axesbgalpha\": null, \"axes\": [{\"scale\": \"linear\", \"tickformat\": null, \"grid\": {\"gridOn\": false}, \"fontsize\": 10.0, \"position\": \"bottom\", \"nticks\": 7, \"tickvalues\": null}, {\"scale\": \"linear\", \"tickformat\": null, \"grid\": {\"gridOn\": false}, \"fontsize\": 10.0, \"position\": \"left\", \"nticks\": 9, \"tickvalues\": null}], \"lines\": [{\"color\": \"#0000FF\", \"yindex\": 1, \"coordinates\": \"data\", \"dasharray\": \"10,0\", \"zorder\": 2, \"alpha\": 1, \"xindex\": 0, \"linewidth\": 2.0, \"data\": \"data01\", \"id\": \"el260564552663888\"}, {\"color\": \"#007F00\", \"yindex\": 2, \"coordinates\": \"data\", \"dasharray\": \"10,0\", \"zorder\": 2, \"alpha\": 1, \"xindex\": 0, \"linewidth\": 2.0, \"data\": \"data01\", \"id\": \"el260564552870800\"}, {\"color\": \"#FF0000\", \"yindex\": 3, \"coordinates\": \"data\", \"dasharray\": \"10,0\", \"zorder\": 2, \"alpha\": 1, \"xindex\": 0, \"linewidth\": 2.0, \"data\": \"data01\", \"id\": \"el260564552869264\"}, {\"color\": \"#00BFBF\", \"yindex\": 4, \"coordinates\": \"data\", \"dasharray\": \"10,0\", \"zorder\": 2, \"alpha\": 1, \"xindex\": 0, \"linewidth\": 2.0, \"data\": \"data01\", \"id\": \"el260564554258576\"}, {\"color\": \"#BF00BF\", \"yindex\": 5, \"coordinates\": \"data\", \"dasharray\": \"10,0\", \"zorder\": 2, \"alpha\": 1, \"xindex\": 0, \"linewidth\": 2.0, \"data\": \"data01\", \"id\": \"el260564554259920\"}, {\"color\": \"#BFBF00\", \"yindex\": 6, \"coordinates\": \"data\", \"dasharray\": \"10,0\", \"zorder\": 2, \"alpha\": 1, \"xindex\": 0, \"linewidth\": 2.0, \"data\": \"data01\", \"id\": \"el260564552338320\"}, {\"color\": \"#000000\", \"yindex\": 7, \"coordinates\": \"data\", \"dasharray\": \"10,0\", \"zorder\": 2, \"alpha\": 1, \"xindex\": 0, \"linewidth\": 2.0, \"data\": \"data01\", \"id\": \"el260564561707408\"}, {\"color\": \"#0000FF\", \"yindex\": 8, \"coordinates\": \"data\", \"dasharray\": \"10,0\", \"zorder\": 2, \"alpha\": 1, \"xindex\": 0, \"linewidth\": 2.0, \"data\": \"data01\", \"id\": \"el260564552663120\"}, {\"color\": \"#007F00\", \"yindex\": 9, \"coordinates\": \"data\", \"dasharray\": \"10,0\", \"zorder\": 2, \"alpha\": 1, \"xindex\": 0, \"linewidth\": 2.0, \"data\": \"data01\", \"id\": \"el260564561552400\"}, {\"color\": \"#FF0000\", \"yindex\": 10, \"coordinates\": \"data\", \"dasharray\": \"10,0\", \"zorder\": 2, \"alpha\": 1, \"xindex\": 0, \"linewidth\": 2.0, \"data\": \"data01\", \"id\": \"el260564561560080\"}, {\"color\": \"#00BFBF\", \"yindex\": 11, \"coordinates\": \"data\", \"dasharray\": \"10,0\", \"zorder\": 2, \"alpha\": 1, \"xindex\": 0, \"linewidth\": 2.0, \"data\": \"data01\", \"id\": \"el260564561755344\"}, {\"color\": \"#BF00BF\", \"yindex\": 12, \"coordinates\": \"data\", \"dasharray\": \"10,0\", \"zorder\": 2, \"alpha\": 1, \"xindex\": 0, \"linewidth\": 2.0, \"data\": \"data01\", \"id\": \"el260564552223824\"}, {\"color\": \"#0000FF\", \"yindex\": 1, \"coordinates\": \"axes\", \"dasharray\": \"10,0\", \"zorder\": 1000002.0, \"alpha\": 1, \"xindex\": 0, \"linewidth\": 2.0, \"data\": \"data02\", \"id\": \"el260564561937232\"}, {\"color\": \"#007F00\", \"yindex\": 2, \"coordinates\": \"axes\", \"dasharray\": \"10,0\", \"zorder\": 1000002.0, \"alpha\": 1, \"xindex\": 0, \"linewidth\": 2.0, \"data\": \"data02\", \"id\": \"el260564552016144\"}, {\"color\": \"#FF0000\", \"yindex\": 3, \"coordinates\": \"axes\", \"dasharray\": \"10,0\", \"zorder\": 1000002.0, \"alpha\": 1, \"xindex\": 0, \"linewidth\": 2.0, \"data\": \"data02\", \"id\": \"el260564513473552\"}, {\"color\": \"#00BFBF\", \"yindex\": 4, \"coordinates\": \"axes\", \"dasharray\": \"10,0\", \"zorder\": 1000002.0, \"alpha\": 1, \"xindex\": 0, \"linewidth\": 2.0, \"data\": \"data02\", \"id\": \"el260564503911696\"}, {\"color\": \"#BF00BF\", \"yindex\": 5, \"coordinates\": \"axes\", \"dasharray\": \"10,0\", \"zorder\": 1000002.0, \"alpha\": 1, \"xindex\": 0, \"linewidth\": 2.0, \"data\": \"data02\", \"id\": \"el260564503909712\"}, {\"color\": \"#BFBF00\", \"yindex\": 6, \"coordinates\": \"axes\", \"dasharray\": \"10,0\", \"zorder\": 1000002.0, \"alpha\": 1, \"xindex\": 0, \"linewidth\": 2.0, \"data\": \"data02\", \"id\": \"el260564549960400\"}, {\"color\": \"#000000\", \"yindex\": 7, \"coordinates\": \"axes\", \"dasharray\": \"10,0\", \"zorder\": 1000002.0, \"alpha\": 1, \"xindex\": 0, \"linewidth\": 2.0, \"data\": \"data02\", \"id\": \"el260564504323664\"}, {\"color\": \"#0000FF\", \"yindex\": 8, \"coordinates\": \"axes\", \"dasharray\": \"10,0\", \"zorder\": 1000002.0, \"alpha\": 1, \"xindex\": 0, \"linewidth\": 2.0, \"data\": \"data02\", \"id\": \"el260564561452112\"}, {\"color\": \"#007F00\", \"yindex\": 9, \"coordinates\": \"axes\", \"dasharray\": \"10,0\", \"zorder\": 1000002.0, \"alpha\": 1, \"xindex\": 0, \"linewidth\": 2.0, \"data\": \"data02\", \"id\": \"el260564552180880\"}, {\"color\": \"#FF0000\", \"yindex\": 10, \"coordinates\": \"axes\", \"dasharray\": \"10,0\", \"zorder\": 1000002.0, \"alpha\": 1, \"xindex\": 0, \"linewidth\": 2.0, \"data\": \"data02\", \"id\": \"el260564513430992\"}, {\"color\": \"#00BFBF\", \"yindex\": 11, \"coordinates\": \"axes\", \"dasharray\": \"10,0\", \"zorder\": 1000002.0, \"alpha\": 1, \"xindex\": 0, \"linewidth\": 2.0, \"data\": \"data02\", \"id\": \"el260564503912080\"}, {\"color\": \"#BF00BF\", \"yindex\": 12, \"coordinates\": \"axes\", \"dasharray\": \"10,0\", \"zorder\": 1000002.0, \"alpha\": 1, \"xindex\": 0, \"linewidth\": 2.0, \"data\": \"data02\", \"id\": \"el260564550450896\"}], \"markers\": [], \"id\": \"el260564552884816\", \"ydomain\": [8.9999999999999989e-10, 1.2999999999999999e-09], \"collections\": [], \"xscale\": \"linear\", \"bbox\": [0.125, 0.125, 0.77500000000000002, 0.77500000000000002]}], \"height\": 320.0, \"width\": 480.0, \"plugins\": [{\"type\": \"reset\"}, {\"enabled\": false, \"button\": true, \"type\": \"zoom\"}, {\"enabled\": false, \"button\": true, \"type\": \"boxzoom\"}], \"data\": {\"data02\": [[0.7386452732974911, 0.9301075268817204, 0.8508064516129032, 0.771505376344086, 0.6922043010752688, 0.6129032258064515, 0.5336021505376344, 0.45430107526881724, 0.3749999999999999, 0.29569892473118276, 0.21639784946236562, 0.13709677419354843, 0.057795698924731256], [0.7888244847670252, 0.9301075268817204, 0.8508064516129032, 0.771505376344086, 0.6922043010752688, 0.6129032258064515, 0.5336021505376344, 0.45430107526881724, 0.3749999999999999, 0.29569892473118276, 0.21639784946236562, 0.13709677419354843, 0.057795698924731256]], \"data03\": [[0.713555667562724, 0.005376344086021556], [0.982078853046595, 0.005376344086021556], [0.982078853046595, 0.9731182795698924], [0.713555667562724, 0.9731182795698924]], \"data01\": [[-3.29, 1e-09, 1.2582693775797793e-09, 1.222017265156694e-09, 1.1869296656641382e-09, 1.1529665000509226e-09, 1.1200922411802594e-09, 1.0882725831606876e-09, 1.0574799924611966e-09, 1.0276756112759244e-09, 9.988265770033422e-10, 9.70896918417452e-10, 9.438706483066994e-10], [-3.2800000000000002, 1e-09, 1.2599414844771673e-09, 1.2230234602839118e-09, 1.1872920424593758e-09, 1.1527125920451908e-09, 1.1192511362168034e-09, 1.0868621558302038e-09, 1.0555143425960978e-09, 1.0251760551582834e-09, 9.958179836289105e-10, 9.673979395330434e-10, 9.39883504358363e-10], [-3.2700000000000005, 1e-09, 1.2644855162946556e-09, 1.2268933646808478e-09, 1.1905085806063198e-09, 1.1552915291090926e-09, 1.1212185624387416e-09, 1.088233281265616e-09, 1.0563137031738279e-09, 1.0254307403201324e-09, 9.955445356979453e-10, 9.666162315014049e-10, 9.38606969924649e-10], [-3.2600000000000007, 1e-09, 1.2716305786142357e-09, 1.2333485344129258e-09, 1.1962912882523824e-09, 1.160427531843311e-09, 1.1257182963575474e-09, 1.092126500346069e-09, 1.0596149513375508e-09, 1.0281636653175497e-09, 9.977184634024638e-10, 9.682747936778924e-10, 9.397586042680928e-10]]}, \"id\": \"el260564552887504\"});\n",
       "      });\n",
       "    });\n",
       "}else{\n",
       "    // require.js not available: dynamically load d3 & mpld3\n",
       "    mpld3_load_lib(\"https://mpld3.github.io/js/d3.v3.min.js\", function(){\n",
       "         mpld3_load_lib(\"https://mpld3.github.io/js/mpld3.v0.2.js\", function(){\n",
       "                 \n",
       "                 mpld3.draw_figure(\"fig_el2605645528875046483304049\", {\"axes\": [{\"xlim\": [-3.29, -3.2600000000000002], \"yscale\": \"linear\", \"axesbg\": \"#FFFFFF\", \"texts\": [{\"v_baseline\": \"hanging\", \"h_anchor\": \"middle\", \"color\": \"#000000\", \"text\": \"rSNR3\", \"coordinates\": \"axes\", \"zorder\": 3, \"alpha\": 1, \"fontsize\": 20.0, \"position\": [0.5, -0.080645161290322578], \"rotation\": -0.0, \"id\": \"el260564504405968\"}, {\"v_baseline\": \"auto\", \"h_anchor\": \"middle\", \"color\": \"#000000\", \"text\": \"P(fail)\", \"coordinates\": \"axes\", \"zorder\": 3, \"alpha\": 1, \"fontsize\": 20.0, \"position\": [-0.089885752688172033, 0.5], \"rotation\": -90.0, \"id\": \"el260564552869328\"}, {\"v_baseline\": \"auto\", \"h_anchor\": \"middle\", \"color\": \"#000000\", \"text\": \"N=17\", \"coordinates\": \"axes\", \"zorder\": 3, \"alpha\": 1, \"fontsize\": 20.0, \"position\": [0.5, 1.0224014336917562], \"rotation\": -0.0, \"id\": \"el260564552410768\"}, {\"v_baseline\": \"auto\", \"h_anchor\": \"start\", \"color\": \"#000000\", \"text\": \"None\", \"coordinates\": \"axes\", \"zorder\": 1000003.0, \"alpha\": 1, \"fontsize\": 10.0, \"position\": [-0.16129032258064516, -0.16129032258064516], \"rotation\": -0.0, \"id\": \"el260564550447440\"}, {\"v_baseline\": \"auto\", \"h_anchor\": \"start\", \"color\": \"#000000\", \"text\": \"Protocol\", \"coordinates\": \"axes\", \"zorder\": 1000003.0, \"alpha\": 1, \"fontsize\": 12.0, \"position\": [0.82825100806451613, 0.91129032258064513], \"rotation\": -0.0, \"id\": \"el260564561937488\"}, {\"v_baseline\": \"auto\", \"h_anchor\": \"start\", \"color\": \"#000000\", \"text\": \"4.2\", \"coordinates\": \"axes\", \"zorder\": 1000003.0, \"alpha\": 1, \"fontsize\": 12.0, \"position\": [0.82825100806451613, 0.831989247311828], \"rotation\": -0.0, \"id\": \"el260564552018576\"}, {\"v_baseline\": \"auto\", \"h_anchor\": \"start\", \"color\": \"#000000\", \"text\": \"4.21\", \"coordinates\": \"axes\", \"zorder\": 1000003.0, \"alpha\": 1, \"fontsize\": 12.0, \"position\": [0.82825100806451613, 0.75268817204301075], \"rotation\": -0.0, \"id\": \"el260564513475344\"}, {\"v_baseline\": \"auto\", \"h_anchor\": \"start\", \"color\": \"#000000\", \"text\": \"4.22\", \"coordinates\": \"axes\", \"zorder\": 1000003.0, \"alpha\": 1, \"fontsize\": 12.0, \"position\": [0.82825100806451613, 0.67338709677419351], \"rotation\": -0.0, \"id\": \"el260564513475472\"}, {\"v_baseline\": \"auto\", \"h_anchor\": \"start\", \"color\": \"#000000\", \"text\": \"4.23\", \"coordinates\": \"axes\", \"zorder\": 1000003.0, \"alpha\": 1, \"fontsize\": 12.0, \"position\": [0.82825100806451613, 0.59408602150537626], \"rotation\": -0.0, \"id\": \"el260564549960016\"}, {\"v_baseline\": \"auto\", \"h_anchor\": \"start\", \"color\": \"#000000\", \"text\": \"4.24\", \"coordinates\": \"axes\", \"zorder\": 1000003.0, \"alpha\": 1, \"fontsize\": 12.0, \"position\": [0.82825100806451613, 0.51478494623655913], \"rotation\": -0.0, \"id\": \"el260564561939472\"}, {\"v_baseline\": \"auto\", \"h_anchor\": \"start\", \"color\": \"#000000\", \"text\": \"4.25\", \"coordinates\": \"axes\", \"zorder\": 1000003.0, \"alpha\": 1, \"fontsize\": 12.0, \"position\": [0.82825100806451613, 0.43548387096774199], \"rotation\": -0.0, \"id\": \"el260564504323984\"}, {\"v_baseline\": \"auto\", \"h_anchor\": \"start\", \"color\": \"#000000\", \"text\": \"4.26\", \"coordinates\": \"axes\", \"zorder\": 1000003.0, \"alpha\": 1, \"fontsize\": 12.0, \"position\": [0.82825100806451613, 0.35618279569892464], \"rotation\": -0.0, \"id\": \"el260564561451280\"}, {\"v_baseline\": \"auto\", \"h_anchor\": \"start\", \"color\": \"#000000\", \"text\": \"4.27\", \"coordinates\": \"axes\", \"zorder\": 1000003.0, \"alpha\": 1, \"fontsize\": 12.0, \"position\": [0.82825100806451613, 0.2768817204301075], \"rotation\": -0.0, \"id\": \"el260564552183760\"}, {\"v_baseline\": \"auto\", \"h_anchor\": \"start\", \"color\": \"#000000\", \"text\": \"4.28\", \"coordinates\": \"axes\", \"zorder\": 1000003.0, \"alpha\": 1, \"fontsize\": 12.0, \"position\": [0.82825100806451613, 0.19758064516129034], \"rotation\": -0.0, \"id\": \"el260564513429200\"}, {\"v_baseline\": \"auto\", \"h_anchor\": \"start\", \"color\": \"#000000\", \"text\": \"4.29\", \"coordinates\": \"axes\", \"zorder\": 1000003.0, \"alpha\": 1, \"fontsize\": 12.0, \"position\": [0.82825100806451613, 0.11827956989247315], \"rotation\": -0.0, \"id\": \"el260564504324112\"}, {\"v_baseline\": \"auto\", \"h_anchor\": \"start\", \"color\": \"#000000\", \"text\": \"4.3\", \"coordinates\": \"axes\", \"zorder\": 1000003.0, \"alpha\": 1, \"fontsize\": 12.0, \"position\": [0.82825100806451613, 0.03897849462365599], \"rotation\": -0.0, \"id\": \"el260564513428688\"}], \"zoomable\": true, \"images\": [], \"xdomain\": [-3.29, -3.2600000000000002], \"ylim\": [8.9999999999999989e-10, 1.2999999999999999e-09], \"paths\": [{\"edgecolor\": \"#000000\", \"facecolor\": \"#FFFFFF\", \"edgewidth\": 1.0, \"pathcodes\": [\"M\", \"L\", \"L\", \"L\", \"Z\"], \"yindex\": 1, \"coordinates\": \"axes\", \"dasharray\": \"10,0\", \"zorder\": 1000001.0, \"alpha\": 1, \"xindex\": 0, \"data\": \"data03\", \"id\": \"el260564561937040\"}], \"sharey\": [], \"sharex\": [], \"axesbgalpha\": null, \"axes\": [{\"scale\": \"linear\", \"tickformat\": null, \"grid\": {\"gridOn\": false}, \"fontsize\": 10.0, \"position\": \"bottom\", \"nticks\": 7, \"tickvalues\": null}, {\"scale\": \"linear\", \"tickformat\": null, \"grid\": {\"gridOn\": false}, \"fontsize\": 10.0, \"position\": \"left\", \"nticks\": 9, \"tickvalues\": null}], \"lines\": [{\"color\": \"#0000FF\", \"yindex\": 1, \"coordinates\": \"data\", \"dasharray\": \"10,0\", \"zorder\": 2, \"alpha\": 1, \"xindex\": 0, \"linewidth\": 2.0, \"data\": \"data01\", \"id\": \"el260564552663888\"}, {\"color\": \"#007F00\", \"yindex\": 2, \"coordinates\": \"data\", \"dasharray\": \"10,0\", \"zorder\": 2, \"alpha\": 1, \"xindex\": 0, \"linewidth\": 2.0, \"data\": \"data01\", \"id\": \"el260564552870800\"}, {\"color\": \"#FF0000\", \"yindex\": 3, \"coordinates\": \"data\", \"dasharray\": \"10,0\", \"zorder\": 2, \"alpha\": 1, \"xindex\": 0, \"linewidth\": 2.0, \"data\": \"data01\", \"id\": \"el260564552869264\"}, {\"color\": \"#00BFBF\", \"yindex\": 4, \"coordinates\": \"data\", \"dasharray\": \"10,0\", \"zorder\": 2, \"alpha\": 1, \"xindex\": 0, \"linewidth\": 2.0, \"data\": \"data01\", \"id\": \"el260564554258576\"}, {\"color\": \"#BF00BF\", \"yindex\": 5, \"coordinates\": \"data\", \"dasharray\": \"10,0\", \"zorder\": 2, \"alpha\": 1, \"xindex\": 0, \"linewidth\": 2.0, \"data\": \"data01\", \"id\": \"el260564554259920\"}, {\"color\": \"#BFBF00\", \"yindex\": 6, \"coordinates\": \"data\", \"dasharray\": \"10,0\", \"zorder\": 2, \"alpha\": 1, \"xindex\": 0, \"linewidth\": 2.0, \"data\": \"data01\", \"id\": \"el260564552338320\"}, {\"color\": \"#000000\", \"yindex\": 7, \"coordinates\": \"data\", \"dasharray\": \"10,0\", \"zorder\": 2, \"alpha\": 1, \"xindex\": 0, \"linewidth\": 2.0, \"data\": \"data01\", \"id\": \"el260564561707408\"}, {\"color\": \"#0000FF\", \"yindex\": 8, \"coordinates\": \"data\", \"dasharray\": \"10,0\", \"zorder\": 2, \"alpha\": 1, \"xindex\": 0, \"linewidth\": 2.0, \"data\": \"data01\", \"id\": \"el260564552663120\"}, {\"color\": \"#007F00\", \"yindex\": 9, \"coordinates\": \"data\", \"dasharray\": \"10,0\", \"zorder\": 2, \"alpha\": 1, \"xindex\": 0, \"linewidth\": 2.0, \"data\": \"data01\", \"id\": \"el260564561552400\"}, {\"color\": \"#FF0000\", \"yindex\": 10, \"coordinates\": \"data\", \"dasharray\": \"10,0\", \"zorder\": 2, \"alpha\": 1, \"xindex\": 0, \"linewidth\": 2.0, \"data\": \"data01\", \"id\": \"el260564561560080\"}, {\"color\": \"#00BFBF\", \"yindex\": 11, \"coordinates\": \"data\", \"dasharray\": \"10,0\", \"zorder\": 2, \"alpha\": 1, \"xindex\": 0, \"linewidth\": 2.0, \"data\": \"data01\", \"id\": \"el260564561755344\"}, {\"color\": \"#BF00BF\", \"yindex\": 12, \"coordinates\": \"data\", \"dasharray\": \"10,0\", \"zorder\": 2, \"alpha\": 1, \"xindex\": 0, \"linewidth\": 2.0, \"data\": \"data01\", \"id\": \"el260564552223824\"}, {\"color\": \"#0000FF\", \"yindex\": 1, \"coordinates\": \"axes\", \"dasharray\": \"10,0\", \"zorder\": 1000002.0, \"alpha\": 1, \"xindex\": 0, \"linewidth\": 2.0, \"data\": \"data02\", \"id\": \"el260564561937232\"}, {\"color\": \"#007F00\", \"yindex\": 2, \"coordinates\": \"axes\", \"dasharray\": \"10,0\", \"zorder\": 1000002.0, \"alpha\": 1, \"xindex\": 0, \"linewidth\": 2.0, \"data\": \"data02\", \"id\": \"el260564552016144\"}, {\"color\": \"#FF0000\", \"yindex\": 3, \"coordinates\": \"axes\", \"dasharray\": \"10,0\", \"zorder\": 1000002.0, \"alpha\": 1, \"xindex\": 0, \"linewidth\": 2.0, \"data\": \"data02\", \"id\": \"el260564513473552\"}, {\"color\": \"#00BFBF\", \"yindex\": 4, \"coordinates\": \"axes\", \"dasharray\": \"10,0\", \"zorder\": 1000002.0, \"alpha\": 1, \"xindex\": 0, \"linewidth\": 2.0, \"data\": \"data02\", \"id\": \"el260564503911696\"}, {\"color\": \"#BF00BF\", \"yindex\": 5, \"coordinates\": \"axes\", \"dasharray\": \"10,0\", \"zorder\": 1000002.0, \"alpha\": 1, \"xindex\": 0, \"linewidth\": 2.0, \"data\": \"data02\", \"id\": \"el260564503909712\"}, {\"color\": \"#BFBF00\", \"yindex\": 6, \"coordinates\": \"axes\", \"dasharray\": \"10,0\", \"zorder\": 1000002.0, \"alpha\": 1, \"xindex\": 0, \"linewidth\": 2.0, \"data\": \"data02\", \"id\": \"el260564549960400\"}, {\"color\": \"#000000\", \"yindex\": 7, \"coordinates\": \"axes\", \"dasharray\": \"10,0\", \"zorder\": 1000002.0, \"alpha\": 1, \"xindex\": 0, \"linewidth\": 2.0, \"data\": \"data02\", \"id\": \"el260564504323664\"}, {\"color\": \"#0000FF\", \"yindex\": 8, \"coordinates\": \"axes\", \"dasharray\": \"10,0\", \"zorder\": 1000002.0, \"alpha\": 1, \"xindex\": 0, \"linewidth\": 2.0, \"data\": \"data02\", \"id\": \"el260564561452112\"}, {\"color\": \"#007F00\", \"yindex\": 9, \"coordinates\": \"axes\", \"dasharray\": \"10,0\", \"zorder\": 1000002.0, \"alpha\": 1, \"xindex\": 0, \"linewidth\": 2.0, \"data\": \"data02\", \"id\": \"el260564552180880\"}, {\"color\": \"#FF0000\", \"yindex\": 10, \"coordinates\": \"axes\", \"dasharray\": \"10,0\", \"zorder\": 1000002.0, \"alpha\": 1, \"xindex\": 0, \"linewidth\": 2.0, \"data\": \"data02\", \"id\": \"el260564513430992\"}, {\"color\": \"#00BFBF\", \"yindex\": 11, \"coordinates\": \"axes\", \"dasharray\": \"10,0\", \"zorder\": 1000002.0, \"alpha\": 1, \"xindex\": 0, \"linewidth\": 2.0, \"data\": \"data02\", \"id\": \"el260564503912080\"}, {\"color\": \"#BF00BF\", \"yindex\": 12, \"coordinates\": \"axes\", \"dasharray\": \"10,0\", \"zorder\": 1000002.0, \"alpha\": 1, \"xindex\": 0, \"linewidth\": 2.0, \"data\": \"data02\", \"id\": \"el260564550450896\"}], \"markers\": [], \"id\": \"el260564552884816\", \"ydomain\": [8.9999999999999989e-10, 1.2999999999999999e-09], \"collections\": [], \"xscale\": \"linear\", \"bbox\": [0.125, 0.125, 0.77500000000000002, 0.77500000000000002]}], \"height\": 320.0, \"width\": 480.0, \"plugins\": [{\"type\": \"reset\"}, {\"enabled\": false, \"button\": true, \"type\": \"zoom\"}, {\"enabled\": false, \"button\": true, \"type\": \"boxzoom\"}], \"data\": {\"data02\": [[0.7386452732974911, 0.9301075268817204, 0.8508064516129032, 0.771505376344086, 0.6922043010752688, 0.6129032258064515, 0.5336021505376344, 0.45430107526881724, 0.3749999999999999, 0.29569892473118276, 0.21639784946236562, 0.13709677419354843, 0.057795698924731256], [0.7888244847670252, 0.9301075268817204, 0.8508064516129032, 0.771505376344086, 0.6922043010752688, 0.6129032258064515, 0.5336021505376344, 0.45430107526881724, 0.3749999999999999, 0.29569892473118276, 0.21639784946236562, 0.13709677419354843, 0.057795698924731256]], \"data03\": [[0.713555667562724, 0.005376344086021556], [0.982078853046595, 0.005376344086021556], [0.982078853046595, 0.9731182795698924], [0.713555667562724, 0.9731182795698924]], \"data01\": [[-3.29, 1e-09, 1.2582693775797793e-09, 1.222017265156694e-09, 1.1869296656641382e-09, 1.1529665000509226e-09, 1.1200922411802594e-09, 1.0882725831606876e-09, 1.0574799924611966e-09, 1.0276756112759244e-09, 9.988265770033422e-10, 9.70896918417452e-10, 9.438706483066994e-10], [-3.2800000000000002, 1e-09, 1.2599414844771673e-09, 1.2230234602839118e-09, 1.1872920424593758e-09, 1.1527125920451908e-09, 1.1192511362168034e-09, 1.0868621558302038e-09, 1.0555143425960978e-09, 1.0251760551582834e-09, 9.958179836289105e-10, 9.673979395330434e-10, 9.39883504358363e-10], [-3.2700000000000005, 1e-09, 1.2644855162946556e-09, 1.2268933646808478e-09, 1.1905085806063198e-09, 1.1552915291090926e-09, 1.1212185624387416e-09, 1.088233281265616e-09, 1.0563137031738279e-09, 1.0254307403201324e-09, 9.955445356979453e-10, 9.666162315014049e-10, 9.38606969924649e-10], [-3.2600000000000007, 1e-09, 1.2716305786142357e-09, 1.2333485344129258e-09, 1.1962912882523824e-09, 1.160427531843311e-09, 1.1257182963575474e-09, 1.092126500346069e-09, 1.0596149513375508e-09, 1.0281636653175497e-09, 9.977184634024638e-10, 9.682747936778924e-10, 9.397586042680928e-10]]}, \"id\": \"el260564552887504\"});\n",
       "            })\n",
       "         });\n",
       "}\n",
       "</script>"
      ],
      "text/plain": [
       "<IPython.core.display.HTML object>"
      ]
     },
     "execution_count": 56,
     "metadata": {},
     "output_type": "execute_result"
    }
   ],
   "source": [
    "xn, yn = result.shape\n",
    "fig = figure()\n",
    "plot(rSNR3_range, 10**(-9)*ones(len(rSNR3_range),), lw=2.0, label='Protocol')\n",
    "for xk in range(xn):\n",
    "    plot(rSNR3_range, result[xk], lw=2.0, label='{0}'.format(tSNR_range[xk]))\n",
    "    print rSNR3_range[np.argmin(result[xk])]\n",
    "\n",
    "xlabel('rSNR3', fontsize=20)\n",
    "ylabel('P(fail)', fontsize=20)\n",
    "title('N={0}'.format(N), fontsize=20)\n",
    "legend(loc=0)\n",
    "mpld3.display(fig)"
   ]
  },
  {
   "cell_type": "code",
   "execution_count": null,
   "metadata": {
    "collapsed": true
   },
   "outputs": [],
   "source": [
    "## N = 18"
   ]
  },
  {
   "cell_type": "code",
   "execution_count": 59,
   "metadata": {
    "collapsed": false
   },
   "outputs": [
    {
     "name": "stdout",
     "output_type": "stream",
     "text": [
      "xn, yn (2, 21) size of matrix 42\n",
      "[[  1.17228793e-09   1.16861254e-09   1.16559895e-09   1.16315779e-09\n",
      "    1.16126531e-09   1.15994347e-09   1.15915277e-09   1.15886312e-09\n",
      "    1.15906851e-09   1.15974375e-09   1.16086230e-09   1.16244570e-09\n",
      "    1.16445587e-09   1.16688115e-09   1.16970233e-09   1.17290444e-09\n",
      "    1.17647514e-09   1.18040899e-09   1.18471166e-09   1.18937715e-09\n",
      "    1.19438937e-09]\n",
      " [  9.53045642e-10   9.48448098e-10   9.44623157e-10   9.41492662e-10\n",
      "    9.38965350e-10   9.37096734e-10   9.35830635e-10   9.35144406e-10\n",
      "    9.35020505e-10   9.35436728e-10   9.36376088e-10   9.37822153e-10\n",
      "    9.39778255e-10   9.42184109e-10   9.45077128e-10   9.48433110e-10\n",
      "    9.52178114e-10   9.56388302e-10   9.60979962e-10   9.66002056e-10\n",
      "    9.71406733e-10]]\n",
      "CPU times: user 4min 29s, sys: 1.29 s, total: 4min 30s\n",
      "Wall time: 4min 37s\n"
     ]
    }
   ],
   "source": [
    "%%time\n",
    "N = 18\n",
    "tSNR_range = [4.2]\n",
    "rSNR3_range = np.arange(-3.1, -3+0.001, 0.1)\n",
    "rSNRdu_range = np.arange(-5.2, -5.+0.001, 0.01)\n",
    "\n",
    "result = optimize_3_graphical(N, rSNRdu_range, rSNR3_range, tSNR_range, filepath_down, filepath_up, protocolbit, True)\n",
    "\n",
    "print result"
   ]
  },
  {
   "cell_type": "code",
   "execution_count": 60,
   "metadata": {
    "collapsed": false
   },
   "outputs": [
    {
     "name": "stdout",
     "output_type": "stream",
     "text": [
      "-5.13\n",
      "-5.12\n"
     ]
    },
    {
     "data": {
      "text/html": [
       "\n",
       "\n",
       "<style>\n",
       "\n",
       "</style>\n",
       "\n",
       "<div id=\"fig_el2605645043829287455542303\"></div>\n",
       "<script>\n",
       "function mpld3_load_lib(url, callback){\n",
       "  var s = document.createElement('script');\n",
       "  s.src = url;\n",
       "  s.async = true;\n",
       "  s.onreadystatechange = s.onload = callback;\n",
       "  s.onerror = function(){console.warn(\"failed to load library \" + url);};\n",
       "  document.getElementsByTagName(\"head\")[0].appendChild(s);\n",
       "}\n",
       "\n",
       "if(typeof(mpld3) !== \"undefined\" && mpld3._mpld3IsLoaded){\n",
       "   // already loaded: just create the figure\n",
       "   !function(mpld3){\n",
       "       \n",
       "       mpld3.draw_figure(\"fig_el2605645043829287455542303\", {\"axes\": [{\"xlim\": [-5.2000000000000002, -5.0], \"yscale\": \"linear\", \"axesbg\": \"#FFFFFF\", \"texts\": [{\"v_baseline\": \"hanging\", \"h_anchor\": \"middle\", \"color\": \"#000000\", \"text\": \"rSNRdu\", \"coordinates\": \"axes\", \"zorder\": 3, \"alpha\": 1, \"fontsize\": 20.0, \"position\": [0.5, -0.080645161290322578], \"rotation\": -0.0, \"id\": \"el260564513676880\"}, {\"v_baseline\": \"auto\", \"h_anchor\": \"middle\", \"color\": \"#000000\", \"text\": \"P(fail)\", \"coordinates\": \"axes\", \"zorder\": 3, \"alpha\": 1, \"fontsize\": 20.0, \"position\": [-0.089885752688172033, 0.5], \"rotation\": -90.0, \"id\": \"el260564549844880\"}, {\"v_baseline\": \"auto\", \"h_anchor\": \"middle\", \"color\": \"#000000\", \"text\": \"N=18\", \"coordinates\": \"axes\", \"zorder\": 3, \"alpha\": 1, \"fontsize\": 20.0, \"position\": [0.5, 1.0224014336917562], \"rotation\": -0.0, \"id\": \"el260564503912080\"}, {\"v_baseline\": \"auto\", \"h_anchor\": \"start\", \"color\": \"#000000\", \"text\": \"None\", \"coordinates\": \"axes\", \"zorder\": 1000003.0, \"alpha\": 1, \"fontsize\": 10.0, \"position\": [-0.16129032258064516, -0.16129032258064516], \"rotation\": -0.0, \"id\": \"el260564552274320\"}, {\"v_baseline\": \"auto\", \"h_anchor\": \"start\", \"color\": \"#000000\", \"text\": \"-3.1\", \"coordinates\": \"axes\", \"zorder\": 1000003.0, \"alpha\": 1, \"fontsize\": 12.0, \"position\": [0.90188172043010739, 0.52553763440860213], \"rotation\": -0.0, \"id\": \"el260564561753616\"}, {\"v_baseline\": \"auto\", \"h_anchor\": \"start\", \"color\": \"#000000\", \"text\": \"-3.0\", \"coordinates\": \"axes\", \"zorder\": 1000003.0, \"alpha\": 1, \"fontsize\": 12.0, \"position\": [0.90188172043010739, 0.44623655913978488], \"rotation\": -0.0, \"id\": \"el260564561753872\"}], \"zoomable\": true, \"images\": [], \"xdomain\": [-5.2000000000000002, -5.0], \"ylim\": [8.9999999999999989e-10, 1.2e-09], \"paths\": [{\"edgecolor\": \"#000000\", \"facecolor\": \"#FFFFFF\", \"edgewidth\": 1.0, \"pathcodes\": [\"M\", \"L\", \"L\", \"L\", \"Z\"], \"yindex\": 1, \"coordinates\": \"axes\", \"dasharray\": \"10,0\", \"zorder\": 1000001.0, \"alpha\": 1, \"xindex\": 0, \"data\": \"data03\", \"id\": \"el260564561755664\"}], \"sharey\": [], \"sharex\": [], \"axesbgalpha\": null, \"axes\": [{\"scale\": \"linear\", \"tickformat\": null, \"grid\": {\"gridOn\": false}, \"fontsize\": 10.0, \"position\": \"bottom\", \"nticks\": 5, \"tickvalues\": null}, {\"scale\": \"linear\", \"tickformat\": null, \"grid\": {\"gridOn\": false}, \"fontsize\": 10.0, \"position\": \"left\", \"nticks\": 8, \"tickvalues\": null}], \"lines\": [{\"color\": \"#0000FF\", \"yindex\": 1, \"coordinates\": \"data\", \"dasharray\": \"10,0\", \"zorder\": 2, \"alpha\": 1, \"xindex\": 0, \"linewidth\": 2.0, \"data\": \"data01\", \"id\": \"el260564513473232\"}, {\"color\": \"#007F00\", \"yindex\": 2, \"coordinates\": \"data\", \"dasharray\": \"10,0\", \"zorder\": 2, \"alpha\": 1, \"xindex\": 0, \"linewidth\": 2.0, \"data\": \"data01\", \"id\": \"el260564554318416\"}, {\"color\": \"#0000FF\", \"yindex\": 1, \"coordinates\": \"axes\", \"dasharray\": \"10,0\", \"zorder\": 1000002.0, \"alpha\": 1, \"xindex\": 0, \"linewidth\": 2.0, \"data\": \"data02\", \"id\": \"el260564561754064\"}, {\"color\": \"#007F00\", \"yindex\": 2, \"coordinates\": \"axes\", \"dasharray\": \"10,0\", \"zorder\": 1000002.0, \"alpha\": 1, \"xindex\": 0, \"linewidth\": 2.0, \"data\": \"data02\", \"id\": \"el260564552277520\"}], \"markers\": [], \"id\": \"el260564562195728\", \"ydomain\": [8.9999999999999989e-10, 1.2e-09], \"collections\": [], \"xscale\": \"linear\", \"bbox\": [0.125, 0.125, 0.77500000000000002, 0.77500000000000002]}], \"height\": 320.0, \"width\": 480.0, \"plugins\": [{\"type\": \"reset\"}, {\"enabled\": false, \"button\": true, \"type\": \"zoom\"}, {\"enabled\": false, \"button\": true, \"type\": \"boxzoom\"}], \"data\": {\"data02\": [[0.8122759856630825, 0.5443548387096774, 0.46505376344086014], [0.8624551971326165, 0.5443548387096774, 0.46505376344086014]], \"data03\": [[0.7871863799283154, 0.4126344086021505], [0.982078853046595, 0.4126344086021505], [0.982078853046595, 0.5873655913978494], [0.7871863799283154, 0.5873655913978494]], \"data01\": [[-5.2, 1.1722879333930791e-09, 9.530456424045042e-10], [-5.19, 1.1686125400700575e-09, 9.48448097837229e-10], [-5.180000000000001, 1.165598950692015e-09, 9.446231574727904e-10], [-5.170000000000001, 1.1631577923054692e-09, 9.414926616102548e-10], [-5.160000000000001, 1.1612653061376932e-09, 9.38965349916998e-10], [-5.150000000000001, 1.1599434746045745e-09, 9.370967335442515e-10], [-5.1400000000000015, 1.1591527737664364e-09, 9.35830635206969e-10], [-5.130000000000002, 1.1588631165793117e-09, 9.351444063554482e-10], [-5.120000000000002, 1.1590685078388674e-09, 9.350205054659e-10], [-5.110000000000002, 1.1597437454824444e-09, 9.35436728077832e-10], [-5.100000000000002, 1.1608622951797543e-09, 9.363760877789673e-10], [-5.0900000000000025, 1.1624456952574747e-09, 9.378221532685416e-10], [-5.080000000000003, 1.164455865065861e-09, 9.397782552156286e-10], [-5.070000000000003, 1.1668811472631546e-09, 9.421841085099913e-10], [-5.060000000000003, 1.1697023349910296e-09, 9.450771276675596e-10], [-5.050000000000003, 1.1729044402386535e-09, 9.484331098263965e-10], [-5.040000000000004, 1.176475139530453e-09, 9.52178114133062e-10], [-5.030000000000004, 1.1804089927736072e-09, 9.563883018870456e-10], [-5.020000000000004, 1.184711662105542e-09, 9.609799622722903e-10], [-5.010000000000004, 1.1893771523219243e-09, 9.660020561241822e-10], [-5.000000000000004, 1.194389365188897e-09, 9.7140673283036e-10]]}, \"id\": \"el260564504382928\"});\n",
       "   }(mpld3);\n",
       "}else if(typeof define === \"function\" && define.amd){\n",
       "   // require.js is available: use it to load d3/mpld3\n",
       "   require.config({paths: {d3: \"https://mpld3.github.io/js/d3.v3.min\"}});\n",
       "   require([\"d3\"], function(d3){\n",
       "      window.d3 = d3;\n",
       "      mpld3_load_lib(\"https://mpld3.github.io/js/mpld3.v0.2.js\", function(){\n",
       "         \n",
       "         mpld3.draw_figure(\"fig_el2605645043829287455542303\", {\"axes\": [{\"xlim\": [-5.2000000000000002, -5.0], \"yscale\": \"linear\", \"axesbg\": \"#FFFFFF\", \"texts\": [{\"v_baseline\": \"hanging\", \"h_anchor\": \"middle\", \"color\": \"#000000\", \"text\": \"rSNRdu\", \"coordinates\": \"axes\", \"zorder\": 3, \"alpha\": 1, \"fontsize\": 20.0, \"position\": [0.5, -0.080645161290322578], \"rotation\": -0.0, \"id\": \"el260564513676880\"}, {\"v_baseline\": \"auto\", \"h_anchor\": \"middle\", \"color\": \"#000000\", \"text\": \"P(fail)\", \"coordinates\": \"axes\", \"zorder\": 3, \"alpha\": 1, \"fontsize\": 20.0, \"position\": [-0.089885752688172033, 0.5], \"rotation\": -90.0, \"id\": \"el260564549844880\"}, {\"v_baseline\": \"auto\", \"h_anchor\": \"middle\", \"color\": \"#000000\", \"text\": \"N=18\", \"coordinates\": \"axes\", \"zorder\": 3, \"alpha\": 1, \"fontsize\": 20.0, \"position\": [0.5, 1.0224014336917562], \"rotation\": -0.0, \"id\": \"el260564503912080\"}, {\"v_baseline\": \"auto\", \"h_anchor\": \"start\", \"color\": \"#000000\", \"text\": \"None\", \"coordinates\": \"axes\", \"zorder\": 1000003.0, \"alpha\": 1, \"fontsize\": 10.0, \"position\": [-0.16129032258064516, -0.16129032258064516], \"rotation\": -0.0, \"id\": \"el260564552274320\"}, {\"v_baseline\": \"auto\", \"h_anchor\": \"start\", \"color\": \"#000000\", \"text\": \"-3.1\", \"coordinates\": \"axes\", \"zorder\": 1000003.0, \"alpha\": 1, \"fontsize\": 12.0, \"position\": [0.90188172043010739, 0.52553763440860213], \"rotation\": -0.0, \"id\": \"el260564561753616\"}, {\"v_baseline\": \"auto\", \"h_anchor\": \"start\", \"color\": \"#000000\", \"text\": \"-3.0\", \"coordinates\": \"axes\", \"zorder\": 1000003.0, \"alpha\": 1, \"fontsize\": 12.0, \"position\": [0.90188172043010739, 0.44623655913978488], \"rotation\": -0.0, \"id\": \"el260564561753872\"}], \"zoomable\": true, \"images\": [], \"xdomain\": [-5.2000000000000002, -5.0], \"ylim\": [8.9999999999999989e-10, 1.2e-09], \"paths\": [{\"edgecolor\": \"#000000\", \"facecolor\": \"#FFFFFF\", \"edgewidth\": 1.0, \"pathcodes\": [\"M\", \"L\", \"L\", \"L\", \"Z\"], \"yindex\": 1, \"coordinates\": \"axes\", \"dasharray\": \"10,0\", \"zorder\": 1000001.0, \"alpha\": 1, \"xindex\": 0, \"data\": \"data03\", \"id\": \"el260564561755664\"}], \"sharey\": [], \"sharex\": [], \"axesbgalpha\": null, \"axes\": [{\"scale\": \"linear\", \"tickformat\": null, \"grid\": {\"gridOn\": false}, \"fontsize\": 10.0, \"position\": \"bottom\", \"nticks\": 5, \"tickvalues\": null}, {\"scale\": \"linear\", \"tickformat\": null, \"grid\": {\"gridOn\": false}, \"fontsize\": 10.0, \"position\": \"left\", \"nticks\": 8, \"tickvalues\": null}], \"lines\": [{\"color\": \"#0000FF\", \"yindex\": 1, \"coordinates\": \"data\", \"dasharray\": \"10,0\", \"zorder\": 2, \"alpha\": 1, \"xindex\": 0, \"linewidth\": 2.0, \"data\": \"data01\", \"id\": \"el260564513473232\"}, {\"color\": \"#007F00\", \"yindex\": 2, \"coordinates\": \"data\", \"dasharray\": \"10,0\", \"zorder\": 2, \"alpha\": 1, \"xindex\": 0, \"linewidth\": 2.0, \"data\": \"data01\", \"id\": \"el260564554318416\"}, {\"color\": \"#0000FF\", \"yindex\": 1, \"coordinates\": \"axes\", \"dasharray\": \"10,0\", \"zorder\": 1000002.0, \"alpha\": 1, \"xindex\": 0, \"linewidth\": 2.0, \"data\": \"data02\", \"id\": \"el260564561754064\"}, {\"color\": \"#007F00\", \"yindex\": 2, \"coordinates\": \"axes\", \"dasharray\": \"10,0\", \"zorder\": 1000002.0, \"alpha\": 1, \"xindex\": 0, \"linewidth\": 2.0, \"data\": \"data02\", \"id\": \"el260564552277520\"}], \"markers\": [], \"id\": \"el260564562195728\", \"ydomain\": [8.9999999999999989e-10, 1.2e-09], \"collections\": [], \"xscale\": \"linear\", \"bbox\": [0.125, 0.125, 0.77500000000000002, 0.77500000000000002]}], \"height\": 320.0, \"width\": 480.0, \"plugins\": [{\"type\": \"reset\"}, {\"enabled\": false, \"button\": true, \"type\": \"zoom\"}, {\"enabled\": false, \"button\": true, \"type\": \"boxzoom\"}], \"data\": {\"data02\": [[0.8122759856630825, 0.5443548387096774, 0.46505376344086014], [0.8624551971326165, 0.5443548387096774, 0.46505376344086014]], \"data03\": [[0.7871863799283154, 0.4126344086021505], [0.982078853046595, 0.4126344086021505], [0.982078853046595, 0.5873655913978494], [0.7871863799283154, 0.5873655913978494]], \"data01\": [[-5.2, 1.1722879333930791e-09, 9.530456424045042e-10], [-5.19, 1.1686125400700575e-09, 9.48448097837229e-10], [-5.180000000000001, 1.165598950692015e-09, 9.446231574727904e-10], [-5.170000000000001, 1.1631577923054692e-09, 9.414926616102548e-10], [-5.160000000000001, 1.1612653061376932e-09, 9.38965349916998e-10], [-5.150000000000001, 1.1599434746045745e-09, 9.370967335442515e-10], [-5.1400000000000015, 1.1591527737664364e-09, 9.35830635206969e-10], [-5.130000000000002, 1.1588631165793117e-09, 9.351444063554482e-10], [-5.120000000000002, 1.1590685078388674e-09, 9.350205054659e-10], [-5.110000000000002, 1.1597437454824444e-09, 9.35436728077832e-10], [-5.100000000000002, 1.1608622951797543e-09, 9.363760877789673e-10], [-5.0900000000000025, 1.1624456952574747e-09, 9.378221532685416e-10], [-5.080000000000003, 1.164455865065861e-09, 9.397782552156286e-10], [-5.070000000000003, 1.1668811472631546e-09, 9.421841085099913e-10], [-5.060000000000003, 1.1697023349910296e-09, 9.450771276675596e-10], [-5.050000000000003, 1.1729044402386535e-09, 9.484331098263965e-10], [-5.040000000000004, 1.176475139530453e-09, 9.52178114133062e-10], [-5.030000000000004, 1.1804089927736072e-09, 9.563883018870456e-10], [-5.020000000000004, 1.184711662105542e-09, 9.609799622722903e-10], [-5.010000000000004, 1.1893771523219243e-09, 9.660020561241822e-10], [-5.000000000000004, 1.194389365188897e-09, 9.7140673283036e-10]]}, \"id\": \"el260564504382928\"});\n",
       "      });\n",
       "    });\n",
       "}else{\n",
       "    // require.js not available: dynamically load d3 & mpld3\n",
       "    mpld3_load_lib(\"https://mpld3.github.io/js/d3.v3.min.js\", function(){\n",
       "         mpld3_load_lib(\"https://mpld3.github.io/js/mpld3.v0.2.js\", function(){\n",
       "                 \n",
       "                 mpld3.draw_figure(\"fig_el2605645043829287455542303\", {\"axes\": [{\"xlim\": [-5.2000000000000002, -5.0], \"yscale\": \"linear\", \"axesbg\": \"#FFFFFF\", \"texts\": [{\"v_baseline\": \"hanging\", \"h_anchor\": \"middle\", \"color\": \"#000000\", \"text\": \"rSNRdu\", \"coordinates\": \"axes\", \"zorder\": 3, \"alpha\": 1, \"fontsize\": 20.0, \"position\": [0.5, -0.080645161290322578], \"rotation\": -0.0, \"id\": \"el260564513676880\"}, {\"v_baseline\": \"auto\", \"h_anchor\": \"middle\", \"color\": \"#000000\", \"text\": \"P(fail)\", \"coordinates\": \"axes\", \"zorder\": 3, \"alpha\": 1, \"fontsize\": 20.0, \"position\": [-0.089885752688172033, 0.5], \"rotation\": -90.0, \"id\": \"el260564549844880\"}, {\"v_baseline\": \"auto\", \"h_anchor\": \"middle\", \"color\": \"#000000\", \"text\": \"N=18\", \"coordinates\": \"axes\", \"zorder\": 3, \"alpha\": 1, \"fontsize\": 20.0, \"position\": [0.5, 1.0224014336917562], \"rotation\": -0.0, \"id\": \"el260564503912080\"}, {\"v_baseline\": \"auto\", \"h_anchor\": \"start\", \"color\": \"#000000\", \"text\": \"None\", \"coordinates\": \"axes\", \"zorder\": 1000003.0, \"alpha\": 1, \"fontsize\": 10.0, \"position\": [-0.16129032258064516, -0.16129032258064516], \"rotation\": -0.0, \"id\": \"el260564552274320\"}, {\"v_baseline\": \"auto\", \"h_anchor\": \"start\", \"color\": \"#000000\", \"text\": \"-3.1\", \"coordinates\": \"axes\", \"zorder\": 1000003.0, \"alpha\": 1, \"fontsize\": 12.0, \"position\": [0.90188172043010739, 0.52553763440860213], \"rotation\": -0.0, \"id\": \"el260564561753616\"}, {\"v_baseline\": \"auto\", \"h_anchor\": \"start\", \"color\": \"#000000\", \"text\": \"-3.0\", \"coordinates\": \"axes\", \"zorder\": 1000003.0, \"alpha\": 1, \"fontsize\": 12.0, \"position\": [0.90188172043010739, 0.44623655913978488], \"rotation\": -0.0, \"id\": \"el260564561753872\"}], \"zoomable\": true, \"images\": [], \"xdomain\": [-5.2000000000000002, -5.0], \"ylim\": [8.9999999999999989e-10, 1.2e-09], \"paths\": [{\"edgecolor\": \"#000000\", \"facecolor\": \"#FFFFFF\", \"edgewidth\": 1.0, \"pathcodes\": [\"M\", \"L\", \"L\", \"L\", \"Z\"], \"yindex\": 1, \"coordinates\": \"axes\", \"dasharray\": \"10,0\", \"zorder\": 1000001.0, \"alpha\": 1, \"xindex\": 0, \"data\": \"data03\", \"id\": \"el260564561755664\"}], \"sharey\": [], \"sharex\": [], \"axesbgalpha\": null, \"axes\": [{\"scale\": \"linear\", \"tickformat\": null, \"grid\": {\"gridOn\": false}, \"fontsize\": 10.0, \"position\": \"bottom\", \"nticks\": 5, \"tickvalues\": null}, {\"scale\": \"linear\", \"tickformat\": null, \"grid\": {\"gridOn\": false}, \"fontsize\": 10.0, \"position\": \"left\", \"nticks\": 8, \"tickvalues\": null}], \"lines\": [{\"color\": \"#0000FF\", \"yindex\": 1, \"coordinates\": \"data\", \"dasharray\": \"10,0\", \"zorder\": 2, \"alpha\": 1, \"xindex\": 0, \"linewidth\": 2.0, \"data\": \"data01\", \"id\": \"el260564513473232\"}, {\"color\": \"#007F00\", \"yindex\": 2, \"coordinates\": \"data\", \"dasharray\": \"10,0\", \"zorder\": 2, \"alpha\": 1, \"xindex\": 0, \"linewidth\": 2.0, \"data\": \"data01\", \"id\": \"el260564554318416\"}, {\"color\": \"#0000FF\", \"yindex\": 1, \"coordinates\": \"axes\", \"dasharray\": \"10,0\", \"zorder\": 1000002.0, \"alpha\": 1, \"xindex\": 0, \"linewidth\": 2.0, \"data\": \"data02\", \"id\": \"el260564561754064\"}, {\"color\": \"#007F00\", \"yindex\": 2, \"coordinates\": \"axes\", \"dasharray\": \"10,0\", \"zorder\": 1000002.0, \"alpha\": 1, \"xindex\": 0, \"linewidth\": 2.0, \"data\": \"data02\", \"id\": \"el260564552277520\"}], \"markers\": [], \"id\": \"el260564562195728\", \"ydomain\": [8.9999999999999989e-10, 1.2e-09], \"collections\": [], \"xscale\": \"linear\", \"bbox\": [0.125, 0.125, 0.77500000000000002, 0.77500000000000002]}], \"height\": 320.0, \"width\": 480.0, \"plugins\": [{\"type\": \"reset\"}, {\"enabled\": false, \"button\": true, \"type\": \"zoom\"}, {\"enabled\": false, \"button\": true, \"type\": \"boxzoom\"}], \"data\": {\"data02\": [[0.8122759856630825, 0.5443548387096774, 0.46505376344086014], [0.8624551971326165, 0.5443548387096774, 0.46505376344086014]], \"data03\": [[0.7871863799283154, 0.4126344086021505], [0.982078853046595, 0.4126344086021505], [0.982078853046595, 0.5873655913978494], [0.7871863799283154, 0.5873655913978494]], \"data01\": [[-5.2, 1.1722879333930791e-09, 9.530456424045042e-10], [-5.19, 1.1686125400700575e-09, 9.48448097837229e-10], [-5.180000000000001, 1.165598950692015e-09, 9.446231574727904e-10], [-5.170000000000001, 1.1631577923054692e-09, 9.414926616102548e-10], [-5.160000000000001, 1.1612653061376932e-09, 9.38965349916998e-10], [-5.150000000000001, 1.1599434746045745e-09, 9.370967335442515e-10], [-5.1400000000000015, 1.1591527737664364e-09, 9.35830635206969e-10], [-5.130000000000002, 1.1588631165793117e-09, 9.351444063554482e-10], [-5.120000000000002, 1.1590685078388674e-09, 9.350205054659e-10], [-5.110000000000002, 1.1597437454824444e-09, 9.35436728077832e-10], [-5.100000000000002, 1.1608622951797543e-09, 9.363760877789673e-10], [-5.0900000000000025, 1.1624456952574747e-09, 9.378221532685416e-10], [-5.080000000000003, 1.164455865065861e-09, 9.397782552156286e-10], [-5.070000000000003, 1.1668811472631546e-09, 9.421841085099913e-10], [-5.060000000000003, 1.1697023349910296e-09, 9.450771276675596e-10], [-5.050000000000003, 1.1729044402386535e-09, 9.484331098263965e-10], [-5.040000000000004, 1.176475139530453e-09, 9.52178114133062e-10], [-5.030000000000004, 1.1804089927736072e-09, 9.563883018870456e-10], [-5.020000000000004, 1.184711662105542e-09, 9.609799622722903e-10], [-5.010000000000004, 1.1893771523219243e-09, 9.660020561241822e-10], [-5.000000000000004, 1.194389365188897e-09, 9.7140673283036e-10]]}, \"id\": \"el260564504382928\"});\n",
       "            })\n",
       "         });\n",
       "}\n",
       "</script>"
      ],
      "text/plain": [
       "<IPython.core.display.HTML object>"
      ]
     },
     "execution_count": 60,
     "metadata": {},
     "output_type": "execute_result"
    }
   ],
   "source": [
    "xn, yn = result.shape\n",
    "fig = figure()\n",
    "\n",
    "for xk in range(xn):\n",
    "    plot(rSNRdu_range, result[xk], lw=2.0, label='{0}'.format(rSNR3_range[xk]))\n",
    "    print rSNRdu_range[np.argmin(result[xk])]\n",
    "\n",
    "xlabel('rSNRdu', fontsize=20)\n",
    "ylabel('P(fail)', fontsize=20)\n",
    "title('N={0}'.format(N), fontsize=20)\n",
    "legend(loc=0)\n",
    "mpld3.display(fig)"
   ]
  },
  {
   "cell_type": "code",
   "execution_count": null,
   "metadata": {
    "collapsed": true
   },
   "outputs": [],
   "source": [
    "%%time\n",
    "%run ../optimize_pkg_2.py\n",
    "N = 18\n",
    "tSNR_range = np.arange(4, 4.3+0.001, 0.1)\n",
    "rSNR3_range = np.arange(-3.1, -3+0.001, 0.1)\n",
    "rSNRdu_range = [-5.12]\n",
    "\n",
    "result = optimize_3_graphical(N, rSNRdu_range, rSNR3_range, tSNR_range, filepath_down, filepath_up, protocolbit, False)\n",
    "\n",
    "print result"
   ]
  },
  {
   "cell_type": "code",
   "execution_count": null,
   "metadata": {
    "collapsed": true
   },
   "outputs": [],
   "source": [
    "xn, yn = result.shape\n",
    "fig = figure()\n",
    "plot(rSNR3_range, 10**(-9)*ones(len(rSNR3_range),), lw=2.0, label='Protocol')\n",
    "for xk in range(xn):\n",
    "    plot(rSNR3_range, result[xk], lw=2.0, label='{0}'.format(tSNR_range[xk]))\n",
    "    print rSNR3_range[np.argmin(result[xk])]\n",
    "\n",
    "xlabel('rSNR3', fontsize=20)\n",
    "ylabel('P(fail)', fontsize=20)\n",
    "title('N={0}'.format(N), fontsize=20)\n",
    "legend(loc=0)\n",
    "mpld3.display(fig)"
   ]
  },
  {
   "cell_type": "code",
   "execution_count": null,
   "metadata": {
    "collapsed": true
   },
   "outputs": [],
   "source": []
  },
  {
   "cell_type": "code",
   "execution_count": null,
   "metadata": {
    "collapsed": true
   },
   "outputs": [],
   "source": []
  },
  {
   "cell_type": "code",
   "execution_count": null,
   "metadata": {
    "collapsed": true
   },
   "outputs": [],
   "source": []
  },
  {
   "cell_type": "code",
   "execution_count": null,
   "metadata": {
    "collapsed": true
   },
   "outputs": [],
   "source": []
  }
 ],
 "metadata": {
  "kernelspec": {
   "display_name": "Python 2",
   "language": "python",
   "name": "python2"
  },
  "language_info": {
   "codemirror_mode": {
    "name": "ipython",
    "version": 2
   },
   "file_extension": ".py",
   "mimetype": "text/x-python",
   "name": "python",
   "nbconvert_exporter": "python",
   "pygments_lexer": "ipython2",
   "version": "2.7.12"
  }
 },
 "nbformat": 4,
 "nbformat_minor": 0
}
