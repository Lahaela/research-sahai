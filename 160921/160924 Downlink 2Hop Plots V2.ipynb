{
 "cells": [
  {
   "cell_type": "code",
   "execution_count": 2,
   "metadata": {
    "collapsed": false
   },
   "outputs": [
    {
     "name": "stdout",
     "output_type": "stream",
     "text": [
      "Populating the interactive namespace from numpy and matplotlib\n"
     ]
    }
   ],
   "source": [
    "%pylab inline\n",
    "from __future__ import division\n",
    "import scipy as sp\n",
    "from scipy import stats\n",
    "from scipy.signal import argrelextrema \n",
    "from scipy.interpolate import interp1d \n",
    "import operator as op\n",
    "from decimal import *\n",
    "# import mpmath as mp\n",
    "import pickle\n",
    "from scipy.stats import binom\n",
    "import mpld3\n",
    "mpld3.enable_notebook()"
   ]
  },
  {
   "cell_type": "code",
   "execution_count": 3,
   "metadata": {
    "collapsed": true
   },
   "outputs": [],
   "source": [
    "%run ../cow.py\n",
    "%run ../optimize_pkg_2.py"
   ]
  },
  {
   "cell_type": "code",
   "execution_count": 5,
   "metadata": {
    "collapsed": false
   },
   "outputs": [],
   "source": [
    "# codingscheme = filepath_down = \"../data_tables/hs_rs_downlink\" \n",
    "hsrs_up = \"../data_tables/hs_rs_uplink\"\n",
    "shannon_scheme = \"../data_tables/shannon_tables\"\n",
    "poly_scheme = \"../data_tables/polyanskiy_up\"\n",
    "protocolbit = 4*10**4\n",
    "target = 10**(-9)\n",
    "dSNR = 0.01\n",
    "paddratio = 0.1 # padd = 10**(-10) \n",
    "tSNR_range = np.arange(0, 92, 1) \n",
    "rSNR1_range = np.arange(-1, 7, 0.01)\n",
    "start_nodes, end_nodes = 2, 36\n",
    "user_range = xrange(start_nodes, end_nodes)"
   ]
  },
  {
   "cell_type": "markdown",
   "metadata": {},
   "source": [
    "# Loudest Talker"
   ]
  },
  {
   "cell_type": "code",
   "execution_count": 8,
   "metadata": {
    "collapsed": false
   },
   "outputs": [
    {
     "name": "stdout",
     "output_type": "stream",
     "text": [
      "[ 47.33  33.68  26.86  22.77  20.07  18.11  16.79  15.69  14.94  14.29\n",
      "  13.84  13.32  12.95  12.95  12.44  12.36  12.35  12.46  12.11  12.38\n",
      "  12.11  12.58  12.33  13.12  12.91  12.71  14.01  13.85  13.7   16.24\n",
      "  16.12  16.03  15.95  15.86]\n",
      "\n",
      "\n",
      "[ 30.9   18.64  12.72   9.31   7.11   5.63   4.56   3.78   3.18   2.72\n",
      "   2.36   2.08   1.85   1.67   1.53   1.41   1.32   1.25   1.2    1.15\n",
      "   1.12   1.11   1.09   1.09   1.09   1.09   1.11   1.13   1.14   1.17\n",
      "   1.19   1.22   1.24   1.28]\n",
      "\n",
      "\n",
      "[ 34.49  22.21  16.28  12.86  10.67   9.17   8.1    7.31   6.71   6.25\n",
      "   5.9    5.62   5.39   5.22   5.08   4.96   4.88   4.81   4.76   4.72\n",
      "   4.7    4.69   4.69   4.7    4.7    4.74   4.74   4.79   4.84   4.87\n",
      "   4.93   4.98   5.12   5.08]\n",
      "CPU times: user 9.25 s, sys: 178 ms, total: 9.43 s\n",
      "Wall time: 10.1 s\n"
     ]
    }
   ],
   "source": [
    "%%time\n",
    "start_SNR = 0\n",
    "hsrs_lt = loudest_talker(hsrs_up, dSNR, target, paddratio, start_SNR, start_nodes, end_nodes)\n",
    "print hsrs_lt\n",
    "print \"\\n\"\n",
    "\n",
    "shannon_lt = loudest_talker(shannon_scheme, dSNR, target, paddratio, start_SNR, start_nodes, end_nodes)\n",
    "print shannon_lt\n",
    "print \"\\n\"\n",
    "                            \n",
    "polyup_lt = loudest_talker(poly_scheme, dSNR, target, paddratio, start_SNR, start_nodes, end_nodes)\n",
    "print polyup_lt"
   ]
  },
  {
   "cell_type": "markdown",
   "metadata": {},
   "source": [
    "# 2 Fade Gap"
   ]
  },
  {
   "cell_type": "code",
   "execution_count": 27,
   "metadata": {
    "collapsed": false
   },
   "outputs": [
    {
     "name": "stdout",
     "output_type": "stream",
     "text": [
      "(2, 2)\n"
     ]
    }
   ],
   "source": [
    "testleah = np.array([[1, 2], [3, 4]])\n",
    "print testleah.shape"
   ]
  },
  {
   "cell_type": "code",
   "execution_count": 36,
   "metadata": {
    "collapsed": false
   },
   "outputs": [],
   "source": [
    "hsrs_fadegap_guess = np.array([[ 35. ,  13.59 , 4.91 , 10.91],\n",
    "[ 34. ,  13.72 , 4.98 , 10.92],\n",
    "[ 33. ,  13.84 , 4.98 , 10.92],\n",
    "[ 32. ,  13.97 , 4.96 , 10.92],\n",
    "[ 31. ,  14.9 ,  3.99 , 10.93],\n",
    "[ 30. ,  11.87 , 3.63 , 8.27],\n",
    "[ 29. ,  12.45 , 2.99 , 8.29],\n",
    "[ 28. ,  12.74 , 2.99 , 8.31],\n",
    "[ 27. ,  11.13 , 2.94 , 6.87],\n",
    "[ 26. ,  11.34 , 2.99 , 6.89],\n",
    "[ 25. ,  11.57 , 2.98 , 6.91],\n",
    "[ 24. ,  10.92 , 2.41 , 5.95],\n",
    "[ 23. ,  11.52 , 1.99 , 5.97],\n",
    "[ 22. ,  10.83 , 1.97 , 5.28],\n",
    "[ 21. ,  11.15 , 1.99 , 5.31],\n",
    "[ 20. ,  10.9 ,  1.81 , 4.77],\n",
    "[ 19. ,  11.28 , 1.94 , 4.83],\n",
    "[ 18. ,  11.22 , 1.68 , 4.39],\n",
    "[ 17. ,  11.94 , 0.99 , 4.05],\n",
    "[ 16. ,  11.64 , 0.99 , 3.73],\n",
    "[ 15. ,  11.94 , 1.43 , 3.8 ],\n",
    "[ 14. ,  12.07 , 0.99 , 3.3 ],\n",
    "[ 13. ,  12.43 , 0.99 , 3.11],\n",
    "[ 12. ,  12.98 , 0.98 , 2.98],\n",
    "[ 11. ,  13.48 , 0.87 , 2.68],\n",
    "[ 10. ,  14.18 , 0.72 , 2.44],\n",
    "[  9. ,  14.97 , 0.53 , 2.11],\n",
    "[  8. ,  16.12 , 0.5 ,  1.9 ],\n",
    "[  7. ,  17.5 ,  0.28 , 1.55],\n",
    "[  6.00000000e+00 , 1.98100000e+01 , -1.00000000e-02 , 1.33000000e+00],\n",
    "[  5.00000000e+00 , 2.23200000e+01 , -1.00000000e-02 , 1.03000000e+00],\n",
    "[  4. ,  26.43  -0.07 , 0.71],\n",
    "[  3. ,  33.25  -0.25 , 0.34],\n",
    "[  2. ,  46.33  -0.38  -0.06]], dtype=numpy.ndarray)\n",
    "\n",
    "hsrs_fadegap_guess = np.array([46.33, 33.25, 26.43, 22.32, 19.81, 17.5, 16.12, 14.97, 14.18, 13.48, 12.98, 12.43,\n",
    "                              12.07, 11.94, 11.64, 11.94, 11.22, 11.28, 10.9, 11.15, 10.83, 11.52, 10.92, 11.57,\n",
    "                              11.34, 11.13, 12.74, 12.45, 11.87, 14.9, 13.97, 13.84, 13.72, 13.59])"
   ]
  },
  {
   "cell_type": "code",
   "execution_count": 37,
   "metadata": {
    "collapsed": false
   },
   "outputs": [
    {
     "name": "stdout",
     "output_type": "stream",
     "text": [
      "(34,)\n"
     ]
    }
   ],
   "source": [
    "print hsrs_fadegap_guess.shape"
   ]
  },
  {
   "cell_type": "code",
   "execution_count": 38,
   "metadata": {
    "collapsed": false
   },
   "outputs": [
    {
     "name": "stdout",
     "output_type": "stream",
     "text": [
      "[ 35.    14.     4.09  10.91]\n",
      "[ 35.    13.6    4.8   10.91]\n",
      "[ 35.    13.58   4.91  10.91]\n",
      "[ 34.    14.     4.3   10.92]\n",
      "[ 34.    13.8    4.64  10.92]\n",
      "[ 34.    13.72   4.94  10.92]\n",
      "[ 33.    14.     4.49  10.92]\n",
      "[ 33.    13.9    4.71  10.92]\n",
      "[ 33.    13.84   4.95  10.92]\n",
      "[ 32.    14.     4.8   10.92]\n",
      "[ 32.    14.     4.8   10.92]\n",
      "[ 32.    13.96   4.99  10.92]\n",
      "[ 31.    15.     3.93  10.93]\n",
      "[ 31.    14.9    3.99  10.93]\n",
      "[ 31.    14.89   3.99  10.93]\n",
      "[ 30.    12.     3.2    8.27]\n",
      "[ 30.    11.9    3.43   8.27]\n",
      "[ 30.    11.87   3.59   8.27]\n",
      "[ 29.    13.     2.69   8.29]\n",
      "[ 29.    12.5    2.95   8.29]\n",
      "[ 29.    12.44   2.99   8.29]\n",
      "[ 28.    13.     2.85   8.31]\n",
      "[ 28.    12.8    2.95   8.31]\n",
      "[ 28.    12.73   2.99   8.31]\n",
      "[ 27.    12.     2.04   6.87]\n",
      "[ 27.    11.2    2.63   6.87]\n",
      "[ 27.    11.12   2.97   6.87]\n",
      "[ 26.    12.     2.22   6.89]\n",
      "[ 26.    11.4    2.74   6.89]\n",
      "[ 26.    11.34   2.96   6.89]\n",
      "[ 25.    12.     2.42   6.91]\n",
      "[ 25.    11.6    2.87   6.91]\n",
      "[ 25.    11.57   2.98   6.91]\n",
      "[ 24.    11.     2.16   5.95]\n",
      "[ 24.    11.     2.16   5.95]\n",
      "[ 24.    10.91   2.42   5.95]\n",
      "[ 23.    12.     1.77   5.97]\n",
      "[ 23.    11.6    1.94   5.97]\n",
      "[ 23.    11.52   1.99   5.97]\n",
      "[ 22.    11.     1.72   5.28]\n",
      "[ 22.    10.9    1.83   5.28]\n",
      "[ 22.    10.82   1.99   5.28]\n",
      "[ 21.    12.     1.46   5.31]\n",
      "[ 21.    11.2    1.9    5.31]\n",
      "[ 21.    11.15   1.98   5.31]\n",
      "[ 20.    11.     1.58   4.77]\n",
      "[ 20.    10.9    1.79   4.77]\n",
      "[ 20.    10.89   1.84   4.77]\n",
      "[ 19.    12.     1.37   4.83]\n",
      "[ 19.    11.3    1.86   4.83]\n",
      "[ 19.    11.27   1.97   4.83]\n",
      "[ 18.    12.     1.1    4.39]\n",
      "[ 18.    11.3    1.49   4.39]\n",
      "[ 18.    11.21   1.72   4.39]\n",
      "[ 17.    12.     0.97   4.05]\n",
      "[ 17.    12.     0.97   4.05]\n",
      "[ 17.    11.94   0.99   4.05]\n",
      "[ 16.    12.     0.82   3.73]\n",
      "[ 16.    11.7    0.95   3.73]\n",
      "[ 16.    11.63   0.99   3.73]\n",
      "[ 15.    12.     1.28   3.8 ]\n",
      "[ 15.    12.     1.28   3.8 ]\n",
      "[ 15.    11.93   1.47   3.8 ]\n",
      "[ 14.    13.     0.59   3.3 ]\n",
      "[ 14.    12.1    0.95   3.3 ]\n",
      "[ 14.    12.07   0.99   3.3 ]\n",
      "[ 13.    13.     0.62   3.11]\n",
      "[ 13.    12.5    0.88   3.11]\n",
      "[ 13.    12.43   0.99   3.11]\n",
      "[ 12.    13.     0.92   2.98]\n",
      "[ 12.    13.     0.92   2.98]\n",
      "[ 12.    12.98   0.97   2.98]\n",
      "[ 11.    14.     0.49   2.68]\n",
      "[ 11.    13.5    0.8    2.68]\n",
      "[ 11.    13.48   0.86   2.68]\n",
      "[ 10.    15.     0.33   2.44]\n",
      "[ 10.    14.2    0.67   2.44]\n",
      "[ 10.    14.17   0.77   2.44]\n",
      "[  9.    15.     0.46   2.11]\n",
      "[  9.    15.     0.46   2.11]\n",
      "[  9.    14.97   0.53   2.11]\n",
      "[  8.   17.    0.1   1.9]\n",
      "[  8.    16.2    0.34   1.9 ]\n",
      "[  8.    16.12   0.49   1.9 ]\n",
      "[  7.00000000e+00   1.80000000e+01   8.88178420e-16   1.55000000e+00]\n",
      "[  7.    17.5    0.28   1.55]\n",
      "[  7.    17.5    0.28   1.55]\n",
      "[  6.    20.    -0.05   1.33]\n",
      "[  6.    19.9   -0.03   1.33]\n",
      "[  6.00000000e+00   1.98100000e+01  -1.00000000e-02   1.33000000e+00]\n",
      "[  5.    23.    -0.2    1.03]\n",
      "[  5.    22.4   -0.06   1.03]\n",
      "[  5.00000000e+00   2.23200000e+01  -1.00000000e-02   1.03000000e+00]\n",
      "[  4.    27.    -0.29   0.71]\n",
      "[  4.    26.5   -0.17   0.71]\n",
      "[  4.    26.43  -0.07   0.71]\n",
      "[  3.    34.    -0.43   0.34]\n",
      "[  3.    33.3   -0.3    0.34]\n",
      "[  3.    33.25  -0.25   0.34]\n",
      "[  2.    47.    -0.51  -0.06]\n",
      "[  2.    46.4   -0.43  -0.06]\n",
      "[  2.    46.33  -0.38  -0.06]\n",
      "CPU times: user 20min, sys: 12.6 s, total: 20min 12s\n",
      "Wall time: 21min 52s\n"
     ]
    }
   ],
   "source": [
    "%%time\n",
    "hsrs_fadegap = np.zeros((end_nodes-start_nodes, 4))\n",
    "endpoint = 2\n",
    "# dfade = [10**(-3), 10**(-10), 10**(-3)]\n",
    "dfade = 10**(-4)\n",
    "hsrs_tSNR = {}\n",
    "hsrs_rSNR = {}\n",
    "for N in xrange(35, 1, -1):\n",
    "    hsrs_tSNR[N] = np.floor(hsrs_fadegap_guess[N-2])\n",
    "    filename = hsrs_up + '/n' + str(N) + '.in'\n",
    "    downTable = load_table(filename)\n",
    "    downfunc = interp1d(downTable[0], downTable[1], kind='linear', bounds_error=False, fill_value=(1.0,0.0))\n",
    "    for dSNR in [10**i for i in range(0, -3, -1)]:\n",
    "        tSNR_range = np.arange(hsrs_tSNR[N], 92, dSNR)\n",
    "        if N in hsrs_rSNR:\n",
    "            rSNR1_range = np.arange(np.floor(hsrs_rSNR[N]), np.ceil(hsrs_rSNR[N]), 0.01)\n",
    "        else:\n",
    "            rSNR1_range = np.arange(-1, 5, 0.01)\n",
    "        \n",
    "        rSNR2 = downTable[0][np.where(np.array(downTable[1])<=0.1*protocol_target)[0][0]]\n",
    "        pa2 = downTable[1][np.where(np.array(downTable[0]==rSNR2))[0][0]]\n",
    "        \n",
    "        hsrs_fadegap[N-start_nodes] = down_fade_gap_inner(N, downfunc, target, tSNR_range, rSNR1_range, rSNR2, pa2)\n",
    "        hsrs_tSNR[N] = hsrs_fadegap[N-start_nodes][1] - dSNR\n",
    "        hsrs_rSNR[N] = hsrs_fadegap[N-start_nodes][2]\n",
    "        print hsrs_fadegap[N-start_nodes]"
   ]
  },
  {
   "cell_type": "markdown",
   "metadata": {},
   "source": [
    "# Integral"
   ]
  },
  {
   "cell_type": "code",
   "execution_count": 40,
   "metadata": {
    "collapsed": false
   },
   "outputs": [
    {
     "name": "stderr",
     "output_type": "stream",
     "text": [
      "<string>:159: RuntimeWarning: divide by zero encountered in log10\n",
      "<string>:164: RuntimeWarning: divide by zero encountered in log10\n",
      "<string>:216: RuntimeWarning: divide by zero encountered in log10\n",
      "<string>:223: RuntimeWarning: divide by zero encountered in log10\n",
      "<string>:231: RuntimeWarning: divide by zero encountered in log10\n"
     ]
    },
    {
     "name": "stdout",
     "output_type": "stream",
     "text": [
      "35 9.0\n",
      "35 8.9\n",
      "35 8.86\n",
      "34 9.0\n",
      "34 9.0\n",
      "34 8.99\n",
      "33 10.0\n",
      "33 9.1\n",
      "33 9.08\n",
      "32 10.0\n",
      "32 9.2\n",
      "32 9.17\n",
      "31 10.0\n",
      "31 9.4\n",
      "31 9.31\n",
      "30 8.0\n",
      "30 7.6\n",
      "30 7.59\n",
      "29 8.0\n",
      "29 7.8\n",
      "29 7.78\n",
      "28 8.0\n",
      "28 8.0\n",
      "28 7.98\n",
      "27 8.0\n",
      "27 7.3\n",
      "27 7.25\n",
      "26 8.0\n",
      "26 7.5\n",
      "26 7.49\n",
      "25 8.0\n",
      "25 7.8\n",
      "25 7.73\n",
      "24 8.0\n",
      "24 7.4\n",
      "24 7.33\n",
      "23 8.0\n",
      "23 7.7\n",
      "23 7.62\n",
      "22 8.0\n",
      "22 7.5\n",
      "22 7.45\n",
      "21 8.0\n",
      "21 7.8\n",
      "21 7.77\n",
      "20 8.0\n",
      "20 7.8\n",
      "20 7.73\n",
      "19 9.0\n",
      "19 8.2\n",
      "19 8.16\n",
      "18 9.0\n",
      "18 8.3\n",
      "18 8.22\n",
      "17 9.0\n",
      "17 8.5\n",
      "17 8.42\n",
      "16 9.0\n",
      "16 8.7\n",
      "16 8.61\n",
      "15 10.0\n",
      "15 9.2\n",
      "15 9.19\n",
      "14 10.0\n",
      "14 9.5\n",
      "14 9.41\n",
      "13 10.0\n",
      "13 9.9\n",
      "13"
     ]
    },
    {
     "name": "stderr",
     "output_type": "stream",
     "text": [
      "<string>:169: RuntimeWarning: divide by zero encountered in log10\n",
      "<string>:118: RuntimeWarning: invalid value encountered in true_divide\n"
     ]
    },
    {
     "name": "stdout",
     "output_type": "stream",
     "text": [
      " 9.89\n",
      "12 11.0\n",
      "12 10.6\n",
      "12 10.52\n",
      "11 12.0\n",
      "11 11.2\n",
      "11 11.14\n",
      "10 12.0\n",
      "10 12.0\n",
      "10 11.92\n",
      "9 13.0\n",
      "9 12.9\n",
      "9 12.81\n",
      "8 15.0\n",
      "8 14.1\n",
      "8 14.08\n",
      "7 16.0\n",
      "7 15.6\n",
      "7 15.57\n",
      "6 18.0\n",
      "6 17.8\n",
      "6 17.72\n",
      "5 21.0\n",
      "5 20.7\n",
      "5 20.61\n",
      "4 25.0\n",
      "4 25.0\n",
      "4 24.91\n",
      "3 32.0\n",
      "3 32.0\n",
      "3 31.96\n",
      "2 46.0\n",
      "2 46.0\n",
      "2 45.91\n",
      "CPU times: user 1h 3min 36s, sys: 9min 40s, total: 1h 13min 16s\n",
      "Wall time: 39min 6s\n"
     ]
    },
    {
     "name": "stderr",
     "output_type": "stream",
     "text": [
      "<string>:119: RuntimeWarning: invalid value encountered in greater\n"
     ]
    }
   ],
   "source": [
    "%%time\n",
    "%run ../cow.py\n",
    "\n",
    "endpoint = 2\n",
    "# dfade = [10**(-3), 10**(-10), 10**(-3)]\n",
    "dfade = 10**(-4)\n",
    "\n",
    "hsrs_lti = np.zeros((end_nodes-start_nodes,))\n",
    "hsrs_lti_dct = {}\n",
    "for N in xrange(35, 1, -1):\n",
    "    hsrs_lti_dct[N] = 0\n",
    "    for dSNR in [10**i for i in range(0, -3, -1)]:\n",
    "        start_tSNR = hsrs_lti_dct[N]\n",
    "        hsrs_lti[N-start_nodes] = loudest_talker_integral(N, hsrs_up, start_tSNR, dfade, dSNR)\n",
    "        hsrs_lti_dct[N] = hsrs_lti[N-start_nodes] - dSNR\n",
    "        print N, hsrs_lti[N-start_nodes]"
   ]
  },
  {
   "cell_type": "code",
   "execution_count": 42,
   "metadata": {
    "collapsed": false
   },
   "outputs": [
    {
     "name": "stdout",
     "output_type": "stream",
     "text": [
      "35 1.52\n",
      "34 1.48\n",
      "33 1.45\n",
      "32 1.42\n",
      "31 1.39\n",
      "30 1.36\n",
      "29 1.34\n",
      "28 1.31\n",
      "27 1.3\n",
      "26 1.29\n",
      "25 1.28\n",
      "24 1.28\n",
      "23 1.28\n",
      "22 1.3\n",
      "21 1.32\n",
      "20 1.36\n",
      "19 1.41\n",
      "18 1.47\n",
      "17 1.56\n",
      "16 1.66\n",
      "15 1.8\n",
      "14 1.97\n",
      "13 2.19\n",
      "12 2.46\n",
      "11 2.81\n",
      "10 3.26\n",
      "9 3.84\n",
      "8 4.62\n",
      "7 5.66\n",
      "6 7.16\n",
      "5 9.34\n",
      "4 12.77\n",
      "3 18.68\n",
      "2 30.94\n",
      "CPU times: user 43min 43s, sys: 6min 46s, total: 50min 29s\n",
      "Wall time: 26min 12s\n"
     ]
    }
   ],
   "source": [
    "%%time\n",
    "endpoint = 2\n",
    "# dfade = [10**(-3), 10**(-10), 10**(-3)]\n",
    "dfade = 10**(-4)\n",
    "poly_lti = np.zeros((end_nodes-start_nodes,))\n",
    "poly_lti_dct = {}\n",
    "for N in xrange(35, 1, -1):\n",
    "    poly_lti_dct[N] = 0\n",
    "    for dSNR in [10**i for i in range(0, -3, -1)]:\n",
    "        start_tSNR = poly_lti_dct[N]\n",
    "        poly_lti[N-start_nodes] = loudest_talker_integral(N, poly_scheme, start_tSNR, dfade, dSNR)\n",
    "        poly_lti_dct[N] = poly_lti[N-start_nodes] - dSNR\n",
    "    print N, poly_lti[N-start_nodes]"
   ]
  },
  {
   "cell_type": "markdown",
   "metadata": {},
   "source": [
    "# Plot"
   ]
  },
  {
   "cell_type": "code",
   "execution_count": 45,
   "metadata": {
    "collapsed": false
   },
   "outputs": [
    {
     "data": {
      "image/png": "[encoded data removed]",
      "text/html": [
       "\n",
       "\n",
       "<style>\n",
       "\n",
       "</style>\n",
       "\n",
       "<div id=\"fig_el453945486671522639518856\"></div>\n",
       "<script>\n",
       "function mpld3_load_lib(url, callback){\n",
       "  var s = document.createElement('script');\n",
       "  s.src = url;\n",
       "  s.async = true;\n",
       "  s.onreadystatechange = s.onload = callback;\n",
       "  s.onerror = function(){console.warn(\"failed to load library \" + url);};\n",
       "  document.getElementsByTagName(\"head\")[0].appendChild(s);\n",
       "}\n",
       "\n",
       "if(typeof(mpld3) !== \"undefined\" && mpld3._mpld3IsLoaded){\n",
       "   // already loaded: just create the figure\n",
       "   !function(mpld3){\n",
       "       \n",
       "       mpld3.draw_figure(\"fig_el453945486671522639518856\", {\"axes\": [{\"xlim\": [0.0, 35.0], \"yscale\": \"linear\", \"axesbg\": \"#FFFFFF\", \"texts\": [{\"v_baseline\": \"hanging\", \"h_anchor\": \"middle\", \"color\": \"#000000\", \"text\": \"Number of Nodes\", \"coordinates\": \"axes\", \"zorder\": 3, \"alpha\": 1, \"fontsize\": 18.0, \"position\": [0.5, -0.040322580645161282], \"rotation\": -0.0, \"id\": \"el45394554033680\"}, {\"v_baseline\": \"auto\", \"h_anchor\": \"middle\", \"color\": \"#000000\", \"text\": \"Transmit SNR Needed (dB)\", \"coordinates\": \"axes\", \"zorder\": 3, \"alpha\": 1, \"fontsize\": 18.0, \"position\": [-0.053147401433691732, 0.5], \"rotation\": -90.0, \"id\": \"el45394351796944\"}, {\"v_baseline\": \"auto\", \"h_anchor\": \"middle\", \"color\": \"#000000\", \"text\": \"Downlink 2 Hop\", \"coordinates\": \"axes\", \"zorder\": 3, \"alpha\": 1, \"fontsize\": 24.0, \"position\": [0.5, 1.0112007168458781], \"rotation\": -0.0, \"id\": \"el45394551851408\"}, {\"v_baseline\": \"auto\", \"h_anchor\": \"start\", \"color\": \"#000000\", \"text\": \"None\", \"coordinates\": \"axes\", \"zorder\": 1000003.0, \"alpha\": 1, \"fontsize\": 10.0, \"position\": [-0.16129032258064516, -0.16129032258064516], \"rotation\": -0.0, \"id\": \"el45394551823248\"}, {\"v_baseline\": \"auto\", \"h_anchor\": \"start\", \"color\": \"#000000\", \"text\": \"Hamming Loudest Talker\", \"coordinates\": \"axes\", \"zorder\": 1000003.0, \"alpha\": 1, \"fontsize\": 12.0, \"position\": [0.75390625000000022, 0.95564516129032262], \"rotation\": -0.0, \"id\": \"el45394548639184\"}, {\"v_baseline\": \"auto\", \"h_anchor\": \"start\", \"color\": \"#000000\", \"text\": \"Hamming 2 Fade Gap\", \"coordinates\": \"axes\", \"zorder\": 1000003.0, \"alpha\": 1, \"fontsize\": 12.0, \"position\": [0.75390625000000022, 0.91599462365591411], \"rotation\": -0.0, \"id\": \"el45394504426576\"}, {\"v_baseline\": \"auto\", \"h_anchor\": \"start\", \"color\": \"#000000\", \"text\": \"Hamming Integral\", \"coordinates\": \"axes\", \"zorder\": 1000003.0, \"alpha\": 1, \"fontsize\": 12.0, \"position\": [0.75390625000000022, 0.87634408602150538], \"rotation\": -0.0, \"id\": \"el45394504426960\"}, {\"v_baseline\": \"auto\", \"h_anchor\": \"start\", \"color\": \"#000000\", \"text\": \"Polyanskiy Loudest Talker\", \"coordinates\": \"axes\", \"zorder\": 1000003.0, \"alpha\": 1, \"fontsize\": 12.0, \"position\": [0.75390625000000022, 0.83669354838709675], \"rotation\": -0.0, \"id\": \"el45394551820944\"}, {\"v_baseline\": \"auto\", \"h_anchor\": \"start\", \"color\": \"#000000\", \"text\": \"Polyanskiy Integral\", \"coordinates\": \"axes\", \"zorder\": 1000003.0, \"alpha\": 1, \"fontsize\": 12.0, \"position\": [0.75390625000000022, 0.79704301075268813], \"rotation\": -0.0, \"id\": \"el45394548732496\"}, {\"v_baseline\": \"auto\", \"h_anchor\": \"start\", \"color\": \"#000000\", \"text\": \"Shannon Loudest Talker\", \"coordinates\": \"axes\", \"zorder\": 1000003.0, \"alpha\": 1, \"fontsize\": 12.0, \"position\": [0.75390625000000022, 0.75739247311827951], \"rotation\": -0.0, \"id\": \"el45394548734864\"}], \"zoomable\": true, \"images\": [], \"xdomain\": [0.0, 35.0], \"ylim\": [0.0, 50.0], \"paths\": [{\"edgecolor\": \"#000000\", \"facecolor\": \"#FFFFFF\", \"edgewidth\": 1.0, \"pathcodes\": [\"M\", \"L\", \"L\", \"L\", \"Z\"], \"yindex\": 1, \"coordinates\": \"axes\", \"dasharray\": \"10,0\", \"zorder\": 1000001.0, \"alpha\": 1, \"xindex\": 0, \"data\": \"data03\", \"id\": \"el45394548639504\"}], \"sharey\": [], \"sharex\": [], \"axesbgalpha\": null, \"axes\": [{\"scale\": \"linear\", \"tickformat\": null, \"grid\": {\"gridOn\": false}, \"fontsize\": 10.0, \"position\": \"bottom\", \"nticks\": 8, \"tickvalues\": null}, {\"scale\": \"linear\", \"tickformat\": null, \"grid\": {\"gridOn\": false}, \"fontsize\": 10.0, \"position\": \"left\", \"nticks\": 6, \"tickvalues\": null}], \"lines\": [{\"color\": \"#0000FF\", \"yindex\": 1, \"coordinates\": \"data\", \"dasharray\": \"10,0\", \"zorder\": 2, \"alpha\": 1, \"xindex\": 0, \"linewidth\": 2.0, \"data\": \"data01\", \"id\": \"el45394549386512\"}, {\"color\": \"#007F00\", \"yindex\": 2, \"coordinates\": \"data\", \"dasharray\": \"10,0\", \"zorder\": 2, \"alpha\": 1, \"xindex\": 0, \"linewidth\": 2.0, \"data\": \"data01\", \"id\": \"el45394548667920\"}, {\"color\": \"#FF0000\", \"yindex\": 3, \"coordinates\": \"data\", \"dasharray\": \"10,0\", \"zorder\": 2, \"alpha\": 1, \"xindex\": 0, \"linewidth\": 2.0, \"data\": \"data01\", \"id\": \"el45394549387536\"}, {\"color\": \"#00BFBF\", \"yindex\": 4, \"coordinates\": \"data\", \"dasharray\": \"10,0\", \"zorder\": 2, \"alpha\": 1, \"xindex\": 0, \"linewidth\": 2.0, \"data\": \"data01\", \"id\": \"el45394551837712\"}, {\"color\": \"#BF00BF\", \"yindex\": 5, \"coordinates\": \"data\", \"dasharray\": \"10,0\", \"zorder\": 2, \"alpha\": 1, \"xindex\": 0, \"linewidth\": 2.0, \"data\": \"data01\", \"id\": \"el45394549238416\"}, {\"color\": \"#BFBF00\", \"yindex\": 6, \"coordinates\": \"data\", \"dasharray\": \"10,0\", \"zorder\": 2, \"alpha\": 1, \"xindex\": 0, \"linewidth\": 2.0, \"data\": \"data01\", \"id\": \"el45394549238160\"}, {\"color\": \"#0000FF\", \"yindex\": 1, \"coordinates\": \"axes\", \"dasharray\": \"10,0\", \"zorder\": 1000002.0, \"alpha\": 1, \"xindex\": 0, \"linewidth\": 2.0, \"data\": \"data02\", \"id\": \"el45394548638608\"}, {\"color\": \"#007F00\", \"yindex\": 2, \"coordinates\": \"axes\", \"dasharray\": \"10,0\", \"zorder\": 1000002.0, \"alpha\": 1, \"xindex\": 0, \"linewidth\": 2.0, \"data\": \"data02\", \"id\": \"el45394548636880\"}, {\"color\": \"#FF0000\", \"yindex\": 3, \"coordinates\": \"axes\", \"dasharray\": \"10,0\", \"zorder\": 1000002.0, \"alpha\": 1, \"xindex\": 0, \"linewidth\": 2.0, \"data\": \"data02\", \"id\": \"el45394551626192\"}, {\"color\": \"#00BFBF\", \"yindex\": 4, \"coordinates\": \"axes\", \"dasharray\": \"10,0\", \"zorder\": 1000002.0, \"alpha\": 1, \"xindex\": 0, \"linewidth\": 2.0, \"data\": \"data02\", \"id\": \"el45394551822096\"}, {\"color\": \"#BF00BF\", \"yindex\": 5, \"coordinates\": \"axes\", \"dasharray\": \"10,0\", \"zorder\": 1000002.0, \"alpha\": 1, \"xindex\": 0, \"linewidth\": 2.0, \"data\": \"data02\", \"id\": \"el45394548733648\"}, {\"color\": \"#BFBF00\", \"yindex\": 6, \"coordinates\": \"axes\", \"dasharray\": \"10,0\", \"zorder\": 1000002.0, \"alpha\": 1, \"xindex\": 0, \"linewidth\": 2.0, \"data\": \"data02\", \"id\": \"el45394549023824\"}], \"markers\": [], \"id\": \"el45394548665616\", \"ydomain\": [0.0, 50.0], \"collections\": [], \"xscale\": \"linear\", \"bbox\": [0.125, 0.125, 0.77500000000000002, 0.77500000000000002]}], \"height\": 640.0, \"width\": 960.0, \"plugins\": [{\"type\": \"reset\"}, {\"enabled\": false, \"button\": true, \"type\": \"zoom\"}, {\"enabled\": false, \"button\": true, \"type\": \"boxzoom\"}], \"data\": {\"data02\": [[0.7091033826164876, 0.9650537634408602, 0.9254032258064517, 0.885752688172043, 0.8461021505376344, 0.8064516129032258, 0.7668010752688171], [0.7341929883512547, 0.9650537634408602, 0.9254032258064517, 0.885752688172043, 0.8461021505376344, 0.8064516129032258, 0.7668010752688171]], \"data03\": [[0.6965585797491041, 0.7405913978494624], [0.9910394265232977, 0.7405913978494624], [0.9910394265232977, 0.9865591397849464], [0.6965585797491041, 0.9865591397849464]], \"data01\": [[2.0, 47.32999999999915, 46.33, 45.91000000000001, 34.49000000000171, 30.94000000000002, 30.90000000000203], [3.0, 33.68000000000187, 33.24999999999999, 31.960000000000022, 22.210000000000672, 18.68000000000002, 18.640000000000114], [4.0, 26.8600000000014, 26.43000000000001, 24.910000000000014, 16.279999999999745, 12.769999999999996, 12.719999999999773], [5.0, 22.77000000000076, 22.320000000000007, 20.61000000000001, 12.85999999999977, 9.339999999999998, 9.309999999999846], [6.0, 20.070000000000338, 19.810000000000013, 17.720000000000013, 10.669999999999817, 7.159999999999998, 7.109999999999893], [7.0, 18.11000000000003, 17.50000000000002, 15.569999999999997, 9.169999999999849, 5.659999999999997, 5.629999999999924], [8.0, 16.789999999999825, 16.120000000000005, 14.079999999999998, 8.099999999999872, 4.619999999999997, 4.559999999999947], [9.0, 15.68999999999971, 14.969999999999995, 12.809999999999997, 7.309999999999889, 3.84, 3.7799999999999634], [10.0, 14.939999999999726, 14.169999999999998, 11.919999999999996, 6.709999999999901, 3.259999999999999, 3.179999999999976], [11.0, 14.28999999999974, 13.479999999999997, 11.139999999999999, 6.249999999999911, 2.8100000000000005, 2.719999999999986], [12.0, 13.83999999999975, 12.979999999999995, 10.519999999999998, 5.899999999999919, 2.459999999999999, 2.3599999999999937], [13.0, 13.31999999999976, 12.429999999999998, 9.889999999999995, 5.619999999999925, 2.189999999999998, 2.0799999999999996], [14.0, 12.949999999999768, 12.069999999999999, 9.409999999999998, 5.3899999999999295, 1.9700000000000009, 1.8500000000000014], [15.0, 12.949999999999768, 11.929999999999996, 9.189999999999998, 5.219999999999933, 1.8000000000000007, 1.6700000000000013], [16.0, 12.43999999999978, 11.629999999999997, 8.609999999999998, 5.079999999999936, 1.6600000000000006, 1.5300000000000011], [17.0, 12.359999999999781, 11.939999999999996, 8.419999999999998, 4.959999999999939, 1.5600000000000005, 1.410000000000001], [18.0, 12.349999999999781, 11.209999999999999, 8.219999999999999, 4.87999999999994, 1.4700000000000004, 1.320000000000001], [19.0, 12.459999999999779, 11.269999999999998, 8.159999999999998, 4.809999999999942, 1.4100000000000004, 1.2500000000000009], [20.0, 12.109999999999786, 10.889999999999995, 7.729999999999997, 4.759999999999943, 1.3600000000000003, 1.2000000000000008], [21.0, 12.37999999999978, 11.149999999999999, 7.769999999999996, 4.719999999999944, 1.3200000000000003, 1.1500000000000008], [22.0, 12.109999999999786, 10.819999999999997, 7.4499999999999975, 4.699999999999944, 1.3000000000000003, 1.1200000000000008], [23.0, 12.579999999999776, 11.519999999999998, 7.619999999999997, 4.689999999999944, 1.2800000000000002, 1.1100000000000008], [24.0, 12.329999999999782, 10.909999999999997, 7.329999999999998, 4.689999999999944, 1.2800000000000002, 1.0900000000000007], [25.0, 13.119999999999765, 11.569999999999997, 7.729999999999997, 4.699999999999944, 1.2800000000000002, 1.0900000000000007], [26.0, 12.90999999999977, 11.339999999999998, 7.489999999999997, 4.699999999999944, 1.2900000000000003, 1.0900000000000007], [27.0, 12.709999999999773, 11.12, 7.249999999999998, 4.739999999999943, 1.3000000000000003, 1.0900000000000007], [28.0, 14.009999999999746, 12.729999999999997, 7.979999999999995, 4.739999999999943, 1.3100000000000003, 1.1100000000000008], [29.0, 13.84999999999975, 12.439999999999998, 7.779999999999996, 4.789999999999942, 1.3400000000000003, 1.1300000000000008], [30.0, 13.699999999999752, 11.869999999999996, 7.589999999999996, 4.839999999999941, 1.3600000000000003, 1.1400000000000008], [31.0, 16.23999999999974, 14.889999999999995, 9.309999999999999, 4.869999999999941, 1.3900000000000003, 1.1700000000000008], [32.0, 16.11999999999972, 13.959999999999996, 9.169999999999998, 4.929999999999939, 1.4200000000000004, 1.1900000000000008], [33.0, 16.029999999999706, 13.839999999999996, 9.079999999999998, 4.979999999999938, 1.4500000000000004, 1.2200000000000009], [34.0, 15.949999999999704, 13.719999999999997, 8.989999999999995, 5.119999999999935, 1.4800000000000004, 1.2400000000000009], [35.0, 15.859999999999706, 13.579999999999997, 8.859999999999996, 5.079999999999936, 1.5200000000000005, 1.280000000000001]]}, \"id\": \"el45394548667152\"});\n",
       "   }(mpld3);\n",
       "}else if(typeof define === \"function\" && define.amd){\n",
       "   // require.js is available: use it to load d3/mpld3\n",
       "   require.config({paths: {d3: \"https://mpld3.github.io/js/d3.v3.min\"}});\n",
       "   require([\"d3\"], function(d3){\n",
       "      window.d3 = d3;\n",
       "      mpld3_load_lib(\"https://mpld3.github.io/js/mpld3.v0.2.js\", function(){\n",
       "         \n",
       "         mpld3.draw_figure(\"fig_el453945486671522639518856\", {\"axes\": [{\"xlim\": [0.0, 35.0], \"yscale\": \"linear\", \"axesbg\": \"#FFFFFF\", \"texts\": [{\"v_baseline\": \"hanging\", \"h_anchor\": \"middle\", \"color\": \"#000000\", \"text\": \"Number of Nodes\", \"coordinates\": \"axes\", \"zorder\": 3, \"alpha\": 1, \"fontsize\": 18.0, \"position\": [0.5, -0.040322580645161282], \"rotation\": -0.0, \"id\": \"el45394554033680\"}, {\"v_baseline\": \"auto\", \"h_anchor\": \"middle\", \"color\": \"#000000\", \"text\": \"Transmit SNR Needed (dB)\", \"coordinates\": \"axes\", \"zorder\": 3, \"alpha\": 1, \"fontsize\": 18.0, \"position\": [-0.053147401433691732, 0.5], \"rotation\": -90.0, \"id\": \"el45394351796944\"}, {\"v_baseline\": \"auto\", \"h_anchor\": \"middle\", \"color\": \"#000000\", \"text\": \"Downlink 2 Hop\", \"coordinates\": \"axes\", \"zorder\": 3, \"alpha\": 1, \"fontsize\": 24.0, \"position\": [0.5, 1.0112007168458781], \"rotation\": -0.0, \"id\": \"el45394551851408\"}, {\"v_baseline\": \"auto\", \"h_anchor\": \"start\", \"color\": \"#000000\", \"text\": \"None\", \"coordinates\": \"axes\", \"zorder\": 1000003.0, \"alpha\": 1, \"fontsize\": 10.0, \"position\": [-0.16129032258064516, -0.16129032258064516], \"rotation\": -0.0, \"id\": \"el45394551823248\"}, {\"v_baseline\": \"auto\", \"h_anchor\": \"start\", \"color\": \"#000000\", \"text\": \"Hamming Loudest Talker\", \"coordinates\": \"axes\", \"zorder\": 1000003.0, \"alpha\": 1, \"fontsize\": 12.0, \"position\": [0.75390625000000022, 0.95564516129032262], \"rotation\": -0.0, \"id\": \"el45394548639184\"}, {\"v_baseline\": \"auto\", \"h_anchor\": \"start\", \"color\": \"#000000\", \"text\": \"Hamming 2 Fade Gap\", \"coordinates\": \"axes\", \"zorder\": 1000003.0, \"alpha\": 1, \"fontsize\": 12.0, \"position\": [0.75390625000000022, 0.91599462365591411], \"rotation\": -0.0, \"id\": \"el45394504426576\"}, {\"v_baseline\": \"auto\", \"h_anchor\": \"start\", \"color\": \"#000000\", \"text\": \"Hamming Integral\", \"coordinates\": \"axes\", \"zorder\": 1000003.0, \"alpha\": 1, \"fontsize\": 12.0, \"position\": [0.75390625000000022, 0.87634408602150538], \"rotation\": -0.0, \"id\": \"el45394504426960\"}, {\"v_baseline\": \"auto\", \"h_anchor\": \"start\", \"color\": \"#000000\", \"text\": \"Polyanskiy Loudest Talker\", \"coordinates\": \"axes\", \"zorder\": 1000003.0, \"alpha\": 1, \"fontsize\": 12.0, \"position\": [0.75390625000000022, 0.83669354838709675], \"rotation\": -0.0, \"id\": \"el45394551820944\"}, {\"v_baseline\": \"auto\", \"h_anchor\": \"start\", \"color\": \"#000000\", \"text\": \"Polyanskiy Integral\", \"coordinates\": \"axes\", \"zorder\": 1000003.0, \"alpha\": 1, \"fontsize\": 12.0, \"position\": [0.75390625000000022, 0.79704301075268813], \"rotation\": -0.0, \"id\": \"el45394548732496\"}, {\"v_baseline\": \"auto\", \"h_anchor\": \"start\", \"color\": \"#000000\", \"text\": \"Shannon Loudest Talker\", \"coordinates\": \"axes\", \"zorder\": 1000003.0, \"alpha\": 1, \"fontsize\": 12.0, \"position\": [0.75390625000000022, 0.75739247311827951], \"rotation\": -0.0, \"id\": \"el45394548734864\"}], \"zoomable\": true, \"images\": [], \"xdomain\": [0.0, 35.0], \"ylim\": [0.0, 50.0], \"paths\": [{\"edgecolor\": \"#000000\", \"facecolor\": \"#FFFFFF\", \"edgewidth\": 1.0, \"pathcodes\": [\"M\", \"L\", \"L\", \"L\", \"Z\"], \"yindex\": 1, \"coordinates\": \"axes\", \"dasharray\": \"10,0\", \"zorder\": 1000001.0, \"alpha\": 1, \"xindex\": 0, \"data\": \"data03\", \"id\": \"el45394548639504\"}], \"sharey\": [], \"sharex\": [], \"axesbgalpha\": null, \"axes\": [{\"scale\": \"linear\", \"tickformat\": null, \"grid\": {\"gridOn\": false}, \"fontsize\": 10.0, \"position\": \"bottom\", \"nticks\": 8, \"tickvalues\": null}, {\"scale\": \"linear\", \"tickformat\": null, \"grid\": {\"gridOn\": false}, \"fontsize\": 10.0, \"position\": \"left\", \"nticks\": 6, \"tickvalues\": null}], \"lines\": [{\"color\": \"#0000FF\", \"yindex\": 1, \"coordinates\": \"data\", \"dasharray\": \"10,0\", \"zorder\": 2, \"alpha\": 1, \"xindex\": 0, \"linewidth\": 2.0, \"data\": \"data01\", \"id\": \"el45394549386512\"}, {\"color\": \"#007F00\", \"yindex\": 2, \"coordinates\": \"data\", \"dasharray\": \"10,0\", \"zorder\": 2, \"alpha\": 1, \"xindex\": 0, \"linewidth\": 2.0, \"data\": \"data01\", \"id\": \"el45394548667920\"}, {\"color\": \"#FF0000\", \"yindex\": 3, \"coordinates\": \"data\", \"dasharray\": \"10,0\", \"zorder\": 2, \"alpha\": 1, \"xindex\": 0, \"linewidth\": 2.0, \"data\": \"data01\", \"id\": \"el45394549387536\"}, {\"color\": \"#00BFBF\", \"yindex\": 4, \"coordinates\": \"data\", \"dasharray\": \"10,0\", \"zorder\": 2, \"alpha\": 1, \"xindex\": 0, \"linewidth\": 2.0, \"data\": \"data01\", \"id\": \"el45394551837712\"}, {\"color\": \"#BF00BF\", \"yindex\": 5, \"coordinates\": \"data\", \"dasharray\": \"10,0\", \"zorder\": 2, \"alpha\": 1, \"xindex\": 0, \"linewidth\": 2.0, \"data\": \"data01\", \"id\": \"el45394549238416\"}, {\"color\": \"#BFBF00\", \"yindex\": 6, \"coordinates\": \"data\", \"dasharray\": \"10,0\", \"zorder\": 2, \"alpha\": 1, \"xindex\": 0, \"linewidth\": 2.0, \"data\": \"data01\", \"id\": \"el45394549238160\"}, {\"color\": \"#0000FF\", \"yindex\": 1, \"coordinates\": \"axes\", \"dasharray\": \"10,0\", \"zorder\": 1000002.0, \"alpha\": 1, \"xindex\": 0, \"linewidth\": 2.0, \"data\": \"data02\", \"id\": \"el45394548638608\"}, {\"color\": \"#007F00\", \"yindex\": 2, \"coordinates\": \"axes\", \"dasharray\": \"10,0\", \"zorder\": 1000002.0, \"alpha\": 1, \"xindex\": 0, \"linewidth\": 2.0, \"data\": \"data02\", \"id\": \"el45394548636880\"}, {\"color\": \"#FF0000\", \"yindex\": 3, \"coordinates\": \"axes\", \"dasharray\": \"10,0\", \"zorder\": 1000002.0, \"alpha\": 1, \"xindex\": 0, \"linewidth\": 2.0, \"data\": \"data02\", \"id\": \"el45394551626192\"}, {\"color\": \"#00BFBF\", \"yindex\": 4, \"coordinates\": \"axes\", \"dasharray\": \"10,0\", \"zorder\": 1000002.0, \"alpha\": 1, \"xindex\": 0, \"linewidth\": 2.0, \"data\": \"data02\", \"id\": \"el45394551822096\"}, {\"color\": \"#BF00BF\", \"yindex\": 5, \"coordinates\": \"axes\", \"dasharray\": \"10,0\", \"zorder\": 1000002.0, \"alpha\": 1, \"xindex\": 0, \"linewidth\": 2.0, \"data\": \"data02\", \"id\": \"el45394548733648\"}, {\"color\": \"#BFBF00\", \"yindex\": 6, \"coordinates\": \"axes\", \"dasharray\": \"10,0\", \"zorder\": 1000002.0, \"alpha\": 1, \"xindex\": 0, \"linewidth\": 2.0, \"data\": \"data02\", \"id\": \"el45394549023824\"}], \"markers\": [], \"id\": \"el45394548665616\", \"ydomain\": [0.0, 50.0], \"collections\": [], \"xscale\": \"linear\", \"bbox\": [0.125, 0.125, 0.77500000000000002, 0.77500000000000002]}], \"height\": 640.0, \"width\": 960.0, \"plugins\": [{\"type\": \"reset\"}, {\"enabled\": false, \"button\": true, \"type\": \"zoom\"}, {\"enabled\": false, \"button\": true, \"type\": \"boxzoom\"}], \"data\": {\"data02\": [[0.7091033826164876, 0.9650537634408602, 0.9254032258064517, 0.885752688172043, 0.8461021505376344, 0.8064516129032258, 0.7668010752688171], [0.7341929883512547, 0.9650537634408602, 0.9254032258064517, 0.885752688172043, 0.8461021505376344, 0.8064516129032258, 0.7668010752688171]], \"data03\": [[0.6965585797491041, 0.7405913978494624], [0.9910394265232977, 0.7405913978494624], [0.9910394265232977, 0.9865591397849464], [0.6965585797491041, 0.9865591397849464]], \"data01\": [[2.0, 47.32999999999915, 46.33, 45.91000000000001, 34.49000000000171, 30.94000000000002, 30.90000000000203], [3.0, 33.68000000000187, 33.24999999999999, 31.960000000000022, 22.210000000000672, 18.68000000000002, 18.640000000000114], [4.0, 26.8600000000014, 26.43000000000001, 24.910000000000014, 16.279999999999745, 12.769999999999996, 12.719999999999773], [5.0, 22.77000000000076, 22.320000000000007, 20.61000000000001, 12.85999999999977, 9.339999999999998, 9.309999999999846], [6.0, 20.070000000000338, 19.810000000000013, 17.720000000000013, 10.669999999999817, 7.159999999999998, 7.109999999999893], [7.0, 18.11000000000003, 17.50000000000002, 15.569999999999997, 9.169999999999849, 5.659999999999997, 5.629999999999924], [8.0, 16.789999999999825, 16.120000000000005, 14.079999999999998, 8.099999999999872, 4.619999999999997, 4.559999999999947], [9.0, 15.68999999999971, 14.969999999999995, 12.809999999999997, 7.309999999999889, 3.84, 3.7799999999999634], [10.0, 14.939999999999726, 14.169999999999998, 11.919999999999996, 6.709999999999901, 3.259999999999999, 3.179999999999976], [11.0, 14.28999999999974, 13.479999999999997, 11.139999999999999, 6.249999999999911, 2.8100000000000005, 2.719999999999986], [12.0, 13.83999999999975, 12.979999999999995, 10.519999999999998, 5.899999999999919, 2.459999999999999, 2.3599999999999937], [13.0, 13.31999999999976, 12.429999999999998, 9.889999999999995, 5.619999999999925, 2.189999999999998, 2.0799999999999996], [14.0, 12.949999999999768, 12.069999999999999, 9.409999999999998, 5.3899999999999295, 1.9700000000000009, 1.8500000000000014], [15.0, 12.949999999999768, 11.929999999999996, 9.189999999999998, 5.219999999999933, 1.8000000000000007, 1.6700000000000013], [16.0, 12.43999999999978, 11.629999999999997, 8.609999999999998, 5.079999999999936, 1.6600000000000006, 1.5300000000000011], [17.0, 12.359999999999781, 11.939999999999996, 8.419999999999998, 4.959999999999939, 1.5600000000000005, 1.410000000000001], [18.0, 12.349999999999781, 11.209999999999999, 8.219999999999999, 4.87999999999994, 1.4700000000000004, 1.320000000000001], [19.0, 12.459999999999779, 11.269999999999998, 8.159999999999998, 4.809999999999942, 1.4100000000000004, 1.2500000000000009], [20.0, 12.109999999999786, 10.889999999999995, 7.729999999999997, 4.759999999999943, 1.3600000000000003, 1.2000000000000008], [21.0, 12.37999999999978, 11.149999999999999, 7.769999999999996, 4.719999999999944, 1.3200000000000003, 1.1500000000000008], [22.0, 12.109999999999786, 10.819999999999997, 7.4499999999999975, 4.699999999999944, 1.3000000000000003, 1.1200000000000008], [23.0, 12.579999999999776, 11.519999999999998, 7.619999999999997, 4.689999999999944, 1.2800000000000002, 1.1100000000000008], [24.0, 12.329999999999782, 10.909999999999997, 7.329999999999998, 4.689999999999944, 1.2800000000000002, 1.0900000000000007], [25.0, 13.119999999999765, 11.569999999999997, 7.729999999999997, 4.699999999999944, 1.2800000000000002, 1.0900000000000007], [26.0, 12.90999999999977, 11.339999999999998, 7.489999999999997, 4.699999999999944, 1.2900000000000003, 1.0900000000000007], [27.0, 12.709999999999773, 11.12, 7.249999999999998, 4.739999999999943, 1.3000000000000003, 1.0900000000000007], [28.0, 14.009999999999746, 12.729999999999997, 7.979999999999995, 4.739999999999943, 1.3100000000000003, 1.1100000000000008], [29.0, 13.84999999999975, 12.439999999999998, 7.779999999999996, 4.789999999999942, 1.3400000000000003, 1.1300000000000008], [30.0, 13.699999999999752, 11.869999999999996, 7.589999999999996, 4.839999999999941, 1.3600000000000003, 1.1400000000000008], [31.0, 16.23999999999974, 14.889999999999995, 9.309999999999999, 4.869999999999941, 1.3900000000000003, 1.1700000000000008], [32.0, 16.11999999999972, 13.959999999999996, 9.169999999999998, 4.929999999999939, 1.4200000000000004, 1.1900000000000008], [33.0, 16.029999999999706, 13.839999999999996, 9.079999999999998, 4.979999999999938, 1.4500000000000004, 1.2200000000000009], [34.0, 15.949999999999704, 13.719999999999997, 8.989999999999995, 5.119999999999935, 1.4800000000000004, 1.2400000000000009], [35.0, 15.859999999999706, 13.579999999999997, 8.859999999999996, 5.079999999999936, 1.5200000000000005, 1.280000000000001]]}, \"id\": \"el45394548667152\"});\n",
       "      });\n",
       "    });\n",
       "}else{\n",
       "    // require.js not available: dynamically load d3 & mpld3\n",
       "    mpld3_load_lib(\"https://mpld3.github.io/js/d3.v3.min.js\", function(){\n",
       "         mpld3_load_lib(\"https://mpld3.github.io/js/mpld3.v0.2.js\", function(){\n",
       "                 \n",
       "                 mpld3.draw_figure(\"fig_el453945486671522639518856\", {\"axes\": [{\"xlim\": [0.0, 35.0], \"yscale\": \"linear\", \"axesbg\": \"#FFFFFF\", \"texts\": [{\"v_baseline\": \"hanging\", \"h_anchor\": \"middle\", \"color\": \"#000000\", \"text\": \"Number of Nodes\", \"coordinates\": \"axes\", \"zorder\": 3, \"alpha\": 1, \"fontsize\": 18.0, \"position\": [0.5, -0.040322580645161282], \"rotation\": -0.0, \"id\": \"el45394554033680\"}, {\"v_baseline\": \"auto\", \"h_anchor\": \"middle\", \"color\": \"#000000\", \"text\": \"Transmit SNR Needed (dB)\", \"coordinates\": \"axes\", \"zorder\": 3, \"alpha\": 1, \"fontsize\": 18.0, \"position\": [-0.053147401433691732, 0.5], \"rotation\": -90.0, \"id\": \"el45394351796944\"}, {\"v_baseline\": \"auto\", \"h_anchor\": \"middle\", \"color\": \"#000000\", \"text\": \"Downlink 2 Hop\", \"coordinates\": \"axes\", \"zorder\": 3, \"alpha\": 1, \"fontsize\": 24.0, \"position\": [0.5, 1.0112007168458781], \"rotation\": -0.0, \"id\": \"el45394551851408\"}, {\"v_baseline\": \"auto\", \"h_anchor\": \"start\", \"color\": \"#000000\", \"text\": \"None\", \"coordinates\": \"axes\", \"zorder\": 1000003.0, \"alpha\": 1, \"fontsize\": 10.0, \"position\": [-0.16129032258064516, -0.16129032258064516], \"rotation\": -0.0, \"id\": \"el45394551823248\"}, {\"v_baseline\": \"auto\", \"h_anchor\": \"start\", \"color\": \"#000000\", \"text\": \"Hamming Loudest Talker\", \"coordinates\": \"axes\", \"zorder\": 1000003.0, \"alpha\": 1, \"fontsize\": 12.0, \"position\": [0.75390625000000022, 0.95564516129032262], \"rotation\": -0.0, \"id\": \"el45394548639184\"}, {\"v_baseline\": \"auto\", \"h_anchor\": \"start\", \"color\": \"#000000\", \"text\": \"Hamming 2 Fade Gap\", \"coordinates\": \"axes\", \"zorder\": 1000003.0, \"alpha\": 1, \"fontsize\": 12.0, \"position\": [0.75390625000000022, 0.91599462365591411], \"rotation\": -0.0, \"id\": \"el45394504426576\"}, {\"v_baseline\": \"auto\", \"h_anchor\": \"start\", \"color\": \"#000000\", \"text\": \"Hamming Integral\", \"coordinates\": \"axes\", \"zorder\": 1000003.0, \"alpha\": 1, \"fontsize\": 12.0, \"position\": [0.75390625000000022, 0.87634408602150538], \"rotation\": -0.0, \"id\": \"el45394504426960\"}, {\"v_baseline\": \"auto\", \"h_anchor\": \"start\", \"color\": \"#000000\", \"text\": \"Polyanskiy Loudest Talker\", \"coordinates\": \"axes\", \"zorder\": 1000003.0, \"alpha\": 1, \"fontsize\": 12.0, \"position\": [0.75390625000000022, 0.83669354838709675], \"rotation\": -0.0, \"id\": \"el45394551820944\"}, {\"v_baseline\": \"auto\", \"h_anchor\": \"start\", \"color\": \"#000000\", \"text\": \"Polyanskiy Integral\", \"coordinates\": \"axes\", \"zorder\": 1000003.0, \"alpha\": 1, \"fontsize\": 12.0, \"position\": [0.75390625000000022, 0.79704301075268813], \"rotation\": -0.0, \"id\": \"el45394548732496\"}, {\"v_baseline\": \"auto\", \"h_anchor\": \"start\", \"color\": \"#000000\", \"text\": \"Shannon Loudest Talker\", \"coordinates\": \"axes\", \"zorder\": 1000003.0, \"alpha\": 1, \"fontsize\": 12.0, \"position\": [0.75390625000000022, 0.75739247311827951], \"rotation\": -0.0, \"id\": \"el45394548734864\"}], \"zoomable\": true, \"images\": [], \"xdomain\": [0.0, 35.0], \"ylim\": [0.0, 50.0], \"paths\": [{\"edgecolor\": \"#000000\", \"facecolor\": \"#FFFFFF\", \"edgewidth\": 1.0, \"pathcodes\": [\"M\", \"L\", \"L\", \"L\", \"Z\"], \"yindex\": 1, \"coordinates\": \"axes\", \"dasharray\": \"10,0\", \"zorder\": 1000001.0, \"alpha\": 1, \"xindex\": 0, \"data\": \"data03\", \"id\": \"el45394548639504\"}], \"sharey\": [], \"sharex\": [], \"axesbgalpha\": null, \"axes\": [{\"scale\": \"linear\", \"tickformat\": null, \"grid\": {\"gridOn\": false}, \"fontsize\": 10.0, \"position\": \"bottom\", \"nticks\": 8, \"tickvalues\": null}, {\"scale\": \"linear\", \"tickformat\": null, \"grid\": {\"gridOn\": false}, \"fontsize\": 10.0, \"position\": \"left\", \"nticks\": 6, \"tickvalues\": null}], \"lines\": [{\"color\": \"#0000FF\", \"yindex\": 1, \"coordinates\": \"data\", \"dasharray\": \"10,0\", \"zorder\": 2, \"alpha\": 1, \"xindex\": 0, \"linewidth\": 2.0, \"data\": \"data01\", \"id\": \"el45394549386512\"}, {\"color\": \"#007F00\", \"yindex\": 2, \"coordinates\": \"data\", \"dasharray\": \"10,0\", \"zorder\": 2, \"alpha\": 1, \"xindex\": 0, \"linewidth\": 2.0, \"data\": \"data01\", \"id\": \"el45394548667920\"}, {\"color\": \"#FF0000\", \"yindex\": 3, \"coordinates\": \"data\", \"dasharray\": \"10,0\", \"zorder\": 2, \"alpha\": 1, \"xindex\": 0, \"linewidth\": 2.0, \"data\": \"data01\", \"id\": \"el45394549387536\"}, {\"color\": \"#00BFBF\", \"yindex\": 4, \"coordinates\": \"data\", \"dasharray\": \"10,0\", \"zorder\": 2, \"alpha\": 1, \"xindex\": 0, \"linewidth\": 2.0, \"data\": \"data01\", \"id\": \"el45394551837712\"}, {\"color\": \"#BF00BF\", \"yindex\": 5, \"coordinates\": \"data\", \"dasharray\": \"10,0\", \"zorder\": 2, \"alpha\": 1, \"xindex\": 0, \"linewidth\": 2.0, \"data\": \"data01\", \"id\": \"el45394549238416\"}, {\"color\": \"#BFBF00\", \"yindex\": 6, \"coordinates\": \"data\", \"dasharray\": \"10,0\", \"zorder\": 2, \"alpha\": 1, \"xindex\": 0, \"linewidth\": 2.0, \"data\": \"data01\", \"id\": \"el45394549238160\"}, {\"color\": \"#0000FF\", \"yindex\": 1, \"coordinates\": \"axes\", \"dasharray\": \"10,0\", \"zorder\": 1000002.0, \"alpha\": 1, \"xindex\": 0, \"linewidth\": 2.0, \"data\": \"data02\", \"id\": \"el45394548638608\"}, {\"color\": \"#007F00\", \"yindex\": 2, \"coordinates\": \"axes\", \"dasharray\": \"10,0\", \"zorder\": 1000002.0, \"alpha\": 1, \"xindex\": 0, \"linewidth\": 2.0, \"data\": \"data02\", \"id\": \"el45394548636880\"}, {\"color\": \"#FF0000\", \"yindex\": 3, \"coordinates\": \"axes\", \"dasharray\": \"10,0\", \"zorder\": 1000002.0, \"alpha\": 1, \"xindex\": 0, \"linewidth\": 2.0, \"data\": \"data02\", \"id\": \"el45394551626192\"}, {\"color\": \"#00BFBF\", \"yindex\": 4, \"coordinates\": \"axes\", \"dasharray\": \"10,0\", \"zorder\": 1000002.0, \"alpha\": 1, \"xindex\": 0, \"linewidth\": 2.0, \"data\": \"data02\", \"id\": \"el45394551822096\"}, {\"color\": \"#BF00BF\", \"yindex\": 5, \"coordinates\": \"axes\", \"dasharray\": \"10,0\", \"zorder\": 1000002.0, \"alpha\": 1, \"xindex\": 0, \"linewidth\": 2.0, \"data\": \"data02\", \"id\": \"el45394548733648\"}, {\"color\": \"#BFBF00\", \"yindex\": 6, \"coordinates\": \"axes\", \"dasharray\": \"10,0\", \"zorder\": 1000002.0, \"alpha\": 1, \"xindex\": 0, \"linewidth\": 2.0, \"data\": \"data02\", \"id\": \"el45394549023824\"}], \"markers\": [], \"id\": \"el45394548665616\", \"ydomain\": [0.0, 50.0], \"collections\": [], \"xscale\": \"linear\", \"bbox\": [0.125, 0.125, 0.77500000000000002, 0.77500000000000002]}], \"height\": 640.0, \"width\": 960.0, \"plugins\": [{\"type\": \"reset\"}, {\"enabled\": false, \"button\": true, \"type\": \"zoom\"}, {\"enabled\": false, \"button\": true, \"type\": \"boxzoom\"}], \"data\": {\"data02\": [[0.7091033826164876, 0.9650537634408602, 0.9254032258064517, 0.885752688172043, 0.8461021505376344, 0.8064516129032258, 0.7668010752688171], [0.7341929883512547, 0.9650537634408602, 0.9254032258064517, 0.885752688172043, 0.8461021505376344, 0.8064516129032258, 0.7668010752688171]], \"data03\": [[0.6965585797491041, 0.7405913978494624], [0.9910394265232977, 0.7405913978494624], [0.9910394265232977, 0.9865591397849464], [0.6965585797491041, 0.9865591397849464]], \"data01\": [[2.0, 47.32999999999915, 46.33, 45.91000000000001, 34.49000000000171, 30.94000000000002, 30.90000000000203], [3.0, 33.68000000000187, 33.24999999999999, 31.960000000000022, 22.210000000000672, 18.68000000000002, 18.640000000000114], [4.0, 26.8600000000014, 26.43000000000001, 24.910000000000014, 16.279999999999745, 12.769999999999996, 12.719999999999773], [5.0, 22.77000000000076, 22.320000000000007, 20.61000000000001, 12.85999999999977, 9.339999999999998, 9.309999999999846], [6.0, 20.070000000000338, 19.810000000000013, 17.720000000000013, 10.669999999999817, 7.159999999999998, 7.109999999999893], [7.0, 18.11000000000003, 17.50000000000002, 15.569999999999997, 9.169999999999849, 5.659999999999997, 5.629999999999924], [8.0, 16.789999999999825, 16.120000000000005, 14.079999999999998, 8.099999999999872, 4.619999999999997, 4.559999999999947], [9.0, 15.68999999999971, 14.969999999999995, 12.809999999999997, 7.309999999999889, 3.84, 3.7799999999999634], [10.0, 14.939999999999726, 14.169999999999998, 11.919999999999996, 6.709999999999901, 3.259999999999999, 3.179999999999976], [11.0, 14.28999999999974, 13.479999999999997, 11.139999999999999, 6.249999999999911, 2.8100000000000005, 2.719999999999986], [12.0, 13.83999999999975, 12.979999999999995, 10.519999999999998, 5.899999999999919, 2.459999999999999, 2.3599999999999937], [13.0, 13.31999999999976, 12.429999999999998, 9.889999999999995, 5.619999999999925, 2.189999999999998, 2.0799999999999996], [14.0, 12.949999999999768, 12.069999999999999, 9.409999999999998, 5.3899999999999295, 1.9700000000000009, 1.8500000000000014], [15.0, 12.949999999999768, 11.929999999999996, 9.189999999999998, 5.219999999999933, 1.8000000000000007, 1.6700000000000013], [16.0, 12.43999999999978, 11.629999999999997, 8.609999999999998, 5.079999999999936, 1.6600000000000006, 1.5300000000000011], [17.0, 12.359999999999781, 11.939999999999996, 8.419999999999998, 4.959999999999939, 1.5600000000000005, 1.410000000000001], [18.0, 12.349999999999781, 11.209999999999999, 8.219999999999999, 4.87999999999994, 1.4700000000000004, 1.320000000000001], [19.0, 12.459999999999779, 11.269999999999998, 8.159999999999998, 4.809999999999942, 1.4100000000000004, 1.2500000000000009], [20.0, 12.109999999999786, 10.889999999999995, 7.729999999999997, 4.759999999999943, 1.3600000000000003, 1.2000000000000008], [21.0, 12.37999999999978, 11.149999999999999, 7.769999999999996, 4.719999999999944, 1.3200000000000003, 1.1500000000000008], [22.0, 12.109999999999786, 10.819999999999997, 7.4499999999999975, 4.699999999999944, 1.3000000000000003, 1.1200000000000008], [23.0, 12.579999999999776, 11.519999999999998, 7.619999999999997, 4.689999999999944, 1.2800000000000002, 1.1100000000000008], [24.0, 12.329999999999782, 10.909999999999997, 7.329999999999998, 4.689999999999944, 1.2800000000000002, 1.0900000000000007], [25.0, 13.119999999999765, 11.569999999999997, 7.729999999999997, 4.699999999999944, 1.2800000000000002, 1.0900000000000007], [26.0, 12.90999999999977, 11.339999999999998, 7.489999999999997, 4.699999999999944, 1.2900000000000003, 1.0900000000000007], [27.0, 12.709999999999773, 11.12, 7.249999999999998, 4.739999999999943, 1.3000000000000003, 1.0900000000000007], [28.0, 14.009999999999746, 12.729999999999997, 7.979999999999995, 4.739999999999943, 1.3100000000000003, 1.1100000000000008], [29.0, 13.84999999999975, 12.439999999999998, 7.779999999999996, 4.789999999999942, 1.3400000000000003, 1.1300000000000008], [30.0, 13.699999999999752, 11.869999999999996, 7.589999999999996, 4.839999999999941, 1.3600000000000003, 1.1400000000000008], [31.0, 16.23999999999974, 14.889999999999995, 9.309999999999999, 4.869999999999941, 1.3900000000000003, 1.1700000000000008], [32.0, 16.11999999999972, 13.959999999999996, 9.169999999999998, 4.929999999999939, 1.4200000000000004, 1.1900000000000008], [33.0, 16.029999999999706, 13.839999999999996, 9.079999999999998, 4.979999999999938, 1.4500000000000004, 1.2200000000000009], [34.0, 15.949999999999704, 13.719999999999997, 8.989999999999995, 5.119999999999935, 1.4800000000000004, 1.2400000000000009], [35.0, 15.859999999999706, 13.579999999999997, 8.859999999999996, 5.079999999999936, 1.5200000000000005, 1.280000000000001]]}, \"id\": \"el45394548667152\"});\n",
       "            })\n",
       "         });\n",
       "}\n",
       "</script>"
      ],
      "text/plain": [
       "<matplotlib.figure.Figure at 0x10f1f2710>"
      ]
     },
     "metadata": {},
     "output_type": "display_data"
    }
   ],
   "source": [
    "figure(figsize=(12, 8))\n",
    "plot(user_range, hsrs_lt, lw=2.0, label='Hamming Loudest Talker')\n",
    "plot(user_range, hsrs_fadegap[:,1], lw=2.0, label='Hamming 2 Fade Gap')\n",
    "plot(user_range, hsrs_lti, lw=2.0, label='Hamming Integral')\n",
    "plot(user_range, polyup_lt, lw=2.0, label='Polyanskiy Loudest Talker')\n",
    "plot(user_range, poly_lti, lw=2.0, label='Polyanskiy Integral')\n",
    "plot(user_range, shannon_lt, lw=2.0, label='Shannon Loudest Talker')\n",
    "legend(loc=0)\n",
    "xlabel('Number of Nodes', fontsize=18)\n",
    "ylabel('Transmit SNR Needed (dB)', fontsize=18, labelpad=20)\n",
    "title('Downlink 2 Hop', fontsize=24)\n",
    "savefig('downlink_2hop.pdf', bbox='tight')"
   ]
  },
  {
   "cell_type": "code",
   "execution_count": 47,
   "metadata": {
    "collapsed": false
   },
   "outputs": [
    {
     "name": "stdout",
     "output_type": "stream",
     "text": [
      "Hamming Loudest Talker (No Integral, Threshold)\n",
      "array([ 47.33,  33.68,  26.86,  22.77,  20.07,  18.11,  16.79,  15.69,\n",
      "        14.94,  14.29,  13.84,  13.32,  12.95,  12.95,  12.44,  12.36,\n",
      "        12.35,  12.46,  12.11,  12.38,  12.11,  12.58,  12.33,  13.12,\n",
      "        12.91,  12.71,  14.01,  13.85,  13.7 ,  16.24,  16.12,  16.03,\n",
      "        15.95,  15.86])\n",
      "\n",
      "\n",
      "Hamming 2 Fade Gap\n",
      "array([ 46.33,  33.25,  26.43,  22.32,  19.81,  17.5 ,  16.12,  14.97,\n",
      "        14.17,  13.48,  12.98,  12.43,  12.07,  11.93,  11.63,  11.94,\n",
      "        11.21,  11.27,  10.89,  11.15,  10.82,  11.52,  10.91,  11.57,\n",
      "        11.34,  11.12,  12.73,  12.44,  11.87,  14.89,  13.96,  13.84,\n",
      "        13.72,  13.58])\n",
      "\n",
      "\n",
      "Hamming Integral\n",
      "array([ 45.91,  31.96,  24.91,  20.61,  17.72,  15.57,  14.08,  12.81,\n",
      "        11.92,  11.14,  10.52,   9.89,   9.41,   9.19,   8.61,   8.42,\n",
      "         8.22,   8.16,   7.73,   7.77,   7.45,   7.62,   7.33,   7.73,\n",
      "         7.49,   7.25,   7.98,   7.78,   7.59,   9.31,   9.17,   9.08,\n",
      "         8.99,   8.86])\n",
      "\n",
      "\n",
      "Polyanskiy Loudest Talker\n",
      "array([ 34.49,  22.21,  16.28,  12.86,  10.67,   9.17,   8.1 ,   7.31,\n",
      "         6.71,   6.25,   5.9 ,   5.62,   5.39,   5.22,   5.08,   4.96,\n",
      "         4.88,   4.81,   4.76,   4.72,   4.7 ,   4.69,   4.69,   4.7 ,\n",
      "         4.7 ,   4.74,   4.74,   4.79,   4.84,   4.87,   4.93,   4.98,\n",
      "         5.12,   5.08])\n",
      "\n",
      "\n",
      "Polyanskiy Integral\n",
      "array([ 30.94,  18.68,  12.77,   9.34,   7.16,   5.66,   4.62,   3.84,\n",
      "         3.26,   2.81,   2.46,   2.19,   1.97,   1.8 ,   1.66,   1.56,\n",
      "         1.47,   1.41,   1.36,   1.32,   1.3 ,   1.28,   1.28,   1.28,\n",
      "         1.29,   1.3 ,   1.31,   1.34,   1.36,   1.39,   1.42,   1.45,\n",
      "         1.48,   1.52])\n",
      "\n",
      "\n",
      "Shannon Loudest Talker\n",
      "array([ 30.9 ,  18.64,  12.72,   9.31,   7.11,   5.63,   4.56,   3.78,\n",
      "         3.18,   2.72,   2.36,   2.08,   1.85,   1.67,   1.53,   1.41,\n",
      "         1.32,   1.25,   1.2 ,   1.15,   1.12,   1.11,   1.09,   1.09,\n",
      "         1.09,   1.09,   1.11,   1.13,   1.14,   1.17,   1.19,   1.22,\n",
      "         1.24,   1.28])\n"
     ]
    }
   ],
   "source": [
    "print \"Hamming Loudest Talker (No Integral, Threshold)\"\n",
    "print repr(hsrs_lt)\n",
    "print \"\\n\"\n",
    "\n",
    "print \"Hamming 2 Fade Gap\"\n",
    "print repr(hsrs_fadegap[:,1])\n",
    "print \"\\n\"\n",
    "\n",
    "print \"Hamming Integral\"\n",
    "print repr(hsrs_lti)\n",
    "print \"\\n\"\n",
    "\n",
    "print \"Polyanskiy Loudest Talker\"\n",
    "print repr(polyup_lt)\n",
    "print \"\\n\"\n",
    "\n",
    "print \"Polyanskiy Integral\"\n",
    "print repr(poly_lti)\n",
    "print \"\\n\"\n",
    "\n",
    "print \"Shannon Loudest Talker\"\n",
    "print repr(shannon_lt)"
   ]
  },
  {
   "cell_type": "code",
   "execution_count": null,
   "metadata": {
    "collapsed": true
   },
   "outputs": [],
   "source": []
  }
 ],
 "metadata": {
  "kernelspec": {
   "display_name": "Python 2",
   "language": "python",
   "name": "python2"
  },
  "language_info": {
   "codemirror_mode": {
    "name": "ipython",
    "version": 2
   },
   "file_extension": ".py",
   "mimetype": "text/x-python",
   "name": "python",
   "nbconvert_exporter": "python",
   "pygments_lexer": "ipython2",
   "version": "2.7.12"
  }
 },
 "nbformat": 4,
 "nbformat_minor": 0
}
