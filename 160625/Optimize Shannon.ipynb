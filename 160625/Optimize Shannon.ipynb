{
 "cells": [
  {
   "cell_type": "code",
   "execution_count": 1,
   "metadata": {
    "collapsed": false
   },
   "outputs": [
    {
     "name": "stdout",
     "output_type": "stream",
     "text": [
      "Populating the interactive namespace from numpy and matplotlib\n"
     ]
    }
   ],
   "source": [
    "%pylab inline\n",
    "from __future__ import division\n",
    "import scipy as sp\n",
    "from scipy import stats\n",
    "from scipy.signal import argrelextrema\n",
    "from scipy.interpolate import interp1d\n",
    "import operator as op\n",
    "from decimal import *\n",
    "import pickle\n",
    "import mpld3\n",
    "mpld3.enable_notebook()"
   ]
  },
  {
   "cell_type": "code",
   "execution_count": 7,
   "metadata": {
    "collapsed": true
   },
   "outputs": [],
   "source": [
    "%run ../cow.py\n",
    "%run ../optimize_pkg.py"
   ]
  },
  {
   "cell_type": "code",
   "execution_count": 3,
   "metadata": {
    "collapsed": true
   },
   "outputs": [],
   "source": [
    "protocol_target = 10**(-9)\n",
    "rx_SNR_range = arange(0, 12, 0.01)\n",
    "tx_SNR_range = arange(0, -10*log10(protocol_target), 0.01)\n",
    "protocolbit = 4*10**4\n",
    "user_range = arange(2, 36, 1)"
   ]
  },
  {
   "cell_type": "code",
   "execution_count": 4,
   "metadata": {
    "collapsed": true
   },
   "outputs": [],
   "source": [
    "filepath_down = \"../data_tables/shannon_tables/n\"\n",
    "filepath_up = \"../data_tables/shannon_tables/n\"\n",
    "extension = \".in\""
   ]
  },
  {
   "cell_type": "markdown",
   "metadata": {},
   "source": [
    "# Optimize 1"
   ]
  },
  {
   "cell_type": "code",
   "execution_count": 5,
   "metadata": {
    "collapsed": false
   },
   "outputs": [
    {
     "name": "stdout",
     "output_type": "stream",
     "text": [
      "CPU times: user 1min 19s, sys: 674 ms, total: 1min 20s\n",
      "Wall time: 1min 20s\n"
     ]
    }
   ],
   "source": [
    "%%time\n",
    "optimize_1_data = zeros((34, 5))\n",
    "for N in user_range:\n",
    "    optimize_1_data[N-user_range[0]] = optimize_1(N, rx_SNR_range, tx_SNR_range, filepath_down, filepath_up, protocolbit)"
   ]
  },
  {
   "cell_type": "code",
   "execution_count": 6,
   "metadata": {
    "collapsed": false
   },
   "outputs": [
    {
     "name": "stdout",
     "output_type": "stream",
     "text": [
      "[[ -1.64900000e+01   3.09000000e+01   1.33333333e+04   1.33333333e+04\n",
      "    1.33333333e+04]\n",
      " [ -1.47000000e+01   1.86400000e+01   1.33333333e+04   1.33333333e+04\n",
      "    1.33333333e+04]\n",
      " [ -1.34300000e+01   1.27200000e+01   1.33333333e+04   1.33333333e+04\n",
      "    1.33333333e+04]\n",
      " [ -1.24300000e+01   9.31000000e+00   1.33333333e+04   1.33333333e+04\n",
      "    1.33333333e+04]\n",
      " [ -1.16200000e+01   7.11000000e+00   1.33333333e+04   1.33333333e+04\n",
      "    1.33333333e+04]\n",
      " [ -1.09200000e+01   5.63000000e+00   1.33333333e+04   1.33333333e+04\n",
      "    1.33333333e+04]\n",
      " [ -1.03200000e+01   4.56000000e+00   1.33333333e+04   1.33333333e+04\n",
      "    1.33333333e+04]\n",
      " [ -9.78000000e+00   3.78000000e+00   1.33333333e+04   1.33333333e+04\n",
      "    1.33333333e+04]\n",
      " [ -9.30000000e+00   3.18000000e+00   1.33333333e+04   1.33333333e+04\n",
      "    1.33333333e+04]\n",
      " [ -8.86000000e+00   2.72000000e+00   1.33333333e+04   1.33333333e+04\n",
      "    1.33333333e+04]\n",
      " [ -8.46000000e+00   2.36000000e+00   1.33333333e+04   1.33333333e+04\n",
      "    1.33333333e+04]\n",
      " [ -8.09000000e+00   2.08000000e+00   1.33333333e+04   1.33333333e+04\n",
      "    1.33333333e+04]\n",
      " [ -7.74000000e+00   1.85000000e+00   1.33333333e+04   1.33333333e+04\n",
      "    1.33333333e+04]\n",
      " [ -7.42000000e+00   1.67000000e+00   1.33333333e+04   1.33333333e+04\n",
      "    1.33333333e+04]\n",
      " [ -7.11000000e+00   1.53000000e+00   1.33333333e+04   1.33333333e+04\n",
      "    1.33333333e+04]\n",
      " [ -6.83000000e+00   1.41000000e+00   1.33333333e+04   1.33333333e+04\n",
      "    1.33333333e+04]\n",
      " [ -6.55000000e+00   1.32000000e+00   1.33333333e+04   1.33333333e+04\n",
      "    1.33333333e+04]\n",
      " [ -6.29000000e+00   1.25000000e+00   1.33333333e+04   1.33333333e+04\n",
      "    1.33333333e+04]\n",
      " [ -6.04000000e+00   1.20000000e+00   1.33333333e+04   1.33333333e+04\n",
      "    1.33333333e+04]\n",
      " [ -5.81000000e+00   1.15000000e+00   1.33333333e+04   1.33333333e+04\n",
      "    1.33333333e+04]\n",
      " [ -5.58000000e+00   1.12000000e+00   1.33333333e+04   1.33333333e+04\n",
      "    1.33333333e+04]\n",
      " [ -5.36000000e+00   1.11000000e+00   1.33333333e+04   1.33333333e+04\n",
      "    1.33333333e+04]\n",
      " [ -5.15000000e+00   1.09000000e+00   1.33333333e+04   1.33333333e+04\n",
      "    1.33333333e+04]\n",
      " [ -4.95000000e+00   1.09000000e+00   1.33333333e+04   1.33333333e+04\n",
      "    1.33333333e+04]\n",
      " [ -4.75000000e+00   1.09000000e+00   1.33333333e+04   1.33333333e+04\n",
      "    1.33333333e+04]\n",
      " [ -4.57000000e+00   1.09000000e+00   1.33333333e+04   1.33333333e+04\n",
      "    1.33333333e+04]\n",
      " [ -4.38000000e+00   1.11000000e+00   1.33333333e+04   1.33333333e+04\n",
      "    1.33333333e+04]\n",
      " [ -4.20000000e+00   1.13000000e+00   1.33333333e+04   1.33333333e+04\n",
      "    1.33333333e+04]\n",
      " [ -4.03000000e+00   1.14000000e+00   1.33333333e+04   1.33333333e+04\n",
      "    1.33333333e+04]\n",
      " [ -3.86000000e+00   1.17000000e+00   1.33333333e+04   1.33333333e+04\n",
      "    1.33333333e+04]\n",
      " [ -3.70000000e+00   1.19000000e+00   1.33333333e+04   1.33333333e+04\n",
      "    1.33333333e+04]\n",
      " [ -3.54000000e+00   1.22000000e+00   1.33333333e+04   1.33333333e+04\n",
      "    1.33333333e+04]\n",
      " [ -3.39000000e+00   1.24000000e+00   1.33333333e+04   1.33333333e+04\n",
      "    1.33333333e+04]\n",
      " [ -3.23000000e+00   1.28000000e+00   1.33333333e+04   1.33333333e+04\n",
      "    1.33333333e+04]]\n"
     ]
    },
    {
     "name": "stderr",
     "output_type": "stream",
     "text": [
      "//anaconda/envs/conda2/lib/python2.7/site-packages/IPython/core/formatters.py:92: DeprecationWarning: DisplayFormatter._ipython_display_formatter_default is deprecated: use @default decorator instead.\n",
      "  def _ipython_display_formatter_default(self):\n",
      "//anaconda/envs/conda2/lib/python2.7/site-packages/IPython/core/formatters.py:669: DeprecationWarning: PlainTextFormatter._singleton_printers_default is deprecated: use @default decorator instead.\n",
      "  def _singleton_printers_default(self):\n"
     ]
    },
    {
     "data": {
      "text/plain": [
       "[<matplotlib.lines.Line2D at 0x10df4ccd0>]"
      ]
     },
     "execution_count": 6,
     "metadata": {},
     "output_type": "execute_result"
    },
    {
     "data": {
      "image/png": "[encoded data removed]",
      "text/html": [
       "\n",
       "\n",
       "<style>\n",
       "\n",
       "</style>\n",
       "\n",
       "<div id=\"fig_el782544003132966970253449\"></div>\n",
       "<script>\n",
       "function mpld3_load_lib(url, callback){\n",
       "  var s = document.createElement('script');\n",
       "  s.src = url;\n",
       "  s.async = true;\n",
       "  s.onreadystatechange = s.onload = callback;\n",
       "  s.onerror = function(){console.warn(\"failed to load library \" + url);};\n",
       "  document.getElementsByTagName(\"head\")[0].appendChild(s);\n",
       "}\n",
       "\n",
       "if(typeof(mpld3) !== \"undefined\" && mpld3._mpld3IsLoaded){\n",
       "   // already loaded: just create the figure\n",
       "   !function(mpld3){\n",
       "       \n",
       "       mpld3.draw_figure(\"fig_el782544003132966970253449\", {\"axes\": [{\"xlim\": [0.0, 35.0], \"yscale\": \"linear\", \"axesbg\": \"#FFFFFF\", \"texts\": [], \"zoomable\": true, \"images\": [], \"xdomain\": [0.0, 35.0], \"ylim\": [0.0, 35.0], \"paths\": [], \"sharey\": [], \"sharex\": [], \"axesbgalpha\": null, \"axes\": [{\"scale\": \"linear\", \"tickformat\": null, \"grid\": {\"gridOn\": false}, \"fontsize\": 10.0, \"position\": \"bottom\", \"nticks\": 8, \"tickvalues\": null}, {\"scale\": \"linear\", \"tickformat\": null, \"grid\": {\"gridOn\": false}, \"fontsize\": 10.0, \"position\": \"left\", \"nticks\": 8, \"tickvalues\": null}], \"lines\": [{\"color\": \"#0000FF\", \"yindex\": 1, \"coordinates\": \"data\", \"dasharray\": \"10,0\", \"zorder\": 2, \"alpha\": 1, \"xindex\": 0, \"linewidth\": 2.0, \"data\": \"data01\", \"id\": \"el78254529114320\"}], \"markers\": [], \"id\": \"el78254528803088\", \"ydomain\": [0.0, 35.0], \"collections\": [], \"xscale\": \"linear\", \"bbox\": [0.125, 0.125, 0.77500000000000002, 0.77500000000000002]}], \"height\": 320.0, \"width\": 480.0, \"plugins\": [{\"type\": \"reset\"}, {\"enabled\": false, \"button\": true, \"type\": \"zoom\"}, {\"enabled\": false, \"button\": true, \"type\": \"boxzoom\"}], \"data\": {\"data01\": [[2.0, 30.900000000000002], [3.0, 18.64], [4.0, 12.72], [5.0, 9.31], [6.0, 7.11], [7.0, 5.63], [8.0, 4.5600000000000005], [9.0, 3.7800000000000002], [10.0, 3.18], [11.0, 2.72], [12.0, 2.36], [13.0, 2.08], [14.0, 1.85], [15.0, 1.67], [16.0, 1.53], [17.0, 1.41], [18.0, 1.32], [19.0, 1.25], [20.0, 1.2], [21.0, 1.1500000000000001], [22.0, 1.12], [23.0, 1.11], [24.0, 1.09], [25.0, 1.09], [26.0, 1.09], [27.0, 1.09], [28.0, 1.11], [29.0, 1.1300000000000001], [30.0, 1.1400000000000001], [31.0, 1.17], [32.0, 1.19], [33.0, 1.22], [34.0, 1.24], [35.0, 1.28]]}, \"id\": \"el78254400313296\"});\n",
       "   }(mpld3);\n",
       "}else if(typeof define === \"function\" && define.amd){\n",
       "   // require.js is available: use it to load d3/mpld3\n",
       "   require.config({paths: {d3: \"https://mpld3.github.io/js/d3.v3.min\"}});\n",
       "   require([\"d3\"], function(d3){\n",
       "      window.d3 = d3;\n",
       "      mpld3_load_lib(\"https://mpld3.github.io/js/mpld3.v0.2.js\", function(){\n",
       "         \n",
       "         mpld3.draw_figure(\"fig_el782544003132966970253449\", {\"axes\": [{\"xlim\": [0.0, 35.0], \"yscale\": \"linear\", \"axesbg\": \"#FFFFFF\", \"texts\": [], \"zoomable\": true, \"images\": [], \"xdomain\": [0.0, 35.0], \"ylim\": [0.0, 35.0], \"paths\": [], \"sharey\": [], \"sharex\": [], \"axesbgalpha\": null, \"axes\": [{\"scale\": \"linear\", \"tickformat\": null, \"grid\": {\"gridOn\": false}, \"fontsize\": 10.0, \"position\": \"bottom\", \"nticks\": 8, \"tickvalues\": null}, {\"scale\": \"linear\", \"tickformat\": null, \"grid\": {\"gridOn\": false}, \"fontsize\": 10.0, \"position\": \"left\", \"nticks\": 8, \"tickvalues\": null}], \"lines\": [{\"color\": \"#0000FF\", \"yindex\": 1, \"coordinates\": \"data\", \"dasharray\": \"10,0\", \"zorder\": 2, \"alpha\": 1, \"xindex\": 0, \"linewidth\": 2.0, \"data\": \"data01\", \"id\": \"el78254529114320\"}], \"markers\": [], \"id\": \"el78254528803088\", \"ydomain\": [0.0, 35.0], \"collections\": [], \"xscale\": \"linear\", \"bbox\": [0.125, 0.125, 0.77500000000000002, 0.77500000000000002]}], \"height\": 320.0, \"width\": 480.0, \"plugins\": [{\"type\": \"reset\"}, {\"enabled\": false, \"button\": true, \"type\": \"zoom\"}, {\"enabled\": false, \"button\": true, \"type\": \"boxzoom\"}], \"data\": {\"data01\": [[2.0, 30.900000000000002], [3.0, 18.64], [4.0, 12.72], [5.0, 9.31], [6.0, 7.11], [7.0, 5.63], [8.0, 4.5600000000000005], [9.0, 3.7800000000000002], [10.0, 3.18], [11.0, 2.72], [12.0, 2.36], [13.0, 2.08], [14.0, 1.85], [15.0, 1.67], [16.0, 1.53], [17.0, 1.41], [18.0, 1.32], [19.0, 1.25], [20.0, 1.2], [21.0, 1.1500000000000001], [22.0, 1.12], [23.0, 1.11], [24.0, 1.09], [25.0, 1.09], [26.0, 1.09], [27.0, 1.09], [28.0, 1.11], [29.0, 1.1300000000000001], [30.0, 1.1400000000000001], [31.0, 1.17], [32.0, 1.19], [33.0, 1.22], [34.0, 1.24], [35.0, 1.28]]}, \"id\": \"el78254400313296\"});\n",
       "      });\n",
       "    });\n",
       "}else{\n",
       "    // require.js not available: dynamically load d3 & mpld3\n",
       "    mpld3_load_lib(\"https://mpld3.github.io/js/d3.v3.min.js\", function(){\n",
       "         mpld3_load_lib(\"https://mpld3.github.io/js/mpld3.v0.2.js\", function(){\n",
       "                 \n",
       "                 mpld3.draw_figure(\"fig_el782544003132966970253449\", {\"axes\": [{\"xlim\": [0.0, 35.0], \"yscale\": \"linear\", \"axesbg\": \"#FFFFFF\", \"texts\": [], \"zoomable\": true, \"images\": [], \"xdomain\": [0.0, 35.0], \"ylim\": [0.0, 35.0], \"paths\": [], \"sharey\": [], \"sharex\": [], \"axesbgalpha\": null, \"axes\": [{\"scale\": \"linear\", \"tickformat\": null, \"grid\": {\"gridOn\": false}, \"fontsize\": 10.0, \"position\": \"bottom\", \"nticks\": 8, \"tickvalues\": null}, {\"scale\": \"linear\", \"tickformat\": null, \"grid\": {\"gridOn\": false}, \"fontsize\": 10.0, \"position\": \"left\", \"nticks\": 8, \"tickvalues\": null}], \"lines\": [{\"color\": \"#0000FF\", \"yindex\": 1, \"coordinates\": \"data\", \"dasharray\": \"10,0\", \"zorder\": 2, \"alpha\": 1, \"xindex\": 0, \"linewidth\": 2.0, \"data\": \"data01\", \"id\": \"el78254529114320\"}], \"markers\": [], \"id\": \"el78254528803088\", \"ydomain\": [0.0, 35.0], \"collections\": [], \"xscale\": \"linear\", \"bbox\": [0.125, 0.125, 0.77500000000000002, 0.77500000000000002]}], \"height\": 320.0, \"width\": 480.0, \"plugins\": [{\"type\": \"reset\"}, {\"enabled\": false, \"button\": true, \"type\": \"zoom\"}, {\"enabled\": false, \"button\": true, \"type\": \"boxzoom\"}], \"data\": {\"data01\": [[2.0, 30.900000000000002], [3.0, 18.64], [4.0, 12.72], [5.0, 9.31], [6.0, 7.11], [7.0, 5.63], [8.0, 4.5600000000000005], [9.0, 3.7800000000000002], [10.0, 3.18], [11.0, 2.72], [12.0, 2.36], [13.0, 2.08], [14.0, 1.85], [15.0, 1.67], [16.0, 1.53], [17.0, 1.41], [18.0, 1.32], [19.0, 1.25], [20.0, 1.2], [21.0, 1.1500000000000001], [22.0, 1.12], [23.0, 1.11], [24.0, 1.09], [25.0, 1.09], [26.0, 1.09], [27.0, 1.09], [28.0, 1.11], [29.0, 1.1300000000000001], [30.0, 1.1400000000000001], [31.0, 1.17], [32.0, 1.19], [33.0, 1.22], [34.0, 1.24], [35.0, 1.28]]}, \"id\": \"el78254400313296\"});\n",
       "            })\n",
       "         });\n",
       "}\n",
       "</script>"
      ],
      "text/plain": [
       "<matplotlib.figure.Figure at 0x1064773d0>"
      ]
     },
     "metadata": {},
     "output_type": "display_data"
    }
   ],
   "source": [
    "print optimize_1_data\n",
    "plot(user_range, optimize_1_data[:,1], lw=2.0)"
   ]
  },
  {
   "cell_type": "markdown",
   "metadata": {},
   "source": [
    "# Optimize 3"
   ]
  },
  {
   "cell_type": "code",
   "execution_count": 8,
   "metadata": {
    "collapsed": false
   },
   "outputs": [
    {
     "name": "stdout",
     "output_type": "stream",
     "text": [
      "=== N 2 ===\n",
      "[   -16.4            30.99        13333.33333333  13333.33333333\n",
      "  13333.33333333]\n",
      "=== N 3 ===\n",
      "[   -14.7            18.64        13333.33333333  13333.33333333\n",
      "  13333.33333333]\n",
      "=== N 4 ===\n",
      "[ -1.34000000e+01   1.27500000e+01   1.33333333e+04   1.33333333e+04\n",
      "   1.33333333e+04]\n",
      "=== N 5 ===\n",
      "[ -1.24000000e+01   9.34000000e+00   1.33333333e+04   1.33333333e+04\n",
      "   1.33333333e+04]\n",
      "=== N 6 ===\n",
      "[ -1.16000000e+01   7.13000000e+00   1.33333333e+04   1.33333333e+04\n",
      "   1.33333333e+04]\n",
      "=== N 7 ===\n",
      "[ -1.09000000e+01   5.65000000e+00   1.33333333e+04   1.33333333e+04\n",
      "   1.33333333e+04]\n",
      "=== N 8 ===\n",
      "[ -1.03000000e+01   4.58000000e+00   1.33333333e+04   1.33333333e+04\n",
      "   1.33333333e+04]\n",
      "=== N 9 ===\n",
      "[ -9.70000000e+00   3.86000000e+00   1.33333333e+04   1.33333333e+04\n",
      "   1.33333333e+04]\n",
      "=== N 10 ===\n",
      "[ -9.30000000e+00   3.26000000e+00   1.33333333e+04   1.33333333e+04\n",
      "   1.33333333e+04]\n",
      "=== N 11 ===\n",
      "[ -8.80000000e+00   2.78000000e+00   1.33333333e+04   1.33333333e+04\n",
      "   1.33333333e+04]\n",
      "=== N 12 ===\n",
      "[ -8.40000000e+00   2.42000000e+00   1.33333333e+04   1.33333333e+04\n",
      "   1.33333333e+04]\n",
      "=== N 13 ===\n",
      "[ -8.00000000e+00   2.17000000e+00   1.33333333e+04   1.33333333e+04\n",
      "   1.33333333e+04]\n",
      "=== N 14 ===\n",
      "[ -7.70000000e+00   1.89000000e+00   1.33333333e+04   1.33333333e+04\n",
      "   1.33333333e+04]\n",
      "=== N 15 ===\n",
      "[ -7.40000000e+00   1.69000000e+00   1.33333333e+04   1.33333333e+04\n",
      "   1.33333333e+04]\n",
      "=== N 16 ===\n",
      "[ -7.10000000e+00   1.54000000e+00   1.33333333e+04   1.33333333e+04\n",
      "   1.33333333e+04]\n",
      "=== N 17 ===\n",
      "[ -6.80000000e+00   1.44000000e+00   1.33333333e+04   1.33333333e+04\n",
      "   1.33333333e+04]\n",
      "=== N 18 ===\n",
      "[ -6.50000000e+00   1.37000000e+00   1.33333333e+04   1.33333333e+04\n",
      "   1.33333333e+04]\n",
      "=== N 19 ===\n",
      "[ -6.20000000e+00   1.34000000e+00   1.33333333e+04   1.33333333e+04\n",
      "   1.33333333e+04]\n",
      "=== N 20 ===\n",
      "[ -6.00000000e+00   1.24000000e+00   1.33333333e+04   1.33333333e+04\n",
      "   1.33333333e+04]\n",
      "=== N 21 ===\n",
      "[ -5.80000000e+00   1.16000000e+00   1.33333333e+04   1.33333333e+04\n",
      "   1.33333333e+04]\n",
      "=== N 22 ===\n",
      "[ -5.50000000e+00   1.20000000e+00   1.33333333e+04   1.33333333e+04\n",
      "   1.33333333e+04]\n",
      "=== N 23 ===\n",
      "[ -5.30000000e+00   1.17000000e+00   1.33333333e+04   1.33333333e+04\n",
      "   1.33333333e+04]\n",
      "=== N 24 ===\n",
      "[ -5.10000000e+00   1.14000000e+00   1.33333333e+04   1.33333333e+04\n",
      "   1.33333333e+04]\n",
      "=== N 25 ===\n",
      "[ -4.90000000e+00   1.14000000e+00   1.33333333e+04   1.33333333e+04\n",
      "   1.33333333e+04]\n",
      "=== N 26 ===\n",
      "[ -4.70000000e+00   1.14000000e+00   1.33333333e+04   1.33333333e+04\n",
      "   1.33333333e+04]\n",
      "=== N 27 ===\n",
      "[ -4.50000000e+00   1.16000000e+00   1.33333333e+04   1.33333333e+04\n",
      "   1.33333333e+04]\n",
      "=== N 28 ===\n",
      "[ -4.30000000e+00   1.19000000e+00   1.33333333e+04   1.33333333e+04\n",
      "   1.33333333e+04]\n",
      "=== N 29 ===\n",
      "[ -4.10000000e+00   1.23000000e+00   1.33333333e+04   1.33333333e+04\n",
      "   1.33333333e+04]\n",
      "=== N 30 ===\n",
      "[ -4.00000000e+00   1.17000000e+00   1.33333333e+04   1.33333333e+04\n",
      "   1.33333333e+04]\n",
      "=== N 31 ===\n",
      "[ -3.80000000e+00   1.23000000e+00   1.33333333e+04   1.33333333e+04\n",
      "   1.33333333e+04]\n",
      "=== N 32 ===\n",
      "[ -3.60000000e+00   1.29000000e+00   1.33333333e+04   1.33333333e+04\n",
      "   1.33333333e+04]\n",
      "=== N 33 ===\n",
      "[ -3.50000000e+00   1.26000000e+00   1.33333333e+04   1.33333333e+04\n",
      "   1.33333333e+04]\n",
      "=== N 34 ===\n",
      "[ -3.30000000e+00   1.33000000e+00   1.33333333e+04   1.33333333e+04\n",
      "   1.33333333e+04]\n",
      "=== N 35 ===\n",
      "[ -3.20000000e+00   1.31000000e+00   1.33333333e+04   1.33333333e+04\n",
      "   1.33333333e+04]\n",
      "CPU times: user 6h 38min 26s, sys: 4min 27s, total: 6h 42min 53s\n",
      "Wall time: 6h 53min 24s\n"
     ]
    }
   ],
   "source": [
    "%%time\n",
    "optimize_3_data = zeros((34, 5))\n",
    "for N in user_range:\n",
    "    print \"=== N {0} ===\".format(N)\n",
    "    optimize_3_data[N-user_range[0]] = optimize_3(N, rx_SNR_range, tx_SNR_range, filepath_down, filepath_up, protocolbit)\n",
    "    print optimize_3_data[N-user_range[0]]\n",
    "    \n",
    "# print optimize_3_data"
   ]
  },
  {
   "cell_type": "markdown",
   "metadata": {
    "collapsed": true
   },
   "source": [
    "# Optimize 5"
   ]
  },
  {
   "cell_type": "code",
   "execution_count": null,
   "metadata": {
    "collapsed": true
   },
   "outputs": [],
   "source": []
  }
 ],
 "metadata": {
  "kernelspec": {
   "display_name": "Python 2",
   "language": "python",
   "name": "python2"
  },
  "language_info": {
   "codemirror_mode": {
    "name": "ipython",
    "version": 2
   },
   "file_extension": ".py",
   "mimetype": "text/x-python",
   "name": "python",
   "nbconvert_exporter": "python",
   "pygments_lexer": "ipython2",
   "version": "2.7.11"
  }
 },
 "nbformat": 4,
 "nbformat_minor": 0
}
