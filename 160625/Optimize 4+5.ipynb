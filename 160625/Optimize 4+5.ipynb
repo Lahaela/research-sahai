{
 "cells": [
  {
   "cell_type": "code",
   "execution_count": 1,
   "metadata": {
    "collapsed": false
   },
   "outputs": [
    {
     "name": "stdout",
     "output_type": "stream",
     "text": [
      "Populating the interactive namespace from numpy and matplotlib\n"
     ]
    }
   ],
   "source": [
    "%pylab inline\n",
    "from __future__ import division\n",
    "import scipy as sp\n",
    "from scipy import stats\n",
    "from scipy.signal import argrelextrema\n",
    "from scipy.interpolate import interp1d\n",
    "import operator as op\n",
    "from decimal import *\n",
    "import pickle\n",
    "import mpld3\n",
    "mpld3.enable_notebook()"
   ]
  },
  {
   "cell_type": "code",
   "execution_count": 2,
   "metadata": {
    "collapsed": false
   },
   "outputs": [],
   "source": [
    "%run ../cow.py\n",
    "%run ../optimize_pkg.py"
   ]
  },
  {
   "cell_type": "code",
   "execution_count": 3,
   "metadata": {
    "collapsed": true
   },
   "outputs": [],
   "source": [
    "protocol_target = 10**(-9)\n",
    "rx_SNR_range = arange(0, 12, 0.01)\n",
    "tx_SNR_range = arange(5, -10*log10(protocol_target), 0.01)\n",
    "protocolbit = 4*10**4\n",
    "user_range = arange(2, 36, 1)"
   ]
  },
  {
   "cell_type": "code",
   "execution_count": 4,
   "metadata": {
    "collapsed": true
   },
   "outputs": [],
   "source": [
    "optimize_filepath_down = \"../data_tables/optimize_down/n\"\n",
    "optimize_filepath_up = \"../data_tables/optimize_up/n\"\n",
    "tx_SNR_range = arange(5, 50, 0.01)"
   ]
  },
  {
   "cell_type": "markdown",
   "metadata": {},
   "source": [
    "# Optimize 4"
   ]
  },
  {
   "cell_type": "code",
   "execution_count": 5,
   "metadata": {
    "collapsed": false
   },
   "outputs": [
    {
     "name": "stdout",
     "output_type": "stream",
     "text": [
      "(10.5, 15.129999999999784, 9565.0, 9520.0, 20915.0)\n",
      "CPU times: user 31min 5s, sys: 9.77 s, total: 31min 14s\n",
      "Wall time: 43min 35s\n"
     ]
    }
   ],
   "source": [
    "%%time\n",
    "N = 34\n",
    "optimize_4_34 = optimize_4(N, tx_SNR_range, optimize_filepath_down, optimize_filepath_up, protocolbit)\n",
    "print optimize_4_34"
   ]
  },
  {
   "cell_type": "code",
   "execution_count": 93,
   "metadata": {
    "collapsed": false
   },
   "outputs": [
    {
     "name": "stdout",
     "output_type": "stream",
     "text": [
      "(8.0, 12.759999999999994, 9330, 10665, 20005)\n",
      "CPU times: user 49.4 s, sys: 154 ms, total: 49.5 s\n",
      "Wall time: 49.6 s\n"
     ]
    }
   ],
   "source": [
    "%%time\n",
    "N = 33\n",
    "tx_SNR_range = arange(12.5, 50, 0.01)\n",
    "optimize_4_33 = optimize_4(N, tx_SNR_range, optimize_filepath_down, optimize_filepath_up, protocolbit)\n",
    "print optimize_4_33"
   ]
  },
  {
   "cell_type": "code",
   "execution_count": 94,
   "metadata": {
    "collapsed": false
   },
   "outputs": [
    {
     "name": "stdout",
     "output_type": "stream",
     "text": [
      "(8.0, 12.889999999999992, 9060, 10340, 20600)\n",
      "CPU times: user 1min 9s, sys: 264 ms, total: 1min 9s\n",
      "Wall time: 1min 9s\n"
     ]
    }
   ],
   "source": [
    "%%time\n",
    "N = 32\n",
    "tx_SNR_range = arange(12.5, 50, 0.01)\n",
    "optimize_4_32 = optimize_4(N, tx_SNR_range, optimize_filepath_down, optimize_filepath_up, protocolbit)\n",
    "print optimize_4_32"
   ]
  },
  {
   "cell_type": "code",
   "execution_count": 95,
   "metadata": {
    "collapsed": false
   },
   "outputs": [
    {
     "name": "stdout",
     "output_type": "stream",
     "text": [
      "(8.0, 13.029999999999999, 8784, 10032, 21184)\n",
      "CPU times: user 5.57 s, sys: 23.6 ms, total: 5.59 s\n",
      "Wall time: 5.6 s\n"
     ]
    }
   ],
   "source": [
    "%%time\n",
    "N = 31\n",
    "tx_SNR_range = arange(13, 50, 0.01)\n",
    "optimize_4_31 = optimize_4(N, tx_SNR_range, optimize_filepath_down, optimize_filepath_up, protocolbit)\n",
    "print optimize_4_31"
   ]
  },
  {
   "cell_type": "code",
   "execution_count": 96,
   "metadata": {
    "collapsed": false
   },
   "outputs": [
    {
     "name": "stdout",
     "output_type": "stream",
     "text": [
      "(6.6000000000000005, 11.769999999999994, 8592, 10992, 20416)\n",
      "CPU times: user 41.9 s, sys: 147 ms, total: 42.1 s\n",
      "Wall time: 42.1 s\n"
     ]
    }
   ],
   "source": [
    "%%time\n",
    "N = 30\n",
    "tx_SNR_range = arange(11.5, 50, 0.01)\n",
    "optimize_4_30 = optimize_4(N, tx_SNR_range, optimize_filepath_down, optimize_filepath_up, protocolbit)\n",
    "print optimize_4_30"
   ]
  },
  {
   "cell_type": "code",
   "execution_count": 97,
   "metadata": {
    "collapsed": false
   },
   "outputs": [
    {
     "name": "stdout",
     "output_type": "stream",
     "text": [
      "(6.6000000000000005, 11.929999999999991, 8305, 10636, 21059)\n",
      "CPU times: user 1min 1s, sys: 196 ms, total: 1min 1s\n",
      "Wall time: 1min 2s\n"
     ]
    }
   ],
   "source": [
    "%%time\n",
    "N = 29\n",
    "tx_SNR_range = arange(11.5, 50, 0.01)\n",
    "optimize_4_29 = optimize_4(N, tx_SNR_range, optimize_filepath_down, optimize_filepath_up, protocolbit)\n",
    "print optimize_4_29"
   ]
  },
  {
   "cell_type": "code",
   "execution_count": 98,
   "metadata": {
    "collapsed": false
   },
   "outputs": [
    {
     "name": "stdout",
     "output_type": "stream",
     "text": [
      "(5.7000000000000002, 11.189999999999996, 8141, 11495, 20364)\n",
      "CPU times: user 25.2 s, sys: 31.8 ms, total: 25.3 s\n",
      "Wall time: 25.3 s\n"
     ]
    }
   ],
   "source": [
    "%%time\n",
    "N = 28\n",
    "tx_SNR_range = arange(11, 50, 0.01)\n",
    "optimize_4_28 = optimize_4(N, tx_SNR_range, optimize_filepath_down, optimize_filepath_up, protocolbit)\n",
    "print optimize_4_28"
   ]
  },
  {
   "cell_type": "code",
   "execution_count": 99,
   "metadata": {
    "collapsed": false
   },
   "outputs": [
    {
     "name": "stdout",
     "output_type": "stream",
     "text": [
      "(5.0, 10.659999999999997, 8040, 12216, 19744)\n",
      "CPU times: user 20.1 s, sys: 27.8 ms, total: 20.1 s\n",
      "Wall time: 20.1 s\n"
     ]
    }
   ],
   "source": [
    "%%time\n",
    "N = 27\n",
    "tx_SNR_range = arange(10.5, 50, 0.01)\n",
    "optimize_4_27 = optimize_4(N, tx_SNR_range, optimize_filepath_down, optimize_filepath_up, protocolbit)\n",
    "print optimize_4_27"
   ]
  },
  {
   "cell_type": "code",
   "execution_count": 100,
   "metadata": {
    "collapsed": false
   },
   "outputs": [
    {
     "name": "stdout",
     "output_type": "stream",
     "text": [
      "(5.0, 10.839999999999993, 7712, 11762, 20526)\n",
      "CPU times: user 39 s, sys: 52.7 ms, total: 39.1 s\n",
      "Wall time: 39.1 s\n"
     ]
    }
   ],
   "source": [
    "%%time\n",
    "N = 26\n",
    "tx_SNR_range = arange(10.5, 50, 0.01)\n",
    "optimize_4_26 = optimize_4(N, tx_SNR_range, optimize_filepath_down, optimize_filepath_up, protocolbit)\n",
    "print optimize_4_26"
   ]
  },
  {
   "cell_type": "code",
   "execution_count": 101,
   "metadata": {
    "collapsed": false
   },
   "outputs": [
    {
     "name": "stdout",
     "output_type": "stream",
     "text": [
      "(4.6000000000000005, 10.639999999999997, 7600, 12400, 20000)\n",
      "CPU times: user 15.4 s, sys: 25.3 ms, total: 15.4 s\n",
      "Wall time: 15.4 s\n"
     ]
    }
   ],
   "source": [
    "%%time\n",
    "N = 25\n",
    "tx_SNR_range = arange(10.5, 50, 0.01)\n",
    "optimize_4_25 = optimize_4(N, tx_SNR_range, optimize_filepath_down, optimize_filepath_up, protocolbit)\n",
    "print optimize_4_25"
   ]
  },
  {
   "cell_type": "code",
   "execution_count": 102,
   "metadata": {
    "collapsed": false
   },
   "outputs": [
    {
     "name": "stdout",
     "output_type": "stream",
     "text": [
      "(4.2000000000000002, 10.439999999999998, 7435, 12960, 19605)\n",
      "CPU times: user 15 s, sys: 24.6 ms, total: 15.1 s\n",
      "Wall time: 15.1 s\n"
     ]
    }
   ],
   "source": [
    "%%time\n",
    "N = 24\n",
    "tx_SNR_range = arange(10.3, 50, 0.01)\n",
    "optimize_4_24 = optimize_4(N, tx_SNR_range, optimize_filepath_down, optimize_filepath_up, protocolbit)\n",
    "print optimize_4_24"
   ]
  },
  {
   "cell_type": "code",
   "execution_count": 103,
   "metadata": {
    "collapsed": false
   },
   "outputs": [
    {
     "name": "stdout",
     "output_type": "stream",
     "text": [
      "(3.8000000000000003, 10.269999999999994, 7363, 13398, 19239)\n",
      "CPU times: user 26.6 s, sys: 44 ms, total: 26.6 s\n",
      "Wall time: 26.6 s\n"
     ]
    }
   ],
   "source": [
    "%%time\n",
    "N = 23\n",
    "tx_SNR_range = arange(10, 50, 0.01)\n",
    "optimize_4_23 = optimize_4(N, tx_SNR_range, optimize_filepath_down, optimize_filepath_up, protocolbit)\n",
    "print optimize_4_23"
   ]
  },
  {
   "cell_type": "code",
   "execution_count": 123,
   "metadata": {
    "collapsed": false
   },
   "outputs": [
    {
     "name": "stdout",
     "output_type": "stream",
     "text": [
      "(3.6000000000000001, 10.299999999999995, 7224, 13760, 19016)\n",
      "CPU times: user 19.7 s, sys: 109 ms, total: 19.8 s\n",
      "Wall time: 19.8 s\n"
     ]
    }
   ],
   "source": [
    "%%time\n",
    "N = 22\n",
    "tx_SNR_range = arange(10.1, 50, 0.01)\n",
    "optimize_4_22 = optimize_4(N, tx_SNR_range, optimize_filepath_down, optimize_filepath_up, protocolbit)\n",
    "print optimize_4_22"
   ]
  },
  {
   "cell_type": "code",
   "execution_count": 105,
   "metadata": {
    "collapsed": false
   },
   "outputs": [
    {
     "name": "stdout",
     "output_type": "stream",
     "text": [
      "(3.3000000000000003, 10.259999999999994, 7110, 14080, 18810)\n",
      "CPU times: user 22.4 s, sys: 31.3 ms, total: 22.4 s\n",
      "Wall time: 22.4 s\n"
     ]
    }
   ],
   "source": [
    "%%time\n",
    "N = 21\n",
    "tx_SNR_range = arange(10, 50, 0.01)\n",
    "optimize_4_21 = optimize_4(N, tx_SNR_range, optimize_filepath_down, optimize_filepath_up, protocolbit)\n",
    "print optimize_4_21"
   ]
  },
  {
   "cell_type": "code",
   "execution_count": 106,
   "metadata": {
    "collapsed": false
   },
   "outputs": [
    {
     "name": "stdout",
     "output_type": "stream",
     "text": [
      "(3.1000000000000001, 10.339999999999996, 6920, 14224, 18856)\n",
      "CPU times: user 11.3 s, sys: 19.1 ms, total: 11.3 s\n",
      "Wall time: 11.3 s\n"
     ]
    }
   ],
   "source": [
    "%%time\n",
    "N = 20\n",
    "tx_SNR_range = arange(10.2, 50, 0.01)\n",
    "optimize_4_20 = optimize_4(N, tx_SNR_range, optimize_filepath_down, optimize_filepath_up, protocolbit)\n",
    "print optimize_4_20"
   ]
  },
  {
   "cell_type": "code",
   "execution_count": 107,
   "metadata": {
    "collapsed": false
   },
   "outputs": [
    {
     "name": "stdout",
     "output_type": "stream",
     "text": [
      "(2.9000000000000004, 10.439999999999994, 6808, 14341, 18851)\n",
      "CPU times: user 17.9 s, sys: 24.3 ms, total: 17.9 s\n",
      "Wall time: 17.9 s\n"
     ]
    }
   ],
   "source": [
    "%%time\n",
    "N = 19\n",
    "tx_SNR_range = arange(10.2, 50, 0.01)\n",
    "optimize_4_19 = optimize_4(N, tx_SNR_range, optimize_filepath_down, optimize_filepath_up, protocolbit)\n",
    "print optimize_4_19"
   ]
  },
  {
   "cell_type": "code",
   "execution_count": 108,
   "metadata": {
    "collapsed": false
   },
   "outputs": [
    {
     "name": "stdout",
     "output_type": "stream",
     "text": [
      "(2.8000000000000003, 10.669999999999996, 6624, 14346, 19030)\n",
      "CPU times: user 11.7 s, sys: 16.4 ms, total: 11.8 s\n",
      "Wall time: 11.8 s\n"
     ]
    }
   ],
   "source": [
    "%%time\n",
    "N = 18\n",
    "tx_SNR_range = arange(10.5, 50, 0.01)\n",
    "optimize_4_18 = optimize_4(N, tx_SNR_range, optimize_filepath_down, optimize_filepath_up, protocolbit)\n",
    "print optimize_4_18"
   ]
  },
  {
   "cell_type": "code",
   "execution_count": 109,
   "metadata": {
    "collapsed": false
   },
   "outputs": [
    {
     "name": "stdout",
     "output_type": "stream",
     "text": [
      "(2.5, 10.739999999999995, 6632, 15056, 18312)\n",
      "CPU times: user 15.5 s, sys: 27.1 ms, total: 15.5 s\n",
      "Wall time: 15.5 s\n"
     ]
    }
   ],
   "source": [
    "%%time\n",
    "N = 17\n",
    "tx_SNR_range = arange(10.5, 50, 0.01)\n",
    "optimize_4_17 = optimize_4(N, tx_SNR_range, optimize_filepath_down, optimize_filepath_up, protocolbit)\n",
    "print optimize_4_17"
   ]
  },
  {
   "cell_type": "code",
   "execution_count": 110,
   "metadata": {
    "collapsed": false
   },
   "outputs": [
    {
     "name": "stdout",
     "output_type": "stream",
     "text": [
      "(2.3000000000000003, 10.939999999999994, 6460, 15480, 18060)\n",
      "CPU times: user 14.1 s, sys: 20.9 ms, total: 14.1 s\n",
      "Wall time: 14.1 s\n"
     ]
    }
   ],
   "source": [
    "%%time\n",
    "N = 16\n",
    "tx_SNR_range = arange(10.7, 50, 0.01)\n",
    "optimize_4_16 = optimize_4(N, tx_SNR_range, optimize_filepath_down, optimize_filepath_up, protocolbit)\n",
    "print optimize_4_16"
   ]
  },
  {
   "cell_type": "code",
   "execution_count": 111,
   "metadata": {
    "collapsed": false
   },
   "outputs": [
    {
     "name": "stdout",
     "output_type": "stream",
     "text": [
      "(2.2000000000000002, 11.289999999999994, 6288, 15220, 18492)\n",
      "CPU times: user 15.7 s, sys: 28.7 ms, total: 15.7 s\n",
      "Wall time: 15.7 s\n"
     ]
    }
   ],
   "source": [
    "%%time\n",
    "N = 15\n",
    "tx_SNR_range = arange(11, 50, 0.01)\n",
    "optimize_4_15 = optimize_4(N, tx_SNR_range, optimize_filepath_down, optimize_filepath_up, protocolbit)\n",
    "print optimize_4_15"
   ]
  },
  {
   "cell_type": "code",
   "execution_count": 112,
   "metadata": {
    "collapsed": false
   },
   "outputs": [
    {
     "name": "stdout",
     "output_type": "stream",
     "text": [
      "(1.9000000000000001, 11.489999999999993, 6461, 15899, 17640)\n",
      "CPU times: user 15.4 s, sys: 84.2 ms, total: 15.5 s\n",
      "Wall time: 15.8 s\n"
     ]
    }
   ],
   "source": [
    "%%time\n",
    "N = 14\n",
    "tx_SNR_range = arange(11.2, 50, 0.01)\n",
    "optimize_4_14 = optimize_4(N, tx_SNR_range, optimize_filepath_down, optimize_filepath_up, protocolbit)\n",
    "print optimize_4_14"
   ]
  },
  {
   "cell_type": "code",
   "execution_count": 113,
   "metadata": {
    "collapsed": false
   },
   "outputs": [
    {
     "name": "stdout",
     "output_type": "stream",
     "text": [
      "(1.8, 11.969999999999994, 6180, 15324, 18496)\n",
      "CPU times: user 13.1 s, sys: 48.9 ms, total: 13.1 s\n",
      "Wall time: 13.2 s\n"
     ]
    }
   ],
   "source": [
    "%%time\n",
    "N = 13\n",
    "tx_SNR_range = arange(11.7, 50, 0.01)\n",
    "optimize_4_13 = optimize_4(N, tx_SNR_range, optimize_filepath_down, optimize_filepath_up, protocolbit)\n",
    "print optimize_4_13"
   ]
  },
  {
   "cell_type": "code",
   "execution_count": 114,
   "metadata": {
    "collapsed": false
   },
   "outputs": [
    {
     "name": "stdout",
     "output_type": "stream",
     "text": [
      "(1.6000000000000001, 12.419999999999995, 6132, 15636, 18232)\n",
      "CPU times: user 9.74 s, sys: 38.5 ms, total: 9.77 s\n",
      "Wall time: 9.79 s\n"
     ]
    }
   ],
   "source": [
    "%%time\n",
    "N = 12\n",
    "tx_SNR_range = arange(12.2, 50, 0.01)\n",
    "optimize_4_12 = optimize_4(N, tx_SNR_range, optimize_filepath_down, optimize_filepath_up, protocolbit)\n",
    "print optimize_4_12"
   ]
  },
  {
   "cell_type": "code",
   "execution_count": 115,
   "metadata": {
    "collapsed": false
   },
   "outputs": [
    {
     "name": "stdout",
     "output_type": "stream",
     "text": [
      "(1.4000000000000001, 12.979999999999993, 6116, 16190, 17694)\n",
      "CPU times: user 11.2 s, sys: 39.3 ms, total: 11.3 s\n",
      "Wall time: 11.3 s\n"
     ]
    }
   ],
   "source": [
    "%%time\n",
    "N = 11\n",
    "tx_SNR_range = arange(12.7, 50, 0.01)\n",
    "optimize_4_11 = optimize_4(N, tx_SNR_range, optimize_filepath_down, optimize_filepath_up, protocolbit)\n",
    "print optimize_4_11"
   ]
  },
  {
   "cell_type": "code",
   "execution_count": 122,
   "metadata": {
    "collapsed": false
   },
   "outputs": [
    {
     "name": "stdout",
     "output_type": "stream",
     "text": [
      "(1.2000000000000002, 13.679999999999996, 6256, 16480, 17264)\n",
      "CPU times: user 6.42 s, sys: 20.7 ms, total: 6.44 s\n",
      "Wall time: 6.45 s\n"
     ]
    }
   ],
   "source": [
    "%%time\n",
    "N = 10\n",
    "tx_SNR_range = arange(13.5, 50, 0.01)\n",
    "optimize_4_10 = optimize_4(N, tx_SNR_range, optimize_filepath_down, optimize_filepath_up, protocolbit)\n",
    "print optimize_4_10"
   ]
  },
  {
   "cell_type": "code",
   "execution_count": 116,
   "metadata": {
    "collapsed": false
   },
   "outputs": [
    {
     "name": "stdout",
     "output_type": "stream",
     "text": [
      "(1.0, 14.559999999999995, 6245, 16675, 17080)\n",
      "CPU times: user 8.61 s, sys: 31.6 ms, total: 8.64 s\n",
      "Wall time: 8.65 s\n"
     ]
    }
   ],
   "source": [
    "%%time\n",
    "N = 9\n",
    "tx_SNR_range = arange(14.3, 50, 0.01)\n",
    "optimize_4_9 = optimize_4(N, tx_SNR_range, optimize_filepath_down, optimize_filepath_up, protocolbit)\n",
    "print optimize_4_9"
   ]
  },
  {
   "cell_type": "code",
   "execution_count": 117,
   "metadata": {
    "collapsed": false
   },
   "outputs": [
    {
     "name": "stdout",
     "output_type": "stream",
     "text": [
      "(0.80000000000000004, 15.679999999999996, 6270, 16810, 16920)\n",
      "CPU times: user 5.41 s, sys: 20.2 ms, total: 5.43 s\n",
      "Wall time: 5.43 s\n"
     ]
    }
   ],
   "source": [
    "%%time\n",
    "N = 8\n",
    "tx_SNR_range = arange(15.5, 50, 0.01)\n",
    "optimize_4_8 = optimize_4(N, tx_SNR_range, optimize_filepath_down, optimize_filepath_up, protocolbit)\n",
    "print optimize_4_8"
   ]
  },
  {
   "cell_type": "code",
   "execution_count": 118,
   "metadata": {
    "collapsed": false
   },
   "outputs": [
    {
     "name": "stdout",
     "output_type": "stream",
     "text": [
      "(0.60000000000000009, 17.150000000000023, 6440, 17160, 16400)\n",
      "CPU times: user 4.06 s, sys: 16.9 ms, total: 4.07 s\n",
      "Wall time: 4.08 s\n"
     ]
    }
   ],
   "source": [
    "%%time\n",
    "N = 7\n",
    "tx_SNR_range = arange(17, 50, 0.01)\n",
    "optimize_4_7 = optimize_4(N, tx_SNR_range, optimize_filepath_down, optimize_filepath_up, protocolbit)\n",
    "print optimize_4_7"
   ]
  },
  {
   "cell_type": "code",
   "execution_count": 119,
   "metadata": {
    "collapsed": false
   },
   "outputs": [
    {
     "name": "stdout",
     "output_type": "stream",
     "text": [
      "(0.40000000000000002, 19.13000000000002, 6660, 17450, 15890)\n",
      "CPU times: user 3.32 s, sys: 16 ms, total: 3.34 s\n",
      "Wall time: 3.34 s\n"
     ]
    }
   ],
   "source": [
    "%%time\n",
    "N = 6\n",
    "tx_SNR_range = arange(19, 50, 0.01)\n",
    "optimize_4_6 = optimize_4(N, tx_SNR_range, optimize_filepath_down, optimize_filepath_up, protocolbit)\n",
    "print optimize_4_6"
   ]
  },
  {
   "cell_type": "code",
   "execution_count": 120,
   "metadata": {
    "collapsed": false
   },
   "outputs": [
    {
     "name": "stdout",
     "output_type": "stream",
     "text": [
      "(0.20000000000000001, 21.940000000000037, 6904, 17740, 15356)\n",
      "CPU times: user 5.72 s, sys: 24.4 ms, total: 5.75 s\n",
      "Wall time: 5.76 s\n"
     ]
    }
   ],
   "source": [
    "%%time\n",
    "N = 5\n",
    "tx_SNR_range = arange(21.7, 50, 0.01)\n",
    "optimize_4_5 = optimize_4(N, tx_SNR_range, optimize_filepath_down, optimize_filepath_up, protocolbit)\n",
    "print optimize_4_5"
   ]
  },
  {
   "cell_type": "code",
   "execution_count": 132,
   "metadata": {
    "collapsed": false
   },
   "outputs": [
    {
     "name": "stdout",
     "output_type": "stream",
     "text": [
      "(-2.2204460492503131e-16, 26.150000000000023, 7315, 17050, 15635)\n",
      "CPU times: user 4.47 s, sys: 17.3 ms, total: 4.48 s\n",
      "Wall time: 4.49 s\n"
     ]
    }
   ],
   "source": [
    "%%time\n",
    "N = 4\n",
    "tx_SNR_range = arange(26, 50, 0.01)\n",
    "optimize_4_4 = optimize_4(N, tx_SNR_range, optimize_filepath_down, optimize_filepath_up, protocolbit)\n",
    "print optimize_4_4"
   ]
  },
  {
   "cell_type": "code",
   "execution_count": 133,
   "metadata": {
    "collapsed": false
   },
   "outputs": [
    {
     "name": "stdout",
     "output_type": "stream",
     "text": [
      "(-0.30000000000000016, 33.039999999999992, 8526, 18408, 13066)\n",
      "CPU times: user 1.26 s, sys: 12.9 ms, total: 1.27 s\n",
      "Wall time: 1.29 s\n"
     ]
    }
   ],
   "source": [
    "%%time\n",
    "N = 3\n",
    "tx_SNR_range = arange(33, 50, 0.01)\n",
    "optimize_4_3 = optimize_4(N, tx_SNR_range, optimize_filepath_down, optimize_filepath_up, protocolbit)\n",
    "print optimize_4_3"
   ]
  },
  {
   "cell_type": "code",
   "execution_count": 134,
   "metadata": {
    "collapsed": false
   },
   "outputs": [
    {
     "name": "stdout",
     "output_type": "stream",
     "text": [
      "(-0.50000000000000011, 46.889999999999922, 9772, 16728, 13500)\n",
      "CPU times: user 10.8 s, sys: 44.3 ms, total: 10.9 s\n",
      "Wall time: 10.9 s\n"
     ]
    }
   ],
   "source": [
    "%%time\n",
    "N = 2\n",
    "tx_SNR_range = arange(46.5, 50, 0.01)\n",
    "optimize_4_2 = optimize_4(N, tx_SNR_range, optimize_filepath_down, optimize_filepath_up, protocolbit)\n",
    "print optimize_4_2"
   ]
  },
  {
   "cell_type": "code",
   "execution_count": 136,
   "metadata": {
    "collapsed": false
   },
   "outputs": [
    {
     "name": "stdout",
     "output_type": "stream",
     "text": [
      "[[ -5.00000000e-01   4.68900000e+01   9.77200000e+03   1.67280000e+04\n",
      "    1.35000000e+04]\n",
      " [ -3.00000000e-01   3.30400000e+01   8.52600000e+03   1.84080000e+04\n",
      "    1.30660000e+04]\n",
      " [ -2.22044605e-16   2.61500000e+01   7.31500000e+03   1.70500000e+04\n",
      "    1.56350000e+04]\n",
      " [  2.00000000e-01   2.19400000e+01   6.90400000e+03   1.77400000e+04\n",
      "    1.53560000e+04]\n",
      " [  4.00000000e-01   1.91300000e+01   6.66000000e+03   1.74500000e+04\n",
      "    1.58900000e+04]\n",
      " [  6.00000000e-01   1.71500000e+01   6.44000000e+03   1.71600000e+04\n",
      "    1.64000000e+04]\n",
      " [  8.00000000e-01   1.56800000e+01   6.27000000e+03   1.68100000e+04\n",
      "    1.69200000e+04]\n",
      " [  1.00000000e+00   1.45600000e+01   6.24500000e+03   1.66750000e+04\n",
      "    1.70800000e+04]\n",
      " [  1.20000000e+00   1.36800000e+01   6.25600000e+03   1.64800000e+04\n",
      "    1.72640000e+04]\n",
      " [  1.40000000e+00   1.29800000e+01   6.11600000e+03   1.61900000e+04\n",
      "    1.76940000e+04]\n",
      " [  1.60000000e+00   1.24200000e+01   6.13200000e+03   1.56360000e+04\n",
      "    1.82320000e+04]\n",
      " [  1.80000000e+00   1.19700000e+01   6.18000000e+03   1.53240000e+04\n",
      "    1.84960000e+04]\n",
      " [  1.90000000e+00   1.14900000e+01   6.46100000e+03   1.58990000e+04\n",
      "    1.76400000e+04]\n",
      " [  2.20000000e+00   1.12900000e+01   6.28800000e+03   1.52200000e+04\n",
      "    1.84920000e+04]\n",
      " [  2.30000000e+00   1.09400000e+01   6.46000000e+03   1.54800000e+04\n",
      "    1.80600000e+04]\n",
      " [  2.50000000e+00   1.07400000e+01   6.63200000e+03   1.50560000e+04\n",
      "    1.83120000e+04]\n",
      " [  2.80000000e+00   1.06700000e+01   6.62400000e+03   1.43460000e+04\n",
      "    1.90300000e+04]\n",
      " [  2.90000000e+00   1.04400000e+01   6.80800000e+03   1.43410000e+04\n",
      "    1.88510000e+04]\n",
      " [  3.10000000e+00   1.03400000e+01   6.92000000e+03   1.42240000e+04\n",
      "    1.88560000e+04]\n",
      " [  3.30000000e+00   1.02600000e+01   7.11000000e+03   1.40800000e+04\n",
      "    1.88100000e+04]\n",
      " [  3.60000000e+00   1.03000000e+01   7.22400000e+03   1.37600000e+04\n",
      "    1.90160000e+04]\n",
      " [  3.80000000e+00   1.02700000e+01   7.36300000e+03   1.33980000e+04\n",
      "    1.92390000e+04]\n",
      " [  4.20000000e+00   1.04400000e+01   7.43500000e+03   1.29600000e+04\n",
      "    1.96050000e+04]\n",
      " [  4.60000000e+00   1.06400000e+01   7.60000000e+03   1.24000000e+04\n",
      "    2.00000000e+04]\n",
      " [  5.00000000e+00   1.08400000e+01   7.71200000e+03   1.17620000e+04\n",
      "    2.05260000e+04]\n",
      " [  5.00000000e+00   1.06600000e+01   8.04000000e+03   1.22160000e+04\n",
      "    1.97440000e+04]\n",
      " [  5.70000000e+00   1.11900000e+01   8.14100000e+03   1.14950000e+04\n",
      "    2.03640000e+04]\n",
      " [  6.60000000e+00   1.19300000e+01   8.30500000e+03   1.06360000e+04\n",
      "    2.10590000e+04]\n",
      " [  6.60000000e+00   1.17700000e+01   8.59200000e+03   1.09920000e+04\n",
      "    2.04160000e+04]\n",
      " [  8.00000000e+00   1.30300000e+01   8.78400000e+03   1.00320000e+04\n",
      "    2.11840000e+04]\n",
      " [  8.00000000e+00   1.28900000e+01   9.06000000e+03   1.03400000e+04\n",
      "    2.06000000e+04]\n",
      " [  8.00000000e+00   1.27600000e+01   9.33000000e+03   1.06650000e+04\n",
      "    2.00050000e+04]\n",
      " [  1.05000000e+01   1.51300000e+01   9.56500000e+03   9.52000000e+03\n",
      "    2.09150000e+04]\n",
      " [  1.05000000e+01   1.50100000e+01   9.84400000e+03   9.80000000e+03\n",
      "    2.03560000e+04]]\n"
     ]
    }
   ],
   "source": [
    "optimize_4_data = zeros((34, 5))\n",
    "optimize_4_data[0] = [-0.50000000000000011, 46.889999999999922, 9772, 16728, 13500]\n",
    "optimize_4_data[1] = [-0.30000000000000016, 33.039999999999992, 8526, 18408, 13066]\n",
    "optimize_4_data[2] = [-2.2204460492503131e-16, 26.150000000000023, 7315, 17050, 15635]\n",
    "optimize_4_data[3] = [0.20000000000000001, 21.940000000000037, 6904, 17740, 15356]\n",
    "optimize_4_data[4] = [0.40000000000000002, 19.13000000000002, 6660, 17450, 15890]\n",
    "optimize_4_data[5] = [0.60000000000000009, 17.150000000000023, 6440, 17160, 16400]\n",
    "optimize_4_data[6] = [0.80000000000000004, 15.679999999999996, 6270, 16810, 16920]\n",
    "optimize_4_data[7] = [1.0, 14.559999999999995, 6245, 16675, 17080]\n",
    "optimize_4_data[8] = [1.2000000000000002, 13.679999999999996, 6256, 16480, 17264]\n",
    "optimize_4_data[9] = [1.4000000000000001, 12.979999999999993, 6116, 16190, 17694]\n",
    "optimize_4_data[10] = [1.6000000000000001, 12.419999999999995, 6132, 15636, 18232]\n",
    "optimize_4_data[11] = [1.8, 11.969999999999994, 6180, 15324, 18496]\n",
    "optimize_4_data[12] = [1.9000000000000001, 11.489999999999993, 6461, 15899, 17640]\n",
    "optimize_4_data[13] = [2.2000000000000002, 11.289999999999994, 6288, 15220, 18492]\n",
    "optimize_4_data[14] = [2.3000000000000003, 10.939999999999994, 6460, 15480, 18060]\n",
    "optimize_4_data[15] = [2.5, 10.739999999999995, 6632, 15056, 18312]\n",
    "optimize_4_data[16] = [2.8000000000000003, 10.669999999999996, 6624, 14346, 19030]\n",
    "optimize_4_data[17] = [2.9000000000000004, 10.439999999999994, 6808, 14341, 18851]\n",
    "optimize_4_data[18] = [3.1000000000000001, 10.339999999999996, 6920, 14224, 18856]\n",
    "optimize_4_data[19] = [3.3000000000000003, 10.259999999999994, 7110, 14080, 18810]\n",
    "optimize_4_data[20] = [3.6000000000000001, 10.299999999999995, 7224, 13760, 19016]\n",
    "optimize_4_data[21] = [3.8000000000000003, 10.269999999999994, 7363, 13398, 19239]\n",
    "optimize_4_data[22] = [4.2000000000000002, 10.439999999999998, 7435, 12960, 19605]\n",
    "optimize_4_data[23] = [4.6000000000000005, 10.639999999999997, 7600, 12400, 20000]\n",
    "optimize_4_data[24] = [5.0, 10.839999999999993, 7712, 11762, 20526]\n",
    "optimize_4_data[25] = [5.0, 10.659999999999997, 8040, 12216, 19744]\n",
    "optimize_4_data[26] = [5.7000000000000002, 11.189999999999996, 8141, 11495, 20364]\n",
    "optimize_4_data[27] = [6.6000000000000005, 11.929999999999991, 8305, 10636, 21059]\n",
    "optimize_4_data[28] = [6.6000000000000005, 11.769999999999994, 8592, 10992, 20416]\n",
    "optimize_4_data[29] = [8.0, 13.029999999999999, 8784, 10032, 21184]\n",
    "optimize_4_data[30] = [8.0, 12.889999999999992, 9060, 10340, 20600]\n",
    "optimize_4_data[31] = [8.0, 12.759999999999994, 9330, 10665, 20005]\n",
    "optimize_4_data[32] = [10.5, 15.129999999999784, 9565.0, 9520.0, 20915.0]\n",
    "optimize_4_data[33] = [10.5, 15.009999999999893, 9844.0, 9800.0, 20356.0]\n",
    "\n",
    "print optimize_4_data"
   ]
  },
  {
   "cell_type": "markdown",
   "metadata": {},
   "source": [
    "# Optimize 5"
   ]
  },
  {
   "cell_type": "code",
   "execution_count": 144,
   "metadata": {
    "collapsed": false
   },
   "outputs": [
    {
     "name": "stdout",
     "output_type": "stream",
     "text": [
      "(4.1999999999999993, 10.159999999999997, 10056, 9800, 20144)\n",
      "CPU times: user 37.8 s, sys: 141 ms, total: 37.9 s\n",
      "Wall time: 38 s\n"
     ]
    }
   ],
   "source": [
    "%%time\n",
    "N = 35\n",
    "tx_SNR_range = arange(10, 50, 0.01)\n",
    "for linktarget in [10**i for i in range(-1, 0)]:\n",
    "    z = optimize_4(N, tx_SNR_range, optimize_filepath_down, optimize_filepath_up, protocolbit, linktarget, linktarget)\n",
    "    print z"
   ]
  },
  {
   "cell_type": "code",
   "execution_count": 146,
   "metadata": {
    "collapsed": false
   },
   "outputs": [
    {
     "name": "stdout",
     "output_type": "stream",
     "text": [
      "=== N 35 ===\n",
      "1e-10  :  16\n",
      "1e-09  :  16\n",
      "1e-08  :  15\n",
      "1e-07  :  15\n",
      "1e-06  :  14\n",
      "1e-05  :  13\n",
      "0.0001  :  13\n",
      "0.001  :  12\n",
      "0.01  :  11\n",
      "0.1  :  11\n",
      "=== N 34 ===\n",
      "1e-10  :  16\n",
      "1e-09  :  16\n",
      "1e-08  :  15\n",
      "1e-07  :  15\n",
      "1e-06  :  14\n",
      "1e-05  :  14\n",
      "0.0001  :  13\n",
      "0.001  :  12\n",
      "0.01  :  11\n",
      "0.1  :  11\n",
      "=== N 33 ===\n",
      "1e-10  :  14\n",
      "1e-09  :  13\n",
      "1e-08  :  13\n",
      "1e-07  :  12\n",
      "1e-06  :  12\n",
      "1e-05  :  11\n",
      "0.0001  :  11\n",
      "0.001  :  10\n",
      "0.01  :  9\n",
      "0.1  :  10\n",
      "=== N 32 ===\n",
      "1e-10  :  14\n",
      "1e-09  :  13\n",
      "1e-08  :  13\n",
      "1e-07  :  12\n",
      "1e-06  :  12\n",
      "1e-05  :  11\n",
      "0.0001  :  11\n",
      "0.001  :  10\n",
      "0.01  :  10\n",
      "0.1  :  10\n",
      "=== N 31 ===\n",
      "1e-10  :  14\n",
      "1e-09  :  14\n",
      "1e-08  :  13\n",
      "1e-07  :  13\n",
      "1e-06  :  12\n",
      "1e-05  :  12\n",
      "0.0001  :  11\n",
      "0.001  :  10\n",
      "0.01  :  10\n",
      "0.1  :  10\n",
      "=== N 30 ===\n",
      "1e-10  :  13\n",
      "1e-09  :  12\n",
      "1e-08  :  12\n",
      "1e-07  :  12\n",
      "1e-06  :  11\n",
      "1e-05  :  11\n",
      "0.0001  :  10\n",
      "0.001  :  10\n",
      "0.01  :  9\n",
      "0.1  :  10\n",
      "=== N 29 ===\n",
      "1e-10  :  13\n",
      "1e-09  :  12\n",
      "1e-08  :  12\n",
      "1e-07  :  12\n",
      "1e-06  :  11\n",
      "1e-05  :  11\n",
      "0.0001  :  10\n",
      "0.001  :  10\n",
      "0.01  :  9\n",
      "0.1  :  10\n",
      "=== N 28 ===\n",
      "1e-10  :  12\n",
      "1e-09  :  12\n",
      "1e-08  :  11\n",
      "1e-07  :  11\n",
      "1e-06  :  11\n",
      "1e-05  :  10\n",
      "0.0001  :  10\n",
      "0.001  :  9\n",
      "0.01  :  9\n",
      "0.1  :  10\n",
      "=== N 27 ===\n",
      "1e-10  :  11\n",
      "1e-09  :  11\n",
      "1e-08  :  11\n",
      "1e-07  :  11\n",
      "1e-06  :  10\n",
      "1e-05  :  10\n",
      "0.0001  :  9\n",
      "0.001  :  9\n",
      "0.01  :  9\n",
      "0.1  :  10\n",
      "=== N 26 ===\n",
      "1e-10  :  12\n",
      "1e-09  :  11\n",
      "1e-08  :  11\n",
      "1e-07  :  11\n",
      "1e-06  :  10\n",
      "1e-05  :  10\n",
      "0.0001  :  10\n",
      "0.001  :  9\n",
      "0.01  :  9\n",
      "0.1  :  10\n",
      "=== N 25 ===\n",
      "1e-10  :  11\n",
      "1e-09  :  11\n",
      "1e-08  :  11\n",
      "1e-07  :  11\n",
      "1e-06  :  10\n",
      "1e-05  :  10\n",
      "0.0001  :  9\n",
      "0.001  :  9\n",
      "0.01  :  9\n",
      "0.1  :  10\n",
      "=== N 24 ===\n",
      "1e-10  :  11\n",
      "1e-09  :  11\n",
      "1e-08  :  11\n",
      "1e-07  :  10\n",
      "1e-06  :  10\n",
      "1e-05  :  10\n",
      "0.0001  :  9\n",
      "0.001  :  9\n",
      "0.01  :  9\n",
      "0.1  :  10\n",
      "=== N 23 ===\n",
      "1e-10  :  11\n",
      "1e-09  :  11\n",
      "1e-08  :  11\n",
      "1e-07  :  10\n",
      "1e-06  :  10\n",
      "1e-05  :  10\n",
      "0.0001  :  9\n",
      "0.001  :  9\n",
      "0.01  :  9\n",
      "0.1  :  10\n",
      "=== N 22 ===\n",
      "1e-10  :  11\n",
      "1e-09  :  11\n",
      "1e-08  :  10\n",
      "1e-07  :  10\n",
      "1e-06  :  10\n",
      "1e-05  :  10\n",
      "0.0001  :  9\n",
      "0.001  :  9\n",
      "0.01  :  9\n",
      "0.1  :  11\n",
      "=== N 21 ===\n",
      "1e-10  :  11\n",
      "1e-09  :  11\n",
      "1e-08  :  11\n",
      "1e-07  :  10\n",
      "1e-06  :  10\n",
      "1e-05  :  10\n",
      "0.0001  :  9\n",
      "0.001  :  9\n",
      "0.01  :  9\n",
      "0.1  :  11\n",
      "=== N 20 ===\n",
      "1e-10  :  11\n",
      "1e-09  :  11\n",
      "1e-08  :  11\n",
      "1e-07  :  10\n",
      "1e-06  :  10\n",
      "1e-05  :  10\n",
      "0.0001  :  10\n",
      "0.001  :  9\n",
      "0.01  :  9\n",
      "0.1  :  11\n",
      "=== N 19 ===\n",
      "1e-10  :  11\n",
      "1e-09  :  11\n",
      "1e-08  :  11\n",
      "1e-07  :  11\n",
      "1e-06  :  10\n",
      "1e-05  :  10\n",
      "0.0001  :  10\n",
      "0.001  :  9\n",
      "0.01  :  9\n",
      "0.1  :  12\n",
      "=== N 18 ===\n",
      "1e-10  :  11\n",
      "1e-09  :  11\n",
      "1e-08  :  11\n",
      "1e-07  :  11\n",
      "1e-06  :  10\n",
      "1e-05  :  10\n",
      "0.0001  :  10\n",
      "0.001  :  10\n",
      "0.01  :  9\n",
      "0.1  :  13\n",
      "=== N 17 ===\n",
      "1e-10  :  11\n",
      "1e-09  :  11\n",
      "1e-08  :  11\n",
      "1e-07  :  11\n",
      "1e-06  :  11\n",
      "1e-05  :  10\n",
      "0.0001  :  10\n",
      "0.001  :  10\n",
      "0.01  :  10\n",
      "0.1  :  13\n",
      "=== N 16 ===\n",
      "1e-10  :  12\n",
      "1e-09  :  11\n",
      "1e-08  :  11\n",
      "1e-07  :  11\n",
      "1e-06  :  11\n",
      "1e-05  :  11\n",
      "0.0001  :  10\n",
      "0.001  :  10\n",
      "0.01  :  10\n",
      "0.1  :  14\n",
      "=== N 15 ===\n",
      "1e-10  :  12\n",
      "1e-09  :  12\n",
      "1e-08  :  12\n",
      "1e-07  :  11\n",
      "1e-06  :  11\n",
      "1e-05  :  11\n",
      "0.0001  :  11\n",
      "0.001  :  10\n",
      "0.01  :  10\n",
      "0.1  :  16\n",
      "=== N 14 ===\n",
      "1e-10  :  12\n",
      "1e-09  :  12\n",
      "1e-08  :  12\n",
      "1e-07  :  12\n",
      "1e-06  :  11\n",
      "1e-05  :  11\n",
      "0.0001  :  11\n",
      "0.001  :  11\n",
      "0.01  :  11\n",
      "0.1  :  18\n",
      "=== N 13 ===\n",
      "1e-10  :  13\n",
      "1e-09  :  12\n",
      "1e-08  :  12\n",
      "1e-07  :  12\n",
      "1e-06  :  12\n",
      "1e-05  :  12\n",
      "0.0001  :  11\n",
      "0.001  :  11\n",
      "0.01  :  11\n",
      "0.1  :  26\n",
      "=== N 12 ===\n",
      "1e-10  :  13\n",
      "1e-09  :  13\n",
      "1e-08  :  13\n",
      "1e-07  :  13\n",
      "1e-06  :  12\n",
      "1e-05  :  12\n",
      "0.0001  :  12\n",
      "0.001  :  12\n",
      "0.01  :  12\n",
      "0.1  : "
     ]
    },
    {
     "ename": "TypeError",
     "evalue": "'NoneType' object has no attribute '__getitem__'",
     "output_type": "error",
     "traceback": [
      "\u001b[0;31m---------------------------------------------------------------------------\u001b[0m",
      "\u001b[0;31mTypeError\u001b[0m                                 Traceback (most recent call last)",
      "\u001b[0;32m<ipython-input-146-f9f6fa086f73>\u001b[0m in \u001b[0;36m<module>\u001b[0;34m()\u001b[0m\n\u001b[0;32m----> 1\u001b[0;31m \u001b[0mget_ipython\u001b[0m\u001b[0;34m(\u001b[0m\u001b[0;34m)\u001b[0m\u001b[0;34m.\u001b[0m\u001b[0mrun_cell_magic\u001b[0m\u001b[0;34m(\u001b[0m\u001b[0;34mu'time'\u001b[0m\u001b[0;34m,\u001b[0m \u001b[0;34mu''\u001b[0m\u001b[0;34m,\u001b[0m \u001b[0;34mu'for N in user_range[::-1]:\\n    print \"=== N {0} ===\".format(N)\\n    tx_SNR_range = arange(5, 50, 1)\\n    for linktarget in [10**i for i in range(-10, 0)]:\\n        z = optimize_4(N, tx_SNR_range, optimize_filepath_down, optimize_filepath_up, protocolbit, linktarget, linktarget)\\n        print linktarget, \" : \", z[1]'\u001b[0m\u001b[0;34m)\u001b[0m\u001b[0;34m\u001b[0m\u001b[0m\n\u001b[0m",
      "\u001b[0;32m//anaconda/envs/conda2/lib/python2.7/site-packages/IPython/core/interactiveshell.pyc\u001b[0m in \u001b[0;36mrun_cell_magic\u001b[0;34m(self, magic_name, line, cell)\u001b[0m\n\u001b[1;32m   2118\u001b[0m             \u001b[0mmagic_arg_s\u001b[0m \u001b[0;34m=\u001b[0m \u001b[0mself\u001b[0m\u001b[0;34m.\u001b[0m\u001b[0mvar_expand\u001b[0m\u001b[0;34m(\u001b[0m\u001b[0mline\u001b[0m\u001b[0;34m,\u001b[0m \u001b[0mstack_depth\u001b[0m\u001b[0;34m)\u001b[0m\u001b[0;34m\u001b[0m\u001b[0m\n\u001b[1;32m   2119\u001b[0m             \u001b[0;32mwith\u001b[0m \u001b[0mself\u001b[0m\u001b[0;34m.\u001b[0m\u001b[0mbuiltin_trap\u001b[0m\u001b[0;34m:\u001b[0m\u001b[0;34m\u001b[0m\u001b[0m\n\u001b[0;32m-> 2120\u001b[0;31m                 \u001b[0mresult\u001b[0m \u001b[0;34m=\u001b[0m \u001b[0mfn\u001b[0m\u001b[0;34m(\u001b[0m\u001b[0mmagic_arg_s\u001b[0m\u001b[0;34m,\u001b[0m \u001b[0mcell\u001b[0m\u001b[0;34m)\u001b[0m\u001b[0;34m\u001b[0m\u001b[0m\n\u001b[0m\u001b[1;32m   2121\u001b[0m             \u001b[0;32mreturn\u001b[0m \u001b[0mresult\u001b[0m\u001b[0;34m\u001b[0m\u001b[0m\n\u001b[1;32m   2122\u001b[0m \u001b[0;34m\u001b[0m\u001b[0m\n",
      "\u001b[0;32m<decorator-gen-60>\u001b[0m in \u001b[0;36mtime\u001b[0;34m(self, line, cell, local_ns)\u001b[0m\n",
      "\u001b[0;32m//anaconda/envs/conda2/lib/python2.7/site-packages/IPython/core/magic.pyc\u001b[0m in \u001b[0;36m<lambda>\u001b[0;34m(f, *a, **k)\u001b[0m\n\u001b[1;32m    191\u001b[0m     \u001b[0;31m# but it's overkill for just that one bit of state.\u001b[0m\u001b[0;34m\u001b[0m\u001b[0;34m\u001b[0m\u001b[0m\n\u001b[1;32m    192\u001b[0m     \u001b[0;32mdef\u001b[0m \u001b[0mmagic_deco\u001b[0m\u001b[0;34m(\u001b[0m\u001b[0marg\u001b[0m\u001b[0;34m)\u001b[0m\u001b[0;34m:\u001b[0m\u001b[0;34m\u001b[0m\u001b[0m\n\u001b[0;32m--> 193\u001b[0;31m         \u001b[0mcall\u001b[0m \u001b[0;34m=\u001b[0m \u001b[0;32mlambda\u001b[0m \u001b[0mf\u001b[0m\u001b[0;34m,\u001b[0m \u001b[0;34m*\u001b[0m\u001b[0ma\u001b[0m\u001b[0;34m,\u001b[0m \u001b[0;34m**\u001b[0m\u001b[0mk\u001b[0m\u001b[0;34m:\u001b[0m \u001b[0mf\u001b[0m\u001b[0;34m(\u001b[0m\u001b[0;34m*\u001b[0m\u001b[0ma\u001b[0m\u001b[0;34m,\u001b[0m \u001b[0;34m**\u001b[0m\u001b[0mk\u001b[0m\u001b[0;34m)\u001b[0m\u001b[0;34m\u001b[0m\u001b[0m\n\u001b[0m\u001b[1;32m    194\u001b[0m \u001b[0;34m\u001b[0m\u001b[0m\n\u001b[1;32m    195\u001b[0m         \u001b[0;32mif\u001b[0m \u001b[0mcallable\u001b[0m\u001b[0;34m(\u001b[0m\u001b[0marg\u001b[0m\u001b[0;34m)\u001b[0m\u001b[0;34m:\u001b[0m\u001b[0;34m\u001b[0m\u001b[0m\n",
      "\u001b[0;32m//anaconda/envs/conda2/lib/python2.7/site-packages/IPython/core/magics/execution.pyc\u001b[0m in \u001b[0;36mtime\u001b[0;34m(self, line, cell, local_ns)\u001b[0m\n\u001b[1;32m   1175\u001b[0m         \u001b[0;32melse\u001b[0m\u001b[0;34m:\u001b[0m\u001b[0;34m\u001b[0m\u001b[0m\n\u001b[1;32m   1176\u001b[0m             \u001b[0mst\u001b[0m \u001b[0;34m=\u001b[0m \u001b[0mclock2\u001b[0m\u001b[0;34m(\u001b[0m\u001b[0;34m)\u001b[0m\u001b[0;34m\u001b[0m\u001b[0m\n\u001b[0;32m-> 1177\u001b[0;31m             \u001b[0;32mexec\u001b[0m\u001b[0;34m(\u001b[0m\u001b[0mcode\u001b[0m\u001b[0;34m,\u001b[0m \u001b[0mglob\u001b[0m\u001b[0;34m,\u001b[0m \u001b[0mlocal_ns\u001b[0m\u001b[0;34m)\u001b[0m\u001b[0;34m\u001b[0m\u001b[0m\n\u001b[0m\u001b[1;32m   1178\u001b[0m             \u001b[0mend\u001b[0m \u001b[0;34m=\u001b[0m \u001b[0mclock2\u001b[0m\u001b[0;34m(\u001b[0m\u001b[0;34m)\u001b[0m\u001b[0;34m\u001b[0m\u001b[0m\n\u001b[1;32m   1179\u001b[0m             \u001b[0mout\u001b[0m \u001b[0;34m=\u001b[0m \u001b[0mNone\u001b[0m\u001b[0;34m\u001b[0m\u001b[0m\n",
      "\u001b[0;32m<timed exec>\u001b[0m in \u001b[0;36m<module>\u001b[0;34m()\u001b[0m\n",
      "\u001b[0;31mTypeError\u001b[0m: 'NoneType' object has no attribute '__getitem__'"
     ]
    }
   ],
   "source": [
    "%%time\n",
    "for N in user_range[::-1]:\n",
    "    print \"=== N {0} ===\".format(N)\n",
    "    tx_SNR_range = arange(5, 50, 1)\n",
    "    for linktarget in [10**i for i in range(-10, 0)]:\n",
    "        z = optimize_4(N, tx_SNR_range, optimize_filepath_down, optimize_filepath_up, protocolbit, linktarget, linktarget)\n",
    "        print linktarget, \" : \", z[1]"
   ]
  },
  {
   "cell_type": "code",
   "execution_count": 151,
   "metadata": {
    "collapsed": false
   },
   "outputs": [
    {
     "name": "stdout",
     "output_type": "stream",
     "text": [
      "=== N 11 ===\n",
      "1e-10  :  14\n",
      "1e-09  :  13\n",
      "1e-08  :  13\n",
      "1e-07  :  13\n",
      "1e-06  :  13\n",
      "1e-05  :  13\n",
      "0.0001  :  13\n",
      "0.001  :  12\n",
      "0.01  :  13\n",
      "=== N 10 ===\n",
      "1e-10  :  14\n",
      "1e-09  :  14\n",
      "1e-08  :  14\n",
      "1e-07  :  14\n",
      "1e-06  :  14\n",
      "1e-05  :  14\n",
      "0.0001  :  13\n",
      "0.001  :  13\n",
      "0.01  :  14\n",
      "=== N 9 ===\n",
      "1e-10  :  15\n",
      "1e-09  :  15\n",
      "1e-08  :  15\n",
      "1e-07  :  15\n",
      "1e-06  :  15\n",
      "1e-05  :  14\n",
      "0.0001  :  14\n",
      "0.001  :  14\n",
      "0.01  :  15\n",
      "=== N 8 ===\n",
      "1e-10  :  16\n",
      "1e-09  :  16\n",
      "1e-08  :  16\n",
      "1e-07  :  16\n",
      "1e-06  :  16\n",
      "1e-05  :  16\n",
      "0.0001  :  15\n",
      "0.001  :  15\n",
      "0.01  :  16\n",
      "=== N 7 ===\n",
      "1e-10  :  18\n",
      "1e-09  :  18\n",
      "1e-08  :  18\n",
      "1e-07  :  17\n",
      "1e-06  :  17\n",
      "1e-05  :  17\n",
      "0.0001  :  17\n",
      "0.001  :  17\n",
      "0.01  :  19\n",
      "=== N 6 ===\n",
      "1e-10  :  20\n",
      "1e-09  :  20\n",
      "1e-08  :  20\n",
      "1e-07  :  19\n",
      "1e-06  :  19\n",
      "1e-05  :  19\n",
      "0.0001  :  19\n",
      "0.001  :  19\n",
      "0.01  :  23\n",
      "=== N 5 ===\n",
      "1e-10  :  23\n",
      "1e-09  :  22\n",
      "1e-08  :  22\n",
      "1e-07  :  22\n",
      "1e-06  :  22\n",
      "1e-05  :  22\n",
      "0.0001  :  22\n",
      "0.001  :  22\n",
      "0.01  :  nan\n",
      "=== N 4 ===\n",
      "1e-10  :  27\n",
      "1e-09  :  27\n",
      "1e-08  :  27\n",
      "1e-07  :  26\n",
      "1e-06  :  26\n",
      "1e-05  :  26\n",
      "0.0001  :  26\n",
      "0.001  :  28\n",
      "0.01  :  nan\n",
      "=== N 3 ===\n",
      "1e-10  :  34\n",
      "1e-09  :  34\n",
      "1e-08  :  34\n",
      "1e-07  :  33\n",
      "1e-06  :  33\n",
      "1e-05  :  33\n",
      "0.0001  :  34\n",
      "0.001  :  nan\n",
      "0.01  :  nan\n",
      "=== N 2 ===\n",
      "1e-10  :  47\n",
      "1e-09  :  47\n",
      "1e-08  :  47\n",
      "1e-07  :  47\n",
      "1e-06  :  47\n",
      "1e-05  :  nan\n",
      "0.0001  :  nan\n",
      "0.001  :  nan\n",
      "0.01  :  nan\n",
      "CPU times: user 6min 52s, sys: 1.59 s, total: 6min 54s\n",
      "Wall time: 6min 55s\n"
     ]
    }
   ],
   "source": [
    "%%time\n",
    "for N in range(2, 12, 1)[::-1]:\n",
    "    print \"=== N {0} ===\".format(N)\n",
    "    tx_SNR_range = arange(5, 50, 1)\n",
    "    for linktarget in [10**i for i in range(-10, -1)]:\n",
    "        z = optimize_4(N, tx_SNR_range, optimize_filepath_down, optimize_filepath_up, protocolbit, linktarget, linktarget)\n",
    "        print linktarget, \" : \", z[1]"
   ]
  },
  {
   "cell_type": "code",
   "execution_count": 152,
   "metadata": {
    "collapsed": true
   },
   "outputs": [],
   "source": [
    "linktargetdct = {\n",
    "    35 : range(-1, 0),\n",
    "    34 : range(-2, 0),\n",
    "    33 : range(-2, -1),\n",
    "    32 : range(-3, 0),\n",
    "    31 : range(-3, 0),\n",
    "    30 : range(-2, -1),\n",
    "    29 : range(-2, -1),\n",
    "    28 : range(-3, -1),\n",
    "    27 : range(-4, -1),\n",
    "    26 : range(-3, -1),\n",
    "    25 : range(-4, -1),\n",
    "    24 : range(-4, -1),\n",
    "    23 : range(-4, -1),\n",
    "    22 : range(-4, -1),\n",
    "    21 : range(-4, -1),\n",
    "    20 : range(-3, -1),\n",
    "    19 : range(-3, -1),\n",
    "    18 : range(-2, -1),\n",
    "    17 : range(-5, -1),\n",
    "    16 : range(-4, -1),\n",
    "    15 : range(-3, -1),\n",
    "    14 : range(-6, -1),\n",
    "    13 : range(-4, -1),\n",
    "    12 : range(-6, -1),\n",
    "    11 : range(-3, -2),\n",
    "    10 : range(-4, -2),\n",
    "    9 : range(-5, -2),\n",
    "    8 : range(-4, -2),\n",
    "    7 : range(-7, -2),\n",
    "    6 : range(-7, -2),\n",
    "    5 : range(-9, -2),\n",
    "    4 : range(-7, -3),\n",
    "    3 : range(-7, -4),\n",
    "    2 : range(-10, -5)\n",
    "}\n",
    "\n",
    "tx_start_dct = {\n",
    "    35 : 10,\n",
    "    34 : 10,\n",
    "    33 : 8,\n",
    "    32 : 9,\n",
    "    31 : 9,\n",
    "    30 : 8,\n",
    "    29 : 8,\n",
    "    28 : 8,\n",
    "    27 : 8,\n",
    "    26 : 8,\n",
    "    25 : 8,\n",
    "    24 : 8,\n",
    "    23 : 8,\n",
    "    22 : 8,\n",
    "    21 : 8,\n",
    "    20 : 8,\n",
    "    19 : 8,\n",
    "    18 : 8,\n",
    "    17 : 9,\n",
    "    16 : 9,\n",
    "    15 : 9,\n",
    "    14 : 10,\n",
    "    13 : 10,\n",
    "    12 : 11,\n",
    "    11 : 11,\n",
    "    10 : 12,\n",
    "    9 : 13,\n",
    "    8 : 14,\n",
    "    7 : 16,\n",
    "    6 : 18,\n",
    "    5 : 21,\n",
    "    4 : 25,\n",
    "    3 : 32,\n",
    "    2 : 46\n",
    "}"
   ]
  },
  {
   "cell_type": "code",
   "execution_count": 153,
   "metadata": {
    "collapsed": false
   },
   "outputs": [
    {
     "name": "stdout",
     "output_type": "stream",
     "text": [
      "=== N 35 ===\n",
      "0.1  :  10.2\n",
      "=== N 34 ===\n",
      "0.01  :  10.4\n",
      "0.1  :  10.4\n",
      "=== N 33 ===\n",
      "0.01  :  8.9\n",
      "=== N 32 ===\n",
      "0.001  :  9.7\n",
      "0.01  :  9.1\n",
      "0.1  :  9.4\n",
      "=== N 31 ===\n",
      "0.001  :  9.9\n",
      "0.01  :  9.2\n",
      "0.1  :  9.6\n",
      "=== N 30 ===\n",
      "0.01  :  8.6\n",
      "=== N 29 ===\n",
      "0.01  :  8.7\n",
      "=== N 28 ===\n",
      "0.001  :  8.8\n",
      "0.01  :  8.3\n",
      "=== N 27 ===\n",
      "0.0001  :  9.0\n",
      "0.001  :  8.5\n",
      "0.01  :  8.1\n",
      "=== N 26 ===\n",
      "0.001  :  8.7\n",
      "0.01  :  8.2\n",
      "=== N 25 ===\n",
      "0.0001  :  9.0\n",
      "0.001  :  8.6\n",
      "0.01  :  8.1\n",
      "=== N 24 ===\n",
      "0.0001  :  8.9\n",
      "0.001  :  8.5\n",
      "0.01  :  8.2\n",
      "=== N 23 ===\n",
      "0.0001  :  8.9\n",
      "0.001  :  8.5\n",
      "0.01  :  8.2\n",
      "=== N 22 ===\n",
      "0.0001  :  9.0\n",
      "0.001  :  8.6\n",
      "0.01  :  8.2\n",
      "=== N 21 ===\n",
      "0.0001  :  9.0\n",
      "0.001  :  8.6\n",
      "0.01  :  8.4\n",
      "=== N 20 ===\n",
      "0.001  :  8.8\n",
      "0.01  :  8.5\n",
      "=== N 19 ===\n",
      "0.001  :  8.9\n",
      "0.01  :  8.7\n",
      "=== N 18 ===\n",
      "0.01  :  9.0\n",
      "=== N 17 ===\n",
      "1e-05  :  10.0\n",
      "0.0001  :  9.7\n",
      "0.001  :  9.4\n",
      "0.01  :  9.3\n",
      "=== N 16 ===\n",
      "0.0001  :  9.9\n",
      "0.001  :  9.6\n",
      "0.01  :  9.5\n",
      "=== N 15 ===\n",
      "0.001  :  10.0\n",
      "0.01  :  10.0\n",
      "=== N 14 ===\n",
      "1e-06  :  11.0\n",
      "1e-05  :  10.8\n",
      "0.0001  :  10.5\n",
      "0.001  :  10.3\n",
      "0.01  :  10.3\n",
      "=== N 13 ===\n",
      "0.0001  :  11.0\n",
      "0.001  :  10.8\n",
      "0.01  :  10.8\n",
      "=== N 12 ===\n",
      "1e-06  :  12.0\n",
      "1e-05  :  11.8\n",
      "0.0001  :  11.6\n",
      "0.001  :  11.3\n",
      "0.01  :  11.5\n",
      "=== N 11 ===\n",
      "0.001  :  12.0\n",
      "=== N 10 ===\n",
      "0.0001  :  12.9\n",
      "0.001  :  12.7\n",
      "=== N 9 ===\n",
      "1e-05  :  14.0\n",
      "0.0001  :  13.8\n",
      "0.001  :  13.7\n",
      "=== N 8 ===\n",
      "0.0001  :  15.0\n",
      "0.001  :  14.9\n",
      "=== N 7 ===\n",
      "1e-07  :  17.0\n",
      "1e-06  :  16.8\n",
      "1e-05  :  16.7\n",
      "0.0001  :  16.5\n",
      "0.001  :  16.5\n",
      "=== N 6 ===\n",
      "1e-07  :  19.0\n",
      "1e-06  :  18.9\n",
      "1e-05  :  18.7\n",
      "0.0001  :  18.6\n",
      "0.001  :  18.7\n",
      "=== N 5 ===\n",
      "1e-09  :  22.0\n",
      "1e-08  :  21.9\n",
      "1e-07  :  21.8\n",
      "1e-06  :  21.7\n",
      "1e-05  :  21.6\n",
      "0.0001  :  21.4\n",
      "0.001  :  21.8\n",
      "=== N 4 ===\n",
      "1e-07  :  26.0\n",
      "1e-06  :  25.9\n",
      "1e-05  :  25.8\n",
      "0.0001  :  25.8\n",
      "=== N 3 ===\n",
      "1e-07  :  33.0\n",
      "1e-06  :  32.9\n",
      "1e-05  :  32.9\n",
      "=== N 2 ===\n",
      "1e-10  :  46.9\n",
      "1e-09  :  46.9\n",
      "1e-08  :  46.8\n",
      "1e-07  :  46.8\n",
      "1e-06  :  47.0\n",
      "CPU times: user 7min 33s, sys: 1.57 s, total: 7min 35s\n",
      "Wall time: 7min 35s\n"
     ]
    }
   ],
   "source": [
    "%%time\n",
    "for N in user_range[::-1]:\n",
    "    print \"=== N {0} ===\".format(N)\n",
    "    tx_SNR_range = arange(tx_start_dct[N], 50, 0.1)\n",
    "    for linktarget in [10**i for i in linktargetdct[N]]:\n",
    "        z = optimize_4(N, tx_SNR_range, optimize_filepath_down, optimize_filepath_up, protocolbit, linktarget, linktarget)\n",
    "        print linktarget, \" : \", z[1]"
   ]
  },
  {
   "cell_type": "code",
   "execution_count": 155,
   "metadata": {
    "collapsed": true
   },
   "outputs": [],
   "source": [
    "linktargetdct = {\n",
    "    35 : [-1],\n",
    "    34 : range(-2, 0),\n",
    "    33 : range(-2, -1),\n",
    "    32 : [-2],\n",
    "    31 : [-2],\n",
    "    30 : [-2],\n",
    "    29 : [-2],\n",
    "    28 : [-2],\n",
    "    27 : [-2],\n",
    "    26 : [-2],\n",
    "    25 : [-2],\n",
    "    24 : [-2],\n",
    "    23 : [-2],\n",
    "    22 : [-2],\n",
    "    21 : [-2],\n",
    "    20 : [-2],\n",
    "    19 : [-2],\n",
    "    18 : [-2],\n",
    "    17 : [-2],\n",
    "    16 : [-2],\n",
    "    15 : [-3, -2],\n",
    "    14 : [-3, -2],\n",
    "    13 : [-3, -2],\n",
    "    12 : [-3],\n",
    "    11 : [-3],\n",
    "    10 : [-3],\n",
    "    9 : [-3],\n",
    "    8 : [-3],\n",
    "    7 : [-4, -3],\n",
    "    6 : [-4],\n",
    "    5 : [-4],\n",
    "    4 : [-5, -4],\n",
    "    3 : [-6, -5],\n",
    "    2 : [-8, -7]\n",
    "}\n",
    "\n",
    "tx_start_dct = {\n",
    "    35 : 10,\n",
    "    34 : 10.2,\n",
    "    33 : 8.7,\n",
    "    32 : 9,\n",
    "    31 : 9,\n",
    "    30 : 8.5,\n",
    "    29 : 8.5,\n",
    "    28 : 8,\n",
    "    27 : 8,\n",
    "    26 : 8,\n",
    "    25 : 8,\n",
    "    24 : 8,\n",
    "    23 : 8,\n",
    "    22 : 8,\n",
    "    21 : 8,\n",
    "    20 : 8.3,\n",
    "    19 : 8.5,\n",
    "    18 : 8.8,\n",
    "    17 : 9,\n",
    "    16 : 9.3,\n",
    "    15 : 9.8,\n",
    "    14 : 10,\n",
    "    13 : 10.6,\n",
    "    12 : 11,\n",
    "    11 : 11.8,\n",
    "    10 : 12.5,\n",
    "    9 : 13.5,\n",
    "    8 : 14.7,\n",
    "    7 : 16.3,\n",
    "    6 : 18.5,\n",
    "    5 : 21.2,\n",
    "    4 : 25.6,\n",
    "    3 : 32.7,\n",
    "    2 : 46.5\n",
    "}"
   ]
  },
  {
   "cell_type": "code",
   "execution_count": 156,
   "metadata": {
    "collapsed": false
   },
   "outputs": [
    {
     "name": "stdout",
     "output_type": "stream",
     "text": [
      "=== N 35 ===\n",
      "0.1  :  10.16\n",
      "=== N 34 ===\n",
      "0.01  :  10.36\n",
      "0.1  :  10.32\n",
      "=== N 33 ===\n",
      "0.01  :  8.88\n",
      "=== N 32 ===\n",
      "0.01  :  9.02\n",
      "=== N 31 ===\n",
      "0.01  :  9.16\n",
      "=== N 30 ===\n",
      "0.01  :  8.51\n",
      "=== N 29 ===\n",
      "0.01  :  8.67\n",
      "=== N 28 ===\n",
      "0.01  :  8.24\n",
      "=== N 27 ===\n",
      "0.01  :  8.01\n",
      "=== N 26 ===\n",
      "0.01  :  8.2\n",
      "=== N 25 ===\n",
      "0.01  :  8.1\n",
      "=== N 24 ===\n",
      "0.01  :  8.12\n",
      "=== N 23 ===\n",
      "0.01  :  8.15\n",
      "=== N 22 ===\n",
      "0.01  :  8.2\n",
      "=== N 21 ===\n",
      "0.01  :  8.37\n",
      "=== N 20 ===\n",
      "0.01  :  8.46\n",
      "=== N 19 ===\n",
      "0.01  :  8.68\n",
      "=== N 18 ===\n",
      "0.01  :  8.93\n",
      "=== N 17 ===\n",
      "0.01  :  9.22\n",
      "=== N 16 ===\n",
      "0.01  :  9.45\n",
      "=== N 15 ===\n",
      "0.001  :  9.92\n",
      "0.01  :  9.93\n",
      "=== N 14 ===\n",
      "0.001  :  10.23\n",
      "0.01  :  10.27\n",
      "=== N 13 ===\n",
      "0.001  :  10.71\n",
      "0.01  :  10.8\n",
      "=== N 12 ===\n",
      "0.001  :  11.27\n",
      "=== N 11 ===\n",
      "0.001  :  11.94\n",
      "=== N 10 ===\n",
      "0.001  :  12.65\n",
      "=== N 9 ===\n",
      "0.001  :  13.64\n",
      "=== N 8 ===\n",
      "0.001  :  14.9\n",
      "=== N 7 ===\n",
      "0.0001  :  16.47\n",
      "0.001  :  16.42\n",
      "=== N 6 ===\n",
      "0.0001  :  18.56\n",
      "=== N 5 ===\n",
      "0.0001  :  21.39\n",
      "=== N 4 ===\n",
      "1e-05  :  25.76\n",
      "0.0001  :  25.79\n",
      "=== N 3 ===\n",
      "1e-06  :  32.84\n",
      "1e-05  :  32.81\n",
      "=== N 2 ===\n",
      "1e-08  :  46.79\n",
      "1e-07  :  46.79\n",
      "CPU times: user 8min 57s, sys: 2.06 s, total: 8min 59s\n",
      "Wall time: 9min\n"
     ]
    }
   ],
   "source": [
    "%%time\n",
    "for N in user_range[::-1]:\n",
    "    print \"=== N {0} ===\".format(N)\n",
    "    tx_SNR_range = arange(tx_start_dct[N], 50, 0.01)\n",
    "    for linktarget in [10**i for i in linktargetdct[N]]:\n",
    "        z = optimize_4(N, tx_SNR_range, optimize_filepath_down, optimize_filepath_up, protocolbit, linktarget, linktarget)\n",
    "        print linktarget, \" : \", z[1]"
   ]
  },
  {
   "cell_type": "code",
   "execution_count": 6,
   "metadata": {
    "collapsed": true
   },
   "outputs": [],
   "source": [
    "linktargetdct = {\n",
    "    35 : [-1],\n",
    "    34 : [-1],\n",
    "    33 : [-2],\n",
    "    32 : [-2],\n",
    "    31 : [-2],\n",
    "    30 : [-2],\n",
    "    29 : [-2],\n",
    "    28 : [-2],\n",
    "    27 : [-2],\n",
    "    26 : [-2],\n",
    "    25 : [-2],\n",
    "    24 : [-2],\n",
    "    23 : [-2],\n",
    "    22 : [-2],\n",
    "    21 : [-2],\n",
    "    20 : [-2],\n",
    "    19 : [-2],\n",
    "    18 : [-2],\n",
    "    17 : [-2],\n",
    "    16 : [-2],\n",
    "    15 : [-3],\n",
    "    14 : [-3],\n",
    "    13 : [-3],\n",
    "    12 : [-3],\n",
    "    11 : [-3],\n",
    "    10 : [-3],\n",
    "    9 : [-3],\n",
    "    8 : [-3],\n",
    "    7 : [-3],\n",
    "    6 : [-4],\n",
    "    5 : [-4],\n",
    "    4 : [-5],\n",
    "    3 : [-5],\n",
    "    2 : [-7]\n",
    "}\n",
    "\n",
    "tx_start_dct = {\n",
    "    35 : 10.1,\n",
    "    34 : 10.2,\n",
    "    33 : 8.8,\n",
    "    32 : 9,\n",
    "    31 : 9.1,\n",
    "    30 : 8.5,\n",
    "    29 : 8.5,\n",
    "    28 : 8.2,\n",
    "    27 : 8,\n",
    "    26 : 8,\n",
    "    25 : 8,\n",
    "    24 : 8.1,\n",
    "    23 : 8.1,\n",
    "    22 : 8.1,\n",
    "    21 : 8.3,\n",
    "    20 : 8.4,\n",
    "    19 : 8.6,\n",
    "    18 : 8.9,\n",
    "    17 : 9.2,\n",
    "    16 : 9.4,\n",
    "    15 : 9.9,\n",
    "    14 : 10.2,\n",
    "    13 : 10.7,\n",
    "    12 : 11.2,\n",
    "    11 : 11.9,\n",
    "    10 : 12.6,\n",
    "    9 : 13.6,\n",
    "    8 : 14.8,\n",
    "    7 : 16.4,\n",
    "    6 : 18.5,\n",
    "    5 : 21.3,\n",
    "    4 : 25.7,\n",
    "    3 : 32.8,\n",
    "    2 : 46.7\n",
    "}"
   ]
  },
  {
   "cell_type": "code",
   "execution_count": 159,
   "metadata": {
    "collapsed": false
   },
   "outputs": [
    {
     "name": "stdout",
     "output_type": "stream",
     "text": [
      "optimize_5_data[0] = (-0.70000000000000007, 46.789999999999985, 11088, 18796, 10116)\n",
      "optimize_5_data[1] = (-0.60000000000000009, 32.809999999999995, 8709, 17310, 13981)\n",
      "optimize_5_data[2] = (-0.40000000000000013, 25.760000000000009, 8023, 17050, 14927)\n",
      "optimize_5_data[3] = (-0.40000000000000013, 21.390000000000015, 8108, 17740, 14152)\n",
      "optimize_5_data[4] = (-0.20000000000000018, 18.560000000000009, 7490, 16952, 15558)\n",
      "optimize_5_data[5] = (-0.30000000000000016, 16.420000000000002, 8360, 17480, 14160)\n",
      "optimize_5_data[6] = (-0.1000000000000002, 14.899999999999999, 7975, 16190, 15835)\n",
      "optimize_5_data[7] = (-2.2204460492503131e-16, 13.639999999999999, 8033, 16377, 15590)\n",
      "optimize_5_data[8] = (0.099999999999999645, 12.649999999999999, 8272, 16912, 14816)\n",
      "optimize_5_data[9] = (0.29999999999999982, 11.94, 7910, 15776, 16314)\n",
      "optimize_5_data[10] = (0.39999999999999969, 11.269999999999998, 7980, 15636, 16384)\n",
      "optimize_5_data[11] = (0.49999999999999956, 10.709999999999999, 8212, 15959, 15829)\n",
      "optimize_5_data[12] = (0.59999999999999964, 10.229999999999999, 8276, 15899, 15825)\n",
      "optimize_5_data[13] = (0.7999999999999996, 9.9199999999999999, 8028, 15220, 16752)\n",
      "optimize_5_data[14] = (0.49999999999999956, 9.4499999999999993, 9210, 15480, 15310)\n",
      "optimize_5_data[15] = (0.69999999999999973, 9.2199999999999989, 8920, 15056, 16024)\n",
      "optimize_5_data[16] = (0.7999999999999996, 8.9299999999999997, 9000, 14346, 16654)\n",
      "optimize_5_data[17] = (0.89999999999999947, 8.6799999999999979, 9226, 14341, 16433)\n",
      "optimize_5_data[18] = (0.99999999999999956, 8.4599999999999991, 9296, 14224, 16480)\n",
      "optimize_5_data[19] = (1.1999999999999993, 8.3699999999999992, 9078, 14080, 16842)\n",
      "optimize_5_data[20] = (1.2999999999999994, 8.1999999999999975, 9276, 13760, 16964)\n",
      "optimize_5_data[21] = (1.4999999999999996, 8.1499999999999986, 9138, 13398, 17464)\n",
      "optimize_5_data[22] = (1.6999999999999993, 8.1199999999999992, 9125, 12960, 17915)\n",
      "optimize_5_data[23] = (1.8999999999999995, 8.0999999999999979, 9160, 12400, 18440)\n",
      "optimize_5_data[24] = (2.1999999999999993, 8.1999999999999957, 9008, 11762, 19230)\n",
      "optimize_5_data[25] = (2.1999999999999993, 8.0099999999999998, 9288, 12216, 18496)\n",
      "optimize_5_data[26] = (2.5999999999999992, 8.2399999999999984, 9130, 11495, 19375)\n",
      "optimize_5_data[27] = (3.1999999999999993, 8.6699999999999964, 8897, 10636, 20467)\n",
      "optimize_5_data[28] = (3.1999999999999993, 8.5099999999999998, 9200, 10992, 19808)\n",
      "optimize_5_data[29] = (3.9999999999999991, 9.1599999999999984, 9070, 10032, 20898)\n",
      "optimize_5_data[30] = (3.9999999999999991, 9.0199999999999996, 9400, 10340, 20260)\n",
      "optimize_5_data[31] = (3.9999999999999991, 8.879999999999999, 9675, 10665, 19660)\n",
      "optimize_5_data[32] = (4.1999999999999993, 10.319999999999997, 9781, 9520, 20699)\n",
      "optimize_5_data[33] = (4.1999999999999993, 10.159999999999998, 10056, 9800, 20144)\n",
      "CPU times: user 3min 19s, sys: 487 ms, total: 3min 20s\n",
      "Wall time: 3min 20s\n"
     ]
    }
   ],
   "source": [
    "%%time\n",
    "for N in user_range:\n",
    "    tx_SNR_range = arange(tx_start_dct[N], 50, 0.01)\n",
    "    for linktarget in [10**i for i in linktargetdct[N]]:\n",
    "        z = optimize_4(N, tx_SNR_range, optimize_filepath_down, optimize_filepath_up, protocolbit, linktarget, linktarget)\n",
    "        print \"optimize_5_data[{0}] =\".format(N-user_range[0]), z"
   ]
  },
  {
   "cell_type": "code",
   "execution_count": 5,
   "metadata": {
    "collapsed": false
   },
   "outputs": [
    {
     "name": "stdout",
     "output_type": "stream",
     "text": [
      "[[ -7.00000000e-01   4.67900000e+01   1.10880000e+04   1.87960000e+04\n",
      "    1.01160000e+04]\n",
      " [ -6.00000000e-01   3.28100000e+01   8.70900000e+03   1.73100000e+04\n",
      "    1.39810000e+04]\n",
      " [ -4.00000000e-01   2.57600000e+01   8.02300000e+03   1.70500000e+04\n",
      "    1.49270000e+04]\n",
      " [ -4.00000000e-01   2.13900000e+01   8.10800000e+03   1.77400000e+04\n",
      "    1.41520000e+04]\n",
      " [ -2.00000000e-01   1.85600000e+01   7.49000000e+03   1.69520000e+04\n",
      "    1.55580000e+04]\n",
      " [ -3.00000000e-01   1.64200000e+01   8.36000000e+03   1.74800000e+04\n",
      "    1.41600000e+04]\n",
      " [ -1.00000000e-01   1.49000000e+01   7.97500000e+03   1.61900000e+04\n",
      "    1.58350000e+04]\n",
      " [ -2.22044605e-16   1.36400000e+01   8.03300000e+03   1.63770000e+04\n",
      "    1.55900000e+04]\n",
      " [  1.00000000e-01   1.26500000e+01   8.27200000e+03   1.69120000e+04\n",
      "    1.48160000e+04]\n",
      " [  3.00000000e-01   1.19400000e+01   7.91000000e+03   1.57760000e+04\n",
      "    1.63140000e+04]\n",
      " [  4.00000000e-01   1.12700000e+01   7.98000000e+03   1.56360000e+04\n",
      "    1.63840000e+04]\n",
      " [  5.00000000e-01   1.07100000e+01   8.21200000e+03   1.59590000e+04\n",
      "    1.58290000e+04]\n",
      " [  6.00000000e-01   1.02300000e+01   8.27600000e+03   1.58990000e+04\n",
      "    1.58250000e+04]\n",
      " [  8.00000000e-01   9.92000000e+00   8.02800000e+03   1.52200000e+04\n",
      "    1.67520000e+04]\n",
      " [  5.00000000e-01   9.45000000e+00   9.21000000e+03   1.54800000e+04\n",
      "    1.53100000e+04]\n",
      " [  7.00000000e-01   9.22000000e+00   8.92000000e+03   1.50560000e+04\n",
      "    1.60240000e+04]\n",
      " [  8.00000000e-01   8.93000000e+00   9.00000000e+03   1.43460000e+04\n",
      "    1.66540000e+04]\n",
      " [  9.00000000e-01   8.68000000e+00   9.22600000e+03   1.43410000e+04\n",
      "    1.64330000e+04]\n",
      " [  1.00000000e+00   8.46000000e+00   9.29600000e+03   1.42240000e+04\n",
      "    1.64800000e+04]\n",
      " [  1.20000000e+00   8.37000000e+00   9.07800000e+03   1.40800000e+04\n",
      "    1.68420000e+04]\n",
      " [  1.30000000e+00   8.20000000e+00   9.27600000e+03   1.37600000e+04\n",
      "    1.69640000e+04]\n",
      " [  1.50000000e+00   8.15000000e+00   9.13800000e+03   1.33980000e+04\n",
      "    1.74640000e+04]\n",
      " [  1.70000000e+00   8.12000000e+00   9.12500000e+03   1.29600000e+04\n",
      "    1.79150000e+04]\n",
      " [  1.90000000e+00   8.10000000e+00   9.16000000e+03   1.24000000e+04\n",
      "    1.84400000e+04]\n",
      " [  2.20000000e+00   8.20000000e+00   9.00800000e+03   1.17620000e+04\n",
      "    1.92300000e+04]\n",
      " [  2.20000000e+00   8.01000000e+00   9.28800000e+03   1.22160000e+04\n",
      "    1.84960000e+04]\n",
      " [  2.60000000e+00   8.24000000e+00   9.13000000e+03   1.14950000e+04\n",
      "    1.93750000e+04]\n",
      " [  3.20000000e+00   8.67000000e+00   8.89700000e+03   1.06360000e+04\n",
      "    2.04670000e+04]\n",
      " [  3.20000000e+00   8.51000000e+00   9.20000000e+03   1.09920000e+04\n",
      "    1.98080000e+04]\n",
      " [  4.00000000e+00   9.16000000e+00   9.07000000e+03   1.00320000e+04\n",
      "    2.08980000e+04]\n",
      " [  4.00000000e+00   9.02000000e+00   9.40000000e+03   1.03400000e+04\n",
      "    2.02600000e+04]\n",
      " [  4.00000000e+00   8.88000000e+00   9.67500000e+03   1.06650000e+04\n",
      "    1.96600000e+04]\n",
      " [  4.20000000e+00   1.03200000e+01   9.78100000e+03   9.52000000e+03\n",
      "    2.06990000e+04]\n",
      " [  4.20000000e+00   1.01600000e+01   1.00560000e+04   9.80000000e+03\n",
      "    2.01440000e+04]]\n"
     ]
    }
   ],
   "source": [
    "optimize_5_data = zeros((34, 5))\n",
    "optimize_5_data[0] = (-0.70000000000000007, 46.789999999999985, 11088, 18796, 10116)\n",
    "optimize_5_data[1] = (-0.60000000000000009, 32.809999999999995, 8709, 17310, 13981)\n",
    "optimize_5_data[2] = (-0.40000000000000013, 25.760000000000009, 8023, 17050, 14927)\n",
    "optimize_5_data[3] = (-0.40000000000000013, 21.390000000000015, 8108, 17740, 14152)\n",
    "optimize_5_data[4] = (-0.20000000000000018, 18.560000000000009, 7490, 16952, 15558)\n",
    "optimize_5_data[5] = (-0.30000000000000016, 16.420000000000002, 8360, 17480, 14160)\n",
    "optimize_5_data[6] = (-0.1000000000000002, 14.899999999999999, 7975, 16190, 15835)\n",
    "optimize_5_data[7] = (-2.2204460492503131e-16, 13.639999999999999, 8033, 16377, 15590)\n",
    "optimize_5_data[8] = (0.099999999999999645, 12.649999999999999, 8272, 16912, 14816)\n",
    "optimize_5_data[9] = (0.29999999999999982, 11.94, 7910, 15776, 16314)\n",
    "optimize_5_data[10] = (0.39999999999999969, 11.269999999999998, 7980, 15636, 16384)\n",
    "optimize_5_data[11] = (0.49999999999999956, 10.709999999999999, 8212, 15959, 15829)\n",
    "optimize_5_data[12] = (0.59999999999999964, 10.229999999999999, 8276, 15899, 15825)\n",
    "optimize_5_data[13] = (0.7999999999999996, 9.9199999999999999, 8028, 15220, 16752)\n",
    "optimize_5_data[14] = (0.49999999999999956, 9.4499999999999993, 9210, 15480, 15310)\n",
    "optimize_5_data[15] = (0.69999999999999973, 9.2199999999999989, 8920, 15056, 16024)\n",
    "optimize_5_data[16] = (0.7999999999999996, 8.9299999999999997, 9000, 14346, 16654)\n",
    "optimize_5_data[17] = (0.89999999999999947, 8.6799999999999979, 9226, 14341, 16433)\n",
    "optimize_5_data[18] = (0.99999999999999956, 8.4599999999999991, 9296, 14224, 16480)\n",
    "optimize_5_data[19] = (1.1999999999999993, 8.3699999999999992, 9078, 14080, 16842)\n",
    "optimize_5_data[20] = (1.2999999999999994, 8.1999999999999975, 9276, 13760, 16964)\n",
    "optimize_5_data[21] = (1.4999999999999996, 8.1499999999999986, 9138, 13398, 17464)\n",
    "optimize_5_data[22] = (1.6999999999999993, 8.1199999999999992, 9125, 12960, 17915)\n",
    "optimize_5_data[23] = (1.8999999999999995, 8.0999999999999979, 9160, 12400, 18440)\n",
    "optimize_5_data[24] = (2.1999999999999993, 8.1999999999999957, 9008, 11762, 19230)\n",
    "optimize_5_data[25] = (2.1999999999999993, 8.0099999999999998, 9288, 12216, 18496)\n",
    "optimize_5_data[26] = (2.5999999999999992, 8.2399999999999984, 9130, 11495, 19375)\n",
    "optimize_5_data[27] = (3.1999999999999993, 8.6699999999999964, 8897, 10636, 20467)\n",
    "optimize_5_data[28] = (3.1999999999999993, 8.5099999999999998, 9200, 10992, 19808)\n",
    "optimize_5_data[29] = (3.9999999999999991, 9.1599999999999984, 9070, 10032, 20898)\n",
    "optimize_5_data[30] = (3.9999999999999991, 9.0199999999999996, 9400, 10340, 20260)\n",
    "optimize_5_data[31] = (3.9999999999999991, 8.879999999999999, 9675, 10665, 19660)\n",
    "optimize_5_data[32] = (4.1999999999999993, 10.319999999999997, 9781, 9520, 20699)\n",
    "optimize_5_data[33] = (4.1999999999999993, 10.159999999999998, 10056, 9800, 20144)\n",
    "print optimize_5_data"
   ]
  },
  {
   "cell_type": "markdown",
   "metadata": {},
   "source": [
    "# Optimize 5 Plots"
   ]
  },
  {
   "cell_type": "code",
   "execution_count": 14,
   "metadata": {
    "collapsed": false
   },
   "outputs": [
    {
     "data": {
      "image/png": "[encoded data removed]",
      "text/html": [
       "\n",
       "\n",
       "<style>\n",
       "\n",
       "</style>\n",
       "\n",
       "<div id=\"fig_el1044545732809769960589126\"></div>\n",
       "<script>\n",
       "function mpld3_load_lib(url, callback){\n",
       "  var s = document.createElement('script');\n",
       "  s.src = url;\n",
       "  s.async = true;\n",
       "  s.onreadystatechange = s.onload = callback;\n",
       "  s.onerror = function(){console.warn(\"failed to load library \" + url);};\n",
       "  document.getElementsByTagName(\"head\")[0].appendChild(s);\n",
       "}\n",
       "\n",
       "if(typeof(mpld3) !== \"undefined\" && mpld3._mpld3IsLoaded){\n",
       "   // already loaded: just create the figure\n",
       "   !function(mpld3){\n",
       "       \n",
       "       mpld3.draw_figure(\"fig_el1044545732809769960589126\", {\"axes\": [{\"xlim\": [0.0, 35.0], \"yscale\": \"linear\", \"axesbg\": \"#FFFFFF\", \"texts\": [{\"v_baseline\": \"hanging\", \"h_anchor\": \"middle\", \"color\": \"#000000\", \"text\": \"Number of Users\", \"coordinates\": \"axes\", \"zorder\": 3, \"alpha\": 1, \"fontsize\": 16.0, \"position\": [0.5, -0.053763440860215034], \"rotation\": -0.0, \"id\": \"el104454574277712\"}, {\"v_baseline\": \"auto\", \"h_anchor\": \"middle\", \"color\": \"#000000\", \"text\": \"Blocklength (bits)\", \"coordinates\": \"axes\", \"zorder\": 3, \"alpha\": 1, \"fontsize\": 16.0, \"position\": [-0.10167761847869375, 0.5], \"rotation\": -90.0, \"id\": \"el104454588904080\"}, {\"v_baseline\": \"auto\", \"h_anchor\": \"middle\", \"color\": \"#000000\", \"text\": \"Blocklength Allocation for Max Optimization\", \"coordinates\": \"axes\", \"zorder\": 3, \"alpha\": 1, \"fontsize\": 20.0, \"position\": [0.5, 1.0149342891278375], \"rotation\": -0.0, \"id\": \"el104454596631120\"}, {\"v_baseline\": \"auto\", \"h_anchor\": \"start\", \"color\": \"#000000\", \"text\": \"None\", \"coordinates\": \"axes\", \"zorder\": 1000003.0, \"alpha\": 1, \"fontsize\": 10.0, \"position\": [-0.16129032258064516, -0.16129032258064516], \"rotation\": -0.0, \"id\": \"el104454592488400\"}, {\"v_baseline\": \"auto\", \"h_anchor\": \"start\", \"color\": \"#000000\", \"text\": \"downlink\", \"coordinates\": \"axes\", \"zorder\": 1000003.0, \"alpha\": 1, \"fontsize\": 12.0, \"position\": [0.088410991636798109, 0.9408602150537636], \"rotation\": -0.0, \"id\": \"el104454596932944\"}, {\"v_baseline\": \"auto\", \"h_anchor\": \"start\", \"color\": \"#000000\", \"text\": \"uplink\", \"coordinates\": \"axes\", \"zorder\": 1000003.0, \"alpha\": 1, \"fontsize\": 12.0, \"position\": [0.088410991636798109, 0.88799283154121877], \"rotation\": -0.0, \"id\": \"el104454596935504\"}, {\"v_baseline\": \"auto\", \"h_anchor\": \"start\", \"color\": \"#000000\", \"text\": \"xorphase\", \"coordinates\": \"axes\", \"zorder\": 1000003.0, \"alpha\": 1, \"fontsize\": 12.0, \"position\": [0.088410991636798109, 0.83512544802867394], \"rotation\": -0.0, \"id\": \"el104454596987344\"}], \"zoomable\": true, \"images\": [], \"xdomain\": [0.0, 35.0], \"ylim\": [6000.0, 22000.0], \"paths\": [{\"edgecolor\": \"#000000\", \"facecolor\": \"#FFFFFF\", \"edgewidth\": 1.0, \"pathcodes\": [\"M\", \"L\", \"L\", \"L\", \"Z\"], \"yindex\": 1, \"coordinates\": \"axes\", \"dasharray\": \"10,0\", \"zorder\": 1000001.0, \"alpha\": 1, \"xindex\": 0, \"data\": \"data03\", \"id\": \"el104454596903632\"}], \"sharey\": [], \"sharex\": [], \"axesbgalpha\": null, \"axes\": [{\"scale\": \"linear\", \"tickformat\": null, \"grid\": {\"gridOn\": false}, \"fontsize\": 10.0, \"position\": \"bottom\", \"nticks\": 8, \"tickvalues\": null}, {\"scale\": \"linear\", \"tickformat\": null, \"grid\": {\"gridOn\": false}, \"fontsize\": 10.0, \"position\": \"left\", \"nticks\": 9, \"tickvalues\": null}], \"lines\": [{\"color\": \"#0000FF\", \"yindex\": 1, \"coordinates\": \"data\", \"dasharray\": \"10,0\", \"zorder\": 2, \"alpha\": 1, \"xindex\": 0, \"linewidth\": 2.0, \"data\": \"data01\", \"id\": \"el104454596836816\"}, {\"color\": \"#007F00\", \"yindex\": 2, \"coordinates\": \"data\", \"dasharray\": \"10,0\", \"zorder\": 2, \"alpha\": 1, \"xindex\": 0, \"linewidth\": 2.0, \"data\": \"data01\", \"id\": \"el104454591819600\"}, {\"color\": \"#FF0000\", \"yindex\": 3, \"coordinates\": \"data\", \"dasharray\": \"10,0\", \"zorder\": 2, \"alpha\": 1, \"xindex\": 0, \"linewidth\": 2.0, \"data\": \"data01\", \"id\": \"el104454596837328\"}, {\"color\": \"#0000FF\", \"yindex\": 1, \"coordinates\": \"axes\", \"dasharray\": \"10,0\", \"zorder\": 1000002.0, \"alpha\": 1, \"xindex\": 0, \"linewidth\": 2.0, \"data\": \"data02\", \"id\": \"el104454596933776\"}, {\"color\": \"#007F00\", \"yindex\": 2, \"coordinates\": \"axes\", \"dasharray\": \"10,0\", \"zorder\": 1000002.0, \"alpha\": 1, \"xindex\": 0, \"linewidth\": 2.0, \"data\": \"data02\", \"id\": \"el104454596936400\"}, {\"color\": \"#FF0000\", \"yindex\": 3, \"coordinates\": \"axes\", \"dasharray\": \"10,0\", \"zorder\": 1000002.0, \"alpha\": 1, \"xindex\": 0, \"linewidth\": 2.0, \"data\": \"data02\", \"id\": \"el104454596988240\"}], \"markers\": [], \"id\": \"el104454591819216\", \"ydomain\": [6000.0, 22000.0], \"collections\": [], \"xscale\": \"linear\", \"bbox\": [0.125, 0.125, 0.77500000000000002, 0.77500000000000002]}], \"height\": 480.0, \"width\": 720.0, \"plugins\": [{\"type\": \"reset\"}, {\"enabled\": false, \"button\": true, \"type\": \"zoom\"}, {\"enabled\": false, \"button\": true, \"type\": \"boxzoom\"}], \"data\": {\"data02\": [[0.028673835125448036, 0.9534050179211471, 0.9005376344086022, 0.8476702508960574], [0.062126642771804075, 0.9534050179211471, 0.9005376344086022, 0.8476702508960574]], \"data03\": [[0.011947431302270023, 0.8127240143369177], [0.2093040621266428, 0.8127240143369177], [0.2093040621266428, 0.982078853046595], [0.011947431302270023, 0.982078853046595]], \"data01\": [[2.0, 11088.0, 18796.0, 10116.0], [3.0, 8709.0, 17310.0, 13981.0], [4.0, 8023.0, 17050.0, 14927.0], [5.0, 8108.0, 17740.0, 14152.0], [6.0, 7490.0, 16952.0, 15558.0], [7.0, 8360.0, 17480.0, 14160.0], [8.0, 7975.0, 16190.0, 15835.0], [9.0, 8033.0, 16377.0, 15590.0], [10.0, 8272.0, 16912.0, 14816.0], [11.0, 7910.0, 15776.0, 16314.0], [12.0, 7980.0, 15636.0, 16384.0], [13.0, 8212.0, 15959.0, 15829.0], [14.0, 8276.0, 15899.0, 15825.0], [15.0, 8028.0, 15220.0, 16752.0], [16.0, 9210.0, 15480.0, 15310.0], [17.0, 8920.0, 15056.0, 16024.0], [18.0, 9000.0, 14346.0, 16654.0], [19.0, 9226.0, 14341.0, 16433.0], [20.0, 9296.0, 14224.0, 16480.0], [21.0, 9078.0, 14080.0, 16842.0], [22.0, 9276.0, 13760.0, 16964.0], [23.0, 9138.0, 13398.0, 17464.0], [24.0, 9125.0, 12960.0, 17915.0], [25.0, 9160.0, 12400.0, 18440.0], [26.0, 9008.0, 11762.0, 19230.0], [27.0, 9288.0, 12216.0, 18496.0], [28.0, 9130.0, 11495.0, 19375.0], [29.0, 8897.0, 10636.0, 20467.0], [30.0, 9200.0, 10992.0, 19808.0], [31.0, 9070.0, 10032.0, 20898.0], [32.0, 9400.0, 10340.0, 20260.0], [33.0, 9675.0, 10665.0, 19660.0], [34.0, 9781.0, 9520.0, 20699.0], [35.0, 10056.0, 9800.0, 20144.0]]}, \"id\": \"el104454573280976\"});\n",
       "   }(mpld3);\n",
       "}else if(typeof define === \"function\" && define.amd){\n",
       "   // require.js is available: use it to load d3/mpld3\n",
       "   require.config({paths: {d3: \"https://mpld3.github.io/js/d3.v3.min\"}});\n",
       "   require([\"d3\"], function(d3){\n",
       "      window.d3 = d3;\n",
       "      mpld3_load_lib(\"https://mpld3.github.io/js/mpld3.v0.2.js\", function(){\n",
       "         \n",
       "         mpld3.draw_figure(\"fig_el1044545732809769960589126\", {\"axes\": [{\"xlim\": [0.0, 35.0], \"yscale\": \"linear\", \"axesbg\": \"#FFFFFF\", \"texts\": [{\"v_baseline\": \"hanging\", \"h_anchor\": \"middle\", \"color\": \"#000000\", \"text\": \"Number of Users\", \"coordinates\": \"axes\", \"zorder\": 3, \"alpha\": 1, \"fontsize\": 16.0, \"position\": [0.5, -0.053763440860215034], \"rotation\": -0.0, \"id\": \"el104454574277712\"}, {\"v_baseline\": \"auto\", \"h_anchor\": \"middle\", \"color\": \"#000000\", \"text\": \"Blocklength (bits)\", \"coordinates\": \"axes\", \"zorder\": 3, \"alpha\": 1, \"fontsize\": 16.0, \"position\": [-0.10167761847869375, 0.5], \"rotation\": -90.0, \"id\": \"el104454588904080\"}, {\"v_baseline\": \"auto\", \"h_anchor\": \"middle\", \"color\": \"#000000\", \"text\": \"Blocklength Allocation for Max Optimization\", \"coordinates\": \"axes\", \"zorder\": 3, \"alpha\": 1, \"fontsize\": 20.0, \"position\": [0.5, 1.0149342891278375], \"rotation\": -0.0, \"id\": \"el104454596631120\"}, {\"v_baseline\": \"auto\", \"h_anchor\": \"start\", \"color\": \"#000000\", \"text\": \"None\", \"coordinates\": \"axes\", \"zorder\": 1000003.0, \"alpha\": 1, \"fontsize\": 10.0, \"position\": [-0.16129032258064516, -0.16129032258064516], \"rotation\": -0.0, \"id\": \"el104454592488400\"}, {\"v_baseline\": \"auto\", \"h_anchor\": \"start\", \"color\": \"#000000\", \"text\": \"downlink\", \"coordinates\": \"axes\", \"zorder\": 1000003.0, \"alpha\": 1, \"fontsize\": 12.0, \"position\": [0.088410991636798109, 0.9408602150537636], \"rotation\": -0.0, \"id\": \"el104454596932944\"}, {\"v_baseline\": \"auto\", \"h_anchor\": \"start\", \"color\": \"#000000\", \"text\": \"uplink\", \"coordinates\": \"axes\", \"zorder\": 1000003.0, \"alpha\": 1, \"fontsize\": 12.0, \"position\": [0.088410991636798109, 0.88799283154121877], \"rotation\": -0.0, \"id\": \"el104454596935504\"}, {\"v_baseline\": \"auto\", \"h_anchor\": \"start\", \"color\": \"#000000\", \"text\": \"xorphase\", \"coordinates\": \"axes\", \"zorder\": 1000003.0, \"alpha\": 1, \"fontsize\": 12.0, \"position\": [0.088410991636798109, 0.83512544802867394], \"rotation\": -0.0, \"id\": \"el104454596987344\"}], \"zoomable\": true, \"images\": [], \"xdomain\": [0.0, 35.0], \"ylim\": [6000.0, 22000.0], \"paths\": [{\"edgecolor\": \"#000000\", \"facecolor\": \"#FFFFFF\", \"edgewidth\": 1.0, \"pathcodes\": [\"M\", \"L\", \"L\", \"L\", \"Z\"], \"yindex\": 1, \"coordinates\": \"axes\", \"dasharray\": \"10,0\", \"zorder\": 1000001.0, \"alpha\": 1, \"xindex\": 0, \"data\": \"data03\", \"id\": \"el104454596903632\"}], \"sharey\": [], \"sharex\": [], \"axesbgalpha\": null, \"axes\": [{\"scale\": \"linear\", \"tickformat\": null, \"grid\": {\"gridOn\": false}, \"fontsize\": 10.0, \"position\": \"bottom\", \"nticks\": 8, \"tickvalues\": null}, {\"scale\": \"linear\", \"tickformat\": null, \"grid\": {\"gridOn\": false}, \"fontsize\": 10.0, \"position\": \"left\", \"nticks\": 9, \"tickvalues\": null}], \"lines\": [{\"color\": \"#0000FF\", \"yindex\": 1, \"coordinates\": \"data\", \"dasharray\": \"10,0\", \"zorder\": 2, \"alpha\": 1, \"xindex\": 0, \"linewidth\": 2.0, \"data\": \"data01\", \"id\": \"el104454596836816\"}, {\"color\": \"#007F00\", \"yindex\": 2, \"coordinates\": \"data\", \"dasharray\": \"10,0\", \"zorder\": 2, \"alpha\": 1, \"xindex\": 0, \"linewidth\": 2.0, \"data\": \"data01\", \"id\": \"el104454591819600\"}, {\"color\": \"#FF0000\", \"yindex\": 3, \"coordinates\": \"data\", \"dasharray\": \"10,0\", \"zorder\": 2, \"alpha\": 1, \"xindex\": 0, \"linewidth\": 2.0, \"data\": \"data01\", \"id\": \"el104454596837328\"}, {\"color\": \"#0000FF\", \"yindex\": 1, \"coordinates\": \"axes\", \"dasharray\": \"10,0\", \"zorder\": 1000002.0, \"alpha\": 1, \"xindex\": 0, \"linewidth\": 2.0, \"data\": \"data02\", \"id\": \"el104454596933776\"}, {\"color\": \"#007F00\", \"yindex\": 2, \"coordinates\": \"axes\", \"dasharray\": \"10,0\", \"zorder\": 1000002.0, \"alpha\": 1, \"xindex\": 0, \"linewidth\": 2.0, \"data\": \"data02\", \"id\": \"el104454596936400\"}, {\"color\": \"#FF0000\", \"yindex\": 3, \"coordinates\": \"axes\", \"dasharray\": \"10,0\", \"zorder\": 1000002.0, \"alpha\": 1, \"xindex\": 0, \"linewidth\": 2.0, \"data\": \"data02\", \"id\": \"el104454596988240\"}], \"markers\": [], \"id\": \"el104454591819216\", \"ydomain\": [6000.0, 22000.0], \"collections\": [], \"xscale\": \"linear\", \"bbox\": [0.125, 0.125, 0.77500000000000002, 0.77500000000000002]}], \"height\": 480.0, \"width\": 720.0, \"plugins\": [{\"type\": \"reset\"}, {\"enabled\": false, \"button\": true, \"type\": \"zoom\"}, {\"enabled\": false, \"button\": true, \"type\": \"boxzoom\"}], \"data\": {\"data02\": [[0.028673835125448036, 0.9534050179211471, 0.9005376344086022, 0.8476702508960574], [0.062126642771804075, 0.9534050179211471, 0.9005376344086022, 0.8476702508960574]], \"data03\": [[0.011947431302270023, 0.8127240143369177], [0.2093040621266428, 0.8127240143369177], [0.2093040621266428, 0.982078853046595], [0.011947431302270023, 0.982078853046595]], \"data01\": [[2.0, 11088.0, 18796.0, 10116.0], [3.0, 8709.0, 17310.0, 13981.0], [4.0, 8023.0, 17050.0, 14927.0], [5.0, 8108.0, 17740.0, 14152.0], [6.0, 7490.0, 16952.0, 15558.0], [7.0, 8360.0, 17480.0, 14160.0], [8.0, 7975.0, 16190.0, 15835.0], [9.0, 8033.0, 16377.0, 15590.0], [10.0, 8272.0, 16912.0, 14816.0], [11.0, 7910.0, 15776.0, 16314.0], [12.0, 7980.0, 15636.0, 16384.0], [13.0, 8212.0, 15959.0, 15829.0], [14.0, 8276.0, 15899.0, 15825.0], [15.0, 8028.0, 15220.0, 16752.0], [16.0, 9210.0, 15480.0, 15310.0], [17.0, 8920.0, 15056.0, 16024.0], [18.0, 9000.0, 14346.0, 16654.0], [19.0, 9226.0, 14341.0, 16433.0], [20.0, 9296.0, 14224.0, 16480.0], [21.0, 9078.0, 14080.0, 16842.0], [22.0, 9276.0, 13760.0, 16964.0], [23.0, 9138.0, 13398.0, 17464.0], [24.0, 9125.0, 12960.0, 17915.0], [25.0, 9160.0, 12400.0, 18440.0], [26.0, 9008.0, 11762.0, 19230.0], [27.0, 9288.0, 12216.0, 18496.0], [28.0, 9130.0, 11495.0, 19375.0], [29.0, 8897.0, 10636.0, 20467.0], [30.0, 9200.0, 10992.0, 19808.0], [31.0, 9070.0, 10032.0, 20898.0], [32.0, 9400.0, 10340.0, 20260.0], [33.0, 9675.0, 10665.0, 19660.0], [34.0, 9781.0, 9520.0, 20699.0], [35.0, 10056.0, 9800.0, 20144.0]]}, \"id\": \"el104454573280976\"});\n",
       "      });\n",
       "    });\n",
       "}else{\n",
       "    // require.js not available: dynamically load d3 & mpld3\n",
       "    mpld3_load_lib(\"https://mpld3.github.io/js/d3.v3.min.js\", function(){\n",
       "         mpld3_load_lib(\"https://mpld3.github.io/js/mpld3.v0.2.js\", function(){\n",
       "                 \n",
       "                 mpld3.draw_figure(\"fig_el1044545732809769960589126\", {\"axes\": [{\"xlim\": [0.0, 35.0], \"yscale\": \"linear\", \"axesbg\": \"#FFFFFF\", \"texts\": [{\"v_baseline\": \"hanging\", \"h_anchor\": \"middle\", \"color\": \"#000000\", \"text\": \"Number of Users\", \"coordinates\": \"axes\", \"zorder\": 3, \"alpha\": 1, \"fontsize\": 16.0, \"position\": [0.5, -0.053763440860215034], \"rotation\": -0.0, \"id\": \"el104454574277712\"}, {\"v_baseline\": \"auto\", \"h_anchor\": \"middle\", \"color\": \"#000000\", \"text\": \"Blocklength (bits)\", \"coordinates\": \"axes\", \"zorder\": 3, \"alpha\": 1, \"fontsize\": 16.0, \"position\": [-0.10167761847869375, 0.5], \"rotation\": -90.0, \"id\": \"el104454588904080\"}, {\"v_baseline\": \"auto\", \"h_anchor\": \"middle\", \"color\": \"#000000\", \"text\": \"Blocklength Allocation for Max Optimization\", \"coordinates\": \"axes\", \"zorder\": 3, \"alpha\": 1, \"fontsize\": 20.0, \"position\": [0.5, 1.0149342891278375], \"rotation\": -0.0, \"id\": \"el104454596631120\"}, {\"v_baseline\": \"auto\", \"h_anchor\": \"start\", \"color\": \"#000000\", \"text\": \"None\", \"coordinates\": \"axes\", \"zorder\": 1000003.0, \"alpha\": 1, \"fontsize\": 10.0, \"position\": [-0.16129032258064516, -0.16129032258064516], \"rotation\": -0.0, \"id\": \"el104454592488400\"}, {\"v_baseline\": \"auto\", \"h_anchor\": \"start\", \"color\": \"#000000\", \"text\": \"downlink\", \"coordinates\": \"axes\", \"zorder\": 1000003.0, \"alpha\": 1, \"fontsize\": 12.0, \"position\": [0.088410991636798109, 0.9408602150537636], \"rotation\": -0.0, \"id\": \"el104454596932944\"}, {\"v_baseline\": \"auto\", \"h_anchor\": \"start\", \"color\": \"#000000\", \"text\": \"uplink\", \"coordinates\": \"axes\", \"zorder\": 1000003.0, \"alpha\": 1, \"fontsize\": 12.0, \"position\": [0.088410991636798109, 0.88799283154121877], \"rotation\": -0.0, \"id\": \"el104454596935504\"}, {\"v_baseline\": \"auto\", \"h_anchor\": \"start\", \"color\": \"#000000\", \"text\": \"xorphase\", \"coordinates\": \"axes\", \"zorder\": 1000003.0, \"alpha\": 1, \"fontsize\": 12.0, \"position\": [0.088410991636798109, 0.83512544802867394], \"rotation\": -0.0, \"id\": \"el104454596987344\"}], \"zoomable\": true, \"images\": [], \"xdomain\": [0.0, 35.0], \"ylim\": [6000.0, 22000.0], \"paths\": [{\"edgecolor\": \"#000000\", \"facecolor\": \"#FFFFFF\", \"edgewidth\": 1.0, \"pathcodes\": [\"M\", \"L\", \"L\", \"L\", \"Z\"], \"yindex\": 1, \"coordinates\": \"axes\", \"dasharray\": \"10,0\", \"zorder\": 1000001.0, \"alpha\": 1, \"xindex\": 0, \"data\": \"data03\", \"id\": \"el104454596903632\"}], \"sharey\": [], \"sharex\": [], \"axesbgalpha\": null, \"axes\": [{\"scale\": \"linear\", \"tickformat\": null, \"grid\": {\"gridOn\": false}, \"fontsize\": 10.0, \"position\": \"bottom\", \"nticks\": 8, \"tickvalues\": null}, {\"scale\": \"linear\", \"tickformat\": null, \"grid\": {\"gridOn\": false}, \"fontsize\": 10.0, \"position\": \"left\", \"nticks\": 9, \"tickvalues\": null}], \"lines\": [{\"color\": \"#0000FF\", \"yindex\": 1, \"coordinates\": \"data\", \"dasharray\": \"10,0\", \"zorder\": 2, \"alpha\": 1, \"xindex\": 0, \"linewidth\": 2.0, \"data\": \"data01\", \"id\": \"el104454596836816\"}, {\"color\": \"#007F00\", \"yindex\": 2, \"coordinates\": \"data\", \"dasharray\": \"10,0\", \"zorder\": 2, \"alpha\": 1, \"xindex\": 0, \"linewidth\": 2.0, \"data\": \"data01\", \"id\": \"el104454591819600\"}, {\"color\": \"#FF0000\", \"yindex\": 3, \"coordinates\": \"data\", \"dasharray\": \"10,0\", \"zorder\": 2, \"alpha\": 1, \"xindex\": 0, \"linewidth\": 2.0, \"data\": \"data01\", \"id\": \"el104454596837328\"}, {\"color\": \"#0000FF\", \"yindex\": 1, \"coordinates\": \"axes\", \"dasharray\": \"10,0\", \"zorder\": 1000002.0, \"alpha\": 1, \"xindex\": 0, \"linewidth\": 2.0, \"data\": \"data02\", \"id\": \"el104454596933776\"}, {\"color\": \"#007F00\", \"yindex\": 2, \"coordinates\": \"axes\", \"dasharray\": \"10,0\", \"zorder\": 1000002.0, \"alpha\": 1, \"xindex\": 0, \"linewidth\": 2.0, \"data\": \"data02\", \"id\": \"el104454596936400\"}, {\"color\": \"#FF0000\", \"yindex\": 3, \"coordinates\": \"axes\", \"dasharray\": \"10,0\", \"zorder\": 1000002.0, \"alpha\": 1, \"xindex\": 0, \"linewidth\": 2.0, \"data\": \"data02\", \"id\": \"el104454596988240\"}], \"markers\": [], \"id\": \"el104454591819216\", \"ydomain\": [6000.0, 22000.0], \"collections\": [], \"xscale\": \"linear\", \"bbox\": [0.125, 0.125, 0.77500000000000002, 0.77500000000000002]}], \"height\": 480.0, \"width\": 720.0, \"plugins\": [{\"type\": \"reset\"}, {\"enabled\": false, \"button\": true, \"type\": \"zoom\"}, {\"enabled\": false, \"button\": true, \"type\": \"boxzoom\"}], \"data\": {\"data02\": [[0.028673835125448036, 0.9534050179211471, 0.9005376344086022, 0.8476702508960574], [0.062126642771804075, 0.9534050179211471, 0.9005376344086022, 0.8476702508960574]], \"data03\": [[0.011947431302270023, 0.8127240143369177], [0.2093040621266428, 0.8127240143369177], [0.2093040621266428, 0.982078853046595], [0.011947431302270023, 0.982078853046595]], \"data01\": [[2.0, 11088.0, 18796.0, 10116.0], [3.0, 8709.0, 17310.0, 13981.0], [4.0, 8023.0, 17050.0, 14927.0], [5.0, 8108.0, 17740.0, 14152.0], [6.0, 7490.0, 16952.0, 15558.0], [7.0, 8360.0, 17480.0, 14160.0], [8.0, 7975.0, 16190.0, 15835.0], [9.0, 8033.0, 16377.0, 15590.0], [10.0, 8272.0, 16912.0, 14816.0], [11.0, 7910.0, 15776.0, 16314.0], [12.0, 7980.0, 15636.0, 16384.0], [13.0, 8212.0, 15959.0, 15829.0], [14.0, 8276.0, 15899.0, 15825.0], [15.0, 8028.0, 15220.0, 16752.0], [16.0, 9210.0, 15480.0, 15310.0], [17.0, 8920.0, 15056.0, 16024.0], [18.0, 9000.0, 14346.0, 16654.0], [19.0, 9226.0, 14341.0, 16433.0], [20.0, 9296.0, 14224.0, 16480.0], [21.0, 9078.0, 14080.0, 16842.0], [22.0, 9276.0, 13760.0, 16964.0], [23.0, 9138.0, 13398.0, 17464.0], [24.0, 9125.0, 12960.0, 17915.0], [25.0, 9160.0, 12400.0, 18440.0], [26.0, 9008.0, 11762.0, 19230.0], [27.0, 9288.0, 12216.0, 18496.0], [28.0, 9130.0, 11495.0, 19375.0], [29.0, 8897.0, 10636.0, 20467.0], [30.0, 9200.0, 10992.0, 19808.0], [31.0, 9070.0, 10032.0, 20898.0], [32.0, 9400.0, 10340.0, 20260.0], [33.0, 9675.0, 10665.0, 19660.0], [34.0, 9781.0, 9520.0, 20699.0], [35.0, 10056.0, 9800.0, 20144.0]]}, \"id\": \"el104454573280976\"});\n",
       "            })\n",
       "         });\n",
       "}\n",
       "</script>"
      ],
      "text/plain": [
       "<matplotlib.figure.Figure at 0x11096bad0>"
      ]
     },
     "metadata": {},
     "output_type": "display_data"
    }
   ],
   "source": [
    "figure(figsize=(9, 6))\n",
    "plot(user_range, optimize_5_data[:,2], lw=2.0, label='downlink')\n",
    "plot(user_range, optimize_5_data[:,3], lw=2.0, label='uplink')\n",
    "plot(user_range, optimize_5_data[:,4], lw=2.0, label='xorphase')\n",
    "legend(loc=0)\n",
    "xlabel('Number of Users', fontsize=16)\n",
    "ylabel('Blocklength (bits)', fontsize=16, labelpad=15)\n",
    "title('Blocklength Allocation for Max Optimization', fontsize=20)\n",
    "savefig('optimize_5_blocklength.pdf', bbox='tight')"
   ]
  },
  {
   "cell_type": "code",
   "execution_count": 18,
   "metadata": {
    "collapsed": false
   },
   "outputs": [
    {
     "data": {
      "image/png": "[encoded data removed]",
      "text/html": [
       "\n",
       "\n",
       "<style>\n",
       "\n",
       "</style>\n",
       "\n",
       "<div id=\"fig_el1044545924080802303939816\"></div>\n",
       "<script>\n",
       "function mpld3_load_lib(url, callback){\n",
       "  var s = document.createElement('script');\n",
       "  s.src = url;\n",
       "  s.async = true;\n",
       "  s.onreadystatechange = s.onload = callback;\n",
       "  s.onerror = function(){console.warn(\"failed to load library \" + url);};\n",
       "  document.getElementsByTagName(\"head\")[0].appendChild(s);\n",
       "}\n",
       "\n",
       "if(typeof(mpld3) !== \"undefined\" && mpld3._mpld3IsLoaded){\n",
       "   // already loaded: just create the figure\n",
       "   !function(mpld3){\n",
       "       \n",
       "       mpld3.draw_figure(\"fig_el1044545924080802303939816\", {\"axes\": [{\"xlim\": [0.0, 35.0], \"yscale\": \"linear\", \"axesbg\": \"#FFFFFF\", \"texts\": [{\"v_baseline\": \"hanging\", \"h_anchor\": \"middle\", \"color\": \"#000000\", \"text\": \"Number of Users\", \"coordinates\": \"axes\", \"zorder\": 3, \"alpha\": 1, \"fontsize\": 16.0, \"position\": [0.5, -0.053763440860215034], \"rotation\": -0.0, \"id\": \"el104454588818512\"}, {\"v_baseline\": \"auto\", \"h_anchor\": \"middle\", \"color\": \"#000000\", \"text\": \"Log10(P(Fail))\", \"coordinates\": \"axes\", \"zorder\": 3, \"alpha\": 1, \"fontsize\": 16.0, \"position\": [-0.067403424930306655, 0.5], \"rotation\": -90.0, \"id\": \"el104454600911248\"}, {\"v_baseline\": \"auto\", \"h_anchor\": \"middle\", \"color\": \"#000000\", \"text\": \"Downlink/Uplink Target P(Fail) for Max Optimization\", \"coordinates\": \"axes\", \"zorder\": 3, \"alpha\": 1, \"fontsize\": 20.0, \"position\": [0.5, 1.0149342891278375], \"rotation\": -0.0, \"id\": \"el104454602371152\"}], \"zoomable\": true, \"images\": [], \"xdomain\": [0.0, 35.0], \"ylim\": [-7.0, 0.0], \"paths\": [], \"sharey\": [], \"sharex\": [], \"axesbgalpha\": null, \"axes\": [{\"scale\": \"linear\", \"tickformat\": null, \"grid\": {\"gridOn\": false}, \"fontsize\": 10.0, \"position\": \"bottom\", \"nticks\": 8, \"tickvalues\": null}, {\"scale\": \"linear\", \"tickformat\": null, \"grid\": {\"gridOn\": false}, \"fontsize\": 10.0, \"position\": \"left\", \"nticks\": 8, \"tickvalues\": null}], \"lines\": [{\"color\": \"#0000FF\", \"yindex\": 1, \"coordinates\": \"data\", \"dasharray\": \"10,0\", \"zorder\": 2, \"alpha\": 1, \"xindex\": 0, \"linewidth\": 2.0, \"data\": \"data01\", \"id\": \"el104454603957200\"}], \"markers\": [], \"id\": \"el104454592409936\", \"ydomain\": [-7.0, 0.0], \"collections\": [], \"xscale\": \"linear\", \"bbox\": [0.125, 0.125, 0.77500000000000002, 0.77500000000000002]}], \"height\": 480.0, \"width\": 720.0, \"plugins\": [{\"type\": \"reset\"}, {\"enabled\": false, \"button\": true, \"type\": \"zoom\"}, {\"enabled\": false, \"button\": true, \"type\": \"boxzoom\"}], \"data\": {\"data01\": [[2.0, -7.0], [3.0, -5.0], [4.0, -5.0], [5.0, -4.0], [6.0, -4.0], [7.0, -3.0], [8.0, -3.0], [9.0, -3.0], [10.0, -3.0], [11.0, -3.0], [12.0, -3.0], [13.0, -3.0], [14.0, -3.0], [15.0, -3.0], [16.0, -2.0], [17.0, -2.0], [18.0, -2.0], [19.0, -2.0], [20.0, -2.0], [21.0, -2.0], [22.0, -2.0], [23.0, -2.0], [24.0, -2.0], [25.0, -2.0], [26.0, -2.0], [27.0, -2.0], [28.0, -2.0], [29.0, -2.0], [30.0, -2.0], [31.0, -2.0], [32.0, -2.0], [33.0, -2.0], [34.0, -1.0], [35.0, -1.0]]}, \"id\": \"el104454592408080\"});\n",
       "   }(mpld3);\n",
       "}else if(typeof define === \"function\" && define.amd){\n",
       "   // require.js is available: use it to load d3/mpld3\n",
       "   require.config({paths: {d3: \"https://mpld3.github.io/js/d3.v3.min\"}});\n",
       "   require([\"d3\"], function(d3){\n",
       "      window.d3 = d3;\n",
       "      mpld3_load_lib(\"https://mpld3.github.io/js/mpld3.v0.2.js\", function(){\n",
       "         \n",
       "         mpld3.draw_figure(\"fig_el1044545924080802303939816\", {\"axes\": [{\"xlim\": [0.0, 35.0], \"yscale\": \"linear\", \"axesbg\": \"#FFFFFF\", \"texts\": [{\"v_baseline\": \"hanging\", \"h_anchor\": \"middle\", \"color\": \"#000000\", \"text\": \"Number of Users\", \"coordinates\": \"axes\", \"zorder\": 3, \"alpha\": 1, \"fontsize\": 16.0, \"position\": [0.5, -0.053763440860215034], \"rotation\": -0.0, \"id\": \"el104454588818512\"}, {\"v_baseline\": \"auto\", \"h_anchor\": \"middle\", \"color\": \"#000000\", \"text\": \"Log10(P(Fail))\", \"coordinates\": \"axes\", \"zorder\": 3, \"alpha\": 1, \"fontsize\": 16.0, \"position\": [-0.067403424930306655, 0.5], \"rotation\": -90.0, \"id\": \"el104454600911248\"}, {\"v_baseline\": \"auto\", \"h_anchor\": \"middle\", \"color\": \"#000000\", \"text\": \"Downlink/Uplink Target P(Fail) for Max Optimization\", \"coordinates\": \"axes\", \"zorder\": 3, \"alpha\": 1, \"fontsize\": 20.0, \"position\": [0.5, 1.0149342891278375], \"rotation\": -0.0, \"id\": \"el104454602371152\"}], \"zoomable\": true, \"images\": [], \"xdomain\": [0.0, 35.0], \"ylim\": [-7.0, 0.0], \"paths\": [], \"sharey\": [], \"sharex\": [], \"axesbgalpha\": null, \"axes\": [{\"scale\": \"linear\", \"tickformat\": null, \"grid\": {\"gridOn\": false}, \"fontsize\": 10.0, \"position\": \"bottom\", \"nticks\": 8, \"tickvalues\": null}, {\"scale\": \"linear\", \"tickformat\": null, \"grid\": {\"gridOn\": false}, \"fontsize\": 10.0, \"position\": \"left\", \"nticks\": 8, \"tickvalues\": null}], \"lines\": [{\"color\": \"#0000FF\", \"yindex\": 1, \"coordinates\": \"data\", \"dasharray\": \"10,0\", \"zorder\": 2, \"alpha\": 1, \"xindex\": 0, \"linewidth\": 2.0, \"data\": \"data01\", \"id\": \"el104454603957200\"}], \"markers\": [], \"id\": \"el104454592409936\", \"ydomain\": [-7.0, 0.0], \"collections\": [], \"xscale\": \"linear\", \"bbox\": [0.125, 0.125, 0.77500000000000002, 0.77500000000000002]}], \"height\": 480.0, \"width\": 720.0, \"plugins\": [{\"type\": \"reset\"}, {\"enabled\": false, \"button\": true, \"type\": \"zoom\"}, {\"enabled\": false, \"button\": true, \"type\": \"boxzoom\"}], \"data\": {\"data01\": [[2.0, -7.0], [3.0, -5.0], [4.0, -5.0], [5.0, -4.0], [6.0, -4.0], [7.0, -3.0], [8.0, -3.0], [9.0, -3.0], [10.0, -3.0], [11.0, -3.0], [12.0, -3.0], [13.0, -3.0], [14.0, -3.0], [15.0, -3.0], [16.0, -2.0], [17.0, -2.0], [18.0, -2.0], [19.0, -2.0], [20.0, -2.0], [21.0, -2.0], [22.0, -2.0], [23.0, -2.0], [24.0, -2.0], [25.0, -2.0], [26.0, -2.0], [27.0, -2.0], [28.0, -2.0], [29.0, -2.0], [30.0, -2.0], [31.0, -2.0], [32.0, -2.0], [33.0, -2.0], [34.0, -1.0], [35.0, -1.0]]}, \"id\": \"el104454592408080\"});\n",
       "      });\n",
       "    });\n",
       "}else{\n",
       "    // require.js not available: dynamically load d3 & mpld3\n",
       "    mpld3_load_lib(\"https://mpld3.github.io/js/d3.v3.min.js\", function(){\n",
       "         mpld3_load_lib(\"https://mpld3.github.io/js/mpld3.v0.2.js\", function(){\n",
       "                 \n",
       "                 mpld3.draw_figure(\"fig_el1044545924080802303939816\", {\"axes\": [{\"xlim\": [0.0, 35.0], \"yscale\": \"linear\", \"axesbg\": \"#FFFFFF\", \"texts\": [{\"v_baseline\": \"hanging\", \"h_anchor\": \"middle\", \"color\": \"#000000\", \"text\": \"Number of Users\", \"coordinates\": \"axes\", \"zorder\": 3, \"alpha\": 1, \"fontsize\": 16.0, \"position\": [0.5, -0.053763440860215034], \"rotation\": -0.0, \"id\": \"el104454588818512\"}, {\"v_baseline\": \"auto\", \"h_anchor\": \"middle\", \"color\": \"#000000\", \"text\": \"Log10(P(Fail))\", \"coordinates\": \"axes\", \"zorder\": 3, \"alpha\": 1, \"fontsize\": 16.0, \"position\": [-0.067403424930306655, 0.5], \"rotation\": -90.0, \"id\": \"el104454600911248\"}, {\"v_baseline\": \"auto\", \"h_anchor\": \"middle\", \"color\": \"#000000\", \"text\": \"Downlink/Uplink Target P(Fail) for Max Optimization\", \"coordinates\": \"axes\", \"zorder\": 3, \"alpha\": 1, \"fontsize\": 20.0, \"position\": [0.5, 1.0149342891278375], \"rotation\": -0.0, \"id\": \"el104454602371152\"}], \"zoomable\": true, \"images\": [], \"xdomain\": [0.0, 35.0], \"ylim\": [-7.0, 0.0], \"paths\": [], \"sharey\": [], \"sharex\": [], \"axesbgalpha\": null, \"axes\": [{\"scale\": \"linear\", \"tickformat\": null, \"grid\": {\"gridOn\": false}, \"fontsize\": 10.0, \"position\": \"bottom\", \"nticks\": 8, \"tickvalues\": null}, {\"scale\": \"linear\", \"tickformat\": null, \"grid\": {\"gridOn\": false}, \"fontsize\": 10.0, \"position\": \"left\", \"nticks\": 8, \"tickvalues\": null}], \"lines\": [{\"color\": \"#0000FF\", \"yindex\": 1, \"coordinates\": \"data\", \"dasharray\": \"10,0\", \"zorder\": 2, \"alpha\": 1, \"xindex\": 0, \"linewidth\": 2.0, \"data\": \"data01\", \"id\": \"el104454603957200\"}], \"markers\": [], \"id\": \"el104454592409936\", \"ydomain\": [-7.0, 0.0], \"collections\": [], \"xscale\": \"linear\", \"bbox\": [0.125, 0.125, 0.77500000000000002, 0.77500000000000002]}], \"height\": 480.0, \"width\": 720.0, \"plugins\": [{\"type\": \"reset\"}, {\"enabled\": false, \"button\": true, \"type\": \"zoom\"}, {\"enabled\": false, \"button\": true, \"type\": \"boxzoom\"}], \"data\": {\"data01\": [[2.0, -7.0], [3.0, -5.0], [4.0, -5.0], [5.0, -4.0], [6.0, -4.0], [7.0, -3.0], [8.0, -3.0], [9.0, -3.0], [10.0, -3.0], [11.0, -3.0], [12.0, -3.0], [13.0, -3.0], [14.0, -3.0], [15.0, -3.0], [16.0, -2.0], [17.0, -2.0], [18.0, -2.0], [19.0, -2.0], [20.0, -2.0], [21.0, -2.0], [22.0, -2.0], [23.0, -2.0], [24.0, -2.0], [25.0, -2.0], [26.0, -2.0], [27.0, -2.0], [28.0, -2.0], [29.0, -2.0], [30.0, -2.0], [31.0, -2.0], [32.0, -2.0], [33.0, -2.0], [34.0, -1.0], [35.0, -1.0]]}, \"id\": \"el104454592408080\"});\n",
       "            })\n",
       "         });\n",
       "}\n",
       "</script>"
      ],
      "text/plain": [
       "<matplotlib.figure.Figure at 0x111ba9610>"
      ]
     },
     "metadata": {},
     "output_type": "display_data"
    }
   ],
   "source": [
    "optimize_5_target = [linktargetdct[N][0] for N in user_range]\n",
    "figure(figsize=(9, 6))\n",
    "plot(user_range, optimize_5_target, lw=2.0)\n",
    "ylim([-7, 0])\n",
    "xlabel('Number of Users', fontsize=16)\n",
    "ylabel('Log10(P(Fail))', fontsize=16, labelpad=15)\n",
    "title('Downlink/Uplink Target P(Fail) for Max Optimization', fontsize=20)\n",
    "savefig('optimize_5_target.pdf', bbox='tight')"
   ]
  },
  {
   "cell_type": "markdown",
   "metadata": {},
   "source": [
    "# Optimize 2"
   ]
  },
  {
   "cell_type": "code",
   "execution_count": 163,
   "metadata": {
    "collapsed": true
   },
   "outputs": [],
   "source": [
    "protocol_target = 10**(-9)\n",
    "rx_SNR_range = arange(0, 12, 0.01)\n",
    "tx_SNR_range = arange(5, -10*log10(protocol_target), 0.01)\n",
    "protocolbit = 4*10**4\n",
    "user_range = arange(2, 36, 1)\n",
    "\n",
    "filepath_down = \"../data_tables/hs_rs_downlink/n\"\n",
    "filepath_up = \"../data_tables/hs_rs_uplink/n\"\n",
    "extension = \".in\""
   ]
  },
  {
   "cell_type": "code",
   "execution_count": 168,
   "metadata": {
    "collapsed": false
   },
   "outputs": [
    {
     "name": "stdout",
     "output_type": "stream",
     "text": [
      "(-0.1000000000000002, 47.289999999999942, 13333.333333333334, 13333.333333333334, 13333.333333333334)\n"
     ]
    }
   ],
   "source": [
    "print optimize_2(2, rx_SNR_range, arange(47, -10*log10(protocol_target), 0.01), filepath_down, filepath_up, protocolbit)"
   ]
  },
  {
   "cell_type": "code",
   "execution_count": null,
   "metadata": {
    "collapsed": true
   },
   "outputs": [],
   "source": []
  }
 ],
 "metadata": {
  "kernelspec": {
   "display_name": "Python 2",
   "language": "python",
   "name": "python2"
  },
  "language_info": {
   "codemirror_mode": {
    "name": "ipython",
    "version": 2
   },
   "file_extension": ".py",
   "mimetype": "text/x-python",
   "name": "python",
   "nbconvert_exporter": "python",
   "pygments_lexer": "ipython2",
   "version": "2.7.11"
  }
 },
 "nbformat": 4,
 "nbformat_minor": 0
}
