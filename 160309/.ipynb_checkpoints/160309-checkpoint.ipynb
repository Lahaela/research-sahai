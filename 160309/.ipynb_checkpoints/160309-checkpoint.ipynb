{
 "cells": [
  {
   "cell_type": "code",
   "execution_count": 49,
   "metadata": {
    "collapsed": false
   },
   "outputs": [
    {
     "name": "stdout",
     "output_type": "stream",
     "text": [
      "Populating the interactive namespace from numpy and matplotlib\n"
     ]
    }
   ],
   "source": [
    "%pylab inline\n",
    "from __future__ import division\n",
    "import scipy as sp\n",
    "from scipy import stats\n",
    "import csv\n",
    "from decimal import *\n",
    "import mpld3\n",
    "mpld3.enable_notebook()"
   ]
  },
  {
   "cell_type": "code",
   "execution_count": 2,
   "metadata": {
    "collapsed": true
   },
   "outputs": [],
   "source": [
    "# from operator import mul    # or mul=lambda x,y:x*y\n",
    "# from fractions import Fraction\n",
    "\n",
    "import operator as op\n",
    "def nCr(n, r):\n",
    "    r = min(r, n-r)\n",
    "    if r == 0: return 1\n",
    "    numer = reduce(op.mul, xrange(n, n-r, -1))\n",
    "    denom = reduce(op.mul, xrange(1, r+1))\n",
    "    return numer//denom\n",
    "\n",
    "# def nCr(n,r): \n",
    "#   return int( reduce(mul, (Fraction(n-i, i+1) for i in range(r)), 1) )\n",
    "\n",
    "# def nCr(n,r):\n",
    "#     f = math.factorial\n",
    "#     return f(n) / f(r) / f(n-r)\n",
    "\n",
    "# Use python round\n",
    "# def round(x, n):\n",
    "#     return int(np.rint(a * 10**n)) / 10.**n"
   ]
  },
  {
   "cell_type": "code",
   "execution_count": 3,
   "metadata": {
    "collapsed": true
   },
   "outputs": [],
   "source": [
    "# 4,3 Hamming Code - Reed Solomon Wrap\n",
    "def hs_rs_table(rate, blocklength):\n",
    "    k = (1-rate)*blocklength\n",
    "    msg = rate*blocklength\n",
    "    res = {}\n",
    "    op_SNR = 1\n",
    "    while op_SNR < 10**(5): # 10 = 100 dB\n",
    "        pbitdrop = 0.5*math.erfc(sqrt(op_SNR/2))\n",
    "        hcerr = 1 - ((1-pbitdrop)**7 + 7*pbitdrop*(1-pbitdrop)**6)\n",
    "        hcf = 1 - (1-hcerr)**2\n",
    "        reeddrop = sum([nCr(blocklength, d)* hcf**d *(1-hcf)**(blocklength-d) for d in range(int(k/2)+1, blocklength)])\n",
    "        res[op_SNR] = reeddrop\n",
    "        op_SNR *= 10**(0.01)\n",
    "    return res\n",
    "    \n",
    "def print_table_csv(table, filename):\n",
    "    ks = sorted(table.keys())\n",
    "    vs = [table[k] for k in ks]\n",
    "    with open(filename+'.csv', 'wb') as csvfile:\n",
    "        writer = csv.writer(csvfile, delimiter=',')\n",
    "        writer.writerow(['SNR (dB)', 'P(fail)'])\n",
    "        for rowid in xrange(len(ks)):\n",
    "            writer.writerow([str(log10(ks[rowid])),str(vs[rowid])])\n",
    "            "
   ]
  },
  {
   "cell_type": "code",
   "execution_count": 5,
   "metadata": {
    "collapsed": false
   },
   "outputs": [
    {
     "name": "stdout",
     "output_type": "stream",
     "text": [
      "[ 1  2  3  4  5  6  7  8  9 10 11 12 13 14 15 16 17 18 19 20 21 22 23 24 25\n",
      " 26 27 28 29 30 31 32 33 34 35]\n",
      "[ 0.016  0.032  0.048  0.064  0.08   0.096  0.112  0.128  0.144  0.16\n",
      "  0.176  0.192  0.208  0.224  0.24   0.256  0.272  0.288  0.304  0.32\n",
      "  0.336  0.352  0.368  0.384  0.4    0.416  0.432  0.448  0.464  0.48\n",
      "  0.496  0.512  0.528  0.544  0.56 ]\n"
     ]
    }
   ],
   "source": [
    "num_nodes = arange(1, 36, 1)\n",
    "rates = num_nodes*160/10000\n",
    "print(num_nodes)\n",
    "print(rates)"
   ]
  },
  {
   "cell_type": "code",
   "execution_count": 40,
   "metadata": {
    "collapsed": true
   },
   "outputs": [],
   "source": [
    "# Table Generation\n",
    "test = hs_rs_table(35*160/10000, 256)\n",
    "print_table_csv(test, 'lookup_tables/n35')"
   ]
  },
  {
   "cell_type": "code",
   "execution_count": 41,
   "metadata": {
    "collapsed": true
   },
   "outputs": [],
   "source": [
    "def load_table(filename):\n",
    "    codetable = {}\n",
    "    with open(filename, 'rb') as csvfile:\n",
    "        reader = csv.reader(csvfile, delimiter=',')\n",
    "        for row in reader:\n",
    "            if row[0] == 'SNR (dB)':\n",
    "                continue\n",
    "            codetable[Decimal(row[0])] = float(row[1])\n",
    "    return codetable\n",
    "\n",
    "def load_ordered_table(filename):\n",
    "    codetable = []\n",
    "    with open(filename, 'rb') as csvfile:\n",
    "        reader = csv.reader(csvfile, delimiter=',')\n",
    "        for row in reader:\n",
    "            if row[0] == 'SNR (dB)':\n",
    "                continue\n",
    "            codetable.append((float(row[0]), float(row[1])))\n",
    "    return codetable"
   ]
  },
  {
   "cell_type": "code",
   "execution_count": 42,
   "metadata": {
    "collapsed": true
   },
   "outputs": [],
   "source": [
    "def lookup(codetable, kmin, kmax, snr):\n",
    "    if snr < kmin: return 1.0\n",
    "    elif snr > kmax: return 0.0\n",
    "    return codetable[snr]\n",
    "\n",
    "def snr_lookup(codetable, kmin, kmax, opSNR, dSNR):\n",
    "    op_SNR = Decimal(str(opSNR))\n",
    "    if op_SNR < kmin: return 1.0\n",
    "    elif op_SNR > kmax: return 0.0\n",
    "    if op_SNR in codetable:\n",
    "        return codetable[op_SNR]\n",
    "    lsnr = op_SNR.quantize(Decimal(str(dSNR)), rounding=ROUND_DOWN)\n",
    "    rsnr = op_SNR.quantize(Decimal(str(dSNR)), rounding=ROUND_UP)\n",
    "    lp, rp = lookup(codetable, kmin, kmax, lsnr), lookup(codetable, kmin, kmax, rsnr)\n",
    "    return (rp-lp)*(opSNR-float(lsnr))/dSNR + lp"
   ]
  },
  {
   "cell_type": "code",
   "execution_count": 43,
   "metadata": {
    "collapsed": true
   },
   "outputs": [],
   "source": [
    "def p_single(codetable, kmin, kmax, op_SNR, endpoint, dfade):\n",
    "    fadexp = sp.stats.expon()\n",
    "    fade = arange(dfade, endpoint, dfade)\n",
    "    return dfade*sum([snr_lookup(codetable, kmin, kmax, op_SNR+log10(f), 0.01) * fadexp.pdf(f) for f in fade])"
   ]
  },
  {
   "cell_type": "code",
   "execution_count": 44,
   "metadata": {
    "collapsed": true
   },
   "outputs": [],
   "source": [
    "def p_combo(codetable, kmin, kmax, a, op_SNR, endpoint, dfade):\n",
    "    if a == 0:\n",
    "        return 1.0\n",
    "    fadexp = sp.stats.erlang(a)\n",
    "    # 0.01 = dSNR for 4,3 Hamming Code table\n",
    "    fade = arange(0, endpoint, dfade)\n",
    "    return sum([snr_lookup(codetable, kmin, kmax, op_SNR+log10(f), 0.01) * fadexp.pdf(f) * dfade for f in fade])"
   ]
  },
  {
   "cell_type": "code",
   "execution_count": 45,
   "metadata": {
    "collapsed": true
   },
   "outputs": [],
   "source": [
    "# N = num_nodes\n",
    "def p_protocol(codetable, kmin, kmax, N, op_SNR, endpoint, dfade):\n",
    "    psingle = p_single(codetable, kmin, kmax, op_SNR, endpoint, dfade)\n",
    "#     print('psingle', psingle, 'pcombo, ')\n",
    "    return sum([nCr(N, a) * (1-psingle)**a * psingle**(N-a) * (1-(1-p_combo(codetable, kmin, kmax, a, op_SNR, endpoint, dfade))**(N-a)) for a in range(N)])"
   ]
  },
  {
   "cell_type": "code",
   "execution_count": 54,
   "metadata": {
    "collapsed": false
   },
   "outputs": [
    {
     "ename": "KeyboardInterrupt",
     "evalue": "",
     "output_type": "error",
     "traceback": [
      "\u001b[0;31m---------------------------------------------------------------------------\u001b[0m",
      "\u001b[0;31mKeyboardInterrupt\u001b[0m                         Traceback (most recent call last)",
      "\u001b[0;32m<ipython-input-54-c78b3f3dfaf4>\u001b[0m in \u001b[0;36m<module>\u001b[0;34m()\u001b[0m\n\u001b[1;32m      9\u001b[0m     \u001b[0;32mwhile\u001b[0m \u001b[0mpprotocol\u001b[0m \u001b[0;34m>\u001b[0m \u001b[0;36m10\u001b[0m\u001b[0;34m**\u001b[0m\u001b[0;34m(\u001b[0m\u001b[0;34m-\u001b[0m\u001b[0;36m4\u001b[0m\u001b[0;34m)\u001b[0m\u001b[0;34m:\u001b[0m\u001b[0;34m\u001b[0m\u001b[0m\n\u001b[1;32m     10\u001b[0m \u001b[0;31m#         pprotocol = p_protocol(codetable, 0.0, 5.0, num_nodes, SNR, 1, 0.1)\u001b[0m\u001b[0;34m\u001b[0m\u001b[0;34m\u001b[0m\u001b[0m\n\u001b[0;32m---> 11\u001b[0;31m         \u001b[0mpprotocol\u001b[0m \u001b[0;34m=\u001b[0m \u001b[0mp_protocol\u001b[0m\u001b[0;34m(\u001b[0m\u001b[0mcodetable\u001b[0m\u001b[0;34m,\u001b[0m \u001b[0;36m0.0\u001b[0m\u001b[0;34m,\u001b[0m \u001b[0;36m5.0\u001b[0m\u001b[0;34m,\u001b[0m \u001b[0mnum_nodes\u001b[0m\u001b[0;34m,\u001b[0m \u001b[0mSNR\u001b[0m\u001b[0;34m,\u001b[0m \u001b[0;36m10\u001b[0m\u001b[0;34m,\u001b[0m \u001b[0;36m0.005\u001b[0m\u001b[0;34m)\u001b[0m\u001b[0;34m\u001b[0m\u001b[0m\n\u001b[0m\u001b[1;32m     12\u001b[0m     \u001b[0mnominal_needed\u001b[0m\u001b[0;34m.\u001b[0m\u001b[0mappend\u001b[0m\u001b[0;34m(\u001b[0m\u001b[0mSNR\u001b[0m\u001b[0;34m)\u001b[0m\u001b[0;34m\u001b[0m\u001b[0m\n",
      "\u001b[0;32m<ipython-input-45-42f415ef9751>\u001b[0m in \u001b[0;36mp_protocol\u001b[0;34m(codetable, kmin, kmax, N, op_SNR, endpoint, dfade)\u001b[0m\n\u001b[1;32m      1\u001b[0m \u001b[0;31m# N = num_nodes\u001b[0m\u001b[0;34m\u001b[0m\u001b[0;34m\u001b[0m\u001b[0m\n\u001b[1;32m      2\u001b[0m \u001b[0;32mdef\u001b[0m \u001b[0mp_protocol\u001b[0m\u001b[0;34m(\u001b[0m\u001b[0mcodetable\u001b[0m\u001b[0;34m,\u001b[0m \u001b[0mkmin\u001b[0m\u001b[0;34m,\u001b[0m \u001b[0mkmax\u001b[0m\u001b[0;34m,\u001b[0m \u001b[0mN\u001b[0m\u001b[0;34m,\u001b[0m \u001b[0mop_SNR\u001b[0m\u001b[0;34m,\u001b[0m \u001b[0mendpoint\u001b[0m\u001b[0;34m,\u001b[0m \u001b[0mdfade\u001b[0m\u001b[0;34m)\u001b[0m\u001b[0;34m:\u001b[0m\u001b[0;34m\u001b[0m\u001b[0m\n\u001b[0;32m----> 3\u001b[0;31m     \u001b[0mpsingle\u001b[0m \u001b[0;34m=\u001b[0m \u001b[0mp_single\u001b[0m\u001b[0;34m(\u001b[0m\u001b[0mcodetable\u001b[0m\u001b[0;34m,\u001b[0m \u001b[0mkmin\u001b[0m\u001b[0;34m,\u001b[0m \u001b[0mkmax\u001b[0m\u001b[0;34m,\u001b[0m \u001b[0mop_SNR\u001b[0m\u001b[0;34m,\u001b[0m \u001b[0mendpoint\u001b[0m\u001b[0;34m,\u001b[0m \u001b[0mdfade\u001b[0m\u001b[0;34m)\u001b[0m\u001b[0;34m\u001b[0m\u001b[0m\n\u001b[0m\u001b[1;32m      4\u001b[0m \u001b[0;31m#     print('psingle', psingle, 'pcombo, ')\u001b[0m\u001b[0;34m\u001b[0m\u001b[0;34m\u001b[0m\u001b[0m\n\u001b[1;32m      5\u001b[0m     \u001b[0;32mreturn\u001b[0m \u001b[0msum\u001b[0m\u001b[0;34m(\u001b[0m\u001b[0;34m[\u001b[0m\u001b[0mnCr\u001b[0m\u001b[0;34m(\u001b[0m\u001b[0mN\u001b[0m\u001b[0;34m,\u001b[0m \u001b[0ma\u001b[0m\u001b[0;34m)\u001b[0m \u001b[0;34m*\u001b[0m \u001b[0;34m(\u001b[0m\u001b[0;36m1\u001b[0m\u001b[0;34m-\u001b[0m\u001b[0mpsingle\u001b[0m\u001b[0;34m)\u001b[0m\u001b[0;34m**\u001b[0m\u001b[0ma\u001b[0m \u001b[0;34m*\u001b[0m \u001b[0mpsingle\u001b[0m\u001b[0;34m**\u001b[0m\u001b[0;34m(\u001b[0m\u001b[0mN\u001b[0m\u001b[0;34m-\u001b[0m\u001b[0ma\u001b[0m\u001b[0;34m)\u001b[0m \u001b[0;34m*\u001b[0m \u001b[0;34m(\u001b[0m\u001b[0;36m1\u001b[0m\u001b[0;34m-\u001b[0m\u001b[0;34m(\u001b[0m\u001b[0;36m1\u001b[0m\u001b[0;34m-\u001b[0m\u001b[0mp_combo\u001b[0m\u001b[0;34m(\u001b[0m\u001b[0mcodetable\u001b[0m\u001b[0;34m,\u001b[0m \u001b[0mkmin\u001b[0m\u001b[0;34m,\u001b[0m \u001b[0mkmax\u001b[0m\u001b[0;34m,\u001b[0m \u001b[0ma\u001b[0m\u001b[0;34m,\u001b[0m \u001b[0mop_SNR\u001b[0m\u001b[0;34m,\u001b[0m \u001b[0mendpoint\u001b[0m\u001b[0;34m,\u001b[0m \u001b[0mdfade\u001b[0m\u001b[0;34m)\u001b[0m\u001b[0;34m)\u001b[0m\u001b[0;34m**\u001b[0m\u001b[0;34m(\u001b[0m\u001b[0mN\u001b[0m\u001b[0;34m-\u001b[0m\u001b[0ma\u001b[0m\u001b[0;34m)\u001b[0m\u001b[0;34m)\u001b[0m \u001b[0;32mfor\u001b[0m \u001b[0ma\u001b[0m \u001b[0;32min\u001b[0m \u001b[0mrange\u001b[0m\u001b[0;34m(\u001b[0m\u001b[0mN\u001b[0m\u001b[0;34m)\u001b[0m\u001b[0;34m]\u001b[0m\u001b[0;34m)\u001b[0m\u001b[0;34m\u001b[0m\u001b[0m\n",
      "\u001b[0;32m<ipython-input-43-4a294b579fd2>\u001b[0m in \u001b[0;36mp_single\u001b[0;34m(codetable, kmin, kmax, op_SNR, endpoint, dfade)\u001b[0m\n\u001b[1;32m      2\u001b[0m     \u001b[0mfadexp\u001b[0m \u001b[0;34m=\u001b[0m \u001b[0msp\u001b[0m\u001b[0;34m.\u001b[0m\u001b[0mstats\u001b[0m\u001b[0;34m.\u001b[0m\u001b[0mexpon\u001b[0m\u001b[0;34m(\u001b[0m\u001b[0;34m)\u001b[0m\u001b[0;34m\u001b[0m\u001b[0m\n\u001b[1;32m      3\u001b[0m     \u001b[0mfade\u001b[0m \u001b[0;34m=\u001b[0m \u001b[0marange\u001b[0m\u001b[0;34m(\u001b[0m\u001b[0mdfade\u001b[0m\u001b[0;34m,\u001b[0m \u001b[0mendpoint\u001b[0m\u001b[0;34m,\u001b[0m \u001b[0mdfade\u001b[0m\u001b[0;34m)\u001b[0m\u001b[0;34m\u001b[0m\u001b[0m\n\u001b[0;32m----> 4\u001b[0;31m     \u001b[0;32mreturn\u001b[0m \u001b[0mdfade\u001b[0m\u001b[0;34m*\u001b[0m\u001b[0msum\u001b[0m\u001b[0;34m(\u001b[0m\u001b[0;34m[\u001b[0m\u001b[0msnr_lookup\u001b[0m\u001b[0;34m(\u001b[0m\u001b[0mcodetable\u001b[0m\u001b[0;34m,\u001b[0m \u001b[0mkmin\u001b[0m\u001b[0;34m,\u001b[0m \u001b[0mkmax\u001b[0m\u001b[0;34m,\u001b[0m \u001b[0mop_SNR\u001b[0m\u001b[0;34m+\u001b[0m\u001b[0mlog10\u001b[0m\u001b[0;34m(\u001b[0m\u001b[0mf\u001b[0m\u001b[0;34m)\u001b[0m\u001b[0;34m,\u001b[0m \u001b[0;36m0.01\u001b[0m\u001b[0;34m)\u001b[0m \u001b[0;34m*\u001b[0m \u001b[0mfadexp\u001b[0m\u001b[0;34m.\u001b[0m\u001b[0mpdf\u001b[0m\u001b[0;34m(\u001b[0m\u001b[0mf\u001b[0m\u001b[0;34m)\u001b[0m \u001b[0;32mfor\u001b[0m \u001b[0mf\u001b[0m \u001b[0;32min\u001b[0m \u001b[0mfade\u001b[0m\u001b[0;34m]\u001b[0m\u001b[0;34m)\u001b[0m\u001b[0;34m\u001b[0m\u001b[0m\n\u001b[0m",
      "\u001b[0;32m<ipython-input-42-e8216d5b9858>\u001b[0m in \u001b[0;36msnr_lookup\u001b[0;34m(codetable, kmin, kmax, opSNR, dSNR)\u001b[0m\n\u001b[1;32m      5\u001b[0m \u001b[0;34m\u001b[0m\u001b[0m\n\u001b[1;32m      6\u001b[0m \u001b[0;32mdef\u001b[0m \u001b[0msnr_lookup\u001b[0m\u001b[0;34m(\u001b[0m\u001b[0mcodetable\u001b[0m\u001b[0;34m,\u001b[0m \u001b[0mkmin\u001b[0m\u001b[0;34m,\u001b[0m \u001b[0mkmax\u001b[0m\u001b[0;34m,\u001b[0m \u001b[0mopSNR\u001b[0m\u001b[0;34m,\u001b[0m \u001b[0mdSNR\u001b[0m\u001b[0;34m)\u001b[0m\u001b[0;34m:\u001b[0m\u001b[0;34m\u001b[0m\u001b[0m\n\u001b[0;32m----> 7\u001b[0;31m     \u001b[0mop_SNR\u001b[0m \u001b[0;34m=\u001b[0m \u001b[0mDecimal\u001b[0m\u001b[0;34m(\u001b[0m\u001b[0mstr\u001b[0m\u001b[0;34m(\u001b[0m\u001b[0mopSNR\u001b[0m\u001b[0;34m)\u001b[0m\u001b[0;34m)\u001b[0m\u001b[0;34m\u001b[0m\u001b[0m\n\u001b[0m\u001b[1;32m      8\u001b[0m     \u001b[0;32mif\u001b[0m \u001b[0mop_SNR\u001b[0m \u001b[0;34m<\u001b[0m \u001b[0mkmin\u001b[0m\u001b[0;34m:\u001b[0m \u001b[0;32mreturn\u001b[0m \u001b[0;36m1.0\u001b[0m\u001b[0;34m\u001b[0m\u001b[0m\n\u001b[1;32m      9\u001b[0m     \u001b[0;32melif\u001b[0m \u001b[0mop_SNR\u001b[0m \u001b[0;34m>\u001b[0m \u001b[0mkmax\u001b[0m\u001b[0;34m:\u001b[0m \u001b[0;32mreturn\u001b[0m \u001b[0;36m0.0\u001b[0m\u001b[0;34m\u001b[0m\u001b[0m\n",
      "\u001b[0;32m/Users/leahdickstein/anaconda/lib/python2.7/decimal.pyc\u001b[0m in \u001b[0;36m__new__\u001b[0;34m(cls, value, context)\u001b[0m\n\u001b[1;32m    540\u001b[0m         \u001b[0;31m# REs insist on real strings, so we can too.\u001b[0m\u001b[0;34m\u001b[0m\u001b[0;34m\u001b[0m\u001b[0m\n\u001b[1;32m    541\u001b[0m         \u001b[0;32mif\u001b[0m \u001b[0misinstance\u001b[0m\u001b[0;34m(\u001b[0m\u001b[0mvalue\u001b[0m\u001b[0;34m,\u001b[0m \u001b[0mbasestring\u001b[0m\u001b[0;34m)\u001b[0m\u001b[0;34m:\u001b[0m\u001b[0;34m\u001b[0m\u001b[0m\n\u001b[0;32m--> 542\u001b[0;31m             \u001b[0mm\u001b[0m \u001b[0;34m=\u001b[0m \u001b[0m_parser\u001b[0m\u001b[0;34m(\u001b[0m\u001b[0mvalue\u001b[0m\u001b[0;34m.\u001b[0m\u001b[0mstrip\u001b[0m\u001b[0;34m(\u001b[0m\u001b[0;34m)\u001b[0m\u001b[0;34m)\u001b[0m\u001b[0;34m\u001b[0m\u001b[0m\n\u001b[0m\u001b[1;32m    543\u001b[0m             \u001b[0;32mif\u001b[0m \u001b[0mm\u001b[0m \u001b[0;32mis\u001b[0m \u001b[0mNone\u001b[0m\u001b[0;34m:\u001b[0m\u001b[0;34m\u001b[0m\u001b[0m\n\u001b[1;32m    544\u001b[0m                 \u001b[0;32mif\u001b[0m \u001b[0mcontext\u001b[0m \u001b[0;32mis\u001b[0m \u001b[0mNone\u001b[0m\u001b[0;34m:\u001b[0m\u001b[0;34m\u001b[0m\u001b[0m\n",
      "\u001b[0;31mKeyboardInterrupt\u001b[0m: "
     ]
    }
   ],
   "source": [
    "# Hockey Stick Plot\n",
    "\n",
    "nominal_needed = []\n",
    "for num_nodes in range(1, 35):\n",
    "    filename = 'lookup_tables/n' + str(num_nodes) + '.csv'\n",
    "    codetable = load_table(filename)\n",
    "    SNR = 0.005\n",
    "    pprotocol = 1.0\n",
    "    while pprotocol > 10**(-4):\n",
    "#         pprotocol = p_protocol(codetable, 0.0, 5.0, num_nodes, SNR, 1, 0.1)\n",
    "        pprotocol = p_protocol(codetable, 0.0, 5.0, num_nodes, SNR, 10, 0.005)\n",
    "    nominal_needed.append(SNR)\n"
   ]
  },
  {
   "cell_type": "code",
   "execution_count": 53,
   "metadata": {
    "collapsed": false
   },
   "outputs": [
    {
     "name": "stdout",
     "output_type": "stream",
     "text": [
      "[]\n"
     ]
    }
   ],
   "source": [
    "print(nominal_needed)"
   ]
  },
  {
   "cell_type": "code",
   "execution_count": null,
   "metadata": {
    "collapsed": true
   },
   "outputs": [],
   "source": [
    "plot(range(1, 35), nominal_needed, lw=2.0)\n",
    "xlabel('Number of Nodes', fontsize=20)\n",
    "ylabel('Nominal SNR Needed (dB)', fontsize=20)"
   ]
  }
 ],
 "metadata": {
  "kernelspec": {
   "display_name": "Python 2",
   "language": "python",
   "name": "python2"
  },
  "language_info": {
   "codemirror_mode": {
    "name": "ipython",
    "version": 2
   },
   "file_extension": ".py",
   "mimetype": "text/x-python",
   "name": "python",
   "nbconvert_exporter": "python",
   "pygments_lexer": "ipython2",
   "version": "2.7.11"
  }
 },
 "nbformat": 4,
 "nbformat_minor": 0
}
