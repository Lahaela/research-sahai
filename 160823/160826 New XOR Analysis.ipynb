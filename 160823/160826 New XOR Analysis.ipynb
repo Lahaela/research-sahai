{
 "cells": [
  {
   "cell_type": "code",
   "execution_count": 1,
   "metadata": {
    "collapsed": false
   },
   "outputs": [
    {
     "name": "stdout",
     "output_type": "stream",
     "text": [
      "Populating the interactive namespace from numpy and matplotlib\n"
     ]
    }
   ],
   "source": [
    "%pylab inline\n",
    "from __future__ import division\n",
    "import scipy as sp\n",
    "from scipy import stats\n",
    "from scipy.signal import argrelextrema\n",
    "from scipy.interpolate import interp1d\n",
    "import operator as op\n",
    "from decimal import *\n",
    "import pickle\n",
    "import mpld3\n",
    "mpld3.enable_notebook()"
   ]
  },
  {
   "cell_type": "code",
   "execution_count": 2,
   "metadata": {
    "collapsed": true
   },
   "outputs": [],
   "source": [
    "%run ../cow.py\n",
    "%run ../optimize_pkg.py"
   ]
  },
  {
   "cell_type": "code",
   "execution_count": 3,
   "metadata": {
    "collapsed": true
   },
   "outputs": [],
   "source": [
    "filepath_down = \"../data_tables/hs_rs_downlink/n\"\n",
    "filepath_up = \"../data_tables/hs_rs_uplink/n\""
   ]
  },
  {
   "cell_type": "code",
   "execution_count": 5,
   "metadata": {
    "collapsed": true
   },
   "outputs": [],
   "source": [
    "protocol_target = 10**(-9)\n",
    "rx_SNR_range = arange(0, 12, 0.1)\n",
    "tx_SNR_range = arange(5, -10*log10(protocol_target), 0.01)\n",
    "protocolbit = 4*10**4\n",
    "start_node, end_node = 2, 36\n",
    "user_range = arange(start_node, end_node, 1)"
   ]
  },
  {
   "cell_type": "markdown",
   "metadata": {},
   "source": [
    "## Optimize 3"
   ]
  },
  {
   "cell_type": "code",
   "execution_count": 6,
   "metadata": {
    "collapsed": false
   },
   "outputs": [
    {
     "name": "stdout",
     "output_type": "stream",
     "text": [
      "2 [  4.74000000e+01   0.00000000e+00   3.46504057e-21   1.31067068e-11\n",
      "   1.31067068e-11]\n",
      "3 [  3.42000000e+01   0.00000000e+00   6.25178513e-19   1.90343646e-07\n",
      "   1.90343646e-07]\n",
      "4 [  2.72000000e+01   1.00000000e+00   2.13663220e-50   7.74306133e-14\n",
      "   7.74306133e-14]\n",
      "5 [  2.28000000e+01   1.00000000e+00   5.11849896e-46   1.59367810e-10\n",
      "   1.59367810e-10]\n",
      "6 [  2.08000000e+01   2.00000000e+00   1.06512976e-93   6.80487300e-17\n",
      "   6.80487300e-17]\n",
      "7 [  1.86000000e+01   2.00000000e+00   3.34237860e-87   2.28382042e-14\n",
      "   2.28382042e-14]\n",
      "8 [  1.69000000e+01   2.00000000e+00   6.84895214e-81   1.79269191e-11\n",
      "   1.79269191e-11]\n",
      "9 [  1.58000000e+01   2.00000000e+00   1.24872137e-75   4.88241156e-10\n",
      "   4.88241156e-10]\n",
      "10 [  1.55000000e+001   3.00000000e+000   2.73429275e-132   1.69747638e-014\n",
      "   1.69747638e-014]\n",
      "11 [  1.46000000e+001   3.00000000e+000   1.43466523e-123   1.09438634e-012\n",
      "   1.09438634e-012]\n",
      "12 [  1.39000000e+001   3.00000000e+000   2.98180582e-116   6.84675633e-011\n",
      "   6.84675633e-011]\n",
      "13 [  1.38000000e+001   3.00000000e+000   6.69315868e-108   3.70914022e-010\n",
      "   3.70914022e-010]\n",
      "14 [  1.36000000e+001   4.00000000e+000   3.28870905e-170   1.20471352e-014\n",
      "   1.20471352e-014]\n",
      "15 [  1.31000000e+001   4.00000000e+000   2.67324309e-160   9.69888057e-012\n",
      "   9.69888057e-012]\n",
      "16 [  1.27000000e+001   4.00000000e+000   6.14117552e-149   4.90068630e-012\n",
      "   4.90068630e-012]\n",
      "17 [  1.26000000e+001   4.00000000e+000   8.45459957e-138   1.61925300e-010\n",
      "   1.61925300e-010]\n",
      "18 [  1.29000000e+001   5.00000000e+000   9.91138439e-203   1.52141220e-013\n",
      "   1.52141220e-013]\n",
      "19 [  1.26000000e+001   5.00000000e+000   1.43880848e-187   1.87370607e-011\n",
      "   1.87370607e-011]\n",
      "20 [  1.23000000e+001   5.00000000e+000   1.18096328e-172   1.07202646e-011\n",
      "   1.07202646e-011]\n",
      "21 [  1.30000000e+01   6.00000000e+00   0.00000000e+00   1.50780921e-13\n",
      "   1.50780921e-13]\n",
      "22 [  1.27000000e+001   6.00000000e+000   7.58724540e-218   1.16547145e-013\n",
      "   1.16547145e-013]\n",
      "23 [  1.28000000e+001   6.00000000e+000   3.45314375e-198   7.78628713e-011\n",
      "   7.78628713e-011]\n",
      "24 [  1.25000000e+001   6.00000000e+000   1.40355787e-181   6.23080619e-011\n",
      "   6.23080619e-011]\n",
      "25 [  1.33000000e+001   7.00000000e+000   7.56629988e-233   5.11396847e-011\n",
      "   5.11396847e-011]\n",
      "26 [  1.30000000e+001   7.00000000e+000   2.85344803e-207   4.30662093e-011\n",
      "   4.30662093e-011]\n",
      "27 [  1.28000000e+001   7.00000000e+000   1.20006837e-185   3.58895175e-011\n",
      "   3.58895175e-011]\n",
      "28 [  1.45000000e+01   9.00000000e+00   0.00000000e+00   6.90059605e-13\n",
      "   6.90059605e-13]\n",
      "29 [  1.44000000e+001   9.00000000e+000   7.03993409e-259   6.08876151e-013\n",
      "   6.08876151e-013]\n",
      "30 [  1.42000000e+001   9.00000000e+000   4.74548467e-222   5.32766657e-013\n",
      "   5.32766657e-013]\n",
      "31 [  1.67000000e+01   1.10000000e+01   0.00000000e+00   6.45133946e-11\n",
      "   6.45133946e-11]\n",
      "32 [  1.65000000e+01   1.10000000e+01   0.00000000e+00   6.02125016e-11\n",
      "   6.02125016e-11]\n",
      "33 [  1.65000000e+01   1.10000000e+01   0.00000000e+00   6.02125016e-11\n",
      "   6.02125016e-11]\n",
      "34 [  1.66000000e+01   1.10000000e+01   0.00000000e+00   6.02125016e-11\n",
      "   6.02125016e-11]\n",
      "35 [  1.64000000e+01   1.10000000e+01   0.00000000e+00   5.59116087e-11\n",
      "   5.59116087e-11]\n",
      "CPU times: user 5min 43s, sys: 3.87 s, total: 5min 47s\n",
      "Wall time: 5min 51s\n"
     ]
    }
   ],
   "source": [
    "%%time\n",
    "filepath_down = \"../data_tables/hs_rs_downlink/n\"\n",
    "filepath_up = \"../data_tables/hs_rs_uplink/n\"\n",
    "\n",
    "optimize_3_data = zeros((34, 5))\n",
    "rx_SNR_start = -1\n",
    "d_actual_SNR = 1\n",
    "tx_SNR_range = arange(12, 50, 0.1)\n",
    "for N in user_range:\n",
    "    optimize_3_data[N-user_range[0]] = optimize_3(N, rx_SNR_start, tx_SNR_range, filepath_down, filepath_up, protocolbit, d_actual_SNR)\n",
    "    print N, optimize_3_data[N-user_range[0]]\n",
    "    \n",
    "# print optimize_3_data"
   ]
  },
  {
   "cell_type": "markdown",
   "metadata": {},
   "source": [
    "# XOR Analysis\n",
    "\n",
    "Search for tSNR, rSNR1, rSNR2, rSNR3\n",
    "\n",
    "$$h_1 = 10^{\\frac{rSNR1 - tSNR}{10}} $$\n",
    "same for $h_2$, $h_3$\n",
    "\n",
    "Assume rSNR1 = rSNR2, therefore h1 = h2 therefore $p_{f1} = p_{f2}$\n",
    "\n",
    "$$p_{f1} = 1 - \\text{exp }(-h1)$$\n",
    "\n",
    "$G_c =$ nodes with good fade to Controller  \n",
    "- Note: if you're good in downlink you're good in uplink because reciprocity, but not necessarily good in XOR because of different thresholds  \n",
    "E = everyone else\n",
    "\n",
    "$\\tilde{A_d}$ The set of nodes that is ultimately successful  \n",
    "- $\\tilde{A_{ds}}$ Fade good enough for XOR threshold\n",
    "- $\\tilde{A_{di}}$ Fade good enough for DU but not good enough for XOR\n",
    "- - If XOR h < DU h then $\\tilde{A_{di}}$ will be empty\n",
    "\n",
    "$\\hat{A_d}$ has downlink message but uplink failed because of additive noise\n",
    "- $\\hat{A_{ds}} \\;, \\; \\hat{A_{di}}$\n",
    "\n",
    "$\\tilde{B_u}$ failed in downlink but has uplink messages (of itself and potentially other slaves)\n",
    "\n",
    "$\\hat{B_u}$ Fade is good but additive noise was bad both times (slave $\\leftrightarrow$ controller), in XOR this set can't talk and succeed alone (because _both_ downlink and uplink won't happen)  \n",
    "\n",
    "Note: the controller can talk if it can XOR, timeslots are allotted per node"
   ]
  },
  {
   "cell_type": "markdown",
   "metadata": {},
   "source": [
    "## P(states)\n",
    "\n",
    "$$ P(G_c = g_c) = {N \\choose gc} \\left(1 - p_{f1} \\right)^{g_c} \\left( p_{f1} \\right)^{N - g_c}$$\n",
    "\n",
    "$$ \\left[ {g_c \\choose a_d} \\left( 1 - p_{a1} \\right)^{a_d} \\left( p_{a1} \\right)^{g_c - a_d} \\right] \\cdot\n",
    "\\left[ {a_d \\choose \\tilde{a_d}} \\left( 1 - p_{a2} \\right)^{\\tilde{a_d}} \\left( p_{a2} \\right)^{a_d - \\tilde{a_d}} \\right] \\cdot\n",
    "\\left[ {b_u \\choose \\tilde{b_u}} \\left( 1 - p_{a2} \\right)^{\\tilde{b_u}} \\left( p_{a2} \\right)^{b_u - \\tilde{b_u}} \\right]$$\n",
    "\n",
    "$$ a_d = \\tilde{a_d} + \\hat{a_d} $$\n",
    "$$ b_u = \\tilde{b_u} + \\hat{b_u} $$\n",
    "\n",
    "Recall\n",
    "$$ {\\tilde{a_d} \\choose \\tilde{a_{ds}}} \\left(1 - p_{f3} \\right)^{\\tilde{a_{ds}}} \\left( p_{f3} \\right)^{\\tilde{a_d} - \\tilde{a_{ds}}} = {\\tilde{a_d} \\choose \\tilde{a_{ds}}} \\left(1 - p_{f3} \\right)^{\\tilde{a_{ds}}} \\left( p_{f3} \\right)^{\\tilde{a_{di}}} $$\n",
    "$$ {\\hat{a_d} \\choose \\hat{a_{ds}}} \\left(1 - p_{f3} \\right)^{\\hat{a_{ds}}} \\left( p_{f3} \\right)^{\\hat{a_d} - \\hat{a_{ds}}} $$\n",
    "\n",
    "$$ P(h \\leq h_3 | h \\geq h_1 ) = \\frac{ P(h_1 \\leq h \\leq h_3)}{ P(h_1 \\leq h)} = \\left\\{ \\begin{array}{cc}\n",
    "0 & h_3 \\leq h_1 \\\\\n",
    "1 - \\text{exp }(h_1 - h_3) & h_3 > h_1\n",
    "\\end{array} \\right. $$"
   ]
  },
  {
   "cell_type": "markdown",
   "metadata": {},
   "source": [
    "$ \\tilde{A}_{ds}$ has succeeded\n",
    "$$ q^{\\tilde{a}_{ds}} = 0 $$\n",
    "\n",
    "$\\hat{A}_{ds}$ will succeed if additive noise 3 is good\n",
    "$$ q^{\\hat{a}_{ds}} = p_{a3} $$\n",
    "\n",
    "$\\hat{A}_{di}$ will succeed if connect to $\\left( \\tilde{A}_{ds} \\cup \\hat{A}_{ds} \\right)$ in uplink and additive noise is good\n",
    "- $\\left( \\tilde{A}_{ds} \\cup \\hat{A}_{ds} \\right)$ have the downlink message, so they can XOR and talk to the controller in XOR phase\n",
    "$$ q^{\\hat{a}_{di}} = p_2^{a_{ds}} + (1 - p_2)^{a_{ds}} p_{a3} $$\n",
    "- First part: all slave links failed\n",
    "- Second part: at least 1 slave-slave link succeeded but additive noise killed the node\n",
    "\n",
    "$\\tilde{B}_u$ will succeed if either:\n",
    "- Controller is loud in XOR\n",
    "- $A_d$ heard node in $\\tilde{B}_u$ and is loud in XOR\n",
    "$$ S^{\\tilde{B}_u} = (1 - p_{f3} ) + p_{f3} \\left[ \\sum_{k=1}^{a_d} {a_d \\choose k} (1 - p_2)^k p_2^{a_d - k} (1 - p_{f3}^k ) \\right] $$\n",
    "$$ q_{\\tilde{b}_u} = (1 - S^{\\tilde{b}_u} ) + S^{\\tilde{b}_u} p_{a3} $$\n",
    "\n",
    "Everyone else will succeed if they connect in uplink to a node in $A_{ds}$ and in downlink to any node in $A_d$  \n",
    "Connect to $K_s A_{ds}$ nodes and/or $K_i A_{di}$ nodes\n",
    "$$ F_e = p_2^{a_{ds}} + \\left[ \\sum_{k_s = 1}^{a_{ds}} {a_{ds} \\choose k_s} (1 - p_2)^{k_s} p_2^{a_d - k_s} p_{f3}^{k_s} \\right] \\cdot \\left[ \\sum_{k_i = 0}^{a_{di}} {a_{di} \\choose k_i} (1 - p_2)^{k_i} p_2^{a_d - k_i} p_{f3}^{k_i} \\right] $$\n",
    "- First part: can't connect in uplink to a supreme set node\n",
    "- Second part: will fail if connection for downlink is bad given connected to $k_s$ and $k_i$, due to fade the msg still didn't reach weak node (\"no link\")\n",
    "$$ q_e = F_e + (1 - F_e) \\left[ 1 - (1 - p_{a3})^2 \\right] $$\n",
    "Even if link established, additive noise can strike at both controller and weak node (you can fail at either place)\n",
    "\n",
    "$$ \\text{P(success)} = \\sum_{\\text{states}} P(\\text{states}) \\left( 1 - q^{\\hat{a}_{ds}} \\right)^{\\hat{a}_{ds}} \\left( 1 - q^{\\hat{a}_{di}} \\right)^{\\hat{a}_{di}} \\left( 1 - q^{\\tilde{b}_u} \\right)^{\\tilde{b}_u} \\left( 1 - q_e \\right)^{N - a_d - \\tilde{b}_u} $$"
   ]
  },
  {
   "cell_type": "code",
   "execution_count": 156,
   "metadata": {
    "collapsed": false
   },
   "outputs": [
    {
     "name": "stdout",
     "output_type": "stream",
     "text": [
      "CPU times: user 143 ms, sys: 11.6 ms, total: 155 ms\n",
      "Wall time: 158 ms\n"
     ]
    },
    {
     "data": {
      "image/png": "[encoded data removed]",
      "text/html": [
       "\n",
       "\n",
       "<style>\n",
       "\n",
       "</style>\n",
       "\n",
       "<div id=\"fig_el924445799714727742905932\"></div>\n",
       "<script>\n",
       "function mpld3_load_lib(url, callback){\n",
       "  var s = document.createElement('script');\n",
       "  s.src = url;\n",
       "  s.async = true;\n",
       "  s.onreadystatechange = s.onload = callback;\n",
       "  s.onerror = function(){console.warn(\"failed to load library \" + url);};\n",
       "  document.getElementsByTagName(\"head\")[0].appendChild(s);\n",
       "}\n",
       "\n",
       "if(typeof(mpld3) !== \"undefined\" && mpld3._mpld3IsLoaded){\n",
       "   // already loaded: just create the figure\n",
       "   !function(mpld3){\n",
       "       \n",
       "       mpld3.draw_figure(\"fig_el924445799714727742905932\", {\"axes\": [{\"xlim\": [0.0, 100.0], \"yscale\": \"linear\", \"axesbg\": \"#FFFFFF\", \"texts\": [], \"zoomable\": true, \"images\": [], \"xdomain\": [0.0, 100.0], \"ylim\": [-0.10000000000000001, 0.80000000000000004], \"paths\": [], \"sharey\": [], \"sharex\": [], \"axesbgalpha\": null, \"axes\": [{\"scale\": \"linear\", \"tickformat\": null, \"grid\": {\"gridOn\": false}, \"fontsize\": 10.0, \"position\": \"bottom\", \"nticks\": 6, \"tickvalues\": null}, {\"scale\": \"linear\", \"tickformat\": null, \"grid\": {\"gridOn\": false}, \"fontsize\": 10.0, \"position\": \"left\", \"nticks\": 10, \"tickvalues\": null}], \"lines\": [{\"color\": \"#0000FF\", \"yindex\": 1, \"coordinates\": \"data\", \"dasharray\": \"10,0\", \"zorder\": 2, \"alpha\": 1, \"xindex\": 0, \"linewidth\": 2.0, \"data\": \"data01\", \"id\": \"el92444579653840\"}], \"markers\": [], \"id\": \"el92444580532624\", \"ydomain\": [-0.10000000000000001, 0.80000000000000004], \"collections\": [], \"xscale\": \"linear\", \"bbox\": [0.125, 0.125, 0.77500000000000002, 0.77500000000000002]}], \"height\": 320.0, \"width\": 480.0, \"plugins\": [{\"type\": \"reset\"}, {\"enabled\": false, \"button\": true, \"type\": \"zoom\"}, {\"enabled\": false, \"button\": true, \"type\": \"boxzoom\"}], \"data\": {\"data01\": [[1.0, 0.7521193824500758], [2.0, 0.5817016389910341], [3.0, 0.4070545717468521], [4.0, 0.25911591314134674], [5.0, 0.1516187006780847], [6.0, 0.0825428606352342], [7.0, 0.04230749486487684], [8.0, 0.020635216575661364], [9.0, 0.009666290480761508], [10.0, 0.004382596677055983], [11.0, 0.0019355184582290352], [12.0, 0.0008369882257370787], [13.0, 0.00035590059315582234], [14.0, 0.00014931381531635424], [15.0, 6.197498595783557e-05], [16.0, 2.550499453746191e-05], [17.0, 1.042517976845847e-05], [18.0, 4.238347125484765e-06], [19.0, 1.715728863205257e-06], [20.0, 6.921979595064798e-07], [21.0, 2.7852308892573063e-07], [22.0, 1.1184424453247743e-07], [23.0, 4.484767868184747e-08], [24.0, 1.7968504129051155e-08], [25.0, 7.199238427624266e-09], [26.0, 2.8881917968348603e-09], [27.0, 1.1628440432787102e-09], [28.0, 4.718497814693023e-10], [29.0, 1.9447099486313846e-10], [30.0, 8.253775440891786e-11], [31.0, 3.687850025357875e-11], [32.0, 1.7859824730237506e-11], [33.0, 9.630518604808458e-12], [34.0, 5.834555061312585e-12], [35.0, 3.911426738056889e-12], [36.0, 2.8188562595232725e-12], [37.0, 2.124633802225162e-12], [38.0, 1.641908831118144e-12], [39.0, 1.2861933740282439e-12], [40.0, 1.0141887329950805e-12], [41.0, 8.030243137113757e-13], [42.0, 6.367129046225273e-13], [43.0, 5.052624985069087e-13], [44.0, 4.0123460109953157e-13], [45.0, 3.1874503036988244e-13], [46.0, 2.5279778270714814e-13], [47.0, 2.0095036745715333e-13], [48.0, 1.5976109324356003e-13], [49.0, 1.270095140171179e-13], [50.0, 1.0080825063596421e-13], [51.0, 7.993605777301127e-14], [52.0, 6.361577931102147e-14], [53.0, 5.029310301551959e-14], [54.0, 4.007905118896815e-14], [55.0, 3.164135620181696e-14], [56.0, 2.5424107263916085e-14], [57.0, 2.020605904817785e-14], [58.0, 1.587618925213974e-14], [59.0, 1.27675647831893e-14], [60.0, 1.0103029524088925e-14], [61.0, 7.882583474838611e-15], [62.0, 6.328271240363392e-15], [63.0, 5.218048215738236e-15], [64.0, 4.107825191113079e-15], [65.0, 3.3306690738754696e-15], [66.0, 2.3314683517128287e-15], [67.0, 1.9984014443252818e-15], [68.0, 1.4432899320127035e-15], [69.0, 1.3322676295501878e-15], [70.0, 9.992007221626409e-16], [71.0, 6.661338147750939e-16], [72.0, 7.771561172376096e-16], [73.0, 6.661338147750939e-16], [74.0, 5.551115123125783e-16], [75.0, 3.3306690738754696e-16], [76.0, 2.220446049250313e-16], [77.0, 2.220446049250313e-16], [78.0, 1.1102230246251565e-16], [79.0, 1.1102230246251565e-16], [80.0, 0.0], [81.0, 0.0], [82.0, 0.0], [83.0, 0.0], [84.0, 0.0], [85.0, 0.0], [86.0, 0.0], [87.0, -2.220446049250313e-16], [88.0, 0.0], [89.0, 0.0], [90.0, 0.0], [91.0, 0.0], [92.0, 0.0], [93.0, 0.0], [94.0, 0.0], [95.0, 0.0], [96.0, 0.0], [97.0, 0.0], [98.0, 0.0], [99.0, 0.0]]}, \"id\": \"el92444579971472\"});\n",
       "   }(mpld3);\n",
       "}else if(typeof define === \"function\" && define.amd){\n",
       "   // require.js is available: use it to load d3/mpld3\n",
       "   require.config({paths: {d3: \"https://mpld3.github.io/js/d3.v3.min\"}});\n",
       "   require([\"d3\"], function(d3){\n",
       "      window.d3 = d3;\n",
       "      mpld3_load_lib(\"https://mpld3.github.io/js/mpld3.v0.2.js\", function(){\n",
       "         \n",
       "         mpld3.draw_figure(\"fig_el924445799714727742905932\", {\"axes\": [{\"xlim\": [0.0, 100.0], \"yscale\": \"linear\", \"axesbg\": \"#FFFFFF\", \"texts\": [], \"zoomable\": true, \"images\": [], \"xdomain\": [0.0, 100.0], \"ylim\": [-0.10000000000000001, 0.80000000000000004], \"paths\": [], \"sharey\": [], \"sharex\": [], \"axesbgalpha\": null, \"axes\": [{\"scale\": \"linear\", \"tickformat\": null, \"grid\": {\"gridOn\": false}, \"fontsize\": 10.0, \"position\": \"bottom\", \"nticks\": 6, \"tickvalues\": null}, {\"scale\": \"linear\", \"tickformat\": null, \"grid\": {\"gridOn\": false}, \"fontsize\": 10.0, \"position\": \"left\", \"nticks\": 10, \"tickvalues\": null}], \"lines\": [{\"color\": \"#0000FF\", \"yindex\": 1, \"coordinates\": \"data\", \"dasharray\": \"10,0\", \"zorder\": 2, \"alpha\": 1, \"xindex\": 0, \"linewidth\": 2.0, \"data\": \"data01\", \"id\": \"el92444579653840\"}], \"markers\": [], \"id\": \"el92444580532624\", \"ydomain\": [-0.10000000000000001, 0.80000000000000004], \"collections\": [], \"xscale\": \"linear\", \"bbox\": [0.125, 0.125, 0.77500000000000002, 0.77500000000000002]}], \"height\": 320.0, \"width\": 480.0, \"plugins\": [{\"type\": \"reset\"}, {\"enabled\": false, \"button\": true, \"type\": \"zoom\"}, {\"enabled\": false, \"button\": true, \"type\": \"boxzoom\"}], \"data\": {\"data01\": [[1.0, 0.7521193824500758], [2.0, 0.5817016389910341], [3.0, 0.4070545717468521], [4.0, 0.25911591314134674], [5.0, 0.1516187006780847], [6.0, 0.0825428606352342], [7.0, 0.04230749486487684], [8.0, 0.020635216575661364], [9.0, 0.009666290480761508], [10.0, 0.004382596677055983], [11.0, 0.0019355184582290352], [12.0, 0.0008369882257370787], [13.0, 0.00035590059315582234], [14.0, 0.00014931381531635424], [15.0, 6.197498595783557e-05], [16.0, 2.550499453746191e-05], [17.0, 1.042517976845847e-05], [18.0, 4.238347125484765e-06], [19.0, 1.715728863205257e-06], [20.0, 6.921979595064798e-07], [21.0, 2.7852308892573063e-07], [22.0, 1.1184424453247743e-07], [23.0, 4.484767868184747e-08], [24.0, 1.7968504129051155e-08], [25.0, 7.199238427624266e-09], [26.0, 2.8881917968348603e-09], [27.0, 1.1628440432787102e-09], [28.0, 4.718497814693023e-10], [29.0, 1.9447099486313846e-10], [30.0, 8.253775440891786e-11], [31.0, 3.687850025357875e-11], [32.0, 1.7859824730237506e-11], [33.0, 9.630518604808458e-12], [34.0, 5.834555061312585e-12], [35.0, 3.911426738056889e-12], [36.0, 2.8188562595232725e-12], [37.0, 2.124633802225162e-12], [38.0, 1.641908831118144e-12], [39.0, 1.2861933740282439e-12], [40.0, 1.0141887329950805e-12], [41.0, 8.030243137113757e-13], [42.0, 6.367129046225273e-13], [43.0, 5.052624985069087e-13], [44.0, 4.0123460109953157e-13], [45.0, 3.1874503036988244e-13], [46.0, 2.5279778270714814e-13], [47.0, 2.0095036745715333e-13], [48.0, 1.5976109324356003e-13], [49.0, 1.270095140171179e-13], [50.0, 1.0080825063596421e-13], [51.0, 7.993605777301127e-14], [52.0, 6.361577931102147e-14], [53.0, 5.029310301551959e-14], [54.0, 4.007905118896815e-14], [55.0, 3.164135620181696e-14], [56.0, 2.5424107263916085e-14], [57.0, 2.020605904817785e-14], [58.0, 1.587618925213974e-14], [59.0, 1.27675647831893e-14], [60.0, 1.0103029524088925e-14], [61.0, 7.882583474838611e-15], [62.0, 6.328271240363392e-15], [63.0, 5.218048215738236e-15], [64.0, 4.107825191113079e-15], [65.0, 3.3306690738754696e-15], [66.0, 2.3314683517128287e-15], [67.0, 1.9984014443252818e-15], [68.0, 1.4432899320127035e-15], [69.0, 1.3322676295501878e-15], [70.0, 9.992007221626409e-16], [71.0, 6.661338147750939e-16], [72.0, 7.771561172376096e-16], [73.0, 6.661338147750939e-16], [74.0, 5.551115123125783e-16], [75.0, 3.3306690738754696e-16], [76.0, 2.220446049250313e-16], [77.0, 2.220446049250313e-16], [78.0, 1.1102230246251565e-16], [79.0, 1.1102230246251565e-16], [80.0, 0.0], [81.0, 0.0], [82.0, 0.0], [83.0, 0.0], [84.0, 0.0], [85.0, 0.0], [86.0, 0.0], [87.0, -2.220446049250313e-16], [88.0, 0.0], [89.0, 0.0], [90.0, 0.0], [91.0, 0.0], [92.0, 0.0], [93.0, 0.0], [94.0, 0.0], [95.0, 0.0], [96.0, 0.0], [97.0, 0.0], [98.0, 0.0], [99.0, 0.0]]}, \"id\": \"el92444579971472\"});\n",
       "      });\n",
       "    });\n",
       "}else{\n",
       "    // require.js not available: dynamically load d3 & mpld3\n",
       "    mpld3_load_lib(\"https://mpld3.github.io/js/d3.v3.min.js\", function(){\n",
       "         mpld3_load_lib(\"https://mpld3.github.io/js/mpld3.v0.2.js\", function(){\n",
       "                 \n",
       "                 mpld3.draw_figure(\"fig_el924445799714727742905932\", {\"axes\": [{\"xlim\": [0.0, 100.0], \"yscale\": \"linear\", \"axesbg\": \"#FFFFFF\", \"texts\": [], \"zoomable\": true, \"images\": [], \"xdomain\": [0.0, 100.0], \"ylim\": [-0.10000000000000001, 0.80000000000000004], \"paths\": [], \"sharey\": [], \"sharex\": [], \"axesbgalpha\": null, \"axes\": [{\"scale\": \"linear\", \"tickformat\": null, \"grid\": {\"gridOn\": false}, \"fontsize\": 10.0, \"position\": \"bottom\", \"nticks\": 6, \"tickvalues\": null}, {\"scale\": \"linear\", \"tickformat\": null, \"grid\": {\"gridOn\": false}, \"fontsize\": 10.0, \"position\": \"left\", \"nticks\": 10, \"tickvalues\": null}], \"lines\": [{\"color\": \"#0000FF\", \"yindex\": 1, \"coordinates\": \"data\", \"dasharray\": \"10,0\", \"zorder\": 2, \"alpha\": 1, \"xindex\": 0, \"linewidth\": 2.0, \"data\": \"data01\", \"id\": \"el92444579653840\"}], \"markers\": [], \"id\": \"el92444580532624\", \"ydomain\": [-0.10000000000000001, 0.80000000000000004], \"collections\": [], \"xscale\": \"linear\", \"bbox\": [0.125, 0.125, 0.77500000000000002, 0.77500000000000002]}], \"height\": 320.0, \"width\": 480.0, \"plugins\": [{\"type\": \"reset\"}, {\"enabled\": false, \"button\": true, \"type\": \"zoom\"}, {\"enabled\": false, \"button\": true, \"type\": \"boxzoom\"}], \"data\": {\"data01\": [[1.0, 0.7521193824500758], [2.0, 0.5817016389910341], [3.0, 0.4070545717468521], [4.0, 0.25911591314134674], [5.0, 0.1516187006780847], [6.0, 0.0825428606352342], [7.0, 0.04230749486487684], [8.0, 0.020635216575661364], [9.0, 0.009666290480761508], [10.0, 0.004382596677055983], [11.0, 0.0019355184582290352], [12.0, 0.0008369882257370787], [13.0, 0.00035590059315582234], [14.0, 0.00014931381531635424], [15.0, 6.197498595783557e-05], [16.0, 2.550499453746191e-05], [17.0, 1.042517976845847e-05], [18.0, 4.238347125484765e-06], [19.0, 1.715728863205257e-06], [20.0, 6.921979595064798e-07], [21.0, 2.7852308892573063e-07], [22.0, 1.1184424453247743e-07], [23.0, 4.484767868184747e-08], [24.0, 1.7968504129051155e-08], [25.0, 7.199238427624266e-09], [26.0, 2.8881917968348603e-09], [27.0, 1.1628440432787102e-09], [28.0, 4.718497814693023e-10], [29.0, 1.9447099486313846e-10], [30.0, 8.253775440891786e-11], [31.0, 3.687850025357875e-11], [32.0, 1.7859824730237506e-11], [33.0, 9.630518604808458e-12], [34.0, 5.834555061312585e-12], [35.0, 3.911426738056889e-12], [36.0, 2.8188562595232725e-12], [37.0, 2.124633802225162e-12], [38.0, 1.641908831118144e-12], [39.0, 1.2861933740282439e-12], [40.0, 1.0141887329950805e-12], [41.0, 8.030243137113757e-13], [42.0, 6.367129046225273e-13], [43.0, 5.052624985069087e-13], [44.0, 4.0123460109953157e-13], [45.0, 3.1874503036988244e-13], [46.0, 2.5279778270714814e-13], [47.0, 2.0095036745715333e-13], [48.0, 1.5976109324356003e-13], [49.0, 1.270095140171179e-13], [50.0, 1.0080825063596421e-13], [51.0, 7.993605777301127e-14], [52.0, 6.361577931102147e-14], [53.0, 5.029310301551959e-14], [54.0, 4.007905118896815e-14], [55.0, 3.164135620181696e-14], [56.0, 2.5424107263916085e-14], [57.0, 2.020605904817785e-14], [58.0, 1.587618925213974e-14], [59.0, 1.27675647831893e-14], [60.0, 1.0103029524088925e-14], [61.0, 7.882583474838611e-15], [62.0, 6.328271240363392e-15], [63.0, 5.218048215738236e-15], [64.0, 4.107825191113079e-15], [65.0, 3.3306690738754696e-15], [66.0, 2.3314683517128287e-15], [67.0, 1.9984014443252818e-15], [68.0, 1.4432899320127035e-15], [69.0, 1.3322676295501878e-15], [70.0, 9.992007221626409e-16], [71.0, 6.661338147750939e-16], [72.0, 7.771561172376096e-16], [73.0, 6.661338147750939e-16], [74.0, 5.551115123125783e-16], [75.0, 3.3306690738754696e-16], [76.0, 2.220446049250313e-16], [77.0, 2.220446049250313e-16], [78.0, 1.1102230246251565e-16], [79.0, 1.1102230246251565e-16], [80.0, 0.0], [81.0, 0.0], [82.0, 0.0], [83.0, 0.0], [84.0, 0.0], [85.0, 0.0], [86.0, 0.0], [87.0, -2.220446049250313e-16], [88.0, 0.0], [89.0, 0.0], [90.0, 0.0], [91.0, 0.0], [92.0, 0.0], [93.0, 0.0], [94.0, 0.0], [95.0, 0.0], [96.0, 0.0], [97.0, 0.0], [98.0, 0.0], [99.0, 0.0]]}, \"id\": \"el92444579971472\"});\n",
       "            })\n",
       "         });\n",
       "}\n",
       "</script>"
      ],
      "text/plain": [
       "<matplotlib.figure.Figure at 0x110fcd190>"
      ]
     },
     "metadata": {},
     "output_type": "display_data"
    }
   ],
   "source": [
    "%%time\n",
    "%run ../optimize_pkg.py\n",
    "# xor_analysis_opt(N, p_add_3, nom_SNR, actual_SNR)\n",
    "SNR = range(1, 100)\n",
    "# print rSNR\n",
    "pfail = zeros((5, 99))\n",
    "for n in range(1, 6, 1):\n",
    "    psuccess = [xor_analysis_opt(n, 10**(-9), snr, 1) for snr in SNR]\n",
    "    pfail[n-1] = 1 - array(psuccess)\n",
    "# print pfail[0]\n",
    "plot(SNR, pfail[3], lw=2.0)\n",
    "# print z"
   ]
  },
  {
   "cell_type": "code",
   "execution_count": 157,
   "metadata": {
    "collapsed": false
   },
   "outputs": [
    {
     "name": "stdout",
     "output_type": "stream",
     "text": [
      "[  7.52119383e-01   5.81701639e-01   4.07054572e-01   2.59115913e-01\n",
      "   1.51618701e-01   8.25428607e-02   4.23074949e-02   2.06352166e-02\n",
      "   9.66629049e-03   4.38259668e-03   1.93551846e-03   8.36988227e-04\n",
      "   3.55900593e-04   1.49313815e-04   6.19749860e-05   2.55049946e-05\n",
      "   1.04251798e-05   4.23834713e-06   1.71572886e-06   6.92197960e-07\n",
      "   2.78523089e-07   1.11844245e-07   4.48476786e-08   1.79685044e-08\n",
      "   7.19923854e-09   2.88819180e-09   1.16284393e-09   4.71850004e-10\n",
      "   1.94470995e-10   8.25377544e-11   3.68783892e-11   1.78600468e-11\n",
      "   9.63051860e-12   5.83455506e-12   3.91153776e-12   2.81907830e-12\n",
      "   2.12463380e-12   1.64190883e-12   1.28619337e-12   1.01441078e-12\n",
      "   8.02913291e-13   6.36712905e-13   5.05262499e-13   4.01123579e-13\n",
      "   3.18522986e-13   2.53130850e-13   2.00950367e-13   1.59650071e-13\n",
      "   1.26898492e-13   1.00697228e-13   8.01581024e-14   6.35047570e-14\n",
      "   5.04041253e-14   4.00790512e-14   3.18634008e-14   2.53130850e-14\n",
      "   2.00950367e-14   1.59872116e-14   1.26565425e-14   9.99200722e-15\n",
      "   8.10462808e-15   6.32827124e-15   5.10702591e-15   3.99680289e-15\n",
      "   3.21964677e-15   2.66453526e-15   1.99840144e-15   1.66533454e-15\n",
      "   1.22124533e-15   9.99200722e-16   8.88178420e-16   6.66133815e-16\n",
      "   5.55111512e-16   3.33066907e-16   2.22044605e-16   3.33066907e-16\n",
      "   2.22044605e-16   1.11022302e-16   1.11022302e-16   0.00000000e+00\n",
      "   1.11022302e-16   2.22044605e-16   1.11022302e-16   0.00000000e+00\n",
      "   1.11022302e-16   0.00000000e+00   1.11022302e-16   0.00000000e+00\n",
      "   0.00000000e+00   1.11022302e-16   1.11022302e-16   1.11022302e-16\n",
      "   1.11022302e-16   1.11022302e-16   0.00000000e+00   0.00000000e+00\n",
      "   0.00000000e+00   0.00000000e+00   0.00000000e+00]\n",
      "CPU times: user 1min 12s, sys: 339 ms, total: 1min 13s\n",
      "Wall time: 1min 14s\n"
     ]
    },
    {
     "data": {
      "image/png": "[encoded data removed]",
      "text/html": [
       "\n",
       "\n",
       "<style>\n",
       "\n",
       "</style>\n",
       "\n",
       "<div id=\"fig_el924445184812321261150127\"></div>\n",
       "<script>\n",
       "function mpld3_load_lib(url, callback){\n",
       "  var s = document.createElement('script');\n",
       "  s.src = url;\n",
       "  s.async = true;\n",
       "  s.onreadystatechange = s.onload = callback;\n",
       "  s.onerror = function(){console.warn(\"failed to load library \" + url);};\n",
       "  document.getElementsByTagName(\"head\")[0].appendChild(s);\n",
       "}\n",
       "\n",
       "if(typeof(mpld3) !== \"undefined\" && mpld3._mpld3IsLoaded){\n",
       "   // already loaded: just create the figure\n",
       "   !function(mpld3){\n",
       "       \n",
       "       mpld3.draw_figure(\"fig_el924445184812321261150127\", {\"axes\": [{\"xlim\": [0.0, 100.0], \"yscale\": \"linear\", \"axesbg\": \"#FFFFFF\", \"texts\": [], \"zoomable\": true, \"images\": [], \"xdomain\": [0.0, 100.0], \"ylim\": [0.0, 0.80000000000000004], \"paths\": [], \"sharey\": [], \"sharex\": [], \"axesbgalpha\": null, \"axes\": [{\"scale\": \"linear\", \"tickformat\": null, \"grid\": {\"gridOn\": false}, \"fontsize\": 10.0, \"position\": \"bottom\", \"nticks\": 6, \"tickvalues\": null}, {\"scale\": \"linear\", \"tickformat\": null, \"grid\": {\"gridOn\": false}, \"fontsize\": 10.0, \"position\": \"left\", \"nticks\": 10, \"tickvalues\": null}], \"lines\": [{\"color\": \"#0000FF\", \"yindex\": 1, \"coordinates\": \"data\", \"dasharray\": \"10,0\", \"zorder\": 2, \"alpha\": 1, \"xindex\": 0, \"linewidth\": 2.0, \"data\": \"data01\", \"id\": \"el92444578095632\"}], \"markers\": [], \"id\": \"el92444583348880\", \"ydomain\": [0.0, 0.80000000000000004], \"collections\": [], \"xscale\": \"linear\", \"bbox\": [0.125, 0.125, 0.77500000000000002, 0.77500000000000002]}], \"height\": 320.0, \"width\": 480.0, \"plugins\": [{\"type\": \"reset\"}, {\"enabled\": false, \"button\": true, \"type\": \"zoom\"}, {\"enabled\": false, \"button\": true, \"type\": \"boxzoom\"}], \"data\": {\"data01\": [[1.0, 0.7521193827329469], [2.0, 0.5817016392790144], [3.0, 0.4070545719895956], [4.0, 0.25911591331704975], [5.0, 0.15161870079062967], [6.0, 0.08254286070061456], [7.0, 0.04230749490001395], [8.0, 0.020635216593411387], [9.0, 0.00966629048929768], [10.0, 0.004382596681004269], [11.0, 0.0019355184599993969], [12.0, 0.0008369882265117923], [13.0, 0.00035590059348833414], [14.0, 0.00014931381545668643], [15.0, 6.197498601656637e-05], [16.0, 2.5504994561664773e-05], [17.0, 1.0425179778228433e-05], [18.0, 4.23834712959259e-06], [19.0, 1.7157288648705915e-06], [20.0, 6.921979601726136e-07], [21.0, 2.7852308914777524e-07], [22.0, 1.1184424453247743e-07], [23.0, 4.484767857082517e-08], [24.0, 1.796850435109576e-08], [25.0, 7.1992385386465685e-09], [26.0, 2.8881917968348603e-09], [27.0, 1.1628439322564077e-09], [28.0, 4.718500035139073e-10], [29.0, 1.9447099486313846e-10], [30.0, 8.253775440891786e-11], [31.0, 3.687838923127629e-11], [32.0, 1.786004677484243e-11], [33.0, 9.630518604808458e-12], [34.0, 5.834555061312585e-12], [35.0, 3.9115377603593515e-12], [36.0, 2.8190783041281975e-12], [37.0, 2.124633802225162e-12], [38.0, 1.641908831118144e-12], [39.0, 1.2861933740282439e-12], [40.0, 1.0144107776000055e-12], [41.0, 8.029132914089132e-13], [42.0, 6.367129046225273e-13], [43.0, 5.052624985069087e-13], [44.0, 4.0112357879706906e-13], [45.0, 3.185229857649574e-13], [46.0, 2.531308496145357e-13], [47.0, 2.0095036745715333e-13], [48.0, 1.596500709410975e-13], [49.0, 1.268984917146554e-13], [50.0, 1.006972283335017e-13], [51.0, 8.01581023779363e-14], [52.0, 6.350475700855895e-14], [53.0, 5.040412531798211e-14], [54.0, 4.007905118896815e-14], [55.0, 3.186340080674199e-14], [56.0, 2.531308496145357e-14], [57.0, 2.0095036745715333e-14], [58.0, 1.5987211554602254e-14], [59.0, 1.2656542480726785e-14], [60.0, 9.992007221626409e-15], [61.0, 8.104628079763643e-15], [62.0, 6.328271240363392e-15], [63.0, 5.10702591327572e-15], [64.0, 3.9968028886505635e-15], [65.0, 3.219646771412954e-15], [66.0, 2.6645352591003757e-15], [67.0, 1.9984014443252818e-15], [68.0, 1.6653345369377348e-15], [69.0, 1.2212453270876722e-15], [70.0, 9.992007221626409e-16], [71.0, 8.881784197001252e-16], [72.0, 6.661338147750939e-16], [73.0, 5.551115123125783e-16], [74.0, 3.3306690738754696e-16], [75.0, 2.220446049250313e-16], [76.0, 3.3306690738754696e-16], [77.0, 2.220446049250313e-16], [78.0, 1.1102230246251565e-16], [79.0, 1.1102230246251565e-16], [80.0, 0.0], [81.0, 1.1102230246251565e-16], [82.0, 2.220446049250313e-16], [83.0, 1.1102230246251565e-16], [84.0, 0.0], [85.0, 1.1102230246251565e-16], [86.0, 0.0], [87.0, 1.1102230246251565e-16], [88.0, 0.0], [89.0, 0.0], [90.0, 1.1102230246251565e-16], [91.0, 1.1102230246251565e-16], [92.0, 1.1102230246251565e-16], [93.0, 1.1102230246251565e-16], [94.0, 1.1102230246251565e-16], [95.0, 0.0], [96.0, 0.0], [97.0, 0.0], [98.0, 0.0], [99.0, 0.0]]}, \"id\": \"el92444518481232\"});\n",
       "   }(mpld3);\n",
       "}else if(typeof define === \"function\" && define.amd){\n",
       "   // require.js is available: use it to load d3/mpld3\n",
       "   require.config({paths: {d3: \"https://mpld3.github.io/js/d3.v3.min\"}});\n",
       "   require([\"d3\"], function(d3){\n",
       "      window.d3 = d3;\n",
       "      mpld3_load_lib(\"https://mpld3.github.io/js/mpld3.v0.2.js\", function(){\n",
       "         \n",
       "         mpld3.draw_figure(\"fig_el924445184812321261150127\", {\"axes\": [{\"xlim\": [0.0, 100.0], \"yscale\": \"linear\", \"axesbg\": \"#FFFFFF\", \"texts\": [], \"zoomable\": true, \"images\": [], \"xdomain\": [0.0, 100.0], \"ylim\": [0.0, 0.80000000000000004], \"paths\": [], \"sharey\": [], \"sharex\": [], \"axesbgalpha\": null, \"axes\": [{\"scale\": \"linear\", \"tickformat\": null, \"grid\": {\"gridOn\": false}, \"fontsize\": 10.0, \"position\": \"bottom\", \"nticks\": 6, \"tickvalues\": null}, {\"scale\": \"linear\", \"tickformat\": null, \"grid\": {\"gridOn\": false}, \"fontsize\": 10.0, \"position\": \"left\", \"nticks\": 10, \"tickvalues\": null}], \"lines\": [{\"color\": \"#0000FF\", \"yindex\": 1, \"coordinates\": \"data\", \"dasharray\": \"10,0\", \"zorder\": 2, \"alpha\": 1, \"xindex\": 0, \"linewidth\": 2.0, \"data\": \"data01\", \"id\": \"el92444578095632\"}], \"markers\": [], \"id\": \"el92444583348880\", \"ydomain\": [0.0, 0.80000000000000004], \"collections\": [], \"xscale\": \"linear\", \"bbox\": [0.125, 0.125, 0.77500000000000002, 0.77500000000000002]}], \"height\": 320.0, \"width\": 480.0, \"plugins\": [{\"type\": \"reset\"}, {\"enabled\": false, \"button\": true, \"type\": \"zoom\"}, {\"enabled\": false, \"button\": true, \"type\": \"boxzoom\"}], \"data\": {\"data01\": [[1.0, 0.7521193827329469], [2.0, 0.5817016392790144], [3.0, 0.4070545719895956], [4.0, 0.25911591331704975], [5.0, 0.15161870079062967], [6.0, 0.08254286070061456], [7.0, 0.04230749490001395], [8.0, 0.020635216593411387], [9.0, 0.00966629048929768], [10.0, 0.004382596681004269], [11.0, 0.0019355184599993969], [12.0, 0.0008369882265117923], [13.0, 0.00035590059348833414], [14.0, 0.00014931381545668643], [15.0, 6.197498601656637e-05], [16.0, 2.5504994561664773e-05], [17.0, 1.0425179778228433e-05], [18.0, 4.23834712959259e-06], [19.0, 1.7157288648705915e-06], [20.0, 6.921979601726136e-07], [21.0, 2.7852308914777524e-07], [22.0, 1.1184424453247743e-07], [23.0, 4.484767857082517e-08], [24.0, 1.796850435109576e-08], [25.0, 7.1992385386465685e-09], [26.0, 2.8881917968348603e-09], [27.0, 1.1628439322564077e-09], [28.0, 4.718500035139073e-10], [29.0, 1.9447099486313846e-10], [30.0, 8.253775440891786e-11], [31.0, 3.687838923127629e-11], [32.0, 1.786004677484243e-11], [33.0, 9.630518604808458e-12], [34.0, 5.834555061312585e-12], [35.0, 3.9115377603593515e-12], [36.0, 2.8190783041281975e-12], [37.0, 2.124633802225162e-12], [38.0, 1.641908831118144e-12], [39.0, 1.2861933740282439e-12], [40.0, 1.0144107776000055e-12], [41.0, 8.029132914089132e-13], [42.0, 6.367129046225273e-13], [43.0, 5.052624985069087e-13], [44.0, 4.0112357879706906e-13], [45.0, 3.185229857649574e-13], [46.0, 2.531308496145357e-13], [47.0, 2.0095036745715333e-13], [48.0, 1.596500709410975e-13], [49.0, 1.268984917146554e-13], [50.0, 1.006972283335017e-13], [51.0, 8.01581023779363e-14], [52.0, 6.350475700855895e-14], [53.0, 5.040412531798211e-14], [54.0, 4.007905118896815e-14], [55.0, 3.186340080674199e-14], [56.0, 2.531308496145357e-14], [57.0, 2.0095036745715333e-14], [58.0, 1.5987211554602254e-14], [59.0, 1.2656542480726785e-14], [60.0, 9.992007221626409e-15], [61.0, 8.104628079763643e-15], [62.0, 6.328271240363392e-15], [63.0, 5.10702591327572e-15], [64.0, 3.9968028886505635e-15], [65.0, 3.219646771412954e-15], [66.0, 2.6645352591003757e-15], [67.0, 1.9984014443252818e-15], [68.0, 1.6653345369377348e-15], [69.0, 1.2212453270876722e-15], [70.0, 9.992007221626409e-16], [71.0, 8.881784197001252e-16], [72.0, 6.661338147750939e-16], [73.0, 5.551115123125783e-16], [74.0, 3.3306690738754696e-16], [75.0, 2.220446049250313e-16], [76.0, 3.3306690738754696e-16], [77.0, 2.220446049250313e-16], [78.0, 1.1102230246251565e-16], [79.0, 1.1102230246251565e-16], [80.0, 0.0], [81.0, 1.1102230246251565e-16], [82.0, 2.220446049250313e-16], [83.0, 1.1102230246251565e-16], [84.0, 0.0], [85.0, 1.1102230246251565e-16], [86.0, 0.0], [87.0, 1.1102230246251565e-16], [88.0, 0.0], [89.0, 0.0], [90.0, 1.1102230246251565e-16], [91.0, 1.1102230246251565e-16], [92.0, 1.1102230246251565e-16], [93.0, 1.1102230246251565e-16], [94.0, 1.1102230246251565e-16], [95.0, 0.0], [96.0, 0.0], [97.0, 0.0], [98.0, 0.0], [99.0, 0.0]]}, \"id\": \"el92444518481232\"});\n",
       "      });\n",
       "    });\n",
       "}else{\n",
       "    // require.js not available: dynamically load d3 & mpld3\n",
       "    mpld3_load_lib(\"https://mpld3.github.io/js/d3.v3.min.js\", function(){\n",
       "         mpld3_load_lib(\"https://mpld3.github.io/js/mpld3.v0.2.js\", function(){\n",
       "                 \n",
       "                 mpld3.draw_figure(\"fig_el924445184812321261150127\", {\"axes\": [{\"xlim\": [0.0, 100.0], \"yscale\": \"linear\", \"axesbg\": \"#FFFFFF\", \"texts\": [], \"zoomable\": true, \"images\": [], \"xdomain\": [0.0, 100.0], \"ylim\": [0.0, 0.80000000000000004], \"paths\": [], \"sharey\": [], \"sharex\": [], \"axesbgalpha\": null, \"axes\": [{\"scale\": \"linear\", \"tickformat\": null, \"grid\": {\"gridOn\": false}, \"fontsize\": 10.0, \"position\": \"bottom\", \"nticks\": 6, \"tickvalues\": null}, {\"scale\": \"linear\", \"tickformat\": null, \"grid\": {\"gridOn\": false}, \"fontsize\": 10.0, \"position\": \"left\", \"nticks\": 10, \"tickvalues\": null}], \"lines\": [{\"color\": \"#0000FF\", \"yindex\": 1, \"coordinates\": \"data\", \"dasharray\": \"10,0\", \"zorder\": 2, \"alpha\": 1, \"xindex\": 0, \"linewidth\": 2.0, \"data\": \"data01\", \"id\": \"el92444578095632\"}], \"markers\": [], \"id\": \"el92444583348880\", \"ydomain\": [0.0, 0.80000000000000004], \"collections\": [], \"xscale\": \"linear\", \"bbox\": [0.125, 0.125, 0.77500000000000002, 0.77500000000000002]}], \"height\": 320.0, \"width\": 480.0, \"plugins\": [{\"type\": \"reset\"}, {\"enabled\": false, \"button\": true, \"type\": \"zoom\"}, {\"enabled\": false, \"button\": true, \"type\": \"boxzoom\"}], \"data\": {\"data01\": [[1.0, 0.7521193827329469], [2.0, 0.5817016392790144], [3.0, 0.4070545719895956], [4.0, 0.25911591331704975], [5.0, 0.15161870079062967], [6.0, 0.08254286070061456], [7.0, 0.04230749490001395], [8.0, 0.020635216593411387], [9.0, 0.00966629048929768], [10.0, 0.004382596681004269], [11.0, 0.0019355184599993969], [12.0, 0.0008369882265117923], [13.0, 0.00035590059348833414], [14.0, 0.00014931381545668643], [15.0, 6.197498601656637e-05], [16.0, 2.5504994561664773e-05], [17.0, 1.0425179778228433e-05], [18.0, 4.23834712959259e-06], [19.0, 1.7157288648705915e-06], [20.0, 6.921979601726136e-07], [21.0, 2.7852308914777524e-07], [22.0, 1.1184424453247743e-07], [23.0, 4.484767857082517e-08], [24.0, 1.796850435109576e-08], [25.0, 7.1992385386465685e-09], [26.0, 2.8881917968348603e-09], [27.0, 1.1628439322564077e-09], [28.0, 4.718500035139073e-10], [29.0, 1.9447099486313846e-10], [30.0, 8.253775440891786e-11], [31.0, 3.687838923127629e-11], [32.0, 1.786004677484243e-11], [33.0, 9.630518604808458e-12], [34.0, 5.834555061312585e-12], [35.0, 3.9115377603593515e-12], [36.0, 2.8190783041281975e-12], [37.0, 2.124633802225162e-12], [38.0, 1.641908831118144e-12], [39.0, 1.2861933740282439e-12], [40.0, 1.0144107776000055e-12], [41.0, 8.029132914089132e-13], [42.0, 6.367129046225273e-13], [43.0, 5.052624985069087e-13], [44.0, 4.0112357879706906e-13], [45.0, 3.185229857649574e-13], [46.0, 2.531308496145357e-13], [47.0, 2.0095036745715333e-13], [48.0, 1.596500709410975e-13], [49.0, 1.268984917146554e-13], [50.0, 1.006972283335017e-13], [51.0, 8.01581023779363e-14], [52.0, 6.350475700855895e-14], [53.0, 5.040412531798211e-14], [54.0, 4.007905118896815e-14], [55.0, 3.186340080674199e-14], [56.0, 2.531308496145357e-14], [57.0, 2.0095036745715333e-14], [58.0, 1.5987211554602254e-14], [59.0, 1.2656542480726785e-14], [60.0, 9.992007221626409e-15], [61.0, 8.104628079763643e-15], [62.0, 6.328271240363392e-15], [63.0, 5.10702591327572e-15], [64.0, 3.9968028886505635e-15], [65.0, 3.219646771412954e-15], [66.0, 2.6645352591003757e-15], [67.0, 1.9984014443252818e-15], [68.0, 1.6653345369377348e-15], [69.0, 1.2212453270876722e-15], [70.0, 9.992007221626409e-16], [71.0, 8.881784197001252e-16], [72.0, 6.661338147750939e-16], [73.0, 5.551115123125783e-16], [74.0, 3.3306690738754696e-16], [75.0, 2.220446049250313e-16], [76.0, 3.3306690738754696e-16], [77.0, 2.220446049250313e-16], [78.0, 1.1102230246251565e-16], [79.0, 1.1102230246251565e-16], [80.0, 0.0], [81.0, 1.1102230246251565e-16], [82.0, 2.220446049250313e-16], [83.0, 1.1102230246251565e-16], [84.0, 0.0], [85.0, 1.1102230246251565e-16], [86.0, 0.0], [87.0, 1.1102230246251565e-16], [88.0, 0.0], [89.0, 0.0], [90.0, 1.1102230246251565e-16], [91.0, 1.1102230246251565e-16], [92.0, 1.1102230246251565e-16], [93.0, 1.1102230246251565e-16], [94.0, 1.1102230246251565e-16], [95.0, 0.0], [96.0, 0.0], [97.0, 0.0], [98.0, 0.0], [99.0, 0.0]]}, \"id\": \"el92444518481232\"});\n",
       "            })\n",
       "         });\n",
       "}\n",
       "</script>"
      ],
      "text/plain": [
       "<matplotlib.figure.Figure at 0x10d528d50>"
      ]
     },
     "metadata": {},
     "output_type": "display_data"
    }
   ],
   "source": [
    "%%time\n",
    "%run ../optimize_pkg_2.py\n",
    "SNR = range(1, 100)\n",
    "# xor_analysis_new(N, tSNR, rSNRdu, rSNR3)\n",
    "pfail_2 = zeros((5, 99))\n",
    "for n in range(1, 6, 1):\n",
    "    psuccess_2 = [xor_analysis_new(n, snr, 1, 1) for snr in SNR]\n",
    "    pfail_2[n-1] = 1 - array(psuccess_2)\n",
    "print pfail_2[3]\n",
    "plot(SNR, pfail_2[3], lw=2.0)"
   ]
  },
  {
   "cell_type": "code",
   "execution_count": 164,
   "metadata": {
    "collapsed": false
   },
   "outputs": [
    {
     "name": "stdout",
     "output_type": "stream",
     "text": [
      "[ -6.32120578e-10  -5.48115331e-10  -4.67917927e-10  -3.94189015e-10\n",
      "  -3.28409966e-10  -2.71106582e-10  -2.22124319e-10  -1.80881199e-10\n",
      "  -1.46567869e-10  -1.18290377e-10  -9.51625445e-11  -7.63599184e-11\n",
      "  -6.11464213e-11  -4.88834528e-11  -3.90286692e-11  -3.11279891e-11\n",
      "  -2.48059351e-11  -1.97548644e-11  -1.57239777e-11  -1.25103261e-11\n",
      "  -9.95015181e-12  -7.91178234e-12  -6.28963548e-12  -4.99933428e-12\n",
      "  -3.97315514e-12  -3.15725224e-12  -2.50865995e-12  -1.99329442e-12\n",
      "  -1.58362212e-12  -1.25810473e-12  -9.99422767e-13  -7.94031507e-13\n",
      "  -6.30717700e-13  -5.01043651e-13  -3.98014954e-13  -3.16191517e-13\n",
      "  -2.51132448e-13  -1.99507078e-13  -1.58428826e-13  -1.25899291e-13\n",
      "  -9.99200722e-14  -7.93809463e-14  -6.30606678e-14  -5.00710584e-14\n",
      "  -3.97459843e-14  -3.16413562e-14  -2.50910404e-14  -1.98729921e-14\n",
      "  -1.57651669e-14  -1.25455202e-14]\n"
     ]
    },
    {
     "data": {
      "image/png": "[encoded data removed]",
      "text/html": [
       "\n",
       "\n",
       "<style>\n",
       "\n",
       "</style>\n",
       "\n",
       "<div id=\"fig_el924445191892641308697037\"></div>\n",
       "<script>\n",
       "function mpld3_load_lib(url, callback){\n",
       "  var s = document.createElement('script');\n",
       "  s.src = url;\n",
       "  s.async = true;\n",
       "  s.onreadystatechange = s.onload = callback;\n",
       "  s.onerror = function(){console.warn(\"failed to load library \" + url);};\n",
       "  document.getElementsByTagName(\"head\")[0].appendChild(s);\n",
       "}\n",
       "\n",
       "if(typeof(mpld3) !== \"undefined\" && mpld3._mpld3IsLoaded){\n",
       "   // already loaded: just create the figure\n",
       "   !function(mpld3){\n",
       "       \n",
       "       mpld3.draw_figure(\"fig_el924445191892641308697037\", {\"axes\": [{\"xlim\": [0.0, 50.0], \"yscale\": \"linear\", \"axesbg\": \"#FFFFFF\", \"texts\": [{\"v_baseline\": \"hanging\", \"h_anchor\": \"middle\", \"color\": \"#000000\", \"text\": \"SNR Fade Gap\", \"coordinates\": \"axes\", \"zorder\": 3, \"alpha\": 1, \"fontsize\": 16.0, \"position\": [0.5, -0.053763440860215034], \"rotation\": -0.0, \"id\": \"el92444579653520\"}, {\"v_baseline\": \"auto\", \"h_anchor\": \"middle\", \"color\": \"#000000\", \"text\": \"Difference in P(fail)\", \"coordinates\": \"axes\", \"zorder\": 3, \"alpha\": 1, \"fontsize\": 16.0, \"position\": [-0.028505824372759864, 0.5], \"rotation\": -90.0, \"id\": \"el92444580066448\"}, {\"v_baseline\": \"auto\", \"h_anchor\": \"start\", \"color\": \"#000000\", \"text\": \"None\", \"coordinates\": \"axes\", \"zorder\": 1000003.0, \"alpha\": 1, \"fontsize\": 10.0, \"position\": [-0.16129032258064516, -0.16129032258064516], \"rotation\": -0.0, \"id\": \"el92444584740752\"}, {\"v_baseline\": \"auto\", \"h_anchor\": \"start\", \"color\": \"#000000\", \"text\": \"N=1\", \"coordinates\": \"axes\", \"zorder\": 1000003.0, \"alpha\": 1, \"fontsize\": 12.0, \"position\": [0.92915546594982101, 0.94086021505376338], \"rotation\": -0.0, \"id\": \"el92444584607056\"}, {\"v_baseline\": \"auto\", \"h_anchor\": \"start\", \"color\": \"#000000\", \"text\": \"N=2\", \"coordinates\": \"axes\", \"zorder\": 1000003.0, \"alpha\": 1, \"fontsize\": 12.0, \"position\": [0.92915546594982101, 0.88799283154121855], \"rotation\": -0.0, \"id\": \"el92444584650384\"}, {\"v_baseline\": \"auto\", \"h_anchor\": \"start\", \"color\": \"#000000\", \"text\": \"N=3\", \"coordinates\": \"axes\", \"zorder\": 1000003.0, \"alpha\": 1, \"fontsize\": 12.0, \"position\": [0.92915546594982101, 0.83512544802867383], \"rotation\": -0.0, \"id\": \"el92444584652752\"}, {\"v_baseline\": \"auto\", \"h_anchor\": \"start\", \"color\": \"#000000\", \"text\": \"N=4\", \"coordinates\": \"axes\", \"zorder\": 1000003.0, \"alpha\": 1, \"fontsize\": 12.0, \"position\": [0.92915546594982101, 0.782258064516129], \"rotation\": -0.0, \"id\": \"el92444584652176\"}, {\"v_baseline\": \"auto\", \"h_anchor\": \"start\", \"color\": \"#000000\", \"text\": \"N=5\", \"coordinates\": \"axes\", \"zorder\": 1000003.0, \"alpha\": 1, \"fontsize\": 12.0, \"position\": [0.92915546594982101, 0.72939068100358417], \"rotation\": -0.0, \"id\": \"el92444584692880\"}], \"zoomable\": true, \"images\": [], \"xdomain\": [0.0, 50.0], \"ylim\": [0.0, 6.9999999999999996e-10], \"paths\": [{\"edgecolor\": \"#000000\", \"facecolor\": \"#FFFFFF\", \"edgewidth\": 1.0, \"pathcodes\": [\"M\", \"L\", \"L\", \"L\", \"Z\"], \"yindex\": 1, \"coordinates\": \"axes\", \"dasharray\": \"10,0\", \"zorder\": 1000001.0, \"alpha\": 1, \"xindex\": 0, \"data\": \"data03\", \"id\": \"el92444519075152\"}], \"sharey\": [], \"sharex\": [], \"axesbgalpha\": null, \"axes\": [{\"scale\": \"linear\", \"tickformat\": null, \"grid\": {\"gridOn\": false}, \"fontsize\": 10.0, \"position\": \"bottom\", \"nticks\": 6, \"tickvalues\": null}, {\"scale\": \"linear\", \"tickformat\": null, \"grid\": {\"gridOn\": false}, \"fontsize\": 10.0, \"position\": \"left\", \"nticks\": 9, \"tickvalues\": null}], \"lines\": [{\"color\": \"#0000FF\", \"yindex\": 1, \"coordinates\": \"data\", \"dasharray\": \"10,0\", \"zorder\": 2, \"alpha\": 1, \"xindex\": 0, \"linewidth\": 2.0, \"data\": \"data01\", \"id\": \"el92444583533072\"}, {\"color\": \"#007F00\", \"yindex\": 2, \"coordinates\": \"data\", \"dasharray\": \"10,0\", \"zorder\": 2, \"alpha\": 1, \"xindex\": 0, \"linewidth\": 2.0, \"data\": \"data01\", \"id\": \"el92444583533776\"}, {\"color\": \"#FF0000\", \"yindex\": 3, \"coordinates\": \"data\", \"dasharray\": \"10,0\", \"zorder\": 2, \"alpha\": 1, \"xindex\": 0, \"linewidth\": 2.0, \"data\": \"data01\", \"id\": \"el92444583584720\"}, {\"color\": \"#00BFBF\", \"yindex\": 4, \"coordinates\": \"data\", \"dasharray\": \"10,0\", \"zorder\": 2, \"alpha\": 1, \"xindex\": 0, \"linewidth\": 2.0, \"data\": \"data01\", \"id\": \"el92444583586320\"}, {\"color\": \"#BF00BF\", \"yindex\": 5, \"coordinates\": \"data\", \"dasharray\": \"10,0\", \"zorder\": 2, \"alpha\": 1, \"xindex\": 0, \"linewidth\": 2.0, \"data\": \"data01\", \"id\": \"el92444584603792\"}, {\"color\": \"#0000FF\", \"yindex\": 1, \"coordinates\": \"axes\", \"dasharray\": \"10,0\", \"zorder\": 1000002.0, \"alpha\": 1, \"xindex\": 0, \"linewidth\": 2.0, \"data\": \"data02\", \"id\": \"el92444584648912\"}, {\"color\": \"#007F00\", \"yindex\": 2, \"coordinates\": \"axes\", \"dasharray\": \"10,0\", \"zorder\": 1000002.0, \"alpha\": 1, \"xindex\": 0, \"linewidth\": 2.0, \"data\": \"data02\", \"id\": \"el92444584651280\"}, {\"color\": \"#FF0000\", \"yindex\": 3, \"coordinates\": \"axes\", \"dasharray\": \"10,0\", \"zorder\": 1000002.0, \"alpha\": 1, \"xindex\": 0, \"linewidth\": 2.0, \"data\": \"data02\", \"id\": \"el92444584690576\"}, {\"color\": \"#00BFBF\", \"yindex\": 4, \"coordinates\": \"axes\", \"dasharray\": \"10,0\", \"zorder\": 1000002.0, \"alpha\": 1, \"xindex\": 0, \"linewidth\": 2.0, \"data\": \"data02\", \"id\": \"el92444584649040\"}, {\"color\": \"#BF00BF\", \"yindex\": 5, \"coordinates\": \"axes\", \"dasharray\": \"10,0\", \"zorder\": 1000002.0, \"alpha\": 1, \"xindex\": 0, \"linewidth\": 2.0, \"data\": \"data02\", \"id\": \"el92444584738896\"}], \"markers\": [], \"id\": \"el92444575770192\", \"ydomain\": [0.0, 6.9999999999999996e-10], \"collections\": [], \"xscale\": \"linear\", \"bbox\": [0.125, 0.125, 0.77500000000000002, 0.77500000000000002]}], \"height\": 480.0, \"width\": 720.0, \"plugins\": [{\"type\": \"reset\"}, {\"enabled\": false, \"button\": true, \"type\": \"zoom\"}, {\"enabled\": false, \"button\": true, \"type\": \"boxzoom\"}], \"data\": {\"data02\": [[0.8694183094384709, 0.9534050179211468, 0.900537634408602, 0.8476702508960573, 0.7948028673835125, 0.7419354838709676], [0.9028711170848269, 0.9534050179211468, 0.900537634408602, 0.8476702508960573, 0.7948028673835125, 0.7419354838709676]], \"data03\": [[0.8526919056152927, 0.7069892473118279], [0.9880525686977301, 0.7069892473118279], [0.9880525686977301, 0.9820788530465948], [0.8526919056152927, 0.9820788530465948]], \"data01\": [[0.0, 6.321205781034678e-10, 2.9399205292435227e-10, 3.0764757408263677e-10, 2.8287105990898453e-10, 2.6904778405167917e-10], [1.0, 5.481153309006004e-10, 2.71519917660612e-10, 3.026312533904729e-10, 2.879803062683095e-10, 2.761573192344713e-10], [2.0, 4.679179266275924e-10, 2.329957338176314e-10, 2.6104118866498993e-10, 2.4274349197384026e-10, 2.218254468999703e-10], [3.0, 3.9418901476295787e-10, 1.8826784575765032e-10, 2.023161638220472e-10, 1.7570300769875757e-10, 1.4653289692745375e-10], [4.0, 3.284099658884543e-10, 1.4486623012288646e-10, 1.4378065404940799e-10, 1.1254497334078906e-10, 8.289458008903239e-11], [5.0, 2.7110658162854406e-10, 1.0714551468282707e-10, 9.5277674638794e-11, 6.53803677863607e-11, 4.1489256474847025e-11], [6.0, 2.221243189381994e-10, 7.67597096995587e-11, 5.96832583354967e-11, 3.513711543945419e-11, 1.885513967181396e-11], [7.0, 1.8088119890791177e-10, 5.359979127206316e-11, 3.573674689505424e-11, 1.7750023673102078e-11, 7.941425295143745e-12], [8.0, 1.4656786895272944e-10, 3.666711378969012e-11, 2.0639268072386585e-11, 8.536171769435441e-12, 3.1504798769788067e-12], [9.0, 1.1829037749322424e-10, 2.4674817744596567e-11, 1.1580958414469933e-11, 3.948286142474444e-12, 1.192157483842493e-12], [10.0, 9.516254451114037e-11, 1.638822411109686e-11, 6.350142633948508e-12, 1.7703616350672746e-12, 4.3498538104813633e-13], [11.0, 7.635991838839118e-11, 1.0771383784913269e-11, 3.4187097597282445e-12, 7.747136265834342e-13, 1.5432100042289676e-13], [12.0, 6.11464212596502e-11, 7.0207173408221024e-12, 1.8136603330276557e-12, 3.325117958752344e-13, 5.3512749786932545e-14], [13.0, 4.888345284115303e-11, 4.545475107420316e-12, 9.51017042893909e-13, 1.4033219031261979e-13, 1.8096635301390052e-14], [14.0, 3.902866918537029e-11, 2.9274360713316128e-12, 4.941602682606572e-13, 5.873079800267078e-14, 6.439293542825908e-15], [15.0, 3.112798907523029e-11, 1.8774981569436022e-12, 2.5490720645393594e-13, 2.4202861936828413e-14, 2.3314683517128287e-15], [16.0, 2.4805935083804798e-11, 1.2000400673173317e-12, 1.304512053934559e-13, 9.769962616701378e-15, 6.661338147750939e-16], [17.0, 1.9754864410970185e-11, 7.652767308741204e-13, 6.672440377997191e-14, 4.107825191113079e-15, 6.661338147750939e-16], [18.0, 1.572397767546363e-11, 4.866107516932061e-13, 3.397282455352979e-14, 1.6653345369377348e-15, 3.3306690738754696e-16], [19.0, 1.2510326108383651e-11, 3.090860900556436e-13, 1.7208456881689926e-14, 6.661338147750939e-16, 4.440892098500626e-16], [20.0, 9.95015181359804e-12, 1.9606538614880265e-13, 8.659739592076221e-15, 2.220446049250313e-16, 3.3306690738754696e-16], [21.0, 7.911782340386253e-12, 1.2423395645555502e-13, 4.3298697960381105e-15, 0.0, 3.3306690738754696e-16], [22.0, 6.289635479106437e-12, 7.849276784099857e-14, 2.1094237467877974e-15, 1.1102230246251565e-16, 1.1102230246251565e-16], [23.0, 4.99933427988708e-12, 4.9960036108132044e-14, 1.2212453270876722e-15, 2.220446049250313e-16, 5.551115123125783e-16], [24.0, 3.973155138226048e-12, 3.164135620181696e-14, 5.551115123125783e-16, 1.1102230246251565e-16, 4.440892098500626e-16], [25.0, 3.15725223742902e-12, 1.9872992140790302e-14, 1.1102230246251565e-16, 0.0, 1.1102230246251565e-16], [26.0, 2.5086599464430037e-12, 1.2434497875801753e-14, 1.1102230246251565e-16, 1.1102230246251565e-16, 0.0], [27.0, 1.993294418412006e-12, 8.104628079763643e-15, 2.220446049250313e-16, 2.220446049250313e-16, 4.440892098500626e-16], [28.0, 1.5836221223253233e-12, 4.9960036108132044e-15, 1.1102230246251565e-16, 0.0, 4.440892098500626e-16], [29.0, 1.2581047315052274e-12, 3.1086244689504383e-15, 0.0, 0.0, 2.220446049250313e-16], [30.0, 9.99422766767566e-13, 1.9984014443252818e-15, 1.1102230246251565e-16, 1.1102230246251565e-16, 1.1102230246251565e-16], [31.0, 7.94031507211912e-13, 1.3322676295501878e-15, 2.220446049250313e-16, 2.220446049250313e-16, 5.551115123125783e-16], [32.0, 6.307177002895514e-13, 7.771561172376096e-16, 0.0, 0.0, 1.1102230246251565e-16], [33.0, 5.010436510133331e-13, 4.440892098500626e-16, 0.0, 0.0, 3.3306690738754696e-16], [34.0, 3.980149543281186e-13, 4.440892098500626e-16, 1.1102230246251565e-16, 1.1102230246251565e-16, 4.440892098500626e-16], [35.0, 3.161915174132446e-13, 3.3306690738754696e-16, 1.1102230246251565e-16, 2.220446049250313e-16, 3.3306690738754696e-16], [36.0, 2.511324481702104e-13, 1.1102230246251565e-16, 1.1102230246251565e-16, 0.0, 2.220446049250313e-16], [37.0, 1.9950707752514063e-13, 1.1102230246251565e-16, 1.1102230246251565e-16, 0.0, 4.440892098500626e-16], [38.0, 1.5842882561400984e-13, 0.0, 0.0, 0.0, 1.1102230246251565e-16], [39.0, 1.2589929099249275e-13, 2.220446049250313e-16, 2.220446049250313e-16, 2.220446049250313e-16, 4.440892098500626e-16], [40.0, 9.992007221626409e-14, 1.1102230246251565e-16, 2.220446049250313e-16, 1.1102230246251565e-16, 0.0], [41.0, 7.938094626069869e-14, 0.0, 0.0, 0.0, 2.220446049250313e-16], [42.0, 6.306066779870889e-14, 0.0, 1.1102230246251565e-16, 0.0, 1.1102230246251565e-16], [43.0, 5.007105841059456e-14, 1.1102230246251565e-16, 0.0, 1.1102230246251565e-16, 1.1102230246251565e-16], [44.0, 3.9745984281580604e-14, 0.0, 0.0, 2.220446049250313e-16, 1.1102230246251565e-16], [45.0, 3.164135620181696e-14, 1.1102230246251565e-16, 2.220446049250313e-16, 3.3306690738754696e-16, 3.3306690738754696e-16], [46.0, 2.5091040356528538e-14, 0.0, 0.0, 0.0, 3.3306690738754696e-16], [47.0, 1.9872992140790302e-14, 1.1102230246251565e-16, 2.220446049250313e-16, 1.1102230246251565e-16, 1.1102230246251565e-16], [48.0, 1.5765166949677223e-14, 0.0, 1.1102230246251565e-16, 1.1102230246251565e-16, 1.1102230246251565e-16], [49.0, 1.2545520178264269e-14, 0.0, 1.1102230246251565e-16, 1.1102230246251565e-16, 1.1102230246251565e-16]]}, \"id\": \"el92444519189264\"});\n",
       "   }(mpld3);\n",
       "}else if(typeof define === \"function\" && define.amd){\n",
       "   // require.js is available: use it to load d3/mpld3\n",
       "   require.config({paths: {d3: \"https://mpld3.github.io/js/d3.v3.min\"}});\n",
       "   require([\"d3\"], function(d3){\n",
       "      window.d3 = d3;\n",
       "      mpld3_load_lib(\"https://mpld3.github.io/js/mpld3.v0.2.js\", function(){\n",
       "         \n",
       "         mpld3.draw_figure(\"fig_el924445191892641308697037\", {\"axes\": [{\"xlim\": [0.0, 50.0], \"yscale\": \"linear\", \"axesbg\": \"#FFFFFF\", \"texts\": [{\"v_baseline\": \"hanging\", \"h_anchor\": \"middle\", \"color\": \"#000000\", \"text\": \"SNR Fade Gap\", \"coordinates\": \"axes\", \"zorder\": 3, \"alpha\": 1, \"fontsize\": 16.0, \"position\": [0.5, -0.053763440860215034], \"rotation\": -0.0, \"id\": \"el92444579653520\"}, {\"v_baseline\": \"auto\", \"h_anchor\": \"middle\", \"color\": \"#000000\", \"text\": \"Difference in P(fail)\", \"coordinates\": \"axes\", \"zorder\": 3, \"alpha\": 1, \"fontsize\": 16.0, \"position\": [-0.028505824372759864, 0.5], \"rotation\": -90.0, \"id\": \"el92444580066448\"}, {\"v_baseline\": \"auto\", \"h_anchor\": \"start\", \"color\": \"#000000\", \"text\": \"None\", \"coordinates\": \"axes\", \"zorder\": 1000003.0, \"alpha\": 1, \"fontsize\": 10.0, \"position\": [-0.16129032258064516, -0.16129032258064516], \"rotation\": -0.0, \"id\": \"el92444584740752\"}, {\"v_baseline\": \"auto\", \"h_anchor\": \"start\", \"color\": \"#000000\", \"text\": \"N=1\", \"coordinates\": \"axes\", \"zorder\": 1000003.0, \"alpha\": 1, \"fontsize\": 12.0, \"position\": [0.92915546594982101, 0.94086021505376338], \"rotation\": -0.0, \"id\": \"el92444584607056\"}, {\"v_baseline\": \"auto\", \"h_anchor\": \"start\", \"color\": \"#000000\", \"text\": \"N=2\", \"coordinates\": \"axes\", \"zorder\": 1000003.0, \"alpha\": 1, \"fontsize\": 12.0, \"position\": [0.92915546594982101, 0.88799283154121855], \"rotation\": -0.0, \"id\": \"el92444584650384\"}, {\"v_baseline\": \"auto\", \"h_anchor\": \"start\", \"color\": \"#000000\", \"text\": \"N=3\", \"coordinates\": \"axes\", \"zorder\": 1000003.0, \"alpha\": 1, \"fontsize\": 12.0, \"position\": [0.92915546594982101, 0.83512544802867383], \"rotation\": -0.0, \"id\": \"el92444584652752\"}, {\"v_baseline\": \"auto\", \"h_anchor\": \"start\", \"color\": \"#000000\", \"text\": \"N=4\", \"coordinates\": \"axes\", \"zorder\": 1000003.0, \"alpha\": 1, \"fontsize\": 12.0, \"position\": [0.92915546594982101, 0.782258064516129], \"rotation\": -0.0, \"id\": \"el92444584652176\"}, {\"v_baseline\": \"auto\", \"h_anchor\": \"start\", \"color\": \"#000000\", \"text\": \"N=5\", \"coordinates\": \"axes\", \"zorder\": 1000003.0, \"alpha\": 1, \"fontsize\": 12.0, \"position\": [0.92915546594982101, 0.72939068100358417], \"rotation\": -0.0, \"id\": \"el92444584692880\"}], \"zoomable\": true, \"images\": [], \"xdomain\": [0.0, 50.0], \"ylim\": [0.0, 6.9999999999999996e-10], \"paths\": [{\"edgecolor\": \"#000000\", \"facecolor\": \"#FFFFFF\", \"edgewidth\": 1.0, \"pathcodes\": [\"M\", \"L\", \"L\", \"L\", \"Z\"], \"yindex\": 1, \"coordinates\": \"axes\", \"dasharray\": \"10,0\", \"zorder\": 1000001.0, \"alpha\": 1, \"xindex\": 0, \"data\": \"data03\", \"id\": \"el92444519075152\"}], \"sharey\": [], \"sharex\": [], \"axesbgalpha\": null, \"axes\": [{\"scale\": \"linear\", \"tickformat\": null, \"grid\": {\"gridOn\": false}, \"fontsize\": 10.0, \"position\": \"bottom\", \"nticks\": 6, \"tickvalues\": null}, {\"scale\": \"linear\", \"tickformat\": null, \"grid\": {\"gridOn\": false}, \"fontsize\": 10.0, \"position\": \"left\", \"nticks\": 9, \"tickvalues\": null}], \"lines\": [{\"color\": \"#0000FF\", \"yindex\": 1, \"coordinates\": \"data\", \"dasharray\": \"10,0\", \"zorder\": 2, \"alpha\": 1, \"xindex\": 0, \"linewidth\": 2.0, \"data\": \"data01\", \"id\": \"el92444583533072\"}, {\"color\": \"#007F00\", \"yindex\": 2, \"coordinates\": \"data\", \"dasharray\": \"10,0\", \"zorder\": 2, \"alpha\": 1, \"xindex\": 0, \"linewidth\": 2.0, \"data\": \"data01\", \"id\": \"el92444583533776\"}, {\"color\": \"#FF0000\", \"yindex\": 3, \"coordinates\": \"data\", \"dasharray\": \"10,0\", \"zorder\": 2, \"alpha\": 1, \"xindex\": 0, \"linewidth\": 2.0, \"data\": \"data01\", \"id\": \"el92444583584720\"}, {\"color\": \"#00BFBF\", \"yindex\": 4, \"coordinates\": \"data\", \"dasharray\": \"10,0\", \"zorder\": 2, \"alpha\": 1, \"xindex\": 0, \"linewidth\": 2.0, \"data\": \"data01\", \"id\": \"el92444583586320\"}, {\"color\": \"#BF00BF\", \"yindex\": 5, \"coordinates\": \"data\", \"dasharray\": \"10,0\", \"zorder\": 2, \"alpha\": 1, \"xindex\": 0, \"linewidth\": 2.0, \"data\": \"data01\", \"id\": \"el92444584603792\"}, {\"color\": \"#0000FF\", \"yindex\": 1, \"coordinates\": \"axes\", \"dasharray\": \"10,0\", \"zorder\": 1000002.0, \"alpha\": 1, \"xindex\": 0, \"linewidth\": 2.0, \"data\": \"data02\", \"id\": \"el92444584648912\"}, {\"color\": \"#007F00\", \"yindex\": 2, \"coordinates\": \"axes\", \"dasharray\": \"10,0\", \"zorder\": 1000002.0, \"alpha\": 1, \"xindex\": 0, \"linewidth\": 2.0, \"data\": \"data02\", \"id\": \"el92444584651280\"}, {\"color\": \"#FF0000\", \"yindex\": 3, \"coordinates\": \"axes\", \"dasharray\": \"10,0\", \"zorder\": 1000002.0, \"alpha\": 1, \"xindex\": 0, \"linewidth\": 2.0, \"data\": \"data02\", \"id\": \"el92444584690576\"}, {\"color\": \"#00BFBF\", \"yindex\": 4, \"coordinates\": \"axes\", \"dasharray\": \"10,0\", \"zorder\": 1000002.0, \"alpha\": 1, \"xindex\": 0, \"linewidth\": 2.0, \"data\": \"data02\", \"id\": \"el92444584649040\"}, {\"color\": \"#BF00BF\", \"yindex\": 5, \"coordinates\": \"axes\", \"dasharray\": \"10,0\", \"zorder\": 1000002.0, \"alpha\": 1, \"xindex\": 0, \"linewidth\": 2.0, \"data\": \"data02\", \"id\": \"el92444584738896\"}], \"markers\": [], \"id\": \"el92444575770192\", \"ydomain\": [0.0, 6.9999999999999996e-10], \"collections\": [], \"xscale\": \"linear\", \"bbox\": [0.125, 0.125, 0.77500000000000002, 0.77500000000000002]}], \"height\": 480.0, \"width\": 720.0, \"plugins\": [{\"type\": \"reset\"}, {\"enabled\": false, \"button\": true, \"type\": \"zoom\"}, {\"enabled\": false, \"button\": true, \"type\": \"boxzoom\"}], \"data\": {\"data02\": [[0.8694183094384709, 0.9534050179211468, 0.900537634408602, 0.8476702508960573, 0.7948028673835125, 0.7419354838709676], [0.9028711170848269, 0.9534050179211468, 0.900537634408602, 0.8476702508960573, 0.7948028673835125, 0.7419354838709676]], \"data03\": [[0.8526919056152927, 0.7069892473118279], [0.9880525686977301, 0.7069892473118279], [0.9880525686977301, 0.9820788530465948], [0.8526919056152927, 0.9820788530465948]], \"data01\": [[0.0, 6.321205781034678e-10, 2.9399205292435227e-10, 3.0764757408263677e-10, 2.8287105990898453e-10, 2.6904778405167917e-10], [1.0, 5.481153309006004e-10, 2.71519917660612e-10, 3.026312533904729e-10, 2.879803062683095e-10, 2.761573192344713e-10], [2.0, 4.679179266275924e-10, 2.329957338176314e-10, 2.6104118866498993e-10, 2.4274349197384026e-10, 2.218254468999703e-10], [3.0, 3.9418901476295787e-10, 1.8826784575765032e-10, 2.023161638220472e-10, 1.7570300769875757e-10, 1.4653289692745375e-10], [4.0, 3.284099658884543e-10, 1.4486623012288646e-10, 1.4378065404940799e-10, 1.1254497334078906e-10, 8.289458008903239e-11], [5.0, 2.7110658162854406e-10, 1.0714551468282707e-10, 9.5277674638794e-11, 6.53803677863607e-11, 4.1489256474847025e-11], [6.0, 2.221243189381994e-10, 7.67597096995587e-11, 5.96832583354967e-11, 3.513711543945419e-11, 1.885513967181396e-11], [7.0, 1.8088119890791177e-10, 5.359979127206316e-11, 3.573674689505424e-11, 1.7750023673102078e-11, 7.941425295143745e-12], [8.0, 1.4656786895272944e-10, 3.666711378969012e-11, 2.0639268072386585e-11, 8.536171769435441e-12, 3.1504798769788067e-12], [9.0, 1.1829037749322424e-10, 2.4674817744596567e-11, 1.1580958414469933e-11, 3.948286142474444e-12, 1.192157483842493e-12], [10.0, 9.516254451114037e-11, 1.638822411109686e-11, 6.350142633948508e-12, 1.7703616350672746e-12, 4.3498538104813633e-13], [11.0, 7.635991838839118e-11, 1.0771383784913269e-11, 3.4187097597282445e-12, 7.747136265834342e-13, 1.5432100042289676e-13], [12.0, 6.11464212596502e-11, 7.0207173408221024e-12, 1.8136603330276557e-12, 3.325117958752344e-13, 5.3512749786932545e-14], [13.0, 4.888345284115303e-11, 4.545475107420316e-12, 9.51017042893909e-13, 1.4033219031261979e-13, 1.8096635301390052e-14], [14.0, 3.902866918537029e-11, 2.9274360713316128e-12, 4.941602682606572e-13, 5.873079800267078e-14, 6.439293542825908e-15], [15.0, 3.112798907523029e-11, 1.8774981569436022e-12, 2.5490720645393594e-13, 2.4202861936828413e-14, 2.3314683517128287e-15], [16.0, 2.4805935083804798e-11, 1.2000400673173317e-12, 1.304512053934559e-13, 9.769962616701378e-15, 6.661338147750939e-16], [17.0, 1.9754864410970185e-11, 7.652767308741204e-13, 6.672440377997191e-14, 4.107825191113079e-15, 6.661338147750939e-16], [18.0, 1.572397767546363e-11, 4.866107516932061e-13, 3.397282455352979e-14, 1.6653345369377348e-15, 3.3306690738754696e-16], [19.0, 1.2510326108383651e-11, 3.090860900556436e-13, 1.7208456881689926e-14, 6.661338147750939e-16, 4.440892098500626e-16], [20.0, 9.95015181359804e-12, 1.9606538614880265e-13, 8.659739592076221e-15, 2.220446049250313e-16, 3.3306690738754696e-16], [21.0, 7.911782340386253e-12, 1.2423395645555502e-13, 4.3298697960381105e-15, 0.0, 3.3306690738754696e-16], [22.0, 6.289635479106437e-12, 7.849276784099857e-14, 2.1094237467877974e-15, 1.1102230246251565e-16, 1.1102230246251565e-16], [23.0, 4.99933427988708e-12, 4.9960036108132044e-14, 1.2212453270876722e-15, 2.220446049250313e-16, 5.551115123125783e-16], [24.0, 3.973155138226048e-12, 3.164135620181696e-14, 5.551115123125783e-16, 1.1102230246251565e-16, 4.440892098500626e-16], [25.0, 3.15725223742902e-12, 1.9872992140790302e-14, 1.1102230246251565e-16, 0.0, 1.1102230246251565e-16], [26.0, 2.5086599464430037e-12, 1.2434497875801753e-14, 1.1102230246251565e-16, 1.1102230246251565e-16, 0.0], [27.0, 1.993294418412006e-12, 8.104628079763643e-15, 2.220446049250313e-16, 2.220446049250313e-16, 4.440892098500626e-16], [28.0, 1.5836221223253233e-12, 4.9960036108132044e-15, 1.1102230246251565e-16, 0.0, 4.440892098500626e-16], [29.0, 1.2581047315052274e-12, 3.1086244689504383e-15, 0.0, 0.0, 2.220446049250313e-16], [30.0, 9.99422766767566e-13, 1.9984014443252818e-15, 1.1102230246251565e-16, 1.1102230246251565e-16, 1.1102230246251565e-16], [31.0, 7.94031507211912e-13, 1.3322676295501878e-15, 2.220446049250313e-16, 2.220446049250313e-16, 5.551115123125783e-16], [32.0, 6.307177002895514e-13, 7.771561172376096e-16, 0.0, 0.0, 1.1102230246251565e-16], [33.0, 5.010436510133331e-13, 4.440892098500626e-16, 0.0, 0.0, 3.3306690738754696e-16], [34.0, 3.980149543281186e-13, 4.440892098500626e-16, 1.1102230246251565e-16, 1.1102230246251565e-16, 4.440892098500626e-16], [35.0, 3.161915174132446e-13, 3.3306690738754696e-16, 1.1102230246251565e-16, 2.220446049250313e-16, 3.3306690738754696e-16], [36.0, 2.511324481702104e-13, 1.1102230246251565e-16, 1.1102230246251565e-16, 0.0, 2.220446049250313e-16], [37.0, 1.9950707752514063e-13, 1.1102230246251565e-16, 1.1102230246251565e-16, 0.0, 4.440892098500626e-16], [38.0, 1.5842882561400984e-13, 0.0, 0.0, 0.0, 1.1102230246251565e-16], [39.0, 1.2589929099249275e-13, 2.220446049250313e-16, 2.220446049250313e-16, 2.220446049250313e-16, 4.440892098500626e-16], [40.0, 9.992007221626409e-14, 1.1102230246251565e-16, 2.220446049250313e-16, 1.1102230246251565e-16, 0.0], [41.0, 7.938094626069869e-14, 0.0, 0.0, 0.0, 2.220446049250313e-16], [42.0, 6.306066779870889e-14, 0.0, 1.1102230246251565e-16, 0.0, 1.1102230246251565e-16], [43.0, 5.007105841059456e-14, 1.1102230246251565e-16, 0.0, 1.1102230246251565e-16, 1.1102230246251565e-16], [44.0, 3.9745984281580604e-14, 0.0, 0.0, 2.220446049250313e-16, 1.1102230246251565e-16], [45.0, 3.164135620181696e-14, 1.1102230246251565e-16, 2.220446049250313e-16, 3.3306690738754696e-16, 3.3306690738754696e-16], [46.0, 2.5091040356528538e-14, 0.0, 0.0, 0.0, 3.3306690738754696e-16], [47.0, 1.9872992140790302e-14, 1.1102230246251565e-16, 2.220446049250313e-16, 1.1102230246251565e-16, 1.1102230246251565e-16], [48.0, 1.5765166949677223e-14, 0.0, 1.1102230246251565e-16, 1.1102230246251565e-16, 1.1102230246251565e-16], [49.0, 1.2545520178264269e-14, 0.0, 1.1102230246251565e-16, 1.1102230246251565e-16, 1.1102230246251565e-16]]}, \"id\": \"el92444519189264\"});\n",
       "      });\n",
       "    });\n",
       "}else{\n",
       "    // require.js not available: dynamically load d3 & mpld3\n",
       "    mpld3_load_lib(\"https://mpld3.github.io/js/d3.v3.min.js\", function(){\n",
       "         mpld3_load_lib(\"https://mpld3.github.io/js/mpld3.v0.2.js\", function(){\n",
       "                 \n",
       "                 mpld3.draw_figure(\"fig_el924445191892641308697037\", {\"axes\": [{\"xlim\": [0.0, 50.0], \"yscale\": \"linear\", \"axesbg\": \"#FFFFFF\", \"texts\": [{\"v_baseline\": \"hanging\", \"h_anchor\": \"middle\", \"color\": \"#000000\", \"text\": \"SNR Fade Gap\", \"coordinates\": \"axes\", \"zorder\": 3, \"alpha\": 1, \"fontsize\": 16.0, \"position\": [0.5, -0.053763440860215034], \"rotation\": -0.0, \"id\": \"el92444579653520\"}, {\"v_baseline\": \"auto\", \"h_anchor\": \"middle\", \"color\": \"#000000\", \"text\": \"Difference in P(fail)\", \"coordinates\": \"axes\", \"zorder\": 3, \"alpha\": 1, \"fontsize\": 16.0, \"position\": [-0.028505824372759864, 0.5], \"rotation\": -90.0, \"id\": \"el92444580066448\"}, {\"v_baseline\": \"auto\", \"h_anchor\": \"start\", \"color\": \"#000000\", \"text\": \"None\", \"coordinates\": \"axes\", \"zorder\": 1000003.0, \"alpha\": 1, \"fontsize\": 10.0, \"position\": [-0.16129032258064516, -0.16129032258064516], \"rotation\": -0.0, \"id\": \"el92444584740752\"}, {\"v_baseline\": \"auto\", \"h_anchor\": \"start\", \"color\": \"#000000\", \"text\": \"N=1\", \"coordinates\": \"axes\", \"zorder\": 1000003.0, \"alpha\": 1, \"fontsize\": 12.0, \"position\": [0.92915546594982101, 0.94086021505376338], \"rotation\": -0.0, \"id\": \"el92444584607056\"}, {\"v_baseline\": \"auto\", \"h_anchor\": \"start\", \"color\": \"#000000\", \"text\": \"N=2\", \"coordinates\": \"axes\", \"zorder\": 1000003.0, \"alpha\": 1, \"fontsize\": 12.0, \"position\": [0.92915546594982101, 0.88799283154121855], \"rotation\": -0.0, \"id\": \"el92444584650384\"}, {\"v_baseline\": \"auto\", \"h_anchor\": \"start\", \"color\": \"#000000\", \"text\": \"N=3\", \"coordinates\": \"axes\", \"zorder\": 1000003.0, \"alpha\": 1, \"fontsize\": 12.0, \"position\": [0.92915546594982101, 0.83512544802867383], \"rotation\": -0.0, \"id\": \"el92444584652752\"}, {\"v_baseline\": \"auto\", \"h_anchor\": \"start\", \"color\": \"#000000\", \"text\": \"N=4\", \"coordinates\": \"axes\", \"zorder\": 1000003.0, \"alpha\": 1, \"fontsize\": 12.0, \"position\": [0.92915546594982101, 0.782258064516129], \"rotation\": -0.0, \"id\": \"el92444584652176\"}, {\"v_baseline\": \"auto\", \"h_anchor\": \"start\", \"color\": \"#000000\", \"text\": \"N=5\", \"coordinates\": \"axes\", \"zorder\": 1000003.0, \"alpha\": 1, \"fontsize\": 12.0, \"position\": [0.92915546594982101, 0.72939068100358417], \"rotation\": -0.0, \"id\": \"el92444584692880\"}], \"zoomable\": true, \"images\": [], \"xdomain\": [0.0, 50.0], \"ylim\": [0.0, 6.9999999999999996e-10], \"paths\": [{\"edgecolor\": \"#000000\", \"facecolor\": \"#FFFFFF\", \"edgewidth\": 1.0, \"pathcodes\": [\"M\", \"L\", \"L\", \"L\", \"Z\"], \"yindex\": 1, \"coordinates\": \"axes\", \"dasharray\": \"10,0\", \"zorder\": 1000001.0, \"alpha\": 1, \"xindex\": 0, \"data\": \"data03\", \"id\": \"el92444519075152\"}], \"sharey\": [], \"sharex\": [], \"axesbgalpha\": null, \"axes\": [{\"scale\": \"linear\", \"tickformat\": null, \"grid\": {\"gridOn\": false}, \"fontsize\": 10.0, \"position\": \"bottom\", \"nticks\": 6, \"tickvalues\": null}, {\"scale\": \"linear\", \"tickformat\": null, \"grid\": {\"gridOn\": false}, \"fontsize\": 10.0, \"position\": \"left\", \"nticks\": 9, \"tickvalues\": null}], \"lines\": [{\"color\": \"#0000FF\", \"yindex\": 1, \"coordinates\": \"data\", \"dasharray\": \"10,0\", \"zorder\": 2, \"alpha\": 1, \"xindex\": 0, \"linewidth\": 2.0, \"data\": \"data01\", \"id\": \"el92444583533072\"}, {\"color\": \"#007F00\", \"yindex\": 2, \"coordinates\": \"data\", \"dasharray\": \"10,0\", \"zorder\": 2, \"alpha\": 1, \"xindex\": 0, \"linewidth\": 2.0, \"data\": \"data01\", \"id\": \"el92444583533776\"}, {\"color\": \"#FF0000\", \"yindex\": 3, \"coordinates\": \"data\", \"dasharray\": \"10,0\", \"zorder\": 2, \"alpha\": 1, \"xindex\": 0, \"linewidth\": 2.0, \"data\": \"data01\", \"id\": \"el92444583584720\"}, {\"color\": \"#00BFBF\", \"yindex\": 4, \"coordinates\": \"data\", \"dasharray\": \"10,0\", \"zorder\": 2, \"alpha\": 1, \"xindex\": 0, \"linewidth\": 2.0, \"data\": \"data01\", \"id\": \"el92444583586320\"}, {\"color\": \"#BF00BF\", \"yindex\": 5, \"coordinates\": \"data\", \"dasharray\": \"10,0\", \"zorder\": 2, \"alpha\": 1, \"xindex\": 0, \"linewidth\": 2.0, \"data\": \"data01\", \"id\": \"el92444584603792\"}, {\"color\": \"#0000FF\", \"yindex\": 1, \"coordinates\": \"axes\", \"dasharray\": \"10,0\", \"zorder\": 1000002.0, \"alpha\": 1, \"xindex\": 0, \"linewidth\": 2.0, \"data\": \"data02\", \"id\": \"el92444584648912\"}, {\"color\": \"#007F00\", \"yindex\": 2, \"coordinates\": \"axes\", \"dasharray\": \"10,0\", \"zorder\": 1000002.0, \"alpha\": 1, \"xindex\": 0, \"linewidth\": 2.0, \"data\": \"data02\", \"id\": \"el92444584651280\"}, {\"color\": \"#FF0000\", \"yindex\": 3, \"coordinates\": \"axes\", \"dasharray\": \"10,0\", \"zorder\": 1000002.0, \"alpha\": 1, \"xindex\": 0, \"linewidth\": 2.0, \"data\": \"data02\", \"id\": \"el92444584690576\"}, {\"color\": \"#00BFBF\", \"yindex\": 4, \"coordinates\": \"axes\", \"dasharray\": \"10,0\", \"zorder\": 1000002.0, \"alpha\": 1, \"xindex\": 0, \"linewidth\": 2.0, \"data\": \"data02\", \"id\": \"el92444584649040\"}, {\"color\": \"#BF00BF\", \"yindex\": 5, \"coordinates\": \"axes\", \"dasharray\": \"10,0\", \"zorder\": 1000002.0, \"alpha\": 1, \"xindex\": 0, \"linewidth\": 2.0, \"data\": \"data02\", \"id\": \"el92444584738896\"}], \"markers\": [], \"id\": \"el92444575770192\", \"ydomain\": [0.0, 6.9999999999999996e-10], \"collections\": [], \"xscale\": \"linear\", \"bbox\": [0.125, 0.125, 0.77500000000000002, 0.77500000000000002]}], \"height\": 480.0, \"width\": 720.0, \"plugins\": [{\"type\": \"reset\"}, {\"enabled\": false, \"button\": true, \"type\": \"zoom\"}, {\"enabled\": false, \"button\": true, \"type\": \"boxzoom\"}], \"data\": {\"data02\": [[0.8694183094384709, 0.9534050179211468, 0.900537634408602, 0.8476702508960573, 0.7948028673835125, 0.7419354838709676], [0.9028711170848269, 0.9534050179211468, 0.900537634408602, 0.8476702508960573, 0.7948028673835125, 0.7419354838709676]], \"data03\": [[0.8526919056152927, 0.7069892473118279], [0.9880525686977301, 0.7069892473118279], [0.9880525686977301, 0.9820788530465948], [0.8526919056152927, 0.9820788530465948]], \"data01\": [[0.0, 6.321205781034678e-10, 2.9399205292435227e-10, 3.0764757408263677e-10, 2.8287105990898453e-10, 2.6904778405167917e-10], [1.0, 5.481153309006004e-10, 2.71519917660612e-10, 3.026312533904729e-10, 2.879803062683095e-10, 2.761573192344713e-10], [2.0, 4.679179266275924e-10, 2.329957338176314e-10, 2.6104118866498993e-10, 2.4274349197384026e-10, 2.218254468999703e-10], [3.0, 3.9418901476295787e-10, 1.8826784575765032e-10, 2.023161638220472e-10, 1.7570300769875757e-10, 1.4653289692745375e-10], [4.0, 3.284099658884543e-10, 1.4486623012288646e-10, 1.4378065404940799e-10, 1.1254497334078906e-10, 8.289458008903239e-11], [5.0, 2.7110658162854406e-10, 1.0714551468282707e-10, 9.5277674638794e-11, 6.53803677863607e-11, 4.1489256474847025e-11], [6.0, 2.221243189381994e-10, 7.67597096995587e-11, 5.96832583354967e-11, 3.513711543945419e-11, 1.885513967181396e-11], [7.0, 1.8088119890791177e-10, 5.359979127206316e-11, 3.573674689505424e-11, 1.7750023673102078e-11, 7.941425295143745e-12], [8.0, 1.4656786895272944e-10, 3.666711378969012e-11, 2.0639268072386585e-11, 8.536171769435441e-12, 3.1504798769788067e-12], [9.0, 1.1829037749322424e-10, 2.4674817744596567e-11, 1.1580958414469933e-11, 3.948286142474444e-12, 1.192157483842493e-12], [10.0, 9.516254451114037e-11, 1.638822411109686e-11, 6.350142633948508e-12, 1.7703616350672746e-12, 4.3498538104813633e-13], [11.0, 7.635991838839118e-11, 1.0771383784913269e-11, 3.4187097597282445e-12, 7.747136265834342e-13, 1.5432100042289676e-13], [12.0, 6.11464212596502e-11, 7.0207173408221024e-12, 1.8136603330276557e-12, 3.325117958752344e-13, 5.3512749786932545e-14], [13.0, 4.888345284115303e-11, 4.545475107420316e-12, 9.51017042893909e-13, 1.4033219031261979e-13, 1.8096635301390052e-14], [14.0, 3.902866918537029e-11, 2.9274360713316128e-12, 4.941602682606572e-13, 5.873079800267078e-14, 6.439293542825908e-15], [15.0, 3.112798907523029e-11, 1.8774981569436022e-12, 2.5490720645393594e-13, 2.4202861936828413e-14, 2.3314683517128287e-15], [16.0, 2.4805935083804798e-11, 1.2000400673173317e-12, 1.304512053934559e-13, 9.769962616701378e-15, 6.661338147750939e-16], [17.0, 1.9754864410970185e-11, 7.652767308741204e-13, 6.672440377997191e-14, 4.107825191113079e-15, 6.661338147750939e-16], [18.0, 1.572397767546363e-11, 4.866107516932061e-13, 3.397282455352979e-14, 1.6653345369377348e-15, 3.3306690738754696e-16], [19.0, 1.2510326108383651e-11, 3.090860900556436e-13, 1.7208456881689926e-14, 6.661338147750939e-16, 4.440892098500626e-16], [20.0, 9.95015181359804e-12, 1.9606538614880265e-13, 8.659739592076221e-15, 2.220446049250313e-16, 3.3306690738754696e-16], [21.0, 7.911782340386253e-12, 1.2423395645555502e-13, 4.3298697960381105e-15, 0.0, 3.3306690738754696e-16], [22.0, 6.289635479106437e-12, 7.849276784099857e-14, 2.1094237467877974e-15, 1.1102230246251565e-16, 1.1102230246251565e-16], [23.0, 4.99933427988708e-12, 4.9960036108132044e-14, 1.2212453270876722e-15, 2.220446049250313e-16, 5.551115123125783e-16], [24.0, 3.973155138226048e-12, 3.164135620181696e-14, 5.551115123125783e-16, 1.1102230246251565e-16, 4.440892098500626e-16], [25.0, 3.15725223742902e-12, 1.9872992140790302e-14, 1.1102230246251565e-16, 0.0, 1.1102230246251565e-16], [26.0, 2.5086599464430037e-12, 1.2434497875801753e-14, 1.1102230246251565e-16, 1.1102230246251565e-16, 0.0], [27.0, 1.993294418412006e-12, 8.104628079763643e-15, 2.220446049250313e-16, 2.220446049250313e-16, 4.440892098500626e-16], [28.0, 1.5836221223253233e-12, 4.9960036108132044e-15, 1.1102230246251565e-16, 0.0, 4.440892098500626e-16], [29.0, 1.2581047315052274e-12, 3.1086244689504383e-15, 0.0, 0.0, 2.220446049250313e-16], [30.0, 9.99422766767566e-13, 1.9984014443252818e-15, 1.1102230246251565e-16, 1.1102230246251565e-16, 1.1102230246251565e-16], [31.0, 7.94031507211912e-13, 1.3322676295501878e-15, 2.220446049250313e-16, 2.220446049250313e-16, 5.551115123125783e-16], [32.0, 6.307177002895514e-13, 7.771561172376096e-16, 0.0, 0.0, 1.1102230246251565e-16], [33.0, 5.010436510133331e-13, 4.440892098500626e-16, 0.0, 0.0, 3.3306690738754696e-16], [34.0, 3.980149543281186e-13, 4.440892098500626e-16, 1.1102230246251565e-16, 1.1102230246251565e-16, 4.440892098500626e-16], [35.0, 3.161915174132446e-13, 3.3306690738754696e-16, 1.1102230246251565e-16, 2.220446049250313e-16, 3.3306690738754696e-16], [36.0, 2.511324481702104e-13, 1.1102230246251565e-16, 1.1102230246251565e-16, 0.0, 2.220446049250313e-16], [37.0, 1.9950707752514063e-13, 1.1102230246251565e-16, 1.1102230246251565e-16, 0.0, 4.440892098500626e-16], [38.0, 1.5842882561400984e-13, 0.0, 0.0, 0.0, 1.1102230246251565e-16], [39.0, 1.2589929099249275e-13, 2.220446049250313e-16, 2.220446049250313e-16, 2.220446049250313e-16, 4.440892098500626e-16], [40.0, 9.992007221626409e-14, 1.1102230246251565e-16, 2.220446049250313e-16, 1.1102230246251565e-16, 0.0], [41.0, 7.938094626069869e-14, 0.0, 0.0, 0.0, 2.220446049250313e-16], [42.0, 6.306066779870889e-14, 0.0, 1.1102230246251565e-16, 0.0, 1.1102230246251565e-16], [43.0, 5.007105841059456e-14, 1.1102230246251565e-16, 0.0, 1.1102230246251565e-16, 1.1102230246251565e-16], [44.0, 3.9745984281580604e-14, 0.0, 0.0, 2.220446049250313e-16, 1.1102230246251565e-16], [45.0, 3.164135620181696e-14, 1.1102230246251565e-16, 2.220446049250313e-16, 3.3306690738754696e-16, 3.3306690738754696e-16], [46.0, 2.5091040356528538e-14, 0.0, 0.0, 0.0, 3.3306690738754696e-16], [47.0, 1.9872992140790302e-14, 1.1102230246251565e-16, 2.220446049250313e-16, 1.1102230246251565e-16, 1.1102230246251565e-16], [48.0, 1.5765166949677223e-14, 0.0, 1.1102230246251565e-16, 1.1102230246251565e-16, 1.1102230246251565e-16], [49.0, 1.2545520178264269e-14, 0.0, 1.1102230246251565e-16, 1.1102230246251565e-16, 1.1102230246251565e-16]]}, \"id\": \"el92444519189264\"});\n",
       "            })\n",
       "         });\n",
       "}\n",
       "</script>"
      ],
      "text/plain": [
       "<matplotlib.figure.Figure at 0x10d5d5b10>"
      ]
     },
     "metadata": {},
     "output_type": "display_data"
    }
   ],
   "source": [
    "print pfail[0,:50] - pfail_2[0,:50]\n",
    "figure(figsize=(9, 6))\n",
    "for n in range(1, 6, 1):\n",
    "    plot(array(SNR[:50]) - 1, abs(pfail[n-1,:50] - pfail_2[n-1,:50]), lw=2.0, label='N={}'.format(n))\n",
    "xlabel('SNR Fade Gap', fontsize=16)\n",
    "ylabel('Difference in P(fail)', fontsize=16)\n",
    "legend(loc=0)\n",
    "savefig('diff_between_analysis_50.pdf', bbox='tight')\n",
    "# title('N = 2', fontsize=20)"
   ]
  },
  {
   "cell_type": "markdown",
   "metadata": {},
   "source": [
    "# Short Blocklength Test"
   ]
  },
  {
   "cell_type": "code",
   "execution_count": 50,
   "metadata": {
    "collapsed": true
   },
   "outputs": [],
   "source": [
    "protocol_target = 10**(-9)\n",
    "rx_SNR_range = arange(0, 12, 0.01)\n",
    "# tx_SNR_range = arange(30, -10*log10(protocol_target), 0.01)\n",
    "protocolbit = 4200\n",
    "start_node, end_node = 2, 6\n",
    "user_range = arange(start_node, end_node, 1)"
   ]
  },
  {
   "cell_type": "code",
   "execution_count": 51,
   "metadata": {
    "collapsed": true
   },
   "outputs": [],
   "source": [
    "filepath_down = \"../data_tables/short_block_test/default/down/n\"\n",
    "filepath_up = \"../data_tables/short_block_test/default/up/n\""
   ]
  },
  {
   "cell_type": "markdown",
   "metadata": {},
   "source": [
    "## Old Optimize 1"
   ]
  },
  {
   "cell_type": "code",
   "execution_count": 112,
   "metadata": {
    "collapsed": false
   },
   "outputs": [
    {
     "name": "stdout",
     "output_type": "stream",
     "text": [
      "CPU times: user 787 ms, sys: 6.18 ms, total: 794 ms\n",
      "Wall time: 799 ms\n"
     ]
    }
   ],
   "source": [
    "%%time\n",
    "%run ../optimize_pkg.py\n",
    "optimize_1_data = zeros((5, 5))\n",
    "tx_SNR_range = arange(32, 60, 0.01)\n",
    "for N in user_range:\n",
    "    optimize_1_data[N-1] = optimize_1(N, rx_SNR_range, tx_SNR_range, filepath_down, filepath_up, protocolbit)"
   ]
  },
  {
   "cell_type": "code",
   "execution_count": 113,
   "metadata": {
    "collapsed": false
   },
   "outputs": [
    {
     "name": "stdout",
     "output_type": "stream",
     "text": [
      "[[    0.       0.       0.       0.       0.  ]\n",
      " [   50.94     3.55  1400.    1400.    1400.  ]\n",
      " [   38.65     5.31  1400.    1400.    1400.  ]\n",
      " [   34.44     8.29  1400.    1400.    1400.  ]\n",
      " [   32.92    11.18  1400.    1400.    1400.  ]]\n"
     ]
    }
   ],
   "source": [
    "print optimize_1_data"
   ]
  },
  {
   "cell_type": "markdown",
   "metadata": {},
   "source": [
    "## New Optimize 1"
   ]
  },
  {
   "cell_type": "code",
   "execution_count": 115,
   "metadata": {
    "collapsed": false
   },
   "outputs": [
    {
     "name": "stdout",
     "output_type": "stream",
     "text": [
      "5 [  3.29200000e+01   1.11800000e+01   1.09100000e+01   1.09100000e+01\n",
      "   9.41287048e-11   9.55602264e-11   9.55602264e-11]\n",
      "4 [  3.44400000e+01   5.05000000e+00   8.29000000e+00   8.29000000e+00\n",
      "   9.50248074e-11   9.82982445e-11   9.82982445e-11]\n",
      "3 [  3.86500000e+01   3.34000000e+00   5.31000000e+00   5.31000000e+00\n",
      "   8.67846335e-11   9.57194967e-11   9.57194967e-11]\n",
      "2 [  5.09400000e+01   2.44000000e+00   3.55000000e+00   3.55000000e+00\n",
      "   8.60089696e-11   9.48693257e-11   9.48693257e-11]\n",
      "CPU times: user 4min 25s, sys: 948 ms, total: 4min 26s\n",
      "Wall time: 4min 29s\n"
     ]
    }
   ],
   "source": [
    "%%time\n",
    "%run ../optimize_pkg_2.py\n",
    "optimize_1_data_2 = zeros((5, 7))\n",
    "tx_SNR_range = arange(32, 60, 0.01)\n",
    "for N in user_range[::-1]:\n",
    "    optimize_1_data_2[N-1] = optimize_1(N, tx_SNR_range, filepath_down, filepath_up, protocolbit)\n",
    "    print N, optimize_1_data_2[N-1]"
   ]
  },
  {
   "cell_type": "code",
   "execution_count": 109,
   "metadata": {
    "collapsed": false
   },
   "outputs": [
    {
     "name": "stdout",
     "output_type": "stream",
     "text": [
      "[[  0.00000000e+00   0.00000000e+00   0.00000000e+00   0.00000000e+00\n",
      "    0.00000000e+00   0.00000000e+00   0.00000000e+00]\n",
      " [  5.10000000e+01   2.44000000e+00   3.55000000e+00   3.55000000e+00\n",
      "    8.60089696e-11   9.48693257e-11   9.48693257e-11]\n",
      " [  3.87000000e+01   3.34000000e+00   5.31000000e+00   5.31000000e+00\n",
      "    8.67846335e-11   9.57194967e-11   9.57194967e-11]\n",
      " [  3.45000000e+01   5.05000000e+00   8.29000000e+00   8.29000000e+00\n",
      "    9.50248074e-11   9.82982445e-11   9.82982445e-11]\n",
      " [  3.30000000e+01   1.11800000e+01   1.09100000e+01   1.09100000e+01\n",
      "    9.41287048e-11   9.55602264e-11   9.55602264e-11]]\n"
     ]
    }
   ],
   "source": [
    "print optimize_1_data_2"
   ]
  },
  {
   "cell_type": "markdown",
   "metadata": {},
   "source": [
    "## New Optimize 3"
   ]
  },
  {
   "cell_type": "code",
   "execution_count": 58,
   "metadata": {
    "collapsed": false
   },
   "outputs": [
    {
     "name": "stderr",
     "output_type": "stream",
     "text": [
      "<string>:84: RuntimeWarning: divide by zero encountered in log10\n"
     ]
    },
    {
     "ename": "KeyboardInterrupt",
     "evalue": "",
     "output_type": "error",
     "traceback": [
      "\u001b[0;31m---------------------------------------------------------------------------\u001b[0m",
      "\u001b[0;31mKeyboardInterrupt\u001b[0m                         Traceback (most recent call last)",
      "\u001b[0;32m<ipython-input-58-ef6e7fd79d18>\u001b[0m in \u001b[0;36m<module>\u001b[0;34m()\u001b[0m\n\u001b[0;32m----> 1\u001b[0;31m \u001b[0mget_ipython\u001b[0m\u001b[0;34m(\u001b[0m\u001b[0;34m)\u001b[0m\u001b[0;34m.\u001b[0m\u001b[0mrun_cell_magic\u001b[0m\u001b[0;34m(\u001b[0m\u001b[0;34mu'time'\u001b[0m\u001b[0;34m,\u001b[0m \u001b[0;34mu''\u001b[0m\u001b[0;34m,\u001b[0m \u001b[0;34mu'%run ../optimize_pkg_2.py\\noptimize_3_data_2 = zeros((5, 6))\\ntx_SNR_range = arange(28, 60, 1)\\nfor N in user_range[::-1]:\\n    optimize_3_data_2[N-1] = optimize_3(N, rx_SNR_start, tx_SNR_range, filepath_down, filepath_up, protocolbit, 1)\\n    print N, optimize_3_data_2[N-1]'\u001b[0m\u001b[0;34m)\u001b[0m\u001b[0;34m\u001b[0m\u001b[0m\n\u001b[0m",
      "\u001b[0;32m/Users/leahdickstein/anaconda/lib/python2.7/site-packages/IPython/core/interactiveshell.pyc\u001b[0m in \u001b[0;36mrun_cell_magic\u001b[0;34m(self, magic_name, line, cell)\u001b[0m\n\u001b[1;32m   2291\u001b[0m             \u001b[0mmagic_arg_s\u001b[0m \u001b[0;34m=\u001b[0m \u001b[0mself\u001b[0m\u001b[0;34m.\u001b[0m\u001b[0mvar_expand\u001b[0m\u001b[0;34m(\u001b[0m\u001b[0mline\u001b[0m\u001b[0;34m,\u001b[0m \u001b[0mstack_depth\u001b[0m\u001b[0;34m)\u001b[0m\u001b[0;34m\u001b[0m\u001b[0m\n\u001b[1;32m   2292\u001b[0m             \u001b[0;32mwith\u001b[0m \u001b[0mself\u001b[0m\u001b[0;34m.\u001b[0m\u001b[0mbuiltin_trap\u001b[0m\u001b[0;34m:\u001b[0m\u001b[0;34m\u001b[0m\u001b[0m\n\u001b[0;32m-> 2293\u001b[0;31m                 \u001b[0mresult\u001b[0m \u001b[0;34m=\u001b[0m \u001b[0mfn\u001b[0m\u001b[0;34m(\u001b[0m\u001b[0mmagic_arg_s\u001b[0m\u001b[0;34m,\u001b[0m \u001b[0mcell\u001b[0m\u001b[0;34m)\u001b[0m\u001b[0;34m\u001b[0m\u001b[0m\n\u001b[0m\u001b[1;32m   2294\u001b[0m             \u001b[0;32mreturn\u001b[0m \u001b[0mresult\u001b[0m\u001b[0;34m\u001b[0m\u001b[0m\n\u001b[1;32m   2295\u001b[0m \u001b[0;34m\u001b[0m\u001b[0m\n",
      "\u001b[0;32m/Users/leahdickstein/anaconda/lib/python2.7/site-packages/IPython/core/magics/execution.pyc\u001b[0m in \u001b[0;36mtime\u001b[0;34m(self, line, cell, local_ns)\u001b[0m\n",
      "\u001b[0;32m/Users/leahdickstein/anaconda/lib/python2.7/site-packages/IPython/core/magic.pyc\u001b[0m in \u001b[0;36m<lambda>\u001b[0;34m(f, *a, **k)\u001b[0m\n\u001b[1;32m    191\u001b[0m     \u001b[0;31m# but it's overkill for just that one bit of state.\u001b[0m\u001b[0;34m\u001b[0m\u001b[0;34m\u001b[0m\u001b[0m\n\u001b[1;32m    192\u001b[0m     \u001b[0;32mdef\u001b[0m \u001b[0mmagic_deco\u001b[0m\u001b[0;34m(\u001b[0m\u001b[0marg\u001b[0m\u001b[0;34m)\u001b[0m\u001b[0;34m:\u001b[0m\u001b[0;34m\u001b[0m\u001b[0m\n\u001b[0;32m--> 193\u001b[0;31m         \u001b[0mcall\u001b[0m \u001b[0;34m=\u001b[0m \u001b[0;32mlambda\u001b[0m \u001b[0mf\u001b[0m\u001b[0;34m,\u001b[0m \u001b[0;34m*\u001b[0m\u001b[0ma\u001b[0m\u001b[0;34m,\u001b[0m \u001b[0;34m**\u001b[0m\u001b[0mk\u001b[0m\u001b[0;34m:\u001b[0m \u001b[0mf\u001b[0m\u001b[0;34m(\u001b[0m\u001b[0;34m*\u001b[0m\u001b[0ma\u001b[0m\u001b[0;34m,\u001b[0m \u001b[0;34m**\u001b[0m\u001b[0mk\u001b[0m\u001b[0;34m)\u001b[0m\u001b[0;34m\u001b[0m\u001b[0m\n\u001b[0m\u001b[1;32m    194\u001b[0m \u001b[0;34m\u001b[0m\u001b[0m\n\u001b[1;32m    195\u001b[0m         \u001b[0;32mif\u001b[0m \u001b[0mcallable\u001b[0m\u001b[0;34m(\u001b[0m\u001b[0marg\u001b[0m\u001b[0;34m)\u001b[0m\u001b[0;34m:\u001b[0m\u001b[0;34m\u001b[0m\u001b[0m\n",
      "\u001b[0;32m/Users/leahdickstein/anaconda/lib/python2.7/site-packages/IPython/core/magics/execution.pyc\u001b[0m in \u001b[0;36mtime\u001b[0;34m(self, line, cell, local_ns)\u001b[0m\n\u001b[1;32m   1165\u001b[0m         \u001b[0;32melse\u001b[0m\u001b[0;34m:\u001b[0m\u001b[0;34m\u001b[0m\u001b[0m\n\u001b[1;32m   1166\u001b[0m             \u001b[0mst\u001b[0m \u001b[0;34m=\u001b[0m \u001b[0mclock2\u001b[0m\u001b[0;34m(\u001b[0m\u001b[0;34m)\u001b[0m\u001b[0;34m\u001b[0m\u001b[0m\n\u001b[0;32m-> 1167\u001b[0;31m             \u001b[0;32mexec\u001b[0m\u001b[0;34m(\u001b[0m\u001b[0mcode\u001b[0m\u001b[0;34m,\u001b[0m \u001b[0mglob\u001b[0m\u001b[0;34m,\u001b[0m \u001b[0mlocal_ns\u001b[0m\u001b[0;34m)\u001b[0m\u001b[0;34m\u001b[0m\u001b[0m\n\u001b[0m\u001b[1;32m   1168\u001b[0m             \u001b[0mend\u001b[0m \u001b[0;34m=\u001b[0m \u001b[0mclock2\u001b[0m\u001b[0;34m(\u001b[0m\u001b[0;34m)\u001b[0m\u001b[0;34m\u001b[0m\u001b[0m\n\u001b[1;32m   1169\u001b[0m             \u001b[0mout\u001b[0m \u001b[0;34m=\u001b[0m \u001b[0mNone\u001b[0m\u001b[0;34m\u001b[0m\u001b[0m\n",
      "\u001b[0;32m<timed exec>\u001b[0m in \u001b[0;36m<module>\u001b[0;34m()\u001b[0m\n",
      "\u001b[0;32m/Users/leahdickstein/research-sahai/optimize_pkg_2.py\u001b[0m in \u001b[0;36moptimize_3\u001b[0;34m(N, rx_SNR_start, tx_SNR_range, filepath_down, filepath_up, protocol, d_actual_SNR)\u001b[0m\n\u001b[1;32m    214\u001b[0m             \u001b[0;32mfor\u001b[0m \u001b[0mrSNR3\u001b[0m \u001b[0;32min\u001b[0m \u001b[0mnp\u001b[0m\u001b[0;34m.\u001b[0m\u001b[0marange\u001b[0m\u001b[0;34m(\u001b[0m\u001b[0mrx_SNR_start\u001b[0m\u001b[0;34m,\u001b[0m \u001b[0mtSNR\u001b[0m\u001b[0;34m,\u001b[0m \u001b[0md_actual_SNR\u001b[0m\u001b[0;34m)\u001b[0m\u001b[0;34m:\u001b[0m\u001b[0;34m\u001b[0m\u001b[0m\n\u001b[1;32m    215\u001b[0m                 \u001b[0mp_add_3\u001b[0m \u001b[0;34m=\u001b[0m \u001b[0mxor_func\u001b[0m\u001b[0;34m(\u001b[0m\u001b[0mrSNR3\u001b[0m\u001b[0;34m)\u001b[0m\u001b[0;34m\u001b[0m\u001b[0m\n\u001b[0;32m--> 216\u001b[0;31m                 \u001b[0mxor_opt\u001b[0m \u001b[0;34m=\u001b[0m \u001b[0mxor_analysis_new\u001b[0m\u001b[0;34m(\u001b[0m\u001b[0mN\u001b[0m\u001b[0;34m,\u001b[0m \u001b[0mtSNR\u001b[0m\u001b[0;34m,\u001b[0m \u001b[0mrSNRdu\u001b[0m\u001b[0;34m,\u001b[0m \u001b[0mrSNR3\u001b[0m\u001b[0;34m,\u001b[0m \u001b[0mdownfunc\u001b[0m\u001b[0;34m(\u001b[0m\u001b[0mrSNRdu\u001b[0m\u001b[0;34m)\u001b[0m\u001b[0;34m,\u001b[0m \u001b[0mupfunc\u001b[0m\u001b[0;34m(\u001b[0m\u001b[0mrSNRdu\u001b[0m\u001b[0;34m)\u001b[0m\u001b[0;34m,\u001b[0m \u001b[0mxor_func\u001b[0m\u001b[0;34m(\u001b[0m\u001b[0mrSNR3\u001b[0m\u001b[0;34m)\u001b[0m\u001b[0;34m)\u001b[0m\u001b[0;34m\u001b[0m\u001b[0m\n\u001b[0m\u001b[1;32m    217\u001b[0m                 \u001b[0;31m# xor_opt = xor_analysis_opt(N, tSNR, rSNR1, rSNR2, p_add_3, downfunc(rSNR1), upfunc(rSNR2))\u001b[0m\u001b[0;34m\u001b[0m\u001b[0;34m\u001b[0m\u001b[0m\n\u001b[1;32m    218\u001b[0m                 \u001b[0;32mif\u001b[0m \u001b[0;36m1\u001b[0m\u001b[0;34m-\u001b[0m\u001b[0mxor_opt\u001b[0m \u001b[0;34m<=\u001b[0m \u001b[0mprotocol_target\u001b[0m\u001b[0;34m:\u001b[0m\u001b[0;34m\u001b[0m\u001b[0m\n",
      "\u001b[0;32m/Users/leahdickstein/research-sahai/optimize_pkg_2.py\u001b[0m in \u001b[0;36mxor_analysis_new\u001b[0;34m(N, tSNR, rSNRdu, rSNR3, p_a1, p_a2, p_a3)\u001b[0m\n\u001b[1;32m     82\u001b[0m                         \u001b[0mrv_bu_tilde\u001b[0m \u001b[0;34m=\u001b[0m \u001b[0mbinom\u001b[0m\u001b[0;34m(\u001b[0m\u001b[0mbu\u001b[0m\u001b[0;34m,\u001b[0m \u001b[0;36m1\u001b[0m \u001b[0;34m-\u001b[0m \u001b[0mp_a2\u001b[0m\u001b[0;34m)\u001b[0m\u001b[0;34m\u001b[0m\u001b[0m\n\u001b[1;32m     83\u001b[0m                         \u001b[0;32mfor\u001b[0m \u001b[0mbu_tilde\u001b[0m \u001b[0;32min\u001b[0m \u001b[0mrange\u001b[0m\u001b[0;34m(\u001b[0m\u001b[0;36m0\u001b[0m\u001b[0;34m,\u001b[0m \u001b[0mbu\u001b[0m\u001b[0;34m+\u001b[0m\u001b[0;36m1\u001b[0m\u001b[0;34m)\u001b[0m\u001b[0;34m:\u001b[0m\u001b[0;34m\u001b[0m\u001b[0m\n\u001b[0;32m---> 84\u001b[0;31m                             \u001b[0mlog_pstates\u001b[0m \u001b[0;34m=\u001b[0m \u001b[0mnp\u001b[0m\u001b[0;34m.\u001b[0m\u001b[0mlog10\u001b[0m\u001b[0;34m(\u001b[0m\u001b[0mrv_gc\u001b[0m\u001b[0;34m.\u001b[0m\u001b[0mpmf\u001b[0m\u001b[0;34m(\u001b[0m\u001b[0mgc\u001b[0m\u001b[0;34m)\u001b[0m\u001b[0;34m)\u001b[0m \u001b[0;34m+\u001b[0m \u001b[0mnp\u001b[0m\u001b[0;34m.\u001b[0m\u001b[0mlog10\u001b[0m\u001b[0;34m(\u001b[0m\u001b[0mrv_ad\u001b[0m\u001b[0;34m.\u001b[0m\u001b[0mpmf\u001b[0m\u001b[0;34m(\u001b[0m\u001b[0mad\u001b[0m\u001b[0;34m)\u001b[0m\u001b[0;34m)\u001b[0m \u001b[0;34m+\u001b[0m \u001b[0mnp\u001b[0m\u001b[0;34m.\u001b[0m\u001b[0mlog10\u001b[0m\u001b[0;34m(\u001b[0m\u001b[0mrv_ad_tilde\u001b[0m\u001b[0;34m.\u001b[0m\u001b[0mpmf\u001b[0m\u001b[0;34m(\u001b[0m\u001b[0mad_tilde\u001b[0m\u001b[0;34m)\u001b[0m\u001b[0;34m)\u001b[0m \u001b[0;34m+\u001b[0m \u001b[0mnp\u001b[0m\u001b[0;34m.\u001b[0m\u001b[0mlog10\u001b[0m\u001b[0;34m(\u001b[0m\u001b[0mrv_bu_tilde\u001b[0m\u001b[0;34m.\u001b[0m\u001b[0mpmf\u001b[0m\u001b[0;34m(\u001b[0m\u001b[0mbu_tilde\u001b[0m\u001b[0;34m)\u001b[0m\u001b[0;34m)\u001b[0m \u001b[0;34m+\u001b[0m \u001b[0mnp\u001b[0m\u001b[0;34m.\u001b[0m\u001b[0mlog10\u001b[0m\u001b[0;34m(\u001b[0m\u001b[0mrv_ad_tilde_s\u001b[0m\u001b[0;34m.\u001b[0m\u001b[0mpmf\u001b[0m\u001b[0;34m(\u001b[0m\u001b[0mad_tilde_s\u001b[0m\u001b[0;34m)\u001b[0m\u001b[0;34m)\u001b[0m \u001b[0;34m+\u001b[0m \u001b[0mnp\u001b[0m\u001b[0;34m.\u001b[0m\u001b[0mlog10\u001b[0m\u001b[0;34m(\u001b[0m\u001b[0mrv_ad_hat_s\u001b[0m\u001b[0;34m.\u001b[0m\u001b[0mpmf\u001b[0m\u001b[0;34m(\u001b[0m\u001b[0mad_hat_s\u001b[0m\u001b[0;34m)\u001b[0m\u001b[0;34m)\u001b[0m\u001b[0;34m\u001b[0m\u001b[0m\n\u001b[0m\u001b[1;32m     85\u001b[0m                             \u001b[0mlog_res\u001b[0m \u001b[0;34m=\u001b[0m \u001b[0;36m10\u001b[0m\u001b[0;34m**\u001b[0m\u001b[0mlog_pstates\u001b[0m \u001b[0;34m*\u001b[0m \u001b[0;34m(\u001b[0m\u001b[0;36m1\u001b[0m \u001b[0;34m-\u001b[0m \u001b[0mq_ad_hat_s\u001b[0m\u001b[0;34m)\u001b[0m\u001b[0;34m**\u001b[0m\u001b[0mad_hat_s\u001b[0m \u001b[0;34m*\u001b[0m \u001b[0;34m(\u001b[0m\u001b[0;36m1\u001b[0m \u001b[0;34m-\u001b[0m \u001b[0mq_ad_hat_i\u001b[0m\u001b[0;34m)\u001b[0m\u001b[0;34m**\u001b[0m\u001b[0;34m(\u001b[0m\u001b[0mad\u001b[0m \u001b[0;34m-\u001b[0m \u001b[0mad_tilde\u001b[0m \u001b[0;34m-\u001b[0m \u001b[0mad_hat_s\u001b[0m\u001b[0;34m)\u001b[0m \u001b[0;34m*\u001b[0m \u001b[0;34m(\u001b[0m\u001b[0;36m1\u001b[0m \u001b[0;34m-\u001b[0m \u001b[0mq_bu_tilde\u001b[0m\u001b[0;34m)\u001b[0m\u001b[0;34m**\u001b[0m\u001b[0mbu_tilde\u001b[0m \u001b[0;34m*\u001b[0m \u001b[0;34m(\u001b[0m\u001b[0;36m1\u001b[0m\u001b[0;34m-\u001b[0m\u001b[0mq_e\u001b[0m\u001b[0;34m)\u001b[0m\u001b[0;34m**\u001b[0m\u001b[0;34m(\u001b[0m\u001b[0mN\u001b[0m \u001b[0;34m-\u001b[0m \u001b[0mad\u001b[0m \u001b[0;34m-\u001b[0m \u001b[0mbu_tilde\u001b[0m\u001b[0;34m)\u001b[0m\u001b[0;34m\u001b[0m\u001b[0m\n\u001b[1;32m     86\u001b[0m                             \u001b[0;31m# log_res = log_pstates + ad_hat_s * np.log10(1 - q_ad_hat_s) + (ad - ad_tilde - ad_hat_s) * np.log10(1 - q_ad_hat_i) + bu_tilde * np.log10(1 - q_bu_tilde) + (N - ad - bu_tilde) * np.log10(1 - q_e)\u001b[0m\u001b[0;34m\u001b[0m\u001b[0;34m\u001b[0m\u001b[0m\n",
      "\u001b[0;32m/Users/leahdickstein/anaconda/lib/python2.7/site-packages/scipy/stats/_distn_infrastructure.pyc\u001b[0m in \u001b[0;36mpmf\u001b[0;34m(self, k)\u001b[0m\n\u001b[1;32m    497\u001b[0m \u001b[0;34m\u001b[0m\u001b[0m\n\u001b[1;32m    498\u001b[0m     \u001b[0;32mdef\u001b[0m \u001b[0mpmf\u001b[0m\u001b[0;34m(\u001b[0m\u001b[0mself\u001b[0m\u001b[0;34m,\u001b[0m \u001b[0mk\u001b[0m\u001b[0;34m)\u001b[0m\u001b[0;34m:\u001b[0m\u001b[0;34m\u001b[0m\u001b[0m\n\u001b[0;32m--> 499\u001b[0;31m         \u001b[0;32mreturn\u001b[0m \u001b[0mself\u001b[0m\u001b[0;34m.\u001b[0m\u001b[0mdist\u001b[0m\u001b[0;34m.\u001b[0m\u001b[0mpmf\u001b[0m\u001b[0;34m(\u001b[0m\u001b[0mk\u001b[0m\u001b[0;34m,\u001b[0m \u001b[0;34m*\u001b[0m\u001b[0mself\u001b[0m\u001b[0;34m.\u001b[0m\u001b[0margs\u001b[0m\u001b[0;34m,\u001b[0m \u001b[0;34m**\u001b[0m\u001b[0mself\u001b[0m\u001b[0;34m.\u001b[0m\u001b[0mkwds\u001b[0m\u001b[0;34m)\u001b[0m\u001b[0;34m\u001b[0m\u001b[0m\n\u001b[0m\u001b[1;32m    500\u001b[0m \u001b[0;34m\u001b[0m\u001b[0m\n\u001b[1;32m    501\u001b[0m     \u001b[0;32mdef\u001b[0m \u001b[0mlogpmf\u001b[0m\u001b[0;34m(\u001b[0m\u001b[0mself\u001b[0m\u001b[0;34m,\u001b[0m \u001b[0mk\u001b[0m\u001b[0;34m)\u001b[0m\u001b[0;34m:\u001b[0m\u001b[0;34m\u001b[0m\u001b[0m\n",
      "\u001b[0;32m/Users/leahdickstein/anaconda/lib/python2.7/site-packages/scipy/stats/_distn_infrastructure.pyc\u001b[0m in \u001b[0;36mpmf\u001b[0;34m(self, k, *args, **kwds)\u001b[0m\n\u001b[1;32m   2842\u001b[0m         \u001b[0mplace\u001b[0m\u001b[0;34m(\u001b[0m\u001b[0moutput\u001b[0m\u001b[0;34m,\u001b[0m \u001b[0;34m(\u001b[0m\u001b[0;36m1\u001b[0m\u001b[0;34m-\u001b[0m\u001b[0mcond0\u001b[0m\u001b[0;34m)\u001b[0m \u001b[0;34m+\u001b[0m \u001b[0mnp\u001b[0m\u001b[0;34m.\u001b[0m\u001b[0misnan\u001b[0m\u001b[0;34m(\u001b[0m\u001b[0mk\u001b[0m\u001b[0;34m)\u001b[0m\u001b[0;34m,\u001b[0m \u001b[0mself\u001b[0m\u001b[0;34m.\u001b[0m\u001b[0mbadvalue\u001b[0m\u001b[0;34m)\u001b[0m\u001b[0;34m\u001b[0m\u001b[0m\n\u001b[1;32m   2843\u001b[0m         \u001b[0;32mif\u001b[0m \u001b[0many\u001b[0m\u001b[0;34m(\u001b[0m\u001b[0mcond\u001b[0m\u001b[0;34m)\u001b[0m\u001b[0;34m:\u001b[0m\u001b[0;34m\u001b[0m\u001b[0m\n\u001b[0;32m-> 2844\u001b[0;31m             \u001b[0mgoodargs\u001b[0m \u001b[0;34m=\u001b[0m \u001b[0margsreduce\u001b[0m\u001b[0;34m(\u001b[0m\u001b[0mcond\u001b[0m\u001b[0;34m,\u001b[0m \u001b[0;34m*\u001b[0m\u001b[0;34m(\u001b[0m\u001b[0;34m(\u001b[0m\u001b[0mk\u001b[0m\u001b[0;34m,\u001b[0m\u001b[0;34m)\u001b[0m\u001b[0;34m+\u001b[0m\u001b[0margs\u001b[0m\u001b[0;34m)\u001b[0m\u001b[0;34m)\u001b[0m\u001b[0;34m\u001b[0m\u001b[0m\n\u001b[0m\u001b[1;32m   2845\u001b[0m             \u001b[0mplace\u001b[0m\u001b[0;34m(\u001b[0m\u001b[0moutput\u001b[0m\u001b[0;34m,\u001b[0m \u001b[0mcond\u001b[0m\u001b[0;34m,\u001b[0m \u001b[0mnp\u001b[0m\u001b[0;34m.\u001b[0m\u001b[0mclip\u001b[0m\u001b[0;34m(\u001b[0m\u001b[0mself\u001b[0m\u001b[0;34m.\u001b[0m\u001b[0m_pmf\u001b[0m\u001b[0;34m(\u001b[0m\u001b[0;34m*\u001b[0m\u001b[0mgoodargs\u001b[0m\u001b[0;34m)\u001b[0m\u001b[0;34m,\u001b[0m \u001b[0;36m0\u001b[0m\u001b[0;34m,\u001b[0m \u001b[0;36m1\u001b[0m\u001b[0;34m)\u001b[0m\u001b[0;34m)\u001b[0m\u001b[0;34m\u001b[0m\u001b[0m\n\u001b[1;32m   2846\u001b[0m         \u001b[0;32mif\u001b[0m \u001b[0moutput\u001b[0m\u001b[0;34m.\u001b[0m\u001b[0mndim\u001b[0m \u001b[0;34m==\u001b[0m \u001b[0;36m0\u001b[0m\u001b[0;34m:\u001b[0m\u001b[0;34m\u001b[0m\u001b[0m\n",
      "\u001b[0;32m/Users/leahdickstein/anaconda/lib/python2.7/site-packages/scipy/stats/_distn_infrastructure.pyc\u001b[0m in \u001b[0;36margsreduce\u001b[0;34m(cond, *args)\u001b[0m\n\u001b[1;32m    544\u001b[0m         \u001b[0mnewargs\u001b[0m \u001b[0;34m=\u001b[0m \u001b[0;34m[\u001b[0m\u001b[0mnewargs\u001b[0m\u001b[0;34m,\u001b[0m \u001b[0;34m]\u001b[0m\u001b[0;34m\u001b[0m\u001b[0m\n\u001b[1;32m    545\u001b[0m     \u001b[0mexpand_arr\u001b[0m \u001b[0;34m=\u001b[0m \u001b[0;34m(\u001b[0m\u001b[0mcond\u001b[0m \u001b[0;34m==\u001b[0m \u001b[0mcond\u001b[0m\u001b[0;34m)\u001b[0m\u001b[0;34m\u001b[0m\u001b[0m\n\u001b[0;32m--> 546\u001b[0;31m     \u001b[0;32mreturn\u001b[0m \u001b[0;34m[\u001b[0m\u001b[0mnp\u001b[0m\u001b[0;34m.\u001b[0m\u001b[0mextract\u001b[0m\u001b[0;34m(\u001b[0m\u001b[0mcond\u001b[0m\u001b[0;34m,\u001b[0m \u001b[0marr1\u001b[0m \u001b[0;34m*\u001b[0m \u001b[0mexpand_arr\u001b[0m\u001b[0;34m)\u001b[0m \u001b[0;32mfor\u001b[0m \u001b[0marr1\u001b[0m \u001b[0;32min\u001b[0m \u001b[0mnewargs\u001b[0m\u001b[0;34m]\u001b[0m\u001b[0;34m\u001b[0m\u001b[0m\n\u001b[0m\u001b[1;32m    547\u001b[0m \u001b[0;34m\u001b[0m\u001b[0m\n\u001b[1;32m    548\u001b[0m \u001b[0;34m\u001b[0m\u001b[0m\n",
      "\u001b[0;32m/Users/leahdickstein/anaconda/lib/python2.7/site-packages/numpy/lib/function_base.pyc\u001b[0m in \u001b[0;36mextract\u001b[0;34m(condition, arr)\u001b[0m\n\u001b[1;32m   1555\u001b[0m \u001b[0;34m\u001b[0m\u001b[0m\n\u001b[1;32m   1556\u001b[0m     \"\"\"\n\u001b[0;32m-> 1557\u001b[0;31m     \u001b[0;32mreturn\u001b[0m \u001b[0m_nx\u001b[0m\u001b[0;34m.\u001b[0m\u001b[0mtake\u001b[0m\u001b[0;34m(\u001b[0m\u001b[0mravel\u001b[0m\u001b[0;34m(\u001b[0m\u001b[0marr\u001b[0m\u001b[0;34m)\u001b[0m\u001b[0;34m,\u001b[0m \u001b[0mnonzero\u001b[0m\u001b[0;34m(\u001b[0m\u001b[0mravel\u001b[0m\u001b[0;34m(\u001b[0m\u001b[0mcondition\u001b[0m\u001b[0;34m)\u001b[0m\u001b[0;34m)\u001b[0m\u001b[0;34m[\u001b[0m\u001b[0;36m0\u001b[0m\u001b[0;34m]\u001b[0m\u001b[0;34m)\u001b[0m\u001b[0;34m\u001b[0m\u001b[0m\n\u001b[0m\u001b[1;32m   1558\u001b[0m \u001b[0;34m\u001b[0m\u001b[0m\n\u001b[1;32m   1559\u001b[0m \u001b[0;34m\u001b[0m\u001b[0m\n",
      "\u001b[0;32m/Users/leahdickstein/anaconda/lib/python2.7/site-packages/numpy/core/fromnumeric.pyc\u001b[0m in \u001b[0;36mravel\u001b[0;34m(a, order)\u001b[0m\n\u001b[1;32m   1476\u001b[0m \u001b[0;34m\u001b[0m\u001b[0m\n\u001b[1;32m   1477\u001b[0m     \"\"\"\n\u001b[0;32m-> 1478\u001b[0;31m     \u001b[0;32mif\u001b[0m \u001b[0misinstance\u001b[0m\u001b[0;34m(\u001b[0m\u001b[0ma\u001b[0m\u001b[0;34m,\u001b[0m \u001b[0mnp\u001b[0m\u001b[0;34m.\u001b[0m\u001b[0mmatrix\u001b[0m\u001b[0;34m)\u001b[0m\u001b[0;34m:\u001b[0m\u001b[0;34m\u001b[0m\u001b[0m\n\u001b[0m\u001b[1;32m   1479\u001b[0m         \u001b[0;32mreturn\u001b[0m \u001b[0masarray\u001b[0m\u001b[0;34m(\u001b[0m\u001b[0ma\u001b[0m\u001b[0;34m)\u001b[0m\u001b[0;34m.\u001b[0m\u001b[0mravel\u001b[0m\u001b[0;34m(\u001b[0m\u001b[0morder\u001b[0m\u001b[0;34m)\u001b[0m\u001b[0;34m\u001b[0m\u001b[0m\n\u001b[1;32m   1480\u001b[0m     \u001b[0;32melse\u001b[0m\u001b[0;34m:\u001b[0m\u001b[0;34m\u001b[0m\u001b[0m\n",
      "\u001b[0;31mKeyboardInterrupt\u001b[0m: "
     ]
    }
   ],
   "source": [
    "%%time\n",
    "%run ../optimize_pkg_2.py\n",
    "optimize_3_data_2 = zeros((5, 6))\n",
    "tx_SNR_range = arange(28, 60, 1)\n",
    "for N in user_range[::-1]:\n",
    "    optimize_3_data_2[N-1] = optimize_3(N, rx_SNR_start, tx_SNR_range, filepath_down, filepath_up, protocolbit, 1)\n",
    "    print N, optimize_3_data_2[N-1]"
   ]
  },
  {
   "cell_type": "code",
   "execution_count": 67,
   "metadata": {
    "collapsed": false
   },
   "outputs": [
    {
     "name": "stdout",
     "output_type": "stream",
     "text": [
      "1.0\n"
     ]
    }
   ],
   "source": [
    "rv = binom(3, 1)\n",
    "print rv.pmf(3)"
   ]
  },
  {
   "cell_type": "code",
   "execution_count": 76,
   "metadata": {
    "collapsed": false
   },
   "outputs": [
    {
     "data": {
      "text/plain": [
       "[0, 1, 2, 3, 4, 5]"
      ]
     },
     "execution_count": 76,
     "metadata": {},
     "output_type": "execute_result"
    }
   ],
   "source": [
    "pf3 = 1\n",
    "range(0 if pf3 else 5, 6)"
   ]
  },
  {
   "cell_type": "code",
   "execution_count": 105,
   "metadata": {
    "collapsed": false
   },
   "outputs": [
    {
     "data": {
      "text/plain": [
       "5.320821701064214e-10"
      ]
     },
     "execution_count": 105,
     "metadata": {},
     "output_type": "execute_result"
    }
   ],
   "source": [
    "0.532082170106 + 5.32082155058e-10\n",
    "0.532082171639 > 0.532082171171\n",
    "10**-4.342944698377123e-10 * 10**-9.0000000122826869\n",
    "9.99999998e-10 * 10**-0.27402129302407713"
   ]
  },
  {
   "cell_type": "code",
   "execution_count": 165,
   "metadata": {
    "collapsed": false
   },
   "outputs": [
    {
     "name": "stdout",
     "output_type": "stream",
     "text": [
      "[  7.52119383e-01   5.81701639e-01   4.07054572e-01   2.59115913e-01\n",
      "   1.51618701e-01   8.25428607e-02   4.23074949e-02   2.06352166e-02\n",
      "   9.66629049e-03   4.38259668e-03   1.93551846e-03   8.36988227e-04\n",
      "   3.55900593e-04   1.49313815e-04   6.19749860e-05   2.55049946e-05\n",
      "   1.04251798e-05   4.23834713e-06   1.71572886e-06   6.92197960e-07\n",
      "   2.78523089e-07   1.11844245e-07   4.48476786e-08   1.79685044e-08\n",
      "   7.19923854e-09   2.88819180e-09   1.16284393e-09   4.71850004e-10\n",
      "   1.94470995e-10   8.25377544e-11   3.68783892e-11   1.78600468e-11\n",
      "   9.63051860e-12   5.83455506e-12   3.91153776e-12   2.81907830e-12\n",
      "   2.12463380e-12   1.64190883e-12   1.28619337e-12   1.01441078e-12\n",
      "   8.02913291e-13   6.36712905e-13   5.05262499e-13   4.01123579e-13\n",
      "   3.18522986e-13   2.53130850e-13   2.00950367e-13   1.59650071e-13\n",
      "   1.26898492e-13]\n",
      "CPU times: user 37.8 s, sys: 620 ms, total: 38.5 s\n",
      "Wall time: 40.7 s\n"
     ]
    },
    {
     "data": {
      "image/png": "[encoded data removed]",
      "text/html": [
       "\n",
       "\n",
       "<style>\n",
       "\n",
       "</style>\n",
       "\n",
       "<div id=\"fig_el924445209897767253949656\"></div>\n",
       "<script>\n",
       "function mpld3_load_lib(url, callback){\n",
       "  var s = document.createElement('script');\n",
       "  s.src = url;\n",
       "  s.async = true;\n",
       "  s.onreadystatechange = s.onload = callback;\n",
       "  s.onerror = function(){console.warn(\"failed to load library \" + url);};\n",
       "  document.getElementsByTagName(\"head\")[0].appendChild(s);\n",
       "}\n",
       "\n",
       "if(typeof(mpld3) !== \"undefined\" && mpld3._mpld3IsLoaded){\n",
       "   // already loaded: just create the figure\n",
       "   !function(mpld3){\n",
       "       \n",
       "       mpld3.draw_figure(\"fig_el924445209897767253949656\", {\"axes\": [{\"xlim\": [0.0, 50.0], \"yscale\": \"linear\", \"axesbg\": \"#FFFFFF\", \"texts\": [], \"zoomable\": true, \"images\": [], \"xdomain\": [0.0, 50.0], \"ylim\": [0.0, 0.80000000000000004], \"paths\": [], \"sharey\": [], \"sharex\": [], \"axesbgalpha\": null, \"axes\": [{\"scale\": \"linear\", \"tickformat\": null, \"grid\": {\"gridOn\": false}, \"fontsize\": 10.0, \"position\": \"bottom\", \"nticks\": 6, \"tickvalues\": null}, {\"scale\": \"linear\", \"tickformat\": null, \"grid\": {\"gridOn\": false}, \"fontsize\": 10.0, \"position\": \"left\", \"nticks\": 10, \"tickvalues\": null}], \"lines\": [{\"color\": \"#0000FF\", \"yindex\": 1, \"coordinates\": \"data\", \"dasharray\": \"10,0\", \"zorder\": 2, \"alpha\": 1, \"xindex\": 0, \"linewidth\": 2.0, \"data\": \"data01\", \"id\": \"el92444588334352\"}], \"markers\": [], \"id\": \"el92444567125584\", \"ydomain\": [0.0, 0.80000000000000004], \"collections\": [], \"xscale\": \"linear\", \"bbox\": [0.125, 0.125, 0.77500000000000002, 0.77500000000000002]}], \"height\": 320.0, \"width\": 480.0, \"plugins\": [{\"type\": \"reset\"}, {\"enabled\": false, \"button\": true, \"type\": \"zoom\"}, {\"enabled\": false, \"button\": true, \"type\": \"boxzoom\"}], \"data\": {\"data01\": [[1.0, 0.7521193827329469], [2.0, 0.5817016392790144], [3.0, 0.4070545719895956], [4.0, 0.25911591331704975], [5.0, 0.15161870079062967], [6.0, 0.08254286070061456], [7.0, 0.04230749490001395], [8.0, 0.020635216593411387], [9.0, 0.00966629048929768], [10.0, 0.004382596681004269], [11.0, 0.0019355184599993969], [12.0, 0.0008369882265117923], [13.0, 0.00035590059348833414], [14.0, 0.00014931381545668643], [15.0, 6.197498601656637e-05], [16.0, 2.5504994561664773e-05], [17.0, 1.0425179778228433e-05], [18.0, 4.23834712959259e-06], [19.0, 1.7157288648705915e-06], [20.0, 6.921979601726136e-07], [21.0, 2.7852308914777524e-07], [22.0, 1.1184424453247743e-07], [23.0, 4.484767857082517e-08], [24.0, 1.796850435109576e-08], [25.0, 7.1992385386465685e-09], [26.0, 2.8881917968348603e-09], [27.0, 1.1628439322564077e-09], [28.0, 4.718500035139073e-10], [29.0, 1.9447099486313846e-10], [30.0, 8.253775440891786e-11], [31.0, 3.687838923127629e-11], [32.0, 1.786004677484243e-11], [33.0, 9.630518604808458e-12], [34.0, 5.834555061312585e-12], [35.0, 3.9115377603593515e-12], [36.0, 2.8190783041281975e-12], [37.0, 2.124633802225162e-12], [38.0, 1.641908831118144e-12], [39.0, 1.2861933740282439e-12], [40.0, 1.0144107776000055e-12], [41.0, 8.029132914089132e-13], [42.0, 6.367129046225273e-13], [43.0, 5.052624985069087e-13], [44.0, 4.0112357879706906e-13], [45.0, 3.185229857649574e-13], [46.0, 2.531308496145357e-13], [47.0, 2.0095036745715333e-13], [48.0, 1.596500709410975e-13], [49.0, 1.268984917146554e-13]]}, \"id\": \"el92444520989776\"});\n",
       "   }(mpld3);\n",
       "}else if(typeof define === \"function\" && define.amd){\n",
       "   // require.js is available: use it to load d3/mpld3\n",
       "   require.config({paths: {d3: \"https://mpld3.github.io/js/d3.v3.min\"}});\n",
       "   require([\"d3\"], function(d3){\n",
       "      window.d3 = d3;\n",
       "      mpld3_load_lib(\"https://mpld3.github.io/js/mpld3.v0.2.js\", function(){\n",
       "         \n",
       "         mpld3.draw_figure(\"fig_el924445209897767253949656\", {\"axes\": [{\"xlim\": [0.0, 50.0], \"yscale\": \"linear\", \"axesbg\": \"#FFFFFF\", \"texts\": [], \"zoomable\": true, \"images\": [], \"xdomain\": [0.0, 50.0], \"ylim\": [0.0, 0.80000000000000004], \"paths\": [], \"sharey\": [], \"sharex\": [], \"axesbgalpha\": null, \"axes\": [{\"scale\": \"linear\", \"tickformat\": null, \"grid\": {\"gridOn\": false}, \"fontsize\": 10.0, \"position\": \"bottom\", \"nticks\": 6, \"tickvalues\": null}, {\"scale\": \"linear\", \"tickformat\": null, \"grid\": {\"gridOn\": false}, \"fontsize\": 10.0, \"position\": \"left\", \"nticks\": 10, \"tickvalues\": null}], \"lines\": [{\"color\": \"#0000FF\", \"yindex\": 1, \"coordinates\": \"data\", \"dasharray\": \"10,0\", \"zorder\": 2, \"alpha\": 1, \"xindex\": 0, \"linewidth\": 2.0, \"data\": \"data01\", \"id\": \"el92444588334352\"}], \"markers\": [], \"id\": \"el92444567125584\", \"ydomain\": [0.0, 0.80000000000000004], \"collections\": [], \"xscale\": \"linear\", \"bbox\": [0.125, 0.125, 0.77500000000000002, 0.77500000000000002]}], \"height\": 320.0, \"width\": 480.0, \"plugins\": [{\"type\": \"reset\"}, {\"enabled\": false, \"button\": true, \"type\": \"zoom\"}, {\"enabled\": false, \"button\": true, \"type\": \"boxzoom\"}], \"data\": {\"data01\": [[1.0, 0.7521193827329469], [2.0, 0.5817016392790144], [3.0, 0.4070545719895956], [4.0, 0.25911591331704975], [5.0, 0.15161870079062967], [6.0, 0.08254286070061456], [7.0, 0.04230749490001395], [8.0, 0.020635216593411387], [9.0, 0.00966629048929768], [10.0, 0.004382596681004269], [11.0, 0.0019355184599993969], [12.0, 0.0008369882265117923], [13.0, 0.00035590059348833414], [14.0, 0.00014931381545668643], [15.0, 6.197498601656637e-05], [16.0, 2.5504994561664773e-05], [17.0, 1.0425179778228433e-05], [18.0, 4.23834712959259e-06], [19.0, 1.7157288648705915e-06], [20.0, 6.921979601726136e-07], [21.0, 2.7852308914777524e-07], [22.0, 1.1184424453247743e-07], [23.0, 4.484767857082517e-08], [24.0, 1.796850435109576e-08], [25.0, 7.1992385386465685e-09], [26.0, 2.8881917968348603e-09], [27.0, 1.1628439322564077e-09], [28.0, 4.718500035139073e-10], [29.0, 1.9447099486313846e-10], [30.0, 8.253775440891786e-11], [31.0, 3.687838923127629e-11], [32.0, 1.786004677484243e-11], [33.0, 9.630518604808458e-12], [34.0, 5.834555061312585e-12], [35.0, 3.9115377603593515e-12], [36.0, 2.8190783041281975e-12], [37.0, 2.124633802225162e-12], [38.0, 1.641908831118144e-12], [39.0, 1.2861933740282439e-12], [40.0, 1.0144107776000055e-12], [41.0, 8.029132914089132e-13], [42.0, 6.367129046225273e-13], [43.0, 5.052624985069087e-13], [44.0, 4.0112357879706906e-13], [45.0, 3.185229857649574e-13], [46.0, 2.531308496145357e-13], [47.0, 2.0095036745715333e-13], [48.0, 1.596500709410975e-13], [49.0, 1.268984917146554e-13]]}, \"id\": \"el92444520989776\"});\n",
       "      });\n",
       "    });\n",
       "}else{\n",
       "    // require.js not available: dynamically load d3 & mpld3\n",
       "    mpld3_load_lib(\"https://mpld3.github.io/js/d3.v3.min.js\", function(){\n",
       "         mpld3_load_lib(\"https://mpld3.github.io/js/mpld3.v0.2.js\", function(){\n",
       "                 \n",
       "                 mpld3.draw_figure(\"fig_el924445209897767253949656\", {\"axes\": [{\"xlim\": [0.0, 50.0], \"yscale\": \"linear\", \"axesbg\": \"#FFFFFF\", \"texts\": [], \"zoomable\": true, \"images\": [], \"xdomain\": [0.0, 50.0], \"ylim\": [0.0, 0.80000000000000004], \"paths\": [], \"sharey\": [], \"sharex\": [], \"axesbgalpha\": null, \"axes\": [{\"scale\": \"linear\", \"tickformat\": null, \"grid\": {\"gridOn\": false}, \"fontsize\": 10.0, \"position\": \"bottom\", \"nticks\": 6, \"tickvalues\": null}, {\"scale\": \"linear\", \"tickformat\": null, \"grid\": {\"gridOn\": false}, \"fontsize\": 10.0, \"position\": \"left\", \"nticks\": 10, \"tickvalues\": null}], \"lines\": [{\"color\": \"#0000FF\", \"yindex\": 1, \"coordinates\": \"data\", \"dasharray\": \"10,0\", \"zorder\": 2, \"alpha\": 1, \"xindex\": 0, \"linewidth\": 2.0, \"data\": \"data01\", \"id\": \"el92444588334352\"}], \"markers\": [], \"id\": \"el92444567125584\", \"ydomain\": [0.0, 0.80000000000000004], \"collections\": [], \"xscale\": \"linear\", \"bbox\": [0.125, 0.125, 0.77500000000000002, 0.77500000000000002]}], \"height\": 320.0, \"width\": 480.0, \"plugins\": [{\"type\": \"reset\"}, {\"enabled\": false, \"button\": true, \"type\": \"zoom\"}, {\"enabled\": false, \"button\": true, \"type\": \"boxzoom\"}], \"data\": {\"data01\": [[1.0, 0.7521193827329469], [2.0, 0.5817016392790144], [3.0, 0.4070545719895956], [4.0, 0.25911591331704975], [5.0, 0.15161870079062967], [6.0, 0.08254286070061456], [7.0, 0.04230749490001395], [8.0, 0.020635216593411387], [9.0, 0.00966629048929768], [10.0, 0.004382596681004269], [11.0, 0.0019355184599993969], [12.0, 0.0008369882265117923], [13.0, 0.00035590059348833414], [14.0, 0.00014931381545668643], [15.0, 6.197498601656637e-05], [16.0, 2.5504994561664773e-05], [17.0, 1.0425179778228433e-05], [18.0, 4.23834712959259e-06], [19.0, 1.7157288648705915e-06], [20.0, 6.921979601726136e-07], [21.0, 2.7852308914777524e-07], [22.0, 1.1184424453247743e-07], [23.0, 4.484767857082517e-08], [24.0, 1.796850435109576e-08], [25.0, 7.1992385386465685e-09], [26.0, 2.8881917968348603e-09], [27.0, 1.1628439322564077e-09], [28.0, 4.718500035139073e-10], [29.0, 1.9447099486313846e-10], [30.0, 8.253775440891786e-11], [31.0, 3.687838923127629e-11], [32.0, 1.786004677484243e-11], [33.0, 9.630518604808458e-12], [34.0, 5.834555061312585e-12], [35.0, 3.9115377603593515e-12], [36.0, 2.8190783041281975e-12], [37.0, 2.124633802225162e-12], [38.0, 1.641908831118144e-12], [39.0, 1.2861933740282439e-12], [40.0, 1.0144107776000055e-12], [41.0, 8.029132914089132e-13], [42.0, 6.367129046225273e-13], [43.0, 5.052624985069087e-13], [44.0, 4.0112357879706906e-13], [45.0, 3.185229857649574e-13], [46.0, 2.531308496145357e-13], [47.0, 2.0095036745715333e-13], [48.0, 1.596500709410975e-13], [49.0, 1.268984917146554e-13]]}, \"id\": \"el92444520989776\"});\n",
       "            })\n",
       "         });\n",
       "}\n",
       "</script>"
      ],
      "text/plain": [
       "<matplotlib.figure.Figure at 0x10d78d450>"
      ]
     },
     "metadata": {},
     "output_type": "display_data"
    }
   ],
   "source": [
    "%%time\n",
    "%run ../optimize_pkg_2.py\n",
    "SNR = range(1, 50)\n",
    "# xor_analysis_new(N, tSNR, rSNRdu, rSNR3)\n",
    "pfail_2 = zeros((5, 49))\n",
    "for n in range(1, 6, 1):\n",
    "    psuccess_2 = [xor_analysis_new(n, snr, 1, 1) for snr in SNR]\n",
    "    pfail_2[n-1] = 1 - array(psuccess_2)\n",
    "print pfail_2[3]\n",
    "plot(SNR, pfail_2[3], lw=2.0)"
   ]
  },
  {
   "cell_type": "markdown",
   "metadata": {},
   "source": [
    "## Vectorizing it for Speedup"
   ]
  },
  {
   "cell_type": "code",
   "execution_count": 227,
   "metadata": {
    "collapsed": false
   },
   "outputs": [
    {
     "name": "stdout",
     "output_type": "stream",
     "text": [
      "0.999999999249\n",
      "CPU times: user 47.2 s, sys: 316 ms, total: 47.5 s\n",
      "Wall time: 49.1 s\n"
     ]
    }
   ],
   "source": [
    "%%time\n",
    "%run ../optimize_pkg_2.py\n",
    "# xor_analysis_new(N, tSNR, rSNRdu, rSNR3)\n",
    "n = 30\n",
    "psuccess_ = xor_analysis_new(n, 20, 1, 1)\n",
    "print psuccess_    "
   ]
  },
  {
   "cell_type": "code",
   "execution_count": 256,
   "metadata": {
    "collapsed": true
   },
   "outputs": [],
   "source": [
    "# Use this\n",
    "def xor_analysis_new(N, tSNR, rSNRdu, rSNR3, p_a1=10**(-9), p_a2=10**(-9), p_a3=10**(-9)):\n",
    "    if rSNRdu > tSNR: return 0\n",
    "    h_du = 10**((rSNRdu - tSNR)/10) # linear fade\n",
    "    h_xor = 10**((rSNR3 - tSNR)/10)\n",
    "    # Probability fade is bad\n",
    "    p_f1 = p_f2 = 1 - np.exp(-h_du)\n",
    "    p_f3 = 1 - np.exp(h_du-h_xor) if h_xor > h_du else 0\n",
    "\n",
    "    p_link_1 = p_f1 + (1 - p_f1) * p_a1\n",
    "    p_link_2 = p_f2 + (1 - p_f2) * p_a2\n",
    "\n",
    "    result = 0\n",
    "    rv_gc = binom(N, 1 - p_f1)\n",
    "    for gc in range(0, N+1):\n",
    "        rv_ad = binom(gc, 1 - p_a1)\n",
    "        for ad in range(0, gc+1):\n",
    "            rv_ad_tilde = binom(ad, 1 - p_a2)\n",
    "            bu = gc - ad\n",
    "            rv_bu = binom(ad, 1-p_link_2)\n",
    "            kad = np.arange(1, ad+1)\n",
    "            s_bu_tilde = (1 - p_f3) + p_f3 * np.dot(rv_bu.pmf(kad), 1-np.power(p_f3, kad)) if p_f3 else 1\n",
    "            # s_bu_tilde = (1 - p_f3) + p_f3 * sum([rv_bu.pmf(k) * (1 - p_f3**k) for k in range(1, ad+1)]) if p_f3 else 1\n",
    "            q_bu_tilde = (1 - s_bu_tilde) + s_bu_tilde * p_a3\n",
    "            for ad_tilde in range(0, ad+1):\n",
    "                rv_ad_tilde_s = binom(ad_tilde, 1 - p_f3)\n",
    "                rv_ad_hat_s = binom(ad - ad_tilde, 1 - p_f3)\n",
    "                # if p_f3 = 0 then ad_tilde_s should = ad_tilde because ad_tilde_i should be empty\n",
    "                for ad_tilde_s in range(0 if p_f3 else ad_tilde, ad_tilde+1):\n",
    "                    # ad_tilde already succeeded\n",
    "                    # if p_f3 = 0 then ad_hat_s should = ad - ad_tilde because ad_hat_i should be empty\n",
    "                    for ad_hat_s in range(0 if p_f3 else ad-ad_tilde, ad-ad_tilde+1):\n",
    "                        ad_s = ad_tilde_s + ad_hat_s\n",
    "                        ad_i = ad - ad_tilde_s - ad_hat_s # ad - ad_s\n",
    "                        rv_ads = binom(ad_s, 1 - p_link_2)\n",
    "                        rv_adi = binom(ad_i, 1 - p_link_2)\n",
    "                        q_ad_hat_s = p_a3\n",
    "                        q_ad_hat_i = p_link_2**ad_s + (1 - p_link_2)**ad_s * p_a3\n",
    "                        # This is the problem zone that doesn't support vectorization (?)\n",
    "                        ks, ki = np.arange(1, ad_s+1), np.arange(0, ad_i+1)\n",
    "                        f_e = p_link_2**ad_s + (np.dot(rv_ads.pmf(ks), np.power(p_f3, ks)) * np.dot(rv_adi.pmf(ki), np.power(p_f3, ki)) if p_f3 else 0)\n",
    "                        q_e = f_e + (1 - f_e) * (1 - (1 - p_a3)**2)\n",
    "                        rv_bu_tilde = binom(bu, 1 - p_a2)\n",
    "                        bu_tilde = arange(0, bu+1)\n",
    "                        log_pstates = np.log10(rv_gc.pmf(gc)) + np.log10(rv_ad.pmf(ad)) + np.log10(rv_ad_tilde.pmf(ad_tilde)) + np.log10(rv_ad_tilde_s.pmf(ad_tilde_s)) + np.log10(rv_ad_hat_s.pmf(ad_hat_s))\n",
    "                        bu_tilde_res = np.dot(rv_bu_tilde.pmf(bu_tilde), np.multiply(np.power(1 - q_e, N-ad-bu_tilde), np.power(1 - q_bu_tilde, bu_tilde)))\n",
    "                        res = 10**log_pstates * (1 - q_ad_hat_s)**ad_hat_s * (1 - q_ad_hat_i)**(ad - ad_tilde - ad_hat_s) * bu_tilde_res\n",
    "                        result += res\n",
    "                        # print res, result\n",
    "                        # print gc, ad, ad_tilde, ad_tilde_s, ad_hat_s, bu_tilde\n",
    "                        # print \"\\n\"\n",
    "    return result"
   ]
  },
  {
   "cell_type": "code",
   "execution_count": null,
   "metadata": {
    "collapsed": true
   },
   "outputs": [],
   "source": []
  },
  {
   "cell_type": "code",
   "execution_count": null,
   "metadata": {
    "collapsed": true
   },
   "outputs": [],
   "source": [
    "def xor_analysis_new(N, tSNR, rSNRdu, rSNR3, p_a1=10**(-9), p_a2=10**(-9), p_a3=10**(-9)):\n",
    "    if rSNRdu > tSNR: return 0\n",
    "    h_du = 10**((rSNRdu - tSNR)/10) # linear fade\n",
    "    h_xor = 10**((rSNR3 - tSNR)/10)\n",
    "    # Probability fade is bad\n",
    "    p_f1 = p_f2 = 1 - np.exp(-h_du)\n",
    "    p_f3 = 1 - np.exp(h_du-h_xor) if h_xor > h_du else 0\n",
    "\n",
    "    p_link_1 = p_f1 + (1 - p_f1) * p_a1\n",
    "    p_link_2 = p_f2 + (1 - p_f2) * p_a2\n",
    "\n",
    "    q_ad_hat_s = p_a3\n",
    "    \n",
    "    result = 0\n",
    "    rv_gc = binom(N, 1 - p_f1)\n",
    "    for gc in range(0, N+1):\n",
    "        rv_ad = binom(gc, 1 - p_a1)\n",
    "        for ad in range(0, gc+1):\n",
    "            rv_ad_tilde = binom(ad, 1 - p_a2)\n",
    "            bu = gc - ad\n",
    "            rv_bu = binom(ad, 1-p_link_2)\n",
    "            kad = np.arange(1, ad+1)\n",
    "            s_bu_tilde = (1 - p_f3) + p_f3 * np.dot(rv_bu.pmf(kad), 1-np.power(p_f3, kad)) if p_f3 else 1\n",
    "            # s_bu_tilde = (1 - p_f3) + p_f3 * sum([rv_bu.pmf(k) * (1 - p_f3**k) for k in range(1, ad+1)]) if p_f3 else 1\n",
    "            q_bu_tilde = (1 - s_bu_tilde) + s_bu_tilde * p_a3\n",
    "            for ad_tilde in range(0, ad+1):\n",
    "                rv_ad_tilde_s = binom(ad_tilde, 1 - p_f3)\n",
    "                rv_ad_hat_s = binom(ad - ad_tilde, 1 - p_f3)\n",
    "                # if p_f3 = 0 then ad_tilde_s should = ad_tilde because ad_tilde_i should be empty\n",
    "                for ad_tilde_s in range(0 if p_f3 else ad_tilde, ad_tilde+1):\n",
    "                    # ad_tilde already succeeded\n",
    "                    # if p_f3 = 0 then ad_hat_s should = ad - ad_tilde because ad_hat_i should be empty\n",
    "                    ad_hat_s = arange(0, ad-ad_tilde+1) if p_f3 else array([ad-ad_tilde])\n",
    "                    ad_s = ad_tilde_s + ad_hat_s\n",
    "                    ad_i = (ad_tilde - ad_tilde_s) + (ad - ad_tilde - ad_hat_s)\n",
    "                    q_ad_hat_i = np.power(p_link_2, ad_s) + p_a3 * np.power(1 - p_link_2, ad_s)\n",
    "#                     for ad_hat_s in range(0 if p_f3 else ad-ad_tilde, ad-ad_tilde+1):\n",
    "#                         ad_s = ad_tilde_s + ad_hat_s\n",
    "#                         ad_i = (ad_tilde - ad_tilde_s) + (ad - ad_tilde - ad_hat_s)\n",
    "#                         q_ad_hat_i = p_link_2**ad_s + (1 - p_link_2)**ad_s * p_a3\n",
    "                    rv_ads = binom(ad_s, 1 - p_link_2)\n",
    "                    rv_adi = binom(ad_i, 1 - p_link_2)\n",
    "                        ks, ki = np.arange(1, ad_s+1), np.arange(0, ad_i+1)\n",
    "                        f_e = p_link_2**ad_s + (np.dot(rv_ads.pmf(ks), np.power(p_f3, ks)) * np.dot(rv_adi.pmf(ki), np.power(p_f3, ki)) if p_f3 else 0)\n",
    "                        q_e = f_e + (1 - f_e) * (1 - (1 - p_a3)**2)\n",
    "                        rv_bu_tilde = binom(bu, 1 - p_a2)\n",
    "                        bu_tilde = arange(0, bu+1)\n",
    "                        log_pstates = np.log10(rv_gc.pmf(gc)) + np.log10(rv_ad.pmf(ad)) + np.log10(rv_ad_tilde.pmf(ad_tilde)) + np.log10(rv_ad_tilde_s.pmf(ad_tilde_s)) + np.log10(rv_ad_hat_s.pmf(ad_hat_s))\n",
    "                        bu_tilde_res = np.dot(rv_bu_tilde.pmf(bu_tilde), np.multiply(np.power(1 - q_e, N-ad-bu_tilde), np.power(1 - q_bu_tilde, bu_tilde)))\n",
    "                        res = 10**log_pstates * (1 - q_ad_hat_s)**ad_hat_s * (1 - q_ad_hat_i)**(ad - ad_tilde - ad_hat_s) * bu_tilde_res\n",
    "                        result += res\n",
    "                        # print res, result\n",
    "                        # print gc, ad, ad_tilde, ad_tilde_s, ad_hat_s, bu_tilde\n",
    "                        # print \"\\n\"\n",
    "    return result"
   ]
  },
  {
   "cell_type": "code",
   "execution_count": 235,
   "metadata": {
    "collapsed": false
   },
   "outputs": [
    {
     "name": "stdout",
     "output_type": "stream",
     "text": [
      "0.999999999249\n",
      "CPU times: user 23.4 s, sys: 250 ms, total: 23.7 s\n",
      "Wall time: 24.2 s\n"
     ]
    }
   ],
   "source": [
    "%%time\n",
    "# xor_analysis_new(N, tSNR, rSNRdu, rSNR3)\n",
    "n = 30\n",
    "psuccess_ = xor_analysis_new(n, 20, 1, 1)\n",
    "print psuccess_    "
   ]
  },
  {
   "cell_type": "code",
   "execution_count": 243,
   "metadata": {
    "collapsed": false
   },
   "outputs": [
    {
     "name": "stdout",
     "output_type": "stream",
     "text": [
      "[1 2 3 4]\n",
      "[ 0.39550781  0.26367187  0.08789062  0.01464844]\n",
      "[ 3  9 27 81]\n",
      "1.0\n",
      "0.0\n",
      "[ 0.5      0.375    0.15625]\n",
      "[[[0 0 0 0]\n",
      "  [1 1 1 1]]\n",
      "\n",
      " [[0 1 2 3]\n",
      "  [0 1 2 3]]]\n",
      "[0 0 0 0] [1 1 1 1]\n",
      "[0 1 2 3] [0 1 2 3]\n",
      "\n",
      "\n",
      "[[0 1 2 3]\n",
      " [0 1 2 3]] [[0 0 0 0]\n",
      " [1 1 1 1]]\n"
     ]
    }
   ],
   "source": [
    "0.245888256052\n",
    "ks = arange(1, 5)\n",
    "print ks\n",
    "rv = binom(5, 0.25)\n",
    "print rv.pmf(ks)\n",
    "print np.power(3, ks)\n",
    "rv2 = binom(0, 0.5)\n",
    "print rv2.pmf(0)\n",
    "print rv2.pmf(1)\n",
    "z = binom(array([1, 3, 5]), 0.5)\n",
    "print z.pmf(1)\n",
    "z = indices((2,4))\n",
    "print z\n",
    "for x, y in z:\n",
    "    print x, y\n",
    "a, b = meshgrid(arange(0,4), arange(0,2))\n",
    "print '\\n'\n",
    "print a, b\n",
    "# for x, y in z:\n",
    "#     print x,y"
   ]
  },
  {
   "cell_type": "code",
   "execution_count": 253,
   "metadata": {
    "collapsed": false
   },
   "outputs": [
    {
     "name": "stdout",
     "output_type": "stream",
     "text": [
      "0.00199526231497\n",
      "0.00199327310234\n",
      "0.00199526231497\n",
      "0\n"
     ]
    }
   ],
   "source": [
    "rSNRdu = 7\n",
    "rSNR3 = 7\n",
    "tSNR = 34\n",
    "\n",
    "h_du = 10**((rSNRdu - tSNR)/10) # linear fade\n",
    "h_xor = 10**((rSNR3 - tSNR)/10)\n",
    "# Probability fade is bad\n",
    "p_f1 = p_f2 = 1 - np.exp(-h_du)\n",
    "p_f3 = 1 - np.exp(h_du-h_xor) if h_xor > h_du else 0\n",
    "\n",
    "print h_du\n",
    "print p_f1\n",
    "print h_xor\n",
    "print p_f3"
   ]
  },
  {
   "cell_type": "code",
   "execution_count": 255,
   "metadata": {
    "collapsed": false
   },
   "outputs": [
    {
     "name": "stdout",
     "output_type": "stream",
     "text": [
      "0.998006726898\n",
      "0.997491265715\n"
     ]
    }
   ],
   "source": [
    "N = 1\n",
    "tSNR = 34\n",
    "rSNRdu = 7\n",
    "rSNR3 = 7\n",
    "print xor_analysis_new(N, tSNR, rSNRdu, rSNR3)\n",
    "tSNR = 33\n",
    "print xor_analysis_new(N, tSNR, rSNRdu, rSNR3)"
   ]
  },
  {
   "cell_type": "code",
   "execution_count": null,
   "metadata": {
    "collapsed": true
   },
   "outputs": [],
   "source": [
    "%%time\n",
    "%run ../optimize_pkg_2.py\n",
    "# How long it takes if rSNR3 = rSNRdu, pf3 = 0\n",
    "N = 10\n",
    "tSNR = 14\n",
    "rSNRdu = 2\n",
    "rSNR3 = 3\n",
    "a3 = xor_analysis_new(N, tSNR, rSNRdu, rSNR3)\n",
    "print a3"
   ]
  },
  {
   "cell_type": "code",
   "execution_count": 258,
   "metadata": {
    "collapsed": false
   },
   "outputs": [
    {
     "data": {
      "text/plain": [
       "numpy.float64"
      ]
     },
     "execution_count": 258,
     "metadata": {},
     "output_type": "execute_result"
    }
   ],
   "source": [
    "type(binom(10, 0.5).pmf(5))"
   ]
  },
  {
   "cell_type": "code",
   "execution_count": null,
   "metadata": {
    "collapsed": true
   },
   "outputs": [],
   "source": []
  }
 ],
 "metadata": {
  "kernelspec": {
   "display_name": "Python 2",
   "language": "python",
   "name": "python2"
  },
  "language_info": {
   "codemirror_mode": {
    "name": "ipython",
    "version": 2
   },
   "file_extension": ".py",
   "mimetype": "text/x-python",
   "name": "python",
   "nbconvert_exporter": "python",
   "pygments_lexer": "ipython2",
   "version": "2.7.11"
  }
 },
 "nbformat": 4,
 "nbformat_minor": 0
}
