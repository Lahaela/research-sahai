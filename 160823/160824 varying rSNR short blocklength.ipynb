{
 "cells": [
  {
   "cell_type": "code",
   "execution_count": 1,
   "metadata": {
    "collapsed": false
   },
   "outputs": [
    {
     "name": "stdout",
     "output_type": "stream",
     "text": [
      "Populating the interactive namespace from numpy and matplotlib\n"
     ]
    }
   ],
   "source": [
    "%pylab inline\n",
    "from __future__ import division\n",
    "import scipy as sp\n",
    "from scipy import stats\n",
    "from scipy.signal import argrelextrema\n",
    "from scipy.interpolate import interp1d\n",
    "import operator as op\n",
    "from decimal import *\n",
    "import pickle\n",
    "import mpld3\n",
    "mpld3.enable_notebook()"
   ]
  },
  {
   "cell_type": "code",
   "execution_count": 2,
   "metadata": {
    "collapsed": true
   },
   "outputs": [],
   "source": [
    "%run ../cow.py"
   ]
  },
  {
   "cell_type": "markdown",
   "metadata": {},
   "source": [
    "# Short Blocklength Test"
   ]
  },
  {
   "cell_type": "code",
   "execution_count": 3,
   "metadata": {
    "collapsed": true
   },
   "outputs": [],
   "source": [
    "protocol_target = 10**(-9)\n",
    "rx_SNR_range = arange(0, 12, 0.01)\n",
    "# tx_SNR_range = arange(30, -10*log10(protocol_target), 0.01)\n",
    "protocolbit = 4200\n",
    "start_node, end_node = 2, 6\n",
    "user_range = arange(start_node, end_node, 1)"
   ]
  },
  {
   "cell_type": "code",
   "execution_count": 4,
   "metadata": {
    "collapsed": true
   },
   "outputs": [],
   "source": [
    "filepath_down = \"../data_tables/short_block_test/default/down/n\"\n",
    "filepath_up = \"../data_tables/short_block_test/default/up/n\""
   ]
  },
  {
   "cell_type": "markdown",
   "metadata": {},
   "source": [
    "## New Optimize 1"
   ]
  },
  {
   "cell_type": "code",
   "execution_count": null,
   "metadata": {
    "collapsed": true
   },
   "outputs": [],
   "source": []
  },
  {
   "cell_type": "markdown",
   "metadata": {},
   "source": [
    "## Old Optimize 3"
   ]
  },
  {
   "cell_type": "code",
   "execution_count": 5,
   "metadata": {
    "collapsed": false
   },
   "outputs": [
    {
     "name": "stdout",
     "output_type": "stream",
     "text": [
      "[[  0.00000000e+00   0.00000000e+00   0.00000000e+00   0.00000000e+00\n",
      "    0.00000000e+00]\n",
      " [  5.10000000e+01   2.50000000e+00   3.25788384e-11   2.76348845e-06\n",
      "    2.76348845e-06]\n",
      " [  3.90000000e+01   4.30000000e+00   8.48370245e-18   2.35494936e-07\n",
      "    2.35494936e-07]\n",
      " [  3.40000000e+01   7.50000000e+00   7.81707275e-27   1.20134795e-08\n",
      "    1.20134795e-08]\n",
      " [  3.30000000e+01   1.00000000e+01   6.23410084e-08   1.22792898e-08\n",
      "    1.22792898e-08]]\n",
      "CPU times: user 4.14 s, sys: 50.1 ms, total: 4.19 s\n",
      "Wall time: 4.33 s\n"
     ]
    }
   ],
   "source": [
    "%%time\n",
    "%run ../optimize_pkg.py\n",
    "optimize_3_data = zeros((5, 5))\n",
    "rx_SNR_start = 0\n",
    "tx_SNR_range = arange(25, 60, 1)\n",
    "for N in user_range:\n",
    "    optimize_3_data[N-1] = optimize_3(N, rx_SNR_start, tx_SNR_range, filepath_down, filepath_up, protocolbit)\n",
    "    \n",
    "print optimize_3_data"
   ]
  },
  {
   "cell_type": "markdown",
   "metadata": {},
   "source": [
    "## New Optimize 3"
   ]
  },
  {
   "cell_type": "code",
   "execution_count": 8,
   "metadata": {
    "collapsed": false
   },
   "outputs": [
    {
     "name": "stdout",
     "output_type": "stream",
     "text": [
      "5 [  3.00000000e+01   7.00000000e+00   7.00000000e+00   1.10000000e+01\n",
      "   2.47300190e-03   4.87590826e-04   5.59116087e-11]\n",
      "4 [  3.20000000e+01   4.00000000e+00   5.00000000e+00   8.00000000e+00\n",
      "   3.13583564e-06   5.62737665e-04   6.31821039e-10]\n",
      "3 [  3.70000000e+01   3.00000000e+00   4.00000000e+00   5.00000000e+00\n",
      "   9.37341948e-09   1.70239658e-06   1.27944396e-09]\n",
      "2 [  5.00000000e+01   2.00000000e+00   3.00000000e+00   3.00000000e+00\n",
      "   5.54012442e-08   3.11859133e-08   3.11859133e-08]\n",
      "CPU times: user 4min 58s, sys: 2.1 s, total: 5min\n",
      "Wall time: 5min 14s\n"
     ]
    }
   ],
   "source": [
    "%%time\n",
    "%run ../optimize_pkg_2.py\n",
    "optimize_3_data_2 = zeros((5, 7))\n",
    "tx_SNR_range = arange(28, 60, 1)\n",
    "for N in user_range[::-1]:\n",
    "    optimize_3_data_2[N-1] = optimize_3(N, rx_SNR_start, tx_SNR_range, filepath_down, filepath_up, protocolbit, 1)\n",
    "    print N, optimize_3_data_2[N-1]\n",
    "    \n",
    "# rSNR3, rSNR1, rSNR2"
   ]
  },
  {
   "cell_type": "code",
   "execution_count": 10,
   "metadata": {
    "collapsed": false
   },
   "outputs": [
    {
     "name": "stdout",
     "output_type": "stream",
     "text": [
      "5 [  3.00000000e+01   7.00000000e+00   7.00000000e+00   1.10000000e+01\n",
      "   2.47300190e-03   4.87590826e-04   5.59116087e-11]\n",
      "4 [  3.20000000e+01   4.00000000e+00   5.00000000e+00   8.00000000e+00\n",
      "   3.13583564e-06   5.62737665e-04   6.31821039e-10]\n",
      "3 [  3.70000000e+01   3.00000000e+00   4.00000000e+00   5.00000000e+00\n",
      "   9.37341948e-09   1.70239658e-06   1.27944396e-09]\n",
      "2 [  5.00000000e+01   2.00000000e+00   3.00000000e+00   3.00000000e+00\n",
      "   5.54012442e-08   3.11859133e-08   3.11859133e-08]\n",
      "CPU times: user 4min 51s, sys: 2.17 s, total: 4min 54s\n",
      "Wall time: 5min 6s\n"
     ]
    }
   ],
   "source": [
    "%%time\n",
    "%run ../optimize_pkg_2.py\n",
    "optimize_3_data_2 = zeros((5, 7))\n",
    "tx_SNR_range = arange(28, 60, 1)\n",
    "for N in user_range[::-1]:\n",
    "    optimize_3_data_2[N-1] = optimize_3(N, rx_SNR_start, tx_SNR_range, filepath_down, filepath_up, protocolbit, 1)\n",
    "    print N, optimize_3_data_2[N-1]\n",
    "    \n",
    "# rSNR1, rSNR2, rSNR3"
   ]
  },
  {
   "cell_type": "markdown",
   "metadata": {},
   "source": [
    "## Old Optimize 4"
   ]
  },
  {
   "cell_type": "code",
   "execution_count": 13,
   "metadata": {
    "collapsed": false
   },
   "outputs": [
    {
     "name": "stdout",
     "output_type": "stream",
     "text": [
      "[[  5.10000000e+01   2.70000000e+00   1.21100000e+03   1.69400000e+03\n",
      "    1.29500000e+03   6.98931657e-10   3.04233641e-10   2.06679730e-06]\n",
      " [  3.80000000e+01   4.60000000e+00   1.13400000e+03   1.49100000e+03\n",
      "    1.57500000e+03   6.71726556e-11   4.36591539e-10   7.60613461e-10]\n",
      " [  3.40000000e+01   7.10000000e+00   1.22500000e+03   1.47700000e+03\n",
      "    1.49800000e+03   7.61725198e-10   1.68018305e-11   1.68017822e-11]\n",
      " [  3.30000000e+01   1.08000000e+01   1.40000000e+03   1.40000000e+03\n",
      "    1.40000000e+03   9.20337806e-10   1.81278659e-10   1.81278659e-10]]\n",
      "CPU times: user 35.7 s, sys: 240 ms, total: 36 s\n",
      "Wall time: 36.7 s\n"
     ]
    }
   ],
   "source": [
    "%%time\n",
    "%run ../optimize_pkg.py\n",
    "optimize_filepath_down = \"../data_tables/short_block_test/down/n\"\n",
    "optimize_filepath_up = \"../data_tables/short_block_test/up/n\"\n",
    "tx_SNR_range = arange(30, 60, 1)\n",
    "optimize_4_data = zeros((4, 8))\n",
    "for N in user_range:\n",
    "    optimize_4_data[N-2] = optimize_4(N, tx_SNR_range, optimize_filepath_down, optimize_filepath_up, protocolbit)\n",
    "    \n",
    "print optimize_4_data"
   ]
  },
  {
   "cell_type": "markdown",
   "metadata": {},
   "source": [
    "## New Optimize 4"
   ]
  },
  {
   "cell_type": "code",
   "execution_count": 17,
   "metadata": {
    "collapsed": false
   },
   "outputs": [
    {
     "name": "stdout",
     "output_type": "stream",
     "text": [
      "5 [  3.30000000e+01   1.10000000e+01   1.10000000e+01   1.10000000e+01\n",
      "   1.40000000e+03   1.40000000e+03   1.40000000e+03   0.00000000e+00\n",
      "   0.00000000e+00   5.59116087e-11]\n",
      "4 [  3.20000000e+01   4.00000000e+00   7.00000000e+00   1.00000000e+01\n",
      "   1.56100000e+03   1.47700000e+03   1.16200000e+03   1.24562806e-10\n",
      "   3.58895175e-11   1.22792898e-08]\n",
      "3 [  3.70000000e+01   2.00000000e+00   5.00000000e+00   1.00000000e+01\n",
      "   1.93200000e+03   1.36500000e+03   9.03000000e+02   6.29825453e-10\n",
      "   9.90465461e-10   1.32238506e-08]\n",
      "2 [  5.00000000e+01   2.00000000e+00   3.00000000e+00   4.00000000e+00\n",
      "   1.54700000e+03   1.52600000e+03   1.12700000e+03   4.18193781e-10\n",
      "   3.70914022e-10   3.68079833e-09]\n",
      "CPU times: user 1h 43min 24s, sys: 58.4 s, total: 1h 44min 23s\n",
      "Wall time: 3h 27min 46s\n"
     ]
    }
   ],
   "source": [
    "%%time\n",
    "%run ../optimize_pkg_2.py\n",
    "optimize_4_data_2 = zeros((4, 10))\n",
    "tx_SNR_range = arange(28, 60, 1)\n",
    "for N in user_range[::-1]:\n",
    "    optimize_4_data_2[N-2] = optimize_4(N, tx_SNR_range, optimize_filepath_down, optimize_filepath_up, protocolbit, d_rSNR=1)\n",
    "    print N, optimize_4_data_2[N-2]\n",
    "    \n",
    "# rSNR3, rSNR1, rSNR2"
   ]
  },
  {
   "cell_type": "code",
   "execution_count": null,
   "metadata": {
    "collapsed": true
   },
   "outputs": [],
   "source": []
  }
 ],
 "metadata": {
  "kernelspec": {
   "display_name": "Python 2",
   "language": "python",
   "name": "python2"
  },
  "language_info": {
   "codemirror_mode": {
    "name": "ipython",
    "version": 2
   },
   "file_extension": ".py",
   "mimetype": "text/x-python",
   "name": "python",
   "nbconvert_exporter": "python",
   "pygments_lexer": "ipython2",
   "version": "2.7.11"
  }
 },
 "nbformat": 4,
 "nbformat_minor": 0
}
