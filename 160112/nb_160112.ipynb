{
 "cells": [
  {
   "cell_type": "code",
   "execution_count": 1,
   "metadata": {
    "collapsed": false
   },
   "outputs": [
    {
     "name": "stdout",
     "output_type": "stream",
     "text": [
      "Populating the interactive namespace from numpy and matplotlib\n"
     ]
    }
   ],
   "source": [
    "%pylab inline\n",
    "import mpld3\n",
    "mpld3.enable_notebook() # Allows you to zoom in on plots"
   ]
  },
  {
   "cell_type": "code",
   "execution_count": 14,
   "metadata": {
    "collapsed": true
   },
   "outputs": [],
   "source": [
    "from __future__ import division\n",
    "import math\n",
    "normrnd = random.normal # (mu, std)\n",
    "\n",
    "from matplotlib import rc\n",
    "# rc('font',**{'family':'sans-serif','sans-serif':['Helvetica']})\n",
    "rc('text', usetex=True)"
   ]
  },
  {
   "cell_type": "markdown",
   "metadata": {},
   "source": [
    "## Multiplicative Noise Only\n",
    "\n",
    "Setup: $ x(n+1) = a \\, x(n) \\quad y(n) = c(n) \\, x(n) $\n",
    "\n",
    "$$ \\alpha(n) = \\frac{\\mu_c}{2\\mu_c^2 + \\sigma_c^2} \\quad \\quad \\beta(n) = \\frac{a\\mu_c}{2\\mu_c^2 + \\sigma_c^2} $$"
   ]
  },
  {
   "cell_type": "code",
   "execution_count": 37,
   "metadata": {
    "collapsed": false,
    "scrolled": false
   },
   "outputs": [
    {
     "data": {
      "text/plain": [
       "<matplotlib.text.Text at 0x10c980d50>"
      ]
     },
     "execution_count": 37,
     "metadata": {},
     "output_type": "execute_result"
    },
    {
     "data": {
      "image/png": "[encoded data removed]",
      "text/html": [
       "\n",
       "\n",
       "<style>\n",
       "\n",
       "</style>\n",
       "\n",
       "<div id=\"fig_el2018144629781286365305599\"></div>\n",
       "<script>\n",
       "function mpld3_load_lib(url, callback){\n",
       "  var s = document.createElement('script');\n",
       "  s.src = url;\n",
       "  s.async = true;\n",
       "  s.onreadystatechange = s.onload = callback;\n",
       "  s.onerror = function(){console.warn(\"failed to load library \" + url);};\n",
       "  document.getElementsByTagName(\"head\")[0].appendChild(s);\n",
       "}\n",
       "\n",
       "if(typeof(mpld3) !== \"undefined\" && mpld3._mpld3IsLoaded){\n",
       "   // already loaded: just create the figure\n",
       "   !function(mpld3){\n",
       "       \n",
       "       mpld3.draw_figure(\"fig_el2018144629781286365305599\", {\"axes\": [{\"xlim\": [0.0, 30.0], \"yscale\": \"linear\", \"axesbg\": \"#FFFFFF\", \"texts\": [{\"v_baseline\": \"hanging\", \"h_anchor\": \"middle\", \"color\": \"#000000\", \"text\": \"time\", \"coordinates\": \"axes\", \"zorder\": 3, \"alpha\": 1, \"fontsize\": 20.0, \"position\": [0.5, -0.081632198308761478], \"rotation\": -0.0, \"id\": \"el201814506258768\"}, {\"v_baseline\": \"auto\", \"h_anchor\": \"middle\", \"color\": \"#000000\", \"text\": \"x^2(n)\", \"coordinates\": \"axes\", \"zorder\": 3, \"alpha\": 1, \"fontsize\": 24.0, \"position\": [0.5, 1.0224014336917562], \"rotation\": -0.0, \"id\": \"el201814532960144\"}], \"zoomable\": true, \"images\": [], \"xdomain\": [0.0, 30.0], \"ylim\": [0.0, 3.0], \"paths\": [], \"sharey\": [], \"sharex\": [], \"axesbgalpha\": null, \"axes\": [{\"scale\": \"linear\", \"tickformat\": null, \"grid\": {\"gridOn\": false}, \"fontsize\": 10.0, \"position\": \"bottom\", \"nticks\": 7, \"tickvalues\": null}, {\"scale\": \"linear\", \"tickformat\": null, \"grid\": {\"gridOn\": false}, \"fontsize\": 10.0, \"position\": \"left\", \"nticks\": 7, \"tickvalues\": null}], \"lines\": [{\"color\": \"#0000FF\", \"yindex\": 1, \"coordinates\": \"data\", \"dasharray\": \"10,0\", \"zorder\": 2, \"alpha\": 1, \"xindex\": 0, \"linewidth\": 2.0, \"data\": \"data01\", \"id\": \"el201814506488528\"}], \"markers\": [], \"id\": \"el201814506256720\", \"ydomain\": [0.0, 3.0], \"collections\": [], \"xscale\": \"linear\", \"bbox\": [0.125, 0.125, 0.77500000000000002, 0.77500000000000002]}], \"height\": 320.0, \"width\": 480.0, \"plugins\": [{\"type\": \"reset\"}, {\"enabled\": false, \"button\": true, \"type\": \"zoom\"}, {\"enabled\": false, \"button\": true, \"type\": \"boxzoom\"}], \"data\": {\"data01\": [[0.0, 0.9993733276408756], [1.0, 1.6889409237130792], [2.0, 2.8543101610750905], [3.0, 2.3978606192054346e-06], [4.0, 4.0523844464572284e-06], [5.0, 3.442396234053309e-12], [6.0, 5.817649635550055e-12], [7.0, 4.6887965552146545e-18], [8.0, 7.924066178312895e-18], [9.0, 6.381658536368077e-24], [10.0, 1.0785002926462068e-23], [11.0, 8.746418878417142e-30], [12.0, 1.4781447904524796e-29], [13.0, 1.1459487493480178e-35], [14.0, 1.9366533863981398e-35], [15.0, 1.5275572431959151e-41], [16.0, 2.5815717410011015e-41], [17.0, 2.759425735016423e-47], [18.0, 4.663429492177684e-47], [19.0, 4.91194027741427e-53], [20.0, 8.301179068830055e-53], [21.0, 5.539082434742762e-59], [22.0, 9.361049314715348e-59], [23.0, 8.179256887996985e-65], [24.0, 1.3822944140715239e-64], [25.0, 1.2691026737205448e-70], [26.0, 2.1447835185877094e-70], [27.0, 1.0758195560913946e-76], [28.0, 1.818135049794443e-76], [29.0, 1.1103170813334333e-82]]}, \"id\": \"el201814462978128\"});\n",
       "   }(mpld3);\n",
       "}else if(typeof define === \"function\" && define.amd){\n",
       "   // require.js is available: use it to load d3/mpld3\n",
       "   require.config({paths: {d3: \"https://mpld3.github.io/js/d3.v3.min\"}});\n",
       "   require([\"d3\"], function(d3){\n",
       "      window.d3 = d3;\n",
       "      mpld3_load_lib(\"https://mpld3.github.io/js/mpld3.v0.2.js\", function(){\n",
       "         \n",
       "         mpld3.draw_figure(\"fig_el2018144629781286365305599\", {\"axes\": [{\"xlim\": [0.0, 30.0], \"yscale\": \"linear\", \"axesbg\": \"#FFFFFF\", \"texts\": [{\"v_baseline\": \"hanging\", \"h_anchor\": \"middle\", \"color\": \"#000000\", \"text\": \"time\", \"coordinates\": \"axes\", \"zorder\": 3, \"alpha\": 1, \"fontsize\": 20.0, \"position\": [0.5, -0.081632198308761478], \"rotation\": -0.0, \"id\": \"el201814506258768\"}, {\"v_baseline\": \"auto\", \"h_anchor\": \"middle\", \"color\": \"#000000\", \"text\": \"x^2(n)\", \"coordinates\": \"axes\", \"zorder\": 3, \"alpha\": 1, \"fontsize\": 24.0, \"position\": [0.5, 1.0224014336917562], \"rotation\": -0.0, \"id\": \"el201814532960144\"}], \"zoomable\": true, \"images\": [], \"xdomain\": [0.0, 30.0], \"ylim\": [0.0, 3.0], \"paths\": [], \"sharey\": [], \"sharex\": [], \"axesbgalpha\": null, \"axes\": [{\"scale\": \"linear\", \"tickformat\": null, \"grid\": {\"gridOn\": false}, \"fontsize\": 10.0, \"position\": \"bottom\", \"nticks\": 7, \"tickvalues\": null}, {\"scale\": \"linear\", \"tickformat\": null, \"grid\": {\"gridOn\": false}, \"fontsize\": 10.0, \"position\": \"left\", \"nticks\": 7, \"tickvalues\": null}], \"lines\": [{\"color\": \"#0000FF\", \"yindex\": 1, \"coordinates\": \"data\", \"dasharray\": \"10,0\", \"zorder\": 2, \"alpha\": 1, \"xindex\": 0, \"linewidth\": 2.0, \"data\": \"data01\", \"id\": \"el201814506488528\"}], \"markers\": [], \"id\": \"el201814506256720\", \"ydomain\": [0.0, 3.0], \"collections\": [], \"xscale\": \"linear\", \"bbox\": [0.125, 0.125, 0.77500000000000002, 0.77500000000000002]}], \"height\": 320.0, \"width\": 480.0, \"plugins\": [{\"type\": \"reset\"}, {\"enabled\": false, \"button\": true, \"type\": \"zoom\"}, {\"enabled\": false, \"button\": true, \"type\": \"boxzoom\"}], \"data\": {\"data01\": [[0.0, 0.9993733276408756], [1.0, 1.6889409237130792], [2.0, 2.8543101610750905], [3.0, 2.3978606192054346e-06], [4.0, 4.0523844464572284e-06], [5.0, 3.442396234053309e-12], [6.0, 5.817649635550055e-12], [7.0, 4.6887965552146545e-18], [8.0, 7.924066178312895e-18], [9.0, 6.381658536368077e-24], [10.0, 1.0785002926462068e-23], [11.0, 8.746418878417142e-30], [12.0, 1.4781447904524796e-29], [13.0, 1.1459487493480178e-35], [14.0, 1.9366533863981398e-35], [15.0, 1.5275572431959151e-41], [16.0, 2.5815717410011015e-41], [17.0, 2.759425735016423e-47], [18.0, 4.663429492177684e-47], [19.0, 4.91194027741427e-53], [20.0, 8.301179068830055e-53], [21.0, 5.539082434742762e-59], [22.0, 9.361049314715348e-59], [23.0, 8.179256887996985e-65], [24.0, 1.3822944140715239e-64], [25.0, 1.2691026737205448e-70], [26.0, 2.1447835185877094e-70], [27.0, 1.0758195560913946e-76], [28.0, 1.818135049794443e-76], [29.0, 1.1103170813334333e-82]]}, \"id\": \"el201814462978128\"});\n",
       "      });\n",
       "    });\n",
       "}else{\n",
       "    // require.js not available: dynamically load d3 & mpld3\n",
       "    mpld3_load_lib(\"https://mpld3.github.io/js/d3.v3.min.js\", function(){\n",
       "         mpld3_load_lib(\"https://mpld3.github.io/js/mpld3.v0.2.js\", function(){\n",
       "                 \n",
       "                 mpld3.draw_figure(\"fig_el2018144629781286365305599\", {\"axes\": [{\"xlim\": [0.0, 30.0], \"yscale\": \"linear\", \"axesbg\": \"#FFFFFF\", \"texts\": [{\"v_baseline\": \"hanging\", \"h_anchor\": \"middle\", \"color\": \"#000000\", \"text\": \"time\", \"coordinates\": \"axes\", \"zorder\": 3, \"alpha\": 1, \"fontsize\": 20.0, \"position\": [0.5, -0.081632198308761478], \"rotation\": -0.0, \"id\": \"el201814506258768\"}, {\"v_baseline\": \"auto\", \"h_anchor\": \"middle\", \"color\": \"#000000\", \"text\": \"x^2(n)\", \"coordinates\": \"axes\", \"zorder\": 3, \"alpha\": 1, \"fontsize\": 24.0, \"position\": [0.5, 1.0224014336917562], \"rotation\": -0.0, \"id\": \"el201814532960144\"}], \"zoomable\": true, \"images\": [], \"xdomain\": [0.0, 30.0], \"ylim\": [0.0, 3.0], \"paths\": [], \"sharey\": [], \"sharex\": [], \"axesbgalpha\": null, \"axes\": [{\"scale\": \"linear\", \"tickformat\": null, \"grid\": {\"gridOn\": false}, \"fontsize\": 10.0, \"position\": \"bottom\", \"nticks\": 7, \"tickvalues\": null}, {\"scale\": \"linear\", \"tickformat\": null, \"grid\": {\"gridOn\": false}, \"fontsize\": 10.0, \"position\": \"left\", \"nticks\": 7, \"tickvalues\": null}], \"lines\": [{\"color\": \"#0000FF\", \"yindex\": 1, \"coordinates\": \"data\", \"dasharray\": \"10,0\", \"zorder\": 2, \"alpha\": 1, \"xindex\": 0, \"linewidth\": 2.0, \"data\": \"data01\", \"id\": \"el201814506488528\"}], \"markers\": [], \"id\": \"el201814506256720\", \"ydomain\": [0.0, 3.0], \"collections\": [], \"xscale\": \"linear\", \"bbox\": [0.125, 0.125, 0.77500000000000002, 0.77500000000000002]}], \"height\": 320.0, \"width\": 480.0, \"plugins\": [{\"type\": \"reset\"}, {\"enabled\": false, \"button\": true, \"type\": \"zoom\"}, {\"enabled\": false, \"button\": true, \"type\": \"boxzoom\"}], \"data\": {\"data01\": [[0.0, 0.9993733276408756], [1.0, 1.6889409237130792], [2.0, 2.8543101610750905], [3.0, 2.3978606192054346e-06], [4.0, 4.0523844464572284e-06], [5.0, 3.442396234053309e-12], [6.0, 5.817649635550055e-12], [7.0, 4.6887965552146545e-18], [8.0, 7.924066178312895e-18], [9.0, 6.381658536368077e-24], [10.0, 1.0785002926462068e-23], [11.0, 8.746418878417142e-30], [12.0, 1.4781447904524796e-29], [13.0, 1.1459487493480178e-35], [14.0, 1.9366533863981398e-35], [15.0, 1.5275572431959151e-41], [16.0, 2.5815717410011015e-41], [17.0, 2.759425735016423e-47], [18.0, 4.663429492177684e-47], [19.0, 4.91194027741427e-53], [20.0, 8.301179068830055e-53], [21.0, 5.539082434742762e-59], [22.0, 9.361049314715348e-59], [23.0, 8.179256887996985e-65], [24.0, 1.3822944140715239e-64], [25.0, 1.2691026737205448e-70], [26.0, 2.1447835185877094e-70], [27.0, 1.0758195560913946e-76], [28.0, 1.818135049794443e-76], [29.0, 1.1103170813334333e-82]]}, \"id\": \"el201814462978128\"});\n",
       "            })\n",
       "         });\n",
       "}\n",
       "</script>"
      ],
      "text/plain": [
       "<matplotlib.figure.Figure at 0x10a03a450>"
      ]
     },
     "metadata": {},
     "output_type": "display_data"
    }
   ],
   "source": [
    "# parameters\n",
    "time_horizon = 30\n",
    "trials = 100000 # 100,000\n",
    "a = 1.3\n",
    "mu_c, stdc = 1, 1\n",
    "delay = 1\n",
    "\n",
    "# constant control\n",
    "alpha = mu_c / (2*mu_c**2 + stdc**2)\n",
    "beta = a * mu_c / (2*mu_c**2 + stdc**2)\n",
    "\n",
    "result = zeros((trials, time_horizon))\n",
    "for m in range(trials):\n",
    "    xn, yn, un = zeros(time_horizon), zeros(time_horizon), zeros(time_horizon)\n",
    "    xn[0] = normrnd(0, 1)\n",
    "    for t in range(1,time_horizon):\n",
    "        xn[t] = a * (xn[t-1] - un[t-1])\n",
    "        yn[t] = normrnd(mu_c, stdc) * xn[t]\n",
    "\n",
    "        if t % (delay+1) == 0:\n",
    "            un[t] = alpha*yn[t] + beta*yn[t-1]\n",
    "    result[m] = xn\n",
    "    \n",
    "plot(range(time_horizon), mean(square(result), axis=0), lw=2.0)\n",
    "#title(r\"$\\displaystylex^2(n)$\", fontsize=24)\n",
    "title('x^2(n)', fontsize=24)\n",
    "xlabel('time', fontsize=20)"
   ]
  },
  {
   "cell_type": "code",
   "execution_count": null,
   "metadata": {
    "collapsed": true
   },
   "outputs": [],
   "source": []
  }
 ],
 "metadata": {
  "kernelspec": {
   "display_name": "Python 2",
   "language": "python",
   "name": "python2"
  },
  "language_info": {
   "codemirror_mode": {
    "name": "ipython",
    "version": 2
   },
   "file_extension": ".py",
   "mimetype": "text/x-python",
   "name": "python",
   "nbconvert_exporter": "python",
   "pygments_lexer": "ipython2",
   "version": "2.7.10"
  }
 },
 "nbformat": 4,
 "nbformat_minor": 0
}
