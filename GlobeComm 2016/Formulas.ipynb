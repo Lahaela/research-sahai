{
 "cells": [
  {
   "cell_type": "markdown",
   "metadata": {},
   "source": [
    "## Finding the Nominal SNR Needed\n",
    "\n",
    "General Errors\n",
    "\n",
    "$$ \\text{Number of nodes} = N $$\n",
    "$$ \\text{Rate} = \\frac{N \\cdot \\text{msg_size} }{\\text{blocklength}} $$\n",
    "\n",
    "Individual Hamming code error:\n",
    "$$ hcerr = 1 - \\left( (1-p_{bit})^7 + {7 \\choose 1} \\, p_{bit} \\, (1-p_{bit})^6 \\right)$$\n",
    "\n",
    "2 words together: Hamming code error:\n",
    "$$ \\text{P(Hamming code fails)} = hcf = 1 - \\left( (1-p_{bit})^{14} + {14 \\choose 1} \\, p_{bit} \\, (1-p_{bit})^{13} + \\left( {7 \\choose 1} \\, p_{bit} \\, (1-p_{bit})^6 \\right)^2 \\right) = 1 - (1-hcerr)^2 $$\n",
    "\n",
    "3 words together:\n",
    "$$ hcf = 1 - (1-hcerr)^3 $$\n",
    "\n",
    "Blocklength: $\\lfloor \\frac{10,000 \\text{ bits}}{14 \\text{ bits per codeword}} \\rfloor = 714$\n",
    "\n",
    "For XOR cow, the blocklength is $ \\frac{40,000}{3} $ bits and $ \\lfloor \\frac{40,000}{3} \\cdot \\frac{1}{21} \\rfloor $ codewords\n",
    "\n",
    "$$ \\text{P(Reed Solomon Code fails)} = \\sum_{d=\\lfloor \\frac{k}{2} \\rfloor + 1}^{\\text{block}} {\\text{block} \\choose d} \\, hcf^d \\, (1-hcf)^{\\text{block}-d} = \\text{P(Additive Noise)}$$\n",
    "$$ \\text{P(Additive Noise)} < 10^{-9} \\rightarrow p_{crit} $$\n",
    "$$ \\text{Actual SNR} = \\left( Q^{-1}(p_{crit}) \\right)^2 = \\left( \\sqrt{2} \\, \\text{erf}^{-1} (1 - 2p_{crit}) \\right)^2 $$\n",
    "\n",
    "$$ \\text{P(protocol)} = \\sum_{a = 0}^{N-1} {N \\choose a} \\, (1-p_{nominal})^a \\, p_{nominal}^{N-a} \\, \\left( 1-(1-p_{badfade}^a - p_{add})^{N-a} \\right) $$\n",
    "$$ \\text{P(protocol)} = 10^{-9} \\rightarrow p_{nominal} $$\n",
    "\n",
    "$$ p_{nominal} = \\text{P(bad fade)} + \\text{P(Additive Noise)} $$\n",
    "\n",
    "$$ \\text{P(bad fade)} = 1 - \\text{exp} \\left( \\frac{-\\text{Actual SNR}}{\\text{Nominal SNR}} \\right) $$\n",
    "\n",
    "$$ \\text{Nominal SNR} = \\frac{-\\text{Actual SNR}}{ln (1 - (p_{nominal} - p_{add}))} $$"
   ]
  },
  {
   "cell_type": "code",
   "execution_count": null,
   "metadata": {
    "collapsed": true
   },
   "outputs": [],
   "source": []
  },
  {
   "cell_type": "markdown",
   "metadata": {},
   "source": [
    "$$ P(bitdrop) = \\frac{1}{2} \\, \\text{erfc}\\left(\\sqrt{\\frac{\\text{Operating SNR}}{2}} \\right) $$\n",
    "\n",
    "Probability Hamming syllable fails:\n",
    "$$ hcerr = 1 - \\left( (1-p_d)^7 + {7 \\choose 1} p_d(1-p_d)^6 \\right)$$\n",
    "\n",
    "Probability RS codeword fails:\n",
    "$$ hcf = 1 - \\left( (1-p_d)^{14} + {14 \\choose 1} p_d(1-p_d)^{13} + \\left( {7 \\choose 1} p_d(1-p_d)^6 \\right)^2 \\right) $$\n",
    "$$ hcf = 1 - (1-hcerr)^2 $$\n",
    "\n",
    "Probability Reed Solomon message fails:\n",
    "$$ \\text{rsfail } = \\sum_{d= \\lfloor \\frac{k}{2} \\rfloor +1}^{20+k} {20+k \\choose d} (hcf)^d (1-hcf)^{20+k-d}$$\n",
    "where d stands for dropped RS words, and this sum represents enough of the codeword is dropped that important words start being dropped as well. All of k (n+k) is dropped, and the 'final' 20 words in the payload (that are necessary for decoding) are now being encroached upon.) k is in the range (0, 236) so that the final blocklength is in the range (20, 256)."
   ]
  },
  {
   "cell_type": "markdown",
   "metadata": {},
   "source": [
    "# Loudest Talker Downlink\n",
    "\n",
    "The loudest talker algorithm will find the Transmitter SNR (pre fade SNR) needed to achieve some target reliability, usually $10^{-9}$.\n",
    "\n",
    "**Parameter**: Probability of additive noise experienced after the fade = p_add\n",
    "\n",
    "The algorithm is run on input tables that model functions of error correcting codes, such that\n",
    "$$ f(SNR) = \\text{P(additive noise)} $$\n",
    "These tables represent the probability the error correcting code represented by $f$ will fail at that SNR.\n",
    "\n",
    "Receiver SNR: r_SNR st f(r_SNR) = p_add\n",
    "\n",
    "H_crit = $10^{(r_SNR - t_SNR)/10}$ = Critical fade value in linear terms, given pre and post fade SNR values in dB. r_SNR represents Receiver SNR represents the SNR experienced after the fade. t_SNR stands for Transmitter SNR, represents the SNR we transmit before the fade.\n",
    "\n",
    "P(bad fade) = 1 - exp(-H_crit) = P(bad fade), given that the fade has an exponential distribution\n",
    "\n",
    "P(single) = P(bad fade) $\\cdot$ 1 + (1 - P(bad fade)) $\\cdot$ P_add = Law of total probability, assuming if the fade is bad it is at critical fade (no good fades)\n",
    "\n",
    "$$ P(protocol) = \\sum_{a=0}^N {N \\choose a} \\cdot (1-psingle)^a \\cdot psingle^{N-a} \\cdot \\left( 1-(1-(pbadfade^a + (1-pbadfade^a) \\cdot padd))^{N-a} \\right) $$\n",
    "\n",
    "We want P(protocol) $<= 10^{-9} $"
   ]
  },
  {
   "cell_type": "markdown",
   "metadata": {},
   "source": [
    "# Loudest Talker Uplink\n",
    "\n",
    "Similar to downlink\n",
    "\n",
    "Receiver SNR: r_SNR st f(r_SNR) = p_add\n",
    "\n",
    "H_crit = $10^{(r_SNR - t_SNR)/10}$ = Critical fade value in linear terms, given pre and post fade SNR values in dB. r_SNR represents Receiver SNR represents the SNR experienced after the fade. t_SNR stands for Transmitter SNR, represents the SNR we transmit before the fade.\n",
    "\n",
    "P(bad fade) = 1 - exp(-H_crit) = P(bad fade), given that the fade has an exponential distribution\n",
    "\n",
    "P(single) = P(bad fade) $\\cdot$ 1 + (1 - P(bad fade)) $\\cdot$ P_add = Law of total probability, assuming if the fade is bad it is at critical fade (no good fades)\n",
    "\n",
    "$$ P(success) = \\sum_{a=1}^{N+1} {N \\choose a} \\cdot (1-psingle)^a \\cdot psingle^{N-a} \\cdot \\left( (1-(pbadfade^a + (1-pbadfade^a) \\cdot padd)^a) \\cdot (1-padd))^{N-a} \\right) $$\n",
    "\n",
    "P(protocol) = 1 - P(success)\n",
    "\n",
    "We want P(protocol) $<= 10^{-9} $"
   ]
  },
  {
   "cell_type": "markdown",
   "metadata": {},
   "source": [
    "# Energy Combining Downlink\n",
    "\n",
    "$$ P(single) = $$\n",
    "\n",
    "$$ P(combo) = $$\n",
    "\n",
    "$$ P(protocol) = \\sum_{a=0}^N {N \\choose a} \\cdot (1 - Psingle)^a \\cdot Psingle^{N-a} \\cdot \\left( 1-(1- Pcombo )^{N-a} \\right) $$"
   ]
  },
  {
   "cell_type": "code",
   "execution_count": null,
   "metadata": {
    "collapsed": true
   },
   "outputs": [],
   "source": []
  }
 ],
 "metadata": {
  "kernelspec": {
   "display_name": "Python 2",
   "language": "python",
   "name": "python2"
  },
  "language_info": {
   "codemirror_mode": {
    "name": "ipython",
    "version": 2
   },
   "file_extension": ".py",
   "mimetype": "text/x-python",
   "name": "python",
   "nbconvert_exporter": "python",
   "pygments_lexer": "ipython2",
   "version": "2.7.11"
  }
 },
 "nbformat": 4,
 "nbformat_minor": 0
}
