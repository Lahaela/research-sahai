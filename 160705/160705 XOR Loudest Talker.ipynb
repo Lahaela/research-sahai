{
 "cells": [
  {
   "cell_type": "code",
   "execution_count": 1,
   "metadata": {
    "collapsed": false
   },
   "outputs": [
    {
     "name": "stdout",
     "output_type": "stream",
     "text": [
      "Populating the interactive namespace from numpy and matplotlib\n"
     ]
    }
   ],
   "source": [
    "%pylab inline\n",
    "from __future__ import division\n",
    "import scipy as sp\n",
    "from scipy import stats\n",
    "from scipy.signal import argrelextrema\n",
    "from scipy.interpolate import interp1d\n",
    "import operator as op\n",
    "from decimal import *\n",
    "import pickle\n",
    "import mpld3\n",
    "mpld3.enable_notebook()"
   ]
  },
  {
   "cell_type": "code",
   "execution_count": 2,
   "metadata": {
    "collapsed": true
   },
   "outputs": [],
   "source": [
    "%run ../cow.py\n",
    "%run ../optimize_pkg.py"
   ]
  },
  {
   "cell_type": "code",
   "execution_count": null,
   "metadata": {
    "collapsed": true
   },
   "outputs": [],
   "source": [
    "%%time\n",
    "dSNR = 0.01\n",
    "target = 10**(-9)\n",
    "paddratio = 0.1 # padd = 10**(-10)\n",
    "start_SNR = 0\n",
    "start_nodes, end_nodes = 1, 36\n",
    "\n",
    "shannonscheme = '../data_tables/shannon_tables'\n",
    "hardshannonscheme = '../data_tables/hard_shannon_tables'\n",
    "hsrsscheme = '../data_tables/hs_rs_downlink'\n",
    "polyscheme = '../data_tables/polyanskiy_down'\n",
    "bscscheme = '../data_tables/poly_bsc_converse/down'\n",
    "expscheme = '../data_tables/error_exp/down'\n",
    "\n",
    "shannon_down = loudest_talker(shannonscheme, dSNR, target, paddratio, start_SNR, start_nodes, end_nodes)\n",
    "hardshannon_down = loudest_talker(hardshannonscheme, dSNR, target, paddratio, start_SNR, start_nodes, end_nodes)\n",
    "hsrs_down = loudest_talker(hsrsscheme, dSNR, target, paddratio, start_SNR, start_nodes, end_nodes)\n",
    "polyanskiy_down = loudest_talker(polyscheme, dSNR, target, paddratio, start_SNR, start_nodes, end_nodes)\n",
    "bsc_down = loudest_talker(bscscheme, dSNR, target, paddratio, start_SNR, start_nodes, end_nodes)\n",
    "exp_down = loudest_talker(expscheme, dSNR, target, paddratio, start_SNR, start_nodes, end_nodes)\n",
    "\n",
    "user_range = range(start_nodes, end_nodes)\n",
    "\n",
    "# figure(figsize=(12, 8))\n",
    "# plot(user_range, hsrs_down-ecc['hamming'], lw=2.0, label='Hamming+RS')\n",
    "# plot(user_range, shannon_down-ecc['shannon'], lw=2.0, label='Shannon')\n",
    "# plot(user_range, hardshannon_down-ecc['hardshannon'], lw=2.0, label='Hard Shannon')\n",
    "# plot(user_range, polyanskiy_down-ecc['polyanskiy'], lw=2.0, label='Polyanskiy')\n",
    "# plot(user_range, bsc_down-ecc['polyanskiy_bsc_converse'], lw=2.0, label='Polyanskiy BSC Converse')\n",
    "# plot(user_range, exp_down-ecc['error_exp'], lw=2.0, label='Error Exponent')\n",
    "# legend(loc=0)\n",
    "# xlabel('Number of Nodes', fontsize=18)\n",
    "# ylabel('Transmitter SNR Needed (dB)', fontsize=18, labelpad=20)\n",
    "# title('Hockey 10^{-9} Downlink Loudest Talker Less Energy Combining', fontsize=24)\n",
    "# savefig('hockey_loudest_ecc_penalty.pdf', bbox='tight')"
   ]
  },
  {
   "cell_type": "code",
   "execution_count": null,
   "metadata": {
    "collapsed": true
   },
   "outputs": [],
   "source": [
    "def loudest_talker_xor(codingscheme, dSNR, target, paddratio, start_SNR, start_nodes, end_nodes):\n",
    "    data = zeros((start_nodes-end_nodes, 2))\n",
    "    for N in range(start_nodes, end_nodes):\n",
    "        filename = codingscheme + '/n' + str(N) + '.in'\n",
    "        codetable = load_table(filename)"
   ]
  }
 ],
 "metadata": {
  "kernelspec": {
   "display_name": "Python 2",
   "language": "python",
   "name": "python2"
  },
  "language_info": {
   "codemirror_mode": {
    "name": "ipython",
    "version": 2
   },
   "file_extension": ".py",
   "mimetype": "text/x-python",
   "name": "python",
   "nbconvert_exporter": "python",
   "pygments_lexer": "ipython2",
   "version": "2.7.11"
  }
 },
 "nbformat": 4,
 "nbformat_minor": 0
}
