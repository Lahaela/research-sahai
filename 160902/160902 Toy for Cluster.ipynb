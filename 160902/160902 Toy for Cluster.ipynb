{
 "cells": [
  {
   "cell_type": "code",
   "execution_count": 1,
   "metadata": {
    "collapsed": false
   },
   "outputs": [
    {
     "name": "stdout",
     "output_type": "stream",
     "text": [
      "Populating the interactive namespace from numpy and matplotlib\n"
     ]
    }
   ],
   "source": [
    "%pylab inline\n",
    "from __future__ import division\n",
    "import scipy as sp\n",
    "from scipy import stats\n",
    "from scipy.signal import argrelextrema\n",
    "from scipy.interpolate import interp1d\n",
    "import operator as op\n",
    "from decimal import *\n",
    "import pickle\n",
    "import mpld3\n",
    "mpld3.enable_notebook()"
   ]
  },
  {
   "cell_type": "code",
   "execution_count": 2,
   "metadata": {
    "collapsed": true
   },
   "outputs": [],
   "source": [
    "%run ../cow.py\n",
    "%run ../optimize_pkg_2.py"
   ]
  },
  {
   "cell_type": "code",
   "execution_count": 3,
   "metadata": {
    "collapsed": true
   },
   "outputs": [],
   "source": [
    "filepath_down = \"../data_tables/short_block_test/default/down/n\"\n",
    "filepath_up = \"../data_tables/short_block_test/default/up/n\""
   ]
  },
  {
   "cell_type": "code",
   "execution_count": 4,
   "metadata": {
    "collapsed": true
   },
   "outputs": [],
   "source": [
    "protocol_target = 10**(-9)\n",
    "# rx_SNR_range = arange(0, 12, 0.01)\n",
    "# tx_SNR_range = arange(30, -10*log10(protocol_target), 0.01)\n",
    "protocolbit = 4200\n",
    "start_node, end_node = 2, 6\n",
    "user_range = arange(start_node, end_node, 1)"
   ]
  },
  {
   "cell_type": "code",
   "execution_count": 5,
   "metadata": {
    "collapsed": false
   },
   "outputs": [
    {
     "name": "stdout",
     "output_type": "stream",
     "text": [
      "CPU times: user 9.91 s, sys: 80.4 ms, total: 9.99 s\n",
      "Wall time: 10.2 s\n"
     ]
    }
   ],
   "source": [
    "%%time\n",
    "optimize_1_data = zeros((5, 7))\n",
    "tx_SNR_start = 30\n",
    "precision = -1\n",
    "for N in user_range[::-1]:\n",
    "    optimize_1_data[N-1] = optimize_1(N, tx_SNR_start, filepath_down, filepath_up, precision, protocolbit)"
   ]
  },
  {
   "cell_type": "code",
   "execution_count": 6,
   "metadata": {
    "collapsed": false
   },
   "outputs": [
    {
     "name": "stdout",
     "output_type": "stream",
     "text": [
      "[[  0.00000000e+00   0.00000000e+00   0.00000000e+00   0.00000000e+00\n",
      "    0.00000000e+00   0.00000000e+00   0.00000000e+00]\n",
      " [  5.10000000e+01   2.44000000e+00   3.55000000e+00   3.55000000e+00\n",
      "    8.60089696e-11   9.48693257e-11   9.48693257e-11]\n",
      " [  3.87000000e+01   3.34000000e+00   5.31000000e+00   5.31000000e+00\n",
      "    8.67846335e-11   9.57194967e-11   9.57194967e-11]\n",
      " [  3.45000000e+01   5.05000000e+00   8.29000000e+00   8.29000000e+00\n",
      "    9.50248074e-11   9.82982445e-11   9.82982445e-11]\n",
      " [  3.30000000e+01   1.11800000e+01   1.09100000e+01   1.09100000e+01\n",
      "    9.41287048e-11   9.55602264e-11   9.55602264e-11]]\n"
     ]
    }
   ],
   "source": [
    "print optimize_1_data"
   ]
  },
  {
   "cell_type": "code",
   "execution_count": null,
   "metadata": {
    "collapsed": true
   },
   "outputs": [],
   "source": []
  }
 ],
 "metadata": {
  "kernelspec": {
   "display_name": "Python 2",
   "language": "python",
   "name": "python2"
  },
  "language_info": {
   "codemirror_mode": {
    "name": "ipython",
    "version": 2
   },
   "file_extension": ".py",
   "mimetype": "text/x-python",
   "name": "python",
   "nbconvert_exporter": "python",
   "pygments_lexer": "ipython2",
   "version": "2.7.11"
  }
 },
 "nbformat": 4,
 "nbformat_minor": 0
}
