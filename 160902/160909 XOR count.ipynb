{
 "cells": [
  {
   "cell_type": "code",
   "execution_count": 1,
   "metadata": {
    "collapsed": false
   },
   "outputs": [
    {
     "name": "stdout",
     "output_type": "stream",
     "text": [
      "Populating the interactive namespace from numpy and matplotlib\n"
     ]
    }
   ],
   "source": [
    "%pylab inline\n",
    "from __future__ import division\n",
    "import scipy as sp\n",
    "from scipy import stats\n",
    "from scipy.signal import argrelextrema\n",
    "from scipy.interpolate import interp1d\n",
    "import operator as op\n",
    "from decimal import *\n",
    "# import pickle\n",
    "from mpl_toolkits.mplot3d import Axes3D\n",
    "import mpld3\n",
    "# mpld3.enable_notebook()"
   ]
  },
  {
   "cell_type": "code",
   "execution_count": 103,
   "metadata": {
    "collapsed": true
   },
   "outputs": [],
   "source": [
    "%run ../cow.py\n",
    "%run ../optimize_pkg_2.py"
   ]
  },
  {
   "cell_type": "code",
   "execution_count": 3,
   "metadata": {
    "collapsed": true
   },
   "outputs": [],
   "source": [
    "filepath_down = \"../data_tables/hs_rs_downlink/n\"\n",
    "filepath_up = \"../data_tables/hs_rs_uplink/n\""
   ]
  },
  {
   "cell_type": "code",
   "execution_count": 4,
   "metadata": {
    "collapsed": true
   },
   "outputs": [],
   "source": [
    "def xor_analysis_count(N):    \n",
    "    count = 0\n",
    "    \n",
    "    for gc in range(0, N+1):\n",
    "        for ad in range(0, gc+1):\n",
    "            for ad_tilde in range(0, ad+1):\n",
    "                for ad_tilde_s in range(0, ad_tilde+1):\n",
    "                    for ad_hat_s in range(0, ad-ad_tilde+1):\n",
    "                        count += 1\n",
    "    return count"
   ]
  },
  {
   "cell_type": "code",
   "execution_count": 5,
   "metadata": {
    "collapsed": true
   },
   "outputs": [],
   "source": [
    "counts = zeros((1, 36))"
   ]
  },
  {
   "cell_type": "code",
   "execution_count": 6,
   "metadata": {
    "collapsed": false
   },
   "outputs": [
    {
     "name": "stdout",
     "output_type": "stream",
     "text": [
      "2 21.0\n",
      "3 56.0\n",
      "4 126.0\n",
      "5 252.0\n",
      "6 462.0\n",
      "7 792.0\n",
      "8 1287.0\n",
      "9 2002.0\n",
      "10 3003.0\n",
      "11 4368.0\n",
      "12 6188.0\n",
      "13 8568.0\n",
      "14 11628.0\n",
      "15 15504.0\n",
      "16 20349.0\n",
      "17 26334.0\n",
      "18 33649.0\n",
      "19 42504.0\n",
      "20 53130.0\n",
      "21 65780.0\n",
      "22 80730.0\n",
      "23 98280.0\n",
      "24 118755.0\n",
      "25 142506.0\n",
      "26 169911.0\n",
      "27 201376.0\n",
      "28 237336.0\n",
      "29 278256.0\n",
      "30 324632.0\n",
      "31 376992.0\n",
      "32 435897.0\n",
      "33 501942.0\n",
      "34 575757.0\n",
      "35 658008.0\n",
      "CPU times: user 687 ms, sys: 10.8 ms, total: 698 ms\n",
      "Wall time: 738 ms\n"
     ]
    }
   ],
   "source": [
    "%%time\n",
    "for N in range(2, 36):\n",
    "    counts[0,N] = xor_analysis_count(N)\n",
    "    print N, counts[0,N]"
   ]
  },
  {
   "cell_type": "code",
   "execution_count": 134,
   "metadata": {
    "collapsed": false
   },
   "outputs": [
    {
     "name": "stdout",
     "output_type": "stream",
     "text": [
      "[0, 0, 21, 56, 126, 252, 462, 792, 1287, 2002, 3003, 4368, 6188, 8568, 11628, 15504, 20349, 26334, 33649, 42504, 53130, 65780, 80730, 98280, 118755, 142506, 169911, 201376, 237336, 278256, 324632, 376992, 435897, 501942, 575757, 658008]\n"
     ]
    }
   ],
   "source": [
    "z = counts.tolist()[0]\n",
    "print [int(x) for x in z]"
   ]
  },
  {
   "cell_type": "code",
   "execution_count": 84,
   "metadata": {
    "collapsed": true
   },
   "outputs": [],
   "source": [
    "def xor_analysis_new(N, tSNR, rSNRdu, rSNR3, p_a1=10**(-9), p_a2=10**(-9), p_a3=10**(-9)):\n",
    "    if rSNRdu > tSNR: return 0\n",
    "    h_du = 10**((rSNRdu - tSNR)/10) # linear fade\n",
    "    h_xor = 10**((rSNR3 - tSNR)/10)\n",
    "    # Probability fade is bad\n",
    "    p_f1 = p_f2 = 1 - np.exp(-h_du)\n",
    "    p_f3 = 1 - np.exp(h_du-h_xor) if h_xor > h_du else 0\n",
    "\n",
    "    p_link_1 = p_f1 + (1 - p_f1) * p_a1\n",
    "    p_link_2 = p_f2 + (1 - p_f2) * p_a2\n",
    "    \n",
    "    test = []\n",
    "    \n",
    "    result = 0\n",
    "    rv_gc = binom(N, 1 - p_f1)\n",
    "    for gc in range(0, N+1):\n",
    "        rv_ad = binom(gc, 1 - p_a1)\n",
    "        for ad in range(0, gc+1):\n",
    "            rv_ad_tilde = binom(ad, 1 - p_a2)\n",
    "            bu = gc - ad\n",
    "            rv_bu = binom(ad, 1-p_link_2)\n",
    "            kad = np.arange(1, ad+1)\n",
    "            s_bu_tilde = (1 - p_f3) + p_f3 * np.dot(rv_bu.pmf(kad), 1-np.power(p_f3, kad)) if p_f3 else 1\n",
    "            # s_bu_tilde = (1 - p_f3) + p_f3 * sum([rv_bu.pmf(k) * (1 - p_f3**k) for k in range(1, ad+1)]) if p_f3 else 1\n",
    "            q_bu_tilde = (1 - s_bu_tilde) + s_bu_tilde * p_a3\n",
    "            for ad_tilde in range(0, ad+1):\n",
    "                rv_ad_tilde_s = binom(ad_tilde, 1 - p_f3)\n",
    "                rv_ad_hat_s = binom(ad - ad_tilde, 1 - p_f3)\n",
    "                # if p_f3 = 0 then ad_tilde_s should = ad_tilde because ad_tilde_i should be empty\n",
    "                for ad_tilde_s in range(0 if p_f3 else ad_tilde, ad_tilde+1):\n",
    "                    # ad_tilde already succeeded\n",
    "                    # if p_f3 = 0 then ad_hat_s should = ad - ad_tilde because ad_hat_i should be empty\n",
    "                    for ad_hat_s in range(0 if p_f3 else ad-ad_tilde, ad-ad_tilde+1):\n",
    "                        ad_s = ad_tilde_s + ad_hat_s\n",
    "                        ad_i = ad - ad_tilde_s - ad_hat_s # ad - ad_s\n",
    "                        rv_ads = binom(ad_s, 1 - p_link_2)\n",
    "                        rv_adi = binom(ad_i, 1 - p_link_2)\n",
    "                        q_ad_hat_s = p_a3\n",
    "                        q_ad_hat_i = p_link_2**ad_s + (1 - p_link_2)**ad_s * p_a3\n",
    "                        # This is the problem zone that doesn't support vectorization (?)\n",
    "                        ks, ki = np.arange(1, ad_s+1), np.arange(0, ad_i+1)\n",
    "                        f_e = p_link_2**ad_s + (np.dot(rv_ads.pmf(ks), np.power(p_f3, ks)) * np.dot(rv_adi.pmf(ki), np.power(p_f3, ki)) if p_f3 else 0)\n",
    "                        q_e = f_e + (1 - f_e) * (1 - (1 - p_a3)**2)\n",
    "                        rv_bu_tilde = binom(bu, 1 - p_a2)\n",
    "                        bu_tilde = np.arange(0, bu+1)\n",
    "                        log_pstates = np.log10(rv_gc.pmf(gc)) + np.log10(rv_ad.pmf(ad)) + np.log10(rv_ad_tilde.pmf(ad_tilde)) + np.log10(rv_ad_tilde_s.pmf(ad_tilde_s)) + np.log10(rv_ad_hat_s.pmf(ad_hat_s))\n",
    "                        bu_tilde_res = np.dot(rv_bu_tilde.pmf(bu_tilde), np.multiply(np.power(1 - q_e, N-ad-bu_tilde), np.power(1 - q_bu_tilde, bu_tilde)))\n",
    "                        res = 10**log_pstates * (1 - q_ad_hat_s)**ad_hat_s * (1 - q_ad_hat_i)**(ad - ad_tilde - ad_hat_s) * bu_tilde_res\n",
    "                        result += res\n",
    "                        # print res, result\n",
    "                        # print gc, ad, ad_tilde, ad_tilde_s, ad_hat_s, bu_tilde\n",
    "                        # print \"\\n\"\n",
    "                        test.append([gc, ad, ad_tilde, ad_tilde_s, ad_hat_s, res, log_pstates])\n",
    "                        if [gc, ad, ad_tilde, ad_tilde_s, ad_hat_s] == [3, 3, 2, 2, 1]:\n",
    "                            print [res, np.log10(rv_gc.pmf(gc)), np.log10(rv_ad.pmf(ad)) , np.log10(rv_ad_tilde.pmf(ad_tilde)) , np.log10(rv_ad_tilde_s.pmf(ad_tilde_s)) , np.log10(rv_ad_hat_s.pmf(ad_hat_s))]\n",
    "#                         test.append([res, np.log10(rv_gc.pmf(gc)), np.log10(rv_ad.pmf(ad)) , np.log10(rv_ad_tilde.pmf(ad_tilde)) , np.log10(rv_ad_tilde_s.pmf(ad_tilde_s)) , np.log10(rv_ad_hat_s.pmf(ad_hat_s))])\n",
    "    return result, matrix(test)"
   ]
  },
  {
   "cell_type": "code",
   "execution_count": 91,
   "metadata": {
    "collapsed": true
   },
   "outputs": [],
   "source": [
    "def xor_analysis_pruned(N, tSNR, rSNRdu, rSNR3, p_a1=10**(-9), p_a2=10**(-9), p_a3=10**(-9)):\n",
    "    if rSNRdu > tSNR: return 0\n",
    "    h_du = 10**((rSNRdu - tSNR)/10) # linear fade\n",
    "    h_xor = 10**((rSNR3 - tSNR)/10)\n",
    "    # Probability fade is bad\n",
    "    p_f1 = p_f2 = 1 - np.exp(-h_du)\n",
    "    p_f3 = 1 - np.exp(h_du-h_xor) if h_xor > h_du else 0\n",
    "\n",
    "    p_link_1 = p_f1 + (1 - p_f1) * p_a1\n",
    "    p_link_2 = p_f2 + (1 - p_f2) * p_a2\n",
    "    \n",
    "    test = []\n",
    "#     test2 = []\n",
    "    pstates_thresh = -14\n",
    "    \n",
    "    log_pstates = zeros((5,))\n",
    "    \n",
    "    result = 0\n",
    "    rv_gc = binom(N, 1 - p_f1)\n",
    "    for gc in range(0, N+1):\n",
    "        log_pstates[0] = np.log10(rv_gc.pmf(gc))\n",
    "        rv_ad = binom(gc, 1 - p_a1)\n",
    "        for ad in range(0, gc+1):\n",
    "            log_pstates[1] = np.log10(rv_ad.pmf(ad))\n",
    "            if sum(log_pstates) < pstates_thresh:\n",
    "                continue\n",
    "            rv_ad_tilde = binom(ad, 1 - p_a2)\n",
    "            bu = gc - ad\n",
    "            rv_bu = binom(ad, 1-p_link_2)\n",
    "            kad = np.arange(1, ad+1)\n",
    "            s_bu_tilde = (1 - p_f3) + p_f3 * np.dot(rv_bu.pmf(kad), 1-np.power(p_f3, kad)) if p_f3 else 1\n",
    "            # s_bu_tilde = (1 - p_f3) + p_f3 * sum([rv_bu.pmf(k) * (1 - p_f3**k) for k in range(1, ad+1)]) if p_f3 else 1\n",
    "            q_bu_tilde = (1 - s_bu_tilde) + s_bu_tilde * p_a3\n",
    "            for ad_tilde in range(0, ad+1):\n",
    "                log_pstates[2] = np.log10(rv_ad_tilde.pmf(ad_tilde))\n",
    "                if sum(log_pstates) < pstates_thresh:\n",
    "                    continue\n",
    "                rv_ad_tilde_s = binom(ad_tilde, 1 - p_f3)\n",
    "                rv_ad_hat_s = binom(ad - ad_tilde, 1 - p_f3)\n",
    "                # if p_f3 = 0 then ad_tilde_s should = ad_tilde because ad_tilde_i should be empty\n",
    "                for ad_tilde_s in range(0 if p_f3 else ad_tilde, ad_tilde+1):\n",
    "                    log_pstates[3] = np.log10(rv_ad_tilde_s.pmf(ad_tilde_s))\n",
    "                    if sum(log_pstates) < pstates_thresh:\n",
    "                        continue\n",
    "                    # ad_tilde already succeeded\n",
    "                    # if p_f3 = 0 then ad_hat_s should = ad - ad_tilde because ad_hat_i should be empty\n",
    "                    for ad_hat_s in range(0 if p_f3 else ad-ad_tilde, ad-ad_tilde+1):\n",
    "                        log_pstates[4] = np.log10(rv_ad_hat_s.pmf(ad_hat_s))\n",
    "#                         if [gc, ad, ad_tilde, ad_tilde_s, ad_hat_s] == [3, 3, 2, 2, 1]:\n",
    "#                             print log_pstates\n",
    "                        if sum(log_pstates) < pstates_thresh:\n",
    "                            continue\n",
    "                        ad_s = ad_tilde_s + ad_hat_s\n",
    "                        ad_i = ad - ad_tilde_s - ad_hat_s # ad - ad_s\n",
    "                        rv_ads = binom(ad_s, 1 - p_link_2)\n",
    "                        rv_adi = binom(ad_i, 1 - p_link_2)\n",
    "                        q_ad_hat_s = p_a3\n",
    "                        q_ad_hat_i = p_link_2**ad_s + (1 - p_link_2)**ad_s * p_a3\n",
    "                        # This is the problem zone that doesn't support vectorization (?)\n",
    "                        ks, ki = np.arange(1, ad_s+1), np.arange(0, ad_i+1)\n",
    "                        f_e = p_link_2**ad_s + (np.dot(rv_ads.pmf(ks), np.power(p_f3, ks)) * np.dot(rv_adi.pmf(ki), np.power(p_f3, ki)) if p_f3 else 0)\n",
    "                        q_e = f_e + (1 - f_e) * (1 - (1 - p_a3)**2)\n",
    "                        rv_bu_tilde = binom(bu, 1 - p_a2)\n",
    "                        bu_tilde = np.arange(0, bu+1)\n",
    "#                         log_pstates = np.log10(rv_gc.pmf(gc)) + np.log10(rv_ad.pmf(ad)) + np.log10(rv_ad_tilde.pmf(ad_tilde)) + np.log10(rv_ad_tilde_s.pmf(ad_tilde_s)) + np.log10(rv_ad_hat_s.pmf(ad_hat_s))\n",
    "                        bu_tilde_res = np.dot(rv_bu_tilde.pmf(bu_tilde), np.multiply(np.power(1 - q_e, N-ad-bu_tilde), np.power(1 - q_bu_tilde, bu_tilde)))\n",
    "                        res = 10**sum(log_pstates) * (1 - q_ad_hat_s)**ad_hat_s * (1 - q_ad_hat_i)**(ad - ad_tilde - ad_hat_s) * bu_tilde_res\n",
    "                        result += res\n",
    "                        # print res, result\n",
    "                        # print gc, ad, ad_tilde, ad_tilde_s, ad_hat_s, bu_tilde\n",
    "                        # print \"\\n\"\n",
    "                        test.append([gc, ad, ad_tilde, ad_tilde_s, ad_hat_s, res, sum(log_pstates)])\n",
    "#                         test.append([res, log_pstates, (1 - q_ad_hat_s)**ad_hat_s, (1 - q_ad_hat_i)**(ad - ad_tilde - ad_hat_s), bu_tilde_res])\n",
    "    return result, matrix(test)"
   ]
  },
  {
   "cell_type": "code",
   "execution_count": 85,
   "metadata": {
    "collapsed": false
   },
   "outputs": [
    {
     "name": "stdout",
     "output_type": "stream",
     "text": [
      "[2.923257648330359e-12, -2.0215862041918036, 0.0, -9.5124738948521923, -4.8533274045399815e-05, -2.426663702270604e-05]\n",
      "CPU times: user 475 ms, sys: 6.05 ms, total: 481 ms\n",
      "Wall time: 495 ms\n"
     ]
    },
    {
     "name": "stderr",
     "output_type": "stream",
     "text": [
      "/Users/leahdickstein/anaconda/lib/python2.7/site-packages/ipykernel/__main__.py:46: RuntimeWarning: divide by zero encountered in log10\n"
     ]
    }
   ],
   "source": [
    "%%time\n",
    "downbit = upbit = xorbit = 4*10**4/3\n",
    "N = 4\n",
    "\n",
    "downTable = load_table(filepath_down+str(N)+extension)\n",
    "downfunc = interp1d(downTable[0], downTable[1], kind='linear', bounds_error=False, fill_value=(1.0, 0.0))\n",
    "upTable = load_table(filepath_up+str(N)+extension)\n",
    "upfunc = interp1d(upTable[0], upTable[1], kind='linear', bounds_error=False, fill_value=(1.0, 0.0))\n",
    "\n",
    "xor_table = load_table(filepath_up+str(N)+extension)\n",
    "xor_func = interp1d(xor_table[0], xor_table[1], kind='linear', bounds_error=False, fill_value=(1.0, 0.0))\n",
    "\n",
    "tSNR = 26.9\n",
    "rSNRdu = 0.7\n",
    "rSNR3 = 0.8\n",
    "xor_opt, histdata = xor_analysis_new(N, tSNR, rSNRdu, rSNR3, downfunc(rSNRdu), upfunc(rSNRdu), xor_func(rSNR3))"
   ]
  },
  {
   "cell_type": "code",
   "execution_count": 49,
   "metadata": {
    "collapsed": false
   },
   "outputs": [
    {
     "name": "stdout",
     "output_type": "stream",
     "text": [
      "1.01895014648e-09\n"
     ]
    }
   ],
   "source": [
    "print 1 - xor_opt"
   ]
  },
  {
   "cell_type": "code",
   "execution_count": 50,
   "metadata": {
    "collapsed": false
   },
   "outputs": [
    {
     "name": "stdout",
     "output_type": "stream",
     "text": [
      "-17.011147402\n",
      "[[  0.00000000e+000  -1.04820832e+001   0.00000000e+000]\n",
      " [  0.00000000e+000  -7.26054420e+000              -inf]\n",
      " [ -0.00000000e+000  -7.26054420e+000   0.00000000e+000]\n",
      " [  5.58005125e-018  -7.26054420e+000   0.00000000e+000]\n",
      " [  0.00000000e+000  -7.26054420e+000   0.00000000e+000]\n",
      " [  5.44795282e-008  -7.26054420e+000   0.00000000e+000]\n",
      " [  0.00000000e+000  -4.46497394e+000              -inf]\n",
      " [ -0.00000000e+000  -4.46497394e+000              -inf]\n",
      " [  0.00000000e+000  -4.46497394e+000              -inf]\n",
      " [  0.00000000e+000  -4.46497394e+000              -inf]\n",
      " [  0.00000000e+000  -4.46497394e+000              -inf]\n",
      " [  0.00000000e+000  -4.46497394e+000   0.00000000e+000]\n",
      " [  3.98959784e-029  -4.46497394e+000   0.00000000e+000]\n",
      " [  3.59568804e-025  -4.46497394e+000   0.00000000e+000]\n",
      " [ -0.00000000e+000  -4.46497394e+000   0.00000000e+000]\n",
      " [  3.90450577e-019  -4.46497394e+000   0.00000000e+000]\n",
      " [  3.89515074e-019  -4.46497394e+000   0.00000000e+000]\n",
      " [  7.02113221e-015  -4.46497394e+000   0.00000000e+000]\n",
      " [  0.00000000e+000  -4.46497394e+000   0.00000000e+000]\n",
      " [  3.81207309e-009  -4.46497394e+000   0.00000000e+000]\n",
      " [  3.42745929e-005  -4.46497394e+000   0.00000000e+000]\n",
      " [  0.00000000e+000  -2.02158620e+000              -inf]\n",
      " [ -0.00000000e+000  -2.02158620e+000              -inf]\n",
      " [  0.00000000e+000  -2.02158620e+000              -inf]\n",
      " [  0.00000000e+000  -2.02158620e+000              -inf]\n",
      " [  0.00000000e+000  -2.02158620e+000              -inf]\n",
      " [  0.00000000e+000  -2.02158620e+000              -inf]\n",
      " [  0.00000000e+000  -2.02158620e+000              -inf]\n",
      " [  0.00000000e+000  -2.02158620e+000              -inf]\n",
      " [ -0.00000000e+000  -2.02158620e+000              -inf]\n",
      " [  0.00000000e+000  -2.02158620e+000              -inf]\n",
      " [  0.00000000e+000  -2.02158620e+000              -inf]\n",
      " [  0.00000000e+000  -2.02158620e+000              -inf]\n",
      " [  0.00000000e+000  -2.02158620e+000              -inf]\n",
      " [  0.00000000e+000  -2.02158620e+000              -inf]\n",
      " [  0.00000000e+000  -2.02158620e+000              -inf]\n",
      " [ -0.00000000e+000  -2.02158620e+000   0.00000000e+000]\n",
      " [  9.50662219e-041  -2.02158620e+000   0.00000000e+000]\n",
      " [  1.71359913e-036  -2.02158620e+000   0.00000000e+000]\n",
      " [  1.02224629e-032  -2.02158620e+000   0.00000000e+000]\n",
      " [  0.00000000e+000  -2.02158620e+000   0.00000000e+000]\n",
      " [  1.86077207e-030  -2.02158620e+000   0.00000000e+000]\n",
      " [  1.67304212e-026  -2.02158620e+000   0.00000000e+000]\n",
      " [  9.28156871e-031  -2.02158620e+000   0.00000000e+000]\n",
      " [  3.34606503e-026  -2.02158620e+000   0.00000000e+000]\n",
      " [  2.99413891e-022  -2.02158620e+000   0.00000000e+000]\n",
      " [ -0.00000000e+000  -2.02158620e+000   0.00000000e+000]\n",
      " [  9.10542315e-021  -2.02158620e+000   0.00000000e+000]\n",
      " [  1.81672139e-020  -2.02158620e+000   0.00000000e+000]\n",
      " [  3.26687125e-016  -2.02158620e+000   0.00000000e+000]\n",
      " [  1.63342625e-016  -2.02158620e+000   0.00000000e+000]\n",
      " [  2.92325765e-012  -2.02158620e+000   0.00000000e+000]\n",
      " [  0.00000000e+000  -2.02158620e+000   0.00000000e+000]\n",
      " [  8.88986739e-011  -2.02158620e+000   0.00000000e+000]\n",
      " [  1.59476675e-006  -2.02158620e+000   0.00000000e+000]\n",
      " [  9.51351461e-003  -2.02158620e+000   0.00000000e+000]\n",
      " [  0.00000000e+000  -4.16719960e-003              -inf]\n",
      " [ -0.00000000e+000  -4.16719960e-003              -inf]\n",
      " [  0.00000000e+000  -4.16719960e-003              -inf]\n",
      " [  0.00000000e+000  -4.16719960e-003              -inf]\n",
      " [  0.00000000e+000  -4.16719960e-003              -inf]\n",
      " [  0.00000000e+000  -4.16719960e-003              -inf]\n",
      " [  0.00000000e+000  -4.16719960e-003              -inf]\n",
      " [  0.00000000e+000  -4.16719960e-003              -inf]\n",
      " [ -0.00000000e+000  -4.16719960e-003              -inf]\n",
      " [  0.00000000e+000  -4.16719960e-003              -inf]\n",
      " [  0.00000000e+000  -4.16719960e-003              -inf]\n",
      " [  0.00000000e+000  -4.16719960e-003              -inf]\n",
      " [  0.00000000e+000  -4.16719960e-003              -inf]\n",
      " [  0.00000000e+000  -4.16719960e-003              -inf]\n",
      " [  0.00000000e+000  -4.16719960e-003              -inf]\n",
      " [ -0.00000000e+000  -4.16719960e-003              -inf]\n",
      " [  0.00000000e+000  -4.16719960e-003              -inf]\n",
      " [  0.00000000e+000  -4.16719960e-003              -inf]\n",
      " [  0.00000000e+000  -4.16719960e-003              -inf]\n",
      " [  0.00000000e+000  -4.16719960e-003              -inf]\n",
      " [  0.00000000e+000  -4.16719960e-003              -inf]\n",
      " [  0.00000000e+000  -4.16719960e-003              -inf]\n",
      " [  0.00000000e+000  -4.16719960e-003              -inf]\n",
      " [  0.00000000e+000  -4.16719960e-003              -inf]\n",
      " [  0.00000000e+000  -4.16719960e-003              -inf]\n",
      " [ -0.00000000e+000  -4.16719960e-003              -inf]\n",
      " [  0.00000000e+000  -4.16719960e-003              -inf]\n",
      " [  0.00000000e+000  -4.16719960e-003              -inf]\n",
      " [  0.00000000e+000  -4.16719960e-003              -inf]\n",
      " [  0.00000000e+000  -4.16719960e-003              -inf]\n",
      " [  0.00000000e+000  -4.16719960e-003              -inf]\n",
      " [  0.00000000e+000  -4.16719960e-003              -inf]\n",
      " [  0.00000000e+000  -4.16719960e-003              -inf]\n",
      " [  0.00000000e+000  -4.16719960e-003              -inf]\n",
      " [  0.00000000e+000  -4.16719960e-003              -inf]\n",
      " [  1.31828726e-101  -4.16719960e-003   0.00000000e+000]\n",
      " [  7.55095663e-053  -4.16719960e-003   0.00000000e+000]\n",
      " [  2.04162621e-048  -4.16719960e-003   0.00000000e+000]\n",
      " [  2.43586120e-044  -4.16719960e-003   0.00000000e+000]\n",
      " [  1.08982091e-040  -4.16719960e-003   0.00000000e+000]\n",
      " [ -4.87796728e-080  -4.16719960e-003   0.00000000e+000]\n",
      " [  2.21697186e-042  -4.16719960e-003   0.00000000e+000]\n",
      " [  3.98661109e-038  -4.16719960e-003   0.00000000e+000]\n",
      " [  2.37819627e-034  -4.16719960e-003   0.00000000e+000]\n",
      " [  7.37220028e-043  -4.16719960e-003   0.00000000e+000]\n",
      " [  3.98658820e-038  -4.16719960e-003   0.00000000e+000]\n",
      " [  7.13458870e-034  -4.16719960e-003   0.00000000e+000]\n",
      " [  4.25608484e-030  -4.16719960e-003   0.00000000e+000]\n",
      " [  6.76860199e-059  -4.16719960e-003   0.00000000e+000]\n",
      " [  2.16968721e-032  -4.16719960e-003   0.00000000e+000]\n",
      " [  1.94612852e-028  -4.16719960e-003   0.00000000e+000]\n",
      " [  2.16448873e-032  -4.16719960e-003   0.00000000e+000]\n",
      " [  7.78446940e-028  -4.16719960e-003   0.00000000e+000]\n",
      " [  6.96568927e-024  -4.16719960e-003   0.00000000e+000]\n",
      " [  1.94610618e-028  -4.16719960e-003   0.00000000e+000]\n",
      " [  6.96568917e-024  -4.16719960e-003   0.00000000e+000]\n",
      " [  6.23299366e-020  -4.16719960e-003   0.00000000e+000]\n",
      " [ -4.17423172e-038  -4.16719960e-003   0.00000000e+000]\n",
      " [  7.07803693e-023  -4.16719960e-003   0.00000000e+000]\n",
      " [  2.11832347e-022  -4.16719960e-003   0.00000000e+000]\n",
      " [  3.80011433e-018  -4.16719960e-003   0.00000000e+000]\n",
      " [  3.80009251e-018  -4.16719960e-003   0.00000000e+000]\n",
      " [  6.80078815e-014  -4.16719960e-003   0.00000000e+000]\n",
      " [  2.26692935e-014  -4.16719960e-003   0.00000000e+000]\n",
      " [  4.05695860e-010  -4.16719960e-003   0.00000000e+000]\n",
      " [  9.65351328e-018  -4.16719960e-003   0.00000000e+000]\n",
      " [  6.91047617e-013  -4.16719960e-003   0.00000000e+000]\n",
      " [  1.85507647e-008  -4.16719960e-003   0.00000000e+000]\n",
      " [  2.21326360e-004  -4.16719960e-003   0.00000000e+000]\n",
      " [  9.90229211e-001  -4.16719960e-003   0.00000000e+000]]\n"
     ]
    }
   ],
   "source": [
    "histdata=matrix(histdata)\n",
    "print np.amin(histdata[:,-1])\n",
    "# print np.amax(histdata[:,0])\n",
    "print histdata[:,0:3]"
   ]
  },
  {
   "cell_type": "code",
   "execution_count": 70,
   "metadata": {
    "collapsed": false
   },
   "outputs": [
    {
     "name": "stdout",
     "output_type": "stream",
     "text": [
      "[  5  19  20  51  53  54  55 118 119 120 122 123 124 125]\n",
      "14\n",
      "[[  1.00000000e+00   1.00000000e+00   1.00000000e+00   1.00000000e+00\n",
      "    0.00000000e+00   5.44795282e-08  -7.26056846e+00]\n",
      " [  2.00000000e+00   2.00000000e+00   2.00000000e+00   1.00000000e+00\n",
      "    0.00000000e+00   3.81207309e-09  -8.41675506e+00]\n",
      " [  2.00000000e+00   2.00000000e+00   2.00000000e+00   2.00000000e+00\n",
      "    0.00000000e+00   3.42745929e-05  -4.46502247e+00]\n",
      " [  3.00000000e+00   3.00000000e+00   2.00000000e+00   2.00000000e+00\n",
      "    1.00000000e+00   2.92325765e-12  -1.15341329e+01]\n",
      " [  3.00000000e+00   3.00000000e+00   3.00000000e+00   1.00000000e+00\n",
      "    0.00000000e+00   8.88986739e-11  -1.00500629e+01]\n",
      " [  3.00000000e+00   3.00000000e+00   3.00000000e+00   2.00000000e+00\n",
      "    0.00000000e+00   1.59476675e-06  -5.79730033e+00]\n",
      " [  3.00000000e+00   3.00000000e+00   3.00000000e+00   3.00000000e+00\n",
      "    0.00000000e+00   9.51351461e-03  -2.02165900e+00]\n",
      " [  4.00000000e+00   4.00000000e+00   3.00000000e+00   2.00000000e+00\n",
      "    1.00000000e+00   6.80078815e-14  -1.31674408e+01]\n",
      " [  4.00000000e+00   4.00000000e+00   3.00000000e+00   3.00000000e+00\n",
      "    0.00000000e+00   2.26692935e-14  -1.36445620e+01]\n",
      " [  4.00000000e+00   4.00000000e+00   3.00000000e+00   3.00000000e+00\n",
      "    1.00000000e+00   4.05695860e-10  -9.39179942e+00]\n",
      " [  4.00000000e+00   4.00000000e+00   4.00000000e+00   1.00000000e+00\n",
      "    0.00000000e+00   6.91047617e-13  -1.21604920e+01]\n",
      " [  4.00000000e+00   4.00000000e+00   4.00000000e+00   2.00000000e+00\n",
      "    0.00000000e+00   1.85507647e-08  -7.73163818e+00]\n",
      " [  4.00000000e+00   4.00000000e+00   4.00000000e+00   3.00000000e+00\n",
      "    0.00000000e+00   2.21326360e-04  -3.65496686e+00]\n",
      " [  4.00000000e+00   4.00000000e+00   4.00000000e+00   4.00000000e+00\n",
      "    0.00000000e+00   9.90229211e-01  -4.26426632e-03]]\n"
     ]
    }
   ],
   "source": [
    "print np.where(histdata[:,-2] > 10**(-14))[0]\n",
    "print len(np.where(histdata[:,-2] > 10**(-14))[0])\n",
    "print histdata[np.where(histdata[:,-2] > 10**(-14))[0],:]\n",
    "# print np.amin(histdata[np.where(histdata[:,-2] > 10**(-14))[0],-1])"
   ]
  },
  {
   "cell_type": "code",
   "execution_count": 15,
   "metadata": {
    "collapsed": false
   },
   "outputs": [
    {
     "name": "stdout",
     "output_type": "stream",
     "text": [
      "-7.26056846271\n"
     ]
    }
   ],
   "source": [
    "print histdata[5,-1]"
   ]
  },
  {
   "cell_type": "code",
   "execution_count": 92,
   "metadata": {
    "collapsed": false
   },
   "outputs": [
    {
     "name": "stdout",
     "output_type": "stream",
     "text": [
      "CPU times: user 110 ms, sys: 1.86 ms, total: 112 ms\n",
      "Wall time: 112 ms\n"
     ]
    },
    {
     "name": "stderr",
     "output_type": "stream",
     "text": [
      "/Users/leahdickstein/anaconda/lib/python2.7/site-packages/ipykernel/__main__.py:24: RuntimeWarning: divide by zero encountered in log10\n"
     ]
    }
   ],
   "source": [
    "%%time\n",
    "downbit = upbit = xorbit = 4*10**4/3\n",
    "N = 4\n",
    "\n",
    "downTable = load_table(filepath_down+str(N)+extension)\n",
    "downfunc = interp1d(downTable[0], downTable[1], kind='linear', bounds_error=False, fill_value=(1.0, 0.0))\n",
    "upTable = load_table(filepath_up+str(N)+extension)\n",
    "upfunc = interp1d(upTable[0], upTable[1], kind='linear', bounds_error=False, fill_value=(1.0, 0.0))\n",
    "\n",
    "xor_table = load_table(filepath_up+str(N)+extension)\n",
    "xor_func = interp1d(xor_table[0], xor_table[1], kind='linear', bounds_error=False, fill_value=(1.0, 0.0))\n",
    "\n",
    "tSNR = 27\n",
    "rSNRdu = 0.7\n",
    "rSNR3 = 0.8\n",
    "xor_opt, histdata = xor_analysis_pruned(N, tSNR, rSNRdu, rSNR3, downfunc(rSNRdu), upfunc(rSNRdu), xor_func(rSNR3))"
   ]
  },
  {
   "cell_type": "code",
   "execution_count": 94,
   "metadata": {
    "collapsed": false
   },
   "outputs": [
    {
     "name": "stdout",
     "output_type": "stream",
     "text": [
      "9.29523902293e-10\n",
      "(17, 7)\n",
      "[[  0.00000000e+00   0.00000000e+00   0.00000000e+00   0.00000000e+00\n",
      "    0.00000000e+00   0.00000000e+00  -1.05220358e+01]\n",
      " [  1.00000000e+00   1.00000000e+00   1.00000000e+00   0.00000000e+00\n",
      "    0.00000000e+00   0.00000000e+00  -1.15532715e+01]\n",
      " [  1.00000000e+00   1.00000000e+00   1.00000000e+00   1.00000000e+00\n",
      "    0.00000000e+00   5.08587827e-08  -7.29050864e+00]\n",
      " [  2.00000000e+00   2.00000000e+00   2.00000000e+00   0.00000000e+00\n",
      "    0.00000000e+00   0.00000000e+00  -1.30104760e+01]\n",
      " [  2.00000000e+00   2.00000000e+00   2.00000000e+00   1.00000000e+00\n",
      "    0.00000000e+00   3.55861180e-09  -8.44668310e+00]\n",
      " [  2.00000000e+00   2.00000000e+00   2.00000000e+00   2.00000000e+00\n",
      "    0.00000000e+00   3.27374447e-05  -4.48495024e+00]\n",
      " [  3.00000000e+00   3.00000000e+00   2.00000000e+00   2.00000000e+00\n",
      "    1.00000000e+00   2.85727307e-12  -1.15440482e+01]\n",
      " [  3.00000000e+00   3.00000000e+00   3.00000000e+00   1.00000000e+00\n",
      "    0.00000000e+00   8.29856685e-11  -1.00799788e+01]\n",
      " [  3.00000000e+00   3.00000000e+00   3.00000000e+00   2.00000000e+00\n",
      "    0.00000000e+00   1.52328674e-06  -5.81721596e+00]\n",
      " [  3.00000000e+00   3.00000000e+00   3.00000000e+00   3.00000000e+00\n",
      "    0.00000000e+00   9.29877292e-03  -2.03157435e+00]\n",
      " [  4.00000000e+00   4.00000000e+00   3.00000000e+00   2.00000000e+00\n",
      "    1.00000000e+00   6.64746465e-14  -1.31773440e+01]\n",
      " [  4.00000000e+00   4.00000000e+00   3.00000000e+00   3.00000000e+00\n",
      "    0.00000000e+00   2.21582152e-14  -1.36544652e+01]\n",
      " [  4.00000000e+00   4.00000000e+00   3.00000000e+00   3.00000000e+00\n",
      "    1.00000000e+00   4.05786544e-10  -9.39170236e+00]\n",
      " [  4.00000000e+00   4.00000000e+00   4.00000000e+00   1.00000000e+00\n",
      "    0.00000000e+00   6.45066089e-13  -1.21903958e+01]\n",
      " [  4.00000000e+00   4.00000000e+00   4.00000000e+00   2.00000000e+00\n",
      "    0.00000000e+00   1.77197802e-08  -7.75154167e+00]\n",
      " [  4.00000000e+00   4.00000000e+00   4.00000000e+00   3.00000000e+00\n",
      "    0.00000000e+00   2.16336566e-04  -3.66487007e+00]\n",
      " [  4.00000000e+00   4.00000000e+00   4.00000000e+00   4.00000000e+00\n",
      "    0.00000000e+00   9.90450556e-01  -4.16719978e-03]]\n"
     ]
    }
   ],
   "source": [
    "histdata = matrix(histdata)\n",
    "print 1 - xor_opt\n",
    "print shape(histdata)\n",
    "# print np.amin(histdata[:,1])\n",
    "print histdata"
   ]
  },
  {
   "cell_type": "code",
   "execution_count": 93,
   "metadata": {
    "collapsed": false
   },
   "outputs": [
    {
     "name": "stdout",
     "output_type": "stream",
     "text": [
      "[[ 1.  1.  1.  1.  0.]\n",
      " [ 2.  2.  2.  1.  0.]\n",
      " [ 2.  2.  2.  2.  0.]\n",
      " [ 3.  3.  2.  2.  1.]\n",
      " [ 3.  3.  3.  1.  0.]\n",
      " [ 3.  3.  3.  2.  0.]\n",
      " [ 3.  3.  3.  3.  0.]\n",
      " [ 4.  4.  3.  2.  1.]\n",
      " [ 4.  4.  3.  3.  0.]\n",
      " [ 4.  4.  3.  3.  1.]\n",
      " [ 4.  4.  4.  1.  0.]\n",
      " [ 4.  4.  4.  2.  0.]\n",
      " [ 4.  4.  4.  3.  0.]\n",
      " [ 4.  4.  4.  4.  0.]]\n"
     ]
    }
   ],
   "source": [
    "# Pruned\n",
    "# print histdata[:,0:5]\n",
    "print histdata[np.where(histdata[:,-2] > 10**(-14))[0],0:5]"
   ]
  },
  {
   "cell_type": "code",
   "execution_count": 68,
   "metadata": {
    "collapsed": false
   },
   "outputs": [
    {
     "name": "stdout",
     "output_type": "stream",
     "text": [
      "[[ 1.  1.  1.  1.  0.]\n",
      " [ 2.  2.  2.  1.  0.]\n",
      " [ 2.  2.  2.  2.  0.]\n",
      " [ 3.  3.  2.  2.  1.]\n",
      " [ 3.  3.  3.  1.  0.]\n",
      " [ 3.  3.  3.  2.  0.]\n",
      " [ 3.  3.  3.  3.  0.]\n",
      " [ 4.  4.  3.  2.  1.]\n",
      " [ 4.  4.  3.  3.  0.]\n",
      " [ 4.  4.  3.  3.  1.]\n",
      " [ 4.  4.  4.  1.  0.]\n",
      " [ 4.  4.  4.  2.  0.]\n",
      " [ 4.  4.  4.  3.  0.]\n",
      " [ 4.  4.  4.  4.  0.]]\n"
     ]
    }
   ],
   "source": [
    "# Control \n",
    "print histdata[np.where(histdata[:,-2] > 10**(-14))[0],0:5]\n",
    "\n",
    "# matches!!"
   ]
  },
  {
   "cell_type": "code",
   "execution_count": 114,
   "metadata": {
    "collapsed": false
   },
   "outputs": [
    {
     "name": "stdout",
     "output_type": "stream",
     "text": [
      "9.44130551517e-10\n"
     ]
    }
   ],
   "source": [
    "print 1 - xor_opt"
   ]
  },
  {
   "cell_type": "code",
   "execution_count": 105,
   "metadata": {
    "collapsed": false
   },
   "outputs": [
    {
     "name": "stdout",
     "output_type": "stream",
     "text": [
      "CPU times: user 304 ms, sys: 2.39 ms, total: 306 ms\n",
      "Wall time: 309 ms\n"
     ]
    }
   ],
   "source": [
    "%%time\n",
    "%run ../optimize_pkg_2.py\n",
    "downbit = upbit = xorbit = 4*10**4/3\n",
    "N = 5\n",
    "\n",
    "downTable = load_table(filepath_down+str(N)+extension)\n",
    "downfunc = interp1d(downTable[0], downTable[1], kind='linear', bounds_error=False, fill_value=(1.0, 0.0))\n",
    "upTable = load_table(filepath_up+str(N)+extension)\n",
    "upfunc = interp1d(upTable[0], upTable[1], kind='linear', bounds_error=False, fill_value=(1.0, 0.0))\n",
    "\n",
    "xor_table = load_table(filepath_up+str(N)+extension)\n",
    "xor_func = interp1d(xor_table[0], xor_table[1], kind='linear', bounds_error=False, fill_value=(1.0, 0.0))\n",
    "\n",
    "tSNR = 23\n",
    "rSNRdu = 0\n",
    "rSNR3 = 1\n",
    "xor_opt = xor_analysis_pruned(N, tSNR, rSNRdu, rSNR3, downfunc(rSNRdu), upfunc(rSNRdu), xor_func(rSNR3))"
   ]
  },
  {
   "cell_type": "code",
   "execution_count": 121,
   "metadata": {
    "collapsed": false
   },
   "outputs": [
    {
     "name": "stderr",
     "output_type": "stream",
     "text": [
      "<string>:181: RuntimeWarning: divide by zero encountered in log10\n",
      "<string>:192: RuntimeWarning: divide by zero encountered in log10\n"
     ]
    },
    {
     "name": "stdout",
     "output_type": "stream",
     "text": [
      "(22.600000000000001, 0.0, 0.89999999999999991, array(3.569272834933721e-14), array(0.0005035279292351958), array(1.0873919099203486e-09))\n",
      "CPU times: user 20min 1s, sys: 5.29 s, total: 20min 6s\n",
      "Wall time: 30min 25s\n"
     ]
    }
   ],
   "source": [
    "%%time\n",
    "%run ../optimize_pkg_2.py\n",
    "N = 5\n",
    "tSNR_start = 22.5\n",
    "rSNR_start = 0\n",
    "rSNR3_start = 0.5\n",
    "\n",
    "protocol_target = 10**(-9)\n",
    "protocolbit = 4*10**4\n",
    "\n",
    "precision = -1\n",
    "d_rSNR = 0.1\n",
    "\n",
    "filepath_down = \"../data_tables/hs_rs_downlink/n\"\n",
    "filepath_up = \"../data_tables/hs_rs_uplink/n\"\n",
    "\n",
    "tx_SNR_range = np.arange(tSNR_start, 50, 0.1)\n",
    "result = optimize_3(N, rSNR_start, rSNR3_start, tx_SNR_range, filepath_down, filepath_up, protocolbit, d_rSNR, precision)\n",
    "print result"
   ]
  },
  {
   "cell_type": "code",
   "execution_count": 115,
   "metadata": {
    "collapsed": false
   },
   "outputs": [
    {
     "name": "stdout",
     "output_type": "stream",
     "text": [
      "Hi\n",
      "5 [ nan  nan  nan  nan  nan  nan]\n",
      "CPU times: user 38.4 ms, sys: 5.76 ms, total: 44.1 ms\n",
      "Wall time: 54.3 ms\n"
     ]
    }
   ],
   "source": [
    "%%time\n",
    "%run ../optimize_pkg_2.py\n",
    "optimize_3_data_2 = zeros((5, 6))\n",
    "# tx_SNR_range = arange(30, 70, 1)\n",
    "tx_SNR_range = np.arange(tSNR_start, 50, 1)\n",
    "rx_SNR_start = 1\n",
    "# tx_SNR_range = arange(32, 60, 0.01)\n",
    "for N in [5]:\n",
    "    optimize_3_data_2[N-1] = optimize_3(N, rSNR_start, rSNR3_start, tx_SNR_range, filepath_down, filepath_up, protocolbit, d_rSNR, precision)\n",
    "    print N, optimize_3_data_2[N-1]"
   ]
  },
  {
   "cell_type": "code",
   "execution_count": 128,
   "metadata": {
    "collapsed": false
   },
   "outputs": [
    {
     "name": "stdout",
     "output_type": "stream",
     "text": [
      "(22.520000000000003, 0.10000000000000001, 0.90000000000000002, array(1.916959323832033e-16), array(0.00016973866892785626), array(1.0873919099203466e-09))\n",
      "CPU times: user 1min 59s, sys: 1.14 s, total: 2min\n",
      "Wall time: 2min 7s\n"
     ]
    },
    {
     "name": "stderr",
     "output_type": "stream",
     "text": [
      "<string>:181: RuntimeWarning: divide by zero encountered in log10\n"
     ]
    }
   ],
   "source": [
    "%%time\n",
    "%run ../optimize_pkg_2.py\n",
    "# new version with early break\n",
    "N = 5\n",
    "tSNR_start = 22.5\n",
    "rSNRdu_start = -0.1\n",
    "rSNR3_start = 0.8\n",
    "\n",
    "protocol_target = 10**(-9)\n",
    "protocolbit = 4*10**4\n",
    "\n",
    "precision = -2\n",
    "d_rSNR = 0.1\n",
    "\n",
    "filepath_down = \"../data_tables/hs_rs_downlink/n\"\n",
    "filepath_up = \"../data_tables/hs_rs_uplink/n\"\n",
    "\n",
    "tx_SNR_range = np.arange(tSNR_start, 50, 0.01)\n",
    "result = optimize_3(N, rSNRdu_start, rSNR3_start, tx_SNR_range, filepath_down, filepath_up, protocolbit, d_rSNR, precision)\n",
    "print result"
   ]
  },
  {
   "cell_type": "code",
   "execution_count": 127,
   "metadata": {
    "collapsed": false
   },
   "outputs": [
    {
     "name": "stdout",
     "output_type": "stream",
     "text": [
      "(22.510000000000002, 0.1099999999999999, 0.90000000000000013, array(1.1087336607542678e-16), array(0.000151523847246746), array(1.0873919099203445e-09))\n",
      "CPU times: user 15min 13s, sys: 4.33 s, total: 15min 17s\n",
      "Wall time: 15min 33s\n"
     ]
    },
    {
     "name": "stderr",
     "output_type": "stream",
     "text": [
      "<string>:181: RuntimeWarning: divide by zero encountered in log10\n"
     ]
    }
   ],
   "source": [
    "%%time\n",
    "%run ../optimize_pkg_2.py\n",
    "# new version with early break\n",
    "N = 5\n",
    "tSNR_start = 22.5\n",
    "rSNRdu_start = -0.1\n",
    "rSNR3_start = 0.8\n",
    "\n",
    "protocol_target = 10**(-9)\n",
    "protocolbit = 4*10**4\n",
    "\n",
    "precision = -2\n",
    "d_rSNR = 0.01\n",
    "\n",
    "filepath_down = \"../data_tables/hs_rs_downlink/n\"\n",
    "filepath_up = \"../data_tables/hs_rs_uplink/n\"\n",
    "\n",
    "tx_SNR_range = np.arange(tSNR_start, 50, 0.01)\n",
    "result = optimize_3(N, rSNRdu_start, rSNR3_start, tx_SNR_range, filepath_down, filepath_up, protocolbit, d_rSNR, precision)\n",
    "print result"
   ]
  },
  {
   "cell_type": "code",
   "execution_count": null,
   "metadata": {
    "collapsed": true
   },
   "outputs": [],
   "source": []
  }
 ],
 "metadata": {
  "kernelspec": {
   "display_name": "Python 2",
   "language": "python",
   "name": "python2"
  },
  "language_info": {
   "codemirror_mode": {
    "name": "ipython",
    "version": 2
   },
   "file_extension": ".py",
   "mimetype": "text/x-python",
   "name": "python",
   "nbconvert_exporter": "python",
   "pygments_lexer": "ipython2",
   "version": "2.7.11"
  }
 },
 "nbformat": 4,
 "nbformat_minor": 0
}
